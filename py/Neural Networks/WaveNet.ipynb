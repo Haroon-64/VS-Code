{
 "cells": [
  {
   "cell_type": "code",
   "execution_count": 130,
   "metadata": {},
   "outputs": [],
   "source": [
    "import torch\n",
    "import torch.nn.functional as F\n",
    "import matplotlib.pyplot as plt\n",
    "import random"
   ]
  },
  {
   "cell_type": "code",
   "execution_count": 131,
   "metadata": {},
   "outputs": [
    {
     "name": "stdout",
     "output_type": "stream",
     "text": [
      "torch.Size([182625, 8]) torch.Size([182625])\n",
      "torch.Size([22655, 8]) torch.Size([22655])\n",
      "torch.Size([22866, 8]) torch.Size([22866])\n"
     ]
    }
   ],
   "source": [
    "words = open('names.txt','r').read().split('\\n')\n",
    "chars = sorted(list(set(''.join(words))))\n",
    "S_I = {c:i+1 for i,c in enumerate(chars)}\n",
    "S_I['.'] = 0\n",
    "I_S = {i:c for c,i in S_I.items()}\n",
    "\n",
    "block_size = 8  # context size\n",
    "vocab_size = len(S_I)\n",
    "def build_dataset(words):\n",
    "    # build the dataset\n",
    "   \n",
    "\n",
    "    X,Y = [],[] \n",
    "    for word in words:\n",
    "        context = [0] * block_size\n",
    "        for ch in word + '.':\n",
    "            ix = S_I[ch]\n",
    "            X.append(context)\n",
    "            Y.append(ix)\n",
    "            context = context[1:] + [ix]\n",
    "\n",
    "    X = torch.Tensor(X).long()\n",
    "    Y = torch.Tensor(Y).long()\n",
    "    print(X.shape,Y.shape)\n",
    "    return X,Y\n",
    "\n",
    "# split into train val and test\n",
    "random.seed(42)\n",
    "random.shuffle(words)\n",
    "\n",
    "n1 = int(len(words)*0.8)\n",
    "n2 = int(len(words)*0.9)\n",
    "\n",
    "X_train,Y_train = build_dataset(words[:n1]) \n",
    "X_val,Y_val = build_dataset(words[n1:n2]) \n",
    "X_test,Y_test = build_dataset(words[n2:])   "
   ]
  },
  {
   "cell_type": "code",
   "execution_count": 132,
   "metadata": {},
   "outputs": [],
   "source": [
    "class Linear:\n",
    "\n",
    "  def __init__(self, fan_in, fan_out, bias=True):\n",
    "    self.weight = torch.randn((fan_in, fan_out)) / fan_in**0.5\n",
    "    self.bias = torch.zeros(fan_out) if bias else None\n",
    "\n",
    "  def __call__(self, x):\n",
    "    self.out = x @ self.weight\n",
    "    if self.bias is not None:\n",
    "      self.out += self.bias\n",
    "    return self.out\n",
    "\n",
    "  def parameters(self):\n",
    "    return [self.weight] + ([] if self.bias is None else [self.bias])\n",
    "\n",
    "\n",
    "class BatchNorm1d:\n",
    "\n",
    "  def __init__(self, dim, eps=1e-5, momentum=0.1):\n",
    "    self.eps = eps\n",
    "    self.momentum = momentum\n",
    "    self.training = True\n",
    "    self.gamma = torch.ones(dim)\n",
    "    self.beta = torch.zeros(dim)\n",
    "\n",
    "    self.running_mean = torch.zeros(dim)\n",
    "    self.running_var = torch.ones(dim)\n",
    "\n",
    "  def __call__(self, x):\n",
    "    # calculate the forward pass\n",
    "    if self.training:\n",
    "      if x.ndim==2:\n",
    "        dims = 0\n",
    "      elif x.ndim==3:\n",
    "        dims = (0,1)\n",
    "        \n",
    "      xmean = x.mean(dims, keepdim=True) # batch mean         # 0,1 to account for 3rd dimension  # mean for both dimensions\n",
    "      xvar = x.var(dims, keepdim=True) # batch variance\n",
    "    else:\n",
    "      xmean = self.running_mean\n",
    "      xvar = self.running_var\n",
    "    xhat = (x - xmean) / torch.sqrt(xvar + self.eps) # normalize to unit variance\n",
    "    self.out = self.gamma * xhat + self.beta\n",
    "    # update the buffers\n",
    "    if self.training:\n",
    "      with torch.no_grad():\n",
    "        self.running_mean = (1 - self.momentum) * self.running_mean + self.momentum * xmean\n",
    "        self.running_var = (1 - self.momentum) * self.running_var + self.momentum * xvar\n",
    "    return self.out\n",
    "\n",
    "  def parameters(self):\n",
    "    return [self.gamma, self.beta]\n",
    "\n",
    "\n",
    "class Tanh:\n",
    "    \n",
    "  def __call__(self, x):\n",
    "    self.out = torch.tanh(x)\n",
    "    return self.out\n",
    "\n",
    "  def parameters(self):\n",
    "    return []\n",
    "  \n",
    "\n",
    "# modules for embeddings\n",
    "class Embedding:\n",
    "  \n",
    "  def __init__(self, num_emb, emb_dim):\n",
    "    self.weight = torch.randn((num_emb, emb_dim))\n",
    "    \n",
    "  def __call__(self, IX):\n",
    "    self.out = self.weight[IX]\n",
    "    return self.out\n",
    "  \n",
    "  def parameters(self):\n",
    "    return [self.weight]\n",
    "  \n",
    "\n",
    "class FlattenConsecutive:\n",
    "  \n",
    "    def __init__(self,n):\n",
    "      self.n = n  \n",
    "    \n",
    "    def __call__(self, x):\n",
    "      B,T,C = x.shape  # \n",
    "      x = x.view(B,T//self.n,C*self.n) #  input_dim, groups, emb_dim  4,4,20\n",
    "      if x.shape[1] == 1: # if context size is 1 return 2d tensor\n",
    "        x = x.squeeze(1)\n",
    "      self.out = x\n",
    "      return self.out\n",
    "    \n",
    "    def parameters(self):\n",
    "      return []\n",
    "\n",
    "\n",
    "# manage list of layers\n",
    "class Sequential:\n",
    "\n",
    "  def __init__(self, layers):\n",
    "    self.layers = layers\n",
    "\n",
    "  def __call__(self, x):\n",
    "    for layer in self.layers:\n",
    "      x = layer(x)\n",
    "      self.out = x\n",
    "    return self.out\n",
    "\n",
    "  def parameters(self):\n",
    "    return [p for layer in self.layers for p in layer.parameters()]"
   ]
  },
  {
   "cell_type": "code",
   "execution_count": 133,
   "metadata": {},
   "outputs": [
    {
     "data": {
      "text/plain": [
       "<torch._C.Generator at 0x7f55aebf1410>"
      ]
     },
     "execution_count": 133,
     "metadata": {},
     "output_type": "execute_result"
    }
   ],
   "source": [
    "torch.manual_seed(42)"
   ]
  },
  {
   "cell_type": "code",
   "execution_count": 134,
   "metadata": {},
   "outputs": [
    {
     "name": "stdout",
     "output_type": "stream",
     "text": [
      "89608\n"
     ]
    }
   ],
   "source": [
    "# Network\n",
    "n_embd = 24 # the dimensionality of the character embedding vectors\n",
    "n_hidden = 128 # to match the number of parameters without wavenet\n",
    "# C = torch.randn((vocab_size, n_embd))   # Embedding class\n",
    "model = Sequential([\n",
    "  Embedding(vocab_size, n_embd),\n",
    "  FlattenConsecutive(2), Linear(n_embd * 2, n_hidden, bias=False), BatchNorm1d(n_hidden), Tanh(), # group 2's  (4,4,20)\n",
    "  FlattenConsecutive(2), Linear(n_hidden * 2, n_hidden, bias=False), BatchNorm1d(n_hidden), Tanh(), # (4,2,400)\n",
    "  FlattenConsecutive(2), Linear(n_hidden * 2, n_hidden, bias=False), BatchNorm1d(n_hidden), Tanh(), # (4,400)\n",
    "  Linear(n_hidden, n_hidden)\n",
    "])\n",
    "\n",
    "with torch.no_grad():\n",
    "  model.layers[-1].weight *= 0.1\n",
    "\n",
    "parameters = model.parameters()\n",
    "print(sum(p.nelement() for p in parameters))\n",
    "for p in parameters:\n",
    "  p.requires_grad = True"
   ]
  },
  {
   "cell_type": "code",
   "execution_count": 135,
   "metadata": {},
   "outputs": [
    {
     "name": "stdout",
     "output_type": "stream",
     "text": [
      "Embedding torch.Size([4, 8, 24])\n",
      "FlattenConsecutive torch.Size([4, 4, 48])\n",
      "Linear torch.Size([4, 4, 128])\n",
      "BatchNorm1d torch.Size([4, 4, 128])\n",
      "Tanh torch.Size([4, 4, 128])\n",
      "FlattenConsecutive torch.Size([4, 2, 256])\n",
      "Linear torch.Size([4, 2, 128])\n",
      "BatchNorm1d torch.Size([4, 2, 128])\n",
      "Tanh torch.Size([4, 2, 128])\n",
      "FlattenConsecutive torch.Size([4, 256])\n",
      "Linear torch.Size([4, 128])\n",
      "BatchNorm1d torch.Size([4, 128])\n",
      "Tanh torch.Size([4, 128])\n",
      "Linear torch.Size([4, 128])\n"
     ]
    }
   ],
   "source": [
    "ii = torch.randint(0, X_train.shape[0], (4,))\n",
    "xx , yy = X_train[ii], Y_train[ii]\n",
    "ll = model(xx)\n",
    "for layer in model.layers:\n",
    "  print(layer.__class__.__name__, layer.out.shape)"
   ]
  },
  {
   "cell_type": "code",
   "execution_count": 136,
   "metadata": {},
   "outputs": [
    {
     "name": "stdout",
     "output_type": "stream",
     "text": [
      "      0/  50000: 4.8546\n",
      "   1000/  50000: 2.2673\n",
      "   2000/  50000: 2.0777\n",
      "   3000/  50000: 2.1398\n",
      "   4000/  50000: 1.8588\n",
      "   5000/  50000: 2.5391\n",
      "   6000/  50000: 1.7764\n",
      "   7000/  50000: 2.2120\n",
      "   8000/  50000: 2.0856\n",
      "   9000/  50000: 1.7109\n",
      "  10000/  50000: 2.2022\n",
      "  11000/  50000: 2.2859\n",
      "  12000/  50000: 2.0932\n",
      "  13000/  50000: 2.0946\n",
      "  14000/  50000: 2.1101\n",
      "  15000/  50000: 1.8193\n",
      "  16000/  50000: 1.6098\n",
      "  17000/  50000: 2.1568\n",
      "  18000/  50000: 2.0785\n",
      "  19000/  50000: 1.8517\n",
      "  20000/  50000: 2.3012\n",
      "  21000/  50000: 2.1167\n",
      "  22000/  50000: 2.0437\n",
      "  23000/  50000: 1.9244\n",
      "  24000/  50000: 2.2230\n",
      "  25000/  50000: 1.9314\n",
      "  26000/  50000: 1.8666\n",
      "  27000/  50000: 2.3558\n",
      "  28000/  50000: 1.9769\n",
      "  29000/  50000: 2.2599\n",
      "  30000/  50000: 2.0540\n",
      "  31000/  50000: 2.2383\n",
      "  32000/  50000: 1.8025\n",
      "  33000/  50000: 1.6108\n",
      "  34000/  50000: 1.8386\n",
      "  35000/  50000: 2.0835\n",
      "  36000/  50000: 1.8699\n",
      "  37000/  50000: 2.0216\n",
      "  38000/  50000: 1.9251\n",
      "  39000/  50000: 2.0017\n",
      "  40000/  50000: 2.2537\n",
      "  41000/  50000: 2.3263\n",
      "  42000/  50000: 1.8487\n",
      "  43000/  50000: 1.6704\n",
      "  44000/  50000: 2.1706\n",
      "  45000/  50000: 2.1669\n",
      "  46000/  50000: 1.8909\n",
      "  47000/  50000: 2.1782\n",
      "  48000/  50000: 1.8459\n",
      "  49000/  50000: 1.6957\n"
     ]
    }
   ],
   "source": [
    "max_steps = 50000\n",
    "batch_size = 32\n",
    "lossi = []\n",
    "ud = []\n",
    "\n",
    "for i in range(max_steps):\n",
    "\n",
    "  # minibatch construct\n",
    "  ix = torch.randint(0, X_train.shape[0], (batch_size,))\n",
    "  Xb, Yb = X_train[ix], Y_train[ix] # batch X,Y\n",
    "  # forward pass\n",
    "  logits = model(Xb) \n",
    "  loss = F.cross_entropy(logits, Yb) # loss function\n",
    "\n",
    " # backward pass\n",
    "  for p in parameters:\n",
    "    p.grad = None\n",
    "  loss.backward()\n",
    "\n",
    "  # update\n",
    "  lr = 0.1 if i < max_steps/5 else 0.01 # step learning rate decay\n",
    "  for p in parameters:\n",
    "    p.data += -lr * p.grad\n",
    "\n",
    "  # track stats\n",
    "  if i % 1000== 0: # print every once in a while\n",
    "    print(f'{i:7d}/{max_steps:7d}: {loss.item():.4f}')\n",
    "  lossi.append(loss.log10().item())\n",
    "  with torch.no_grad():\n",
    "    ud.append([((lr*p.grad).std() / p.data.std()).log10().item() for p in parameters])\n",
    "  \n",
    "  "
   ]
  },
  {
   "cell_type": "code",
   "execution_count": 137,
   "metadata": {},
   "outputs": [
    {
     "data": {
      "text/plain": [
       "[<matplotlib.lines.Line2D at 0x7f54a6878eb0>]"
      ]
     },
     "execution_count": 137,
     "metadata": {},
     "output_type": "execute_result"
    },
    {
     "data": {
      "image/png": "[encoded data removed]",
      "text/plain": [
       "<Figure size 640x480 with 1 Axes>"
      ]
     },
     "metadata": {},
     "output_type": "display_data"
    }
   ],
   "source": [
    "plt.plot(torch.tensor(lossi).view(-1,100).mean(1))"
   ]
  },
  {
   "cell_type": "code",
   "execution_count": 138,
   "metadata": {},
   "outputs": [
    {
     "name": "stdout",
     "output_type": "stream",
     "text": [
      "train 1.966402292251587\n",
      "val 2.0315945148468018\n"
     ]
    }
   ],
   "source": [
    "# needed for batch norm to work\n",
    "for layer in model.layers:\n",
    "    layer.training = False\n",
    "    \n",
    "@torch.no_grad() # this decorator disables gradient tracking\n",
    "def split_loss(split):\n",
    "  x,y = {\n",
    "    'train': (X_train, Y_train),\n",
    "    'val': (X_val, Y_val),\n",
    "    'test': (X_test, Y_test),\n",
    "  }[split]\n",
    "  logits = model(x)\n",
    "  loss = F.cross_entropy(logits, y)\n",
    "  print(split, loss.item())\n",
    "\n",
    "split_loss('train')\n",
    "split_loss('val')"
   ]
  },
  {
   "cell_type": "code",
   "execution_count": 139,
   "metadata": {},
   "outputs": [
    {
     "ename": "RuntimeError",
     "evalue": "shape '[1, 1, 48]' is invalid for input of size 72",
     "output_type": "error",
     "traceback": [
      "\u001b[0;31m---------------------------------------------------------------------------\u001b[0m",
      "\u001b[0;31mRuntimeError\u001b[0m                              Traceback (most recent call last)",
      "\u001b[1;32m/home/haroon/Documents/VS-Code/py/Neural Networks/WaveNet.ipynb Cell 10\u001b[0m line \u001b[0;36m6\n\u001b[1;32m      <a href='vscode-notebook-cell:/home/haroon/Documents/VS-Code/py/Neural%20Networks/WaveNet.ipynb#X11sZmlsZQ%3D%3D?line=3'>4</a>\u001b[0m cont \u001b[39m=\u001b[39m [\u001b[39m0\u001b[39m] \u001b[39m*\u001b[39m \u001b[39m3\u001b[39m\n\u001b[1;32m      <a href='vscode-notebook-cell:/home/haroon/Documents/VS-Code/py/Neural%20Networks/WaveNet.ipynb#X11sZmlsZQ%3D%3D?line=4'>5</a>\u001b[0m \u001b[39mwhile\u001b[39;00m \u001b[39mTrue\u001b[39;00m:\n\u001b[0;32m----> <a href='vscode-notebook-cell:/home/haroon/Documents/VS-Code/py/Neural%20Networks/WaveNet.ipynb#X11sZmlsZQ%3D%3D?line=5'>6</a>\u001b[0m   logits \u001b[39m=\u001b[39m model(torch\u001b[39m.\u001b[39;49mtensor([cont]))\n\u001b[1;32m      <a href='vscode-notebook-cell:/home/haroon/Documents/VS-Code/py/Neural%20Networks/WaveNet.ipynb#X11sZmlsZQ%3D%3D?line=6'>7</a>\u001b[0m   probs \u001b[39m=\u001b[39m F\u001b[39m.\u001b[39msoftmax(logits, dim\u001b[39m=\u001b[39m\u001b[39m1\u001b[39m)\n\u001b[1;32m      <a href='vscode-notebook-cell:/home/haroon/Documents/VS-Code/py/Neural%20Networks/WaveNet.ipynb#X11sZmlsZQ%3D%3D?line=7'>8</a>\u001b[0m   \u001b[39m# sample from the distribution\u001b[39;00m\n",
      "\u001b[1;32m/home/haroon/Documents/VS-Code/py/Neural Networks/WaveNet.ipynb Cell 10\u001b[0m line \u001b[0;36m1\n\u001b[1;32m    <a href='vscode-notebook-cell:/home/haroon/Documents/VS-Code/py/Neural%20Networks/WaveNet.ipynb#X11sZmlsZQ%3D%3D?line=101'>102</a>\u001b[0m \u001b[39mdef\u001b[39;00m \u001b[39m__call__\u001b[39m(\u001b[39mself\u001b[39m, x):\n\u001b[1;32m    <a href='vscode-notebook-cell:/home/haroon/Documents/VS-Code/py/Neural%20Networks/WaveNet.ipynb#X11sZmlsZQ%3D%3D?line=102'>103</a>\u001b[0m   \u001b[39mfor\u001b[39;00m layer \u001b[39min\u001b[39;00m \u001b[39mself\u001b[39m\u001b[39m.\u001b[39mlayers:\n\u001b[0;32m--> <a href='vscode-notebook-cell:/home/haroon/Documents/VS-Code/py/Neural%20Networks/WaveNet.ipynb#X11sZmlsZQ%3D%3D?line=103'>104</a>\u001b[0m     x \u001b[39m=\u001b[39m layer(x)\n\u001b[1;32m    <a href='vscode-notebook-cell:/home/haroon/Documents/VS-Code/py/Neural%20Networks/WaveNet.ipynb#X11sZmlsZQ%3D%3D?line=104'>105</a>\u001b[0m     \u001b[39mself\u001b[39m\u001b[39m.\u001b[39mout \u001b[39m=\u001b[39m x\n\u001b[1;32m    <a href='vscode-notebook-cell:/home/haroon/Documents/VS-Code/py/Neural%20Networks/WaveNet.ipynb#X11sZmlsZQ%3D%3D?line=105'>106</a>\u001b[0m   \u001b[39mreturn\u001b[39;00m \u001b[39mself\u001b[39m\u001b[39m.\u001b[39mout\n",
      "\u001b[1;32m/home/haroon/Documents/VS-Code/py/Neural Networks/WaveNet.ipynb Cell 10\u001b[0m line \u001b[0;36m8\n\u001b[1;32m     <a href='vscode-notebook-cell:/home/haroon/Documents/VS-Code/py/Neural%20Networks/WaveNet.ipynb#X11sZmlsZQ%3D%3D?line=83'>84</a>\u001b[0m \u001b[39mdef\u001b[39;00m \u001b[39m__call__\u001b[39m(\u001b[39mself\u001b[39m, x):\n\u001b[1;32m     <a href='vscode-notebook-cell:/home/haroon/Documents/VS-Code/py/Neural%20Networks/WaveNet.ipynb#X11sZmlsZQ%3D%3D?line=84'>85</a>\u001b[0m   B,T,C \u001b[39m=\u001b[39m x\u001b[39m.\u001b[39mshape  \u001b[39m# \u001b[39;00m\n\u001b[0;32m---> <a href='vscode-notebook-cell:/home/haroon/Documents/VS-Code/py/Neural%20Networks/WaveNet.ipynb#X11sZmlsZQ%3D%3D?line=85'>86</a>\u001b[0m   x \u001b[39m=\u001b[39m x\u001b[39m.\u001b[39;49mview(B,T\u001b[39m/\u001b[39;49m\u001b[39m/\u001b[39;49m\u001b[39mself\u001b[39;49m\u001b[39m.\u001b[39;49mn,C\u001b[39m*\u001b[39;49m\u001b[39mself\u001b[39;49m\u001b[39m.\u001b[39;49mn) \u001b[39m#  input_dim, groups, emb_dim  4,4,20\u001b[39;00m\n\u001b[1;32m     <a href='vscode-notebook-cell:/home/haroon/Documents/VS-Code/py/Neural%20Networks/WaveNet.ipynb#X11sZmlsZQ%3D%3D?line=86'>87</a>\u001b[0m   \u001b[39mif\u001b[39;00m x\u001b[39m.\u001b[39mshape[\u001b[39m1\u001b[39m] \u001b[39m==\u001b[39m \u001b[39m1\u001b[39m: \u001b[39m# if context size is 1 return 2d tensor\u001b[39;00m\n\u001b[1;32m     <a href='vscode-notebook-cell:/home/haroon/Documents/VS-Code/py/Neural%20Networks/WaveNet.ipynb#X11sZmlsZQ%3D%3D?line=87'>88</a>\u001b[0m     x \u001b[39m=\u001b[39m x\u001b[39m.\u001b[39msqueeze(\u001b[39m1\u001b[39m)\n",
      "\u001b[0;31mRuntimeError\u001b[0m: shape '[1, 1, 48]' is invalid for input of size 72"
     ]
    }
   ],
   "source": [
    "# sample from the model\n",
    "for _ in range(20):\n",
    "    out = []\n",
    "    cont = [0] * 3\n",
    "    while True:\n",
    "      logits = model(torch.tensor([cont]))\n",
    "      probs = F.softmax(logits, dim=1)\n",
    "      # sample from the distribution\n",
    "      ix = torch.multinomial(probs, num_samples=1).item()\n",
    "      # shift the context window and track the samples\n",
    "      cont = cont[1:] + [ix]\n",
    "      out.append(ix)\n",
    "      if ix == 0:\n",
    "        break\n",
    "\n",
    "    print(''.join(I_S[i] for i in out)) # decode and print the generated word"
   ]
  },
  {
   "cell_type": "markdown",
   "metadata": {},
   "source": [
    "# Issue\n",
    " \n",
    "* even though the network can be made bigger, the issue lies in the embeddings where all charecters are pushed into a single layer at a single step\n",
    "* using a wavenet we can slowly go from all charecters to next (dilated causal convolutions)"
   ]
  },
  {
   "cell_type": "markdown",
   "metadata": {},
   "source": [
    "`for context size of 8, \n",
    "* [(1,2),(3,4)],[(5,6),(7,8)]\n",
    "* group as bigrams in first step, 4's in second ...\n",
    "* but in paralell"
   ]
  },
  {
   "cell_type": "markdown",
   "metadata": {},
   "source": []
  }
 ],
 "metadata": {
  "kernelspec": {
   "display_name": "Python 3",
   "language": "python",
   "name": "python3"
  },
  "language_info": {
   "codemirror_mode": {
    "name": "ipython",
    "version": 3
   },
   "file_extension": ".py",
   "mimetype": "text/x-python",
   "name": "python",
   "nbconvert_exporter": "python",
   "pygments_lexer": "ipython3",
   "version": "3.10.12"
  }
 },
 "nbformat": 4,
 "nbformat_minor": 2
}
