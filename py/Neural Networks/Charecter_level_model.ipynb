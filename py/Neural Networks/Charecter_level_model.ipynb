{
 "cells": [
  {
   "cell_type": "markdown",
   "metadata": {},
   "source": [
    "# Multi Layer Perceptron based language model\n",
    "* based on https://www.jmlr.org/papers/volume3/bengio03a/bengio03a.pdf"
   ]
  },
  {
   "cell_type": "code",
   "execution_count": 1,
   "metadata": {},
   "outputs": [],
   "source": [
    "import torch\n",
    "import torch.nn.functional as F\n",
    "import matplotlib.pyplot as plt\n",
    "import random"
   ]
  },
  {
   "cell_type": "code",
   "execution_count": 2,
   "metadata": {},
   "outputs": [
    {
     "data": {
      "text/plain": [
       "(['emma',\n",
       "  'olivia',\n",
       "  'ava',\n",
       "  'isabella',\n",
       "  'sophia',\n",
       "  'charlotte',\n",
       "  'mia',\n",
       "  'amelia',\n",
       "  'harper',\n",
       "  'evelyn'],\n",
       " 32033)"
      ]
     },
     "execution_count": 2,
     "metadata": {},
     "output_type": "execute_result"
    }
   ],
   "source": [
    "words = open('names.txt','r').read().split('\\n')\n",
    "words[:10],len(words)"
   ]
  },
  {
   "cell_type": "code",
   "execution_count": 3,
   "metadata": {},
   "outputs": [
    {
     "name": "stdout",
     "output_type": "stream",
     "text": [
      "{1: 'a', 2: 'b', 3: 'c', 4: 'd', 5: 'e', 6: 'f', 7: 'g', 8: 'h', 9: 'i', 10: 'j', 11: 'k', 12: 'l', 13: 'm', 14: 'n', 15: 'o', 16: 'p', 17: 'q', 18: 'r', 19: 's', 20: 't', 21: 'u', 22: 'v', 23: 'w', 24: 'x', 25: 'y', 26: 'z', 0: '.'}\n"
     ]
    }
   ],
   "source": [
    "chars = sorted(list(set(''.join(words))))\n",
    "S_I = {c:i+1 for i,c in enumerate(chars)}\n",
    "S_I['.'] = 0\n",
    "I_S = {i:c for c,i in S_I.items()}\n",
    "print(I_S)"
   ]
  },
  {
   "cell_type": "code",
   "execution_count": 18,
   "metadata": {},
   "outputs": [
    {
     "name": "stdout",
     "output_type": "stream",
     "text": [
      "torch.Size([182580, 3]) torch.Size([182580])\n",
      "torch.Size([22767, 3]) torch.Size([22767])\n",
      "torch.Size([22799, 3]) torch.Size([22799])\n"
     ]
    }
   ],
   "source": [
    "block_size = 3  # context size\n",
    "def build_dataset(words):\n",
    "    # build the dataset\n",
    "    \n",
    "\n",
    "    X,Y = [],[] # input, labels\n",
    "    for word in words:\n",
    "        context = [0] * block_size\n",
    "        for ch in word + '.':\n",
    "            ix = S_I[ch]\n",
    "            X.append(context)\n",
    "            Y.append(ix)\n",
    "            #print(''.join([I_S[i] for i in context]),'->',I_S[ix])\n",
    "            context = context[1:] + [ix]\n",
    "\n",
    "    X = torch.Tensor(X).int()\n",
    "    Y = torch.Tensor(Y).int()\n",
    "    print(X.shape,Y.shape)\n",
    "    return X,Y\n",
    "\n",
    "# split into train val and test\n",
    "random.seed(42)\n",
    "random.shuffle(words)\n",
    "\n",
    "n1 = int(len(words)*0.8)\n",
    "n2 = int(len(words)*0.9)\n",
    "\n",
    "X_train,Y_train = build_dataset(words[:n1])  #train network\n",
    "X_val,Y_val = build_dataset(words[n1:n2])    # tune hyperparameters\n",
    "X_test,Y_test = build_dataset(words[n2:])    # final evaluation"
   ]
  },
  {
   "cell_type": "markdown",
   "metadata": {},
   "source": [
    "* https://www.tensorflow.org/text/tutorials/warmstart_embedding_matrix"
   ]
  },
  {
   "cell_type": "markdown",
   "metadata": {},
   "source": [
    "* https://pytorch.org/docs/stable/generated/torch.cat.html         to concat dim 1,2\n",
    "* https://pytorch.org/docs/stable/generated/torch.unbind.html      drop dim into tuple\n",
    "* https://pytorch.org/docs/stable/generated/torch.Tensor.view.html  efficient way\n",
    "* tensors are stored as one dimensional (Tensor.storage) \n",
    "* http://blog.ezyang.com/2019/05/pytorch-internals/"
   ]
  },
  {
   "cell_type": "code",
   "execution_count": 5,
   "metadata": {},
   "outputs": [],
   "source": [
    "#torch.cat(torch.unbind(emb,1),dim=1).shape  # correct shape for matrix multiplication but not efficient"
   ]
  },
  {
   "cell_type": "code",
   "execution_count": 6,
   "metadata": {},
   "outputs": [],
   "source": [
    "# Layers\n",
    "g = torch.Generator().manual_seed(2147483647)\n",
    "\n",
    "# lookup table\n",
    "C = torch.randn((len(S_I),10),generator=g) # weights\n",
    "\n",
    "W1_neurons =200\n",
    "W1 = torch.randn((30,W1_neurons),generator=g) # weights for the hidden/tanh layer\n",
    "B1 = torch.randn((1,W1_neurons),generator=g) #bias\n",
    "# in current state it is not possible to use matrix multiplication as [32,3,2] @ [6,100] is not possible\n",
    "\n",
    "W2 = torch.randn((W1_neurons,len(S_I)),generator=g) # weights for the output layer\n",
    "B2 = torch.randn((len(S_I)),generator=g) # bias\n",
    "\n",
    "params = [C,W1,B1,W2,B2]\n"
   ]
  },
  {
   "cell_type": "code",
   "execution_count": 7,
   "metadata": {},
   "outputs": [
    {
     "data": {
      "text/plain": [
       "11897"
      ]
     },
     "execution_count": 7,
     "metadata": {},
     "output_type": "execute_result"
    }
   ],
   "source": [
    "sum([p.nelement() for p in params])"
   ]
  },
  {
   "cell_type": "code",
   "execution_count": 8,
   "metadata": {},
   "outputs": [],
   "source": [
    "for p in params:\n",
    "    p.requires_grad_(True)"
   ]
  },
  {
   "cell_type": "code",
   "execution_count": 9,
   "metadata": {},
   "outputs": [],
   "source": [
    "# from bruteforce we can say best learning rate should be between 0.001 to 1\n",
    "exp_Lr = torch.linspace(3,0,30000) # 10^-3 to 10^0\n",
    "Lr = torch.pow(10,exp_Lr)"
   ]
  },
  {
   "cell_type": "code",
   "execution_count": 10,
   "metadata": {},
   "outputs": [],
   "source": [
    "BATCH_SIZE = 64\n",
    "lri=[]\n",
    "lossi=[]\n",
    "stepi=[]"
   ]
  },
  {
   "cell_type": "code",
   "execution_count": 11,
   "metadata": {},
   "outputs": [
    {
     "name": "stdout",
     "output_type": "stream",
     "text": [
      "2.1650948524475098\n"
     ]
    }
   ],
   "source": [
    "\n",
    "\n",
    "for i in range(200000):\n",
    "    # create minibatch\n",
    "    ix = torch.randint(0,len(X_train),(BATCH_SIZE,))  # 32 random numbers between 0 and len(X) size needs to be tupple\n",
    "    \n",
    "    # forward pass\n",
    "    emb = C[X_train[ix]] # embedding layer / input to tanh layer (mini batch of 32 items) #           loosely  a representaion of words\n",
    "    h = torch.tanh(emb.view(-1,30) @ W1 + B1) # hidden states view(-1,6) automatically infers the dim / can also be done as view(emb.shape[0],6)\n",
    "    # h,h.shape # b1 is broadcasted to correct shape here\n",
    "\n",
    "    logits = h @ W2 + B2\n",
    "    # counts = logits.exp()\n",
    "    # probs = counts / counts.sum(1,keepdims=True)\n",
    "    # loss = -(probs[torch.arange(32),Y]).log().mean() \n",
    "    loss = F.cross_entropy(logits,Y_train[ix].long()) # same but more efficient as above one creates a lot of intermediate tensors  # exp(large number) = inf so it is numerically unstable\n",
    "    # simpler to implement backpropagation\n",
    "    # cross entropy subtracts the largest number from the logits to avoid overflow in exp    \n",
    "    #print(loss.item())\n",
    "    # backward pass\n",
    "    for p in params:\n",
    "        p.grad = None\n",
    "    loss.backward(retain_graph=True)\n",
    "   \n",
    "    # update the parameters\n",
    "   # lr = Lr[i] # try different learning rates\n",
    "    lr = 0.1 if i<100000 else 0.01\n",
    "    for p in params:\n",
    "        p.data -= p.grad * lr\n",
    "        \n",
    "    #track\n",
    "    # lri.append(exp_Lr[i])\n",
    "    stepi.append(i)\n",
    "    lossi.append(loss.log10().item())\n",
    "    \n",
    "    \n",
    "print(loss.item())  # loss for a single batch"
   ]
  },
  {
   "cell_type": "code",
   "execution_count": 12,
   "metadata": {},
   "outputs": [
    {
     "data": {
      "text/plain": [
       "tensor(2.1592, grad_fn=<NllLossBackward0>)"
      ]
     },
     "execution_count": 12,
     "metadata": {},
     "output_type": "execute_result"
    }
   ],
   "source": [
    "emb = C[X_val] # embedding layer / input to tanh layer (mini batch of 32 items) #           loosely  a representaion of words\n",
    "h = torch.tanh(emb.view(-1,30) @ W1 + B1) # hidden states view(-1,6) automatically infers the dim / can also be done as view(emb.shape[0],6)\n",
    "logits = h @ W2 + B2\n",
    "loss = F.cross_entropy(logits,Y_val.long())\n",
    "loss"
   ]
  },
  {
   "cell_type": "code",
   "execution_count": 13,
   "metadata": {},
   "outputs": [
    {
     "data": {
      "text/plain": [
       "tensor(2.1579, grad_fn=<NllLossBackward0>)"
      ]
     },
     "execution_count": 13,
     "metadata": {},
     "output_type": "execute_result"
    }
   ],
   "source": [
    "emb = C[X_test] # embedding layer / input to tanh layer (mini batch of 32 items) #           loosely  a representaion of words\n",
    "h = torch.tanh(emb.view(-1,30) @ W1 + B1) # hidden states view(-1,6) automatically infers the dim / can also be done as view(emb.shape[0],6)\n",
    "logits = h @ W2 + B2\n",
    "loss = F.cross_entropy(logits,Y_test.long())\n",
    "loss"
   ]
  },
  {
   "cell_type": "code",
   "execution_count": 14,
   "metadata": {},
   "outputs": [
    {
     "data": {
      "text/plain": [
       "Text(0, 0.5, 'loss')"
      ]
     },
     "execution_count": 14,
     "metadata": {},
     "output_type": "execute_result"
    },
    {
     "data": {
      "image/png": "[encoded data removed]",
      "text/plain": [
       "<Figure size 640x480 with 1 Axes>"
      ]
     },
     "metadata": {},
     "output_type": "display_data"
    }
   ],
   "source": [
    "plt.plot(stepi,lossi)\n",
    "plt.xlabel('step')\n",
    "plt.ylabel('loss')\n",
    "# noise in the loss is due to the random minibatch or small batch size"
   ]
  },
  {
   "cell_type": "markdown",
   "metadata": {},
   "source": [
    "# this network has relatively low number of parameters,\n",
    "# for a larger network, it is earier to overfit,\n",
    "### split data in 3"
   ]
  },
  {
   "cell_type": "code",
   "execution_count": 15,
   "metadata": {},
   "outputs": [
    {
     "data": {
      "image/png": "[encoded data removed]",
      "text/plain": [
       "<Figure size 1000x1000 with 1 Axes>"
      ]
     },
     "metadata": {},
     "output_type": "display_data"
    }
   ],
   "source": [
    "plt.figure(figsize=(10,10))\n",
    "plt.scatter(C[:,0].data,C[:,1].data,s=200)  \n",
    "for i in range(C.shape[0]):\n",
    "    plt.text(C[i,0].item(),C[i,1].item(),I_S[i],ha='center',va='center',color='white',fontsize=14)\n",
    "plt.grid('minor')"
   ]
  },
  {
   "cell_type": "code",
   "execution_count": 16,
   "metadata": {},
   "outputs": [],
   "source": [
    "# the embeddings show that the model has learned some structure "
   ]
  },
  {
   "cell_type": "code",
   "execution_count": 19,
   "metadata": {},
   "outputs": [
    {
     "name": "stdout",
     "output_type": "stream",
     "text": [
      "mora.\n",
      "mayah.\n",
      "seel.\n",
      "nihah.\n",
      "marethrstengrace.\n",
      "adelyn.\n",
      "eliah.\n",
      "milopaleigh.\n",
      "estanaraelyn.\n",
      "malaia.\n",
      "nyshabergiaganest.\n",
      "jairendy.\n",
      "panthuor.\n",
      "usman.\n",
      "dariyah.\n",
      "faeha.\n",
      "kayshaston.\n",
      "mahia.\n",
      "sakylisus.\n",
      "zakhlee.\n"
     ]
    }
   ],
   "source": [
    "# sampling\n",
    "G = torch.Generator().manual_seed(2147483647+10)\n",
    "\n",
    "for _ in range(20):\n",
    "    out = []\n",
    "    context = [0] * block_size\n",
    "    while True:\n",
    "        emb = C[torch.tensor([context])]\n",
    "        h = torch.tanh(emb.view(1,-1) @ W1 + B1)\n",
    "        logits = h @ W2 + B2\n",
    "        probs = F.softmax(logits,dim=1)\n",
    "        ix = torch.multinomial(probs,num_samples=1,generator=G).item()\n",
    "        context = context[1:] + [ix]\n",
    "        out.append(I_S[ix])\n",
    "        if I_S[ix] == '.':\n",
    "            break \n",
    "    print(''.join(out))"
   ]
  }
 ],
 "metadata": {
  "kernelspec": {
   "display_name": "tf",
   "language": "python",
   "name": "python3"
  },
  "language_info": {
   "codemirror_mode": {
    "name": "ipython",
    "version": 3
   },
   "file_extension": ".py",
   "mimetype": "text/x-python",
   "name": "python",
   "nbconvert_exporter": "python",
   "pygments_lexer": "ipython3",
   "version": "3.10.12"
  }
 },
 "nbformat": 4,
 "nbformat_minor": 2
}
