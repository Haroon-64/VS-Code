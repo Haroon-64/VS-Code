{
 "nbformat": 4,
 "nbformat_minor": 0,
 "metadata": {
  "colab": {
   "name": "01_pytorch_workflow_exercises.ipynb",
   "provenance": [],
   "collapsed_sections": [],
   "authorship_tag": "ABX9TyNYzatJtFkfUqqdiR6rYwVL",
   "include_colab_link": true
  },
  "kernelspec": {
   "name": "python3",
   "display_name": "Python 3 (ipykernel)",
   "language": "python"
  },
  "language_info": {
   "name": "python"
  },
  "accelerator": "GPU"
 },
 "cells": [
  {
   "cell_type": "markdown",
   "metadata": {
    "id": "view-in-github",
    "colab_type": "text"
   },
   "source": [
    "<a href=\"https://colab.research.google.com/github/mrdbourke/pytorch-deep-learning/blob/main/extras/exercises/01_pytorch_workflow_exercises.ipynb\" target=\"_parent\"><img src=\"https://colab.research.google.com/assets/colab-badge.svg\" alt=\"Open In Colab\"/></a>"
   ]
  },
  {
   "cell_type": "markdown",
   "source": [
    "# 01. PyTorch Workflow Exercise Template\n",
    "\n",
    "The following is a template for the PyTorch workflow exercises.\n",
    "\n",
    "It's only starter code and it's your job to fill in the blanks.\n",
    "\n",
    "Because of the flexibility of PyTorch, there may be more than one way to answer the question.\n",
    "\n",
    "Don't worry about trying to be *right* just try writing code that suffices the question.\n",
    "\n",
    "You can see one form of [solutions on GitHub](https://github.com/mrdbourke/pytorch-deep-learning/tree/main/extras/solutions) (but try the exercises below yourself first!)."
   ],
   "metadata": {
    "id": "N8LsPXZti9Sw"
   }
  },
  {
   "cell_type": "code",
   "source": [
    "from re import X\n",
    "\n",
    "# Import necessary libraries\n",
    "import torch\n",
    "from torch import nn\n",
    "import random\n",
    "from matplotlib import pyplot as plt"
   ],
   "metadata": {
    "id": "Glu2fM4dkNlx",
    "ExecuteTime": {
     "end_time": "2024-05-08T08:34:58.951313Z",
     "start_time": "2024-05-08T08:34:58.948354Z"
    }
   },
   "outputs": [],
   "execution_count": 16
  },
  {
   "cell_type": "code",
   "source": [
    "# Setup device-agnostic code\n"
   ],
   "metadata": {
    "id": "LqKhXY26m31s",
    "ExecuteTime": {
     "end_time": "2024-05-08T08:34:58.998409Z",
     "start_time": "2024-05-08T08:34:58.995832Z"
    }
   },
   "outputs": [],
   "execution_count": 17
  },
  {
   "cell_type": "markdown",
   "source": [
    "## 1. Create a straight line dataset using the linear regression formula (`weight * X + bias`).\n",
    "  * Set `weight=0.3` and `bias=0.9` there should be at least 100 datapoints total. \n",
    "  * Split the data into 80% training, 20% testing.\n",
    "  * Plot the training and testing data so it becomes visual.\n",
    "\n",
    "Your output of the below cell should look something like:\n",
    "```\n",
    "Number of X samples: 100\n",
    "Number of y samples: 100\n",
    "First 10 X & y samples:\n",
    "X: tensor([0.0000, 0.0100, 0.0200, 0.0300, 0.0400, 0.0500, 0.0600, 0.0700, 0.0800,\n",
    "        0.0900])\n",
    "y: tensor([0.9000, 0.9030, 0.9060, 0.9090, 0.9120, 0.9150, 0.9180, 0.9210, 0.9240,\n",
    "        0.9270])\n",
    "```\n",
    "\n",
    "Of course the numbers in `X` and `y` may be different but ideally they're created using the linear regression formula."
   ],
   "metadata": {
    "id": "g7HUhxCxjeBx"
   }
  },
  {
   "cell_type": "code",
   "source": [
    "a,b = random.random(),random.random()\n",
    "# Create the data parameters\n",
    "X = torch.arange(0, 10, .1).unsqueeze(dim=1)\n",
    "\n",
    "\n",
    "# Make X and y using linear regression feature\n",
    "y = a * X + b\n",
    "\n",
    "print(f\"Number of X samples: {len(X)}\")\n",
    "print(f\"Number of y samples: {len(y)}\")\n",
    "print(f\"First 10 X & y samples:\\nX: {X[:10]}\\ny: {y[:10]}\")"
   ],
   "metadata": {
    "id": "KbDG5MV7jhvE",
    "ExecuteTime": {
     "end_time": "2024-05-08T08:34:59.004238Z",
     "start_time": "2024-05-08T08:34:58.999414Z"
    }
   },
   "outputs": [
    {
     "name": "stdout",
     "output_type": "stream",
     "text": [
      "Number of X samples: 100\n",
      "Number of y samples: 100\n",
      "First 10 X & y samples:\n",
      "X: tensor([[0.0000],\n",
      "        [0.1000],\n",
      "        [0.2000],\n",
      "        [0.3000],\n",
      "        [0.4000],\n",
      "        [0.5000],\n",
      "        [0.6000],\n",
      "        [0.7000],\n",
      "        [0.8000],\n",
      "        [0.9000]])\n",
      "y: tensor([[0.6481],\n",
      "        [0.6704],\n",
      "        [0.6927],\n",
      "        [0.7150],\n",
      "        [0.7373],\n",
      "        [0.7595],\n",
      "        [0.7818],\n",
      "        [0.8041],\n",
      "        [0.8264],\n",
      "        [0.8487]])\n"
     ]
    }
   ],
   "execution_count": 18
  },
  {
   "cell_type": "code",
   "source": [
    "# Split the data into training and testing\n",
    "train_size = int(len(X) * 0.8)\n",
    "train_X, train_y = X[:train_size], y[:train_size]\n",
    "test_X, test_y = X[train_size:], y[train_size:]"
   ],
   "metadata": {
    "id": "GlwtT1djkmLw",
    "ExecuteTime": {
     "end_time": "2024-05-08T08:34:59.008139Z",
     "start_time": "2024-05-08T08:34:59.005247Z"
    }
   },
   "outputs": [],
   "execution_count": 19
  },
  {
   "cell_type": "code",
   "source": [
    "# Plot the training and testing data \n",
    "def plot(xt, yt, xv, yv,predictions=None):\n",
    "  plt.figure(figsize=(10, 8))\n",
    "  plt.scatter(xt, yt, c='green',label='Train')\n",
    "  plt.scatter(xv, yv, c='yellow',label='Test')\n",
    "  \n",
    "  if predictions is not None:\n",
    "    plt.scatter(xv, predictions, c='blue',label='Predictions')\n",
    "  plt.legend()\n",
    "  plt.show()\n",
    "  \n",
    "plot(train_X, train_y, test_X, test_y)"
   ],
   "metadata": {
    "id": "29iQZFNhlYJ-",
    "ExecuteTime": {
     "end_time": "2024-05-08T08:34:59.133883Z",
     "start_time": "2024-05-08T08:34:59.015143Z"
    }
   },
   "outputs": [
    {
     "data": {
      "text/plain": [
       "<Figure size 1000x800 with 1 Axes>"
      ],
      "image/png": "[encoded data removed]"
     },
     "metadata": {},
     "output_type": "display_data"
    }
   ],
   "execution_count": 20
  },
  {
   "cell_type": "markdown",
   "source": [
    "## 2. Build a PyTorch model by subclassing `nn.Module`. \n",
    "  * Inside should be a randomly initialized `nn.Parameter()` with `requires_grad=True`, one for `weights` and one for `bias`. \n",
    "  * Implement the `forward()` method to compute the linear regression function you used to create the dataset in 1. \n",
    "  * Once you've constructed the model, make an instance of it and check its `state_dict()`.\n",
    "  * **Note:** If you'd like to use `nn.Linear()` instead of `nn.Parameter()` you can."
   ],
   "metadata": {
    "id": "ImZoe3v8jif8"
   }
  },
  {
   "cell_type": "code",
   "source": [
    "# Create PyTorch linear regression model by subclassing nn.Module\n",
    "class LRmodel(nn.Module):\n",
    "  def __init__(self):\n",
    "    super().__init__()\n",
    "    self.w = nn.Parameter(torch.randn(1,requires_grad=True,dtype=torch.float))   # torch.Tensor subclass.  auto add to module params\n",
    "    self.b = nn.Parameter(torch.randn(1,requires_grad=True,dtype=torch.float))\n",
    "    \n",
    "  def forward(self,x:torch.Tensor) -> torch.Tensor:\n",
    "    return self.w * x + self.b\n",
    "  \n",
    "\n",
    "\n",
    "  "
   ],
   "metadata": {
    "id": "qzd__Y5rjtB8",
    "ExecuteTime": {
     "end_time": "2024-05-08T08:34:59.138623Z",
     "start_time": "2024-05-08T08:34:59.134892Z"
    }
   },
   "outputs": [],
   "execution_count": 21
  },
  {
   "cell_type": "code",
   "source": [
    "# Instantiate the model and put it to the target device\n",
    "model = LRmodel()\n",
    "model.to(torch.device('cpu'))\n",
    "print([_ for _ in model.parameters()])\n",
    "print(model.state_dict())"
   ],
   "metadata": {
    "id": "5LdcDnmOmyQ2",
    "ExecuteTime": {
     "end_time": "2024-05-08T08:34:59.144161Z",
     "start_time": "2024-05-08T08:34:59.139629Z"
    }
   },
   "outputs": [
    {
     "name": "stdout",
     "output_type": "stream",
     "text": [
      "[Parameter containing:\n",
      "tensor([0.2628], requires_grad=True), Parameter containing:\n",
      "tensor([-1.1587], requires_grad=True)]\n",
      "OrderedDict([('w', tensor([0.2628])), ('b', tensor([-1.1587]))])\n"
     ]
    }
   ],
   "execution_count": 22
  },
  {
   "cell_type": "markdown",
   "source": [
    "## 3. Create a loss function and optimizer using `nn.L1Loss()` and `torch.optim.SGD(params, lr)` respectively. \n",
    "  * Set the learning rate of the optimizer to be 0.01 and the parameters to optimize should be the model parameters from the model you created in 2.\n",
    "  * Write a training loop to perform the appropriate training steps for 300 epochs.\n",
    "  * The training loop should test the model on the test dataset every 20 epochs."
   ],
   "metadata": {
    "id": "G6nYOrJhjtfu"
   }
  },
  {
   "cell_type": "code",
   "source": [
    "# Create the loss function and optimizer\n",
    "optimizer = torch.optim.SGD(model.parameters(), lr=0.01)\n",
    "loss_fn = torch.nn.L1Loss()\n"
   ],
   "metadata": {
    "id": "ltvoZ-FWjv1j",
    "ExecuteTime": {
     "end_time": "2024-05-08T08:34:59.148360Z",
     "start_time": "2024-05-08T08:34:59.145169Z"
    }
   },
   "outputs": [],
   "execution_count": 23
  },
  {
   "cell_type": "code",
   "source": [
    "# Training loop\n",
    "\n",
    "# Train model for 300 epochs\n",
    "epochs = 300\n",
    "\n",
    "# Send data to target device\n",
    "model.to(torch.device('cpu'))\n",
    "losses = []\n",
    "for epoch in range(epochs):\n",
    "  ### Training\n",
    "\n",
    "  # Put model in train mode\n",
    "  model.train(True)\n",
    "\n",
    "  # 1. Forward pass\n",
    "  yp = model(test_X)\n",
    "  \n",
    "\n",
    "  # 2. Calculate loss\n",
    "  loss = loss_fn(yp, test_y)\n",
    "  losses.append(loss.item())\n",
    "  # 3. Zero gradients\n",
    "  optimizer.zero_grad()\n",
    "\n",
    "  # 4. Backpropagation\n",
    "  loss.backward()\n",
    "  # 5. Step the optimizer\n",
    "  optimizer.step()\n",
    "\n",
    "  ### Perform testing every 20 epochs\n",
    "  if epoch % 20 == 0:\n",
    "    model.eval()\n",
    "    # Put model in evaluation mode and setup inference context \n",
    "    with torch.inference_mode():\n",
    "      # 1. Forward pass\n",
    "      testp = model(test_X)\n",
    "      predictions = testp.argmax(dim=1, keepdim=True)\n",
    "      \n",
    "      # 2. Calculate test loss\n",
    "      test_loss = loss_fn(testp, test_y)\n",
    "      # Print out what's happening\n",
    "      print(f\"Epoch: {epoch} | Train loss: {loss:.3f} | Test loss: {test_loss:.3f}\")"
   ],
   "metadata": {
    "id": "xpE83NvNnkdV",
    "ExecuteTime": {
     "end_time": "2024-05-08T09:30:19.450971Z",
     "start_time": "2024-05-08T09:30:19.326247Z"
    }
   },
   "outputs": [
    {
     "name": "stdout",
     "output_type": "stream",
     "text": [
      "Epoch: 0 | Train loss: 1.449 | Test loss: 0.638\n",
      "Epoch: 20 | Train loss: 0.319 | Test loss: 0.492\n",
      "Epoch: 40 | Train loss: 0.319 | Test loss: 0.492\n",
      "Epoch: 60 | Train loss: 0.319 | Test loss: 0.492\n",
      "Epoch: 80 | Train loss: 0.319 | Test loss: 0.492\n",
      "Epoch: 100 | Train loss: 0.319 | Test loss: 0.492\n",
      "Epoch: 120 | Train loss: 0.319 | Test loss: 0.492\n",
      "Epoch: 140 | Train loss: 0.319 | Test loss: 0.492\n",
      "Epoch: 160 | Train loss: 0.319 | Test loss: 0.492\n",
      "Epoch: 180 | Train loss: 0.319 | Test loss: 0.492\n",
      "Epoch: 200 | Train loss: 0.319 | Test loss: 0.492\n",
      "Epoch: 220 | Train loss: 0.319 | Test loss: 0.492\n",
      "Epoch: 240 | Train loss: 0.319 | Test loss: 0.492\n",
      "Epoch: 260 | Train loss: 0.319 | Test loss: 0.492\n",
      "Epoch: 280 | Train loss: 0.319 | Test loss: 0.492\n"
     ]
    }
   ],
   "execution_count": 29
  },
  {
   "cell_type": "markdown",
   "source": [
    "## 4. Make predictions with the trained model on the test data.\n",
    "  * Visualize these predictions against the original training and testing data (**note:** you may need to make sure the predictions are *not* on the GPU if you want to use non-CUDA-enabled libraries such as matplotlib to plot)."
   ],
   "metadata": {
    "id": "x4j4TM18jwa7"
   }
  },
  {
   "cell_type": "code",
   "source": [
    "# Make predictions with the model https://twitter.com/PyTorch/status/1437838231505096708\n",
    "with torch.inference_mode():\n",
    "  yp = model(test_X)\n"
   ],
   "metadata": {
    "id": "bbMPK5Qjjyx_",
    "ExecuteTime": {
     "end_time": "2024-05-08T09:30:24.330027Z",
     "start_time": "2024-05-08T09:30:24.326967Z"
    }
   },
   "outputs": [],
   "execution_count": 30
  },
  {
   "cell_type": "code",
   "source": [
    "# Plot the predictions (these may need to be on a specific device)\n",
    "plot(test_X, test_y, yp, test_y)"
   ],
   "metadata": {
    "id": "K3BdmQaDpFo8",
    "ExecuteTime": {
     "end_time": "2024-05-08T09:32:22.637191Z",
     "start_time": "2024-05-08T09:32:22.519910Z"
    }
   },
   "outputs": [
    {
     "data": {
      "text/plain": [
       "<Figure size 1000x800 with 1 Axes>"
      ],
      "image/png": "[encoded data removed]"
     },
     "metadata": {},
     "output_type": "display_data"
    }
   ],
   "execution_count": 33
  },
  {
   "cell_type": "markdown",
   "source": [
    "## 5. Save your trained model's `state_dict()` to file.\n",
    "  * Create a new instance of your model class you made in 2. and load in the `state_dict()` you just saved to it.\n",
    "  * Perform predictions on your test data with the loaded model and confirm they match the original model predictions from 4."
   ],
   "metadata": {
    "id": "s2OnlMWKjzX8"
   }
  },
  {
   "cell_type": "code",
   "source": [
    "from pathlib import Path\n",
    "\n",
    "# 1. Create models directory \n",
    "\n",
    "\n",
    "# 2. Create model save path \n",
    "\n",
    "# 3. Save the model state dict\n"
   ],
   "metadata": {
    "id": "hgxhgD14qr-i"
   },
   "outputs": [],
   "execution_count": null
  },
  {
   "cell_type": "code",
   "source": [
    "# Create new instance of model and load saved state dict (make sure to put it on the target device)\n"
   ],
   "metadata": {
    "id": "P9vTgiLRrJ7T"
   },
   "outputs": [],
   "execution_count": null
  },
  {
   "cell_type": "code",
   "source": [
    "# Make predictions with loaded model and compare them to the previous\n"
   ],
   "metadata": {
    "id": "8UGX3VebrVtI"
   },
   "outputs": [],
   "execution_count": null
  }
 ]
}
