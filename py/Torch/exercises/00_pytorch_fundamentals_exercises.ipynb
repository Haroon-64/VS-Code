{
 "cells": [
  {
   "cell_type": "markdown",
   "metadata": {
    "id": "AzDBM_v4iMe7"
   },
   "source": [
    "# 00. PyTorch Fundamentals Exercises\n",
    "\n",
    "### 1. Documentation reading \n",
    "\n",
    "A big part of deep learning (and learning to code in general) is getting familiar with the documentation of a certain framework you're using. We'll be using the PyTorch documentation a lot throughout the rest of this course. So I'd recommend spending 10-minutes reading the following (it's okay if you don't get some things for now, the focus is not yet full understanding, it's awareness):\n",
    "  * The documentation on [`torch.Tensor`](https://pytorch.org/docs/stable/tensors.html#torch-tensor).\n",
    "  * The documentation on [`torch.cuda`](https://pytorch.org/docs/master/notes/cuda.html#cuda-semantics).\n",
    "\n"
   ]
  },
  {
   "cell_type": "markdown",
   "metadata": {
    "collapsed": false
   },
   "source": [
    "# tensor vs Tensor\n",
    "\n",
    "torch.Tensor(10) will return an uninitialized FloatTensor with 10 values, while torch.tensor(10) will return a LongTensor containing a single value (10).\n",
    "I would recommend to use the second approach (lowercase t) or any other factory method instead of creating uninitialized tensors via torch.Tensor or torch.FloatTensor.\n",
    "To explicitly create a tensor with uninitialized memory, you could still use torch.empty."
   ]
  },
  {
   "cell_type": "code",
   "execution_count": 15,
   "metadata": {
    "ExecuteTime": {
     "end_time": "2024-04-05T05:37:13.646352Z",
     "start_time": "2024-04-05T05:37:13.644283Z"
    },
    "id": "bGD0oD8Kizak"
   },
   "outputs": [],
   "source": [
    "# No code solution (reading)"
   ]
  },
  {
   "cell_type": "markdown",
   "metadata": {
    "id": "__iXqqz-ioUJ"
   },
   "source": [
    "### 2. Create a random tensor with shape `(7, 7)`.\n"
   ]
  },
  {
   "cell_type": "code",
   "execution_count": 16,
   "metadata": {
    "ExecuteTime": {
<<<<<<< HEAD
     "end_time": "2024-04-05T05:37:13.703945Z",
     "start_time": "2024-04-05T05:37:13.700306Z"
    },
    "id": "6pUq9Dc8i2L7"
=======
     "end_time": "2024-05-05T12:14:39.966463Z",
     "start_time": "2024-05-05T12:14:37.431187Z"
    }
>>>>>>> 6b658e5e8b45dc3c2443281ac5afa43e8b582d73
   },
   "outputs": [
    {
     "data": {
      "text/plain": [
       "tensor([[0.0714, 0.6937],\n",
       "        [0.6108, 0.1992]])"
      ]
     },
     "execution_count": 1,
     "metadata": {},
     "output_type": "execute_result"
    }
   ],
<<<<<<< HEAD
   "source": [
    "# Import torch\n",
    "import torch\n",
    "\n",
    "# Create random tensor\n",
    "data = [[1,2],[3,4]]\n",
    "tens = torch.Tensor(data)\n",
    "torch.rand_like(tens)"
   ]
=======
   "execution_count": 1
>>>>>>> 6b658e5e8b45dc3c2443281ac5afa43e8b582d73
  },
  {
   "cell_type": "markdown",
   "metadata": {
    "id": "9-XxvRLfiqkR"
   },
   "source": [
    "### 3. Perform a matrix multiplication on the tensor from 2 with another random tensor with shape `(1, 7)` (hint: you may have to transpose the second tensor)."
   ]
  },
  {
   "cell_type": "code",
   "execution_count": 17,
   "metadata": {
    "ExecuteTime": {
<<<<<<< HEAD
     "end_time": "2024-04-05T05:37:13.716859Z",
     "start_time": "2024-04-05T05:37:13.707713Z"
    },
    "id": "NcLqR0Sbi_vT"
=======
     "end_time": "2024-05-05T12:14:42.279626Z",
     "start_time": "2024-05-05T12:14:42.266919Z"
    }
>>>>>>> 6b658e5e8b45dc3c2443281ac5afa43e8b582d73
   },
   "outputs": [
    {
     "name": "stdout",
     "output_type": "stream",
     "text": [
      "CPU times: total: 15.6 ms\n",
      "Wall time: 7.01 ms\n"
     ]
    },
    {
     "data": {
      "text/plain": [
       "tensor([[1.0513, 1.9224],\n",
       "        [2.4634, 4.4874]])"
      ]
     },
     "execution_count": 2,
     "metadata": {},
     "output_type": "execute_result"
    }
   ],
<<<<<<< HEAD
   "source": [
    "%%time\n",
    "# Create another random tensor\n",
    "t2 = torch.rand(2,2)\n",
    "# Perform matrix multiplication \n",
    "tens.matmul(t2.T)"
   ]
=======
   "execution_count": 2
>>>>>>> 6b658e5e8b45dc3c2443281ac5afa43e8b582d73
  },
  {
   "cell_type": "markdown",
   "metadata": {
    "id": "eiutdKUFiryU"
   },
   "source": [
    "### 4. Set the random seed to `0` and do 2 & 3 over again.\n",
    "\n",
    "The output should be:\n",
    "```\n",
    "(tensor([[1.8542],\n",
    "         [1.9611],\n",
    "         [2.2884],\n",
    "         [3.0481],\n",
    "         [1.7067],\n",
    "         [2.5290],\n",
    "         [1.7989]]), torch.Size([7, 1]))\n",
    "```"
   ]
  },
  {
   "cell_type": "code",
   "execution_count": 18,
   "metadata": {
    "ExecuteTime": {
     "end_time": "2024-04-05T05:37:13.728736Z",
     "start_time": "2024-04-05T05:37:13.717705Z"
    },
    "id": "D-lOWI_1jRMm"
   },
   "outputs": [
    {
     "data": {
      "text/plain": [
       "tensor([[1.8542],\n",
       "        [1.9611],\n",
       "        [2.2884],\n",
       "        [3.0481],\n",
       "        [1.7067],\n",
       "        [2.5290],\n",
       "        [1.7989]])"
      ]
     },
     "execution_count": 18,
     "metadata": {},
     "output_type": "execute_result"
    }
   ],
   "source": [
    "# Set manual seed\n",
    "torch.manual_seed(0)\n",
    "\n",
    "# Create two random tensors\n",
    "a1 = torch.rand(7,7)\n",
    "a2 = torch.rand(1,7)\n",
    "# Matrix multiply tensors\n",
    "a1.matmul(a2.T)"
   ]
  },
  {
   "cell_type": "markdown",
   "metadata": {
    "id": "ezY6ks9Cis37"
   },
   "source": [
    "### 5. Speaking of random seeds, we saw how to set it with `torch.manual_seed()` but is there a GPU equivalent? (hint: you'll need to look into the documentation for `torch.cuda` for this one)\n",
    "  * If there is, set the GPU random seed to `1234`."
   ]
  },
  {
   "cell_type": "code",
   "execution_count": 19,
   "metadata": {
    "ExecuteTime": {
<<<<<<< HEAD
     "end_time": "2024-04-05T05:37:13.739286Z",
     "start_time": "2024-04-05T05:37:13.729595Z"
    },
    "id": "_LKWcfSTjp00"
   },
   "outputs": [],
   "source": [
    "# Set random seed on the GPU\n",
    "torch.cuda.manual_seed(1234)"
   ]
=======
     "end_time": "2024-05-05T12:14:58.031020Z",
     "start_time": "2024-05-05T12:14:58.027573Z"
    }
   },
   "outputs": [],
   "execution_count": 3
>>>>>>> 6b658e5e8b45dc3c2443281ac5afa43e8b582d73
  },
  {
   "cell_type": "markdown",
   "metadata": {
    "id": "Ir9qSaj6it4n"
   },
   "source": [
    "\n",
    "### 6. Create two random tensors of shape `(2, 3)` and send them both to the GPU (you'll need access to a GPU for this). Set `torch.manual_seed(1234)` when creating the tensors (this doesn't have to be the GPU random seed). The output should be something like:\n",
    "\n",
    "```\n",
    "Device: cuda\n",
    "(tensor([[0.0290, 0.4019, 0.2598],\n",
    "         [0.3666, 0.0583, 0.7006]], device='cuda:0'),\n",
    " tensor([[0.0518, 0.4681, 0.6738],\n",
    "         [0.3315, 0.7837, 0.5631]], device='cuda:0'))\n",
    "```"
   ]
  },
  {
   "cell_type": "code",
   "execution_count": 20,
   "metadata": {
    "ExecuteTime": {
     "end_time": "2024-04-05T05:37:13.923877Z",
     "start_time": "2024-04-05T05:37:13.740397Z"
    },
    "collapsed": false
   },
   "outputs": [
    {
     "name": "stdout",
     "output_type": "stream",
     "text": [
      "Fri Apr  5 11:07:13 2024       \r\n",
      "+---------------------------------------------------------------------------------------+\r\n",
      "| NVIDIA-SMI 535.161.07             Driver Version: 535.161.07   CUDA Version: 12.2     |\r\n",
      "|-----------------------------------------+----------------------+----------------------+\r\n",
      "| GPU  Name                 Persistence-M | Bus-Id        Disp.A | Volatile Uncorr. ECC |\r\n",
      "| Fan  Temp   Perf          Pwr:Usage/Cap |         Memory-Usage | GPU-Util  Compute M. |\r\n",
      "|                                         |                      |               MIG M. |\r\n",
      "|=========================================+======================+======================|\r\n",
      "|   0  NVIDIA GeForce RTX 3060        Off | 00000000:0B:00.0  On |                  N/A |\r\n",
      "| 67%   47C    P2              48W / 170W |    810MiB / 12288MiB |      7%      Default |\r\n",
      "|                                         |                      |                  N/A |\r\n",
      "+-----------------------------------------+----------------------+----------------------+\r\n",
      "                                                                                         \r\n",
      "+---------------------------------------------------------------------------------------+\r\n",
      "| Processes:                                                                            |\r\n",
      "|  GPU   GI   CI        PID   Type   Process name                            GPU Memory |\r\n",
      "|        ID   ID                                                             Usage      |\r\n",
      "|=======================================================================================|\r\n",
      "|    0   N/A  N/A      1553      G   /usr/lib/xorg/Xorg                          164MiB |\r\n",
      "|    0   N/A  N/A      1783    C+G   ...libexec/gnome-remote-desktop-daemon      104MiB |\r\n",
      "|    0   N/A  N/A      2131      G   /usr/bin/gnome-software                      21MiB |\r\n",
      "|    0   N/A  N/A      3374      G   /usr/bin/gnome-shell                         63MiB |\r\n",
      "|    0   N/A  N/A      3522      G   /usr/bin/nautilus                            32MiB |\r\n",
      "|    0   N/A  N/A      6839    C+G   /usr/bin/gjs                                250MiB |\r\n",
      "|    0   N/A  N/A     12426      C   /usr/bin/python3                            150MiB |\r\n",
      "+---------------------------------------------------------------------------------------+\r\n"
     ]
    }
   ],
   "source": [
    "!nvidia-smi"
   ]
  },
  {
   "cell_type": "code",
   "execution_count": 21,
   "metadata": {
    "ExecuteTime": {
<<<<<<< HEAD
     "end_time": "2024-04-05T05:37:13.928133Z",
     "start_time": "2024-04-05T05:37:13.925195Z"
    },
    "collapsed": false
=======
     "end_time": "2024-05-05T12:15:09.367854Z",
     "start_time": "2024-05-05T12:15:09.317772Z"
    }
>>>>>>> 6b658e5e8b45dc3c2443281ac5afa43e8b582d73
   },
   "outputs": [
    {
     "data": {
      "text/plain": [
       "1"
      ]
     },
     "execution_count": 4,
     "metadata": {},
     "output_type": "execute_result"
    }
   ],
<<<<<<< HEAD
   "source": [
    "torch.cuda.device_count()"
   ]
=======
   "execution_count": 4
>>>>>>> 6b658e5e8b45dc3c2443281ac5afa43e8b582d73
  },
  {
   "cell_type": "code",
   "execution_count": 22,
   "metadata": {
    "ExecuteTime": {
     "end_time": "2024-04-05T05:37:13.942225Z",
     "start_time": "2024-04-05T05:37:13.928799Z"
    },
    "id": "azXExiFZj5nm"
   },
   "outputs": [
    {
     "name": "stdout",
     "output_type": "stream",
     "text": [
      "True\n"
     ]
    }
   ],
   "source": [
    "# Set random seed\n",
    "torch.manual_seed(1234)\n",
    "\n",
    "# Check for access to GPU\n",
    "print(torch.cuda.is_available())\n",
    "# Create two random tensors on GPU\n",
    "T1 = torch.rand(2,3,dtype=None,device='cuda',requires_grad=False)\n",
    "T2 = torch.rand(2,3,device='cuda')\n",
    "\n",
    "# T1 = T1.to(\"cuda\")\n",
    "# T2 = T2.to(\"cuda\")"
   ]
  },
  {
   "cell_type": "markdown",
   "metadata": {
    "id": "5TlAxeiSiu1y"
   },
   "source": [
    "\n",
    "### 7. Perform a matrix multiplication on the tensors you created in 6 (again, you may have to adjust the shapes of one of the tensors).\n",
    "\n",
    "The output should look like:\n",
    "```\n",
    "(tensor([[0.3647, 0.4709],\n",
    "         [0.5184, 0.5617]], device='cuda:0'), torch.Size([2, 2]))\n",
    "```"
   ]
  },
  {
   "cell_type": "code",
   "execution_count": 23,
   "metadata": {
    "ExecuteTime": {
     "end_time": "2024-04-05T05:37:13.954761Z",
     "start_time": "2024-04-05T05:37:13.943234Z"
    },
    "id": "fAeG7ox0lHEO"
   },
   "outputs": [
    {
     "data": {
      "text/plain": [
       "tensor([[0.2786, 0.7668],\n",
       "        [0.7343, 0.6102]], device='cuda:0')"
      ]
     },
     "execution_count": 23,
     "metadata": {},
     "output_type": "execute_result"
    }
   ],
   "source": [
    "# Perform matmul on tensor_A and tensor_B\n",
    "OUT = T1.mm(T2.T)\n",
    "OUT"
   ]
  },
  {
   "cell_type": "markdown",
   "metadata": {
    "id": "G7qfa5CSivwg"
   },
   "source": [
    "### 8. Find the maximum and minimum values of the output of 7."
   ]
  },
  {
   "cell_type": "code",
   "execution_count": 24,
   "metadata": {
    "ExecuteTime": {
     "end_time": "2024-04-05T05:37:13.965396Z",
     "start_time": "2024-04-05T05:37:13.955446Z"
    },
    "id": "Fu8_3mZpllOd"
   },
   "outputs": [
    {
     "name": "stdout",
     "output_type": "stream",
     "text": [
      "tensor(0.7668, device='cuda:0')\n",
      "tensor(0.2786, device='cuda:0')\n"
     ]
    }
   ],
   "source": [
    "# Find max\n",
    "print(OUT.max())\n",
    "# Find min\n",
    "print(OUT.min())"
   ]
  },
  {
   "cell_type": "markdown",
   "metadata": {
    "id": "wrTj5FgNiw47"
   },
   "source": [
    "### 9. Find the maximum and minimum index values of the output of 7."
   ]
  },
  {
   "cell_type": "code",
   "execution_count": 25,
   "metadata": {
    "ExecuteTime": {
     "end_time": "2024-04-05T05:37:13.976827Z",
     "start_time": "2024-04-05T05:37:13.966022Z"
    },
    "id": "CCEKt4K2lsfQ"
   },
   "outputs": [
    {
     "data": {
      "text/plain": [
       "tensor(0, device='cuda:0')"
      ]
     },
     "execution_count": 25,
     "metadata": {},
     "output_type": "execute_result"
    }
   ],
   "source": [
    "# Find arg max\n",
    "OUT.argmax()\n",
    "\n",
    "# Find arg min\n",
    "OUT.argmin()"
   ]
  },
  {
   "cell_type": "markdown",
   "metadata": {
    "id": "hmeybz4uixy7"
   },
   "source": [
    "\n",
    "### 10. Make a random tensor with shape `(1, 1, 1, 10)` and then create a new tensor with all the `1` dimensions removed to be left with a tensor of shape `(10)`. Set the seed to `7` when you create it and print out the first tensor and it's shape as well as the second tensor ,and it's shape.\n",
    "\n",
    "The output should look like:\n",
    "\n",
    "```\n",
    "tensor([[[[0.5349, 0.1988, 0.6592, 0.6569, 0.2328, 0.4251, 0.2071, 0.6297,\n",
    "           0.3653, 0.8513]]]]) torch.Size([1, 1, 1, 10])\n",
    "tensor([0.5349, 0.1988, 0.6592, 0.6569, 0.2328, 0.4251, 0.2071, 0.6297, 0.3653,\n",
    "        0.8513]) torch.Size([10])\n",
    "```"
   ]
  },
  {
   "cell_type": "code",
   "execution_count": 26,
   "metadata": {
    "ExecuteTime": {
     "end_time": "2024-04-05T05:37:13.989655Z",
     "start_time": "2024-04-05T05:37:13.977593Z"
    },
    "id": "TQ9zbRzVl1jV"
   },
   "outputs": [
    {
     "name": "stdout",
     "output_type": "stream",
     "text": [
      "tensor([[[0.4963, 0.7682, 0.0885, 0.1320, 0.3074, 0.6341, 0.4901, 0.8964,\n",
      "          0.4556, 0.6323]]])\n",
      "tensor([[[[0.4963, 0.7682, 0.0885, 0.1320, 0.3074, 0.6341, 0.4901, 0.8964,\n",
      "           0.4556, 0.6323]]]])\n"
     ]
    }
   ],
   "source": [
    "# Set seed\n",
    "torch.manual_seed(0)\n",
    "\n",
    "# Create random tensor\n",
    "ran = torch.rand(size=(1, 1, 1, 10))\n",
    "\n",
    "# Remove single dimensions\n",
    "res = ran.reshape([1,1,10])\n",
    "\n",
    "# Print out tensors and their shapes\n",
    "print(res)\n",
    "print(ran)"
   ]
  },
  {
   "cell_type": "code",
   "execution_count": 27,
   "metadata": {
    "ExecuteTime": {
     "end_time": "2024-04-05T05:37:14.002391Z",
     "start_time": "2024-04-05T05:37:13.990363Z"
    }
   },
   "outputs": [
    {
     "data": {
      "text/plain": [
       "(torch.float32, torch.int64)"
      ]
     },
     "execution_count": 27,
     "metadata": {},
     "output_type": "execute_result"
    }
   ],
   "source": [
    "torch.Tensor(1,2).dtype,torch.tensor(1).dtype"
   ]
  },
  {
   "cell_type": "markdown",
   "metadata": {},
   "source": [
    "## extra"
   ]
  },
  {
   "cell_type": "code",
   "execution_count": 27,
   "metadata": {
    "ExecuteTime": {
     "end_time": "2024-04-05T05:37:14.004398Z",
     "start_time": "2024-04-05T05:37:14.003087Z"
    }
   },
   "outputs": [],
   "source": []
  }
 ],
 "metadata": {
  "accelerator": "GPU",
  "colab": {
   "collapsed_sections": [],
   "name": "00_pytorch_fundamentals_exercises.ipynb",
   "provenance": []
  },
  "kernelspec": {
   "display_name": "Python 3 (ipykernel)",
   "language": "python",
   "name": "python3"
  },
  "language_info": {
   "name": "python",
   "version": "3.12.3"
  }
 },
 "nbformat": 4,
 "nbformat_minor": 0
}
