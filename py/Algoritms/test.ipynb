{
 "cells": [
  {
   "cell_type": "code",
   "execution_count": 28,
   "metadata": {},
   "outputs": [
    {
     "name": "stdout",
     "output_type": "stream",
     "text": [
      "1112\n"
     ]
    }
   ],
   "source": [
    "def romanToInt( s: str) -> int:\n",
    "        x=0\n",
    "        i=len(s) - 1\n",
    "        V = {'I': 1, 'V': 5, 'X': 10, 'L': 50, 'C': 100, 'D': 500, 'M': 1000}\n",
    "        while i >=0:\n",
    "            x+= V[s[i]]\n",
    "            if (s[i] == 'V' or s[i] == 'X') and (s[i-1] == 'I'): \n",
    "                x-=1\n",
    "                i-=2\n",
    "                continue\n",
    "            if (s[i] == 'L' or s[i] == 'C') and (s[i-1] == 'X'): \n",
    "                x-=10\n",
    "                i-=2\n",
    "                continue\n",
    "            if (s[i] == 'M' or s[i] == 'D') and (s[i-1] == 'C'): \n",
    "                x-=100\n",
    "                i-=2\n",
    "                continue\n",
    "            i-=1\n",
    "        return x  \n",
    "    \n",
    "print(romanToInt('MCXII'))\n"
   ]
  },
  {
   "cell_type": "code",
   "execution_count": 37,
   "metadata": {},
   "outputs": [
    {
     "data": {
      "text/plain": [
       "''"
      ]
     },
     "execution_count": 37,
     "metadata": {},
     "output_type": "execute_result"
    }
   ],
   "source": []
  }
 ],
 "metadata": {
  "kernelspec": {
   "display_name": "Python 3",
   "language": "python",
   "name": "python3"
  },
  "language_info": {
   "codemirror_mode": {
    "name": "ipython",
    "version": 3
   },
   "file_extension": ".py",
   "mimetype": "text/x-python",
   "name": "python",
   "nbconvert_exporter": "python",
   "pygments_lexer": "ipython3",
   "version": "3.11.7"
  }
 },
 "nbformat": 4,
 "nbformat_minor": 2
}
