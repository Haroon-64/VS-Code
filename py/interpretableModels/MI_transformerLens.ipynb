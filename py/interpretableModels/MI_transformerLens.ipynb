{
 "cells": [
  {
   "cell_type": "markdown",
   "metadata": {
    "id": "fmiw9h_glmmA"
   },
   "source": [
    "<a target=\"_blank\" href=\"https://colab.research.google.com/github/TransformerLensOrg/TransformerLens/blob/main/demos/Main_Demo.ipynb\">\n",
    "  <img src=\"https://colab.research.google.com/assets/colab-badge.svg\" alt=\"Open In Colab\"/>\n",
    "</a>"
   ]
  },
  {
   "cell_type": "markdown",
   "metadata": {
    "id": "-ZArDaNYlmmC"
   },
   "source": [
    "# Transformer Lens Main Demo Notebook\n",
    "\n",
    "<b style=\"color: red\">To use this notebook, go to Runtime > Change Runtime Type and select GPU as the hardware accelerator.</b>\n",
    "\n",
    "This is a reference notebook covering the main features of the [TransformerLens](https://github.com/TransformerLensOrg/TransformerLens) library for mechanistic interpretability. See [Callum McDougall's tutorial](https://transformerlens-intro.streamlit.app/TransformerLens_&_induction_circuits) for a more structured and gentler introduction to the library"
   ]
  },
  {
   "cell_type": "markdown",
   "metadata": {
    "id": "F3CNPu9dlmmD"
   },
   "source": [
    "**Tips for reading this Colab:**\n",
    "* You can run all this code for yourself!\n",
    "* The graphs are interactive!\n",
    "* Use the table of contents pane in the sidebar to navigate\n",
    "* Collapse irrelevant sections with the dropdown arrows\n",
    "* Search the page using the search in the sidebar, not CTRL+F"
   ]
  },
  {
   "cell_type": "markdown",
   "metadata": {
    "id": "TZXfyRuqlmmD"
   },
   "source": [
    "# Setup\n",
    "(No need to read)"
   ]
  },
  {
   "cell_type": "code",
   "execution_count": 1,
   "metadata": {
    "ExecuteTime": {
     "end_time": "2025-02-22T09:41:34.835582Z",
     "start_time": "2025-02-22T09:41:34.829021Z"
    },
    "colab": {
     "base_uri": "https://localhost:8080/"
    },
    "collapsed": true,
    "id": "hMnGESOalmmE",
    "outputId": "ee6948a2-30db-4a14-fd77-c1e79695e87f"
   },
   "outputs": [],
   "source": [
    "import os\n",
    "DEVELOPMENT_MODE = False\n",
    "# Detect if we're running in Google Colab\n",
    "try:\n",
    "    import google.colab\n",
    "    IN_COLAB = True\n",
    "    print(\"Running as a Colab notebook\")\n",
    "except:\n",
    "    IN_COLAB = False\n",
    "\n",
    "# Install if in Colab\n",
    "if IN_COLAB:\n",
    "    %pip install transformer_lens\n",
    "    %pip install circuitsvis\n",
    "    # Install a faster Node version\n",
    "    !curl -fsSL https://deb.nodesource.com/setup_16.x | sudo -E bash -; sudo apt-get install -y nodejs  # noqa\n",
    "\n",
    "# Hot reload in development mode & not running on the CD\n",
    "if not IN_COLAB:\n",
    "    from IPython import get_ipython\n",
    "    ip = get_ipython()\n",
    "    if not ip.extension_manager.loaded:\n",
    "        ip.extension_manager.load('autoreload')\n",
    "        %autoreload 2\n",
    "\n",
    "IN_GITHUB = os.getenv(\"GITHUB_ACTIONS\") == \"true\"\n"
   ]
  },
  {
   "cell_type": "code",
   "execution_count": null,
   "metadata": {},
   "outputs": [],
   "source": []
  },
  {
   "cell_type": "code",
   "execution_count": null,
   "metadata": {
    "ExecuteTime": {
     "end_time": "2025-02-22T09:41:34.980427Z",
     "start_time": "2025-02-22T09:41:34.851215Z"
    },
    "colab": {
     "base_uri": "https://localhost:8080/"
    },
    "id": "WSVD0BhWlmmE",
    "outputId": "7ffecd9d-ad1f-4e8e-f555-c0faa044575d"
   },
   "outputs": [
    {
     "name": "stdout",
     "output_type": "stream",
     "text": [
      "Using renderer: browser\n"
     ]
    }
   ],
   "source": [
    "# Plotly needs a different renderer for VSCode/Notebooks vs Colab argh\n",
    "import plotly.io as pio\n",
    "if IN_COLAB or not DEVELOPMENT_MODE:\n",
    "    pio.renderers.default = \"colab\"\n",
    "else:\n",
    "    pio.renderers.default = \"notebook_connected\"\n",
    "# pio.renderers.default = \"browser\"\n",
    "pio.renderers.default = \"notebook\"\n",
    "\n",
    "print(f\"Using renderer: {pio.renderers.default}\")"
   ]
  },
  {
   "cell_type": "code",
   "execution_count": 5,
   "metadata": {
    "ExecuteTime": {
     "end_time": "2025-02-22T09:41:37.651569Z",
     "start_time": "2025-02-22T09:41:35.164149Z"
    },
    "colab": {
     "base_uri": "https://localhost:8080/",
     "height": 64
    },
    "id": "jBOMLhGUlmmF",
    "outputId": "a25d4d54-8c22-45d2-c9bf-4a53c82d9f5c"
   },
   "outputs": [
    {
     "data": {
      "text/html": [
       "<div id=\"circuits-vis-fc07affc-928c\" style=\"margin: 15px 0;\"/>\n",
       "    <script crossorigin type=\"module\">\n",
       "    import { render, Hello } from \"https://unpkg.com/circuitsvis@1.43.3/dist/cdn/esm.js\";\n",
       "    render(\n",
       "      \"circuits-vis-fc07affc-928c\",\n",
       "      Hello,\n",
       "      {\"name\": \"Neel\"}\n",
       "    )\n",
       "    </script>"
      ],
      "text/plain": [
       "<circuitsvis.utils.render.RenderedHTML at 0x1f56c05f140>"
      ]
     },
     "execution_count": 5,
     "metadata": {},
     "output_type": "execute_result"
    }
   ],
   "source": [
    "import circuitsvis as cv\n",
    "# Testing that the library works\n",
    "cv.examples.hello(\"Neel\")"
   ]
  },
  {
   "cell_type": "code",
   "execution_count": 6,
   "metadata": {
    "ExecuteTime": {
     "end_time": "2025-02-22T09:41:38.042572Z",
     "start_time": "2025-02-22T09:41:37.657885Z"
    },
    "id": "96LdMfgTlmmF"
   },
   "outputs": [],
   "source": [
    "# Import stuff\n",
    "import torch\n",
    "import torch.nn as nn\n",
    "import einops\n",
    "from fancy_einsum import einsum\n",
    "import tqdm.auto as tqdm\n",
    "import plotly.express as px\n",
    "\n",
    "from jaxtyping import Float\n",
    "from functools import partial"
   ]
  },
  {
   "cell_type": "code",
   "execution_count": 7,
   "metadata": {
    "ExecuteTime": {
     "end_time": "2025-02-22T09:41:41.716644Z",
     "start_time": "2025-02-22T09:41:38.046756Z"
    },
    "id": "tyTmeEQqlmmG"
   },
   "outputs": [],
   "source": [
    "# import transformer_lens\n",
    "import transformer_lens.utils as utils\n",
    "from transformer_lens.hook_points import (\n",
    "    HookPoint,\n",
    ")  # Hooking utilities\n",
    "from transformer_lens import HookedTransformer, FactoredMatrix"
   ]
  },
  {
   "cell_type": "markdown",
   "metadata": {
    "id": "Dii4zvuPlmmG"
   },
   "source": [
    "We turn automatic differentiation off, to save GPU memory, as this notebook focuses on model inference not model training."
   ]
  },
  {
   "cell_type": "code",
   "execution_count": 9,
   "metadata": {
    "ExecuteTime": {
     "end_time": "2025-02-22T09:41:41.725240Z",
     "start_time": "2025-02-22T09:41:41.720788Z"
    },
    "colab": {
     "base_uri": "https://localhost:8080/"
    },
    "id": "cueZx_9YlmmG",
    "outputId": "937d8c64-29e3-4c63-c176-f82ad125d0be"
   },
   "outputs": [
    {
     "data": {
      "text/plain": [
       "<torch.autograd.grad_mode.set_grad_enabled at 0x1f576369640>"
      ]
     },
     "execution_count": 9,
     "metadata": {},
     "output_type": "execute_result"
    }
   ],
   "source": [
    "torch.set_grad_enabled(False)"
   ]
  },
  {
   "cell_type": "markdown",
   "metadata": {
    "id": "rausiXBtlmmG"
   },
   "source": [
    "Plotting helper functions:"
   ]
  },
  {
   "cell_type": "code",
   "execution_count": 10,
   "metadata": {
    "ExecuteTime": {
     "end_time": "2025-02-22T09:41:41.783315Z",
     "start_time": "2025-02-22T09:41:41.776797Z"
    },
    "id": "hYpt2E8DlmmH"
   },
   "outputs": [],
   "source": [
    "def imshow(tensor, renderer=None, xaxis=\"\", yaxis=\"\", **kwargs):\n",
    "    px.imshow(utils.to_numpy(tensor), color_continuous_midpoint=0.0, color_continuous_scale=\"RdBu\", labels={\"x\":xaxis, \"y\":yaxis}, **kwargs).show(renderer)\n",
    "\n",
    "def line(tensor, renderer=None, xaxis=\"\", yaxis=\"\", **kwargs):\n",
    "    px.line(utils.to_numpy(tensor), labels={\"x\":xaxis, \"y\":yaxis}, **kwargs).show(renderer)\n",
    "\n",
    "def scatter(x, y, xaxis=\"\", yaxis=\"\", caxis=\"\", renderer=None, **kwargs):\n",
    "    x = utils.to_numpy(x)\n",
    "    y = utils.to_numpy(y)\n",
    "    px.scatter(y=y, x=x, labels={\"x\":xaxis, \"y\":yaxis, \"color\":caxis}, **kwargs).show(renderer)"
   ]
  },
  {
   "cell_type": "markdown",
   "metadata": {
    "id": "mWVz2qMalmmI"
   },
   "source": [
    "# Introduction"
   ]
  },
  {
   "cell_type": "markdown",
   "metadata": {
    "id": "FMxD8oAClmmI"
   },
   "source": [
    "This is a demo notebook for [TransformerLens](https://github.com/TransformerLensOrg/TransformerLens), **a library I ([Neel Nanda](https://neelnanda.io)) wrote for doing [mechanistic interpretability](https://distill.pub/2020/circuits/zoom-in/) of GPT-2 Style language models.** The goal of mechanistic interpretability is to take a trained model and reverse engineer the algorithms the model learned during training from its weights. It is a fact about the world today that we have computer programs that can essentially speak English at a human level (GPT-3, PaLM, etc), yet we have no idea how they work nor how to write one ourselves. This offends me greatly, and I would like to solve this! Mechanistic interpretability is a very young and small field, and there are a *lot* of open problems - if you would like to help, please try working on one! **If you want to skill up, check out [my guide to getting started](https://neelnanda.io/getting-started), and if you want to jump into an open problem check out my sequence [200 Concrete Open Problems in Mechanistic Interpretability](https://neelnanda.io/concrete-open-problems).**\n",
    "\n",
    "I wrote this library because after I left the Anthropic interpretability team and started doing independent research, I got extremely frustrated by the state of open source tooling. There's a lot of excellent infrastructure like HuggingFace and DeepSpeed to *use* or *train* models, but very little to dig into their internals and reverse engineer how they work. **This library tries to solve that**, and to make it easy to get into the field even if you don't work at an industry org with real infrastructure! The core features were heavily inspired by [Anthropic's excellent Garcon tool](https://transformer-circuits.pub/2021/garcon/index.html). Credit to Nelson Elhage and Chris Olah for building Garcon and showing me the value of good infrastructure for accelerating exploratory research!\n",
    "\n",
    "The core design principle I've followed is to enable exploratory analysis - one of the most fun parts of mechanistic interpretability compared to normal ML is the extremely short feedback loops! The point of this library is to keep the gap between having an experiment idea and seeing the results as small as possible, to make it easy for **research to feel like play** and to enter a flow state. This notebook demonstrates how the library works and how to use it, but if you want to see how well it works for exploratory research, check out [my notebook analysing Indirect Objection Identification](https://neelnanda.io/exploratory-analysis-demo) or [my recording of myself doing research](https://www.youtube.com/watch?v=yo4QvDn-vsU)!"
   ]
  },
  {
   "cell_type": "markdown",
   "metadata": {
    "id": "IrDvLEMGlmmI"
   },
   "source": [
    "## Loading and Running Models\n",
    "\n",
    "TransformerLens comes loaded with >40 open source GPT-style models. You can load any of them in with `HookedTransformer.from_pretrained(MODEL_NAME)`. For this demo notebook we'll look at GPT-2 Small, an 80M parameter model, see the Available Models section for info on the rest."
   ]
  },
  {
   "cell_type": "code",
   "execution_count": 11,
   "metadata": {
    "ExecuteTime": {
     "end_time": "2025-02-22T09:41:41.823004Z",
     "start_time": "2025-02-22T09:41:41.818413Z"
    },
    "id": "qQ3mn6_olmmI"
   },
   "outputs": [],
   "source": [
    "device = utils.get_device()"
   ]
  },
  {
   "cell_type": "code",
   "execution_count": 12,
   "metadata": {
    "ExecuteTime": {
     "end_time": "2025-02-22T09:41:44.501249Z",
     "start_time": "2025-02-22T09:41:41.826847Z"
    },
    "colab": {
     "base_uri": "https://localhost:8080/",
     "height": 397,
     "referenced_widgets": [
      "fa24ded3f0084678ae95803f306eeb3f",
      "697513b893bb496daecd455e9f17501c",
      "2265e4cae63540868d07e53f2587de4c",
      "ac8a077261084fb0a15432eef08d943b",
      "a263638ce6c54e3bbcc428d8aadd59f8",
      "6cba3da2519a492a86656a9080afd94e",
      "39af238f1e1b4328a8c304c52346f476",
      "7fc2f88869d946ee84d4616c1dbc6ddf",
      "c66e81c725054e449afa1879feb45b12",
      "3176f1a3afed4929b0136a0a6073de24",
      "b3b9c67105094d3292e8384ea633dd95",
      "84b7a3750f534e8ca98bc5975dbdcc51",
      "21df21ce660643689290fee04ada92d4",
      "5e2c1e4f85d14281a0059cf50737189c",
      "88b46d0714c340c288f7fb85630584a2",
      "a27369f1be984f218a14f3366ca891bb",
      "dd4353dc6aa5436492269899b150e646",
      "aeaffa15d73246389cff1c6183f256d8",
      "f88b87c9d5ab43c1a63e7878ac6d4dee",
      "6c38d7b3daa345dfb274273722bee150",
      "82dd0b99aae44ab88f4195d376c5539f",
      "14215a32b0c04c518566bcc365398ad6",
      "4a3bbb75450e4cdbbcaaa3f035c36674",
      "954606da339d4c488210f952214d1a5f",
      "ff045e99c2cf471b8e5c05f63eda6b44",
      "80add429caec40c18c441038917e8927",
      "abcb120444fa4ed6a783fb3bfa11994b",
      "a3c39480f53f4bd3bcb154570e7b5af1",
      "01f9a225328c4b5fb9aa7d04608fba80",
      "c6a84e14c4c74a53b856ea07ee04ba32",
      "73904eeaa50b41a2a76fcd1788ca802d",
      "ae4319d7836042719732f534b0278911",
      "b071903e7e944164bfcaa7268fc68bc0",
      "985217a273364151bf7e804f22896ec6",
      "6c2f5a297a334fd99eb7d10e96348aa1",
      "9b579560b8c04d7e8fd640389ffddad5",
      "4453a276840342b08a628a67f39fb7b9",
      "a309a42d8ece48c787e1dea2ec6d1321",
      "f359bedcf34f417ab203e5dfecb1a3f9",
      "97b3d9fb7986429fb0037413c58f2926",
      "14f005152d874a3795e0c7195f99459f",
      "75319aa2ed4e436fb6c4b4bfbfa17f28",
      "c61ab09b21564a9e9abbbe98e20c4880",
      "e6debf08b9e545a18acc2b53ce7dc9b5",
      "de291f7a7b8e43c48c1c8e3041bbb5aa",
      "3df8d6de1d8045bc8d99c5e2cf260a32",
      "78416a088be04e3ea3cbf2569f3d6a43",
      "16d140850a994b2db2b9575de9026741",
      "720d0da0ee2d45f891ca9e2346fda60a",
      "eead2479be4c424bb482e7b9d5421929",
      "bbaf85d5694646b6829cd4511a291e9c",
      "809619bdab1642c99475cba48e126946",
      "5846596e7ede435cb01dac2ff244714e",
      "5da04967fb694094bccfaf422217e82c",
      "95fbf0d0f2a74f68960653a1e0f1897d",
      "75e86c88c0fc49af98d9a57d626ff493",
      "33d0495a013d429ba129b1c3c73e26ab",
      "a92d3578c20145779132fdef4191ac5a",
      "b9e8fb0173fe4c94a67aa928d82ed194",
      "3f8aa4b60406422898c2649c716556ae",
      "2595cd16350c435bb872abc4771f26ca",
      "fa8b276cbe644299a94c9e035e3a08b6",
      "a0d9d08719894844a6000b099046d130",
      "f8978ddd22524e7d941d93a9a53c919a",
      "dcb1332e0c0e42a09a802fea5a033e4e",
      "c39850f41ccd4dc5a3cf1d10e3d0b6ff",
      "e7389a54e4854b95b5c98f67de9dc3cb",
      "e76e22d03ddd497485be0d5a42e41187",
      "4d6cd7cf696b47c39814c553ce63a2a3",
      "220fce1aae5a45ddba8f67686c40ed34",
      "136fd076a24c437a85b4382ee587770a",
      "01ae48e70a9b424fb06a47916dafdfec",
      "509dd97d40e2443e9e9aa82a764f782b",
      "4292a2b187394f4ab8e0ea3ebe7744b5",
      "363d66c74c414667a35e3a51aadaec9a",
      "f177dfb8c1bc4783aac6e36f93589e4d",
      "2846f5fcdf734966a29e737214fb4880"
     ]
    },
    "id": "NtMQeODJlmmI",
    "outputId": "4d535be5-fc34-451d-ec7e-8515ef34e90f"
   },
   "outputs": [
    {
     "name": "stdout",
     "output_type": "stream",
     "text": [
      "Loaded pretrained model gpt2-small into HookedTransformer\n"
     ]
    }
   ],
   "source": [
    "# NBVAL_IGNORE_OUTPUT\n",
    "model = HookedTransformer.from_pretrained(\"gpt2-small\", device=device)"
   ]
  },
  {
   "cell_type": "markdown",
   "metadata": {
    "id": "uV-Q7ELjlmmI"
   },
   "source": [
    "To try the model out, let's find the loss on this text! Models can be run on a single string or a tensor of tokens (shape: [batch, position], all integers), and the possible return types are:\n",
    "* \"logits\" (shape [batch, position, d_vocab], floats),\n",
    "* \"loss\" (the cross-entropy loss when predicting the next token),\n",
    "* \"both\" (a tuple of (logits, loss))\n",
    "* None (run the model, but don't calculate the logits - this is faster when we only want to use intermediate activations)"
   ]
  },
  {
   "cell_type": "code",
   "execution_count": 13,
   "metadata": {
    "ExecuteTime": {
     "end_time": "2025-02-22T09:41:44.689210Z",
     "start_time": "2025-02-22T09:41:44.505624Z"
    },
    "colab": {
     "base_uri": "https://localhost:8080/"
    },
    "id": "Z380hJJilmmI",
    "outputId": "e1f13c02-bcc7-4605-bfbd-bdae2826f0a6"
   },
   "outputs": [
    {
     "name": "stdout",
     "output_type": "stream",
     "text": [
      "Model loss: tensor(4.1307, device='cuda:0')\n"
     ]
    }
   ],
   "source": [
    "model_description_text = \"\"\"## Loading Models\n",
    "\n",
    "HookedTransformer comes loaded with >40 open source GPT-style models. You can load any of them in with `HookedTransformer.from_pretrained(MODEL_NAME)`. See my explainer for documentation of all supported models, and this table for hyper-parameters and the name used to load them. Each model is loaded into the consistent HookedTransformer architecture, designed to be clean, consistent and interpretability-friendly.\n",
    "\n",
    "For this demo notebook we'll look at GPT-2 Small, an 80M parameter model. To try the model the model out, let's find the loss on this paragraph!\"\"\"\n",
    "loss = model(model_description_text, return_type=\"loss\")\n",
    "print(\"Model loss:\", loss)"
   ]
  },
  {
   "cell_type": "markdown",
   "metadata": {
    "id": "XAgDodjZlmmI"
   },
   "source": [
    "## Caching all Activations\n",
    "\n",
    "The first basic operation when doing mechanistic interpretability is to break open the black box of the model and look at all of the internal activations of a model. This can be done with `logits, cache = model.run_with_cache(tokens)`. Let's try this out on the first line of the abstract of the GPT-2 paper.\n",
    "\n",
    "<details><summary>On `remove_batch_dim`</summary>\n",
    "\n",
    "Every activation inside the model begins with a batch dimension. Here, because we only entered a single batch dimension, that dimension is always length 1 and kinda annoying, so passing in the `remove_batch_dim=True` keyword removes it. `gpt2_cache_no_batch_dim = gpt2_cache.remove_batch_dim()` would have achieved the same effect.\n",
    "</details?>"
   ]
  },
  {
   "cell_type": "code",
   "execution_count": 14,
   "metadata": {
    "ExecuteTime": {
     "end_time": "2025-02-22T09:41:44.732955Z",
     "start_time": "2025-02-22T09:41:44.695675Z"
    },
    "colab": {
     "base_uri": "https://localhost:8080/"
    },
    "id": "LWZWFMfilmmJ",
    "outputId": "d43c4503-e884-4834-871b-1781c0f9560c"
   },
   "outputs": [
    {
     "name": "stdout",
     "output_type": "stream",
     "text": [
      "cuda:0\n"
     ]
    }
   ],
   "source": [
    "gpt2_text = \"Natural language processing tasks, such as question answering, machine translation, reading comprehension, and summarization, are typically approached with supervised learning on taskspecific datasets.\"\n",
    "gpt2_tokens = model.to_tokens(gpt2_text)\n",
    "print(gpt2_tokens.device)\n",
    "gpt2_logits, gpt2_cache = model.run_with_cache(gpt2_tokens, remove_batch_dim=True)"
   ]
  },
  {
   "cell_type": "markdown",
   "metadata": {
    "id": "yDl3JZAClmmJ"
   },
   "source": [
    "Let's visualize the attention pattern of all the heads in layer 0, using [Alan Cooney's CircuitsVis library](https://github.com/alan-cooney/CircuitsVis) (based on [Anthropic's PySvelte library](https://github.com/anthropics/PySvelte)).\n",
    "\n",
    "We look this the attention pattern in `gpt2_cache`, an `ActivationCache` object, by entering in the name of the activation, followed by the layer index (here, the activation is called \"attn\" and the layer index is 0). This has shape [head_index, destination_position, source_position], and we use the `model.to_str_tokens` method to convert the text to a list of tokens as strings, since there is an attention weight between each pair of tokens.\n",
    "\n",
    "This visualization is interactive! Try hovering over a token or head, and click to lock. The grid on the top left and for each head is the attention pattern as a destination position by source position grid. It's lower triangular because GPT-2 has **causal attention**, attention can only look backwards, so information can only move forwards in the network.\n",
    "\n",
    "See the ActivationCache section for more on what `gpt2_cache` can do."
   ]
  },
  {
   "cell_type": "code",
   "execution_count": 15,
   "metadata": {
    "ExecuteTime": {
     "end_time": "2025-02-22T09:41:44.751722Z",
     "start_time": "2025-02-22T09:41:44.746089Z"
    },
    "colab": {
     "base_uri": "https://localhost:8080/"
    },
    "id": "CMBu3P7ElmmJ",
    "outputId": "39c5155e-0198-4cd6-fd41-9b078c58895e"
   },
   "outputs": [
    {
     "name": "stdout",
     "output_type": "stream",
     "text": [
      "<class 'transformer_lens.ActivationCache.ActivationCache'>\n",
      "torch.Size([12, 33, 33])\n"
     ]
    }
   ],
   "source": [
    "print(type(gpt2_cache))\n",
    "attention_pattern = gpt2_cache[\"pattern\", 0, \"attn\"]\n",
    "print(attention_pattern.shape)\n",
    "gpt2_str_tokens = model.to_str_tokens(gpt2_text)"
   ]
  },
  {
   "cell_type": "code",
   "execution_count": 16,
   "metadata": {
    "ExecuteTime": {
     "end_time": "2025-02-22T09:41:45.682327Z",
     "start_time": "2025-02-22T09:41:44.816220Z"
    },
    "colab": {
     "base_uri": "https://localhost:8080/",
     "height": 375
    },
    "id": "FwGrRqN_lmmJ",
    "outputId": "b7d0f003-0843-4724-dc2c-4daac06ff1c2"
   },
   "outputs": [
    {
     "name": "stdout",
     "output_type": "stream",
     "text": [
      "Layer 0 Head Attention Patterns:\n"
     ]
    },
    {
     "data": {
      "text/html": [
       "<div id=\"circuits-vis-965d48e2-92db\" style=\"margin: 15px 0;\"/>\n",
       "    <script crossorigin type=\"module\">\n",
       "    import { render, AttentionPatterns } from \"https://unpkg.com/circuitsvis@1.43.3/dist/cdn/esm.js\";\n",
       "    render(\n",
       "      \"circuits-vis-965d48e2-92db\",\n",
       "      AttentionPatterns,\n",
       "      {\"tokens\": [\"<|endoftext|>\", \"Natural\", \" language\", \" processing\", \" tasks\", \",\", \" such\", \" as\", \" question\", \" answering\", \",\", \" machine\", \" translation\", \",\", \" reading\", \" comprehension\", \",\", \" and\", \" summar\", \"ization\", \",\", \" are\", \" typically\", \" approached\", \" with\", \" supervised\", \" learning\", \" on\", \" tasks\", \"pe\", \"cific\", \" datasets\", \".\"], \"attention\": [[[1.0, 0.0, 0.0, 0.0, 0.0, 0.0, 0.0, 0.0, 0.0, 0.0, 0.0, 0.0, 0.0, 0.0, 0.0, 0.0, 0.0, 0.0, 0.0, 0.0, 0.0, 0.0, 0.0, 0.0, 0.0, 0.0, 0.0, 0.0, 0.0, 0.0, 0.0, 0.0, 0.0], [0.9639418721199036, 0.03605814650654793, 0.0, 0.0, 0.0, 0.0, 0.0, 0.0, 0.0, 0.0, 0.0, 0.0, 0.0, 0.0, 0.0, 0.0, 0.0, 0.0, 0.0, 0.0, 0.0, 0.0, 0.0, 0.0, 0.0, 0.0, 0.0, 0.0, 0.0, 0.0, 0.0, 0.0, 0.0], [0.8389372229576111, 0.1182878389954567, 0.04277484863996506, 0.0, 0.0, 0.0, 0.0, 0.0, 0.0, 0.0, 0.0, 0.0, 0.0, 0.0, 0.0, 0.0, 0.0, 0.0, 0.0, 0.0, 0.0, 0.0, 0.0, 0.0, 0.0, 0.0, 0.0, 0.0, 0.0, 0.0, 0.0, 0.0, 0.0], [0.4743611216545105, 0.13382019102573395, 0.2737175226211548, 0.11810117214918137, 0.0, 0.0, 0.0, 0.0, 0.0, 0.0, 0.0, 0.0, 0.0, 0.0, 0.0, 0.0, 0.0, 0.0, 0.0, 0.0, 0.0, 0.0, 0.0, 0.0, 0.0, 0.0, 0.0, 0.0, 0.0, 0.0, 0.0, 0.0, 0.0], [0.35606446862220764, 0.10184910148382187, 0.2305421382188797, 0.20397408306598663, 0.10757023841142654, 0.0, 0.0, 0.0, 0.0, 0.0, 0.0, 0.0, 0.0, 0.0, 0.0, 0.0, 0.0, 0.0, 0.0, 0.0, 0.0, 0.0, 0.0, 0.0, 0.0, 0.0, 0.0, 0.0, 0.0, 0.0, 0.0, 0.0, 0.0], [0.6660144329071045, 0.16866379976272583, 0.04535672068595886, 0.03885500505566597, 0.06775478273630142, 0.013355255126953125, 0.0, 0.0, 0.0, 0.0, 0.0, 0.0, 0.0, 0.0, 0.0, 0.0, 0.0, 0.0, 0.0, 0.0, 0.0, 0.0, 0.0, 0.0, 0.0, 0.0, 0.0, 0.0, 0.0, 0.0, 0.0, 0.0, 0.0], [0.38626953959465027, 0.285109281539917, 0.07609008997678757, 0.05908380076289177, 0.07223349809646606, 0.03979634493589401, 0.08141741156578064, 0.0, 0.0, 0.0, 0.0, 0.0, 0.0, 0.0, 0.0, 0.0, 0.0, 0.0, 0.0, 0.0, 0.0, 0.0, 0.0, 0.0, 0.0, 0.0, 0.0, 0.0, 0.0, 0.0, 0.0, 0.0, 0.0], [0.37753939628601074, 0.18838831782341003, 0.11723995208740234, 0.08685596287250519, 0.0666917935013771, 0.035000164061784744, 0.09692998975515366, 0.031354404985904694, 0.0, 0.0, 0.0, 0.0, 0.0, 0.0, 0.0, 0.0, 0.0, 0.0, 0.0, 0.0, 0.0, 0.0, 0.0, 0.0, 0.0, 0.0, 0.0, 0.0, 0.0, 0.0, 0.0, 0.0, 0.0], [0.48697546124458313, 0.06781314313411713, 0.07952875643968582, 0.08480784296989441, 0.159026101231575, 0.029577812179923058, 0.025685925036668777, 0.016474606469273567, 0.05011039599776268, 0.0, 0.0, 0.0, 0.0, 0.0, 0.0, 0.0, 0.0, 0.0, 0.0, 0.0, 0.0, 0.0, 0.0, 0.0, 0.0, 0.0, 0.0, 0.0, 0.0, 0.0, 0.0, 0.0, 0.0], [0.2906550168991089, 0.040134962648153305, 0.14614860713481903, 0.09940594434738159, 0.15389196574687958, 0.039001598954200745, 0.02498898282647133, 0.03184128180146217, 0.10222819447517395, 0.07170350849628448, 0.0, 0.0, 0.0, 0.0, 0.0, 0.0, 0.0, 0.0, 0.0, 0.0, 0.0, 0.0, 0.0, 0.0, 0.0, 0.0, 0.0, 0.0, 0.0, 0.0, 0.0, 0.0, 0.0], [0.39624106884002686, 0.0969417616724968, 0.027270659804344177, 0.023551346734166145, 0.03723450005054474, 0.006502412725239992, 0.08118756115436554, 0.013088448904454708, 0.06990589946508408, 0.2404310554265976, 0.007645335979759693, 0.0, 0.0, 0.0, 0.0, 0.0, 0.0, 0.0, 0.0, 0.0, 0.0, 0.0, 0.0, 0.0, 0.0, 0.0, 0.0, 0.0, 0.0, 0.0, 0.0, 0.0, 0.0], [0.24864794313907623, 0.1380205899477005, 0.09235323220491409, 0.08676128834486008, 0.1381969153881073, 0.059141963720321655, 0.032238587737083435, 0.031582366675138474, 0.030489416792988777, 0.03873486444354057, 0.06671836972236633, 0.037114467471838, 0.0, 0.0, 0.0, 0.0, 0.0, 0.0, 0.0, 0.0, 0.0, 0.0, 0.0, 0.0, 0.0, 0.0, 0.0, 0.0, 0.0, 0.0, 0.0, 0.0, 0.0], [0.19148442149162292, 0.1617259830236435, 0.07445936650037766, 0.07740950584411621, 0.021961091086268425, 0.03392129763960838, 0.051250215619802475, 0.01951923780143261, 0.03132446110248566, 0.04020150378346443, 0.03874269127845764, 0.21578852832317352, 0.04221169650554657, 0.0, 0.0, 0.0, 0.0, 0.0, 0.0, 0.0, 0.0, 0.0, 0.0, 0.0, 0.0, 0.0, 0.0, 0.0, 0.0, 0.0, 0.0, 0.0, 0.0], [0.3704317808151245, 0.08681415766477585, 0.02458466961979866, 0.021616313606500626, 0.03238870948553085, 0.005422729533165693, 0.0727522000670433, 0.011272793635725975, 0.06329692155122757, 0.2172681987285614, 0.006367158144712448, 0.029603809118270874, 0.050998445600271225, 0.007182061672210693, 0.0, 0.0, 0.0, 0.0, 0.0, 0.0, 0.0, 0.0, 0.0, 0.0, 0.0, 0.0, 0.0, 0.0, 0.0, 0.0, 0.0, 0.0, 0.0], [0.19737650454044342, 0.04603998363018036, 0.04399982467293739, 0.1337345838546753, 0.05424822121858597, 0.02547571435570717, 0.02756349928677082, 0.021570930257439613, 0.05171822011470795, 0.06458096951246262, 0.028064638376235962, 0.23551598191261292, 0.019129805266857147, 0.029963519424200058, 0.02101769484579563, 0.0, 0.0, 0.0, 0.0, 0.0, 0.0, 0.0, 0.0, 0.0, 0.0, 0.0, 0.0, 0.0, 0.0, 0.0, 0.0, 0.0, 0.0], [0.08907238394021988, 0.01928834617137909, 0.1665353924036026, 0.07281264662742615, 0.047386396676301956, 0.02448790706694126, 0.028987320140004158, 0.019370364025235176, 0.02667301334440708, 0.07316634804010391, 0.025704586878418922, 0.04242357239127159, 0.058694615960121155, 0.028932681307196617, 0.18119074404239655, 0.09527374058961868, 0.0, 0.0, 0.0, 0.0, 0.0, 0.0, 0.0, 0.0, 0.0, 0.0, 0.0, 0.0, 0.0, 0.0, 0.0, 0.0, 0.0], [0.28167295455932617, 0.06441287696361542, 0.01800854504108429, 0.016169613227248192, 0.023183874785900116, 0.0037532958667725325, 0.05472242459654808, 0.007909759879112244, 0.046164706349372864, 0.1694728136062622, 0.00436164578422904, 0.021011339500546455, 0.035490699112415314, 0.00493257213383913, 0.0955522358417511, 0.14726324379444122, 0.0059174480848014355, 0.0, 0.0, 0.0, 0.0, 0.0, 0.0, 0.0, 0.0, 0.0, 0.0, 0.0, 0.0, 0.0, 0.0, 0.0, 0.0], [0.21305492520332336, 0.0591236874461174, 0.033820874989032745, 0.02747686393558979, 0.028393549844622612, 0.00842289999127388, 0.04008527845144272, 0.011629254557192326, 0.05295189470052719, 0.1540464609861374, 0.009831808507442474, 0.03610193729400635, 0.047372885048389435, 0.011069195345044136, 0.09972474724054337, 0.13971348106861115, 0.013185341842472553, 0.013994943350553513, 0.0, 0.0, 0.0, 0.0, 0.0, 0.0, 0.0, 0.0, 0.0, 0.0, 0.0, 0.0, 0.0, 0.0, 0.0], [0.15871690213680267, 0.04387890174984932, 0.08712145686149597, 0.08998465538024902, 0.03073856607079506, 0.03414895012974739, 0.02491724118590355, 0.031391944736242294, 0.024823855608701706, 0.019790329039096832, 0.03625485301017761, 0.020694414153695107, 0.04284068942070007, 0.03820900619029999, 0.062346577644348145, 0.10919709503650665, 0.0413760282099247, 0.04916762188076973, 0.054400909692049026, 0.0, 0.0, 0.0, 0.0, 0.0, 0.0, 0.0, 0.0, 0.0, 0.0, 0.0, 0.0, 0.0, 0.0], [0.10485514253377914, 0.12122292071580887, 0.0648748055100441, 0.08768723160028458, 0.034340497106313705, 0.017483942210674286, 0.03415179252624512, 0.01528913713991642, 0.02331210859119892, 0.028306500986218452, 0.01872045360505581, 0.028111949563026428, 0.04190530255436897, 0.020989565178751945, 0.04678510129451752, 0.08659636229276657, 0.023631827905774117, 0.024273168295621872, 0.16702397167682648, 0.010438221506774426, 0.0, 0.0, 0.0, 0.0, 0.0, 0.0, 0.0, 0.0, 0.0, 0.0, 0.0, 0.0, 0.0], [0.22901977598667145, 0.05184382200241089, 0.013585183769464493, 0.012337238527834415, 0.01800542324781418, 0.0027703598607331514, 0.04238126054406166, 0.005856256000697613, 0.03614486753940582, 0.13039228320121765, 0.003153424710035324, 0.01567257195711136, 0.027800405398011208, 0.0035543267149478197, 0.07460816949605942, 0.11298273503780365, 0.004272265359759331, 0.00683219637721777, 0.18569737672805786, 0.018073635175824165, 0.00501635205000639, 0.0, 0.0, 0.0, 0.0, 0.0, 0.0, 0.0, 0.0, 0.0, 0.0, 0.0, 0.0], [0.18869926035404205, 0.03438713774085045, 0.02234475128352642, 0.019972726702690125, 0.016354024410247803, 0.006856551393866539, 0.020859049633145332, 0.0056960019282996655, 0.03415917232632637, 0.07260990887880325, 0.007857218384742737, 0.01804024539887905, 0.026904474943876266, 0.009020397439599037, 0.06876446306705475, 0.1757873147726059, 0.01072007417678833, 0.009284544736146927, 0.19256393611431122, 0.025180328637361526, 0.012639066204428673, 0.02129935286939144, 0.0, 0.0, 0.0, 0.0, 0.0, 0.0, 0.0, 0.0, 0.0, 0.0, 0.0], [0.11958315223455429, 0.02225940302014351, 0.03294714167714119, 0.020170236006379128, 0.035653285682201385, 0.013459892943501472, 0.017516467720270157, 0.010057870298624039, 0.02585645020008087, 0.05955955758690834, 0.015084508806467056, 0.015008724294602871, 0.05317467078566551, 0.016597608104348183, 0.041555266827344894, 0.131293386220932, 0.019296664744615555, 0.015855029225349426, 0.17925088107585907, 0.016183825209736824, 0.02229551412165165, 0.015463385730981827, 0.10187704861164093, 0.0, 0.0, 0.0, 0.0, 0.0, 0.0, 0.0, 0.0, 0.0, 0.0], [0.14615538716316223, 0.026727497577667236, 0.01662455126643181, 0.018987689167261124, 0.06278639286756516, 0.015317167155444622, 0.019792240113019943, 0.014227775856852531, 0.02545817382633686, 0.04530354216694832, 0.01636435277760029, 0.0374930240213871, 0.013288654386997223, 0.017496533691883087, 0.03994584083557129, 0.05881759896874428, 0.019260969012975693, 0.024616044014692307, 0.038219694048166275, 0.021577803418040276, 0.020949890837073326, 0.07973216474056244, 0.05017608031630516, 0.170680969953537, 0.0, 0.0, 0.0, 0.0, 0.0, 0.0, 0.0, 0.0, 0.0], [0.11321672052145004, 0.03674635291099548, 0.011786581948399544, 0.010274862870573997, 0.02037065289914608, 0.0052438839338719845, 0.015918832272291183, 0.005266786087304354, 0.02489173226058483, 0.06593261659145355, 0.00593365915119648, 0.018209034577012062, 0.021020203828811646, 0.006667498964816332, 0.03482881188392639, 0.1374211609363556, 0.007927054539322853, 0.008618668653070927, 0.11377192288637161, 0.013557426631450653, 0.009277834556996822, 0.02612137608230114, 0.08499342203140259, 0.19073908030986786, 0.011263742111623287, 0.0, 0.0, 0.0, 0.0, 0.0, 0.0, 0.0, 0.0], [0.1333770751953125, 0.026216601952910423, 0.038271501660346985, 0.07152575999498367, 0.05317768082022667, 0.013925842940807343, 0.0070841871201992035, 0.013450145721435547, 0.00984144862741232, 0.01178977731615305, 0.013537590391933918, 0.038154974579811096, 0.041933052241802216, 0.013882284052670002, 0.037071455270051956, 0.1383846253156662, 0.01484633982181549, 0.031569525599479675, 0.055981703102588654, 0.01553669199347496, 0.015956364572048187, 0.045455556362867355, 0.016699660569429398, 0.02532576210796833, 0.0367189422249794, 0.08028541505336761, 0.0, 0.0, 0.0, 0.0, 0.0, 0.0, 0.0], [0.10608970373868942, 0.019107727333903313, 0.024468643590807915, 0.027496399357914925, 0.01636580377817154, 0.005011420231312513, 0.010413103736937046, 0.006081140600144863, 0.00530106108635664, 0.011143156327307224, 0.004565387964248657, 0.01896989345550537, 0.004321117419749498, 0.0048149749636650085, 0.02940937876701355, 0.02868201769888401, 0.00509724672883749, 0.007234347518533468, 0.034125909209251404, 0.010370590724050999, 0.005643262527883053, 0.007283581420779228, 0.029389526695013046, 0.010038796812295914, 0.00913451611995697, 0.5466634035110474, 0.012777915224432945, 0.0, 0.0, 0.0, 0.0, 0.0, 0.0], [0.1046731024980545, 0.033219415694475174, 0.015341258607804775, 0.009373548440635204, 0.026595447212457657, 0.005787801928818226, 0.013571349903941154, 0.0045548840425908566, 0.02805890329182148, 0.026107236742973328, 0.006353435572236776, 0.013315833173692226, 0.026628248393535614, 0.006888875272125006, 0.062047481536865234, 0.05890701338648796, 0.008068050257861614, 0.007557097356766462, 0.0852278470993042, 0.01707575097680092, 0.009256888180971146, 0.019695771858096123, 0.12617813050746918, 0.13061507046222687, 0.011351034045219421, 0.08984370529651642, 0.04638151451945305, 0.007325297687202692, 0.0, 0.0, 0.0, 0.0, 0.0], [0.08561897277832031, 0.02143893390893936, 0.05641254410147667, 0.05706663057208061, 0.019802186638116837, 0.006727495230734348, 0.005809160880744457, 0.004516260698437691, 0.00316474842838943, 0.017615197226405144, 0.0061745913699269295, 0.08767970651388168, 0.012299860827624798, 0.006350453477352858, 0.01752213016152382, 0.14295221865177155, 0.006585485301911831, 0.007875688374042511, 0.03007892146706581, 0.013907494954764843, 0.007376695051789284, 0.007684787735342979, 0.022160839289426804, 0.012385021895170212, 0.011890063062310219, 0.0866977646946907, 0.19902540743350983, 0.013594492338597775, 0.029586225748062134, 0.0, 0.0, 0.0, 0.0], [0.14064587652683258, 0.013298707082867622, 0.01570296287536621, 0.017357880249619484, 0.022331520915031433, 0.02967226319015026, 0.04172082245349884, 0.01899542473256588, 0.038277119398117065, 0.048635631799697876, 0.030946897342801094, 0.016023898497223854, 0.02088090404868126, 0.03243822976946831, 0.030558131635189056, 0.022808339446783066, 0.035377588123083115, 0.03145161643624306, 0.03497113659977913, 0.018679102882742882, 0.03821907937526703, 0.022578857839107513, 0.06819560378789902, 0.04214097559452057, 0.028620852157473564, 0.037750016897916794, 0.01857805624604225, 0.03376870974898338, 0.036416977643966675, 0.01295684278011322, 0.0, 0.0, 0.0], [0.07168617099523544, 0.06924444437026978, 0.019306903705000877, 0.014161988161504269, 0.016823191195726395, 0.019380610436201096, 0.019257424399256706, 0.0220036581158638, 0.013706531375646591, 0.03578376770019531, 0.01846517063677311, 0.052071668207645416, 0.020085182040929794, 0.019862132146954536, 0.020662125200033188, 0.047251611948013306, 0.02107669971883297, 0.0367872528731823, 0.024324096739292145, 0.0038275469560176134, 0.023920686915516853, 0.008533228188753128, 0.026241622865200043, 0.027380069717764854, 0.0346120148897171, 0.022884149104356766, 0.10047900676727295, 0.06913501769304276, 0.02547457441687584, 0.06495603173971176, 0.03061535209417343, 0.0, 0.0], [0.06910776346921921, 0.037012238055467606, 0.03862112760543823, 0.05933324247598648, 0.01592353917658329, 0.007918557152152061, 0.01037104893475771, 0.006615663878619671, 0.0025200804229825735, 0.02601935900747776, 0.007905231788754463, 0.029652010649442673, 0.04000623896718025, 0.008451342582702637, 0.010741155594587326, 0.05027562379837036, 0.009428862482309341, 0.013601028360426426, 0.05036921426653862, 0.031767141073942184, 0.010793035849928856, 0.00721680698916316, 0.006478430703282356, 0.014800605364143848, 0.021585963666439056, 0.15769484639167786, 0.08884759992361069, 0.019016940146684647, 0.029729338362812996, 0.03316134586930275, 0.05088366940617561, 0.034150853753089905, 0.0], [0.14375513792037964, 0.016811037436127663, 0.00938666146248579, 0.0068303057923913, 0.01165684312582016, 0.0015672269510105252, 0.01971147209405899, 0.0023980389814823866, 0.021235886961221695, 0.04683684930205345, 0.0016905161319300532, 0.005827190820127726, 0.011979999952018261, 0.0018251431174576283, 0.04231330379843712, 0.05491369217634201, 0.002178655471652746, 0.0024170109536498785, 0.09604068100452423, 0.005752876866608858, 0.00255779130384326, 0.0071212309412658215, 0.08889933675527573, 0.10852080583572388, 0.005179055500775576, 0.03657732531428337, 0.024719923734664917, 0.003734765574336052, 0.031077083200216293, 0.016887938603758812, 0.09450862556695938, 0.07171519845724106, 0.003372321603819728]], [[1.0, 0.0, 0.0, 0.0, 0.0, 0.0, 0.0, 0.0, 0.0, 0.0, 0.0, 0.0, 0.0, 0.0, 0.0, 0.0, 0.0, 0.0, 0.0, 0.0, 0.0, 0.0, 0.0, 0.0, 0.0, 0.0, 0.0, 0.0, 0.0, 0.0, 0.0, 0.0, 0.0], [0.0004246665630489588, 0.9995753169059753, 0.0, 0.0, 0.0, 0.0, 0.0, 0.0, 0.0, 0.0, 0.0, 0.0, 0.0, 0.0, 0.0, 0.0, 0.0, 0.0, 0.0, 0.0, 0.0, 0.0, 0.0, 0.0, 0.0, 0.0, 0.0, 0.0, 0.0, 0.0, 0.0, 0.0, 0.0], [0.0005621903110295534, 0.016407247632741928, 0.9830306172370911, 0.0, 0.0, 0.0, 0.0, 0.0, 0.0, 0.0, 0.0, 0.0, 0.0, 0.0, 0.0, 0.0, 0.0, 0.0, 0.0, 0.0, 0.0, 0.0, 0.0, 0.0, 0.0, 0.0, 0.0, 0.0, 0.0, 0.0, 0.0, 0.0, 0.0], [0.0011627558851614594, 0.02168198674917221, 0.003762038890272379, 0.9733933210372925, 0.0, 0.0, 0.0, 0.0, 0.0, 0.0, 0.0, 0.0, 0.0, 0.0, 0.0, 0.0, 0.0, 0.0, 0.0, 0.0, 0.0, 0.0, 0.0, 0.0, 0.0, 0.0, 0.0, 0.0, 0.0, 0.0, 0.0, 0.0, 0.0], [3.724433190654963e-05, 0.00017202251183334738, 0.0002814393083099276, 0.0027421461418271065, 0.9967671632766724, 0.0, 0.0, 0.0, 0.0, 0.0, 0.0, 0.0, 0.0, 0.0, 0.0, 0.0, 0.0, 0.0, 0.0, 0.0, 0.0, 0.0, 0.0, 0.0, 0.0, 0.0, 0.0, 0.0, 0.0, 0.0, 0.0, 0.0, 0.0], [0.008268446661531925, 0.0002398560318397358, 7.361910684267059e-05, 6.437722186092287e-05, 0.0001756635756464675, 0.9911779761314392, 0.0, 0.0, 0.0, 0.0, 0.0, 0.0, 0.0, 0.0, 0.0, 0.0, 0.0, 0.0, 0.0, 0.0, 0.0, 0.0, 0.0, 0.0, 0.0, 0.0, 0.0, 0.0, 0.0, 0.0, 0.0, 0.0, 0.0], [0.0012215040624141693, 0.00540044903755188, 0.0016716319369152188, 0.00040775613160803914, 0.0006163661018945277, 0.0010931185679510236, 0.9895892143249512, 0.0, 0.0, 0.0, 0.0, 0.0, 0.0, 0.0, 0.0, 0.0, 0.0, 0.0, 0.0, 0.0, 0.0, 0.0, 0.0, 0.0, 0.0, 0.0, 0.0, 0.0, 0.0, 0.0, 0.0, 0.0, 0.0], [0.0012459800345823169, 0.0009121237671934068, 0.0005976729444228113, 0.00013656896771863103, 0.0003304113633930683, 0.0015722825191915035, 0.003880825825035572, 0.9913240671157837, 0.0, 0.0, 0.0, 0.0, 0.0, 0.0, 0.0, 0.0, 0.0, 0.0, 0.0, 0.0, 0.0, 0.0, 0.0, 0.0, 0.0, 0.0, 0.0, 0.0, 0.0, 0.0, 0.0, 0.0, 0.0], [0.0002821743255481124, 0.004068175330758095, 0.0026605131570249796, 0.0013093081070110202, 0.008030473254621029, 0.00028790911892428994, 0.0002292289718752727, 0.0003948419471271336, 0.9827372431755066, 0.0, 0.0, 0.0, 0.0, 0.0, 0.0, 0.0, 0.0, 0.0, 0.0, 0.0, 0.0, 0.0, 0.0, 0.0, 0.0, 0.0, 0.0, 0.0, 0.0, 0.0, 0.0, 0.0, 0.0], [3.4739397960947827e-05, 0.00039538511191494763, 0.0001327274803770706, 0.00025852335966192186, 0.0010855618165805936, 9.19806188903749e-05, 0.0003267084830440581, 0.0005427465075626969, 0.0061059449799358845, 0.9910256266593933, 0.0, 0.0, 0.0, 0.0, 0.0, 0.0, 0.0, 0.0, 0.0, 0.0, 0.0, 0.0, 0.0, 0.0, 0.0, 0.0, 0.0, 0.0, 0.0, 0.0, 0.0, 0.0, 0.0], [0.0033785072155296803, 5.090876584290527e-05, 1.6452077034045942e-05, 1.692616569926031e-05, 4.181414988124743e-05, 0.4939405024051666, 0.00012981276086065918, 0.0008837341447360814, 3.221197403036058e-05, 2.7252122890786268e-05, 0.5014818906784058, 0.0, 0.0, 0.0, 0.0, 0.0, 0.0, 0.0, 0.0, 0.0, 0.0, 0.0, 0.0, 0.0, 0.0, 0.0, 0.0, 0.0, 0.0, 0.0, 0.0, 0.0, 0.0], [8.416063792537898e-05, 0.0013417241862043738, 0.0012613615253940225, 0.0021450805943459272, 0.004042370244860649, 0.00048305431846529245, 0.00011582666775211692, 0.00015203624207060784, 2.6925357815343887e-05, 0.00012675148900598288, 0.0003128999669570476, 0.9899077415466309, 0.0, 0.0, 0.0, 0.0, 0.0, 0.0, 0.0, 0.0, 0.0, 0.0, 0.0, 0.0, 0.0, 0.0, 0.0, 0.0, 0.0, 0.0, 0.0, 0.0, 0.0], [0.00037822304875589907, 0.0009837577817961574, 0.03934120759367943, 0.0027322485111653805, 0.0036680197808891535, 0.00011039181117666885, 0.0001293103414354846, 0.00021743480465374887, 0.00010623295383993536, 0.0007748187053948641, 6.647666305070743e-05, 0.00031486686202697456, 0.9511770009994507, 0.0, 0.0, 0.0, 0.0, 0.0, 0.0, 0.0, 0.0, 0.0, 0.0, 0.0, 0.0, 0.0, 0.0, 0.0, 0.0, 0.0, 0.0, 0.0, 0.0], [0.002101719146594405, 2.443687480990775e-05, 7.788781658746302e-06, 8.65161473484477e-06, 2.0140041669947095e-05, 0.29971346259117126, 7.525271212216467e-05, 0.0004898307961411774, 1.8459470084053464e-05, 1.5344578059739433e-05, 0.3283388316631317, 4.175804861006327e-05, 6.46919534119661e-06, 0.36913788318634033, 0.0, 0.0, 0.0, 0.0, 0.0, 0.0, 0.0, 0.0, 0.0, 0.0, 0.0, 0.0, 0.0, 0.0, 0.0, 0.0, 0.0, 0.0, 0.0], [0.0001496832846896723, 0.00011296608136035502, 0.000362948834663257, 0.00018591205298434943, 0.00016460906772408634, 4.143228943576105e-05, 2.8764718081220053e-05, 7.78694375185296e-05, 0.0009200988570228219, 0.010340170934796333, 2.7572366889216937e-05, 1.7833237507147714e-05, 0.0003305452992208302, 2.437570583424531e-05, 0.9872152805328369, 0.0, 0.0, 0.0, 0.0, 0.0, 0.0, 0.0, 0.0, 0.0, 0.0, 0.0, 0.0, 0.0, 0.0, 0.0, 0.0, 0.0, 0.0], [0.00010753834067145362, 0.002178190741688013, 0.002042612759396434, 0.004251934587955475, 0.006989913992583752, 2.5118815756286494e-05, 0.000777904293499887, 0.0005783551605418324, 0.0029378454200923443, 0.033225417137145996, 1.71992760442663e-05, 0.0008936484809964895, 0.001523858867585659, 1.4656818166258745e-05, 0.006222643423825502, 0.9382131695747375, 0.0, 0.0, 0.0, 0.0, 0.0, 0.0, 0.0, 0.0, 0.0, 0.0, 0.0, 0.0, 0.0, 0.0, 0.0, 0.0, 0.0], [0.0013634869828820229, 1.3226041119196452e-05, 4.01393253923743e-06, 4.803059255209519e-06, 1.0257455869577825e-05, 0.19665957987308502, 4.527256533037871e-05, 0.00027762577519752085, 1.1714415450114757e-05, 9.47329681366682e-06, 0.22919611632823944, 2.6430583602632396e-05, 4.101845661352854e-06, 0.26576125621795654, 8.515342415194027e-06, 4.536022515821969e-06, 0.30659958720207214, 0.0, 0.0, 0.0, 0.0, 0.0, 0.0, 0.0, 0.0, 0.0, 0.0, 0.0, 0.0, 0.0, 0.0, 0.0, 0.0], [0.0008924761787056923, 0.00013490807032212615, 4.779844675795175e-05, 5.803713065688498e-05, 0.0001048017293214798, 0.012799100950360298, 0.0007168250158429146, 0.03257954493165016, 2.6449928554939106e-05, 0.0001118508298532106, 0.01188427023589611, 4.0102739149006084e-05, 5.555408642976545e-05, 0.012377873994410038, 0.00010783490142785013, 5.4043754062149674e-05, 0.013122130185365677, 0.9148862957954407, 0.0, 0.0, 0.0, 0.0, 0.0, 0.0, 0.0, 0.0, 0.0, 0.0, 0.0, 0.0, 0.0, 0.0, 0.0], [5.075319677416701e-06, 4.396139411255717e-05, 3.39850848831702e-05, 7.940309296827763e-05, 5.477912418427877e-05, 7.921559586065996e-07, 9.313333976024296e-06, 7.727094271103851e-06, 8.597270789323375e-05, 0.00012274067557882518, 5.141494625604537e-07, 1.702795657365641e-06, 3.8341870094882324e-05, 4.450980384262948e-07, 0.00013928250700701028, 0.0003275807830505073, 3.994805410911795e-07, 3.948134690290317e-06, 0.9990440011024475, 0.0, 0.0, 0.0, 0.0, 0.0, 0.0, 0.0, 0.0, 0.0, 0.0, 0.0, 0.0, 0.0, 0.0], [9.346206934424117e-05, 0.0018395772203803062, 0.0025233158376067877, 0.01808728091418743, 0.002936386037617922, 0.000273358600679785, 4.8729838454164565e-05, 0.00042127823689952493, 0.0001562439138069749, 0.0009748351294547319, 0.0002053362550213933, 0.0010228859027847648, 0.0019548069685697556, 0.00019470402912702411, 0.0011294225696474314, 0.0016656150110065937, 0.0001873407600214705, 0.000950346642639488, 0.0004455185553524643, 0.9648895859718323, 0.0, 0.0, 0.0, 0.0, 0.0, 0.0, 0.0, 0.0, 0.0, 0.0, 0.0, 0.0, 0.0], [0.001085970550775528, 8.512336535204668e-06, 2.5307272153440863e-06, 3.0625217277702177e-06, 5.975130989099853e-06, 0.13292625546455383, 3.345328150317073e-05, 0.00018891264335252345, 8.477760275127366e-06, 6.5404306042182725e-06, 0.16445912420749664, 1.813006201700773e-05, 3.0627436444774503e-06, 0.19719178974628448, 6.429850600397913e-06, 3.4447373309376417e-06, 0.23317119479179382, 0.002279627835378051, 3.7134379908820847e-06, 3.528807428665459e-05, 0.26855844259262085, 0.0, 0.0, 0.0, 0.0, 0.0, 0.0, 0.0, 0.0, 0.0, 0.0, 0.0, 0.0], [0.0004197956877760589, 0.00011805025860667229, 0.00014240515884011984, 3.796787859755568e-05, 0.00019043180509470403, 0.0017651234520599246, 0.0005709828110411763, 0.0005008855368942022, 8.840754890115932e-05, 0.00014208690845407546, 0.0016639834502711892, 3.348111204104498e-05, 2.441398100927472e-05, 0.0017546514282003045, 6.520318129332736e-05, 2.4142671463778242e-05, 0.0018299148650839925, 0.0015691040316596627, 3.974881110480055e-05, 0.0001571241591591388, 0.001855448354035616, 0.9870065450668335, 0.0, 0.0, 0.0, 0.0, 0.0, 0.0, 0.0, 0.0, 0.0, 0.0, 0.0], [7.501770596718416e-05, 0.0014379799831658602, 6.345145811792463e-05, 0.0001086482880054973, 0.00015633153088856488, 3.210119984942139e-06, 0.0022032735869288445, 0.0002207655634265393, 5.240287646302022e-05, 4.881574568571523e-05, 2.2644592263532104e-06, 1.5327219443861395e-05, 4.157140665483894e-06, 2.0228389985277317e-06, 6.2967910707811825e-06, 4.8486599553143606e-05, 1.9928991150663933e-06, 3.2470015867147595e-05, 0.0012695079203695059, 1.9632627299870364e-05, 1.8090934190695407e-06, 0.0005810288130305707, 0.9936450719833374, 0.0, 0.0, 0.0, 0.0, 0.0, 0.0, 0.0, 0.0, 0.0, 0.0], [7.450171688105911e-05, 0.0006139403558336198, 0.0009361213305965066, 0.0008487823652103543, 0.002850641030818224, 1.0365081834606826e-05, 0.00021614317665807903, 0.00017397581541445106, 0.0020508451852947474, 0.005805305205285549, 8.05525360192405e-06, 8.086615707725286e-05, 0.0007702458533458412, 7.288198503374588e-06, 0.00105761899612844, 0.0022756026592105627, 6.6632801463129e-06, 0.00011621062003541738, 0.0005972470389679074, 8.73631433933042e-05, 6.3323500398837496e-06, 6.096476499806158e-05, 6.090595343266614e-05, 0.9812840819358826, 0.0, 0.0, 0.0, 0.0, 0.0, 0.0, 0.0, 0.0, 0.0], [0.0005848739529028535, 0.0001590918400324881, 1.0836469300556928e-05, 7.365467899944633e-05, 0.00011349534179316834, 0.0008256658911705017, 0.0003191103751305491, 0.0185299813747406, 1.0226588528894354e-05, 4.9587219109525904e-05, 0.000771642429754138, 4.454814916243777e-05, 9.865023457678035e-06, 0.0008067173766903579, 2.2673882995150052e-05, 1.2464137398637831e-05, 0.0008449098677374423, 0.008790110237896442, 3.5792370908893645e-05, 3.6628585803555325e-05, 0.0008917527156881988, 0.001079177251085639, 0.0003708458680193871, 0.00010837135050678626, 0.9654977917671204, 0.0, 0.0, 0.0, 0.0, 0.0, 0.0, 0.0, 0.0], [1.6459864127682522e-05, 0.00017152375949081033, 3.2083062251331285e-05, 0.00010234144428977743, 0.0026318689342588186, 9.886157386063132e-06, 3.250833469792269e-05, 3.7417401472339407e-05, 0.00012631491699721664, 4.991197420167737e-05, 8.30250974104274e-06, 8.443382830591872e-05, 3.127954187220894e-05, 7.633335371792782e-06, 1.010132473311387e-05, 5.667359437211417e-05, 7.442101377819199e-06, 2.7689578928402625e-05, 1.841826997406315e-05, 2.87942384602502e-06, 6.840402875241125e-06, 4.279863333067624e-06, 0.0004317641432862729, 0.00017617452249396592, 8.995566167868674e-05, 0.9958258867263794, 0.0, 0.0, 0.0, 0.0, 0.0, 0.0, 0.0], [2.63680012722034e-05, 0.00018008692131843418, 0.00018082934548147023, 0.00030464696465060115, 0.000393908703699708, 4.674840602092445e-05, 2.7231670173932798e-05, 4.873486250289716e-05, 0.00029131615883670747, 0.00042061592102982104, 3.804636435233988e-05, 0.00025245067081414163, 5.606733247986995e-05, 3.820365236606449e-05, 0.0015365101862698793, 0.001253720954991877, 3.5934186598751694e-05, 2.3036620405036956e-05, 0.0001803620980354026, 0.00012266100384294987, 3.517780714901164e-05, 6.92467947374098e-05, 0.00011267283844063058, 0.0008507365128025413, 0.00014361848297994584, 0.00023527935263700783, 0.9930958151817322, 0.0, 0.0, 0.0, 0.0, 0.0, 0.0], [0.0007048264378681779, 5.675393549608998e-05, 3.3512985737615963e-06, 7.472663583030226e-06, 1.7859507352113724e-05, 0.0008156534750014544, 4.952961899107322e-05, 0.001353099592961371, 3.7417627027025446e-05, 0.00014378019841387868, 0.0007639342802576721, 9.991694241762161e-06, 2.884440846173675e-06, 0.0007552239112555981, 0.0001015961097436957, 3.120549763480085e-06, 0.0008060958934947848, 0.0011406777193769813, 1.434314253856428e-05, 9.910185326589271e-06, 0.000864919857122004, 8.663281914778054e-05, 3.469549847068265e-05, 0.00010265839955536649, 0.0076634809374809265, 4.18790259573143e-05, 3.490865992716863e-06, 0.9844047427177429, 0.0, 0.0, 0.0, 0.0, 0.0], [2.0288283849367872e-05, 2.9542654374381527e-05, 5.037495793658309e-05, 0.0009778328239917755, 0.3728250563144684, 6.661308361799456e-06, 1.573361805640161e-05, 3.981245026807301e-05, 0.0002235319698229432, 0.00012674315075855702, 5.118432000017492e-06, 0.00024116139684338123, 1.297381822951138e-05, 4.8006845645431895e-06, 2.3321626940742135e-05, 7.723521412117407e-05, 4.593434823618736e-06, 1.9647113731480204e-05, 0.00021129912056494504, 1.1453494153101929e-05, 4.380478912935359e-06, 1.4442662177316379e-05, 3.6767374695045874e-05, 0.00011845303379232064, 3.797713725361973e-05, 0.000780275440774858, 0.00040483608609065413, 1.0429548638057895e-05, 0.6236652135848999, 0.0, 0.0, 0.0, 0.0], [2.0582927390933037e-05, 8.831260493025184e-05, 0.0002045488217845559, 0.00030189042445272207, 8.223903569160029e-05, 1.9704415535670705e-05, 0.00014085126167628914, 2.8963204385945573e-05, 7.669393198739272e-06, 3.7246169085847214e-05, 1.673678525548894e-05, 6.404708983609453e-05, 0.000691058172378689, 1.6027599485823885e-05, 0.00015603694191668183, 0.00014825942344032228, 1.5700084986747243e-05, 9.155408042715862e-05, 8.525099110556766e-05, 4.904517481918447e-06, 1.5784426068421453e-05, 5.293117283144966e-05, 0.0005298362229950726, 0.0005658402806147933, 6.167330138850957e-05, 6.729504821123555e-05, 0.00030774460174143314, 1.0369168194301892e-05, 6.799349648645148e-05, 0.9960988759994507, 0.0, 0.0, 0.0], [1.3371306522458326e-05, 0.0009821535786613822, 0.00041548089939169586, 0.0001144232737715356, 0.00038730751839466393, 5.660860097123077e-06, 0.0012746263528242707, 0.0005708059179596603, 0.0006383624859154224, 0.000577666622120887, 4.127729425817961e-06, 9.161743037111592e-06, 9.142833005171269e-05, 3.774860488192644e-06, 1.3575295270129573e-05, 0.0002916174125857651, 3.4474858239263995e-06, 7.899185584392399e-05, 0.0031891213729977608, 4.885083853878314e-06, 3.1652839425078128e-06, 1.4087440831644926e-05, 0.0001567142753629014, 0.0003544889041222632, 0.00017265439964830875, 0.0013050634879618883, 0.00021867647592443973, 2.6776693630381487e-05, 0.0002646018110681325, 1.3334517461771611e-05, 0.9888005256652832, 0.0, 0.0], [2.7455060262582265e-05, 0.00016438274178653955, 7.996422937139869e-05, 0.0011914987117052078, 0.0007883625803515315, 2.658419134604628e-06, 3.0057588446652517e-05, 7.457974788849242e-06, 0.00014940994151402265, 2.8857184588559903e-05, 1.873829091891821e-06, 0.0003328803286422044, 5.160865111974999e-05, 1.7577480093677877e-06, 0.0001265660102944821, 0.00014267023652791977, 1.6954469401753158e-06, 2.1952613678877242e-05, 0.00023040801170282066, 4.429342516232282e-05, 1.6103335838124622e-06, 2.700804907362908e-05, 0.00023884863185230643, 0.00019046032684855163, 9.49614513956476e-06, 0.00044664437882602215, 0.00022095807071309537, 5.3791804930369835e-06, 0.0006956406286917627, 0.00015470779908355325, 0.00025485435617156327, 0.9943285584449768, 0.0], [0.006231043487787247, 9.722806862555444e-05, 6.871596724522533e-06, 2.1151117834961042e-05, 5.828053690493107e-05, 0.007238905411213636, 2.098795994243119e-05, 0.0002545907336752862, 6.243860116228461e-05, 2.0924684577039443e-05, 0.007872140035033226, 5.585324834100902e-05, 9.868757842923515e-06, 0.009169402532279491, 7.203003042377532e-05, 7.068694685585797e-06, 0.010345966555178165, 0.0013096544425934553, 3.803680374403484e-05, 8.022697147680447e-05, 0.012053251266479492, 4.071999137522653e-05, 3.686071750053088e-06, 3.471342279226519e-05, 0.0005061823176220059, 8.91893359948881e-05, 2.911200499511324e-05, 0.0012772810878232121, 8.48964846227318e-05, 0.00018447409092914313, 0.00013425727956928313, 6.813055370002985e-05, 0.9425214529037476]], [[1.0, 0.0, 0.0, 0.0, 0.0, 0.0, 0.0, 0.0, 0.0, 0.0, 0.0, 0.0, 0.0, 0.0, 0.0, 0.0, 0.0, 0.0, 0.0, 0.0, 0.0, 0.0, 0.0, 0.0, 0.0, 0.0, 0.0, 0.0, 0.0, 0.0, 0.0, 0.0, 0.0], [0.943029522895813, 0.056970469653606415, 0.0, 0.0, 0.0, 0.0, 0.0, 0.0, 0.0, 0.0, 0.0, 0.0, 0.0, 0.0, 0.0, 0.0, 0.0, 0.0, 0.0, 0.0, 0.0, 0.0, 0.0, 0.0, 0.0, 0.0, 0.0, 0.0, 0.0, 0.0, 0.0, 0.0, 0.0], [0.918555498123169, 0.03280004486441612, 0.04864438995718956, 0.0, 0.0, 0.0, 0.0, 0.0, 0.0, 0.0, 0.0, 0.0, 0.0, 0.0, 0.0, 0.0, 0.0, 0.0, 0.0, 0.0, 0.0, 0.0, 0.0, 0.0, 0.0, 0.0, 0.0, 0.0, 0.0, 0.0, 0.0, 0.0, 0.0], [0.8779287934303284, 0.056434281170368195, 0.04271190986037254, 0.02292501926422119, 0.0, 0.0, 0.0, 0.0, 0.0, 0.0, 0.0, 0.0, 0.0, 0.0, 0.0, 0.0, 0.0, 0.0, 0.0, 0.0, 0.0, 0.0, 0.0, 0.0, 0.0, 0.0, 0.0, 0.0, 0.0, 0.0, 0.0, 0.0, 0.0], [0.804131805896759, 0.029098203405737877, 0.07556727528572083, 0.05643591657280922, 0.03476677089929581, 0.0, 0.0, 0.0, 0.0, 0.0, 0.0, 0.0, 0.0, 0.0, 0.0, 0.0, 0.0, 0.0, 0.0, 0.0, 0.0, 0.0, 0.0, 0.0, 0.0, 0.0, 0.0, 0.0, 0.0, 0.0, 0.0, 0.0, 0.0], [0.4943104088306427, 0.02018355019390583, 0.027966566383838654, 0.01831907033920288, 0.03144202008843422, 0.4077783226966858, 0.0, 0.0, 0.0, 0.0, 0.0, 0.0, 0.0, 0.0, 0.0, 0.0, 0.0, 0.0, 0.0, 0.0, 0.0, 0.0, 0.0, 0.0, 0.0, 0.0, 0.0, 0.0, 0.0, 0.0, 0.0, 0.0, 0.0], [0.6057477593421936, 0.029242446646094322, 0.09491512179374695, 0.07609352469444275, 0.0661465972661972, 0.08705791085958481, 0.040796682238578796, 0.0, 0.0, 0.0, 0.0, 0.0, 0.0, 0.0, 0.0, 0.0, 0.0, 0.0, 0.0, 0.0, 0.0, 0.0, 0.0, 0.0, 0.0, 0.0, 0.0, 0.0, 0.0, 0.0, 0.0, 0.0, 0.0], [0.44838201999664307, 0.04542431980371475, 0.07401483505964279, 0.06864851713180542, 0.09376626461744308, 0.0877426490187645, 0.06534270942211151, 0.11667867749929428, 0.0, 0.0, 0.0, 0.0, 0.0, 0.0, 0.0, 0.0, 0.0, 0.0, 0.0, 0.0, 0.0, 0.0, 0.0, 0.0, 0.0, 0.0, 0.0, 0.0, 0.0, 0.0, 0.0, 0.0, 0.0], [0.49169260263442993, 0.13782064616680145, 0.03955019265413284, 0.061533208936452866, 0.04539963975548744, 0.04073147103190422, 0.06228703260421753, 0.058618661016225815, 0.06236643344163895, 0.0, 0.0, 0.0, 0.0, 0.0, 0.0, 0.0, 0.0, 0.0, 0.0, 0.0, 0.0, 0.0, 0.0, 0.0, 0.0, 0.0, 0.0, 0.0, 0.0, 0.0, 0.0, 0.0, 0.0], [0.540412425994873, 0.04442666843533516, 0.03957853838801384, 0.04188809543848038, 0.07529859244823456, 0.04669507220387459, 0.0484752357006073, 0.05500522255897522, 0.08293062448501587, 0.0252895075827837, 0.0, 0.0, 0.0, 0.0, 0.0, 0.0, 0.0, 0.0, 0.0, 0.0, 0.0, 0.0, 0.0, 0.0, 0.0, 0.0, 0.0, 0.0, 0.0, 0.0, 0.0, 0.0, 0.0], [0.2827354073524475, 0.014234165661036968, 0.01764775440096855, 0.011433070525527, 0.021741708740592003, 0.26665398478507996, 0.015403523109853268, 0.04734927788376808, 0.0177675299346447, 0.013926063664257526, 0.29110753536224365, 0.0, 0.0, 0.0, 0.0, 0.0, 0.0, 0.0, 0.0, 0.0, 0.0, 0.0, 0.0, 0.0, 0.0, 0.0, 0.0, 0.0, 0.0, 0.0, 0.0, 0.0, 0.0], [0.3449661433696747, 0.04611677676439285, 0.05771547183394432, 0.11131863296031952, 0.11289363354444504, 0.027930347248911858, 0.03859191760420799, 0.05656532198190689, 0.058640580624341965, 0.0664859339594841, 0.02611437626183033, 0.05266088247299194, 0.0, 0.0, 0.0, 0.0, 0.0, 0.0, 0.0, 0.0, 0.0, 0.0, 0.0, 0.0, 0.0, 0.0, 0.0, 0.0, 0.0, 0.0, 0.0, 0.0, 0.0], [0.46992170810699463, 0.03201570361852646, 0.107728973031044, 0.027006784453988075, 0.04465882480144501, 0.022773560136556625, 0.023117080330848694, 0.02549153007566929, 0.04950273782014847, 0.026573944836854935, 0.019708866253495216, 0.06337959319353104, 0.08812078833580017, 0.0, 0.0, 0.0, 0.0, 0.0, 0.0, 0.0, 0.0, 0.0, 0.0, 0.0, 0.0, 0.0, 0.0, 0.0, 0.0, 0.0, 0.0, 0.0, 0.0], [0.20661762356758118, 0.010379294864833355, 0.012261936441063881, 0.008319090120494366, 0.01600707322359085, 0.19527743756771088, 0.01145328488200903, 0.034756697714328766, 0.013073586858808994, 0.0109389778226614, 0.21602484583854675, 0.005866497755050659, 0.02364230342209339, 0.2353813499212265, 0.0, 0.0, 0.0, 0.0, 0.0, 0.0, 0.0, 0.0, 0.0, 0.0, 0.0, 0.0, 0.0, 0.0, 0.0, 0.0, 0.0, 0.0, 0.0], [0.33993494510650635, 0.029161635786294937, 0.09540712833404541, 0.03395187109708786, 0.08440456539392471, 0.012559538707137108, 0.02935865893959999, 0.024564173072576523, 0.10622429847717285, 0.04689214751124382, 0.011469590477645397, 0.0063692000694572926, 0.11145276576280594, 0.01131800189614296, 0.0569315105676651, 0.0, 0.0, 0.0, 0.0, 0.0, 0.0, 0.0, 0.0, 0.0, 0.0, 0.0, 0.0, 0.0, 0.0, 0.0, 0.0, 0.0, 0.0], [0.4040881395339966, 0.024195648729801178, 0.038910042494535446, 0.01472743134945631, 0.024456555023789406, 0.03844999894499779, 0.03923037648200989, 0.0371713750064373, 0.06030004471540451, 0.04198548197746277, 0.03716719150543213, 0.016391223296523094, 0.039289675652980804, 0.037729814648628235, 0.13448567688465118, 0.011421299539506435, 0.0, 0.0, 0.0, 0.0, 0.0, 0.0, 0.0, 0.0, 0.0, 0.0, 0.0, 0.0, 0.0, 0.0, 0.0, 0.0, 0.0], [0.15876436233520508, 0.0082039013504982, 0.009295261465013027, 0.0062217190861701965, 0.011793190613389015, 0.15069794654846191, 0.008851958438754082, 0.026313528418540955, 0.01018691435456276, 0.008433721028268337, 0.16762235760688782, 0.004420031327754259, 0.018211787566542625, 0.18350820243358612, 0.020927326753735542, 0.006447790656238794, 0.200099915266037, 0.0, 0.0, 0.0, 0.0, 0.0, 0.0, 0.0, 0.0, 0.0, 0.0, 0.0, 0.0, 0.0, 0.0, 0.0, 0.0], [0.17539209127426147, 0.02056966722011566, 0.018291441723704338, 0.009298023767769337, 0.01737789250910282, 0.04253479838371277, 0.02070160210132599, 0.050443947315216064, 0.025438055396080017, 0.01721821539103985, 0.04311537742614746, 0.01334982831031084, 0.0285286046564579, 0.04597257822751999, 0.03408820927143097, 0.019834211096167564, 0.049928370863199234, 0.36791709065437317, 0.0, 0.0, 0.0, 0.0, 0.0, 0.0, 0.0, 0.0, 0.0, 0.0, 0.0, 0.0, 0.0, 0.0, 0.0], [0.260333389043808, 0.017148379236459732, 0.03745276853442192, 0.07594799995422363, 0.04674701765179634, 0.01806853711605072, 0.03134647384285927, 0.03741515055298805, 0.07175806909799576, 0.05872538685798645, 0.0170787051320076, 0.04030591994524002, 0.057063572108745575, 0.017113592475652695, 0.10491333901882172, 0.04670536890625954, 0.017230208963155746, 0.02468215860426426, 0.01996396854519844, 0.0, 0.0, 0.0, 0.0, 0.0, 0.0, 0.0, 0.0, 0.0, 0.0, 0.0, 0.0, 0.0, 0.0], [0.30547070503234863, 0.051904965192079544, 0.043468981981277466, 0.021846851333975792, 0.02101719006896019, 0.033904753625392914, 0.04190473631024361, 0.039092883467674255, 0.028871959075331688, 0.023003431037068367, 0.03205801174044609, 0.023334508761763573, 0.0711059495806694, 0.032900888472795486, 0.061641957610845566, 0.03183262050151825, 0.033767614513635635, 0.04571489617228508, 0.03501523286104202, 0.022141890600323677, 0.0, 0.0, 0.0, 0.0, 0.0, 0.0, 0.0, 0.0, 0.0, 0.0, 0.0, 0.0, 0.0], [0.12242946773767471, 0.006105300039052963, 0.006670303642749786, 0.00458177737891674, 0.009337782859802246, 0.11381801962852478, 0.006783359684050083, 0.01971990428864956, 0.007580861449241638, 0.006613640580326319, 0.12765924632549286, 0.0035026567056775093, 0.014002325013279915, 0.14000993967056274, 0.015684885904192924, 0.005092606879770756, 0.15336203575134277, 0.035274162888526917, 0.022465622052550316, 0.006954455282539129, 0.1723516285419464, 0.0, 0.0, 0.0, 0.0, 0.0, 0.0, 0.0, 0.0, 0.0, 0.0, 0.0, 0.0], [0.20538491010665894, 0.034778524190187454, 0.01468291413038969, 0.03118332102894783, 0.030931292101740837, 0.02195277065038681, 0.03290865570306778, 0.057405341416597366, 0.055875152349472046, 0.04864277318120003, 0.023520752787590027, 0.015108552761375904, 0.027386322617530823, 0.024518443271517754, 0.06060454994440079, 0.03477613627910614, 0.026137810200452805, 0.05168433487415314, 0.06281403452157974, 0.020291458815336227, 0.028601737692952156, 0.09081019461154938, 0.0, 0.0, 0.0, 0.0, 0.0, 0.0, 0.0, 0.0, 0.0, 0.0, 0.0], [0.2397860288619995, 0.03132350742816925, 0.050377506762742996, 0.015869438648223877, 0.03901460021734238, 0.02280554547905922, 0.04285356029868126, 0.028882306069135666, 0.04046264663338661, 0.0341072604060173, 0.022644521668553352, 0.039230696856975555, 0.0723857581615448, 0.02234553173184395, 0.04958103597164154, 0.03193335607647896, 0.023325573652982712, 0.04521358385682106, 0.030554361641407013, 0.02287650667130947, 0.02473229169845581, 0.05549483001232147, 0.014199557714164257, 0.0, 0.0, 0.0, 0.0, 0.0, 0.0, 0.0, 0.0, 0.0, 0.0], [0.23581692576408386, 0.020558295771479607, 0.04375007748603821, 0.029704872518777847, 0.03703876584768295, 0.014953458681702614, 0.040043096989393234, 0.02718435972929001, 0.045761823654174805, 0.03809259086847305, 0.014181873761117458, 0.03789155185222626, 0.06518243253231049, 0.014182930812239647, 0.054894935339689255, 0.023720966652035713, 0.014592762105166912, 0.02557002194225788, 0.07356178015470505, 0.03918233886361122, 0.014925526455044746, 0.04628864675760269, 0.027801040560007095, 0.015118859708309174, 0.0, 0.0, 0.0, 0.0, 0.0, 0.0, 0.0, 0.0, 0.0], [0.14254966378211975, 0.012010166421532631, 0.01688128523528576, 0.020742563530802727, 0.032451752573251724, 0.029626013711094856, 0.030295206233859062, 0.056208714842796326, 0.029608741402626038, 0.029481833800673485, 0.032639872282743454, 0.0100382249802351, 0.04078619182109833, 0.034627873450517654, 0.033916372805833817, 0.02015574648976326, 0.03684317693114281, 0.060646895319223404, 0.047447096556425095, 0.03252527862787247, 0.040400367230176926, 0.05947761982679367, 0.03129402920603752, 0.04792549088597298, 0.07141982018947601, 0.0, 0.0, 0.0, 0.0, 0.0, 0.0, 0.0, 0.0], [0.2222907692193985, 0.05911138653755188, 0.03702676296234131, 0.040590155869722366, 0.027254503220319748, 0.019174791872501373, 0.03171538934111595, 0.0204621572047472, 0.038113292306661606, 0.019927887246012688, 0.01853892020881176, 0.01543671078979969, 0.04536490514874458, 0.01935577020049095, 0.05035829916596413, 0.03328137844800949, 0.02017974480986595, 0.03679436072707176, 0.04331386089324951, 0.02847638912498951, 0.021317318081855774, 0.04771284759044647, 0.013107030652463436, 0.02633606269955635, 0.03021136112511158, 0.03454803302884102, 0.0, 0.0, 0.0, 0.0, 0.0, 0.0, 0.0], [0.28438133001327515, 0.023870110511779785, 0.046418819576501846, 0.010260095819830894, 0.03390984982252121, 0.018301472067832947, 0.0237088855355978, 0.024766838178038597, 0.02576775848865509, 0.02296881005167961, 0.016735456883907318, 0.013406947255134583, 0.045986607670784, 0.016673225909471512, 0.08106394857168198, 0.05033262446522713, 0.016726158559322357, 0.019904812797904015, 0.030325327068567276, 0.010146310552954674, 0.017318226397037506, 0.01904096081852913, 0.011081121861934662, 0.052046436816453934, 0.0333535261452198, 0.038808852434158325, 0.012695509009063244, 0.0, 0.0, 0.0, 0.0, 0.0, 0.0], [0.11854355037212372, 0.013350944966077805, 0.013422028161585331, 0.03027321770787239, 0.02616293542087078, 0.020776215940713882, 0.021280206739902496, 0.03798935189843178, 0.03536441922187805, 0.03665177896618843, 0.022004012018442154, 0.015380026772618294, 0.030023107305169106, 0.023299694061279297, 0.030007552355527878, 0.014861365780234337, 0.024521932005882263, 0.03999800607562065, 0.03900156542658806, 0.03600766882300377, 0.026851214468479156, 0.06795869022607803, 0.03893130272626877, 0.05725807324051857, 0.06659834086894989, 0.030756857246160507, 0.023343214765191078, 0.059382714331150055, 0.0, 0.0, 0.0, 0.0, 0.0], [0.25091850757598877, 0.011351890861988068, 0.02303396165370941, 0.018849769607186317, 0.013208829797804356, 0.016430405899882317, 0.037636999040842056, 0.021519415080547333, 0.03823145478963852, 0.031223105266690254, 0.01608109287917614, 0.017179016023874283, 0.0823964849114418, 0.015775419771671295, 0.04969311133027077, 0.03397902473807335, 0.01646912656724453, 0.025656111538410187, 0.05326933041214943, 0.024380970746278763, 0.01703290455043316, 0.03106255643069744, 0.014834263361990452, 0.043107807636260986, 0.02781837061047554, 0.015127928927540779, 0.012749837711453438, 0.026852697134017944, 0.014129596762359142, 0.0, 0.0, 0.0, 0.0], [0.19256943464279175, 0.022833677008748055, 0.014495888724923134, 0.02805502340197563, 0.03290426358580589, 0.018577102571725845, 0.023776723071932793, 0.014988917857408524, 0.027755483984947205, 0.019952138885855675, 0.01842689886689186, 0.026808498427271843, 0.040261950343847275, 0.01895734667778015, 0.01998024620115757, 0.03905028849840164, 0.019494328647851944, 0.030714336782693863, 0.07932322472333908, 0.03619769588112831, 0.020379595458507538, 0.0233193077147007, 0.018723851069808006, 0.05692770332098007, 0.02392755262553692, 0.03924325108528137, 0.021783500909805298, 0.020374229177832603, 0.041788313537836075, 0.00840923935174942, 0.0, 0.0, 0.0], [0.18919382989406586, 0.014352062717080116, 0.027829350903630257, 0.01893606223165989, 0.054552339017391205, 0.024302411824464798, 0.02075257897377014, 0.03050180710852146, 0.016900423914194107, 0.029904043301939964, 0.023111796006560326, 0.021664852276444435, 0.033359821885824203, 0.023050526157021523, 0.027927018702030182, 0.026253484189510345, 0.024257952347397804, 0.024394990876317024, 0.017666669562458992, 0.022081073373556137, 0.025441521778702736, 0.02399672567844391, 0.01594139263033867, 0.02186347357928753, 0.04876276105642319, 0.01023405883461237, 0.025762975215911865, 0.0619233138859272, 0.06737113744020462, 0.018184125423431396, 0.00952550582587719, 0.0, 0.0], [0.2711195647716522, 0.05460575595498085, 0.03970596566796303, 0.03512895107269287, 0.02031375654041767, 0.008183860220015049, 0.022556621581315994, 0.014036445878446102, 0.02619847282767296, 0.03235534951090813, 0.00718503026291728, 0.010813490487635136, 0.051626089960336685, 0.007057542447000742, 0.042327750474214554, 0.01850597746670246, 0.006952995900064707, 0.012550843879580498, 0.03785516694188118, 0.014787380583584309, 0.00713077187538147, 0.018956711515784264, 0.010758972726762295, 0.023540519177913666, 0.016256198287010193, 0.007915410213172436, 0.036523107439279556, 0.014562275260686874, 0.019251450896263123, 0.010911817662417889, 0.034396689385175705, 0.06592905521392822, 0.0], [0.14836537837982178, 0.014506887644529343, 0.007646293379366398, 0.011038769036531448, 0.026302484795451164, 0.013194828294217587, 0.027184870094060898, 0.017392203211784363, 0.0161221195012331, 0.03288079798221588, 0.014050274156033993, 0.007167350966483355, 0.01612005941569805, 0.014647030271589756, 0.018450897186994553, 0.013102130964398384, 0.015283209271728992, 0.014542990364134312, 0.05961218848824501, 0.022383874282240868, 0.016796983778476715, 0.10928259789943695, 0.07264000922441483, 0.08393708616495132, 0.025248993188142776, 0.03774845600128174, 0.016226941719651222, 0.02495388500392437, 0.042165838181972504, 0.004525809548795223, 0.014491359703242779, 0.01914571225643158, 0.02284163609147072]], [[1.0, 0.0, 0.0, 0.0, 0.0, 0.0, 0.0, 0.0, 0.0, 0.0, 0.0, 0.0, 0.0, 0.0, 0.0, 0.0, 0.0, 0.0, 0.0, 0.0, 0.0, 0.0, 0.0, 0.0, 0.0, 0.0, 0.0, 0.0, 0.0, 0.0, 0.0, 0.0, 0.0], [0.09646990895271301, 0.9035300612449646, 0.0, 0.0, 0.0, 0.0, 0.0, 0.0, 0.0, 0.0, 0.0, 0.0, 0.0, 0.0, 0.0, 0.0, 0.0, 0.0, 0.0, 0.0, 0.0, 0.0, 0.0, 0.0, 0.0, 0.0, 0.0, 0.0, 0.0, 0.0, 0.0, 0.0, 0.0], [0.04325234517455101, 0.081777423620224, 0.8749703168869019, 0.0, 0.0, 0.0, 0.0, 0.0, 0.0, 0.0, 0.0, 0.0, 0.0, 0.0, 0.0, 0.0, 0.0, 0.0, 0.0, 0.0, 0.0, 0.0, 0.0, 0.0, 0.0, 0.0, 0.0, 0.0, 0.0, 0.0, 0.0, 0.0, 0.0], [0.09995397180318832, 0.02531273104250431, 0.020108066499233246, 0.8546252250671387, 0.0, 0.0, 0.0, 0.0, 0.0, 0.0, 0.0, 0.0, 0.0, 0.0, 0.0, 0.0, 0.0, 0.0, 0.0, 0.0, 0.0, 0.0, 0.0, 0.0, 0.0, 0.0, 0.0, 0.0, 0.0, 0.0, 0.0, 0.0, 0.0], [0.024889372289180756, 0.0032073550391942263, 0.0018421629210934043, 0.022361522540450096, 0.9476996660232544, 0.0, 0.0, 0.0, 0.0, 0.0, 0.0, 0.0, 0.0, 0.0, 0.0, 0.0, 0.0, 0.0, 0.0, 0.0, 0.0, 0.0, 0.0, 0.0, 0.0, 0.0, 0.0, 0.0, 0.0, 0.0, 0.0, 0.0, 0.0], [0.10732370615005493, 0.01784166507422924, 0.01955333538353443, 0.04333319142460823, 0.10211499035358429, 0.709833025932312, 0.0, 0.0, 0.0, 0.0, 0.0, 0.0, 0.0, 0.0, 0.0, 0.0, 0.0, 0.0, 0.0, 0.0, 0.0, 0.0, 0.0, 0.0, 0.0, 0.0, 0.0, 0.0, 0.0, 0.0, 0.0, 0.0, 0.0], [0.006426352541893721, 0.0004479780327528715, 0.00014756589371245354, 0.0004693672526627779, 0.001441188738681376, 0.0038596985395997763, 0.98720782995224, 0.0, 0.0, 0.0, 0.0, 0.0, 0.0, 0.0, 0.0, 0.0, 0.0, 0.0, 0.0, 0.0, 0.0, 0.0, 0.0, 0.0, 0.0, 0.0, 0.0, 0.0, 0.0, 0.0, 0.0, 0.0, 0.0], [0.0010354584082961082, 0.00019901855557691306, 0.0001602041011210531, 6.937284342711791e-05, 0.000386741739930585, 0.0051715923473238945, 0.8964056372642517, 0.09657193720340729, 0.0, 0.0, 0.0, 0.0, 0.0, 0.0, 0.0, 0.0, 0.0, 0.0, 0.0, 0.0, 0.0, 0.0, 0.0, 0.0, 0.0, 0.0, 0.0, 0.0, 0.0, 0.0, 0.0, 0.0, 0.0], [0.0012883341405540705, 0.0003233459428884089, 0.000265272130491212, 0.000254906655754894, 0.00020129863696638495, 0.0001004903533612378, 0.0005700889159925282, 0.0004091303562745452, 0.9965871572494507, 0.0, 0.0, 0.0, 0.0, 0.0, 0.0, 0.0, 0.0, 0.0, 0.0, 0.0, 0.0, 0.0, 0.0, 0.0, 0.0, 0.0, 0.0, 0.0, 0.0, 0.0, 0.0, 0.0, 0.0], [0.00018741587700787932, 1.619654540263582e-05, 4.228112629789393e-06, 0.0002875890932045877, 1.1125726814498194e-05, 9.80569348030258e-06, 0.00015567195077892393, 7.632972119608894e-05, 0.0034869143273681402, 0.9957647323608398, 0.0, 0.0, 0.0, 0.0, 0.0, 0.0, 0.0, 0.0, 0.0, 0.0, 0.0, 0.0, 0.0, 0.0, 0.0, 0.0, 0.0, 0.0, 0.0, 0.0, 0.0, 0.0, 0.0], [0.01574152149260044, 0.0006393613875843585, 0.0004571530735120177, 0.00099125353153795, 0.002114035887643695, 0.018089791759848595, 0.047120362520217896, 0.07010909169912338, 0.06152837723493576, 0.2769038677215576, 0.5063052177429199, 0.0, 0.0, 0.0, 0.0, 0.0, 0.0, 0.0, 0.0, 0.0, 0.0, 0.0, 0.0, 0.0, 0.0, 0.0, 0.0, 0.0, 0.0, 0.0, 0.0, 0.0, 0.0], [0.000616659817751497, 0.0005207078065723181, 4.611523763742298e-05, 0.001461300882510841, 0.0005623756442219019, 4.447608080226928e-05, 0.0003653968160506338, 0.0002860166132450104, 0.004506129305809736, 0.005816515535116196, 0.0007244557491503656, 0.9850499033927917, 0.0, 0.0, 0.0, 0.0, 0.0, 0.0, 0.0, 0.0, 0.0, 0.0, 0.0, 0.0, 0.0, 0.0, 0.0, 0.0, 0.0, 0.0, 0.0, 0.0, 0.0], [0.0010478582698851824, 3.062820542254485e-05, 0.0001734501274768263, 5.423124093795195e-05, 6.388429756043479e-05, 1.126113875216106e-05, 1.7169008060591295e-05, 1.3931307876191568e-05, 0.0020760400220751762, 0.00026926861028186977, 0.00015268517017830163, 0.003684433875605464, 0.992405116558075, 0.0, 0.0, 0.0, 0.0, 0.0, 0.0, 0.0, 0.0, 0.0, 0.0, 0.0, 0.0, 0.0, 0.0, 0.0, 0.0, 0.0, 0.0, 0.0, 0.0], [0.01074627973139286, 0.0002535439271014184, 0.00015322951367124915, 0.0002928703906945884, 0.0005376795888878405, 0.004423550795763731, 0.00988433975726366, 0.01284304354339838, 0.012738634832203388, 0.05966857820749283, 0.1077299639582634, 0.024745715782046318, 0.07808704674243927, 0.6778956055641174, 0.0, 0.0, 0.0, 0.0, 0.0, 0.0, 0.0, 0.0, 0.0, 0.0, 0.0, 0.0, 0.0, 0.0, 0.0, 0.0, 0.0, 0.0, 0.0], [0.00041217979742214084, 2.6218713173875585e-05, 1.7755904991645366e-05, 0.00019181883544661105, 3.2979462503135437e-06, 3.912674856110243e-06, 1.0438077879371122e-05, 4.906839876639424e-06, 0.000586855923756957, 0.0030381442047655582, 3.6931178328813985e-05, 0.0007724304450675845, 0.009622609242796898, 0.00016094396414700896, 0.9851114153862, 0.0, 0.0, 0.0, 0.0, 0.0, 0.0, 0.0, 0.0, 0.0, 0.0, 0.0, 0.0, 0.0, 0.0, 0.0, 0.0, 0.0, 0.0], [0.00010886622476391494, 3.584558498914703e-06, 5.191671334614512e-06, 3.083845876972191e-05, 1.8408813048154116e-05, 7.954787406561081e-07, 3.3532135148561792e-06, 6.574377039214596e-06, 0.0007270952919498086, 0.0018232513684779406, 7.853287570469547e-06, 0.0003062756732106209, 0.0069750575348734856, 3.485096385702491e-05, 0.028292810544371605, 0.9616551399230957, 0.0, 0.0, 0.0, 0.0, 0.0, 0.0, 0.0, 0.0, 0.0, 0.0, 0.0, 0.0, 0.0, 0.0, 0.0, 0.0, 0.0], [0.006073979195207357, 8.815195906208828e-05, 4.58378235634882e-05, 8.250478276750073e-05, 0.00012720422819256783, 0.0009312528418377042, 0.001669998629949987, 0.0019381933379918337, 0.0021016979590058327, 0.010131662711501122, 0.01604730635881424, 0.0038353854324668646, 0.012242144905030727, 0.10037069022655487, 0.07853122055530548, 0.10997352004051208, 0.6558093428611755, 0.0, 0.0, 0.0, 0.0, 0.0, 0.0, 0.0, 0.0, 0.0, 0.0, 0.0, 0.0, 0.0, 0.0, 0.0, 0.0], [0.002186303259804845, 1.1892955626535695e-05, 1.6735981262172572e-05, 2.081543607346248e-05, 2.1162559278309345e-05, 0.0007714955718256533, 0.0008652111864648759, 0.0005560304271057248, 0.00015655919560231268, 0.001949993660673499, 0.010891220532357693, 0.00039543164893984795, 0.0015144736971706152, 0.06916321069002151, 0.004308102652430534, 0.004035168793052435, 0.4939705431461334, 0.4091655910015106, 0.0, 0.0, 0.0, 0.0, 0.0, 0.0, 0.0, 0.0, 0.0, 0.0, 0.0, 0.0, 0.0, 0.0, 0.0], [1.9797989807557315e-05, 4.972388865098765e-07, 9.165694869750496e-09, 1.3230416584519844e-07, 5.6018222949205665e-08, 1.1903900087872898e-08, 6.153105687189964e-07, 4.0685502966653075e-08, 4.51744244855945e-06, 1.4017764442542102e-05, 1.6456915830076468e-07, 1.086382326320745e-06, 7.444054062943906e-06, 1.005667400022503e-06, 2.7594969651545398e-05, 0.00031378009589388967, 6.201119504112285e-06, 8.213354703912046e-06, 0.9995948672294617, 0.0, 0.0, 0.0, 0.0, 0.0, 0.0, 0.0, 0.0, 0.0, 0.0, 0.0, 0.0, 0.0, 0.0], [6.49715366307646e-06, 8.692009600963502e-07, 1.4051402104087174e-06, 3.7704819533246337e-07, 3.329171818222676e-07, 6.104971816967009e-08, 2.54300456248302e-08, 1.1067756844340693e-07, 3.6708766856463626e-05, 5.704796990357863e-07, 6.172344910737593e-07, 0.0001562793186167255, 0.0001473792508477345, 3.0103838071227074e-06, 6.130664405645803e-05, 0.001776989782229066, 1.8545897546573542e-05, 3.4263121051480994e-05, 0.9233513474464417, 0.07440324127674103, 0.0, 0.0, 0.0, 0.0, 0.0, 0.0, 0.0, 0.0, 0.0, 0.0, 0.0, 0.0, 0.0], [0.0036490047350525856, 3.749432653421536e-05, 1.7470803868491203e-05, 2.8449199817259796e-05, 3.312424450996332e-05, 0.00019569238065741956, 0.0002647593792062253, 0.0002469043538440019, 0.0002803318784572184, 0.0013949185376986861, 0.001791029004380107, 0.00042467989260330796, 0.001462371088564396, 0.009717756882309914, 0.008053944446146488, 0.013200578279793262, 0.06315960735082626, 0.0715278685092926, 0.07523120939731598, 0.024205101653933525, 0.7250776886940002, 0.0, 0.0, 0.0, 0.0, 0.0, 0.0, 0.0, 0.0, 0.0, 0.0, 0.0, 0.0], [0.0006410914356820285, 3.9257224671018776e-06, 1.1607402257141075e-06, 1.5375520661109476e-06, 9.072655871023017e-07, 8.058225830609445e-06, 1.3223979294707533e-05, 4.619935680238996e-06, 3.6788525903830305e-05, 4.56519155704882e-05, 7.577835640404373e-05, 2.2741813154425472e-05, 5.6684777518967167e-05, 0.00047375206486321986, 0.0003640777722466737, 0.0004240039561409503, 0.00375733757391572, 0.004363137762993574, 0.007395253982394934, 0.005022637080401182, 0.055756378918886185, 0.9215312004089355, 0.0, 0.0, 0.0, 0.0, 0.0, 0.0, 0.0, 0.0, 0.0, 0.0, 0.0], [0.0005377686466090381, 8.122552799250116e-07, 2.3018608317215694e-06, 1.4700387964694528e-06, 1.8703665318753337e-06, 6.024511662872101e-07, 4.12784174841363e-06, 1.6705749885659316e-06, 2.0471961761359125e-06, 7.430034020217136e-05, 3.5942334761784878e-06, 7.171502147684805e-06, 3.052823740290478e-05, 1.8927723431261256e-05, 0.00025438779266551137, 0.00019496404274832457, 0.00012626528041437268, 0.00018230538989882916, 0.0037352307699620724, 0.0006727116415277123, 0.0015798317035660148, 0.011177676729857922, 0.981389582157135, 0.0, 0.0, 0.0, 0.0, 0.0, 0.0, 0.0, 0.0, 0.0, 0.0], [8.512816566508263e-05, 4.870866519013362e-07, 1.245895759893756e-06, 2.0811260981190571e-07, 1.9242847315581457e-07, 3.7040319256220755e-08, 4.555248267479328e-07, 5.5045465074954336e-08, 1.5320366628657212e-06, 5.083300948172109e-06, 2.1400983030162024e-07, 1.4595309494325193e-06, 1.4768334040127229e-05, 1.0635014859872172e-06, 2.94614856102271e-05, 5.72881726839114e-05, 6.615681741095614e-06, 7.844196261430625e-06, 0.0001506384287495166, 0.00022636938956566155, 7.973572792252526e-05, 0.00013040847261436284, 0.01086841057986021, 0.9883313775062561, 0.0, 0.0, 0.0, 0.0, 0.0, 0.0, 0.0, 0.0, 0.0], [0.0004166325379628688, 2.250375473522581e-06, 5.270546807878418e-06, 2.7549143851501867e-05, 3.963052949984558e-05, 7.5147563620703295e-06, 8.100923878373578e-06, 1.1581340004340746e-05, 1.3206001312937587e-05, 6.750721513526514e-05, 2.5212784748873673e-05, 1.4860712326481007e-05, 7.521700899815187e-05, 0.00011457461368991062, 0.0002574528625700623, 0.0003666857664939016, 0.000690474349539727, 0.0014518479583784938, 0.003246022155508399, 0.0006353402277454734, 0.008745566010475159, 0.0151908528059721, 0.018150193616747856, 0.1330331712961197, 0.817403256893158, 0.0, 0.0, 0.0, 0.0, 0.0, 0.0, 0.0, 0.0], [1.673925362410955e-05, 8.245318383615086e-08, 3.257380498666862e-08, 2.873734494812652e-08, 1.6217650511407555e-07, 1.5275415377047352e-09, 2.327860393336323e-08, 5.576719086519688e-09, 1.282575539107711e-07, 1.342944955240455e-07, 6.160561838441936e-09, 2.5232480993508943e-07, 3.205745088052936e-06, 2.6277227505033807e-08, 7.619941584380285e-07, 7.901938261056785e-06, 1.394041362345888e-07, 1.95525771573557e-07, 0.00032022528466768563, 8.173670948963263e-07, 1.563000637361256e-06, 3.7631600662280107e-06, 0.0007450496777892113, 0.003715218510478735, 3.934406049665995e-05, 0.9951443076133728, 0.0, 0.0, 0.0, 0.0, 0.0, 0.0, 0.0], [0.00023842244991101325, 5.040100859332597e-06, 1.3208554037191789e-06, 8.599811735621188e-06, 5.166059054317884e-06, 1.3470912563207094e-07, 6.710797606501728e-07, 2.69969319788288e-07, 6.345719157252461e-06, 4.417822856339626e-05, 2.7444932015896484e-07, 2.0171135474811308e-05, 1.6526595572941005e-05, 8.12277562545205e-07, 0.0001077099223039113, 0.0001239740668097511, 3.50758546119323e-06, 8.50583273859229e-06, 6.980275793466717e-05, 0.00026813638396561146, 2.879286876122933e-05, 0.00011957895185332745, 0.00012961654283571988, 0.007425934541970491, 0.0007109703146852553, 0.005815007723867893, 0.9848405718803406, 0.0, 0.0, 0.0, 0.0, 0.0, 0.0], [0.00040899592568166554, 6.09539483775734e-07, 1.9963915747212013e-06, 9.31034992390778e-06, 3.7690576846216572e-06, 1.9876604255841812e-06, 4.5765477807435673e-07, 1.069073505277629e-06, 3.087186541961273e-06, 9.211416909238324e-06, 4.724365680885967e-06, 1.2070057664459455e-06, 5.095621418149676e-06, 1.8047139747068286e-05, 4.857866224483587e-05, 4.169391468167305e-05, 0.00010537506022956222, 0.00022466850350610912, 0.00011528659524628893, 0.0002492897037882358, 0.0013673125067725778, 0.0016190316528081894, 0.00132751336786896, 0.003491781186312437, 0.06305653601884842, 0.006469074636697769, 0.09512642025947571, 0.8262879252433777, 0.0, 0.0, 0.0, 0.0, 0.0], [0.0003180469502694905, 1.418184069734707e-06, 3.1854941084930033e-07, 2.782310275506461e-06, 5.388588033383712e-05, 4.300602185480784e-08, 5.386260113482422e-07, 8.497856640587997e-08, 5.999703489578678e-07, 4.11033352065715e-06, 7.099425403112036e-08, 8.454323392470542e-07, 2.5266197098972043e-06, 2.1983862552588107e-07, 6.0982515606156085e-06, 2.1130004824954085e-05, 9.411783139512409e-07, 9.950385901902337e-07, 3.041368654521648e-05, 2.9769948923785705e-06, 8.453859663859475e-06, 2.60070610238472e-05, 0.0002305584930581972, 0.0013383401092141867, 0.00021758278307970613, 0.007014407776296139, 0.017924046143889427, 0.0005302681238390505, 0.9722621440887451, 0.0, 0.0, 0.0, 0.0], [1.8505298271520587e-07, 5.565681693298075e-09, 7.262683232589495e-10, 7.745968311212437e-09, 1.507950919688028e-08, 8.228537295984495e-10, 1.7915348093922034e-09, 1.7345613834152118e-09, 1.0962556196147943e-08, 5.003294134553471e-08, 3.9228162940219136e-09, 1.0013906148742535e-07, 2.3337790366895206e-08, 1.6555254944705666e-08, 5.17133997846031e-08, 1.6146024961471994e-07, 9.827902403003463e-08, 2.707449482386437e-07, 5.411982328951126e-06, 2.508386103272642e-07, 1.1805956319221877e-06, 2.8004258183500497e-06, 4.6103718887025025e-06, 0.00022679274843540043, 5.794236858491786e-05, 0.00045195547863841057, 0.00011976490350207314, 0.00023980876721907407, 0.0018740028608590364, 0.9970145225524902, 0.0, 0.0, 0.0], [4.3474454287206754e-05, 2.9688608265132643e-06, 3.919346625025355e-07, 9.117047738982365e-07, 4.3644732272696274e-07, 4.686573351619927e-09, 9.240360299145323e-08, 1.2419302031219104e-08, 7.188937445334886e-08, 6.304506996457349e-07, 6.108888506162202e-09, 1.9987122357179032e-07, 1.4578617992810905e-06, 1.4727316255402911e-08, 1.7957290765480138e-07, 2.6422610972076654e-05, 5.1126374245313855e-08, 4.710656398287938e-08, 0.001576114329509437, 2.198941047026892e-06, 3.3339856031489035e-07, 2.181479203500203e-06, 0.00016240391414612532, 0.0017777637112885714, 1.1749207260436378e-05, 0.0036160852760076523, 6.199465860845521e-05, 3.516816286719404e-05, 0.0011488673044368625, 0.016085589304566383, 0.9754422307014465, 0.0, 0.0], [0.00115629390347749, 6.1990413087187335e-06, 6.137800596661691e-07, 3.102660230069887e-06, 8.2284321933912e-07, 4.366036066016932e-08, 9.363272823748048e-08, 2.7735492125202654e-08, 5.10952929744235e-07, 1.2355308172118384e-06, 3.8253045175906664e-08, 1.1272296660536085e-06, 1.9008953131560702e-06, 8.71407408453706e-08, 5.398193025030196e-06, 7.3934447755164e-06, 3.128872663182847e-07, 3.0146256335683574e-07, 0.00013595363998319954, 1.3343821592570748e-05, 2.39964992942987e-06, 3.871272929245606e-05, 0.0008219636511057615, 0.0006131281261332333, 2.1518460926017724e-05, 0.004140728618949652, 0.0008760871132835746, 0.00011684637138387188, 0.0021590683609247208, 0.027525311335921288, 0.04434973746538162, 0.9179997444152832, 0.0], [0.0031942862551659346, 4.6816658141324297e-05, 3.49912625097204e-05, 2.7043046429753304e-05, 1.4000317605677992e-05, 1.708515628706664e-05, 8.05188301455928e-06, 3.909829956683097e-06, 1.0716934411902912e-05, 1.7930773537955247e-05, 1.4207478670869023e-05, 2.6911222448688932e-05, 2.6412013539811596e-05, 3.1100214982870966e-05, 1.1198577340110205e-05, 5.485492874868214e-05, 0.00011474474740680307, 0.00010493661102373153, 0.0002806300180964172, 0.00020839046919718385, 0.0009329255553893745, 0.0018989982781931758, 0.0011267588706687093, 0.0019257233943790197, 0.003917158581316471, 0.007499443367123604, 0.010695917531847954, 0.023199865594506264, 0.03039810061454773, 0.12729348242282867, 0.04325321316719055, 0.1766805201768875, 0.5669296979904175]], [[1.0, 0.0, 0.0, 0.0, 0.0, 0.0, 0.0, 0.0, 0.0, 0.0, 0.0, 0.0, 0.0, 0.0, 0.0, 0.0, 0.0, 0.0, 0.0, 0.0, 0.0, 0.0, 0.0, 0.0, 0.0, 0.0, 0.0, 0.0, 0.0, 0.0, 0.0, 0.0, 0.0], [0.2530860900878906, 0.7469139099121094, 0.0, 0.0, 0.0, 0.0, 0.0, 0.0, 0.0, 0.0, 0.0, 0.0, 0.0, 0.0, 0.0, 0.0, 0.0, 0.0, 0.0, 0.0, 0.0, 0.0, 0.0, 0.0, 0.0, 0.0, 0.0, 0.0, 0.0, 0.0, 0.0, 0.0, 0.0], [0.30671584606170654, 0.3290638327598572, 0.3642202913761139, 0.0, 0.0, 0.0, 0.0, 0.0, 0.0, 0.0, 0.0, 0.0, 0.0, 0.0, 0.0, 0.0, 0.0, 0.0, 0.0, 0.0, 0.0, 0.0, 0.0, 0.0, 0.0, 0.0, 0.0, 0.0, 0.0, 0.0, 0.0, 0.0, 0.0], [0.07416968792676926, 0.1618966907262802, 0.054325900971889496, 0.709607720375061, 0.0, 0.0, 0.0, 0.0, 0.0, 0.0, 0.0, 0.0, 0.0, 0.0, 0.0, 0.0, 0.0, 0.0, 0.0, 0.0, 0.0, 0.0, 0.0, 0.0, 0.0, 0.0, 0.0, 0.0, 0.0, 0.0, 0.0, 0.0, 0.0], [0.16688233613967896, 0.03901788219809532, 0.03822461888194084, 0.21398362517356873, 0.5418915152549744, 0.0, 0.0, 0.0, 0.0, 0.0, 0.0, 0.0, 0.0, 0.0, 0.0, 0.0, 0.0, 0.0, 0.0, 0.0, 0.0, 0.0, 0.0, 0.0, 0.0, 0.0, 0.0, 0.0, 0.0, 0.0, 0.0, 0.0, 0.0], [0.19483639299869537, 0.2111925631761551, 0.051505640149116516, 0.08703839033842087, 0.22999544441699982, 0.22543156147003174, 0.0, 0.0, 0.0, 0.0, 0.0, 0.0, 0.0, 0.0, 0.0, 0.0, 0.0, 0.0, 0.0, 0.0, 0.0, 0.0, 0.0, 0.0, 0.0, 0.0, 0.0, 0.0, 0.0, 0.0, 0.0, 0.0, 0.0], [0.1390012949705124, 0.02974863536655903, 0.03860696777701378, 0.051332708448171616, 0.19284236431121826, 0.08012368530035019, 0.46834439039230347, 0.0, 0.0, 0.0, 0.0, 0.0, 0.0, 0.0, 0.0, 0.0, 0.0, 0.0, 0.0, 0.0, 0.0, 0.0, 0.0, 0.0, 0.0, 0.0, 0.0, 0.0, 0.0, 0.0, 0.0, 0.0, 0.0], [0.08969776332378387, 0.040806010365486145, 0.03473307937383652, 0.08414528518915176, 0.09911045432090759, 0.07059446722269058, 0.1361658126115799, 0.44474709033966064, 0.0, 0.0, 0.0, 0.0, 0.0, 0.0, 0.0, 0.0, 0.0, 0.0, 0.0, 0.0, 0.0, 0.0, 0.0, 0.0, 0.0, 0.0, 0.0, 0.0, 0.0, 0.0, 0.0, 0.0, 0.0], [0.05986516550183296, 0.020190462470054626, 0.018785329535603523, 0.10584727674722672, 0.05794878676533699, 0.027517732232809067, 0.0566631443798542, 0.08226760476827621, 0.5709144473075867, 0.0, 0.0, 0.0, 0.0, 0.0, 0.0, 0.0, 0.0, 0.0, 0.0, 0.0, 0.0, 0.0, 0.0, 0.0, 0.0, 0.0, 0.0, 0.0, 0.0, 0.0, 0.0, 0.0, 0.0], [0.010379276238381863, 0.004698258358985186, 0.004143988247960806, 0.0072914063930511475, 0.006256693042814732, 0.0033180471509695053, 0.00917502585798502, 0.018754417076706886, 0.03393149748444557, 0.9020513892173767, 0.0, 0.0, 0.0, 0.0, 0.0, 0.0, 0.0, 0.0, 0.0, 0.0, 0.0, 0.0, 0.0, 0.0, 0.0, 0.0, 0.0, 0.0, 0.0, 0.0, 0.0, 0.0, 0.0], [0.07270113378763199, 0.047764867544174194, 0.010500339791178703, 0.016159428283572197, 0.046178191900253296, 0.0524945892393589, 0.05184569209814072, 0.21189507842063904, 0.035158198326826096, 0.17267188429832458, 0.28263059258461, 0.0, 0.0, 0.0, 0.0, 0.0, 0.0, 0.0, 0.0, 0.0, 0.0, 0.0, 0.0, 0.0, 0.0, 0.0, 0.0, 0.0, 0.0, 0.0, 0.0, 0.0, 0.0], [0.015126905404031277, 0.004731189925223589, 0.0023226330522447824, 0.0065757399424910545, 0.01836245507001877, 0.003339663613587618, 0.008784219622612, 0.007409735582768917, 0.006289802026003599, 0.07638940215110779, 0.01200347300618887, 0.838664710521698, 0.0, 0.0, 0.0, 0.0, 0.0, 0.0, 0.0, 0.0, 0.0, 0.0, 0.0, 0.0, 0.0, 0.0, 0.0, 0.0, 0.0, 0.0, 0.0, 0.0, 0.0], [0.032331932336091995, 0.010628961026668549, 0.0026151640340685844, 0.0011762919602915645, 0.003093282226473093, 0.0015055524418130517, 0.007079718634486198, 0.002834467915818095, 0.005003884434700012, 0.012032583355903625, 0.003987772855907679, 0.051872432231903076, 0.8658380508422852, 0.0, 0.0, 0.0, 0.0, 0.0, 0.0, 0.0, 0.0, 0.0, 0.0, 0.0, 0.0, 0.0, 0.0, 0.0, 0.0, 0.0, 0.0, 0.0, 0.0], [0.05045590549707413, 0.026538856327533722, 0.005783276166766882, 0.008087304420769215, 0.021799389272928238, 0.025670349597930908, 0.022779058665037155, 0.09139899909496307, 0.015017375349998474, 0.07093926519155502, 0.12448631227016449, 0.1266833245754242, 0.061021387577056885, 0.34933924674987793, 0.0, 0.0, 0.0, 0.0, 0.0, 0.0, 0.0, 0.0, 0.0, 0.0, 0.0, 0.0, 0.0, 0.0, 0.0, 0.0, 0.0, 0.0, 0.0], [0.05474124103784561, 0.05296849459409714, 0.00398812722414732, 0.012351618148386478, 0.0044156210497021675, 0.0035962783731520176, 0.011385711841285229, 0.00982806459069252, 0.014749733731150627, 0.07078828662633896, 0.011209179647266865, 0.051640585064888, 0.19734391570091248, 0.027129286900162697, 0.4738638997077942, 0.0, 0.0, 0.0, 0.0, 0.0, 0.0, 0.0, 0.0, 0.0, 0.0, 0.0, 0.0, 0.0, 0.0, 0.0, 0.0, 0.0, 0.0], [0.007163067348301411, 0.004963851533830166, 0.0027692276053130627, 0.001942442380823195, 0.010544734075665474, 0.0014144883025437593, 0.0036636623553931713, 0.0031499513424932957, 0.005481296218931675, 0.021614057943224907, 0.003922200296074152, 0.07935082912445068, 0.22477911412715912, 0.009166955947875977, 0.027402665466070175, 0.5926714539527893, 0.0, 0.0, 0.0, 0.0, 0.0, 0.0, 0.0, 0.0, 0.0, 0.0, 0.0, 0.0, 0.0, 0.0, 0.0, 0.0, 0.0], [0.034611038863658905, 0.015296337194740772, 0.003095125313848257, 0.003899094881489873, 0.009989396668970585, 0.01144686620682478, 0.00918936263769865, 0.03356511518359184, 0.005761210806667805, 0.0255809985101223, 0.04384687915444374, 0.04521356523036957, 0.02055339142680168, 0.11962331086397171, 0.1567324697971344, 0.13173450529575348, 0.32986125349998474, 0.0, 0.0, 0.0, 0.0, 0.0, 0.0, 0.0, 0.0, 0.0, 0.0, 0.0, 0.0, 0.0, 0.0, 0.0, 0.0], [0.017253879457712173, 0.004397530574351549, 0.004968690685927868, 0.007064314093440771, 0.006634891498833895, 0.0069109536707401276, 0.011386909522116184, 0.01617850549519062, 0.02031775936484337, 0.020396823063492775, 0.023422112688422203, 0.018909147009253502, 0.04024204611778259, 0.06200673431158066, 0.1164536327123642, 0.07975110411643982, 0.1686447560787201, 0.37506020069122314, 0.0, 0.0, 0.0, 0.0, 0.0, 0.0, 0.0, 0.0, 0.0, 0.0, 0.0, 0.0, 0.0, 0.0, 0.0], [0.002459117444232106, 0.00024919764837250113, 3.400466084713116e-05, 0.00021132959227543324, 0.00020066779688932002, 0.00012589257676154375, 0.0003650689322967082, 0.00037359818816185, 0.000137985625769943, 0.0004702216829173267, 0.0002715182490646839, 0.003417078172788024, 0.0006049806252121925, 0.0005454611964523792, 0.0008937675156630576, 0.0015852133510634303, 0.0012150757247582078, 0.0028212694451212883, 0.9840186238288879, 0.0, 0.0, 0.0, 0.0, 0.0, 0.0, 0.0, 0.0, 0.0, 0.0, 0.0, 0.0, 0.0, 0.0], [0.00015282446111086756, 0.038923606276512146, 0.0004715201212093234, 0.0003731817414518446, 3.2717995054554194e-05, 1.0635612852638587e-05, 3.824587111012079e-06, 1.3244693036540411e-05, 6.418923294404522e-05, 2.734442205110099e-05, 2.8319955163169652e-05, 0.0022295699454844, 0.0013866382651031017, 7.163524423958734e-05, 0.00014025566633790731, 0.008246440440416336, 0.0001967863499885425, 0.00020546666928566992, 0.8976380228996277, 0.04978378117084503, 0.0, 0.0, 0.0, 0.0, 0.0, 0.0, 0.0, 0.0, 0.0, 0.0, 0.0, 0.0, 0.0], [0.02645808458328247, 0.010410879738628864, 0.0021332548931241035, 0.002456015907227993, 0.005542595870792866, 0.005954568274319172, 0.004195829853415489, 0.01345154084265232, 0.002351949689909816, 0.009471968747675419, 0.01543343160301447, 0.014804963953793049, 0.0068657658994197845, 0.03787313774228096, 0.04744932800531387, 0.045472852885723114, 0.1019916981458664, 0.08666389435529709, 0.06470177322626114, 0.101607546210289, 0.39470887184143066, 0.0, 0.0, 0.0, 0.0, 0.0, 0.0, 0.0, 0.0, 0.0, 0.0, 0.0, 0.0], [0.021157898008823395, 0.0035484344698488712, 0.0017441121162846684, 0.0035093105398118496, 0.004201893694698811, 0.0025777819100767374, 0.004015857819467783, 0.004599001258611679, 0.003955157473683357, 0.0064558410085737705, 0.0059079015627503395, 0.003733164630830288, 0.009013406932353973, 0.013927989639341831, 0.029895799234509468, 0.02008233591914177, 0.03804442286491394, 0.0688309296965599, 0.08152899891138077, 0.0383402556180954, 0.15160270035266876, 0.48332679271698, 0.0, 0.0, 0.0, 0.0, 0.0, 0.0, 0.0, 0.0, 0.0, 0.0, 0.0], [0.001421167515218258, 0.0004069013230036944, 0.00027144234627485275, 0.0014869233127683401, 0.0006475148838944733, 0.00025671522598713636, 0.0002729765838012099, 0.0005059848190285265, 0.00017537489475216717, 0.0012059601722285151, 0.0005902893608435988, 0.00043073916458524764, 0.0003699958324432373, 0.0013322830200195312, 0.0007594265625812113, 0.0025183074176311493, 0.003599978517740965, 0.004756716545671225, 0.011892925016582012, 0.003410214791074395, 0.013851107098162174, 0.05907329544425011, 0.8907636404037476, 0.0, 0.0, 0.0, 0.0, 0.0, 0.0, 0.0, 0.0, 0.0, 0.0], [0.005058860871940851, 0.0008823536918498576, 0.001535826944746077, 0.0016909861005842686, 0.0013438733294606209, 0.0004949707072228193, 0.0006572253187187016, 0.0005521586863324046, 0.0005812096642330289, 0.0020545590668916702, 0.0008380865911021829, 0.0010067482944577932, 0.001130084041506052, 0.0016139919171109796, 0.005022868048399687, 0.014576868154108524, 0.0037143307272344828, 0.004681473132222891, 0.007913819514214993, 0.006778389681130648, 0.012291362509131432, 0.027733009308576584, 0.10214641690254211, 0.7957005500793457, 0.0, 0.0, 0.0, 0.0, 0.0, 0.0, 0.0, 0.0, 0.0], [0.004004699178040028, 0.0004576980718411505, 0.0015645221574231982, 0.003137205960229039, 0.0019937464967370033, 0.00037892628461122513, 0.0004957786295562983, 0.0005698016611859202, 0.001005207421258092, 0.002343225060030818, 0.0005772147560492158, 0.0016756148543208838, 0.0030787400901317596, 0.0012285251868888736, 0.005278334487229586, 0.0063280630856752396, 0.0031517320312559605, 0.0053193094208836555, 0.0213831327855587, 0.006147710140794516, 0.01233222521841526, 0.07402161508798599, 0.12114018946886063, 0.5611116290092468, 0.16127517819404602, 0.0, 0.0, 0.0, 0.0, 0.0, 0.0, 0.0, 0.0], [0.0011286535300314426, 4.9889109504874796e-05, 4.129114677198231e-05, 9.249593858839944e-05, 5.513616997632198e-05, 3.8617217796854675e-05, 5.592021989286877e-05, 0.00014896252832841128, 5.509214588528266e-06, 6.817420216975734e-05, 3.62043829227332e-05, 4.623952190740965e-05, 0.0010654997313395143, 5.919869363424368e-05, 7.787245704093948e-05, 0.0003842116566374898, 0.0001169242532341741, 0.00022428194642998278, 0.0005083975847810507, 0.0001562809047754854, 0.0003233142488170415, 0.0007086815894581378, 0.0009207406546920538, 0.0008559702546335757, 0.004414443392306566, 0.9884169697761536, 0.0, 0.0, 0.0, 0.0, 0.0, 0.0, 0.0], [0.002429968910291791, 0.0036596348509192467, 0.0006344973808154464, 0.0006202652002684772, 0.002987674670293927, 0.00034763640724122524, 0.0005059156101197004, 0.00041149675962515175, 0.00021321566600818187, 0.0006509346421808004, 0.00039556939736939967, 0.1698644608259201, 0.0021888960618525743, 0.0006812368519604206, 0.0008683748310431838, 0.0089051378890872, 0.0014638510765507817, 0.001339458511210978, 0.00649512792006135, 0.007638711482286453, 0.004619398154318333, 0.003161790082231164, 0.014200896956026554, 0.046396657824516296, 0.022786084562540054, 0.2193925976753235, 0.47714048624038696, 0.0, 0.0, 0.0, 0.0, 0.0, 0.0], [0.015610339120030403, 0.0009648086852394044, 0.0010281834984198213, 0.007148521952331066, 0.005316652823239565, 0.0005432688631117344, 0.0007839897880330682, 0.00047082945820875466, 0.0022980361245572567, 0.005463096313178539, 0.0005483072600327432, 0.000866150192450732, 0.0009035554830916226, 0.0009251958108507097, 0.00837593711912632, 0.0014478141674771905, 0.0020614909008145332, 0.003693382488563657, 0.017008870840072632, 0.006138677708804607, 0.007041896227747202, 0.041287072002887726, 0.06922482699155807, 0.26617181301116943, 0.050242189317941666, 0.11445145308971405, 0.13764896988868713, 0.23233462870121002, 0.0, 0.0, 0.0, 0.0, 0.0], [0.021895291283726692, 0.0013514547608792782, 0.0013727960176765919, 0.00515771796926856, 0.010932793840765953, 0.00044522195821627975, 0.00161782989744097, 0.0005713264108635485, 0.0007700268761254847, 0.0030935360118746758, 0.00036163441836833954, 0.0009329026797786355, 0.001903239288367331, 0.0005254383431747556, 0.0007036193273961544, 0.001578065799549222, 0.0010200474644079804, 0.0009346736478619277, 0.005167579278349876, 0.000785542419180274, 0.002879686653614044, 0.006337147206068039, 0.04951418191194534, 0.021886909380555153, 0.03004688397049904, 0.06941603124141693, 0.029953911900520325, 0.06111626327037811, 0.6677282452583313, 0.0, 0.0, 0.0, 0.0], [0.000294665340334177, 8.085111767286435e-05, 0.00011992630606982857, 0.00017153978114947677, 0.0003899005241692066, 8.630251977592707e-05, 5.25372706761118e-05, 6.616368773393333e-05, 0.00011378383351257071, 6.200074858497828e-05, 0.00011238025763304904, 0.0005867320578545332, 9.785000293049961e-05, 0.00021334894699975848, 0.0004044431552756578, 0.00047262400039471686, 0.00047307336353696883, 0.0005199523875489831, 0.0008571147336624563, 0.00022720193373970687, 0.0015976791037246585, 0.0014780639903619885, 0.0016501430654898286, 0.0093396520242095, 0.012792706489562988, 0.012606949545443058, 0.02165958657860756, 0.028867462649941444, 0.07784780114889145, 0.826757550239563, 0.0, 0.0, 0.0], [0.0006396532990038395, 0.00019920209888368845, 0.0003378455003257841, 0.0003228608693461865, 0.0003883971367031336, 2.2511425413540564e-05, 0.00011559660924831405, 1.9683655409608036e-05, 8.749763219384477e-05, 0.00016675735241733491, 2.1353165720938705e-05, 0.00018257669580634683, 0.0028796179685741663, 3.270835804869421e-05, 6.355973891913891e-05, 0.0009078492294065654, 6.314183701761067e-05, 4.954514224664308e-05, 0.005010178778320551, 0.0002155575348297134, 0.00018923296011053026, 0.00023579840490128845, 0.00211917026899755, 0.003475241595879197, 0.0004957508645020425, 0.012673026882112026, 0.002627458656206727, 0.0011926383012905717, 0.028011484071612358, 0.1421455591917038, 0.7951084971427917, 0.0, 0.0], [0.005492151249200106, 0.0014179636491462588, 6.310049502644688e-05, 0.0009282371029257774, 0.00046758764074184, 9.70122855505906e-05, 5.678706293110736e-05, 6.824052252341062e-05, 4.054810051457025e-05, 0.00021011484204791486, 6.534710701089352e-05, 0.00011957799870288, 9.08232104848139e-05, 9.07735011423938e-05, 0.00013827506336383522, 0.0004122831451240927, 0.00016900616174098104, 0.0001357071741949767, 0.002428325591608882, 0.00020654802210628986, 0.0004959606449119747, 0.0001656200474826619, 0.0018254023743793368, 0.0016808179207146168, 0.0010187356965616345, 0.015071497298777103, 0.003408375894650817, 0.003384194104000926, 0.01886550709605217, 0.010037430562078953, 0.00825956929475069, 0.9230883717536926, 0.0], [0.009386111050844193, 0.0017380559584125876, 0.0018091691890731454, 0.0014350240817293525, 0.0016812809044495225, 0.001979129621759057, 0.001414343947544694, 0.002112781163305044, 0.0012016957625746727, 0.0010467637330293655, 0.0012532484252005816, 0.0012125695357099175, 0.0006952425464987755, 0.0016850169049575925, 0.0012904986506327987, 0.001494942232966423, 0.003052463522180915, 0.006176410708576441, 0.003993152640759945, 0.0029945187270641327, 0.008827612735331059, 0.009542388841509819, 0.010477355681359768, 0.021451439708471298, 0.062213603407144547, 0.0268610417842865, 0.03390644118189812, 0.11987602710723877, 0.05027465522289276, 0.026796845719218254, 0.03116569109261036, 0.10728629678487778, 0.4436681568622589]], [[1.0, 0.0, 0.0, 0.0, 0.0, 0.0, 0.0, 0.0, 0.0, 0.0, 0.0, 0.0, 0.0, 0.0, 0.0, 0.0, 0.0, 0.0, 0.0, 0.0, 0.0, 0.0, 0.0, 0.0, 0.0, 0.0, 0.0, 0.0, 0.0, 0.0, 0.0, 0.0, 0.0], [0.10520488768815994, 0.8947951793670654, 0.0, 0.0, 0.0, 0.0, 0.0, 0.0, 0.0, 0.0, 0.0, 0.0, 0.0, 0.0, 0.0, 0.0, 0.0, 0.0, 0.0, 0.0, 0.0, 0.0, 0.0, 0.0, 0.0, 0.0, 0.0, 0.0, 0.0, 0.0, 0.0, 0.0, 0.0], [0.039072006940841675, 0.0020172197837382555, 0.9589107632637024, 0.0, 0.0, 0.0, 0.0, 0.0, 0.0, 0.0, 0.0, 0.0, 0.0, 0.0, 0.0, 0.0, 0.0, 0.0, 0.0, 0.0, 0.0, 0.0, 0.0, 0.0, 0.0, 0.0, 0.0, 0.0, 0.0, 0.0, 0.0, 0.0, 0.0], [0.015578641556203365, 0.000839254935272038, 0.0006979771424084902, 0.9828841090202332, 0.0, 0.0, 0.0, 0.0, 0.0, 0.0, 0.0, 0.0, 0.0, 0.0, 0.0, 0.0, 0.0, 0.0, 0.0, 0.0, 0.0, 0.0, 0.0, 0.0, 0.0, 0.0, 0.0, 0.0, 0.0, 0.0, 0.0, 0.0, 0.0], [0.00885645393282175, 9.934287845680956e-06, 1.1174832252436318e-05, 0.00030246999813243747, 0.9908198714256287, 0.0, 0.0, 0.0, 0.0, 0.0, 0.0, 0.0, 0.0, 0.0, 0.0, 0.0, 0.0, 0.0, 0.0, 0.0, 0.0, 0.0, 0.0, 0.0, 0.0, 0.0, 0.0, 0.0, 0.0, 0.0, 0.0, 0.0, 0.0], [0.35445019602775574, 0.03058929182589054, 0.059889569878578186, 0.022903522476553917, 0.047475870698690414, 0.4846915602684021, 0.0, 0.0, 0.0, 0.0, 0.0, 0.0, 0.0, 0.0, 0.0, 0.0, 0.0, 0.0, 0.0, 0.0, 0.0, 0.0, 0.0, 0.0, 0.0, 0.0, 0.0, 0.0, 0.0, 0.0, 0.0, 0.0, 0.0], [0.044769078493118286, 0.0015664699021726847, 0.0003773854987230152, 0.00025073293363675475, 0.0004088976711500436, 0.0002606563502922654, 0.952366828918457, 0.0, 0.0, 0.0, 0.0, 0.0, 0.0, 0.0, 0.0, 0.0, 0.0, 0.0, 0.0, 0.0, 0.0, 0.0, 0.0, 0.0, 0.0, 0.0, 0.0, 0.0, 0.0, 0.0, 0.0, 0.0, 0.0], [0.09058350324630737, 0.001147075672633946, 0.006027346942573786, 0.0005468471790663898, 0.0017094215145334601, 0.0037850881926715374, 0.0026845415122807026, 0.8935161232948303, 0.0, 0.0, 0.0, 0.0, 0.0, 0.0, 0.0, 0.0, 0.0, 0.0, 0.0, 0.0, 0.0, 0.0, 0.0, 0.0, 0.0, 0.0, 0.0, 0.0, 0.0, 0.0, 0.0, 0.0, 0.0], [0.006010740529745817, 2.4289116481668316e-05, 0.00031266777659766376, 1.8682971131056547e-05, 0.0002979248820338398, 9.904534636007156e-06, 6.619555279030465e-06, 7.912207138360827e-07, 0.9933184385299683, 0.0, 0.0, 0.0, 0.0, 0.0, 0.0, 0.0, 0.0, 0.0, 0.0, 0.0, 0.0, 0.0, 0.0, 0.0, 0.0, 0.0, 0.0, 0.0, 0.0, 0.0, 0.0, 0.0, 0.0], [0.0045468187890946865, 0.00020019360817968845, 0.0002992021618410945, 0.001336394459940493, 0.0003267661377321929, 8.741374131204793e-07, 1.7415719412383623e-05, 2.7834195748255297e-07, 0.0002966530155390501, 0.9929754734039307, 0.0, 0.0, 0.0, 0.0, 0.0, 0.0, 0.0, 0.0, 0.0, 0.0, 0.0, 0.0, 0.0, 0.0, 0.0, 0.0, 0.0, 0.0, 0.0, 0.0, 0.0, 0.0, 0.0], [0.12262565642595291, 0.023926569148898125, 0.03827649727463722, 0.016171954572200775, 0.03036622330546379, 0.2937592566013336, 0.10661346465349197, 0.0705995187163353, 0.041900068521499634, 0.017833087593317032, 0.23792764544487, 0.0, 0.0, 0.0, 0.0, 0.0, 0.0, 0.0, 0.0, 0.0, 0.0, 0.0, 0.0, 0.0, 0.0, 0.0, 0.0, 0.0, 0.0, 0.0, 0.0, 0.0, 0.0], [0.0008121030987240374, 0.00011546649329829961, 0.0001350089441984892, 5.5392822105204687e-05, 0.0001317413116339594, 1.002717681330978e-06, 1.3799076441500802e-06, 1.6001582991975738e-07, 1.8972953057527775e-06, 5.419650506155449e-07, 4.7530917868243705e-07, 0.9987448453903198, 0.0, 0.0, 0.0, 0.0, 0.0, 0.0, 0.0, 0.0, 0.0, 0.0, 0.0, 0.0, 0.0, 0.0, 0.0, 0.0, 0.0, 0.0, 0.0, 0.0, 0.0], [0.0013333038659766316, 0.00010533048771321774, 0.000766961311455816, 0.0009021882433444262, 3.5708394534594845e-06, 8.120482561935205e-07, 1.4038076301403635e-07, 9.5612755046659e-08, 1.6865070620042388e-06, 2.9789011023240164e-05, 4.381340659165289e-07, 1.196580001305847e-06, 0.9968544840812683, 0.0, 0.0, 0.0, 0.0, 0.0, 0.0, 0.0, 0.0, 0.0, 0.0, 0.0, 0.0, 0.0, 0.0, 0.0, 0.0, 0.0, 0.0, 0.0, 0.0], [0.08159799873828888, 0.021388864144682884, 0.02887715771794319, 0.012675794772803783, 0.024931583553552628, 0.22996485233306885, 0.10401231795549393, 0.0647210106253624, 0.03460092470049858, 0.015198715031147003, 0.1856415718793869, 0.020528048276901245, 0.005003850441426039, 0.170857235789299, 0.0, 0.0, 0.0, 0.0, 0.0, 0.0, 0.0, 0.0, 0.0, 0.0, 0.0, 0.0, 0.0, 0.0, 0.0, 0.0, 0.0, 0.0, 0.0], [0.0013488882686942816, 8.92121170181781e-05, 0.0006859974237158895, 0.0006963229971006513, 2.1248662960715592e-05, 3.763397558032011e-07, 6.226744062587386e-07, 4.307224514832342e-07, 7.0918945311859716e-06, 0.0013103700475767255, 1.6113767742353957e-07, 9.548772368361824e-07, 0.00016453608986921608, 1.1531948018728144e-07, 0.9956737160682678, 0.0, 0.0, 0.0, 0.0, 0.0, 0.0, 0.0, 0.0, 0.0, 0.0, 0.0, 0.0, 0.0, 0.0, 0.0, 0.0, 0.0, 0.0], [0.0010867458768188953, 0.000407246669055894, 0.00010700280836317688, 0.0006782696000300348, 0.0001102845199056901, 1.3184212832584308e-07, 2.660260918219137e-07, 4.6195592062758806e-07, 8.409690053667873e-06, 0.000778485438786447, 5.1094300346221644e-08, 8.792044923211506e-07, 4.934275784762576e-05, 3.48930981886042e-08, 0.00011441155947977677, 0.9966580867767334, 0.0, 0.0, 0.0, 0.0, 0.0, 0.0, 0.0, 0.0, 0.0, 0.0, 0.0, 0.0, 0.0, 0.0, 0.0, 0.0, 0.0], [0.05868082493543625, 0.018785744905471802, 0.024067306891083717, 0.011013147421181202, 0.02145637758076191, 0.19110560417175293, 0.09902723133563995, 0.060658685863018036, 0.03016272932291031, 0.01480190921574831, 0.15370337665081024, 0.016615159809589386, 0.004385381005704403, 0.14085331559181213, 0.015014996752142906, 0.005390206351876259, 0.13427799940109253, 0.0, 0.0, 0.0, 0.0, 0.0, 0.0, 0.0, 0.0, 0.0, 0.0, 0.0, 0.0, 0.0, 0.0, 0.0, 0.0], [0.07323040068149567, 0.02837459370493889, 0.021058248355984688, 0.007611876353621483, 0.01005357876420021, 0.06553948670625687, 0.1455976665019989, 0.08620846271514893, 0.01024126261472702, 0.007425735704600811, 0.04526268318295479, 0.006621456705033779, 0.001162177068181336, 0.039238542318344116, 0.008256873115897179, 0.003065688069909811, 0.03612261638045311, 0.4049285352230072, 0.0, 0.0, 0.0, 0.0, 0.0, 0.0, 0.0, 0.0, 0.0, 0.0, 0.0, 0.0, 0.0, 0.0, 0.0], [7.94449370005168e-05, 1.8382123698756914e-06, 3.7134324060161816e-08, 1.5575249562971294e-05, 3.472369144219556e-06, 1.3165072365595165e-09, 2.7038710825877388e-08, 1.718662190342002e-08, 9.232245190560207e-08, 1.350635284325108e-05, 4.4787715203220557e-10, 2.0416692780855783e-09, 5.54200738633881e-08, 3.063855003038185e-10, 4.217703519771021e-07, 7.065861154842423e-06, 2.424434542014353e-10, 1.4397331105087119e-09, 0.9998784065246582, 0.0, 0.0, 0.0, 0.0, 0.0, 0.0, 0.0, 0.0, 0.0, 0.0, 0.0, 0.0, 0.0, 0.0], [0.0029345008078962564, 0.0005883857957087457, 0.004250312689691782, 0.004028469789773226, 0.0001159296662081033, 4.3316258597769774e-06, 6.773906079615699e-06, 7.076474139466882e-05, 0.0002495272201485932, 0.0003159341576974839, 2.082441824313719e-06, 4.409225221024826e-05, 0.00030447018798440695, 1.4702574162583915e-06, 0.00019761397561524063, 0.0013599294470623136, 1.2478662938519847e-06, 6.8751951403100975e-06, 0.0001926118420669809, 0.9853246808052063, 0.0, 0.0, 0.0, 0.0, 0.0, 0.0, 0.0, 0.0, 0.0, 0.0, 0.0, 0.0, 0.0], [0.040565311908721924, 0.017898326739668846, 0.020600976422429085, 0.00982110109180212, 0.0178828127682209, 0.15654000639915466, 0.09208228439092636, 0.05628827586770058, 0.02666134014725685, 0.014471275731921196, 0.12537628412246704, 0.013986771926283836, 0.003927925135940313, 0.11453615128993988, 0.01339537650346756, 0.004846664145588875, 0.10880253463983536, 0.04953397810459137, 0.0051864078268408775, 0.004420875106006861, 0.10317538678646088, 0.0, 0.0, 0.0, 0.0, 0.0, 0.0, 0.0, 0.0, 0.0, 0.0, 0.0, 0.0], [0.024536434561014175, 0.003124344628304243, 0.0009699328220449388, 4.631559568224475e-05, 0.00013434814172796905, 0.0006453958339989185, 0.011668880470097065, 0.0003271357563789934, 0.0004573051701299846, 2.3976164811756462e-05, 0.000344542640959844, 4.9964415666181594e-05, 2.5757477487786673e-05, 0.00028217851649969816, 6.525341632368509e-06, 4.981822712579742e-06, 0.0002355408651055768, 0.0002664518542587757, 2.531117388571147e-05, 2.9761171390418895e-05, 0.00018809299217537045, 0.9566067457199097, 0.0, 0.0, 0.0, 0.0, 0.0, 0.0, 0.0, 0.0, 0.0, 0.0, 0.0], [0.0020759981125593185, 0.00014591787476092577, 5.289898763294332e-05, 4.2180698073934764e-05, 4.73871041322127e-05, 4.142327441059024e-07, 0.00012964288180228323, 2.4250999558717012e-05, 1.803400891731144e-06, 1.4839239383945824e-06, 1.4489967270492343e-07, 4.199928753223503e-06, 4.106833273453958e-08, 1.0260482241619684e-07, 8.285448416245345e-07, 5.781897698398097e-07, 7.695144432773304e-08, 6.669596785968679e-08, 6.472603126894683e-05, 1.5700871927037952e-06, 5.641831535285746e-08, 4.403028015076416e-06, 0.9974013566970825, 0.0, 0.0, 0.0, 0.0, 0.0, 0.0, 0.0, 0.0, 0.0, 0.0], [0.0005159119609743357, 0.00011814641766250134, 3.270570596214384e-05, 0.0002118876000167802, 4.5635333663085476e-05, 2.9248920441204973e-07, 3.0579483336623525e-06, 7.60737606242401e-08, 0.000137536961119622, 0.0005283543141558766, 1.1576047143080359e-07, 4.028592684335308e-06, 2.0793006569874706e-06, 8.805425011360057e-08, 0.00010051696881419048, 4.431631896295585e-05, 6.963725240893837e-08, 9.3730577077622e-08, 3.3377746149199083e-05, 1.588891973369755e-05, 5.61069697369021e-08, 7.052668138385343e-08, 9.389286788064055e-06, 0.9981963038444519, 0.0, 0.0, 0.0, 0.0, 0.0, 0.0, 0.0, 0.0, 0.0], [0.06915221363306046, 0.014032113365828991, 0.00559909688308835, 0.0012576853623613715, 0.0008468000451102853, 0.009601173922419548, 0.00896577350795269, 0.052476927638053894, 0.0002502836869098246, 0.0009063848992809653, 0.005419902969151735, 0.0007309208158403635, 0.00019187921134289354, 0.004396580159664154, 0.005964716896414757, 0.0003558539319783449, 0.0038770148530602455, 0.009727220982313156, 0.0011023483239114285, 0.00036442899727262557, 0.003413957078009844, 0.003052355255931616, 0.005698247812688351, 0.000295573117909953, 0.7923205494880676, 0.0, 0.0, 0.0, 0.0, 0.0, 0.0, 0.0, 0.0], [0.0010461538331583142, 1.955712286871858e-05, 1.7358910326947807e-06, 3.103040580754168e-05, 2.7307931304676458e-05, 1.0180658982505975e-08, 4.815758529730374e-07, 1.7494198800704908e-07, 7.312396377301411e-08, 7.983045406945166e-07, 3.4643037327697357e-09, 4.906708454655018e-06, 1.0718913046048328e-07, 2.3525394965417945e-09, 2.3834007834011572e-07, 1.3731321359955473e-06, 1.8288600633908914e-09, 6.24759799450203e-09, 9.208320989273489e-06, 1.638422531868855e-06, 1.2523876380399201e-09, 8.271242579738214e-10, 8.456761861452833e-06, 3.118673703284003e-06, 9.24138632285576e-09, 0.9988435506820679, 0.0, 0.0, 0.0, 0.0, 0.0, 0.0, 0.0], [0.0010544918477535248, 0.00021373193885665387, 0.00028157164342701435, 0.0011373349698260427, 0.00014783910592086613, 2.0068473531864583e-06, 4.831345904676709e-06, 3.4823281112039695e-06, 5.100334874441614e-06, 0.00012420448183547705, 9.301500654146366e-07, 1.058260204445105e-05, 1.1688251106534153e-05, 7.077497912177932e-07, 0.0034115903545171022, 0.00019905237422790378, 5.995606215947191e-07, 4.643032411877357e-07, 1.9585078916861676e-05, 0.00011087769962614402, 4.7500441269221483e-07, 3.2808813443807594e-07, 4.53534084954299e-06, 5.161703666090034e-05, 3.2474670774718106e-07, 1.3071333341940772e-05, 0.9931888580322266, 0.0, 0.0, 0.0, 0.0, 0.0, 0.0], [0.024200797080993652, 0.002820132300257683, 0.0043193018063902855, 0.0009108308586291969, 0.0017753965221345425, 0.003809919347986579, 0.0029533246997743845, 0.0167147945612669, 0.0013931745197623968, 0.005003184545785189, 0.002276090905070305, 0.0005876415525563061, 0.0009901630692183971, 0.001806695363484323, 0.00313124293461442, 0.00023389386478811502, 0.001608272548764944, 0.009910304099321365, 0.002853953279554844, 0.0002049516187980771, 0.0013712662039324641, 0.006919007748365402, 0.0010336581617593765, 0.0001452840951969847, 0.017489809542894363, 0.00046553154243156314, 0.00030240873456932604, 0.8847689628601074, 0.0, 0.0, 0.0, 0.0, 0.0], [0.0005256079602986574, 3.528643219397054e-06, 1.7037648376572179e-06, 9.408158803125843e-05, 0.6647974252700806, 1.6531456026314117e-07, 9.51110109781439e-07, 8.886863724910654e-07, 1.7016676792991348e-05, 3.742175249499269e-05, 6.832238597098694e-08, 9.810877600102685e-06, 7.548713654159656e-08, 4.963250077594239e-08, 2.039384526142385e-06, 7.686528988415375e-06, 4.066842507199908e-08, 2.6744256587107884e-08, 3.3431744668632746e-05, 4.341069086422067e-07, 3.007981774771906e-08, 3.2060558652347027e-08, 4.9005689106706996e-06, 3.0609355690103257e-06, 1.4603164011361969e-08, 2.214549203927163e-05, 9.211150427290704e-06, 3.1642652942309724e-08, 0.3344281315803528, 0.0, 0.0, 0.0, 0.0], [0.004676995798945427, 0.00028021351317875087, 8.346086542587727e-05, 3.157012542942539e-06, 4.0653432620274543e-07, 1.3343502303087007e-07, 2.642358776938636e-05, 1.14399782091823e-07, 2.7872323471456184e-07, 3.749599272850901e-06, 4.652897800383471e-08, 1.7213967566931387e-06, 1.8165602000408398e-07, 3.148470284486393e-08, 1.8334196738578612e-07, 5.2147374418609616e-08, 2.5215809884571172e-08, 3.078435284464831e-08, 7.142016045236232e-08, 1.6640111510923816e-08, 1.7768190474498624e-08, 8.634525983097774e-08, 2.800961965476745e-06, 8.45413637762249e-07, 3.0983517973481867e-08, 2.927863533841446e-07, 5.676217824657215e-07, 5.055412088950106e-09, 2.914098118367292e-08, 0.9949181079864502, 0.0, 0.0, 0.0], [5.636797868646681e-05, 0.00020023711840622127, 1.6319095266226213e-06, 1.5089327689565835e-06, 1.7779768313630484e-05, 5.95644145118257e-10, 6.94038226356497e-06, 5.034010541749012e-09, 2.1682852491267113e-07, 1.7164256860269234e-06, 1.9326229505622905e-10, 1.8911425314627195e-08, 9.538840117784275e-08, 1.2946883842790413e-10, 8.07715050399338e-09, 4.3866159103345126e-05, 9.768683778554887e-11, 5.256069468551061e-10, 6.93216934450902e-05, 7.505880716962565e-08, 7.069304863716042e-11, 3.988046870517792e-08, 1.0610286153678317e-05, 2.2120727862784406e-06, 8.688617603169746e-10, 9.928487088473048e-06, 5.390095036972298e-09, 1.1354458345769203e-10, 3.0600433547078865e-06, 3.894562325967854e-07, 0.9995738863945007, 0.0, 0.0], [0.0003556994197424501, 1.9489589249133132e-05, 9.161010893876664e-06, 1.3085325917927548e-05, 2.380903606535867e-05, 2.971913204419252e-08, 4.160622484050691e-05, 1.775660933844847e-07, 6.896274840073602e-07, 1.0506290664125117e-06, 1.2230835899629255e-08, 4.290576271159807e-06, 3.2958459428300557e-07, 9.211142071308132e-09, 1.7466478539063246e-06, 4.682816324930172e-06, 7.442767735454936e-09, 9.673855494440886e-09, 3.9665323129156604e-05, 7.324926514229446e-07, 5.543732584101235e-09, 1.0396765759423943e-07, 1.4401685803022701e-05, 8.873399565345608e-06, 5.989450269083818e-09, 1.5627887478331104e-05, 2.9811358217557427e-06, 6.87438150848152e-09, 4.8546880861977115e-06, 7.072305379551835e-06, 6.2107205849315505e-06, 0.999423623085022, 0.0], [0.05455271899700165, 0.01642906479537487, 0.01600833795964718, 0.006986879277974367, 0.02488415688276291, 0.07376932352781296, 0.07933788001537323, 0.05594553425908089, 0.02726820483803749, 0.013368786312639713, 0.055903058499097824, 0.007223028689622879, 0.005426578689366579, 0.05012326315045357, 0.00827906746417284, 0.0030609657987952232, 0.046822961419820786, 0.04751848056912422, 0.00284494343213737, 0.007037975359708071, 0.04282715171575546, 0.05138188973069191, 0.027282383292913437, 0.026375338435173035, 0.02615920454263687, 0.011997985653579235, 0.006220124661922455, 0.036487795412540436, 0.011124701239168644, 0.005218565464019775, 0.0025592013262212276, 0.0026040300726890564, 0.14697043597698212]], [[1.0, 0.0, 0.0, 0.0, 0.0, 0.0, 0.0, 0.0, 0.0, 0.0, 0.0, 0.0, 0.0, 0.0, 0.0, 0.0, 0.0, 0.0, 0.0, 0.0, 0.0, 0.0, 0.0, 0.0, 0.0, 0.0, 0.0, 0.0, 0.0, 0.0, 0.0, 0.0, 0.0], [0.9192656874656677, 0.08073431253433228, 0.0, 0.0, 0.0, 0.0, 0.0, 0.0, 0.0, 0.0, 0.0, 0.0, 0.0, 0.0, 0.0, 0.0, 0.0, 0.0, 0.0, 0.0, 0.0, 0.0, 0.0, 0.0, 0.0, 0.0, 0.0, 0.0, 0.0, 0.0, 0.0, 0.0, 0.0], [0.4543737471103668, 0.42650434374809265, 0.11912190914154053, 0.0, 0.0, 0.0, 0.0, 0.0, 0.0, 0.0, 0.0, 0.0, 0.0, 0.0, 0.0, 0.0, 0.0, 0.0, 0.0, 0.0, 0.0, 0.0, 0.0, 0.0, 0.0, 0.0, 0.0, 0.0, 0.0, 0.0, 0.0, 0.0, 0.0], [0.5267520546913147, 0.22321633994579315, 0.12420634925365448, 0.12582530081272125, 0.0, 0.0, 0.0, 0.0, 0.0, 0.0, 0.0, 0.0, 0.0, 0.0, 0.0, 0.0, 0.0, 0.0, 0.0, 0.0, 0.0, 0.0, 0.0, 0.0, 0.0, 0.0, 0.0, 0.0, 0.0, 0.0, 0.0, 0.0, 0.0], [0.39034879207611084, 0.17099407315254211, 0.06872709840536118, 0.18371827900409698, 0.1862117350101471, 0.0, 0.0, 0.0, 0.0, 0.0, 0.0, 0.0, 0.0, 0.0, 0.0, 0.0, 0.0, 0.0, 0.0, 0.0, 0.0, 0.0, 0.0, 0.0, 0.0, 0.0, 0.0, 0.0, 0.0, 0.0, 0.0, 0.0, 0.0], [0.19744226336479187, 0.25436848402023315, 0.14488449692726135, 0.18925859034061432, 0.20821934938430786, 0.005826789420098066, 0.0, 0.0, 0.0, 0.0, 0.0, 0.0, 0.0, 0.0, 0.0, 0.0, 0.0, 0.0, 0.0, 0.0, 0.0, 0.0, 0.0, 0.0, 0.0, 0.0, 0.0, 0.0, 0.0, 0.0, 0.0, 0.0, 0.0], [0.19473569095134735, 0.13241828978061676, 0.14391930401325226, 0.15120737254619598, 0.3002447187900543, 0.020584629848599434, 0.05688997730612755, 0.0, 0.0, 0.0, 0.0, 0.0, 0.0, 0.0, 0.0, 0.0, 0.0, 0.0, 0.0, 0.0, 0.0, 0.0, 0.0, 0.0, 0.0, 0.0, 0.0, 0.0, 0.0, 0.0, 0.0, 0.0, 0.0], [0.126966655254364, 0.21597377955913544, 0.16089323163032532, 0.1969883143901825, 0.1884462684392929, 0.013544929213821888, 0.07520708441734314, 0.02197970822453499, 0.0, 0.0, 0.0, 0.0, 0.0, 0.0, 0.0, 0.0, 0.0, 0.0, 0.0, 0.0, 0.0, 0.0, 0.0, 0.0, 0.0, 0.0, 0.0, 0.0, 0.0, 0.0, 0.0, 0.0, 0.0], [0.2912123501300812, 0.059542279690504074, 0.11079408973455429, 0.09717852622270584, 0.22345609962940216, 0.016262579709291458, 0.08719439804553986, 0.02476227842271328, 0.08959740400314331, 0.0, 0.0, 0.0, 0.0, 0.0, 0.0, 0.0, 0.0, 0.0, 0.0, 0.0, 0.0, 0.0, 0.0, 0.0, 0.0, 0.0, 0.0, 0.0, 0.0, 0.0, 0.0, 0.0, 0.0], [0.22981949150562286, 0.03802675008773804, 0.16013836860656738, 0.11780407279729843, 0.161811962723732, 0.03552817180752754, 0.07561113685369492, 0.020756034180521965, 0.10670627653598785, 0.05379775911569595, 0.0, 0.0, 0.0, 0.0, 0.0, 0.0, 0.0, 0.0, 0.0, 0.0, 0.0, 0.0, 0.0, 0.0, 0.0, 0.0, 0.0, 0.0, 0.0, 0.0, 0.0, 0.0, 0.0], [0.13314427435398102, 0.18858645856380463, 0.10808097571134567, 0.15994973480701447, 0.17739209532737732, 0.0035980171523988247, 0.0250620748847723, 0.01286292728036642, 0.07453098893165588, 0.11275245994329453, 0.00403998326510191, 0.0, 0.0, 0.0, 0.0, 0.0, 0.0, 0.0, 0.0, 0.0, 0.0, 0.0, 0.0, 0.0, 0.0, 0.0, 0.0, 0.0, 0.0, 0.0, 0.0, 0.0, 0.0], [0.16746395826339722, 0.1435522437095642, 0.06118571013212204, 0.17358072102069855, 0.10113832354545593, 0.01755347289144993, 0.03239530697464943, 0.007995501160621643, 0.05453447252511978, 0.07883203029632568, 0.017258217558264732, 0.14451006054878235, 0.0, 0.0, 0.0, 0.0, 0.0, 0.0, 0.0, 0.0, 0.0, 0.0, 0.0, 0.0, 0.0, 0.0, 0.0, 0.0, 0.0, 0.0, 0.0, 0.0, 0.0], [0.26996830105781555, 0.13029062747955322, 0.06605684757232666, 0.061561405658721924, 0.08437130600214005, 0.01984662562608719, 0.01631278544664383, 0.012965911999344826, 0.03231462463736534, 0.052547961473464966, 0.019868623465299606, 0.1369563788175583, 0.0969386026263237, 0.0, 0.0, 0.0, 0.0, 0.0, 0.0, 0.0, 0.0, 0.0, 0.0, 0.0, 0.0, 0.0, 0.0, 0.0, 0.0, 0.0, 0.0, 0.0, 0.0], [0.09820352494716644, 0.13618643581867218, 0.08005780726671219, 0.12152868509292603, 0.1357937753200531, 0.0024323563557118177, 0.017789479345083237, 0.009086484089493752, 0.05637529492378235, 0.08521634340286255, 0.002753339009359479, 0.1520378738641739, 0.09946725517511368, 0.00307140382938087, 0.0, 0.0, 0.0, 0.0, 0.0, 0.0, 0.0, 0.0, 0.0, 0.0, 0.0, 0.0, 0.0, 0.0, 0.0, 0.0, 0.0, 0.0, 0.0], [0.1701289564371109, 0.08885714411735535, 0.0908968597650528, 0.08085792511701584, 0.11427340656518936, 0.010901481844484806, 0.014788410626351833, 0.005497368052601814, 0.05151256546378136, 0.053306858986616135, 0.010595818050205708, 0.09442280232906342, 0.13098111748695374, 0.011153683066368103, 0.07182559370994568, 0.0, 0.0, 0.0, 0.0, 0.0, 0.0, 0.0, 0.0, 0.0, 0.0, 0.0, 0.0, 0.0, 0.0, 0.0, 0.0, 0.0, 0.0], [0.10365854948759079, 0.035885412245988846, 0.08803568035364151, 0.06087937578558922, 0.08348329365253448, 0.030805744230747223, 0.029615938663482666, 0.010918693616986275, 0.04049994796514511, 0.04288608953356743, 0.03219296783208847, 0.15008129179477692, 0.12658771872520447, 0.034902174025774, 0.05825433507561684, 0.0713128075003624, 0.0, 0.0, 0.0, 0.0, 0.0, 0.0, 0.0, 0.0, 0.0, 0.0, 0.0, 0.0, 0.0, 0.0, 0.0, 0.0, 0.0], [0.07047097384929657, 0.09600996226072311, 0.05621577799320221, 0.08699894696474075, 0.0993412584066391, 0.0016298789996653795, 0.01240861602127552, 0.006380436010658741, 0.04101407527923584, 0.06348712742328644, 0.001848219777457416, 0.11387642472982407, 0.07328975200653076, 0.0020712942350655794, 0.07246169447898865, 0.20012784004211426, 0.0023677765857428312, 0.0, 0.0, 0.0, 0.0, 0.0, 0.0, 0.0, 0.0, 0.0, 0.0, 0.0, 0.0, 0.0, 0.0, 0.0, 0.0], [0.05659446120262146, 0.08906208723783493, 0.047032393515110016, 0.09457877278327942, 0.08793894201517105, 0.0019721670541912317, 0.01776767708361149, 0.005990435369312763, 0.060148585587739944, 0.08834965527057648, 0.002263767644762993, 0.1046152338385582, 0.060793668031692505, 0.002556623425334692, 0.07818630337715149, 0.19496025145053864, 0.0029299897141754627, 0.004259060602635145, 0.0, 0.0, 0.0, 0.0, 0.0, 0.0, 0.0, 0.0, 0.0, 0.0, 0.0, 0.0, 0.0, 0.0, 0.0], [0.1597062647342682, 0.02609645016491413, 0.04515179246664047, 0.034975823014974594, 0.0803067609667778, 0.05469036102294922, 0.04078545793890953, 0.026513023301959038, 0.027251919731497765, 0.039198171347379684, 0.053514331579208374, 0.048429206013679504, 0.0626426488161087, 0.055582091212272644, 0.05559665709733963, 0.04792958125472069, 0.056763242930173874, 0.048922985792160034, 0.03594323247671127, 0.0, 0.0, 0.0, 0.0, 0.0, 0.0, 0.0, 0.0, 0.0, 0.0, 0.0, 0.0, 0.0, 0.0], [0.08663121610879898, 0.09557434916496277, 0.036738112568855286, 0.06946706771850586, 0.056814584881067276, 0.008190209977328777, 0.022195853292942047, 0.007642827928066254, 0.03146826848387718, 0.0755520686507225, 0.0089652631431818, 0.05263480171561241, 0.044911060482263565, 0.00993505772203207, 0.04481378570199013, 0.15198470652103424, 0.010933400131762028, 0.007993673905730247, 0.16402564942836761, 0.013528084382414818, 0.0, 0.0, 0.0, 0.0, 0.0, 0.0, 0.0, 0.0, 0.0, 0.0, 0.0, 0.0, 0.0], [0.047834523022174835, 0.06669352948665619, 0.037989187985658646, 0.060403719544410706, 0.06899042427539825, 0.0010267294710502028, 0.008172673173248768, 0.004158168099820614, 0.02826828323304653, 0.04407239332795143, 0.001158646889962256, 0.07832915335893631, 0.050828974694013596, 0.001300499658100307, 0.04904298111796379, 0.14145004749298096, 0.0014934331411495805, 0.002556687220931053, 0.17534081637859344, 0.12910208106040955, 0.0017870559822767973, 0.0, 0.0, 0.0, 0.0, 0.0, 0.0, 0.0, 0.0, 0.0, 0.0, 0.0, 0.0], [0.04114089906215668, 0.04766073450446129, 0.03586999326944351, 0.0666610449552536, 0.07969275116920471, 0.0023650776129215956, 0.02034018374979496, 0.004854495171457529, 0.064362071454525, 0.06737152487039566, 0.0027073693927377462, 0.055960528552532196, 0.05648663640022278, 0.003076727967709303, 0.053543880581855774, 0.15165923535823822, 0.0035397151950746775, 0.004673932678997517, 0.16402722895145416, 0.05968153849244118, 0.0041549415327608585, 0.01016952097415924, 0.0, 0.0, 0.0, 0.0, 0.0, 0.0, 0.0, 0.0, 0.0, 0.0, 0.0], [0.06628809124231339, 0.040925417095422745, 0.02732267789542675, 0.04505368694663048, 0.06575217843055725, 0.015657566487789154, 0.027881884947419167, 0.013711255975067616, 0.03174295276403427, 0.05280747264623642, 0.0154477683827281, 0.03218112513422966, 0.03290105238556862, 0.016298864036798477, 0.02663663774728775, 0.09772845357656479, 0.017114203423261642, 0.01691945642232895, 0.09847069531679153, 0.04787907749414444, 0.01841253973543644, 0.015331601724028587, 0.17753535509109497, 0.0, 0.0, 0.0, 0.0, 0.0, 0.0, 0.0, 0.0, 0.0, 0.0], [0.09801430255174637, 0.026328803971409798, 0.03586813807487488, 0.0571306049823761, 0.06943875551223755, 0.01212895754724741, 0.020909082144498825, 0.00874795950949192, 0.026999661698937416, 0.03726678714156151, 0.011716333217918873, 0.08499535918235779, 0.05501334369182587, 0.012196706607937813, 0.035639114677906036, 0.08789659291505814, 0.01297010388225317, 0.010851019993424416, 0.06408389657735825, 0.05963919684290886, 0.01449217926710844, 0.006093735806643963, 0.09761441498994827, 0.053964972496032715, 0.0, 0.0, 0.0, 0.0, 0.0, 0.0, 0.0, 0.0, 0.0], [0.027693241834640503, 0.04073769971728325, 0.031223541125655174, 0.058790381997823715, 0.05601823702454567, 0.0015714791370555758, 0.011908037588000298, 0.003339791903272271, 0.05176552012562752, 0.052912451326847076, 0.001825982122682035, 0.06030035763978958, 0.02835717238485813, 0.0020878103096038103, 0.050864800810813904, 0.07898832857608795, 0.002398704644292593, 0.002904824446886778, 0.11135733872652054, 0.045860160142183304, 0.0028849197551608086, 0.011431252583861351, 0.12340553104877472, 0.1348848193883896, 0.006487556267529726, 0.0, 0.0, 0.0, 0.0, 0.0, 0.0, 0.0, 0.0], [0.1539076864719391, 0.02378678508102894, 0.053202468901872635, 0.03963884338736534, 0.05711061879992485, 0.015628943219780922, 0.02020607702434063, 0.009252364747226238, 0.021311843767762184, 0.029029957950115204, 0.014741908758878708, 0.06123841181397438, 0.10112594068050385, 0.01515782531350851, 0.04335404187440872, 0.04090718552470207, 0.01573265716433525, 0.02007341757416725, 0.05374934524297714, 0.03468616306781769, 0.016989385709166527, 0.006368502043187618, 0.040420159697532654, 0.031060410663485527, 0.013937168754637241, 0.06738191843032837, 0.0, 0.0, 0.0, 0.0, 0.0, 0.0, 0.0], [0.0855509415268898, 0.035057391971349716, 0.05885254219174385, 0.034979064017534256, 0.051787424832582474, 0.00251199072226882, 0.004151215311139822, 0.002085916232317686, 0.014081107452511787, 0.024491360411047935, 0.0023760038893669844, 0.09535116702318192, 0.07766134291887283, 0.00249088229611516, 0.045726753771305084, 0.05774114653468132, 0.0026603778824210167, 0.0033477561082690954, 0.04799826443195343, 0.026788802817463875, 0.002958715194836259, 0.004655789118260145, 0.03607097268104553, 0.021599186584353447, 0.0047886306419968605, 0.22052206099033356, 0.03371305763721466, 0.0, 0.0, 0.0, 0.0, 0.0, 0.0], [0.020706726238131523, 0.03719406574964523, 0.01972370408475399, 0.038942236453294754, 0.031826987862586975, 0.0012253689346835017, 0.008815757930278778, 0.00240529328584671, 0.03457954153418541, 0.04729808494448662, 0.0013953758170828223, 0.05148205906152725, 0.020486729219555855, 0.0015608388930559158, 0.038261186331510544, 0.048637550324201584, 0.0017825305694714189, 0.0025446072686463594, 0.06541350483894348, 0.041885603219270706, 0.002096061361953616, 0.009401388466358185, 0.08460027724504471, 0.09019999206066132, 0.005403278861194849, 0.22932566702365875, 0.05692267417907715, 0.005882926285266876, 0.0, 0.0, 0.0, 0.0, 0.0], [0.08582807332277298, 0.03967173397541046, 0.014841812662780285, 0.05653617903590202, 0.05960613489151001, 0.006987519096583128, 0.01011009979993105, 0.0028877239674329758, 0.015322847291827202, 0.02592877671122551, 0.006830445025116205, 0.03354895859956741, 0.02109353616833687, 0.007213158067315817, 0.01932339556515217, 0.05298230051994324, 0.007658613845705986, 0.005157846491783857, 0.0652318224310875, 0.018170012161135674, 0.008534708060324192, 0.004368171561509371, 0.026912422850728035, 0.049627941101789474, 0.0044043296948075294, 0.1938866823911667, 0.03933223709464073, 0.005363553296774626, 0.11263901740312576, 0.0, 0.0, 0.0, 0.0], [0.07040349394083023, 0.05926160514354706, 0.0153348408639431, 0.024139031767845154, 0.015728846192359924, 0.019492102786898613, 0.017311526462435722, 0.01730305701494217, 0.02056325413286686, 0.0451558418571949, 0.021815838292241096, 0.07079726457595825, 0.030063968151807785, 0.023540610447525978, 0.020684486255049706, 0.02116367593407631, 0.026445120573043823, 0.023540059104561806, 0.056637246161699295, 0.0336947925388813, 0.030707290396094322, 0.01599336415529251, 0.015474076382815838, 0.030803648754954338, 0.03180558979511261, 0.07969611883163452, 0.034374870359897614, 0.03453716263175011, 0.0306243859231472, 0.06290686875581741, 0.0, 0.0, 0.0], [0.05338498204946518, 0.029621513560414314, 0.021030088886618614, 0.023695705458521843, 0.03343639895319939, 0.01839381642639637, 0.024060707539319992, 0.022810012102127075, 0.013972362503409386, 0.028813550248742104, 0.01905974932014942, 0.015371968038380146, 0.025335323065519333, 0.01997196301817894, 0.014075740240514278, 0.0388445109128952, 0.021346203982830048, 0.019321437925100327, 0.05632658675312996, 0.0213600005954504, 0.02339457906782627, 0.023136654868721962, 0.06416382640600204, 0.06724689900875092, 0.034695103764534, 0.0434902049601078, 0.030327241867780685, 0.03285713866353035, 0.05327511951327324, 0.0659981220960617, 0.04118247330188751, 0.0, 0.0], [0.181770920753479, 0.019533149898052216, 0.028002938255667686, 0.029110191389918327, 0.041348330676555634, 0.018019484356045723, 0.010471726767718792, 0.008382903411984444, 0.015335788019001484, 0.021839454770088196, 0.016893338412046432, 0.03806138411164284, 0.03643866255879402, 0.017464257776737213, 0.02612908184528351, 0.04011503607034683, 0.018317192792892456, 0.0124882273375988, 0.05136968195438385, 0.019443826749920845, 0.01988976262509823, 0.003576457966119051, 0.026232972741127014, 0.01842920109629631, 0.011723741888999939, 0.0327298566699028, 0.0348082110285759, 0.012035041116178036, 0.060302942991256714, 0.007873307913541794, 0.04227294400334358, 0.07959000766277313, 0.0], [0.015003406442701817, 0.020334864035248756, 0.00781343225389719, 0.01655358262360096, 0.01646609604358673, 0.00023809671984054148, 0.0019598943181335926, 0.00068982521770522, 0.006483220029622316, 0.010734077543020248, 0.0002443529083393514, 0.01463468186557293, 0.009247621521353722, 0.0002605919144116342, 0.00933991651982069, 0.04272657632827759, 0.00028863910119980574, 0.00038116754149086773, 0.054749369621276855, 0.09452773630619049, 0.0003421131114009768, 0.001727021881379187, 0.04745931178331375, 0.026613812893629074, 0.001023866469040513, 0.16537979245185852, 0.014187115244567394, 0.0013092354638502002, 0.04770653322339058, 0.011198501102626324, 0.2205076813697815, 0.13942600786685944, 0.0004418625612743199]], [[1.0, 0.0, 0.0, 0.0, 0.0, 0.0, 0.0, 0.0, 0.0, 0.0, 0.0, 0.0, 0.0, 0.0, 0.0, 0.0, 0.0, 0.0, 0.0, 0.0, 0.0, 0.0, 0.0, 0.0, 0.0, 0.0, 0.0, 0.0, 0.0, 0.0, 0.0, 0.0, 0.0], [0.9333657622337341, 0.06663428246974945, 0.0, 0.0, 0.0, 0.0, 0.0, 0.0, 0.0, 0.0, 0.0, 0.0, 0.0, 0.0, 0.0, 0.0, 0.0, 0.0, 0.0, 0.0, 0.0, 0.0, 0.0, 0.0, 0.0, 0.0, 0.0, 0.0, 0.0, 0.0, 0.0, 0.0, 0.0], [0.32452353835105896, 0.5923718810081482, 0.08310455083847046, 0.0, 0.0, 0.0, 0.0, 0.0, 0.0, 0.0, 0.0, 0.0, 0.0, 0.0, 0.0, 0.0, 0.0, 0.0, 0.0, 0.0, 0.0, 0.0, 0.0, 0.0, 0.0, 0.0, 0.0, 0.0, 0.0, 0.0, 0.0, 0.0, 0.0], [0.14159749448299408, 0.5143812894821167, 0.2814410924911499, 0.0625801682472229, 0.0, 0.0, 0.0, 0.0, 0.0, 0.0, 0.0, 0.0, 0.0, 0.0, 0.0, 0.0, 0.0, 0.0, 0.0, 0.0, 0.0, 0.0, 0.0, 0.0, 0.0, 0.0, 0.0, 0.0, 0.0, 0.0, 0.0, 0.0, 0.0], [0.25262269377708435, 0.05834062770009041, 0.10458865761756897, 0.4411161541938782, 0.1433318704366684, 0.0, 0.0, 0.0, 0.0, 0.0, 0.0, 0.0, 0.0, 0.0, 0.0, 0.0, 0.0, 0.0, 0.0, 0.0, 0.0, 0.0, 0.0, 0.0, 0.0, 0.0, 0.0, 0.0, 0.0, 0.0, 0.0, 0.0, 0.0], [0.18051563203334808, 0.0982891246676445, 0.10873960703611374, 0.12262699007987976, 0.0999554693698883, 0.38987311720848083, 0.0, 0.0, 0.0, 0.0, 0.0, 0.0, 0.0, 0.0, 0.0, 0.0, 0.0, 0.0, 0.0, 0.0, 0.0, 0.0, 0.0, 0.0, 0.0, 0.0, 0.0, 0.0, 0.0, 0.0, 0.0, 0.0, 0.0], [0.17192299664020538, 0.023320918902754784, 0.12332707643508911, 0.06076502054929733, 0.05971715226769447, 0.3475917875766754, 0.21335503458976746, 0.0, 0.0, 0.0, 0.0, 0.0, 0.0, 0.0, 0.0, 0.0, 0.0, 0.0, 0.0, 0.0, 0.0, 0.0, 0.0, 0.0, 0.0, 0.0, 0.0, 0.0, 0.0, 0.0, 0.0, 0.0, 0.0], [0.0962703749537468, 0.04683619737625122, 0.028257302939891815, 0.032392509281635284, 0.05865047499537468, 0.15829356014728546, 0.309964656829834, 0.26933494210243225, 0.0, 0.0, 0.0, 0.0, 0.0, 0.0, 0.0, 0.0, 0.0, 0.0, 0.0, 0.0, 0.0, 0.0, 0.0, 0.0, 0.0, 0.0, 0.0, 0.0, 0.0, 0.0, 0.0, 0.0, 0.0], [0.09948240220546722, 0.06464186310768127, 0.028671855106949806, 0.07305669784545898, 0.029787195846438408, 0.13960029184818268, 0.20754708349704742, 0.26580217480659485, 0.09141045063734055, 0.0, 0.0, 0.0, 0.0, 0.0, 0.0, 0.0, 0.0, 0.0, 0.0, 0.0, 0.0, 0.0, 0.0, 0.0, 0.0, 0.0, 0.0, 0.0, 0.0, 0.0, 0.0, 0.0, 0.0], [0.05632041022181511, 0.02988586574792862, 0.013419916853308678, 0.0024075526744127274, 0.01324549876153469, 0.04564544931054115, 0.05522565171122551, 0.10027104616165161, 0.6579984426498413, 0.02558010071516037, 0.0, 0.0, 0.0, 0.0, 0.0, 0.0, 0.0, 0.0, 0.0, 0.0, 0.0, 0.0, 0.0, 0.0, 0.0, 0.0, 0.0, 0.0, 0.0, 0.0, 0.0, 0.0, 0.0], [0.042669933289289474, 0.010426479391753674, 0.010652214288711548, 0.013446648605167866, 0.009353159926831722, 0.04015974700450897, 0.07105174660682678, 0.1373765915632248, 0.10423248261213303, 0.21736624836921692, 0.34326472878456116, 0.0, 0.0, 0.0, 0.0, 0.0, 0.0, 0.0, 0.0, 0.0, 0.0, 0.0, 0.0, 0.0, 0.0, 0.0, 0.0, 0.0, 0.0, 0.0, 0.0, 0.0, 0.0], [0.029683917760849, 0.0025616437196731567, 0.004407485015690327, 0.0342487096786499, 0.014238744042813778, 0.028001850470900536, 0.022288024425506592, 0.07105963677167892, 0.040262311697006226, 0.5543043613433838, 0.1733304113149643, 0.025613000616431236, 0.0, 0.0, 0.0, 0.0, 0.0, 0.0, 0.0, 0.0, 0.0, 0.0, 0.0, 0.0, 0.0, 0.0, 0.0, 0.0, 0.0, 0.0, 0.0, 0.0, 0.0], [0.04039589688181877, 0.008631579577922821, 0.005494223907589912, 0.0038641414139419794, 0.023363087326288223, 0.027207013219594955, 0.02567731775343418, 0.050485193729400635, 0.05105608329176903, 0.05041782185435295, 0.1416434496641159, 0.5115286111831665, 0.0602356381714344, 0.0, 0.0, 0.0, 0.0, 0.0, 0.0, 0.0, 0.0, 0.0, 0.0, 0.0, 0.0, 0.0, 0.0, 0.0, 0.0, 0.0, 0.0, 0.0, 0.0], [0.0287063829600811, 0.00480846781283617, 0.004723651334643364, 0.005382599774748087, 0.003456035628914833, 0.014470180496573448, 0.024037346243858337, 0.0416262149810791, 0.03567284718155861, 0.07060736417770386, 0.1083100438117981, 0.0581161268055439, 0.2062123715877533, 0.39387041330337524, 0.0, 0.0, 0.0, 0.0, 0.0, 0.0, 0.0, 0.0, 0.0, 0.0, 0.0, 0.0, 0.0, 0.0, 0.0, 0.0, 0.0, 0.0, 0.0], [0.05342651158571243, 0.011923306621611118, 0.015572257339954376, 0.0021123276092112064, 0.005851047579199076, 0.022170940414071083, 0.038184646517038345, 0.027411550283432007, 0.05464283749461174, 0.04910832643508911, 0.12328368425369263, 0.052871670573949814, 0.07545658200979233, 0.3701530992984772, 0.09783121943473816, 0.0, 0.0, 0.0, 0.0, 0.0, 0.0, 0.0, 0.0, 0.0, 0.0, 0.0, 0.0, 0.0, 0.0, 0.0, 0.0, 0.0, 0.0], [0.008346709422767162, 0.0002785271790344268, 0.0011786011746153235, 0.0021395492367446423, 0.002476170426234603, 0.0029182876460254192, 0.004576893523335457, 0.003965596202760935, 0.004973018076270819, 0.011347774416208267, 0.013014065101742744, 0.005545970052480698, 0.020895550027489662, 0.038385361433029175, 0.8750318288803101, 0.004926190711557865, 0.0, 0.0, 0.0, 0.0, 0.0, 0.0, 0.0, 0.0, 0.0, 0.0, 0.0, 0.0, 0.0, 0.0, 0.0, 0.0, 0.0], [0.0217002984136343, 0.002678660210222006, 0.002383922226727009, 0.002815625164657831, 0.001556230941787362, 0.006139401346445084, 0.009039799682796001, 0.013740859925746918, 0.012412182055413723, 0.024686560034751892, 0.0340690091252327, 0.017561443150043488, 0.06082955747842789, 0.12004043906927109, 0.11516822129487991, 0.12663698196411133, 0.4285408854484558, 0.0, 0.0, 0.0, 0.0, 0.0, 0.0, 0.0, 0.0, 0.0, 0.0, 0.0, 0.0, 0.0, 0.0, 0.0, 0.0], [0.019681422039866447, 0.0028661899268627167, 0.0027528691571205854, 0.0023641998413950205, 0.002220574766397476, 0.004776977002620697, 0.0050153895281255245, 0.007020772900432348, 0.006602993234992027, 0.015824884176254272, 0.021779127418994904, 0.02237590029835701, 0.039055533707141876, 0.07342633605003357, 0.07227566093206406, 0.081036277115345, 0.2556320130825043, 0.36529290676116943, 0.0, 0.0, 0.0, 0.0, 0.0, 0.0, 0.0, 0.0, 0.0, 0.0, 0.0, 0.0, 0.0, 0.0, 0.0], [0.03443865105509758, 0.0024295058101415634, 0.0027038773987442255, 0.001010892796330154, 0.002821239409968257, 0.009310655295848846, 0.007474068086594343, 0.010526384226977825, 0.01934257335960865, 0.006583387032151222, 0.030525272712111473, 0.008166548795998096, 0.023945650085806847, 0.08047978579998016, 0.04428936168551445, 0.04886508360505104, 0.23266328871250153, 0.3870972990989685, 0.04732644557952881, 0.0, 0.0, 0.0, 0.0, 0.0, 0.0, 0.0, 0.0, 0.0, 0.0, 0.0, 0.0, 0.0, 0.0], [0.0036976775154471397, 0.006450955290347338, 0.0004921719082631171, 0.0003069595550186932, 0.00012400760897435248, 0.0010727349435910583, 0.0008858773508109152, 0.0013806350762024522, 0.0008200175361707807, 0.0002731183485593647, 0.0027830570470541716, 0.035294294357299805, 0.0035613705404102802, 0.007148314267396927, 0.0016474082367494702, 0.01673167571425438, 0.019172828644514084, 0.02233920618891716, 0.8733667135238647, 0.002450957428663969, 0.0, 0.0, 0.0, 0.0, 0.0, 0.0, 0.0, 0.0, 0.0, 0.0, 0.0, 0.0, 0.0], [0.013628777116537094, 0.0014384443638846278, 0.001218862016685307, 0.0012915865518152714, 0.0006118019227869809, 0.002140034455806017, 0.0027469599153846502, 0.0033360449597239494, 0.0030918673146516085, 0.0059889135882258415, 0.00723721319809556, 0.003547741798684001, 0.012891959398984909, 0.02222915180027485, 0.020824266597628593, 0.026295332238078117, 0.07648172229528427, 0.16261440515518188, 0.12638670206069946, 0.10034430027008057, 0.4056539535522461, 0.0, 0.0, 0.0, 0.0, 0.0, 0.0, 0.0, 0.0, 0.0, 0.0, 0.0, 0.0], [0.021432990208268166, 0.0007291650981642306, 0.0010889684781432152, 0.0008559630950912833, 0.0010556617053225636, 0.0023542498238384724, 0.001863333280198276, 0.002486992394551635, 0.004011360928416252, 0.0036456226371228695, 0.006636627018451691, 0.0024591623805463314, 0.008106650784611702, 0.01950138807296753, 0.013945522718131542, 0.016831621527671814, 0.06727851182222366, 0.10203735530376434, 0.07506182789802551, 0.037855081260204315, 0.34741535782814026, 0.26334652304649353, 0.0, 0.0, 0.0, 0.0, 0.0, 0.0, 0.0, 0.0, 0.0, 0.0, 0.0], [0.018374435603618622, 0.0016340160509571433, 0.00026486627757549286, 0.0006277105421759188, 0.0007212883210740983, 0.0022947145625948906, 0.0014375769533216953, 0.002433568239212036, 0.0010225026635453105, 0.0021730957087129354, 0.005665975622832775, 0.0005857074283994734, 0.00473030423745513, 0.01578962802886963, 0.009121074341237545, 0.006447890307754278, 0.04965188354253769, 0.07221103459596634, 0.04530426487326622, 0.022536221891641617, 0.23380494117736816, 0.28100958466529846, 0.22215770184993744, 0.0, 0.0, 0.0, 0.0, 0.0, 0.0, 0.0, 0.0, 0.0, 0.0], [0.016010280698537827, 0.0004190774925518781, 0.0016793167451396585, 0.0020331654231995344, 0.0011126031167805195, 0.00230412557721138, 0.0016414873534813523, 0.0020452295430004597, 0.0008826425764709711, 0.0035318166483193636, 0.004660753533244133, 0.0011461275862529874, 0.004025283735245466, 0.01172948069870472, 0.006906027905642986, 0.0059789810329675674, 0.03413613885641098, 0.053919900208711624, 0.0753692239522934, 0.015544150955975056, 0.15307284891605377, 0.2167249619960785, 0.23267315328121185, 0.15245315432548523, 0.0, 0.0, 0.0, 0.0, 0.0, 0.0, 0.0, 0.0, 0.0], [0.01641550101339817, 0.0010880994377657771, 0.001302702003158629, 0.001233563874848187, 0.0010325219482183456, 0.001360530499368906, 0.0011352727888152003, 0.0009713188628666103, 0.0017580213025212288, 0.002354997443035245, 0.0022677984088659286, 0.0026170045603066683, 0.003284961450845003, 0.005564448889344931, 0.007287757005542517, 0.006582664791494608, 0.016911093145608902, 0.023348191753029823, 0.033363793045282364, 0.012060850858688354, 0.08410520851612091, 0.1077699214220047, 0.12741312384605408, 0.25009599328041077, 0.28867465257644653, 0.0, 0.0, 0.0, 0.0, 0.0, 0.0, 0.0, 0.0], [0.031117690727114677, 0.0015063048340380192, 0.0010839331662282348, 0.002421520883217454, 0.0013826850336045027, 0.003793721552938223, 0.0016339299036189914, 0.0031195178162306547, 0.0012812624918296933, 0.00206852238625288, 0.004760118201375008, 0.000875733036082238, 0.008592125028371811, 0.009353633970022202, 0.01199327316135168, 0.005963007919490337, 0.022028179839253426, 0.03411328047513962, 0.009586775675415993, 0.013681809417903423, 0.0841706320643425, 0.08917815238237381, 0.10806845128536224, 0.15560780465602875, 0.3723684847354889, 0.020249469205737114, 0.0, 0.0, 0.0, 0.0, 0.0, 0.0, 0.0], [0.014838465489447117, 0.0005757312173955142, 0.004743661265820265, 0.00045677367597818375, 0.0007412273553200066, 0.0014999995473772287, 0.0008866065181791782, 0.0008452082402072847, 0.00010359234147472307, 0.0009065141784958541, 0.0018096797866746783, 0.0602911114692688, 0.0015377560630440712, 0.0033079409040510654, 0.0013713662046939135, 0.002082676161080599, 0.008643990382552147, 0.00908887293189764, 0.007760954089462757, 0.005808322690427303, 0.03386513516306877, 0.039871856570243835, 0.05374555289745331, 0.03694773465394974, 0.12259441614151001, 0.5718703866004944, 0.013804471120238304, 0.0, 0.0, 0.0, 0.0, 0.0, 0.0], [0.01856999844312668, 0.0012143186759203672, 0.0012880454305559397, 0.0010612575570121408, 0.0007490045391023159, 0.00104856351390481, 0.0008687882800586522, 0.0005973862716928124, 0.001293826731853187, 0.0014042535331100225, 0.0011055103968828917, 0.0005003454862162471, 0.0020262617617845535, 0.0021463134326040745, 0.0028737944085150957, 0.0026413705199956894, 0.005802989471703768, 0.008191358298063278, 0.008339081890881062, 0.00554330088198185, 0.02655870094895363, 0.03308921679854393, 0.032507412135601044, 0.09199859201908112, 0.10410485416650772, 0.16861774027347565, 0.20895420014858246, 0.26690346002578735, 0.0, 0.0, 0.0, 0.0, 0.0], [0.01665443740785122, 0.0007248652982525527, 0.000898065569344908, 0.0031616834457963705, 0.0005522817955352366, 0.0016607251018285751, 0.0007486121030524373, 0.0009652770822867751, 0.00038428031257353723, 0.0022577797062695026, 0.0015545611968263984, 0.0007036991300992668, 0.0014688168885186315, 0.0027998771984130144, 0.003013980807736516, 0.0053690397180616856, 0.006552338134497404, 0.008701561018824577, 0.007138863671571016, 0.0065163192339241505, 0.026185542345046997, 0.03929193690419197, 0.031550075858831406, 0.024343054741621017, 0.10670765489339828, 0.1515980213880539, 0.13674215972423553, 0.32013973593711853, 0.09161476790904999, 0.0, 0.0, 0.0, 0.0], [0.037226833403110504, 0.000744272896554321, 0.0019180355593562126, 0.0014290624530985951, 0.0025597342755645514, 0.003292832989245653, 0.0009007247863337398, 0.0015445101307705045, 0.0003557215677574277, 0.0004492734733503312, 0.0026688154321163893, 0.0014046659925952554, 0.00172810151707381, 0.004542735405266285, 0.0012941049644723535, 0.004677669610828161, 0.009138205088675022, 0.008992956951260567, 0.005343663971871138, 0.0020318394526839256, 0.030930930748581886, 0.0212152861058712, 0.036399777978658676, 0.056794680655002594, 0.11195971816778183, 0.011458095163106918, 0.033532895147800446, 0.2658853530883789, 0.24695399403572083, 0.09262557327747345, 0.0, 0.0, 0.0], [0.04408875107765198, 0.001108295633457601, 0.003387592965736985, 0.0048531945794820786, 0.0028643228579312563, 0.004500858951359987, 0.0014518125681206584, 0.002192493760958314, 0.0007902354118414223, 0.0006717387586832047, 0.0035771564580500126, 0.000513177365064621, 0.012861727736890316, 0.005116844549775124, 0.0030142548494040966, 0.005887455772608519, 0.010453429073095322, 0.013818353414535522, 0.008691048249602318, 0.011229271069169044, 0.0314009003341198, 0.023181647062301636, 0.030444353818893433, 0.035206809639930725, 0.09999869763851166, 0.0060901581309735775, 0.14714226126670837, 0.1639304757118225, 0.1274951547384262, 0.1935776025056839, 0.0004599903477355838, 0.0, 0.0], [0.037174079567193985, 0.005006898660212755, 0.001611232408322394, 0.0028301523998379707, 0.0005118496483191848, 0.0027071244549006224, 0.0020970290061086416, 0.0012328772572800517, 0.0006310886237770319, 0.0017632468370720744, 0.0017868784489110112, 0.00025283361901529133, 0.0010720769641920924, 0.002644835039973259, 0.0015661604702472687, 0.0038084115367382765, 0.005276743788272142, 0.006930264178663492, 0.013310840353369713, 0.00358164357021451, 0.018304528668522835, 0.026684805750846863, 0.019971517845988274, 0.032155778259038925, 0.07432040572166443, 0.023922275751829147, 0.08761483430862427, 0.18007545173168182, 0.02749258652329445, 0.05972244590520859, 0.19122686982154846, 0.16271226108074188, 0.0], [0.008116938173770905, 0.0008723060018382967, 0.0003707297146320343, 0.0004734859394375235, 0.00017832986486610025, 0.00039947021286934614, 0.00029511662432923913, 0.000183119424036704, 0.00016714575758669525, 0.00023702479666098952, 0.0002533358056098223, 0.0001285504549741745, 0.00020213164680171758, 0.0003994489088654518, 0.0001651184429647401, 0.0004622878914233297, 0.0008780223433859646, 0.0011140485294163227, 0.0020708804950118065, 0.0019636773504316807, 0.0035278566647320986, 0.004475230351090431, 0.004463488236069679, 0.007312559522688389, 0.014446238987147808, 0.035030484199523926, 0.020014161244034767, 0.043885812163352966, 0.019436758011579514, 0.11325734108686447, 0.0727761909365654, 0.16196832060813904, 0.48047444224357605]], [[1.0, 0.0, 0.0, 0.0, 0.0, 0.0, 0.0, 0.0, 0.0, 0.0, 0.0, 0.0, 0.0, 0.0, 0.0, 0.0, 0.0, 0.0, 0.0, 0.0, 0.0, 0.0, 0.0, 0.0, 0.0, 0.0, 0.0, 0.0, 0.0, 0.0, 0.0, 0.0, 0.0], [0.9473748207092285, 0.05262523144483566, 0.0, 0.0, 0.0, 0.0, 0.0, 0.0, 0.0, 0.0, 0.0, 0.0, 0.0, 0.0, 0.0, 0.0, 0.0, 0.0, 0.0, 0.0, 0.0, 0.0, 0.0, 0.0, 0.0, 0.0, 0.0, 0.0, 0.0, 0.0, 0.0, 0.0, 0.0], [0.8785884380340576, 0.05539463087916374, 0.06601693481206894, 0.0, 0.0, 0.0, 0.0, 0.0, 0.0, 0.0, 0.0, 0.0, 0.0, 0.0, 0.0, 0.0, 0.0, 0.0, 0.0, 0.0, 0.0, 0.0, 0.0, 0.0, 0.0, 0.0, 0.0, 0.0, 0.0, 0.0, 0.0, 0.0, 0.0], [0.7270771265029907, 0.13709869980812073, 0.048660922795534134, 0.0871632993221283, 0.0, 0.0, 0.0, 0.0, 0.0, 0.0, 0.0, 0.0, 0.0, 0.0, 0.0, 0.0, 0.0, 0.0, 0.0, 0.0, 0.0, 0.0, 0.0, 0.0, 0.0, 0.0, 0.0, 0.0, 0.0, 0.0, 0.0, 0.0, 0.0], [0.4651745557785034, 0.13429312407970428, 0.15358169376850128, 0.1747255176305771, 0.07222513109445572, 0.0, 0.0, 0.0, 0.0, 0.0, 0.0, 0.0, 0.0, 0.0, 0.0, 0.0, 0.0, 0.0, 0.0, 0.0, 0.0, 0.0, 0.0, 0.0, 0.0, 0.0, 0.0, 0.0, 0.0, 0.0, 0.0, 0.0, 0.0], [0.17035982012748718, 0.011841949075460434, 0.02365086041390896, 0.021745825186371803, 0.02585633657872677, 0.7465451955795288, 0.0, 0.0, 0.0, 0.0, 0.0, 0.0, 0.0, 0.0, 0.0, 0.0, 0.0, 0.0, 0.0, 0.0, 0.0, 0.0, 0.0, 0.0, 0.0, 0.0, 0.0, 0.0, 0.0, 0.0, 0.0, 0.0, 0.0], [0.1421457827091217, 0.043832723051309586, 0.05021180957555771, 0.045165035873651505, 0.058721303939819336, 0.5111532807350159, 0.14876998960971832, 0.0, 0.0, 0.0, 0.0, 0.0, 0.0, 0.0, 0.0, 0.0, 0.0, 0.0, 0.0, 0.0, 0.0, 0.0, 0.0, 0.0, 0.0, 0.0, 0.0, 0.0, 0.0, 0.0, 0.0, 0.0, 0.0], [0.0847335085272789, 0.02036980912089348, 0.03746165335178375, 0.031959112733602524, 0.03419603034853935, 0.4350067675113678, 0.118940569460392, 0.2373325377702713, 0.0, 0.0, 0.0, 0.0, 0.0, 0.0, 0.0, 0.0, 0.0, 0.0, 0.0, 0.0, 0.0, 0.0, 0.0, 0.0, 0.0, 0.0, 0.0, 0.0, 0.0, 0.0, 0.0, 0.0, 0.0], [0.3423079550266266, 0.03593636676669121, 0.07259215414524078, 0.10352757573127747, 0.08196527510881424, 0.07694562524557114, 0.14196327328681946, 0.09896714985370636, 0.04579456150531769, 0.0, 0.0, 0.0, 0.0, 0.0, 0.0, 0.0, 0.0, 0.0, 0.0, 0.0, 0.0, 0.0, 0.0, 0.0, 0.0, 0.0, 0.0, 0.0, 0.0, 0.0, 0.0, 0.0, 0.0], [0.37114858627319336, 0.06278741359710693, 0.058069512248039246, 0.05566270276904106, 0.13124845921993256, 0.07535628974437714, 0.10726630687713623, 0.07924022525548935, 0.030107324942946434, 0.029113251715898514, 0.0, 0.0, 0.0, 0.0, 0.0, 0.0, 0.0, 0.0, 0.0, 0.0, 0.0, 0.0, 0.0, 0.0, 0.0, 0.0, 0.0, 0.0, 0.0, 0.0, 0.0, 0.0, 0.0], [0.06430107355117798, 0.005169105716049671, 0.01101299375295639, 0.009054887108504772, 0.011748072691261768, 0.31885021924972534, 0.036849476397037506, 0.08319550007581711, 0.012068146839737892, 0.014676228165626526, 0.43307432532310486, 0.0, 0.0, 0.0, 0.0, 0.0, 0.0, 0.0, 0.0, 0.0, 0.0, 0.0, 0.0, 0.0, 0.0, 0.0, 0.0, 0.0, 0.0, 0.0, 0.0, 0.0, 0.0], [0.23777922987937927, 0.03812997043132782, 0.019743341952562332, 0.07508022338151932, 0.14420795440673828, 0.062449268996715546, 0.07018385827541351, 0.06523603945970535, 0.04883217066526413, 0.034600336104631424, 0.0643976703286171, 0.13935989141464233, 0.0, 0.0, 0.0, 0.0, 0.0, 0.0, 0.0, 0.0, 0.0, 0.0, 0.0, 0.0, 0.0, 0.0, 0.0, 0.0, 0.0, 0.0, 0.0, 0.0, 0.0], [0.29014477133750916, 0.040857717394828796, 0.06965626776218414, 0.0646774172782898, 0.11515601724386215, 0.0727943480014801, 0.05406038463115692, 0.04095999523997307, 0.036461248993873596, 0.03709695115685463, 0.0811215341091156, 0.06249447166919708, 0.03451893478631973, 0.0, 0.0, 0.0, 0.0, 0.0, 0.0, 0.0, 0.0, 0.0, 0.0, 0.0, 0.0, 0.0, 0.0, 0.0, 0.0, 0.0, 0.0, 0.0, 0.0], [0.041916027665138245, 0.0033880709670484066, 0.007082363124936819, 0.00589920487254858, 0.007586192339658737, 0.2038978487253189, 0.023296765983104706, 0.05173071473836899, 0.007816811092197895, 0.009731379337608814, 0.27760183811187744, 0.008386773988604546, 0.016172710806131363, 0.335493266582489, 0.0, 0.0, 0.0, 0.0, 0.0, 0.0, 0.0, 0.0, 0.0, 0.0, 0.0, 0.0, 0.0, 0.0, 0.0, 0.0, 0.0, 0.0, 0.0], [0.1512935608625412, 0.04240785166621208, 0.04383378475904465, 0.09706760942935944, 0.14943556487560272, 0.044398821890354156, 0.061745017766952515, 0.041995156556367874, 0.018608788028359413, 0.03141245245933533, 0.05092645436525345, 0.06660290062427521, 0.09416218847036362, 0.057612910866737366, 0.048496928066015244, 0.0, 0.0, 0.0, 0.0, 0.0, 0.0, 0.0, 0.0, 0.0, 0.0, 0.0, 0.0, 0.0, 0.0, 0.0, 0.0, 0.0, 0.0], [0.29958024621009827, 0.07432064414024353, 0.03006197139620781, 0.016736481338739395, 0.03856484219431877, 0.05106878653168678, 0.09408661723136902, 0.056067951023578644, 0.054582275450229645, 0.045220423489809036, 0.05638069286942482, 0.015378044918179512, 0.04082850366830826, 0.060846928507089615, 0.03081107884645462, 0.035464514046907425, 0.0, 0.0, 0.0, 0.0, 0.0, 0.0, 0.0, 0.0, 0.0, 0.0, 0.0, 0.0, 0.0, 0.0, 0.0, 0.0, 0.0], [0.030439967289566994, 0.0024933915119618177, 0.005298207048326731, 0.004223387688398361, 0.005517450161278248, 0.14508455991744995, 0.016034141182899475, 0.035986486822366714, 0.005758044309914112, 0.007398173678666353, 0.19613459706306458, 0.006090892944484949, 0.011465112678706646, 0.23738016188144684, 0.00803177896887064, 0.005861485842615366, 0.2768021523952484, 0.0, 0.0, 0.0, 0.0, 0.0, 0.0, 0.0, 0.0, 0.0, 0.0, 0.0, 0.0, 0.0, 0.0, 0.0, 0.0], [0.015668945387005806, 0.001913348794914782, 0.00674793403595686, 0.005610877647995949, 0.006710363551974297, 0.10858522355556488, 0.013436981476843357, 0.030674807727336884, 0.008698045276105404, 0.005958771798759699, 0.15696406364440918, 0.006401266437023878, 0.014357199892401695, 0.19220475852489471, 0.009938819333910942, 0.008154565468430519, 0.228613942861557, 0.17936013638973236, 0.0, 0.0, 0.0, 0.0, 0.0, 0.0, 0.0, 0.0, 0.0, 0.0, 0.0, 0.0, 0.0, 0.0, 0.0], [0.2751207947731018, 0.046356093138456345, 0.025782737880945206, 0.020371073856949806, 0.04519128054380417, 0.04741504043340683, 0.05800832062959671, 0.05449461191892624, 0.02185584045946598, 0.028674190863966942, 0.05054793134331703, 0.03578947111964226, 0.01434399839490652, 0.05505191162228584, 0.019970903173089027, 0.025070656090974808, 0.059836700558662415, 0.1059127226471901, 0.010205713100731373, 0.0, 0.0, 0.0, 0.0, 0.0, 0.0, 0.0, 0.0, 0.0, 0.0, 0.0, 0.0, 0.0, 0.0], [0.12210454791784286, 0.02900635078549385, 0.027926107868552208, 0.03076368384063244, 0.06431964784860611, 0.05075862631201744, 0.05746716633439064, 0.03854452446103096, 0.02881445735692978, 0.03641035780310631, 0.05530693382024765, 0.027555692940950394, 0.05062388256192207, 0.060396820306777954, 0.037909090518951416, 0.03416259214282036, 0.06550317257642746, 0.08224613964557648, 0.08903131633996964, 0.011148839257657528, 0.0, 0.0, 0.0, 0.0, 0.0, 0.0, 0.0, 0.0, 0.0, 0.0, 0.0, 0.0, 0.0], [0.019922738894820213, 0.001599126379005611, 0.003536269534379244, 0.002760609146207571, 0.003674750914797187, 0.09198572486639023, 0.009868195280432701, 0.021762734279036522, 0.0036746212281286716, 0.00480030570179224, 0.12327174842357635, 0.003948227036744356, 0.007727709598839283, 0.14901943504810333, 0.00509450351819396, 0.0038495527114719152, 0.17433807253837585, 0.14503760635852814, 0.0031391805969178677, 0.0039015663787722588, 0.2170872688293457, 0.0, 0.0, 0.0, 0.0, 0.0, 0.0, 0.0, 0.0, 0.0, 0.0, 0.0, 0.0], [0.025169139727950096, 0.0025891445111483335, 0.007904477417469025, 0.002818178152665496, 0.00831749476492405, 0.06284765154123306, 0.016097376123070717, 0.024833574891090393, 0.0076580350287258625, 0.011317088268697262, 0.08451002091169357, 0.012135407887399197, 0.022048378363251686, 0.10017254203557968, 0.015103299170732498, 0.020152268931269646, 0.11906804144382477, 0.14148974418640137, 0.0065766507759690285, 0.007074063178151846, 0.1485065370798111, 0.1536109447479248, 0.0, 0.0, 0.0, 0.0, 0.0, 0.0, 0.0, 0.0, 0.0, 0.0, 0.0], [0.08679645508527756, 0.015818685293197632, 0.009913155809044838, 0.005941126495599747, 0.011749106459319592, 0.04402250051498413, 0.049411576241254807, 0.047211602330207825, 0.022448498755693436, 0.028144167736172676, 0.05249367654323578, 0.013664892874658108, 0.03804456815123558, 0.058564893901348114, 0.016008727252483368, 0.02853177674114704, 0.06752394139766693, 0.10004054754972458, 0.026074480265378952, 0.01816527545452118, 0.08061441779136658, 0.14588391780853271, 0.03293202072381973, 0.0, 0.0, 0.0, 0.0, 0.0, 0.0, 0.0, 0.0, 0.0, 0.0], [0.12203329801559448, 0.02679692953824997, 0.034712716937065125, 0.016600845381617546, 0.050986021757125854, 0.03362349048256874, 0.033762890845537186, 0.03289441019296646, 0.022763587534427643, 0.034695424139499664, 0.037108197808265686, 0.027503062039613724, 0.03050805628299713, 0.040704917162656784, 0.019409820437431335, 0.033388130366802216, 0.04603785648941994, 0.0814194306731224, 0.025792911648750305, 0.017713360488414764, 0.053263742476701736, 0.06955219060182571, 0.07340096682310104, 0.035327810794115067, 0.0, 0.0, 0.0, 0.0, 0.0, 0.0, 0.0, 0.0, 0.0], [0.012632708996534348, 0.0031967288814485073, 0.008999618701636791, 0.003787106368690729, 0.005590221378952265, 0.0601874440908432, 0.010173022747039795, 0.026063401252031326, 0.00828032847493887, 0.005998438689857721, 0.08480238169431686, 0.007755741477012634, 0.014807668514549732, 0.10079348087310791, 0.011636031791567802, 0.007885104045271873, 0.12061364948749542, 0.12819866836071014, 0.006487111561000347, 0.0032305712811648846, 0.15047506988048553, 0.10557693988084793, 0.015480618923902512, 0.01902632974088192, 0.07832161337137222, 0.0, 0.0, 0.0, 0.0, 0.0, 0.0, 0.0, 0.0], [0.11176051944494247, 0.018635567277669907, 0.05622372403740883, 0.046772804111242294, 0.037364933639764786, 0.0229934174567461, 0.0313652940094471, 0.026408886536955833, 0.04335922375321388, 0.056635595858097076, 0.021786391735076904, 0.023822130635380745, 0.030641667544841766, 0.0232892744243145, 0.05430492386221886, 0.0688118115067482, 0.02448936738073826, 0.047770921140909195, 0.03627173975110054, 0.02222253754734993, 0.026998937129974365, 0.021766118705272675, 0.034424904733896255, 0.028240269050002098, 0.05891920626163483, 0.02471984177827835, 0.0, 0.0, 0.0, 0.0, 0.0, 0.0, 0.0], [0.10639806091785431, 0.0371079295873642, 0.08273957669734955, 0.01785684935748577, 0.020950015634298325, 0.01830524392426014, 0.022620094940066338, 0.018192261457443237, 0.021851174533367157, 0.012518529780209064, 0.0192140880972147, 0.030340062454342842, 0.07187619805335999, 0.020788008347153664, 0.039635252207517624, 0.061515890061855316, 0.023179279640316963, 0.043980419635772705, 0.04619225114583969, 0.020667988806962967, 0.027080882340669632, 0.04386550560593605, 0.03276738524436951, 0.04369068145751953, 0.05080839619040489, 0.04029495269060135, 0.025562996044754982, 0.0, 0.0, 0.0, 0.0, 0.0, 0.0], [0.015084567479789257, 0.003822384402155876, 0.0058772680349648, 0.004971851594746113, 0.005370152182877064, 0.052236441522836685, 0.016127683222293854, 0.03182990476489067, 0.008211128413677216, 0.011473825201392174, 0.06704682856798172, 0.010528391227126122, 0.010598229244351387, 0.07938902825117111, 0.007211729418486357, 0.00627146428450942, 0.09142370522022247, 0.1086651012301445, 0.003973818384110928, 0.005621670745313168, 0.10983321815729141, 0.09237758815288544, 0.022960493341088295, 0.01931491121649742, 0.08864136785268784, 0.0184647124260664, 0.011022249236702919, 0.09165032207965851, 0.0, 0.0, 0.0, 0.0, 0.0], [0.09854134917259216, 0.03967062011361122, 0.05052139237523079, 0.04794389754533768, 0.019531870260834694, 0.015683408826589584, 0.025074761360883713, 0.01499791070818901, 0.02772345207631588, 0.016418175771832466, 0.016389017924666405, 0.026316583156585693, 0.03435926511883736, 0.01775800622999668, 0.023362675681710243, 0.03763512521982193, 0.019405603408813477, 0.03442169725894928, 0.049022965133190155, 0.03019053116440773, 0.022159067913889885, 0.03754062578082085, 0.03879312053322792, 0.04032415524125099, 0.0423126146197319, 0.06829199194908142, 0.025314118713140488, 0.04330075904726982, 0.03699525073170662, 0.0, 0.0, 0.0, 0.0], [0.10688816756010056, 0.036595772951841354, 0.005083091557025909, 0.010160421952605247, 0.013297369703650475, 0.041752077639102936, 0.026246802881360054, 0.03012855537235737, 0.013482412323355675, 0.018223192542791367, 0.04582623019814491, 0.02555879019200802, 0.015618830919265747, 0.05039895698428154, 0.011657015420496464, 0.011659122072160244, 0.055155202746391296, 0.050916638225317, 0.01920679770410061, 0.013998406939208508, 0.06383468210697174, 0.02908891998231411, 0.016710417345166206, 0.026095259934663773, 0.05484982579946518, 0.03806673735380173, 0.03896065428853035, 0.05375238135457039, 0.023679159581661224, 0.0531080923974514, 0.0, 0.0, 0.0], [0.10871606320142746, 0.06286421418190002, 0.023045124486088753, 0.012493216432631016, 0.009688269346952438, 0.023720769211649895, 0.025617344304919243, 0.028282875195145607, 0.01952310837805271, 0.015187137760221958, 0.024615760892629623, 0.018855810165405273, 0.013071918860077858, 0.02569746784865856, 0.010639791376888752, 0.007336434442549944, 0.028488241136074066, 0.0408751405775547, 0.023693904280662537, 0.02846081182360649, 0.031781136989593506, 0.033992111682891846, 0.01690451242029667, 0.04699752852320671, 0.05480917543172836, 0.060481712222099304, 0.021137820556759834, 0.05147773399949074, 0.015304336324334145, 0.0786885991692543, 0.03755195438861847, 0.0, 0.0], [0.16510626673698425, 0.013307339511811733, 0.02282031998038292, 0.03222496062517166, 0.02832782082259655, 0.011912117712199688, 0.021759122610092163, 0.012591331265866756, 0.025371341034770012, 0.015923485159873962, 0.011745055206120014, 0.02134016528725624, 0.02265850640833378, 0.012097015045583248, 0.058773938566446304, 0.041142962872982025, 0.012866130098700523, 0.0218967255204916, 0.027385741472244263, 0.015412727370858192, 0.014822262339293957, 0.013198774307966232, 0.02906010113656521, 0.04031306132674217, 0.02303694561123848, 0.05035791173577309, 0.04650065302848816, 0.03221074119210243, 0.04574136435985565, 0.01144816167652607, 0.05148480832576752, 0.04716220125555992, 0.0], [0.019862735643982887, 0.0006941379979252815, 0.001767063164152205, 0.001903819153085351, 0.002311578020453453, 0.05924389138817787, 0.005164950154721737, 0.008714547380805016, 0.002490669721737504, 0.0030579627491533756, 0.07585151493549347, 0.00239055254496634, 0.003177350154146552, 0.08945123106241226, 0.0030653001740574837, 0.001620916766114533, 0.10312026739120483, 0.06259161978960037, 0.002058296464383602, 0.0022322183940559626, 0.12742047011852264, 0.024703865870833397, 0.003510197391733527, 0.004994177725166082, 0.028317103162407875, 0.005874198861420155, 0.006215326022356749, 0.036865632981061935, 0.005438114050775766, 0.004061868414282799, 0.0047355154529213905, 0.004534382373094559, 0.29255858063697815]], [[1.0, 0.0, 0.0, 0.0, 0.0, 0.0, 0.0, 0.0, 0.0, 0.0, 0.0, 0.0, 0.0, 0.0, 0.0, 0.0, 0.0, 0.0, 0.0, 0.0, 0.0, 0.0, 0.0, 0.0, 0.0, 0.0, 0.0, 0.0, 0.0, 0.0, 0.0, 0.0, 0.0], [0.9726406335830688, 0.027359338477253914, 0.0, 0.0, 0.0, 0.0, 0.0, 0.0, 0.0, 0.0, 0.0, 0.0, 0.0, 0.0, 0.0, 0.0, 0.0, 0.0, 0.0, 0.0, 0.0, 0.0, 0.0, 0.0, 0.0, 0.0, 0.0, 0.0, 0.0, 0.0, 0.0, 0.0, 0.0], [0.8850566744804382, 0.08160645514726639, 0.033336855471134186, 0.0, 0.0, 0.0, 0.0, 0.0, 0.0, 0.0, 0.0, 0.0, 0.0, 0.0, 0.0, 0.0, 0.0, 0.0, 0.0, 0.0, 0.0, 0.0, 0.0, 0.0, 0.0, 0.0, 0.0, 0.0, 0.0, 0.0, 0.0, 0.0, 0.0], [0.7844979763031006, 0.09046000242233276, 0.1072097048163414, 0.017832351848483086, 0.0, 0.0, 0.0, 0.0, 0.0, 0.0, 0.0, 0.0, 0.0, 0.0, 0.0, 0.0, 0.0, 0.0, 0.0, 0.0, 0.0, 0.0, 0.0, 0.0, 0.0, 0.0, 0.0, 0.0, 0.0, 0.0, 0.0, 0.0, 0.0], [0.6679065227508545, 0.10135097801685333, 0.10997925698757172, 0.0699087455868721, 0.05085447430610657, 0.0, 0.0, 0.0, 0.0, 0.0, 0.0, 0.0, 0.0, 0.0, 0.0, 0.0, 0.0, 0.0, 0.0, 0.0, 0.0, 0.0, 0.0, 0.0, 0.0, 0.0, 0.0, 0.0, 0.0, 0.0, 0.0, 0.0, 0.0], [0.5862791538238525, 0.06960929185152054, 0.06798026710748672, 0.06058964133262634, 0.08339764922857285, 0.1321440190076828, 0.0, 0.0, 0.0, 0.0, 0.0, 0.0, 0.0, 0.0, 0.0, 0.0, 0.0, 0.0, 0.0, 0.0, 0.0, 0.0, 0.0, 0.0, 0.0, 0.0, 0.0, 0.0, 0.0, 0.0, 0.0, 0.0, 0.0], [0.5015712380409241, 0.062278736382722855, 0.07209990173578262, 0.055909160524606705, 0.08146876841783524, 0.12033158540725708, 0.10634061694145203, 0.0, 0.0, 0.0, 0.0, 0.0, 0.0, 0.0, 0.0, 0.0, 0.0, 0.0, 0.0, 0.0, 0.0, 0.0, 0.0, 0.0, 0.0, 0.0, 0.0, 0.0, 0.0, 0.0, 0.0, 0.0, 0.0], [0.4001610577106476, 0.05525398254394531, 0.06347683817148209, 0.054137859493494034, 0.07119618356227875, 0.11230526119470596, 0.12489718943834305, 0.1185716763138771, 0.0, 0.0, 0.0, 0.0, 0.0, 0.0, 0.0, 0.0, 0.0, 0.0, 0.0, 0.0, 0.0, 0.0, 0.0, 0.0, 0.0, 0.0, 0.0, 0.0, 0.0, 0.0, 0.0, 0.0, 0.0], [0.4018533229827881, 0.08579418808221817, 0.05644882842898369, 0.0718112364411354, 0.08318912237882614, 0.07845643907785416, 0.09191881120204926, 0.07768876850605011, 0.05283930152654648, 0.0, 0.0, 0.0, 0.0, 0.0, 0.0, 0.0, 0.0, 0.0, 0.0, 0.0, 0.0, 0.0, 0.0, 0.0, 0.0, 0.0, 0.0, 0.0, 0.0, 0.0, 0.0, 0.0, 0.0], [0.3827161490917206, 0.07976946234703064, 0.062077492475509644, 0.06360232084989548, 0.08211023360490799, 0.07804952561855316, 0.08597433567047119, 0.07506484538316727, 0.0632784515619278, 0.02735721319913864, 0.0, 0.0, 0.0, 0.0, 0.0, 0.0, 0.0, 0.0, 0.0, 0.0, 0.0, 0.0, 0.0, 0.0, 0.0, 0.0, 0.0, 0.0, 0.0, 0.0, 0.0, 0.0, 0.0], [0.3404167890548706, 0.04535195603966713, 0.04658909887075424, 0.040391698479652405, 0.05489041283726692, 0.08179005235433578, 0.08906516432762146, 0.09645896404981613, 0.05564969405531883, 0.06398677080869675, 0.08540936559438705, 0.0, 0.0, 0.0, 0.0, 0.0, 0.0, 0.0, 0.0, 0.0, 0.0, 0.0, 0.0, 0.0, 0.0, 0.0, 0.0, 0.0, 0.0, 0.0, 0.0, 0.0, 0.0], [0.311862051486969, 0.09539996087551117, 0.07292015850543976, 0.06976872682571411, 0.07777832448482513, 0.0673503503203392, 0.06161405146121979, 0.054810747504234314, 0.05252012982964516, 0.05022516846656799, 0.0729934573173523, 0.012756961397826672, 0.0, 0.0, 0.0, 0.0, 0.0, 0.0, 0.0, 0.0, 0.0, 0.0, 0.0, 0.0, 0.0, 0.0, 0.0, 0.0, 0.0, 0.0, 0.0, 0.0, 0.0], [0.36652854084968567, 0.06308672577142715, 0.03947844356298447, 0.046095263212919235, 0.05740756541490555, 0.063483327627182, 0.0523846298456192, 0.055016160011291504, 0.04584017023444176, 0.06228693202137947, 0.0658990815281868, 0.058063581585884094, 0.024429501965641975, 0.0, 0.0, 0.0, 0.0, 0.0, 0.0, 0.0, 0.0, 0.0, 0.0, 0.0, 0.0, 0.0, 0.0, 0.0, 0.0, 0.0, 0.0, 0.0, 0.0], [0.28564444184303284, 0.03804025799036026, 0.039423901587724686, 0.03423863276839256, 0.046393983066082, 0.06771661341190338, 0.07328073680400848, 0.07855431735515594, 0.04789663851261139, 0.0559365451335907, 0.07124944776296616, 0.03568924590945244, 0.04956044256687164, 0.07637482136487961, 0.0, 0.0, 0.0, 0.0, 0.0, 0.0, 0.0, 0.0, 0.0, 0.0, 0.0, 0.0, 0.0, 0.0, 0.0, 0.0, 0.0, 0.0, 0.0], [0.29775434732437134, 0.05259548872709274, 0.04347938671708107, 0.05845862254500389, 0.04568728804588318, 0.05259402468800545, 0.04456199333071709, 0.0459747239947319, 0.06316149234771729, 0.0776875764131546, 0.054991431534290314, 0.03466469421982765, 0.050200995057821274, 0.05886143445968628, 0.019326550886034966, 0.0, 0.0, 0.0, 0.0, 0.0, 0.0, 0.0, 0.0, 0.0, 0.0, 0.0, 0.0, 0.0, 0.0, 0.0, 0.0, 0.0, 0.0], [0.28853151202201843, 0.046169109642505646, 0.028233055025339127, 0.0382423959672451, 0.04330622777342796, 0.051749132573604584, 0.04318273440003395, 0.04393118619918823, 0.056163426488637924, 0.06773822009563446, 0.05490174517035484, 0.0813930481672287, 0.043256890028715134, 0.05904817581176758, 0.03989904746413231, 0.014254068024456501, 0.0, 0.0, 0.0, 0.0, 0.0, 0.0, 0.0, 0.0, 0.0, 0.0, 0.0, 0.0, 0.0, 0.0, 0.0, 0.0, 0.0], [0.23721373081207275, 0.03161582350730896, 0.03324563801288605, 0.029231956228613853, 0.038618121296167374, 0.055491652339696884, 0.05966496840119362, 0.06321784108877182, 0.04073699563741684, 0.04752674698829651, 0.058378200978040695, 0.030399657785892487, 0.042871564626693726, 0.06284618377685547, 0.053212907165288925, 0.047368962317705154, 0.06835901737213135, 0.0, 0.0, 0.0, 0.0, 0.0, 0.0, 0.0, 0.0, 0.0, 0.0, 0.0, 0.0, 0.0, 0.0, 0.0, 0.0], [0.20986966788768768, 0.027291269972920418, 0.031156612560153008, 0.026615004986524582, 0.031651128083467484, 0.05273226648569107, 0.05274501442909241, 0.056359030306339264, 0.040765468031167984, 0.042782366275787354, 0.05619122087955475, 0.030678266659379005, 0.04398961365222931, 0.06091475859284401, 0.050136979669332504, 0.04157315194606781, 0.06652859598398209, 0.07801957428455353, 0.0, 0.0, 0.0, 0.0, 0.0, 0.0, 0.0, 0.0, 0.0, 0.0, 0.0, 0.0, 0.0, 0.0, 0.0], [0.23853830993175507, 0.04414582625031471, 0.04643503203988075, 0.034512709826231, 0.035721778869628906, 0.043693285435438156, 0.04304974898695946, 0.03498825430870056, 0.043718066066503525, 0.039521947503089905, 0.04457852989435196, 0.024599453434348106, 0.0625118538737297, 0.04753483086824417, 0.04375607520341873, 0.04995930939912796, 0.050908058881759644, 0.0526624359190464, 0.019164476543664932, 0.0, 0.0, 0.0, 0.0, 0.0, 0.0, 0.0, 0.0, 0.0, 0.0, 0.0, 0.0, 0.0, 0.0], [0.17729146778583527, 0.04221462085843086, 0.03081871010363102, 0.030886104330420494, 0.03386848047375679, 0.04521183669567108, 0.04290102422237396, 0.03221559897065163, 0.04018865525722504, 0.049268998205661774, 0.04801623523235321, 0.038142453879117966, 0.051265131682157516, 0.052068453282117844, 0.04744118079543114, 0.03924532234668732, 0.05630473420023918, 0.054629452526569366, 0.0599186085164547, 0.02810293808579445, 0.0, 0.0, 0.0, 0.0, 0.0, 0.0, 0.0, 0.0, 0.0, 0.0, 0.0, 0.0, 0.0], [0.19048286974430084, 0.025203492492437363, 0.02678745985031128, 0.023672685027122498, 0.03110402822494507, 0.04345342144370079, 0.046493303030729294, 0.04820647090673447, 0.03323279321193695, 0.03892752528190613, 0.045491475611925125, 0.02444273792207241, 0.03570157662034035, 0.04907769709825516, 0.04303566366434097, 0.039055634289979935, 0.05371744558215141, 0.0665896087884903, 0.04320823401212692, 0.03176469728350639, 0.06035124510526657, 0.0, 0.0, 0.0, 0.0, 0.0, 0.0, 0.0, 0.0, 0.0, 0.0, 0.0, 0.0], [0.1497536599636078, 0.02347458153963089, 0.02550838701426983, 0.02894243411719799, 0.03517156466841698, 0.0388018898665905, 0.04594279080629349, 0.03962729126214981, 0.03708779811859131, 0.03872301056981087, 0.0419071689248085, 0.021688057109713554, 0.04328255355358124, 0.045925434678792953, 0.03893953189253807, 0.0400761142373085, 0.05060020089149475, 0.060830555856227875, 0.04372159019112587, 0.030235210433602333, 0.05728612467646599, 0.06247401237487793, 0.0, 0.0, 0.0, 0.0, 0.0, 0.0, 0.0, 0.0, 0.0, 0.0, 0.0], [0.1751340925693512, 0.02751927450299263, 0.029514029622077942, 0.020715320482850075, 0.026873519644141197, 0.03454611822962761, 0.03853077441453934, 0.03303781896829605, 0.041815586388111115, 0.04010031744837761, 0.03696894273161888, 0.030468935146927834, 0.03995394706726074, 0.040237076580524445, 0.044826194643974304, 0.03708261996507645, 0.04420144855976105, 0.04931041598320007, 0.041257426142692566, 0.028610683977603912, 0.04997343197464943, 0.052692852914333344, 0.03662918135523796, 0.0, 0.0, 0.0, 0.0, 0.0, 0.0, 0.0, 0.0, 0.0, 0.0], [0.1328599601984024, 0.04070805385708809, 0.04111678525805473, 0.034844256937503815, 0.040876053273677826, 0.027567202225327492, 0.028293689712882042, 0.022520434111356735, 0.038754191249608994, 0.04037803038954735, 0.029089411720633507, 0.02960922382771969, 0.056701142340898514, 0.031181877478957176, 0.037661176174879074, 0.05688636377453804, 0.03396706283092499, 0.03781306743621826, 0.049514126032590866, 0.03194557502865791, 0.03759901598095894, 0.04326637089252472, 0.04305671527981758, 0.033790223300457, 0.0, 0.0, 0.0, 0.0, 0.0, 0.0, 0.0, 0.0, 0.0], [0.1470937281847, 0.018218718469142914, 0.022143613547086716, 0.021621381863951683, 0.02707289718091488, 0.0338541716337204, 0.037876106798648834, 0.038019657135009766, 0.027932504191994667, 0.03090185672044754, 0.03606924042105675, 0.019023137167096138, 0.03465801849961281, 0.03916987404227257, 0.033755578100681305, 0.02613661251962185, 0.04297829046845436, 0.053137440234422684, 0.034635063260793686, 0.020140284672379494, 0.04878358542919159, 0.04990803077816963, 0.04624389484524727, 0.047156717628240585, 0.06346961110830307, 0.0, 0.0, 0.0, 0.0, 0.0, 0.0, 0.0, 0.0], [0.17602786421775818, 0.01488215196877718, 0.026751162484288216, 0.024088067933917046, 0.035667482763528824, 0.0270942784845829, 0.024984238669276237, 0.02147187665104866, 0.026359383016824722, 0.0238451287150383, 0.02756699174642563, 0.01686953380703926, 0.0777742862701416, 0.029109230265021324, 0.04799697920680046, 0.029002508148550987, 0.031323350965976715, 0.036155980080366135, 0.0395955890417099, 0.01700800098478794, 0.03483905270695686, 0.03443719074130058, 0.04149220511317253, 0.09124381840229034, 0.0405229777097702, 0.0038906021509319544, 0.0, 0.0, 0.0, 0.0, 0.0, 0.0, 0.0], [0.18501746654510498, 0.027787016704678535, 0.025097640231251717, 0.02701900340616703, 0.029199201613664627, 0.030337011441588402, 0.032221753150224686, 0.023015080019831657, 0.02679286152124405, 0.022793862968683243, 0.03067483939230442, 0.021220842376351357, 0.05388806387782097, 0.0325930193066597, 0.030737660825252533, 0.025725241750478745, 0.03486604243516922, 0.037935834378004074, 0.02867201901972294, 0.026148971170186996, 0.038753338158130646, 0.0417950339615345, 0.03863156959414482, 0.05337151885032654, 0.039820730686187744, 0.025711623951792717, 0.010172729380428791, 0.0, 0.0, 0.0, 0.0, 0.0, 0.0], [0.12446332722902298, 0.016768911853432655, 0.020105114206671715, 0.01926703006029129, 0.024457812309265137, 0.030203357338905334, 0.03127392753958702, 0.03254607319831848, 0.023186009377241135, 0.023508397862315178, 0.0317331999540329, 0.01708052307367325, 0.02908206172287464, 0.03428218886256218, 0.035791296511888504, 0.025820555165410042, 0.037531156092882156, 0.046182505786418915, 0.02950000949203968, 0.017913810908794403, 0.042747288942337036, 0.0424346849322319, 0.039002396166324615, 0.041418373584747314, 0.05949500948190689, 0.03595734387636185, 0.03098485991358757, 0.0572628490626812, 0.0, 0.0, 0.0, 0.0, 0.0], [0.14491023123264313, 0.02584398165345192, 0.0311769749969244, 0.019462741911411285, 0.012575728818774223, 0.025274598971009254, 0.022020680829882622, 0.02126728743314743, 0.03165541961789131, 0.027664165943861008, 0.026251599192619324, 0.022091038525104523, 0.03851795569062233, 0.028266888111829758, 0.02887762524187565, 0.03686534985899925, 0.030699949711561203, 0.03204505145549774, 0.034116264432668686, 0.020355407148599625, 0.03446314483880997, 0.035428665578365326, 0.030728407204151154, 0.04441896453499794, 0.037935979664325714, 0.05734867602586746, 0.03889698535203934, 0.04111205413937569, 0.01972818374633789, 0.0, 0.0, 0.0, 0.0], [0.1316843032836914, 0.025460124015808105, 0.027962403371930122, 0.02410982921719551, 0.016868816688656807, 0.03140675649046898, 0.023247340694069862, 0.02207169122993946, 0.027362504974007607, 0.026370473206043243, 0.03204534575343132, 0.02877582423388958, 0.04614200443029404, 0.034559786319732666, 0.03132108226418495, 0.02943774126470089, 0.037490688264369965, 0.03597424551844597, 0.0306710135191679, 0.0267783235758543, 0.04166237264871597, 0.03274397924542427, 0.03034878522157669, 0.032651979476213455, 0.038056496530771255, 0.03457561880350113, 0.022936124354600906, 0.036903265863657, 0.02596617303788662, 0.014414909295737743, 0.0, 0.0, 0.0], [0.1656370908021927, 0.02280924841761589, 0.029107751324772835, 0.024944663047790527, 0.024352874606847763, 0.02503182180225849, 0.018486658111214638, 0.01857367344200611, 0.02844363823533058, 0.029199926182627678, 0.025318220257759094, 0.032205019146203995, 0.02575327828526497, 0.026890533044934273, 0.03127394616603851, 0.03305148705840111, 0.02883545681834221, 0.029910437762737274, 0.0275588296353817, 0.024624645709991455, 0.032053619623184204, 0.026493752375245094, 0.021709593012928963, 0.03164015710353851, 0.03707476705312729, 0.04799467325210571, 0.02793215401470661, 0.034756120294332504, 0.03804943710565567, 0.02153569459915161, 0.008750846609473228, 0.0, 0.0], [0.16794216632843018, 0.02598346397280693, 0.03222335875034332, 0.019469374790787697, 0.023735281080007553, 0.023115722462534904, 0.019973615184426308, 0.016550233587622643, 0.0297967791557312, 0.028494659811258316, 0.02310883067548275, 0.022087078541517258, 0.04216554015874863, 0.02439018152654171, 0.020749136805534363, 0.03873588144779205, 0.026269786059856415, 0.02728912979364395, 0.019617389887571335, 0.020242856815457344, 0.029203210026025772, 0.030413363128900528, 0.025762619450688362, 0.04084981977939606, 0.0333266407251358, 0.021795304492115974, 0.026310522109270096, 0.03101348504424095, 0.036892615258693695, 0.019377173855900764, 0.04355602338910103, 0.0095586609095335, 0.0], [0.11396834254264832, 0.017752883955836296, 0.01606196165084839, 0.015585060231387615, 0.01839611306786537, 0.0243670791387558, 0.02605387195944786, 0.02399909868836403, 0.02191947028040886, 0.02625112235546112, 0.024730544537305832, 0.015323016792535782, 0.025614570826292038, 0.026337886229157448, 0.024982869625091553, 0.024642622098326683, 0.028590310364961624, 0.03295152634382248, 0.02756860852241516, 0.01848755031824112, 0.03220852091908455, 0.03191469982266426, 0.03630724176764488, 0.0341540165245533, 0.036785587668418884, 0.032977718859910965, 0.026278896257281303, 0.03809891641139984, 0.029801957309246063, 0.018183255568146706, 0.03632068261504173, 0.03568092733621597, 0.05770311504602432]], [[1.0, 0.0, 0.0, 0.0, 0.0, 0.0, 0.0, 0.0, 0.0, 0.0, 0.0, 0.0, 0.0, 0.0, 0.0, 0.0, 0.0, 0.0, 0.0, 0.0, 0.0, 0.0, 0.0, 0.0, 0.0, 0.0, 0.0, 0.0, 0.0, 0.0, 0.0, 0.0, 0.0], [0.8058416247367859, 0.1941584348678589, 0.0, 0.0, 0.0, 0.0, 0.0, 0.0, 0.0, 0.0, 0.0, 0.0, 0.0, 0.0, 0.0, 0.0, 0.0, 0.0, 0.0, 0.0, 0.0, 0.0, 0.0, 0.0, 0.0, 0.0, 0.0, 0.0, 0.0, 0.0, 0.0, 0.0, 0.0], [0.6373865604400635, 0.09672045707702637, 0.26589304208755493, 0.0, 0.0, 0.0, 0.0, 0.0, 0.0, 0.0, 0.0, 0.0, 0.0, 0.0, 0.0, 0.0, 0.0, 0.0, 0.0, 0.0, 0.0, 0.0, 0.0, 0.0, 0.0, 0.0, 0.0, 0.0, 0.0, 0.0, 0.0, 0.0, 0.0], [0.5870265960693359, 0.09922716021537781, 0.07913830876350403, 0.23460794985294342, 0.0, 0.0, 0.0, 0.0, 0.0, 0.0, 0.0, 0.0, 0.0, 0.0, 0.0, 0.0, 0.0, 0.0, 0.0, 0.0, 0.0, 0.0, 0.0, 0.0, 0.0, 0.0, 0.0, 0.0, 0.0, 0.0, 0.0, 0.0, 0.0], [0.4194738268852234, 0.06312591582536697, 0.08123065531253815, 0.08381497114896774, 0.3523545563220978, 0.0, 0.0, 0.0, 0.0, 0.0, 0.0, 0.0, 0.0, 0.0, 0.0, 0.0, 0.0, 0.0, 0.0, 0.0, 0.0, 0.0, 0.0, 0.0, 0.0, 0.0, 0.0, 0.0, 0.0, 0.0, 0.0, 0.0, 0.0], [0.5308533310890198, 0.0959072932600975, 0.07779337465763092, 0.06661547720432281, 0.07293295115232468, 0.15589764714241028, 0.0, 0.0, 0.0, 0.0, 0.0, 0.0, 0.0, 0.0, 0.0, 0.0, 0.0, 0.0, 0.0, 0.0, 0.0, 0.0, 0.0, 0.0, 0.0, 0.0, 0.0, 0.0, 0.0, 0.0, 0.0, 0.0, 0.0], [0.3850308358669281, 0.0747809037566185, 0.06978147476911545, 0.047606516629457474, 0.051449164748191833, 0.08776703476905823, 0.2835840880870819, 0.0, 0.0, 0.0, 0.0, 0.0, 0.0, 0.0, 0.0, 0.0, 0.0, 0.0, 0.0, 0.0, 0.0, 0.0, 0.0, 0.0, 0.0, 0.0, 0.0, 0.0, 0.0, 0.0, 0.0, 0.0, 0.0], [0.29629576206207275, 0.053282685577869415, 0.06944748014211655, 0.040975477546453476, 0.06660831719636917, 0.1021856963634491, 0.10869500041007996, 0.26250964403152466, 0.0, 0.0, 0.0, 0.0, 0.0, 0.0, 0.0, 0.0, 0.0, 0.0, 0.0, 0.0, 0.0, 0.0, 0.0, 0.0, 0.0, 0.0, 0.0, 0.0, 0.0, 0.0, 0.0, 0.0, 0.0], [0.30475008487701416, 0.06337984651327133, 0.057534221559762955, 0.040577203035354614, 0.0730014219880104, 0.07375828921794891, 0.07239889353513718, 0.05693604424595833, 0.2576640248298645, 0.0, 0.0, 0.0, 0.0, 0.0, 0.0, 0.0, 0.0, 0.0, 0.0, 0.0, 0.0, 0.0, 0.0, 0.0, 0.0, 0.0, 0.0, 0.0, 0.0, 0.0, 0.0, 0.0, 0.0], [0.29880765080451965, 0.055528245866298676, 0.05443596467375755, 0.052853021770715714, 0.06568751484155655, 0.07554221898317337, 0.06968102604150772, 0.05411387234926224, 0.09120786935091019, 0.18214258551597595, 0.0, 0.0, 0.0, 0.0, 0.0, 0.0, 0.0, 0.0, 0.0, 0.0, 0.0, 0.0, 0.0, 0.0, 0.0, 0.0, 0.0, 0.0, 0.0, 0.0, 0.0, 0.0, 0.0], [0.26933014392852783, 0.0635242909193039, 0.05952121689915657, 0.05242468789219856, 0.06052158400416374, 0.12185832113027573, 0.07608653604984283, 0.09753071516752243, 0.04232606291770935, 0.05058326944708824, 0.10629310458898544, 0.0, 0.0, 0.0, 0.0, 0.0, 0.0, 0.0, 0.0, 0.0, 0.0, 0.0, 0.0, 0.0, 0.0, 0.0, 0.0, 0.0, 0.0, 0.0, 0.0, 0.0, 0.0], [0.22074291110038757, 0.06960074603557587, 0.04872346669435501, 0.06675714999437332, 0.06954208016395569, 0.06483786553144455, 0.04652373492717743, 0.03930084407329559, 0.018016090616583824, 0.035806313157081604, 0.05302286893129349, 0.26712581515312195, 0.0, 0.0, 0.0, 0.0, 0.0, 0.0, 0.0, 0.0, 0.0, 0.0, 0.0, 0.0, 0.0, 0.0, 0.0, 0.0, 0.0, 0.0, 0.0, 0.0, 0.0], [0.1508006751537323, 0.04732474684715271, 0.12551118433475494, 0.06240081042051315, 0.05354632809758186, 0.055783960968256, 0.045426130294799805, 0.03888600692152977, 0.030199814587831497, 0.03337055817246437, 0.04645954817533493, 0.023437922820448875, 0.28685232996940613, 0.0, 0.0, 0.0, 0.0, 0.0, 0.0, 0.0, 0.0, 0.0, 0.0, 0.0, 0.0, 0.0, 0.0, 0.0, 0.0, 0.0, 0.0, 0.0, 0.0], [0.2044883519411087, 0.04972050338983536, 0.048385463654994965, 0.04385359212756157, 0.05115720257163048, 0.1007489413022995, 0.06420683115720749, 0.08302562683820724, 0.03880453109741211, 0.04795774444937706, 0.09582380205392838, 0.032397009432315826, 0.04441104456782341, 0.0950193703174591, 0.0, 0.0, 0.0, 0.0, 0.0, 0.0, 0.0, 0.0, 0.0, 0.0, 0.0, 0.0, 0.0, 0.0, 0.0, 0.0, 0.0, 0.0, 0.0], [0.16236740350723267, 0.028519175946712494, 0.0478430837392807, 0.041354816406965256, 0.040284883230924606, 0.05200536921620369, 0.042265068739652634, 0.03821168467402458, 0.05986880883574486, 0.06849399209022522, 0.047342799603939056, 0.019715171307325363, 0.06202227622270584, 0.04572192579507828, 0.24398356676101685, 0.0, 0.0, 0.0, 0.0, 0.0, 0.0, 0.0, 0.0, 0.0, 0.0, 0.0, 0.0, 0.0, 0.0, 0.0, 0.0, 0.0, 0.0], [0.1312893033027649, 0.039628103375434875, 0.059519413858652115, 0.039663225412368774, 0.04406356438994408, 0.043484970927238464, 0.03726547211408615, 0.032400358468294144, 0.03720574080944061, 0.06481602042913437, 0.040474534034729004, 0.025914238765835762, 0.06507598608732224, 0.03922512009739876, 0.07744194567203522, 0.22253204882144928, 0.0, 0.0, 0.0, 0.0, 0.0, 0.0, 0.0, 0.0, 0.0, 0.0, 0.0, 0.0, 0.0, 0.0, 0.0, 0.0, 0.0], [0.15813341736793518, 0.03911250829696655, 0.03856494650244713, 0.03587967902421951, 0.04187794029712677, 0.08161000162363052, 0.052458055317401886, 0.0681268647313118, 0.034448061138391495, 0.04342752322554588, 0.08275996148586273, 0.02933339774608612, 0.04157378524541855, 0.08478685468435287, 0.048815999180078506, 0.03235284239053726, 0.08673812448978424, 0.0, 0.0, 0.0, 0.0, 0.0, 0.0, 0.0, 0.0, 0.0, 0.0, 0.0, 0.0, 0.0, 0.0, 0.0, 0.0], [0.13890594244003296, 0.03169632703065872, 0.03251555189490318, 0.03538898751139641, 0.038000334054231644, 0.06974423676729202, 0.059424545615911484, 0.06768240034580231, 0.02784380502998829, 0.03905467316508293, 0.07273103296756744, 0.030109865590929985, 0.041630927473306656, 0.07565010339021683, 0.04018831625580788, 0.0274836216121912, 0.07795906811952591, 0.09399020671844482, 0.0, 0.0, 0.0, 0.0, 0.0, 0.0, 0.0, 0.0, 0.0, 0.0, 0.0, 0.0, 0.0, 0.0, 0.0], [0.0969129204750061, 0.030687307938933372, 0.03081795759499073, 0.044734321534633636, 0.04171941429376602, 0.03603677079081535, 0.04101703315973282, 0.03210475668311119, 0.04344061762094498, 0.048855531960725784, 0.034579016268253326, 0.01602509431540966, 0.04994165524840355, 0.034635279327631, 0.06065687537193298, 0.034977879375219345, 0.03454342484474182, 0.03782793506979942, 0.2504861652851105, 0.0, 0.0, 0.0, 0.0, 0.0, 0.0, 0.0, 0.0, 0.0, 0.0, 0.0, 0.0, 0.0, 0.0], [0.12059211730957031, 0.04121064394712448, 0.050985187292099, 0.052891507744789124, 0.02886129915714264, 0.04706199839711189, 0.02921283431351185, 0.03817000612616539, 0.021046478301286697, 0.029787806794047356, 0.04406721144914627, 0.026503337547183037, 0.041270025074481964, 0.044307369738817215, 0.03080154024064541, 0.04064902290701866, 0.044745102524757385, 0.04212244972586632, 0.02844228595495224, 0.19727171957492828, 0.0, 0.0, 0.0, 0.0, 0.0, 0.0, 0.0, 0.0, 0.0, 0.0, 0.0, 0.0, 0.0], [0.11388303339481354, 0.028255395591259003, 0.02835128828883171, 0.026958659291267395, 0.03131087124347687, 0.05977547541260719, 0.0391821525990963, 0.05072041228413582, 0.027684016153216362, 0.03556423634290695, 0.06452132761478424, 0.024267099797725677, 0.03616495057940483, 0.06838168948888779, 0.04139300808310509, 0.029094643890857697, 0.0723005011677742, 0.07349380105733871, 0.03700020909309387, 0.035286325961351395, 0.07641096413135529, 0.0, 0.0, 0.0, 0.0, 0.0, 0.0, 0.0, 0.0, 0.0, 0.0, 0.0, 0.0], [0.0845385268330574, 0.017416609451174736, 0.01894913800060749, 0.016560649499297142, 0.022296130657196045, 0.041740600019693375, 0.05894864723086357, 0.038933612406253815, 0.030214637517929077, 0.03464233875274658, 0.048319011926651, 0.016358427703380585, 0.02567455545067787, 0.053096745163202286, 0.020546525716781616, 0.020469829440116882, 0.05704640597105026, 0.06604909896850586, 0.03774645924568176, 0.021413881331682205, 0.06129930540919304, 0.20773887634277344, 0.0, 0.0, 0.0, 0.0, 0.0, 0.0, 0.0, 0.0, 0.0, 0.0, 0.0], [0.1124844029545784, 0.024394841864705086, 0.024523144587874413, 0.02748955599963665, 0.026104675605893135, 0.03731505945324898, 0.06748531013727188, 0.03890375792980194, 0.017981436103582382, 0.02845439501106739, 0.03756532073020935, 0.01832607015967369, 0.02008865773677826, 0.038651712238788605, 0.023285651579499245, 0.02422662079334259, 0.03960612043738365, 0.04833189398050308, 0.045000940561294556, 0.01736215129494667, 0.04009141027927399, 0.05208287388086319, 0.19024404883384705, 0.0, 0.0, 0.0, 0.0, 0.0, 0.0, 0.0, 0.0, 0.0, 0.0], [0.08183356374502182, 0.019828446209430695, 0.02687338925898075, 0.029252560809254646, 0.02518443576991558, 0.031927719712257385, 0.029049789533019066, 0.02497251145541668, 0.03350624814629555, 0.040074288845062256, 0.03351730853319168, 0.016035987064242363, 0.032044555991888046, 0.03448064252734184, 0.028517091646790504, 0.03532731160521507, 0.035832274705171585, 0.040583960711956024, 0.02994110994040966, 0.02109791897237301, 0.036713290959596634, 0.03921259194612503, 0.03543241322040558, 0.2387605905532837, 0.0, 0.0, 0.0, 0.0, 0.0, 0.0, 0.0, 0.0, 0.0], [0.1014569103717804, 0.014237046241760254, 0.016984175890684128, 0.018636561930179596, 0.028536250814795494, 0.0365380197763443, 0.029570510610938072, 0.041983213275671005, 0.014166041277348995, 0.03008139692246914, 0.04016640782356262, 0.02007502317428589, 0.030370118096470833, 0.043534401804208755, 0.030393024906516075, 0.020717350766062737, 0.0467711016535759, 0.054951030761003494, 0.02880917489528656, 0.020043693482875824, 0.050925444811582565, 0.04084467142820358, 0.04185800999403, 0.03848978132009506, 0.15986062586307526, 0.0, 0.0, 0.0, 0.0, 0.0, 0.0, 0.0, 0.0], [0.07937922328710556, 0.020674310624599457, 0.020799750462174416, 0.027988236397504807, 0.04565475136041641, 0.026562592014670372, 0.025396712124347687, 0.02124325931072235, 0.01776379719376564, 0.02520064078271389, 0.02757646143436432, 0.03060709312558174, 0.0343799963593483, 0.02856830321252346, 0.022726938128471375, 0.01605195365846157, 0.02971273846924305, 0.032761797308921814, 0.025702396407723427, 0.012878886424005032, 0.030626121908426285, 0.020369650796055794, 0.03741389140486717, 0.027850382030010223, 0.03571850433945656, 0.27639156579971313, 0.0, 0.0, 0.0, 0.0, 0.0, 0.0, 0.0], [0.09605433791875839, 0.02309289015829563, 0.024199655279517174, 0.024974137544631958, 0.03682965040206909, 0.030014393851161003, 0.02106921747326851, 0.018117522820830345, 0.022569257766008377, 0.02834322303533554, 0.030505135655403137, 0.021707680076360703, 0.028211791068315506, 0.03163941577076912, 0.03916612267494202, 0.036273662000894547, 0.03311571106314659, 0.035143956542015076, 0.025745244696736336, 0.015889011323451996, 0.034675464034080505, 0.026770077645778656, 0.027143444865942, 0.0404508076608181, 0.037603847682476044, 0.03232336789369583, 0.17837105691432953, 0.0, 0.0, 0.0, 0.0, 0.0, 0.0], [0.07476937025785446, 0.011021518148481846, 0.010706557892262936, 0.0153254559263587, 0.019903572276234627, 0.03285866230726242, 0.021936073899269104, 0.029454153031110764, 0.016421504318714142, 0.022476596757769585, 0.03722342476248741, 0.017580240964889526, 0.021954145282506943, 0.04046214371919632, 0.0314154215157032, 0.010417776182293892, 0.04429737851023674, 0.051181260496377945, 0.029565555974841118, 0.015394331887364388, 0.0490642786026001, 0.03202194720506668, 0.030905108898878098, 0.04132053628563881, 0.06578273326158524, 0.03978404402732849, 0.020499693229794502, 0.16625656187534332, 0.0, 0.0, 0.0, 0.0, 0.0], [0.051242027431726456, 0.011390027590095997, 0.02026580274105072, 0.02452963776886463, 0.1273244023323059, 0.02008391171693802, 0.017692742869257927, 0.0203819889575243, 0.018548613414168358, 0.023206062614917755, 0.021026071161031723, 0.02052123472094536, 0.025210727006196976, 0.02199424058198929, 0.017190461978316307, 0.02080591209232807, 0.023035308346152306, 0.026458045467734337, 0.03108612820506096, 0.011454470455646515, 0.0243579912930727, 0.022524960339069366, 0.024600770324468613, 0.02458801120519638, 0.02838081866502762, 0.046606115996837616, 0.043627068400382996, 0.020300472155213356, 0.2115659862756729, 0.0, 0.0, 0.0, 0.0], [0.07929292321205139, 0.02353738248348236, 0.022847283631563187, 0.01993604190647602, 0.015462879091501236, 0.025110295042395592, 0.021429048851132393, 0.015073493123054504, 0.009924099780619144, 0.015724752098321915, 0.02718871273100376, 0.020747292786836624, 0.03497635945677757, 0.029102331027388573, 0.021219033747911453, 0.01814761385321617, 0.031058188527822495, 0.03380948677659035, 0.020137563347816467, 0.012323125265538692, 0.0336926206946373, 0.02433612570166588, 0.031084517017006874, 0.03377702832221985, 0.04355441778898239, 0.03296352177858353, 0.03314927592873573, 0.025364913046360016, 0.022163676097989082, 0.2228660136461258, 0.0, 0.0, 0.0], [0.10059652477502823, 0.030963750556111336, 0.025578506290912628, 0.020224066451191902, 0.02713298611342907, 0.0294907595962286, 0.040744829922914505, 0.021403616294264793, 0.016392605379223824, 0.022520706057548523, 0.027555180713534355, 0.013599206693470478, 0.027306703850626945, 0.02780657634139061, 0.011214182712137699, 0.023586537688970566, 0.028399180620908737, 0.03066890873014927, 0.0216642115265131, 0.017032327130436897, 0.02905159816145897, 0.0265499297529459, 0.03297554701566696, 0.026790330186486244, 0.032060638070106506, 0.027298329398036003, 0.017307180911302567, 0.018768833950161934, 0.028226524591445923, 0.01708512008190155, 0.18000467121601105, 0.0, 0.0], [0.08361606299877167, 0.01658189296722412, 0.01582329347729683, 0.02200516127049923, 0.02406255528330803, 0.0210283026099205, 0.022811284288764, 0.014412390999495983, 0.015572086907923222, 0.015104834921658039, 0.020917730405926704, 0.02179817110300064, 0.02598598413169384, 0.02201320044696331, 0.022025054320693016, 0.018091218546032906, 0.023115107789635658, 0.025451796129345894, 0.025943517684936523, 0.01124188955873251, 0.024466168135404587, 0.022869903594255447, 0.031613435596227646, 0.029542673379182816, 0.02381790243089199, 0.029349016025662422, 0.025922637432813644, 0.017268186435103416, 0.031844593584537506, 0.012037732638418674, 0.027524927631020546, 0.2561412751674652, 0.0], [0.05258439481258392, 0.012508374638855457, 0.012737673707306385, 0.012144195847213268, 0.014467823319137096, 0.02481243945658207, 0.017109142616391182, 0.025162560865283012, 0.016298960894346237, 0.015160087496042252, 0.0298200324177742, 0.014290276914834976, 0.02409479394555092, 0.033742766827344894, 0.02163226157426834, 0.018924102187156677, 0.03819216042757034, 0.04115181416273117, 0.024165770038962364, 0.020635634660720825, 0.0441853292286396, 0.037937089800834656, 0.029636338353157043, 0.03152840957045555, 0.04542306810617447, 0.03596360236406326, 0.030482526868581772, 0.04609917104244232, 0.03206764906644821, 0.01766294054687023, 0.031696002930402756, 0.044629111886024475, 0.10305342078208923]], [[1.0, 0.0, 0.0, 0.0, 0.0, 0.0, 0.0, 0.0, 0.0, 0.0, 0.0, 0.0, 0.0, 0.0, 0.0, 0.0, 0.0, 0.0, 0.0, 0.0, 0.0, 0.0, 0.0, 0.0, 0.0, 0.0, 0.0, 0.0, 0.0, 0.0, 0.0, 0.0, 0.0], [0.7707713842391968, 0.22922863066196442, 0.0, 0.0, 0.0, 0.0, 0.0, 0.0, 0.0, 0.0, 0.0, 0.0, 0.0, 0.0, 0.0, 0.0, 0.0, 0.0, 0.0, 0.0, 0.0, 0.0, 0.0, 0.0, 0.0, 0.0, 0.0, 0.0, 0.0, 0.0, 0.0, 0.0, 0.0], [0.7813623547554016, 0.10978531092405319, 0.108852319419384, 0.0, 0.0, 0.0, 0.0, 0.0, 0.0, 0.0, 0.0, 0.0, 0.0, 0.0, 0.0, 0.0, 0.0, 0.0, 0.0, 0.0, 0.0, 0.0, 0.0, 0.0, 0.0, 0.0, 0.0, 0.0, 0.0, 0.0, 0.0, 0.0, 0.0], [0.535038948059082, 0.11194945126771927, 0.15013691782951355, 0.20287469029426575, 0.0, 0.0, 0.0, 0.0, 0.0, 0.0, 0.0, 0.0, 0.0, 0.0, 0.0, 0.0, 0.0, 0.0, 0.0, 0.0, 0.0, 0.0, 0.0, 0.0, 0.0, 0.0, 0.0, 0.0, 0.0, 0.0, 0.0, 0.0, 0.0], [0.4180358052253723, 0.1603638380765915, 0.10740307718515396, 0.10625776648521423, 0.20793946087360382, 0.0, 0.0, 0.0, 0.0, 0.0, 0.0, 0.0, 0.0, 0.0, 0.0, 0.0, 0.0, 0.0, 0.0, 0.0, 0.0, 0.0, 0.0, 0.0, 0.0, 0.0, 0.0, 0.0, 0.0, 0.0, 0.0, 0.0, 0.0], [0.4349866509437561, 0.09579858183860779, 0.08251801133155823, 0.10028506815433502, 0.15332913398742676, 0.13308259844779968, 0.0, 0.0, 0.0, 0.0, 0.0, 0.0, 0.0, 0.0, 0.0, 0.0, 0.0, 0.0, 0.0, 0.0, 0.0, 0.0, 0.0, 0.0, 0.0, 0.0, 0.0, 0.0, 0.0, 0.0, 0.0, 0.0, 0.0], [0.44621360301971436, 0.05624214559793472, 0.05040300637483597, 0.0708429366350174, 0.0936090424656868, 0.114726223051548, 0.16796305775642395, 0.0, 0.0, 0.0, 0.0, 0.0, 0.0, 0.0, 0.0, 0.0, 0.0, 0.0, 0.0, 0.0, 0.0, 0.0, 0.0, 0.0, 0.0, 0.0, 0.0, 0.0, 0.0, 0.0, 0.0, 0.0, 0.0], [0.36091944575309753, 0.07294467836618423, 0.05191008001565933, 0.07159049063920975, 0.09321668744087219, 0.09543665498495102, 0.14539916813373566, 0.10858273506164551, 0.0, 0.0, 0.0, 0.0, 0.0, 0.0, 0.0, 0.0, 0.0, 0.0, 0.0, 0.0, 0.0, 0.0, 0.0, 0.0, 0.0, 0.0, 0.0, 0.0, 0.0, 0.0, 0.0, 0.0, 0.0], [0.31714069843292236, 0.07683130353689194, 0.05552283301949501, 0.06445366144180298, 0.08586593717336655, 0.10643260180950165, 0.14521127939224243, 0.09439338743686676, 0.05414833873510361, 0.0, 0.0, 0.0, 0.0, 0.0, 0.0, 0.0, 0.0, 0.0, 0.0, 0.0, 0.0, 0.0, 0.0, 0.0, 0.0, 0.0, 0.0, 0.0, 0.0, 0.0, 0.0, 0.0, 0.0], [0.19288603961467743, 0.11343876272439957, 0.04530506581068039, 0.08361201733350754, 0.057632721960544586, 0.11914197355508804, 0.11441228538751602, 0.12364519387483597, 0.07640960067510605, 0.07351641356945038, 0.0, 0.0, 0.0, 0.0, 0.0, 0.0, 0.0, 0.0, 0.0, 0.0, 0.0, 0.0, 0.0, 0.0, 0.0, 0.0, 0.0, 0.0, 0.0, 0.0, 0.0, 0.0, 0.0], [0.25174087285995483, 0.06019412726163864, 0.0493021085858345, 0.0592232346534729, 0.08453338593244553, 0.07307685166597366, 0.12308559566736221, 0.08293969184160233, 0.06380272656679153, 0.07185833901166916, 0.08024310320615768, 0.0, 0.0, 0.0, 0.0, 0.0, 0.0, 0.0, 0.0, 0.0, 0.0, 0.0, 0.0, 0.0, 0.0, 0.0, 0.0, 0.0, 0.0, 0.0, 0.0, 0.0, 0.0], [0.24793605506420135, 0.048557739704847336, 0.061716921627521515, 0.06616785377264023, 0.08788600564002991, 0.05920385196805, 0.09128589183092117, 0.06866814941167831, 0.060628652572631836, 0.08399351686239243, 0.06569414585828781, 0.058261193335056305, 0.0, 0.0, 0.0, 0.0, 0.0, 0.0, 0.0, 0.0, 0.0, 0.0, 0.0, 0.0, 0.0, 0.0, 0.0, 0.0, 0.0, 0.0, 0.0, 0.0, 0.0], [0.15039600431919098, 0.0707230269908905, 0.0361880287528038, 0.03812883794307709, 0.05496576055884361, 0.09552799165248871, 0.1278020143508911, 0.09101749956607819, 0.041339464485645294, 0.06619424372911453, 0.11493086069822311, 0.035268161445856094, 0.07751806080341339, 0.0, 0.0, 0.0, 0.0, 0.0, 0.0, 0.0, 0.0, 0.0, 0.0, 0.0, 0.0, 0.0, 0.0, 0.0, 0.0, 0.0, 0.0, 0.0, 0.0], [0.21730749309062958, 0.052248772233724594, 0.042796891182661057, 0.05130993574857712, 0.07021071016788483, 0.06084863469004631, 0.10094167292118073, 0.06729138642549515, 0.05347269028425217, 0.05803241953253746, 0.06386599689722061, 0.041436817497015, 0.05429813638329506, 0.06593841314315796, 0.0, 0.0, 0.0, 0.0, 0.0, 0.0, 0.0, 0.0, 0.0, 0.0, 0.0, 0.0, 0.0, 0.0, 0.0, 0.0, 0.0, 0.0, 0.0], [0.14158986508846283, 0.08735614269971848, 0.041096288710832596, 0.07771319895982742, 0.0664159283041954, 0.06084614619612694, 0.07890868186950684, 0.06467181444168091, 0.041567541658878326, 0.05314023792743683, 0.06033193692564964, 0.04990346357226372, 0.06147690862417221, 0.06152055785059929, 0.05346131697297096, 0.0, 0.0, 0.0, 0.0, 0.0, 0.0, 0.0, 0.0, 0.0, 0.0, 0.0, 0.0, 0.0, 0.0, 0.0, 0.0, 0.0, 0.0], [0.11277392506599426, 0.051402729004621506, 0.034800734370946884, 0.044109925627708435, 0.049271028488874435, 0.08066024631261826, 0.09371132403612137, 0.07634279876947403, 0.03460072726011276, 0.0555649995803833, 0.09000371396541595, 0.027950910851359367, 0.05808687210083008, 0.09759877622127533, 0.058530546724796295, 0.03459078073501587, 0.0, 0.0, 0.0, 0.0, 0.0, 0.0, 0.0, 0.0, 0.0, 0.0, 0.0, 0.0, 0.0, 0.0, 0.0, 0.0, 0.0], [0.19136790931224823, 0.0458880178630352, 0.0371842123568058, 0.044788483530282974, 0.05845542252063751, 0.051623132079839706, 0.08451797068119049, 0.056617312133312225, 0.04477923735976219, 0.04681586101651192, 0.05177519842982292, 0.034743089228868484, 0.043655943125486374, 0.05257752537727356, 0.045719098299741745, 0.055239398032426834, 0.05425224080681801, 0.0, 0.0, 0.0, 0.0, 0.0, 0.0, 0.0, 0.0, 0.0, 0.0, 0.0, 0.0, 0.0, 0.0, 0.0, 0.0], [0.1780986338853836, 0.03651317209005356, 0.03537802770733833, 0.046600598841905594, 0.056067485362291336, 0.05542532727122307, 0.06580900400876999, 0.05869591608643532, 0.04460209980607033, 0.03845333307981491, 0.05522070452570915, 0.02812928520143032, 0.03887631371617317, 0.05635209381580353, 0.043072037398815155, 0.04859214276075363, 0.05801299959421158, 0.056100841611623764, 0.0, 0.0, 0.0, 0.0, 0.0, 0.0, 0.0, 0.0, 0.0, 0.0, 0.0, 0.0, 0.0, 0.0, 0.0], [0.11277122795581818, 0.04416342452168465, 0.016790851950645447, 0.03922898694872856, 0.03057023510336876, 0.08429384976625443, 0.058298319578170776, 0.07985574007034302, 0.027740221470594406, 0.024607930332422256, 0.08568023890256882, 0.012135535478591919, 0.02122362144291401, 0.08979954570531845, 0.024395635351538658, 0.018000096082687378, 0.0979786291718483, 0.08564858138561249, 0.04681731015443802, 0.0, 0.0, 0.0, 0.0, 0.0, 0.0, 0.0, 0.0, 0.0, 0.0, 0.0, 0.0, 0.0, 0.0], [0.15648676455020905, 0.04359336569905281, 0.029469136148691177, 0.02338278293609619, 0.03989396616816521, 0.06601445376873016, 0.07239894568920135, 0.04959879070520401, 0.025720087811350822, 0.028729891404509544, 0.07268746197223663, 0.020104369148612022, 0.03894994407892227, 0.07793484628200531, 0.031850170344114304, 0.02957262098789215, 0.08162926137447357, 0.049830302596092224, 0.0475708432495594, 0.014582023955881596, 0.0, 0.0, 0.0, 0.0, 0.0, 0.0, 0.0, 0.0, 0.0, 0.0, 0.0, 0.0, 0.0], [0.16675157845020294, 0.04021676629781723, 0.031946275383234024, 0.039155542850494385, 0.048679761588573456, 0.043519362807273865, 0.07027733325958252, 0.04676980897784233, 0.037370480597019196, 0.03785950317978859, 0.041853491216897964, 0.02943878248333931, 0.03496701642870903, 0.04187151417136192, 0.0366595983505249, 0.04418950155377388, 0.042447008192539215, 0.04309000074863434, 0.05540825054049492, 0.02402997948229313, 0.04349849000573158, 0.0, 0.0, 0.0, 0.0, 0.0, 0.0, 0.0, 0.0, 0.0, 0.0, 0.0, 0.0], [0.21311701834201813, 0.034521475434303284, 0.02651202864944935, 0.03728467598557472, 0.04200232774019241, 0.05378076061606407, 0.06410719454288483, 0.04019589722156525, 0.029513956978917122, 0.030562056228518486, 0.048140473663806915, 0.01964574307203293, 0.02385597489774227, 0.04712359607219696, 0.027805235236883163, 0.025632813572883606, 0.046903207898139954, 0.04211502522230148, 0.04245338216423988, 0.016209982335567474, 0.04720153287053108, 0.04131559282541275, 0.0, 0.0, 0.0, 0.0, 0.0, 0.0, 0.0, 0.0, 0.0, 0.0, 0.0], [0.16099104285240173, 0.031492143869400024, 0.025506000965833664, 0.032036297023296356, 0.0381193645298481, 0.05386466532945633, 0.052891988307237625, 0.06297367066144943, 0.03872941806912422, 0.030703002586960793, 0.0486149825155735, 0.01696413941681385, 0.02098487876355648, 0.04743489995598793, 0.02617855742573738, 0.0328170470893383, 0.04874099791049957, 0.03702306002378464, 0.05028443783521652, 0.014425941742956638, 0.049269214272499084, 0.027485143393278122, 0.052469100803136826, 0.0, 0.0, 0.0, 0.0, 0.0, 0.0, 0.0, 0.0, 0.0, 0.0], [0.13924191892147064, 0.04732196778059006, 0.022920073941349983, 0.03782673552632332, 0.037331581115722656, 0.05628196895122528, 0.06773106753826141, 0.06383746862411499, 0.028824565932154655, 0.02836861088871956, 0.05008404329419136, 0.014775178395211697, 0.021058904007077217, 0.04819711670279503, 0.017685120925307274, 0.01545623317360878, 0.04842796549201012, 0.037099551409482956, 0.04247324913740158, 0.018426816910505295, 0.04861330986022949, 0.022673964500427246, 0.05998958647251129, 0.02535296231508255, 0.0, 0.0, 0.0, 0.0, 0.0, 0.0, 0.0, 0.0, 0.0], [0.1956234872341156, 0.03233327716588974, 0.022874092683196068, 0.03839077800512314, 0.03449878469109535, 0.046169061213731766, 0.05553748831152916, 0.03960667550563812, 0.02309839054942131, 0.024249287322163582, 0.04043303802609444, 0.01607854664325714, 0.02162494696676731, 0.03903055936098099, 0.026520879939198494, 0.02811344712972641, 0.038236308842897415, 0.03542613610625267, 0.041745733469724655, 0.02109713852405548, 0.03767954185605049, 0.03728692978620529, 0.04423922672867775, 0.022921517491340637, 0.037184685468673706, 0.0, 0.0, 0.0, 0.0, 0.0, 0.0, 0.0, 0.0], [0.05819651484489441, 0.03889740630984306, 0.02600523643195629, 0.02356790006160736, 0.022979989647865295, 0.053841523826122284, 0.058061063289642334, 0.06858770549297333, 0.037459831684827805, 0.02915908955037594, 0.054746732115745544, 0.013592952862381935, 0.02764705941081047, 0.05575402081012726, 0.030779870226979256, 0.016137363389134407, 0.05745426192879677, 0.03968728333711624, 0.03406554460525513, 0.013110981322824955, 0.059776559472084045, 0.01604376547038555, 0.02969931811094284, 0.02056654542684555, 0.08347290009260178, 0.03070860728621483, 0.0, 0.0, 0.0, 0.0, 0.0, 0.0, 0.0], [0.15561479330062866, 0.03032318875193596, 0.021067572757601738, 0.03860042244195938, 0.02508924901485443, 0.04719521477818489, 0.04255647957324982, 0.05166258662939072, 0.03036811761558056, 0.020133627578616142, 0.042556945234537125, 0.018511779606342316, 0.01867171749472618, 0.041430290788412094, 0.022022128105163574, 0.02106103114783764, 0.041666179895401, 0.027249222621321678, 0.04048159718513489, 0.015536428429186344, 0.042196210473775864, 0.017007360234856606, 0.062209486961364746, 0.01570316031575203, 0.05443187430500984, 0.040924083441495895, 0.015729235485196114, 0.0, 0.0, 0.0, 0.0, 0.0, 0.0], [0.15218868851661682, 0.032320477068424225, 0.026277614757418633, 0.032151371240615845, 0.0370805449783802, 0.03843333572149277, 0.0421852208673954, 0.03440920263528824, 0.029296178370714188, 0.024752266705036163, 0.034612301737070084, 0.021795082837343216, 0.023419678211212158, 0.03386644273996353, 0.02858060970902443, 0.03440327197313309, 0.03315696120262146, 0.026710407808423042, 0.042135655879974365, 0.01902136392891407, 0.032785799354314804, 0.026840006932616234, 0.03304456174373627, 0.023302646353840828, 0.03390034660696983, 0.039449237287044525, 0.021334243938326836, 0.04254645109176636, 0.0, 0.0, 0.0, 0.0, 0.0], [0.10210391879081726, 0.04830534756183624, 0.02795790694653988, 0.028134865686297417, 0.04368893429636955, 0.03765961900353432, 0.04012181982398033, 0.03589581325650215, 0.02449178695678711, 0.019768040627241135, 0.034674081951379776, 0.015431459061801434, 0.03261655941605568, 0.034143391996622086, 0.027461368590593338, 0.02032320946455002, 0.03445841372013092, 0.015827573835849762, 0.030705822631716728, 0.020360931754112244, 0.035580433905124664, 0.03479029983282089, 0.03518149256706238, 0.028572602197527885, 0.04333386942744255, 0.03896389156579971, 0.017587676644325256, 0.04553378373384476, 0.04632510617375374, 0.0, 0.0, 0.0, 0.0], [0.11841738224029541, 0.026689793914556503, 0.02854764461517334, 0.03516456484794617, 0.03519093990325928, 0.030704868957400322, 0.04254687950015068, 0.02310350351035595, 0.025463104248046875, 0.02967854216694832, 0.028395211324095726, 0.019178254529833794, 0.02383357658982277, 0.027640024200081825, 0.03381751850247383, 0.0396401546895504, 0.02757442742586136, 0.02185617759823799, 0.03966764360666275, 0.03941835090517998, 0.027115624397993088, 0.030498076230287552, 0.03493283689022064, 0.0323205403983593, 0.02784055471420288, 0.03877577185630798, 0.021124789491295815, 0.03861144930124283, 0.03277181088924408, 0.01947997510433197, 0.0, 0.0, 0.0], [0.05433790013194084, 0.019247833639383316, 0.011686453595757484, 0.01411860529333353, 0.013909772038459778, 0.05736805126070976, 0.0345463752746582, 0.046650588512420654, 0.013026444241404533, 0.01327128428965807, 0.05952772498130798, 0.009063138626515865, 0.01736420765519142, 0.06135564669966698, 0.012634645216166973, 0.015145531855523586, 0.06425532698631287, 0.04627062752842903, 0.019556356593966484, 0.012543469667434692, 0.06913558393716812, 0.03482368215918541, 0.03000594861805439, 0.012261821888387203, 0.07985594123601913, 0.018996428698301315, 0.010722925886511803, 0.0865454375743866, 0.017174094915390015, 0.022144151851534843, 0.022453969344496727, 0.0, 0.0], [0.05849643424153328, 0.03437738120555878, 0.01360310334712267, 0.02417043223977089, 0.01900586485862732, 0.0654640719294548, 0.03062296099960804, 0.035732053220272064, 0.01885945163667202, 0.0122414855286479, 0.06282184273004532, 0.011835744604468346, 0.009552357718348503, 0.06431794911623001, 0.021589569747447968, 0.010912968777120113, 0.0666591078042984, 0.023997467011213303, 0.026596752926707268, 0.006153565365821123, 0.06984328478574753, 0.0372387059032917, 0.030046716332435608, 0.021686822175979614, 0.043640609830617905, 0.021209614351391792, 0.013490457087755203, 0.04632722586393356, 0.020434504374861717, 0.013362257741391659, 0.018568992614746094, 0.047140251845121384, 0.0], [0.1352868676185608, 0.029733378440141678, 0.026111328974366188, 0.037535764276981354, 0.0388815738260746, 0.033166784793138504, 0.04824388027191162, 0.030468298122286797, 0.02603820338845253, 0.024123694747686386, 0.027892740443348885, 0.02270994521677494, 0.024185284972190857, 0.026114553213119507, 0.023209672421216965, 0.025175295770168304, 0.024614792317152023, 0.02112315595149994, 0.029685042798519135, 0.018167482689023018, 0.02306438982486725, 0.020598087459802628, 0.03441140800714493, 0.021083397790789604, 0.02253882959485054, 0.032281555235385895, 0.013987255282700062, 0.024144938215613365, 0.02700231224298477, 0.012929441407322884, 0.03616536781191826, 0.02684023045003414, 0.03248502314090729]]]}\n",
       "    )\n",
       "    </script>"
      ],
      "text/plain": [
       "<circuitsvis.utils.render.RenderedHTML at 0x1f5286834a0>"
      ]
     },
     "execution_count": 16,
     "metadata": {},
     "output_type": "execute_result"
    }
   ],
   "source": [
    "print(\"Layer 0 Head Attention Patterns:\")\n",
    "cv.attention.attention_patterns(tokens=gpt2_str_tokens, attention=attention_pattern)"
   ]
  },
  {
   "cell_type": "markdown",
   "metadata": {
    "id": "5JMZs6UJlmmJ"
   },
   "source": [
    "## Hooks: Intervening on Activations"
   ]
  },
  {
   "cell_type": "markdown",
   "metadata": {
    "id": "d12oK6uTlmmJ"
   },
   "source": [
    "One of the great things about interpreting neural networks is that we have *full control* over our system. From a computational perspective, we know exactly what operations are going on inside (even if we don't know what they mean!). And we can make precise, surgical edits and see how the model's behaviour and other internals change. This is an extremely powerful tool, because it can let us eg set up careful counterfactuals and causal intervention to easily understand model behaviour.\n",
    "\n",
    "Accordingly, being able to do this is a pretty core operation, and this is one of the main things TransformerLens supports! The key feature here is **hook points**. Every activation inside the transformer is surrounded by a hook point, which allows us to edit or intervene on it.\n",
    "\n",
    "We do this by adding a **hook function** to that activation. The hook function maps `current_activation_value, hook_point` to `new_activation_value`. As the model is run, it computes that activation as normal, and then the hook function is applied to compute a replacement, and that is substituted in for the activation. The hook function can be an arbitrary Python function, so long as it returns a tensor of the correct shape.\n",
    "\n",
    "<details><summary>Relationship to PyTorch hooks</summary>\n",
    "\n",
    "[PyTorch hooks](https://blog.paperspace.com/pytorch-hooks-gradient-clipping-debugging/) are a great and underrated, yet incredibly janky, feature. They can act on a layer, and edit the input or output of that layer, or the gradient when applying autodiff. The key difference is that **Hook points** act on *activations* not layers. This means that you can intervene within a layer on each activation, and don't need to care about the precise layer structure of the transformer. And it's immediately clear exactly how the hook's effect is applied. This adjustment was shamelessly inspired by [Garcon's use of ProbePoints](https://transformer-circuits.pub/2021/garcon/index.html).\n",
    "\n",
    "They also come with a range of other quality of life improvements, like the model having a `model.reset_hooks()` method to remove all hooks, or helper methods to temporarily add hooks for a single forward pass - it is *incredibly* easy to shoot yourself in the foot with standard PyTorch hooks!\n",
    "</details>"
   ]
  },
  {
   "cell_type": "markdown",
   "metadata": {
    "id": "5OCneeFrlmmJ"
   },
   "source": [
    "As a basic example, let's [ablate](https://dynalist.io/d/n2ZWtnoYHrU1s4vnFSAQ519J#z=fh-HJyz1CgUVrXuoiban6bYx) head 7 in layer 0 on the text above.\n",
    "\n",
    "We define a `head_ablation_hook` function. This takes the value tensor for attention layer 0, and sets the component with `head_index==7` to zero and returns it (Note - we return by convention, but since we're editing the activation in-place, we don't strictly *need* to).\n",
    "\n",
    "We then use the `run_with_hooks` helper function to run the model and *temporarily* add in the hook for just this run. We enter in the hook as a tuple of the activation name (also the hook point name - found with `utils.get_act_name`) and the hook function."
   ]
  },
  {
   "cell_type": "code",
   "execution_count": 17,
   "metadata": {
    "ExecuteTime": {
     "end_time": "2025-02-22T09:41:45.765836Z",
     "start_time": "2025-02-22T09:41:45.705608Z"
    },
    "colab": {
     "base_uri": "https://localhost:8080/"
    },
    "id": "91cWly9hlmmJ",
    "outputId": "788691d0-f8d4-471e-b62f-cac191fe83d5"
   },
   "outputs": [
    {
     "name": "stdout",
     "output_type": "stream",
     "text": [
      "Shape of the value tensor: torch.Size([1, 33, 12, 64])\n",
      "Original Loss: 3.999\n",
      "Ablated Loss: 5.453\n"
     ]
    }
   ],
   "source": [
    "layer_to_ablate = 0\n",
    "head_index_to_ablate = 8\n",
    "\n",
    "# We define a head ablation hook\n",
    "# The type annotations are NOT necessary, they're just a useful guide to the reader\n",
    "#\n",
    "def head_ablation_hook(\n",
    "    value: Float[torch.Tensor, \"batch pos head_index d_head\"],\n",
    "    hook: HookPoint\n",
    ") -> Float[torch.Tensor, \"batch pos head_index d_head\"]:\n",
    "    print(f\"Shape of the value tensor: {value.shape}\")\n",
    "    value[:, :, head_index_to_ablate, :] = 0.\n",
    "    return value\n",
    "\n",
    "original_loss = model(gpt2_tokens, return_type=\"loss\")\n",
    "ablated_loss = model.run_with_hooks(\n",
    "    gpt2_tokens,\n",
    "    return_type=\"loss\",\n",
    "    fwd_hooks=[(\n",
    "        utils.get_act_name(\"v\", layer_to_ablate),\n",
    "        head_ablation_hook\n",
    "        )]\n",
    "    )\n",
    "print(f\"Original Loss: {original_loss.item():.3f}\")\n",
    "print(f\"Ablated Loss: {ablated_loss.item():.3f}\")"
   ]
  },
  {
   "cell_type": "markdown",
   "metadata": {
    "id": "0eWL1Y4blmmJ"
   },
   "source": [
    "**Gotcha:** Hooks are global state - they're added in as part of the model, and stay there until removed. `run_with_hooks` tries to create an abstraction where these are local state, by removing all hooks at the end of the function. But you can easily shoot yourself in the foot if there's, eg, an error in one of your hooks so the function never finishes. If you start getting bugs, try `model.reset_hooks()` to clean things up. Further, if you *do* add hooks of your own that you want to keep, which you can do with `add_perma_hook` on the relevant HookPoint"
   ]
  },
  {
   "cell_type": "markdown",
   "metadata": {
    "id": "BrQVzIb2lmmK"
   },
   "source": [
    "### Activation Patching on the Indirect Object Identification Task"
   ]
  },
  {
   "cell_type": "markdown",
   "metadata": {
    "id": "DifNsa2ZlmmK"
   },
   "source": [
    "For a somewhat more involved example, let's use hooks to apply **[activation patching](https://dynalist.io/d/n2ZWtnoYHrU1s4vnFSAQ519J#z=qeWBvs-R-taFfcCq-S_hgMqx)** on the **[Indirect Object Identification](https://dynalist.io/d/n2ZWtnoYHrU1s4vnFSAQ519J#z=iWsV3s5Kdd2ca3zNgXr5UPHa)** (IOI) task.\n",
    "\n",
    "The IOI task is the task of identifying that a sentence like \"After John and Mary went to the store, Mary gave a bottle of milk to\" continues with \" John\" rather than \" Mary\" (ie, finding the indirect object), and Redwood Research have [an excellent paper studying the underlying circuit in GPT-2 Small](https://arxiv.org/abs/2211.00593).\n",
    "\n",
    "**[Activation patching](https://dynalist.io/d/n2ZWtnoYHrU1s4vnFSAQ519J#z=qeWBvs-R-taFfcCq-S_hgMqx)** is a technique from [Kevin Meng and David Bau's excellent ROME paper](https://rome.baulab.info/). The goal is to identify which model activations are important for completing a task. We do this by setting up a **clean prompt** and a **corrupted prompt** and a **metric** for performance on the task. We then pick a specific model activation, run the model on the corrupted prompt, but then *intervene* on that activation and patch in its value when run on the clean prompt. We then apply the metric, and see how much this patch has recovered the clean performance.\n",
    "(See [a more detailed demonstration of activation patching here](https://colab.research.google.com/github/TransformerLensOrg/TransformerLens/blob/main/demos/Exploratory_Analysis_Demo.ipynb))"
   ]
  },
  {
   "cell_type": "markdown",
   "metadata": {
    "id": "DPvVVXWhlmmK"
   },
   "source": [
    "Here, our clean prompt is \"After John and Mary went to the store, **Mary** gave a bottle of milk to\", our corrupted prompt is \"After John and Mary went to the store, **John** gave a bottle of milk to\", and our metric is the difference between the correct logit ( John) and the incorrect logit ( Mary) on the final token.\n",
    "\n",
    "We see that the logit difference is significantly positive on the clean prompt, and significantly negative on the corrupted prompt, showing that the model is capable of doing the task!"
   ]
  },
  {
   "cell_type": "code",
   "execution_count": 18,
   "metadata": {
    "ExecuteTime": {
     "end_time": "2025-02-22T09:41:45.920314Z",
     "start_time": "2025-02-22T09:41:45.832714Z"
    },
    "colab": {
     "base_uri": "https://localhost:8080/"
    },
    "id": "8jDrifSQlmmK",
    "outputId": "b6ceb280-c700-4f32-e39f-07e110064968"
   },
   "outputs": [
    {
     "name": "stdout",
     "output_type": "stream",
     "text": [
      "Clean logit difference: 4.276\n",
      "Corrupted logit difference: -2.738\n"
     ]
    }
   ],
   "source": [
    "clean_prompt = \"After John and Mary went to the store, Mary gave a bottle of milk to\"\n",
    "corrupted_prompt = \"After John and Mary went to the store, John gave a bottle of milk to\"\n",
    "\n",
    "clean_tokens = model.to_tokens(clean_prompt)\n",
    "corrupted_tokens = model.to_tokens(corrupted_prompt)\n",
    "\n",
    "def logits_to_logit_diff(logits, correct_answer=\" John\", incorrect_answer=\" Mary\"):\n",
    "    # model.to_single_token maps a string value of a single token to the token index for that token\n",
    "    # If the string is not a single token, it raises an error.\n",
    "    correct_index = model.to_single_token(correct_answer)\n",
    "    incorrect_index = model.to_single_token(incorrect_answer)\n",
    "    return logits[0, -1, correct_index] - logits[0, -1, incorrect_index]\n",
    "\n",
    "# We run on the clean prompt with the cache so we store activations to patch in later.\n",
    "clean_logits, clean_cache = model.run_with_cache(clean_tokens)\n",
    "clean_logit_diff = logits_to_logit_diff(clean_logits)\n",
    "print(f\"Clean logit difference: {clean_logit_diff.item():.3f}\")\n",
    "\n",
    "# We don't need to cache on the corrupted prompt.\n",
    "corrupted_logits = model(corrupted_tokens)\n",
    "corrupted_logit_diff = logits_to_logit_diff(corrupted_logits)\n",
    "print(f\"Corrupted logit difference: {corrupted_logit_diff.item():.3f}\")"
   ]
  },
  {
   "cell_type": "markdown",
   "metadata": {
    "id": "DkuSdMSvlmmK"
   },
   "source": [
    "We now setup the hook function to do activation patching. Here, we'll patch in the [residual stream](https://dynalist.io/d/n2ZWtnoYHrU1s4vnFSAQ519J#z=DHp9vZ0h9lA9OCrzG2Y3rrzH) at the start of a specific layer and at a specific position. This will let us see how much the model is using the residual stream at that layer and position to represent the key information for the task.\n",
    "\n",
    "We want to iterate over all layers and positions, so we write the hook to take in an position parameter. Hook functions must have the input signature (activation, hook), but we can use `functools.partial` to set the position parameter before passing it to `run_with_hooks`"
   ]
  },
  {
   "cell_type": "code",
   "execution_count": 19,
   "metadata": {
    "ExecuteTime": {
     "end_time": "2025-02-22T09:41:49.882121Z",
     "start_time": "2025-02-22T09:41:45.925324Z"
    },
    "colab": {
     "base_uri": "https://localhost:8080/",
     "height": 49,
     "referenced_widgets": [
      "ae74b77b83d149f0b46033f1cc5eaa97",
      "7c63e41b1ef14c789beb725e045e852a",
      "4ab82f287c5e479fbf825b5ff651ad97",
      "9496761fd55d4579a3c495289893625f",
      "16872704fb7e4ba285de5dd120d5e552",
      "8bb1a793652b4b31a81c77a97b6570bc",
      "679cab2086d949379746c26e48e4a237",
      "f3bdb76ef85e474abef6679bdebdc81b",
      "518c7ece07274a5ba594cdb9c18b8593",
      "71e59caa2a04484c92e020051d0c2be8",
      "97dc64da3ba5498d81710283b460fe69"
     ]
    },
    "id": "UmitfZJVlmmK",
    "outputId": "bfc105a0-5941-4035-a1b8-6756f71cf60a"
   },
   "outputs": [
    {
     "data": {
      "application/vnd.jupyter.widget-view+json": {
       "model_id": "0cbd9ec1595a4c5e82be884891878111",
       "version_major": 2,
       "version_minor": 0
      },
      "text/plain": [
       "  0%|          | 0/12 [00:00<?, ?it/s]"
      ]
     },
     "metadata": {},
     "output_type": "display_data"
    }
   ],
   "source": [
    "# We define a residual stream patching hook\n",
    "# We choose to act on the residual stream at the start of the layer, so we call it resid_pre\n",
    "# The type annotations are a guide to the reader and are not necessary\n",
    "def residual_stream_patching_hook(\n",
    "    resid_pre: Float[torch.Tensor, \"batch pos d_model\"],\n",
    "    hook: HookPoint,\n",
    "    position: int\n",
    ") -> Float[torch.Tensor, \"batch pos d_model\"]:\n",
    "    # Each HookPoint has a name attribute giving the name of the hook.\n",
    "    clean_resid_pre = clean_cache[hook.name]\n",
    "    resid_pre[:, position, :] = clean_resid_pre[:, position, :]\n",
    "    return resid_pre\n",
    "\n",
    "# We make a tensor to store the results for each patching run. We put it on the model's device to avoid needing to move things between the GPU and CPU, which can be slow.\n",
    "num_positions = len(clean_tokens[0])\n",
    "ioi_patching_result = torch.zeros((model.cfg.n_layers, num_positions), device=model.cfg.device)\n",
    "\n",
    "for layer in tqdm.tqdm(range(model.cfg.n_layers)):\n",
    "    for position in range(num_positions):\n",
    "        # Use functools.partial to create a temporary hook function with the position fixed\n",
    "        temp_hook_fn = partial(residual_stream_patching_hook, position=position)\n",
    "        # Run the model with the patching hook\n",
    "        patched_logits = model.run_with_hooks(corrupted_tokens, fwd_hooks=[\n",
    "            (utils.get_act_name(\"resid_pre\", layer), temp_hook_fn)\n",
    "        ])\n",
    "        # Calculate the logit difference\n",
    "        patched_logit_diff = logits_to_logit_diff(patched_logits).detach()\n",
    "        # Store the result, normalizing by the clean and corrupted logit difference so it's between 0 and 1 (ish)\n",
    "        ioi_patching_result[layer, position] = (patched_logit_diff - corrupted_logit_diff)/(clean_logit_diff - corrupted_logit_diff)"
   ]
  },
  {
   "cell_type": "markdown",
   "metadata": {
    "id": "GUPqZeJ6lmmK"
   },
   "source": [
    "We can now visualize the results, and see that this computation is extremely localised within the model. Initially, the second subject (Mary) token is all that matters (naturally, as it's the only different token), and all relevant information remains here until heads in layer 7 and 8 move this to the final token where it's used to predict the indirect object.\n",
    "(Note - the heads are in layer 7 and 8, not 8 and 9, because we patched in the residual stream at the *start* of each layer)"
   ]
  },
  {
   "cell_type": "code",
   "execution_count": 20,
   "metadata": {
    "ExecuteTime": {
     "end_time": "2025-02-22T09:41:49.981308Z",
     "start_time": "2025-02-22T09:41:49.920067Z"
    },
    "colab": {
     "base_uri": "https://localhost:8080/",
     "height": 542
    },
    "id": "t9s8XG6-lmmK",
    "outputId": "04f63bcf-3126-47f1-de65-554b288c42a0"
   },
   "outputs": [],
   "source": [
    "# Add the index to the end of the label, because plotly doesn't like duplicate labels\n",
    "token_labels = [f\"{token}_{index}\" for index, token in enumerate(model.to_str_tokens(clean_tokens))]\n",
    "imshow(ioi_patching_result, x=token_labels, xaxis=\"Position\", yaxis=\"Layer\", title=\"Normalized Logit Difference After Patching Residual Stream on the IOI Task\")"
   ]
  },
  {
   "cell_type": "markdown",
   "metadata": {
    "id": "6hY6k-KBlmmL"
   },
   "source": [
    "## Hooks: Accessing Activations"
   ]
  },
  {
   "cell_type": "markdown",
   "metadata": {
    "id": "6dh8nZBWlmmN"
   },
   "source": [
    "Hooks can also be used to just **access** an activation - to run some function using that activation value, *without* changing the activation value. This can be achieved by just having the hook return nothing, and not editing the activation in place.\n",
    "\n",
    "This is useful for eg extracting activations for a specific task, or for doing some long-running calculation across many inputs, eg finding the text that most activates a specific neuron. (Note - everything this can do *could* be done with `run_with_cache` and post-processing, but this workflow can be more intuitive and memory efficient.)"
   ]
  },
  {
   "cell_type": "markdown",
   "metadata": {
    "id": "78Kz9we8lmmN"
   },
   "source": [
    "To demonstrate this, let's look for **[induction heads](https://transformer-circuits.pub/2022/in-context-learning-and-induction-heads/index.html)** in GPT-2 Small.\n",
    "\n",
    "Induction circuits are a very important circuit in generative language models, which are used to detect and continue repeated subsequences. They consist of two heads in separate layers that compose together, a **previous token head** which always attends to the previous token, and an **induction head** which attends to the token *after* an earlier copy of the current token.\n",
    "\n",
    "To see why this is important, let's say that the model is trying to predict the next token in a news article about Michael Jordan. The token \" Michael\", in general, could be followed by many surnames. But an induction head will look from that occurrence of \" Michael\" to the token after previous occurrences of \" Michael\", ie \" Jordan\" and can confidently predict that that will come next."
   ]
  },
  {
   "cell_type": "markdown",
   "metadata": {
    "id": "sPiRwJdAlmmN"
   },
   "source": [
    "An interesting fact about induction heads is that they generalise to arbitrary sequences of repeated tokens. We can see this by generating sequences of 50 random tokens, repeated twice, and plotting the average loss at predicting the next token, by position. We see that the model goes from terrible to very good at the halfway point."
   ]
  },
  {
   "cell_type": "code",
   "execution_count": 21,
   "metadata": {
    "ExecuteTime": {
     "end_time": "2025-02-22T09:41:50.126600Z",
     "start_time": "2025-02-22T09:41:50.020273Z"
    },
    "colab": {
     "base_uri": "https://localhost:8080/",
     "height": 542
    },
    "id": "FSk04AtolmmN",
    "outputId": "74f54a2a-f3b7-49d9-b5f2-4a5e4c6b4235"
   },
   "outputs": [],
   "source": [
    "batch_size = 10\n",
    "seq_len = 50\n",
    "size = (batch_size, seq_len)\n",
    "input_tensor = torch.randint(1000, 10000, size)\n",
    "\n",
    "random_tokens = input_tensor.to(model.cfg.device)\n",
    "repeated_tokens = einops.repeat(random_tokens, \"batch seq_len -> batch (2 seq_len)\")\n",
    "repeated_logits = model(repeated_tokens)\n",
    "correct_log_probs = model.loss_fn(repeated_logits, repeated_tokens, per_token=True)\n",
    "loss_by_position = einops.reduce(correct_log_probs, \"batch position -> position\", \"mean\")\n",
    "line(loss_by_position, xaxis=\"Position\", yaxis=\"Loss\", title=\"Loss by position on random repeated tokens\")"
   ]
  },
  {
   "cell_type": "markdown",
   "metadata": {
    "id": "2m3o3brjlmmN"
   },
   "source": [
    "The induction heads will be attending from the second occurrence of each token to the token *after* its first occurrence, ie the token `50-1==49` places back. So by looking at the average attention paid 49 tokens back, we can identify induction heads! Let's define a hook to do this!\n",
    "\n",
    "<details><summary>Technical details</summary>\n",
    "\n",
    "* We attach the hook to the attention pattern activation. There's one big pattern activation per layer, stacked across all heads, so we need to do some tensor manipulation to get a per-head score.\n",
    "* Hook functions can access global state, so we make a big tensor to store the induction head score for each head, and then we just add the score for each head to the appropriate position in the tensor.\n",
    "* To get a single hook function that works for each layer, we use the `hook.layer()` method to get the layer index (internally this is just inferred from the hook names).\n",
    "* As we want to add this to *every* activation pattern hook point, rather than giving the string for an activation name, this time we give a **name filter**. This is a Boolean function on hook point names, and it adds the hook function to every hook point where the function evaluates as true.\n",
    "    * `run_with_hooks` allows us to enter a list of (act_name, hook_function) pairs to all be added at once, so we could also have done this by inputting a list with a hook for each layer.\n",
    "</details>"
   ]
  },
  {
   "cell_type": "code",
   "execution_count": 22,
   "metadata": {
    "ExecuteTime": {
     "end_time": "2025-02-22T09:41:50.352334Z",
     "start_time": "2025-02-22T09:41:50.269396Z"
    },
    "colab": {
     "base_uri": "https://localhost:8080/",
     "height": 542
    },
    "id": "R8Ib3ofElmmO",
    "outputId": "3a66dfbd-cbda-4ed9-b4b4-96235c82df0a"
   },
   "outputs": [],
   "source": [
    "# We make a tensor to store the induction score for each head. We put it on the model's device to avoid needing to move things between the GPU and CPU, which can be slow.\n",
    "induction_score_store = torch.zeros((model.cfg.n_layers, model.cfg.n_heads), device=model.cfg.device)\n",
    "def induction_score_hook(\n",
    "    pattern: Float[torch.Tensor, \"batch head_index dest_pos source_pos\"],\n",
    "    hook: HookPoint,\n",
    "):\n",
    "    # We take the diagonal of attention paid from each destination position to source positions seq_len-1 tokens back\n",
    "    # (This only has entries for tokens with index>=seq_len)\n",
    "    induction_stripe = pattern.diagonal(dim1=-2, dim2=-1, offset=1-seq_len)\n",
    "    # Get an average score per head\n",
    "    induction_score = einops.reduce(induction_stripe, \"batch head_index position -> head_index\", \"mean\")\n",
    "    # Store the result.\n",
    "    induction_score_store[hook.layer(), :] = induction_score\n",
    "\n",
    "# We make a boolean filter on activation names, that's true only on attention pattern names.\n",
    "pattern_hook_names_filter = lambda name: name.endswith(\"pattern\")\n",
    "\n",
    "model.run_with_hooks(\n",
    "    repeated_tokens,\n",
    "    return_type=None, # For efficiency, we don't need to calculate the logits\n",
    "    fwd_hooks=[(\n",
    "        pattern_hook_names_filter,\n",
    "        induction_score_hook\n",
    "    )]\n",
    ")\n",
    "\n",
    "imshow(induction_score_store, xaxis=\"Head\", yaxis=\"Layer\", title=\"Induction Score by Head\")"
   ]
  },
  {
   "cell_type": "markdown",
   "metadata": {
    "id": "yBp0KsnslmmO"
   },
   "source": [
    "Head 5 in Layer 5 scores extremely highly on this score, and we can feed in a shorter repeated random sequence, visualize the attention pattern for it and see this directly - including the \"induction stripe\" at `seq_len-1` tokens back.\n",
    "\n",
    "This time we put in a hook on the attention pattern activation to visualize the pattern of the relevant head."
   ]
  },
  {
   "cell_type": "code",
   "execution_count": 23,
   "metadata": {
    "ExecuteTime": {
     "end_time": "2025-02-22T09:41:51.417798Z",
     "start_time": "2025-02-22T09:41:50.481266Z"
    },
    "colab": {
     "base_uri": "https://localhost:8080/",
     "height": 357
    },
    "id": "0ie9sYuylmmO",
    "outputId": "c7d83ddf-8b8f-40ab-9295-37ea98e5d180"
   },
   "outputs": [
    {
     "data": {
      "text/html": [
       "<div id=\"circuits-vis-befd6596-192f\" style=\"margin: 15px 0;\"/>\n",
       "    <script crossorigin type=\"module\">\n",
       "    import { render, AttentionPatterns } from \"https://unpkg.com/circuitsvis@1.43.3/dist/cdn/esm.js\";\n",
       "    render(\n",
       "      \"circuits-vis-befd6596-192f\",\n",
       "      AttentionPatterns,\n",
       "      {\"tokens\": [\" CH\", \"roit\", \"Tr\", \" 05\", \" evil\", \" puts\", \"host\", \" weapon\", \"76\", \" Today\", \"not\", \"idel\", \"................................\", \" Indust\", \"rage\", \" convinced\", \"ounds\", \"Although\", \" operating\", \"ird\", \" CH\", \"roit\", \"Tr\", \" 05\", \" evil\", \" puts\", \"host\", \" weapon\", \"76\", \" Today\", \"not\", \"idel\", \"................................\", \" Indust\", \"rage\", \" convinced\", \"ounds\", \"Although\", \" operating\", \"ird\"], \"attention\": [[[1.0, 0.0, 0.0, 0.0, 0.0, 0.0, 0.0, 0.0, 0.0, 0.0, 0.0, 0.0, 0.0, 0.0, 0.0, 0.0, 0.0, 0.0, 0.0, 0.0, 0.0, 0.0, 0.0, 0.0, 0.0, 0.0, 0.0, 0.0, 0.0, 0.0, 0.0, 0.0, 0.0, 0.0, 0.0, 0.0, 0.0, 0.0, 0.0, 0.0], [0.9904569983482361, 0.009543078951537609, 0.0, 0.0, 0.0, 0.0, 0.0, 0.0, 0.0, 0.0, 0.0, 0.0, 0.0, 0.0, 0.0, 0.0, 0.0, 0.0, 0.0, 0.0, 0.0, 0.0, 0.0, 0.0, 0.0, 0.0, 0.0, 0.0, 0.0, 0.0, 0.0, 0.0, 0.0, 0.0, 0.0, 0.0, 0.0, 0.0, 0.0, 0.0], [0.9808121919631958, 0.001023725955747068, 0.01816404052078724, 0.0, 0.0, 0.0, 0.0, 0.0, 0.0, 0.0, 0.0, 0.0, 0.0, 0.0, 0.0, 0.0, 0.0, 0.0, 0.0, 0.0, 0.0, 0.0, 0.0, 0.0, 0.0, 0.0, 0.0, 0.0, 0.0, 0.0, 0.0, 0.0, 0.0, 0.0, 0.0, 0.0, 0.0, 0.0, 0.0, 0.0], [0.9891765713691711, 0.005440245382487774, 0.004543735645711422, 0.0008394659962505102, 0.0, 0.0, 0.0, 0.0, 0.0, 0.0, 0.0, 0.0, 0.0, 0.0, 0.0, 0.0, 0.0, 0.0, 0.0, 0.0, 0.0, 0.0, 0.0, 0.0, 0.0, 0.0, 0.0, 0.0, 0.0, 0.0, 0.0, 0.0, 0.0, 0.0, 0.0, 0.0, 0.0, 0.0, 0.0, 0.0], [0.968458890914917, 0.013267874717712402, 0.01731138676404953, 0.0004596276266966015, 0.000502153648994863, 0.0, 0.0, 0.0, 0.0, 0.0, 0.0, 0.0, 0.0, 0.0, 0.0, 0.0, 0.0, 0.0, 0.0, 0.0, 0.0, 0.0, 0.0, 0.0, 0.0, 0.0, 0.0, 0.0, 0.0, 0.0, 0.0, 0.0, 0.0, 0.0, 0.0, 0.0, 0.0, 0.0, 0.0, 0.0], [0.9814441204071045, 0.003967941738665104, 0.004273987840861082, 0.0008896944345906377, 0.005001384764909744, 0.004422803875058889, 0.0, 0.0, 0.0, 0.0, 0.0, 0.0, 0.0, 0.0, 0.0, 0.0, 0.0, 0.0, 0.0, 0.0, 0.0, 0.0, 0.0, 0.0, 0.0, 0.0, 0.0, 0.0, 0.0, 0.0, 0.0, 0.0, 0.0, 0.0, 0.0, 0.0, 0.0, 0.0, 0.0, 0.0], [0.9918704032897949, 0.001831261906772852, 0.0009263168321922421, 0.0022837971337139606, 0.0018611346604302526, 0.0007919996860437095, 0.0004350661183707416, 0.0, 0.0, 0.0, 0.0, 0.0, 0.0, 0.0, 0.0, 0.0, 0.0, 0.0, 0.0, 0.0, 0.0, 0.0, 0.0, 0.0, 0.0, 0.0, 0.0, 0.0, 0.0, 0.0, 0.0, 0.0, 0.0, 0.0, 0.0, 0.0, 0.0, 0.0, 0.0, 0.0], [0.9690374135971069, 0.004925640299916267, 0.0004307539202272892, 0.009693155996501446, 0.0002648782392498106, 0.008287540636956692, 0.0022266379091888666, 0.005133944563567638, 0.0, 0.0, 0.0, 0.0, 0.0, 0.0, 0.0, 0.0, 0.0, 0.0, 0.0, 0.0, 0.0, 0.0, 0.0, 0.0, 0.0, 0.0, 0.0, 0.0, 0.0, 0.0, 0.0, 0.0, 0.0, 0.0, 0.0, 0.0, 0.0, 0.0, 0.0, 0.0], [0.9568811655044556, 0.0037537820171564817, 0.0007048331899568439, 9.389041952090338e-05, 0.00596760306507349, 0.0008289677207358181, 0.0001955680054379627, 0.0006175923626869917, 0.030956638976931572, 0.0, 0.0, 0.0, 0.0, 0.0, 0.0, 0.0, 0.0, 0.0, 0.0, 0.0, 0.0, 0.0, 0.0, 0.0, 0.0, 0.0, 0.0, 0.0, 0.0, 0.0, 0.0, 0.0, 0.0, 0.0, 0.0, 0.0, 0.0, 0.0, 0.0, 0.0], [0.9764561653137207, 0.010971203446388245, 0.00174228148534894, 9.053744179254863e-06, 0.005146912299096584, 0.0035067691933363676, 0.00011474081838969141, 0.000308570044580847, 7.581518002552912e-05, 0.0016685817390680313, 0.0, 0.0, 0.0, 0.0, 0.0, 0.0, 0.0, 0.0, 0.0, 0.0, 0.0, 0.0, 0.0, 0.0, 0.0, 0.0, 0.0, 0.0, 0.0, 0.0, 0.0, 0.0, 0.0, 0.0, 0.0, 0.0, 0.0, 0.0, 0.0, 0.0], [0.8411871790885925, 0.009183415211737156, 0.0030436767265200615, 0.004183162935078144, 0.00792754627764225, 0.03950775787234306, 0.0026152795180678368, 0.0006898519350215793, 0.0007544074906036258, 0.0007401673938147724, 0.0901675596833229, 0.0, 0.0, 0.0, 0.0, 0.0, 0.0, 0.0, 0.0, 0.0, 0.0, 0.0, 0.0, 0.0, 0.0, 0.0, 0.0, 0.0, 0.0, 0.0, 0.0, 0.0, 0.0, 0.0, 0.0, 0.0, 0.0, 0.0, 0.0, 0.0], [0.9193954467773438, 7.529728463850915e-05, 0.0008304361836053431, 0.0009368356550112367, 0.0005838019424118102, 0.04675941541790962, 0.002820464549586177, 0.0015121398027986288, 0.005176745820790529, 0.007682406809180975, 0.0016422608168795705, 0.012584719806909561, 0.0, 0.0, 0.0, 0.0, 0.0, 0.0, 0.0, 0.0, 0.0, 0.0, 0.0, 0.0, 0.0, 0.0, 0.0, 0.0, 0.0, 0.0, 0.0, 0.0, 0.0, 0.0, 0.0, 0.0, 0.0, 0.0, 0.0, 0.0], [0.9867977499961853, 0.0007646565791219473, 0.0003392720827832818, 0.00031942379428073764, 0.00032517447834834456, 0.0009087776415981352, 2.958149343612604e-05, 6.639422645093873e-05, 0.00019134115427732468, 0.0027072846423834562, 0.001521446742117405, 0.0015235601458698511, 0.004505235701799393, 0.0, 0.0, 0.0, 0.0, 0.0, 0.0, 0.0, 0.0, 0.0, 0.0, 0.0, 0.0, 0.0, 0.0, 0.0, 0.0, 0.0, 0.0, 0.0, 0.0, 0.0, 0.0, 0.0, 0.0, 0.0, 0.0, 0.0], [0.9246909022331238, 5.788763883174397e-05, 0.010494841262698174, 0.0004906672984361649, 4.3028553591284435e-06, 0.0035754330456256866, 1.5201315363810863e-05, 5.067844540462829e-05, 0.002536457497626543, 0.00037597844493575394, 0.0007345900521613657, 0.008531504310667515, 0.006372272502630949, 0.04206929728388786, 0.0, 0.0, 0.0, 0.0, 0.0, 0.0, 0.0, 0.0, 0.0, 0.0, 0.0, 0.0, 0.0, 0.0, 0.0, 0.0, 0.0, 0.0, 0.0, 0.0, 0.0, 0.0, 0.0, 0.0, 0.0, 0.0], [0.9172420501708984, 1.0681098501663655e-05, 0.010739314369857311, 0.00028820394072681665, 1.2550531209853943e-05, 0.009820891544222832, 7.673430673094117e-07, 8.909642201615497e-05, 0.004662158899009228, 0.003370612394064665, 0.00014429031580220908, 0.00039392360486090183, 0.0004157632065471262, 0.006642980966717005, 0.046166568994522095, 0.0, 0.0, 0.0, 0.0, 0.0, 0.0, 0.0, 0.0, 0.0, 0.0, 0.0, 0.0, 0.0, 0.0, 0.0, 0.0, 0.0, 0.0, 0.0, 0.0, 0.0, 0.0, 0.0, 0.0, 0.0], [0.8952813148498535, 1.4274628483690321e-05, 0.004032071214169264, 0.0010565336560830474, 0.0016272221691906452, 0.006736985873430967, 0.0018838252872228622, 0.006361160892993212, 0.0021370286121964455, 0.0014810191933065653, 0.0023301313631236553, 0.020182134583592415, 0.03109719604253769, 0.005031521897763014, 0.003202783642336726, 0.017544763162732124, 0.0, 0.0, 0.0, 0.0, 0.0, 0.0, 0.0, 0.0, 0.0, 0.0, 0.0, 0.0, 0.0, 0.0, 0.0, 0.0, 0.0, 0.0, 0.0, 0.0, 0.0, 0.0, 0.0, 0.0], [0.9038552045822144, 0.00030081532895565033, 0.03889508172869682, 0.0005897656665183604, 0.0022026649676263332, 0.001969636185094714, 0.003110008081421256, 0.0006233633030205965, 0.0015049893409013748, 0.00413238862529397, 0.003342572832480073, 0.001007181592285633, 0.0025215439964085817, 0.0038186723832041025, 0.0038838176988065243, 0.018276512622833252, 0.009965830482542515, 0.0, 0.0, 0.0, 0.0, 0.0, 0.0, 0.0, 0.0, 0.0, 0.0, 0.0, 0.0, 0.0, 0.0, 0.0, 0.0, 0.0, 0.0, 0.0, 0.0, 0.0, 0.0, 0.0], [0.8924612402915955, 0.0008913881029002368, 0.0011637157294899225, 0.0006112254341132939, 0.0008361622458323836, 0.003213794669136405, 0.011232677847146988, 0.0013331574155017734, 0.001394818420521915, 0.0032629603520035744, 0.023630069568753242, 0.02363581582903862, 0.001685541239567101, 0.0038791135884821415, 0.008007324300706387, 0.0041877771727740765, 0.003665264928713441, 0.014907974749803543, 0.0, 0.0, 0.0, 0.0, 0.0, 0.0, 0.0, 0.0, 0.0, 0.0, 0.0, 0.0, 0.0, 0.0, 0.0, 0.0, 0.0, 0.0, 0.0, 0.0, 0.0, 0.0], [0.9701845049858093, 5.637273716274649e-05, 0.0034111838322132826, 6.930639938218519e-05, 2.557449806772638e-05, 0.00016062147915363312, 0.0007638161187060177, 1.8311728126718663e-05, 0.002319809515029192, 0.0010685680899769068, 0.00022880308097228408, 3.365525117260404e-05, 0.0010191447800025344, 0.0007599340169690549, 0.000526471238117665, 0.0007653670618310571, 0.0034523813519626856, 0.007773817051202059, 0.007362334057688713, 0.0, 0.0, 0.0, 0.0, 0.0, 0.0, 0.0, 0.0, 0.0, 0.0, 0.0, 0.0, 0.0, 0.0, 0.0, 0.0, 0.0, 0.0, 0.0, 0.0, 0.0], [0.9358709454536438, 8.092445932561532e-05, 0.009987621568143368, 0.0013797995634377003, 0.0020961894188076258, 0.0016188891604542732, 7.032549183350056e-05, 0.001251942478120327, 0.0021107238717377186, 0.0023897867649793625, 7.612712943227962e-05, 0.00028480711625888944, 0.011591839604079723, 0.0012270360020920634, 0.0031207373831421137, 0.0011732915882021189, 0.007573775481432676, 0.01613740809261799, 0.0018673068843781948, 9.04851476661861e-05, 0.0, 0.0, 0.0, 0.0, 0.0, 0.0, 0.0, 0.0, 0.0, 0.0, 0.0, 0.0, 0.0, 0.0, 0.0, 0.0, 0.0, 0.0, 0.0, 0.0], [0.13555754721164703, 0.8432731628417969, 0.00841710064560175, 0.0003044389304704964, 0.00403923075646162, 0.00032324111089110374, 0.0009036854025907815, 0.0002120218559866771, 0.00034463367774151266, 0.0009179475018754601, 0.0014566221507266164, 1.5807048839633353e-05, 0.00013007740199100226, 0.0001581200340297073, 7.671369530726224e-05, 6.39802310615778e-05, 3.736566941370256e-05, 0.0012830346822738647, 0.0019019297324120998, 5.120404966874048e-05, 0.0005321865901350975, 0.0, 0.0, 0.0, 0.0, 0.0, 0.0, 0.0, 0.0, 0.0, 0.0, 0.0, 0.0, 0.0, 0.0, 0.0, 0.0, 0.0, 0.0, 0.0], [0.0633571669459343, 0.011189145036041737, 0.8851165771484375, 0.003973796963691711, 0.0008194241090677679, 0.0021873556543141603, 0.00015432511281687766, 0.00010972736345138401, 9.999884787248448e-05, 0.0006286470452323556, 0.000480433227494359, 3.582611316232942e-05, 0.0005457042716443539, 0.0002488981990609318, 8.793966844677925e-05, 0.0002453749184496701, 6.051070158719085e-05, 0.002460084157064557, 0.000398486852645874, 0.00011441604146966711, 0.0005132717778906226, 0.027172904461622238, 0.0, 0.0, 0.0, 0.0, 0.0, 0.0, 0.0, 0.0, 0.0, 0.0, 0.0, 0.0, 0.0, 0.0, 0.0, 0.0, 0.0, 0.0], [0.03468841314315796, 0.00079334806650877, 0.0011263551423326135, 0.9562703371047974, 0.0004020093474537134, 0.00017159711569547653, 1.4770496818528045e-05, 3.896064663422294e-05, 0.0007324189064092934, 0.00034297123784199357, 2.7572182261792477e-06, 0.0002678115270100534, 0.00012772632180713117, 9.83975623967126e-05, 4.396204531076364e-06, 2.4654749722685665e-05, 7.68078098190017e-06, 0.0012707648565992713, 0.00044569349847733974, 1.9704000919773534e-07, 0.0005082215648144484, 0.00019493498257361352, 0.002465610159561038, 0.0, 0.0, 0.0, 0.0, 0.0, 0.0, 0.0, 0.0, 0.0, 0.0, 0.0, 0.0, 0.0, 0.0, 0.0, 0.0, 0.0], [0.10602698475122452, 0.002276565646752715, 0.0006431313813664019, 0.00044440373312681913, 0.8843432664871216, 0.0001279615389648825, 0.00013249395124148577, 5.450462776934728e-05, 9.04676053323783e-05, 0.0012979548191651702, 0.00034384606988169253, 0.0004096714546903968, 0.00031432771356776357, 6.898130959598348e-05, 1.38640343649854e-08, 3.267275815233006e-06, 4.027638624393148e-06, 0.0004565771378111094, 6.69166402076371e-05, 3.030263329151239e-08, 0.0002823991235345602, 0.0006565356161445379, 0.0008653626427985728, 0.0010901878122240305, 0.0, 0.0, 0.0, 0.0, 0.0, 0.0, 0.0, 0.0, 0.0, 0.0, 0.0, 0.0, 0.0, 0.0, 0.0, 0.0], [0.03346377983689308, 0.0005595820839516819, 0.0002740563068073243, 3.3524161153764e-06, 1.100197641790146e-05, 0.9527608752250671, 7.396153705485631e-06, 1.35238440179819e-06, 0.00015848067414481193, 0.00010923997615464032, 0.0013959341449663043, 0.005142946261912584, 0.001903799595311284, 0.0009179241606034338, 1.4092114724917337e-05, 0.001378771266900003, 0.0005396709893830121, 0.0006462213350459933, 0.00047230502241291106, 3.0139378850435605e-06, 1.9733952285605483e-05, 1.1212949175387621e-05, 0.0001984324917430058, 8.197300189749512e-07, 5.913098448218079e-06, 0.0, 0.0, 0.0, 0.0, 0.0, 0.0, 0.0, 0.0, 0.0, 0.0, 0.0, 0.0, 0.0, 0.0, 0.0], [0.03214148432016373, 0.00027961324667558074, 0.00030900342972017825, 1.615083237993531e-05, 9.8745062132366e-05, 0.0004905787645839155, 0.9526118040084839, 0.00018838432151824236, 0.0007051976281218231, 0.00016474320727866143, 0.00031677712104283273, 0.0001618696842342615, 0.0019338527927175164, 0.0002977628610096872, 1.168769244941359e-06, 8.842081115290057e-06, 0.0007015020819380879, 0.006459859665483236, 0.0010483517544344068, 1.946420525200665e-05, 0.00014918607485014945, 0.0005461269174702466, 0.0008931944612413645, 1.9836406863760203e-05, 0.00018091293168254197, 0.0002556807885412127, 0.0, 0.0, 0.0, 0.0, 0.0, 0.0, 0.0, 0.0, 0.0, 0.0, 0.0, 0.0, 0.0, 0.0], [0.051065538078546524, 9.761917317518964e-05, 3.183807712048292e-05, 4.107645872863941e-05, 8.136071846820414e-05, 0.00011587546032387763, 3.780677798204124e-05, 0.9417375326156616, 0.0022422580514103174, 0.0006057997816242278, 4.641327905119397e-05, 5.458209216158139e-06, 0.0005566996987909079, 3.696788189699873e-05, 1.20554901172909e-07, 3.740574902622029e-05, 0.00024062949523795396, 0.00025310443015769124, 0.00019345397595316172, 2.6499034788685094e-07, 0.0016713651129975915, 0.00017854578618425876, 0.00039204012136906385, 1.979608896363061e-05, 4.327984424890019e-05, 5.30743709532544e-05, 0.00021471887885127217, 0.0, 0.0, 0.0, 0.0, 0.0, 0.0, 0.0, 0.0, 0.0, 0.0, 0.0, 0.0, 0.0], [0.015097200870513916, 9.25768181332387e-05, 1.5382400988528389e-06, 9.834227967076004e-05, 2.6803757009474793e-06, 0.00020285921345930547, 9.938480616256129e-06, 7.071382424328476e-05, 0.9787634015083313, 0.004769677296280861, 2.2642946078121895e-06, 3.1688014132669196e-06, 9.793794743018225e-05, 5.716185478377156e-05, 1.3268188467918662e-06, 0.00015416386304423213, 5.807567049487261e-06, 4.4840373448096216e-05, 0.00011139516573166475, 6.022083312018367e-07, 5.015862552681938e-05, 1.3751498954661656e-05, 6.021144145051949e-06, 9.1406429419294e-05, 3.1811189273867058e-06, 4.945417822455056e-05, 2.8691489205812104e-05, 0.0001698879641480744, 0.0, 0.0, 0.0, 0.0, 0.0, 0.0, 0.0, 0.0, 0.0, 0.0, 0.0, 0.0], [0.04511832818388939, 9.885280451271683e-05, 5.80550431550364e-06, 2.2343056116369553e-06, 8.496731607010588e-05, 2.7189940738026053e-05, 2.663086206666776e-06, 6.1195073612907436e-06, 0.0027964708860963583, 0.9484630823135376, 0.0002526025928091258, 1.150753860201803e-06, 0.00014942123380023986, 6.112347909947857e-05, 4.3583776587752254e-09, 2.7894134291273076e-06, 1.8723949324339628e-06, 5.793841773993336e-05, 0.0004115868650842458, 7.676847246784746e-08, 4.96826851303922e-06, 1.5275509213097394e-05, 3.3861153497127816e-05, 1.5795276340213604e-06, 6.693117757095024e-05, 5.5158538998512086e-06, 1.3988542377774138e-06, 2.6406009965285193e-06, 0.002323408843949437, 0.0, 0.0, 0.0, 0.0, 0.0, 0.0, 0.0, 0.0, 0.0, 0.0, 0.0], [0.02380599081516266, 0.00026497399085201323, 5.4065803851699457e-05, 9.617908602876923e-08, 8.732433343539014e-05, 0.0001310575898969546, 4.774016133524128e-07, 9.067788937500154e-07, 1.0442347502248595e-06, 6.26424080110155e-05, 0.9731167554855347, 0.0009225113317370415, 0.00015270689618773758, 0.00013613884220831096, 4.936902655572339e-07, 1.1817454833362717e-05, 4.2463776480872184e-05, 0.00017660653975326568, 0.0007375281420536339, 7.030193501122994e-06, 2.116147925335099e-06, 2.4780714738881215e-05, 8.964565495261922e-05, 3.171081175423751e-08, 6.66807172819972e-05, 7.788824586896226e-05, 4.915452223031025e-07, 5.04331865158747e-07, 2.6379660766906454e-07, 2.492229759809561e-05, 0.0, 0.0, 0.0, 0.0, 0.0, 0.0, 0.0, 0.0, 0.0, 0.0], [0.04550223797559738, 0.00034377514384686947, 5.086351666250266e-05, 5.093496656627394e-05, 0.0003600226773414761, 0.0029949152376502752, 1.4326724340207875e-05, 6.080970706534572e-06, 9.86450777418213e-06, 2.7112413590657525e-05, 0.01596948318183422, 0.9034568071365356, 0.008201474323868752, 0.0031702127307653427, 8.598510612500831e-05, 0.0001231386122526601, 0.0003796949749812484, 0.0006344832363538444, 0.002279467647895217, 6.790026873204624e-06, 0.00019849669479299337, 1.036036974255694e-05, 4.0322396671399474e-05, 1.2238902854733169e-05, 0.00025638993247412145, 0.004137758631259203, 2.4333536202902906e-05, 2.642175104483613e-06, 4.188782895653276e-06, 7.799755621817894e-06, 0.011637835763394833, 0.0, 0.0, 0.0, 0.0, 0.0, 0.0, 0.0, 0.0, 0.0], [0.025228777900338173, 3.330790605104994e-06, 1.5506620911764912e-05, 2.3357224563369527e-05, 1.6156427591340616e-05, 0.0005066532758064568, 1.741746200423222e-05, 3.311263208161108e-05, 5.072201383882202e-05, 0.0007381311734206975, 7.310241198865697e-05, 0.0003538791206665337, 0.959632933139801, 0.009728558361530304, 2.0845222934440244e-06, 2.347918962186668e-05, 0.0010881798807531595, 0.00123776204418391, 0.0001227366883540526, 1.5596129969708272e-06, 0.00047426391392946243, 4.325535485349974e-07, 2.634765587572474e-05, 1.79575272341026e-06, 1.8066793927573599e-06, 4.1491650335956365e-05, 1.2397927093843464e-05, 8.995604730444029e-06, 3.906951860699337e-06, 6.784481956856325e-05, 1.3787243915430736e-05, 0.0004495819448493421, 0.0, 0.0, 0.0, 0.0, 0.0, 0.0, 0.0, 0.0], [0.08459984511137009, 1.9511055143084377e-05, 7.249419468280394e-06, 7.803294465702493e-06, 4.817447916138917e-06, 3.093794657615945e-05, 5.089410137770756e-07, 1.000858333100041e-06, 9.58914006332634e-06, 0.0001940810470841825, 6.21259241597727e-05, 5.7158846175298095e-05, 0.0010027409298345447, 0.909953773021698, 0.00047927984269335866, 0.000606762187089771, 3.697057400131598e-05, 0.0015785503201186657, 0.0007137766806408763, 5.39365657914459e-07, 0.00021374807693064213, 3.257918592680653e-07, 7.683341209485661e-06, 1.947936425494845e-06, 1.1546711675691768e-06, 8.596469342592172e-06, 9.204841262544505e-07, 1.8646096577867866e-07, 2.1809030386066297e-06, 2.158215102099348e-05, 1.5860257917665876e-05, 8.184028411051258e-05, 0.0002768792328424752, 0.0, 0.0, 0.0, 0.0, 0.0, 0.0, 0.0], [0.0026360529009252787, 4.314585453357722e-07, 7.124211606424069e-06, 3.628141769240756e-07, 9.716218052346903e-09, 7.502990683860844e-06, 1.901824475680769e-08, 9.050087790285488e-09, 5.183211669645971e-06, 1.511193772785191e-06, 1.6515098195668543e-06, 9.32161583477864e-06, 2.2577263735001907e-05, 0.0005725868395529687, 0.9924196600914001, 0.003182078944519162, 0.00010835163993760943, 0.0004679186677094549, 0.00022252400231081992, 3.388844561413862e-05, 0.0001847835083026439, 7.261904499955563e-08, 1.686432710812369e-06, 1.8551659763943462e-08, 1.335094146348581e-09, 2.5163840291497763e-06, 1.372497671070505e-08, 7.834569659692647e-10, 2.4115104224620154e-07, 6.570476784872881e-08, 1.5823052024188655e-07, 5.329323812475195e-06, 2.002379005716648e-06, 0.00010448425746290013, 0.0, 0.0, 0.0, 0.0, 0.0, 0.0], [0.016430098563432693, 1.414732878401992e-06, 0.00045860937098041177, 6.772653250664007e-06, 4.2382322362755076e-07, 0.0004150245222263038, 1.4421473792936013e-08, 4.761947423048696e-07, 0.00014402040687855333, 0.00021048060443717986, 3.823799033852993e-06, 8.691117727721576e-06, 2.184576260333415e-05, 0.0009417050750926137, 0.0015803201822564006, 0.9687682390213013, 0.00016966678958851844, 0.007172198034822941, 0.0003556376905180514, 1.2221145880175754e-05, 0.0009958038572221994, 7.054524786553884e-08, 6.660398503299803e-05, 2.6029044875031104e-07, 3.7220278414906716e-08, 9.269483416574076e-05, 2.3881256083768676e-08, 6.941300512153248e-08, 1.548220643599052e-05, 8.846728633216117e-06, 5.384909513850289e-07, 1.1685747267620172e-05, 4.3317766085237963e-07, 0.00013949729327578098, 0.001966288313269615, 0.0, 0.0, 0.0, 0.0, 0.0], [0.012679558247327805, 8.955402677202073e-07, 0.00015433860244229436, 1.0891015335801058e-05, 3.928848309442401e-05, 0.0005936546949669719, 2.421278077235911e-05, 4.5783890527673066e-05, 0.00012816587695851922, 0.0001131709577748552, 8.549503399990499e-05, 0.00032252995879389346, 0.0013322976883500814, 0.0008539842674508691, 0.00011129226186312735, 0.0017976114759221673, 0.9456077218055725, 0.031480055302381516, 0.002027536742389202, 2.5274599465774372e-05, 0.0013388801598921418, 8.555982589086852e-08, 5.589855845755665e-06, 3.061164477458078e-07, 9.188943295157515e-06, 4.036797326989472e-05, 9.930861779139377e-06, 5.779178991360823e-06, 3.430561037021107e-06, 2.646617758728098e-06, 8.84093333297642e-06, 0.00022783808526583016, 0.0002910233160946518, 0.0002609240764286369, 4.139872544328682e-05, 0.0003200288920197636, 0.0, 0.0, 0.0, 0.0], [0.0719931349158287, 6.392539035005029e-06, 0.0005478106322698295, 1.2803985555365216e-05, 4.355171404313296e-05, 6.984644278418273e-05, 0.0001547522988403216, 1.446419264539145e-05, 5.790274735772982e-05, 0.0003170514537487179, 8.237555448431522e-05, 2.552352634666022e-05, 0.0002276912418892607, 0.0009037009440362453, 5.598154166364111e-05, 0.0020320448093116283, 0.0010683275759220123, 0.9045115113258362, 0.007323761936277151, 0.00016622553812339902, 0.006811786908656359, 4.947272827848792e-06, 0.00016266663442365825, 1.3927009376857313e-06, 9.473562386119738e-06, 7.67712845117785e-06, 0.0001959751534741372, 5.261384558252757e-06, 5.201118710829178e-06, 1.4997239304648247e-05, 1.3587618013843894e-05, 2.9477250791387632e-05, 1.5107932085811626e-05, 0.00021588972595054656, 2.9921382520115003e-05, 0.0006263371906243265, 0.002235436113551259, 0.0, 0.0, 0.0], [0.3006204068660736, 0.00021779604139737785, 0.00022063881624490023, 2.4287042833748274e-05, 4.410289693623781e-05, 0.00047023716615512967, 0.001071979058906436, 5.328253246261738e-05, 0.00019260012777522206, 0.0010917920153588057, 0.007393368985503912, 0.0022849147208034992, 0.000741176656447351, 0.003475709119811654, 0.001963109942153096, 0.001955907791852951, 0.003798767225816846, 0.03744528442621231, 0.6111828088760376, 0.001640849164687097, 0.0008492560591548681, 0.00018213583098258823, 0.0002211106475442648, 1.1599133358686231e-05, 1.942926610354334e-05, 0.00011738362809410319, 0.0007786309579387307, 1.3428693819150794e-05, 3.601881326176226e-05, 0.00017790035053621978, 0.0026928074657917023, 0.0014803274534642696, 8.002341928659007e-05, 0.0010496467584744096, 0.0015065752668306231, 0.00046369837946258485, 0.00356649374589324, 0.010864621959626675, 0.0, 0.0], [0.03986664488911629, 4.872742465522606e-06, 0.00025244452990591526, 2.0170642756056623e-07, 7.544896334366058e-07, 9.650064384914003e-06, 4.843905571760843e-06, 3.230588419000924e-08, 2.7194544600206427e-05, 2.7624297217698768e-05, 4.374845957499929e-05, 1.185788505608798e-06, 4.541603266261518e-05, 5.684518691850826e-05, 2.7194026188226417e-05, 6.394897354766726e-05, 0.0004385044449009001, 0.002271788427606225, 0.0004972117603756487, 0.9554395079612732, 0.0001868033577920869, 6.31970488029765e-06, 7.942898810142651e-05, 1.288772732976895e-08, 9.473916406932403e-08, 6.704844395244436e-07, 2.7767866868089186e-06, 4.578375900621268e-09, 4.266083237780549e-07, 1.8054838619718794e-06, 4.271234956831904e-06, 8.301539082822273e-07, 5.105139734951081e-06, 8.736125892028213e-06, 2.0292409317335114e-05, 1.3773837963526603e-05, 9.669793507782742e-05, 0.0002022970002144575, 0.00029004967655055225, 0.0], [0.039364539086818695, 8.197514034691267e-06, 0.000587990100029856, 3.005087455676403e-05, 6.720720557495952e-05, 6.479269359260798e-05, 1.7443546767026419e-06, 3.243039463995956e-05, 8.026514842640609e-05, 0.00038557342486456037, 3.291520670245518e-06, 3.0180303838278633e-06, 0.0014095754595473409, 0.0002945574524346739, 8.379441715078428e-05, 0.00014358047337736934, 0.0008559130947105587, 0.006693660747259855, 0.00013362563913688064, 7.1751696850697044e-06, 0.94495689868927, 2.5296059902757406e-05, 0.0003369975311215967, 1.857392589954543e-06, 1.5280413208529353e-05, 5.912195319979219e-06, 1.4344963119583554e-06, 5.139824224897893e-06, 2.40281246988161e-06, 1.4740770893695299e-05, 7.061157702992205e-07, 5.534272077056812e-06, 0.00039667761302553117, 0.00011141088180011138, 0.00014806250692345202, 0.00017097614181693643, 0.001967356540262699, 0.0015074452385306358, 6.294841296039522e-05, 1.2052989404764958e-05]]]}\n",
       "    )\n",
       "    </script>"
      ],
      "text/plain": [
       "<circuitsvis.utils.render.RenderedHTML at 0x1f52b447c50>"
      ]
     },
     "metadata": {},
     "output_type": "display_data"
    }
   ],
   "source": [
    "if IN_GITHUB:\n",
    "    torch.manual_seed(50)\n",
    "\n",
    "induction_head_layer = 5\n",
    "induction_head_index = 5\n",
    "size = (1, 20)\n",
    "input_tensor = torch.randint(1000, 10000, size)\n",
    "\n",
    "single_random_sequence = input_tensor.to(model.cfg.device)\n",
    "repeated_random_sequence = einops.repeat(single_random_sequence, \"batch seq_len -> batch (2 seq_len)\")\n",
    "def visualize_pattern_hook(\n",
    "    pattern: Float[torch.Tensor, \"batch head_index dest_pos source_pos\"],\n",
    "    hook: HookPoint,\n",
    "):\n",
    "    display(\n",
    "        cv.attention.attention_patterns(\n",
    "            tokens=model.to_str_tokens(repeated_random_sequence),\n",
    "            attention=pattern[0, induction_head_index, :, :][None, :, :] # Add a dummy axis, as CircuitsVis expects 3D patterns.\n",
    "        )\n",
    "    )\n",
    "\n",
    "model.run_with_hooks(\n",
    "    repeated_random_sequence,\n",
    "    return_type=None,\n",
    "    fwd_hooks=[(\n",
    "        utils.get_act_name(\"pattern\", induction_head_layer),\n",
    "        visualize_pattern_hook\n",
    "    )]\n",
    ")"
   ]
  },
  {
   "cell_type": "markdown",
   "metadata": {
    "id": "7BwIRq0LlmmO"
   },
   "source": [
    "## Available Models"
   ]
  },
  {
   "cell_type": "markdown",
   "metadata": {
    "id": "ivDs3amWlmmO"
   },
   "source": [
    "TransformerLens comes with over 40 open source models available, all of which can be loaded into a consistent(-ish) architecture by just changing the name in `from_pretrained`. The open source models available are [documented here](https://dynalist.io/d/n2ZWtnoYHrU1s4vnFSAQ519J#z=jHj79Pj58cgJKdq4t-ygK-4h), and a set of interpretability friendly models I've trained are [documented here](https://dynalist.io/d/n2ZWtnoYHrU1s4vnFSAQ519J#z=NCJ6zH_Okw_mUYAwGnMKsj2m), including a set of toy language models (tiny one to four layer models) and a set of [SoLU models](https://dynalist.io/d/n2ZWtnoYHrU1s4vnFSAQ519J#z=FZ5W6GGcy6OitPEaO733JLqf) up to GPT-2 Medium size (300M parameters). You can see [a table of the official alias and hyper-parameters of available models here](https://github.com/TransformerLensOrg/TransformerLens/blob/main/transformer_lens/model_properties_table.md).\n",
    "\n",
    "**Note:** TransformerLens does not currently support multi-GPU models (which you want for models above eg 7B parameters), but this feature is coming soon!"
   ]
  },
  {
   "cell_type": "markdown",
   "metadata": {
    "id": "ydIU84m-lmmO"
   },
   "source": [
    "\n",
    "Notably, this means that analysis can be near immediately re-run on a different model by just changing the name - to see this, let's load in DistilGPT-2 (a distilled version of GPT-2, with half as many layers) and copy the code from above to see the induction heads in that model."
   ]
  },
  {
   "cell_type": "code",
   "execution_count": 24,
   "metadata": {
    "ExecuteTime": {
     "end_time": "2025-02-22T09:41:53.154031Z",
     "start_time": "2025-02-22T09:41:51.574689Z"
    },
    "colab": {
     "base_uri": "https://localhost:8080/",
     "height": 258,
     "referenced_widgets": [
      "b706089111f945529dcdf78145f1398d",
      "5779fe09f4914c61bc439f8b47f6430b",
      "d63b8397024642f6802a651e9865a37b",
      "4b0692d527fd42db92e99eb11ae09c9d",
      "c88b23c7e0264711a86c706d69c963d5",
      "25cd5fda67ed44f69ce2cc4d844f08f4",
      "de47abaf177f4699a5668c0d3e551aa8",
      "2e8da6689884478892327391957b5eaa",
      "1e80c977272e41378abd523c60f581ec",
      "a5086174551a4c49b7fbedbf88925a3a",
      "d517c4b53f1a42558fafa37c75a8da3f",
      "6bbc515b05324b0db99d0d98077bf743",
      "df9dd46d184642c8918582b403c2961b",
      "8a9c2343cf9142398ee1369b3e51ac95",
      "6c5465a206c7401aa874b0ddfa5c01d2",
      "9373481849b240a3923f6d903f12fa21",
      "12c80a98595f48ebb90c0fca556ae636",
      "7d52e7b60382487abece704ba9cbad26",
      "6988ece30af54268b74958d158435cb1",
      "c90e4b3aca424545afab38e495bc1fba",
      "e4f17b089bf748868b438301db10c682",
      "403c1346cd44436bb48bd96d2a28b2b5",
      "d2ac96f36ede4e4fbe2220750f6114fd",
      "6f5ba7b718724da08b3e07d66cf8b84c",
      "5dbb775c57be4cbdbdca02885d986613",
      "88029156398247759dafe933e89da0a2",
      "d98cb3a3af374fdb89a699a0efcb5d78",
      "3061d31565dd42658c49e077ce1e8640",
      "e378a869c975458f9cede0c70607a62a",
      "a9c4b12a8a3e406cab6c44b3add267bd",
      "a58a3f80e3ed43999b5b85ee7a223d04",
      "5392eaf04ceb43d783d53808e941e7ce",
      "ae4952af79c94c999ce8840ff47eafa6",
      "f8ae064006734d7eb5170378069c8a57",
      "35992806be3a497d88c60c906b290a5b",
      "b28479cabcfe498da72fe07c6abc4489",
      "8f7565896df043d7bc75550eda354af3",
      "53a28a0a6c88415facd754f90309889a",
      "4eb5934145c248fab7220ee9356b4259",
      "364da6fe2ab0475d9ce71ba4f77124f9",
      "4e99b823293f4fe2849a3149d717d1b1",
      "6fc01cdd3b77434a825b84112e43cc5f",
      "d57f933cfb73461bb39166b84c5b033a",
      "aec890ea889944fd9055e4e08d9f4e16",
      "3b2cb3a9f9c04f0abebe9577b8a6c39b",
      "58f081bc1ff8429cb6cda32626fb1b7c",
      "6c82c81916da46c2838edfcfd624f67a",
      "e9dd6cef8f08472985413bfed92301cf",
      "442efc30806044639e96827de4be83b0",
      "1144a1a7c0af4269879f75d6d3458b70",
      "2ee81540500644f8ad9c7e08597eda4a",
      "07d75b5f413047afab785d2c53d6b06b",
      "7781ed1d7403463ca0b0acd25608ae95",
      "9bc955c5b3df493083a7fcbbe6564d60",
      "615f9af628674ac4ae09a06e1e613200",
      "5183826259a04eb18db0df9add9c9c57",
      "34cb949f66ce4fd3b68c5f0617e2bcb3",
      "2d7e2ea3f0b54ed6b2f0e759afe276b8",
      "5de81f4ef7c94dc4bff7ef30045cca94",
      "7a55b0659d1a4214a5f071c476cf3b97",
      "31b49b5c3c1b4d8789b5caf5235c4ed8",
      "2b6694a9b28f450a8bb1bf4d4a4249db",
      "4ed39b27168045ceb9a86aebde245d83",
      "899c0699305d463bb7b97ef578d013ae",
      "fcc57ac26b7644a99805b51ff67e4d4a",
      "4871548169d240299876a4def59e27db",
      "c784fa964ba34a81baae44887046482a",
      "beafda32492248e9a2e46d9d5b488e53",
      "333b3de54b054898aefcc5ddfc20f99a",
      "cbd315b94e17475396a5dc418e4e144e",
      "d16cc620f94849abb5d7145e9ec81e50",
      "d6d838ffabda4b53bb7808da6990e9d3",
      "d51fbe4b82e6423b897b967ad132cdca",
      "0c7c2ca233fe4fe2bf792b29d02999de",
      "e27c5a3c72ea4eee89b6989e5e681d68",
      "fc150f600e484b1eb413ff02d6268f4d",
      "bca0bd572f30455fbecbac5545ce7f84"
     ]
    },
    "id": "-gHLKBsPlmmO",
    "outputId": "6a53eba7-607d-441c-ddfb-175a9dbbdf0c"
   },
   "outputs": [
    {
     "name": "stdout",
     "output_type": "stream",
     "text": [
      "Loaded pretrained model distilgpt2 into HookedTransformer\n"
     ]
    }
   ],
   "source": [
    "# NBVAL_IGNORE_OUTPUT\n",
    "distilgpt2 = HookedTransformer.from_pretrained(\"distilgpt2\", device=device)"
   ]
  },
  {
   "cell_type": "code",
   "execution_count": 25,
   "metadata": {
    "ExecuteTime": {
     "end_time": "2025-02-22T09:41:53.557757Z",
     "start_time": "2025-02-22T09:41:53.460953Z"
    },
    "colab": {
     "base_uri": "https://localhost:8080/",
     "height": 542
    },
    "id": "UbPNkD2QlmmO",
    "outputId": "d282772b-322b-452a-a0ae-9c48bc03c282"
   },
   "outputs": [],
   "source": [
    "\n",
    "# We make a tensor to store the induction score for each head. We put it on the model's device to avoid needing to move things between the GPU and CPU, which can be slow.\n",
    "distilgpt2_induction_score_store = torch.zeros((distilgpt2.cfg.n_layers, distilgpt2.cfg.n_heads), device=distilgpt2.cfg.device)\n",
    "def induction_score_hook(\n",
    "    pattern: Float[torch.Tensor, \"batch head_index dest_pos source_pos\"],\n",
    "    hook: HookPoint,\n",
    "):\n",
    "    # We take the diagonal of attention paid from each destination position to source positions seq_len-1 tokens back\n",
    "    # (This only has entries for tokens with index>=seq_len)\n",
    "    induction_stripe = pattern.diagonal(dim1=-2, dim2=-1, offset=1-seq_len)\n",
    "    # Get an average score per head\n",
    "    induction_score = einops.reduce(induction_stripe, \"batch head_index position -> head_index\", \"mean\")\n",
    "    # Store the result.\n",
    "    distilgpt2_induction_score_store[hook.layer(), :] = induction_score\n",
    "\n",
    "# We make a boolean filter on activation names, that's true only on attention pattern names.\n",
    "pattern_hook_names_filter = lambda name: name.endswith(\"pattern\")\n",
    "\n",
    "distilgpt2.run_with_hooks(\n",
    "    repeated_tokens,\n",
    "    return_type=None, # For efficiency, we don't need to calculate the logits\n",
    "    fwd_hooks=[(\n",
    "        pattern_hook_names_filter,\n",
    "        induction_score_hook\n",
    "    )]\n",
    ")\n",
    "\n",
    "imshow(distilgpt2_induction_score_store, xaxis=\"Head\", yaxis=\"Layer\", title=\"Induction Score by Head in Distil GPT-2\")"
   ]
  },
  {
   "cell_type": "markdown",
   "metadata": {
    "id": "nHUtzdm2lmmP"
   },
   "source": [
    "\n",
    "### An overview of the important open source models in the library\n",
    "\n",
    "* **GPT-2** - the classic generative pre-trained models from OpenAI\n",
    "    * Sizes Small (85M), Medium (300M), Large (700M) and XL (1.5B).\n",
    "    * Trained on ~22B tokens of internet text. ([Open source replication](https://huggingface.co/datasets/openwebtext))\n",
    "* **GPT-Neo** - Eleuther's replication of GPT-2\n",
    "    * Sizes 125M, 1.3B, 2.7B\n",
    "    * Trained on 300B(ish?) tokens of [the Pile](https://pile.eleuther.ai/) a large and diverse dataset including a bunch of code (and weird stuff)\n",
    "* **[OPT](https://ai.facebook.com/blog/democratizing-access-to-large-scale-language-models-with-opt-175b/)** - Meta AI's series of open source models\n",
    "    * Trained on 180B tokens of diverse text.\n",
    "    * 125M, 1.3B, 2.7B, 6.7B, 13B, 30B, 66B\n",
    "* **GPT-J** - Eleuther's 6B parameter model, trained on the Pile\n",
    "* **GPT-NeoX** - Eleuther's 20B parameter model, trained on the Pile\n",
    "* **StableLM** - Stability AI's 3B and 7B models, with and without chat and instruction fine-tuning\n",
    "* **Stanford CRFM models** - a replication of GPT-2 Small and GPT-2 Medium, trained on 5 different random seeds.\n",
    "    * Notably, 600 checkpoints were taken during training per model, and these are available in the library with eg `HookedTransformer.from_pretrained(\"stanford-gpt2-small-a\", checkpoint_index=265)`.\n",
    "- **BERT** - Google's bidirectional encoder-only transformer.\n",
    "    - Size Base (108M), trained on English Wikipedia and BooksCorpus.\n",
    "\n",
    "</details>"
   ]
  },
  {
   "cell_type": "markdown",
   "metadata": {
    "id": "33zIuK2XlmmP"
   },
   "source": [
    "\n",
    "### An overview of some interpretability-friendly models I've trained and included\n",
    "\n",
    "(Feel free to [reach out](mailto:neelnanda27@gmail.com) if you want more details on any of these models)\n",
    "\n",
    "Each of these models has about ~200 checkpoints taken during training that can also be loaded from TransformerLens, with the `checkpoint_index` argument to `from_pretrained`.\n",
    "\n",
    "Note that all models are trained with a Beginning of Sequence token, and will likely break if given inputs without that!\n",
    "\n",
    "* **Toy Models**: Inspired by [A Mathematical Framework](https://transformer-circuits.pub/2021/framework/index.html), I've trained 12 tiny language models, of 1-4L and each of width 512. I think that interpreting these is likely to be far more tractable than larger models, and both serve as good practice and will likely contain motifs and circuits that generalise to far larger models (like induction heads):\n",
    "    * Attention-Only models (ie without MLPs): attn-only-1l, attn-only-2l, attn-only-3l, attn-only-4l\n",
    "    * GELU models (ie with MLP, and the standard GELU activations): gelu-1l, gelu-2l, gelu-3l, gelu-4l\n",
    "    * SoLU models (ie with MLP, and [Anthropic's SoLU activation](https://transformer-circuits.pub/2022/solu/index.html), designed to make MLP neurons more interpretable): solu-1l, solu-2l, solu-3l, solu-4l\n",
    "    * All models are trained on 22B tokens of data, 80% from C4 (web text) and 20% from Python Code\n",
    "    * Models of the same layer size were trained with the same weight initialization and data shuffle, to more directly compare the effect of different activation functions.\n",
    "* **SoLU** models: A larger scan of models trained with [Anthropic's SoLU activation](https://transformer-circuits.pub/2022/solu/index.html), in the hopes that it makes the MLP neuron interpretability easier.\n",
    "    * A scan up to GPT-2 Medium size, trained on 30B tokens of the same data as toy models, 80% from C4 and 20% from Python code.\n",
    "        * solu-6l (40M), solu-8l (100M), solu-10l (200M), solu-12l (340M)\n",
    "    * An older scan up to GPT-2 Medium size, trained on 15B tokens of [the Pile](https://pile.eleuther.ai/)\n",
    "        * solu-1l-pile (13M), solu-2l-pile (13M), solu-4l-pile (13M), solu-6l-pile (40M), solu-8l-pile (100M), solu-10l-pile (200M), solu-12l-pile (340M)"
   ]
  },
  {
   "cell_type": "markdown",
   "metadata": {
    "id": "oNUB9BSTlmmP"
   },
   "source": [
    "## Other Resources:\n",
    "\n",
    "* [Concrete Steps to Get Started in Mechanistic Interpretability](https://neelnanda.io/getting-started): A guide I wrote for how to get involved in mechanistic interpretability, and how to learn the basic skills\n",
    "* [A Comprehensive Mechanistic Interpretability Explainer](https://neelnanda.io/glossary): An overview of concepts in the field and surrounding ideas in ML and transformers, with long digressions to give context and build intuitions.\n",
    "* [Concrete Open Problems in Mechanistic Interpretability](https://neelnanda.io/concrete-open-problems), a doc I wrote giving a long list of open problems in mechanistic interpretability, and thoughts on how to get started on trying to work on them.\n",
    "    * There's a lot of low-hanging fruit in the field, and I expect that many people reading this could use TransformerLens to usefully make progress on some of these!\n",
    "* Other demos:\n",
    "    * **[Exploratory Analysis Demo](https://neelnanda.io/exploratory-analysis-demo)**, a demonstration of my standard toolkit for how to use TransformerLens to explore a mysterious behaviour in a language model.\n",
    "    * [Interpretability in the Wild](https://github.com/redwoodresearch/Easy-Transformer) a codebase from Arthur Conmy and Alex Variengien at Redwood research using this library to do a detailed and rigorous reverse engineering of the Indirect Object Identification circuit, to accompany their paper\n",
    "        * Note - this was based on an earlier version of this library, called EasyTransformer. It's pretty similar, but several breaking changes have been made since.\n",
    "    * A [recorded walkthrough](https://www.youtube.com/watch?v=yo4QvDn-vsU) of me doing research with TransformerLens on whether a tiny model can re-derive positional information, with [an accompanying Colab](https://colab.research.google.com/github/TransformerLensOrg/TransformerLens/blob/main/No_Position_Experiment.ipynb)\n",
    "* [Neuroscope](https://neuroscope.io), a website showing the text in the dataset that most activates each neuron in some selected models. Good to explore to get a sense for what kind of features the model tends to represent, and as a \"wiki\" to get some info\n",
    "    * A tutorial on how to make an [Interactive Neuroscope](https://github.com/TransformerLensOrg/TransformerLens/blob/main/Hacky-Interactive-Lexoscope.ipynb), where you type in text and see the neuron activations over the text update live."
   ]
  },
  {
   "cell_type": "markdown",
   "metadata": {
    "id": "WTIbEMhTlmmP"
   },
   "source": [
    "## Transformer architecture\n",
    "\n",
    "HookedTransformer is a somewhat adapted GPT-2 architecture, but is computationally identical. The most significant changes are to the internal structure of the attention heads:\n",
    "* The weights (W_K, W_Q, W_V) mapping the residual stream to queries, keys and values are 3 separate matrices, rather than big concatenated one.\n",
    "* The weight matrices (W_K, W_Q, W_V, W_O) and activations (keys, queries, values, z (values mixed by attention pattern)) have separate head_index and d_head axes, rather than flattening them into one big axis.\n",
    "    * The activations all have shape `[batch, position, head_index, d_head]`\n",
    "    * W_K, W_Q, W_V have shape `[head_index, d_model, d_head]` and W_O has shape `[head_index, d_head, d_model]`\n",
    "\n",
    "The actual code is a bit of a mess, as there's a variety of Boolean flags to make it consistent with the various different model families in TransformerLens - to understand it and the internal structure, I instead recommend reading the code in [CleanTransformerDemo](https://colab.research.google.com/github/TransformerLensOrg/TransformerLens/blob/clean-transformer-demo/Clean_Transformer_Demo.ipynb)"
   ]
  },
  {
   "cell_type": "markdown",
   "metadata": {
    "id": "D35Xa8SXlmmP"
   },
   "source": [
    "### Parameter Names\n",
    "\n",
    "Here is a list of the parameters and shapes in the model. By convention, all weight matrices multiply on the right (ie `new_activation = old_activation @ weights + bias`).\n",
    "\n",
    "Reminder of the key hyper-params:\n",
    "* `n_layers`: 12. The number of transformer blocks in the model (a block contains an attention layer and an MLP layer)\n",
    "* `n_heads`: 12. The number of attention heads per attention layer\n",
    "* `d_model`: 768. The residual stream width.\n",
    "* `d_head`: 64. The internal dimension of an attention head activation.\n",
    "* `d_mlp`: 3072. The internal dimension of the MLP layers (ie the number of neurons).\n",
    "* `d_vocab`: 50267. The number of tokens in the vocabulary.\n",
    "* `n_ctx`: 1024. The maximum number of tokens in an input prompt.\n"
   ]
  },
  {
   "cell_type": "markdown",
   "metadata": {
    "id": "nZ5pF9dNlmmP"
   },
   "source": [
    "**Transformer Block parameters:**\n",
    "Replace 0 with the relevant layer index."
   ]
  },
  {
   "cell_type": "code",
   "execution_count": 26,
   "metadata": {
    "ExecuteTime": {
     "end_time": "2025-02-22T09:41:53.565002Z",
     "start_time": "2025-02-22T09:41:53.561411Z"
    },
    "colab": {
     "base_uri": "https://localhost:8080/"
    },
    "id": "5_XgbpNPlmmQ",
    "outputId": "a0967023-7c01-4899-e669-abce4e2012eb"
   },
   "outputs": [
    {
     "name": "stdout",
     "output_type": "stream",
     "text": [
      "blocks.0.attn.W_Q torch.Size([12, 768, 64])\n",
      "blocks.0.attn.W_O torch.Size([12, 64, 768])\n",
      "blocks.0.attn.b_Q torch.Size([12, 64])\n",
      "blocks.0.attn.b_O torch.Size([768])\n",
      "blocks.0.attn.W_K torch.Size([12, 768, 64])\n",
      "blocks.0.attn.W_V torch.Size([12, 768, 64])\n",
      "blocks.0.attn.b_K torch.Size([12, 64])\n",
      "blocks.0.attn.b_V torch.Size([12, 64])\n",
      "blocks.0.mlp.W_in torch.Size([768, 3072])\n",
      "blocks.0.mlp.b_in torch.Size([3072])\n",
      "blocks.0.mlp.W_out torch.Size([3072, 768])\n",
      "blocks.0.mlp.b_out torch.Size([768])\n"
     ]
    }
   ],
   "source": [
    "for name, param in model.named_parameters():\n",
    "    if name.startswith(\"blocks.0.\"):\n",
    "        print(name, param.shape)"
   ]
  },
  {
   "cell_type": "markdown",
   "metadata": {
    "id": "lPHHbL7BlmmQ"
   },
   "source": [
    "**Embedding & Unembedding parameters:**"
   ]
  },
  {
   "cell_type": "code",
   "execution_count": 27,
   "metadata": {
    "ExecuteTime": {
     "end_time": "2025-02-22T09:41:53.726757Z",
     "start_time": "2025-02-22T09:41:53.723652Z"
    },
    "colab": {
     "base_uri": "https://localhost:8080/"
    },
    "id": "5P9MlzJYlmmQ",
    "outputId": "7dc04a40-34c1-49c1-d83a-2789c7bde7e4"
   },
   "outputs": [
    {
     "name": "stdout",
     "output_type": "stream",
     "text": [
      "embed.W_E torch.Size([50257, 768])\n",
      "pos_embed.W_pos torch.Size([1024, 768])\n",
      "unembed.W_U torch.Size([768, 50257])\n",
      "unembed.b_U torch.Size([50257])\n"
     ]
    }
   ],
   "source": [
    "for name, param in model.named_parameters():\n",
    "    if not name.startswith(\"blocks\"):\n",
    "        print(name, param.shape)"
   ]
  },
  {
   "cell_type": "markdown",
   "metadata": {
    "id": "1FIrg1iWlmmQ"
   },
   "source": [
    "### Activation + Hook Names\n",
    "\n",
    "Lets get out a list of the activation/hook names in the model and their shapes. In practice, I recommend using the `utils.get_act_name` function to get the names, but this is a useful fallback, and necessary to eg write a name filter function.\n",
    "\n",
    "Let's do this by entering in a short, 10 token prompt, and add a hook function to each activations to print its name and shape. To avoid spam, let's just add this to activations in the first block or not in a block.\n",
    "\n",
    "Note 1: Each LayerNorm has a hook for the scale factor (ie the standard deviation of the input activations for each token position & batch element) and for the normalized output (ie the input activation with mean 0 and standard deviation 1, but *before* applying scaling or translating with learned weights). LayerNorm is applied every time a layer reads from the residual stream: `ln1` is the LayerNorm before the attention layer in a block, `ln2` the one before the MLP layer, and `ln_final` is the LayerNorm before the unembed.\n",
    "\n",
    "Note 2: *Every* activation apart from the attention pattern and attention scores has shape beginning with `[batch, position]`. The attention pattern and scores have shape `[batch, head_index, dest_position, source_position]` (the numbers are the same, unless we're using caching)."
   ]
  },
  {
   "cell_type": "code",
   "execution_count": 28,
   "metadata": {
    "ExecuteTime": {
     "end_time": "2025-02-22T09:41:53.903465Z",
     "start_time": "2025-02-22T09:41:53.876397Z"
    },
    "colab": {
     "base_uri": "https://localhost:8080/"
    },
    "id": "BHDDtajAlmmQ",
    "outputId": "e7a6dc2e-0bc3-4f33-8437-24f01f0b7fb6"
   },
   "outputs": [
    {
     "name": "stdout",
     "output_type": "stream",
     "text": [
      "Num tokens: 10\n",
      "hook_embed torch.Size([1, 10, 768])\n",
      "hook_pos_embed torch.Size([1, 10, 768])\n",
      "blocks.0.hook_resid_pre torch.Size([1, 10, 768])\n",
      "blocks.0.ln1.hook_scale torch.Size([1, 10, 1])\n",
      "blocks.0.ln1.hook_normalized torch.Size([1, 10, 768])\n",
      "blocks.0.ln1.hook_scale torch.Size([1, 10, 1])\n",
      "blocks.0.ln1.hook_normalized torch.Size([1, 10, 768])\n",
      "blocks.0.ln1.hook_scale torch.Size([1, 10, 1])\n",
      "blocks.0.ln1.hook_normalized torch.Size([1, 10, 768])\n",
      "blocks.0.attn.hook_q torch.Size([1, 10, 12, 64])\n",
      "blocks.0.attn.hook_k torch.Size([1, 10, 12, 64])\n",
      "blocks.0.attn.hook_v torch.Size([1, 10, 12, 64])\n",
      "blocks.0.attn.hook_attn_scores torch.Size([1, 12, 10, 10])\n",
      "blocks.0.attn.hook_pattern torch.Size([1, 12, 10, 10])\n",
      "blocks.0.attn.hook_z torch.Size([1, 10, 12, 64])\n",
      "blocks.0.hook_attn_out torch.Size([1, 10, 768])\n",
      "blocks.0.hook_resid_mid torch.Size([1, 10, 768])\n",
      "blocks.0.ln2.hook_scale torch.Size([1, 10, 1])\n",
      "blocks.0.ln2.hook_normalized torch.Size([1, 10, 768])\n",
      "blocks.0.mlp.hook_pre torch.Size([1, 10, 3072])\n",
      "blocks.0.mlp.hook_post torch.Size([1, 10, 3072])\n",
      "blocks.0.hook_mlp_out torch.Size([1, 10, 768])\n",
      "blocks.0.hook_resid_post torch.Size([1, 10, 768])\n",
      "ln_final.hook_scale torch.Size([1, 10, 1])\n",
      "ln_final.hook_normalized torch.Size([1, 10, 768])\n"
     ]
    }
   ],
   "source": [
    "test_prompt = \"The quick brown fox jumped over the lazy dog\"\n",
    "print(\"Num tokens:\", len(model.to_tokens(test_prompt)[0]))\n",
    "\n",
    "def print_name_shape_hook_function(activation, hook):\n",
    "    print(hook.name, activation.shape)\n",
    "\n",
    "not_in_late_block_filter = lambda name: name.startswith(\"blocks.0.\") or not name.startswith(\"blocks\")\n",
    "\n",
    "model.run_with_hooks(\n",
    "    test_prompt,\n",
    "    return_type=None,\n",
    "    fwd_hooks=[(not_in_late_block_filter, print_name_shape_hook_function)],\n",
    ")"
   ]
  },
  {
   "cell_type": "markdown",
   "metadata": {
    "id": "ugEIMd5elmmQ"
   },
   "source": [
    "### Folding LayerNorm (For the Curious)"
   ]
  },
  {
   "cell_type": "markdown",
   "metadata": {
    "id": "Cx381FnolmmQ"
   },
   "source": [
    "(For the curious - this is an important technical detail that's worth understanding, especially if you have preconceptions about how transformers work, but not necessary to use TransformerLens)\n",
    "\n",
    "LayerNorm is a normalization technique used by transformers, analogous to BatchNorm but more friendly to massive parallelisation. No one *really* knows why it works, but it seems to improve model numerical stability. Unlike BatchNorm, LayerNorm actually changes the functional form of the model, which makes it a massive pain for interpretability!\n",
    "\n",
    "Folding LayerNorm is a technique to make it lower overhead to deal with, and the flags `center_writing_weights` and `fold_ln` in `HookedTransformer.from_pretrained` apply this automatically (they default to True). These simplify the internal structure without changing the weights.\n",
    "\n",
    "Intuitively, LayerNorm acts on each residual stream vector (ie for each batch element and token position) independently, sets their mean to 0 (centering) and standard deviation to 1 (normalizing) (*across* the residual stream dimension - very weird!), and then applies a learned elementwise scaling and translation to each vector.\n",
    "\n",
    "Mathematically, centering is a linear map, normalizing is *not* a linear map, and scaling and translation are linear maps.\n",
    "* **Centering:** LayerNorm is applied every time a layer reads from the residual stream, so the mean of any residual stream vector can never matter - `center_writing_weights` set every weight matrix writing to the residual to have zero mean.\n",
    "* **Normalizing:** Normalizing is not a linear map, and cannot be factored out. The `hook_scale` hook point lets you access and control for this.\n",
    "* **Scaling and Translation:** Scaling and translation are linear maps, and are always followed by another linear map. The composition of two linear maps is another linear map, so we can *fold* the scaling and translation weights into the weights of the subsequent layer, and simplify things without changing the underlying computation.\n",
    "\n",
    "[See the docs for more details](https://github.com/TransformerLensOrg/TransformerLens/blob/main/further_comments.md#what-is-layernorm-folding-fold_ln)"
   ]
  },
  {
   "cell_type": "markdown",
   "metadata": {
    "id": "XXsI8jFelmmQ"
   },
   "source": [
    "A fun consequence of LayerNorm folding is that it creates a bias across the unembed, a `d_vocab` length vector that is added to the output logits - GPT-2 is not trained with this, but it *is* trained with a final LayerNorm that contains a bias.\n",
    "\n",
    "Turns out, this LayerNorm bias learns structure of the data that we can only see after folding! In particular, it essentially learns **unigram statistics** - rare tokens get suppressed, common tokens get boosted, by pretty dramatic degrees! Let's list the top and bottom 20 - at the top we see common punctuation and words like \" the\" and \" and\", at the bottom we see weird-ass tokens like \" RandomRedditor\":"
   ]
  },
  {
   "cell_type": "code",
   "execution_count": 29,
   "metadata": {
    "ExecuteTime": {
     "end_time": "2025-02-22T09:41:54.061385Z",
     "start_time": "2025-02-22T09:41:54.046882Z"
    },
    "id": "SivPHpbglmmQ"
   },
   "outputs": [],
   "source": [
    "unembed_bias = model.unembed.b_U\n",
    "bias_values, bias_indices = unembed_bias.sort(descending=True)"
   ]
  },
  {
   "cell_type": "code",
   "execution_count": 30,
   "metadata": {
    "ExecuteTime": {
     "end_time": "2025-02-22T09:41:54.240194Z",
     "start_time": "2025-02-22T09:41:54.232465Z"
    },
    "colab": {
     "base_uri": "https://localhost:8080/"
    },
    "id": "HoBrbtsAlmmR",
    "outputId": "0451ffe0-41bb-4710-d782-4ac55ad4e636"
   },
   "outputs": [
    {
     "name": "stdout",
     "output_type": "stream",
     "text": [
      "Top 20 values\n",
      "7.03 ','\n",
      "6.98 ' the'\n",
      "6.68 ' and'\n",
      "6.49 '.'\n",
      "6.48 '\\n'\n",
      "6.47 ' a'\n",
      "6.41 ' in'\n",
      "6.25 ' to'\n",
      "6.16 ' of'\n",
      "6.04 '-'\n",
      "6.03 ' ('\n",
      "5.88 ' \"'\n",
      "5.80 ' for'\n",
      "5.72 ' that'\n",
      "5.64 ' on'\n",
      "5.59 ' is'\n",
      "5.52 ' as'\n",
      "5.49 ' at'\n",
      "5.45 ' with'\n",
      "5.44 ' or'\n",
      "...\n",
      "Bottom 20 values\n",
      "-3.82 ' サーティ'\n",
      "-3.83 '\\x18'\n",
      "-3.83 '\\x14'\n",
      "-3.83 ' RandomRedditor'\n",
      "-3.83 '龍�'\n",
      "-3.83 '�'\n",
      "-3.83 '\\x1b'\n",
      "-3.83 '�'\n",
      "-3.83 '\\x05'\n",
      "-3.83 '\\x00'\n",
      "-3.83 '\\x06'\n",
      "-3.83 '\\x07'\n",
      "-3.83 '\\x0c'\n",
      "-3.83 '\\x02'\n",
      "-3.83 'oreAndOnline'\n",
      "-3.84 '\\x11'\n",
      "-3.84 '�'\n",
      "-3.84 '\\x10'\n",
      "-3.84 '�'\n",
      "-3.84 '�'\n"
     ]
    }
   ],
   "source": [
    "top_k = 20\n",
    "print(f\"Top {top_k} values\")\n",
    "for i in range(top_k):\n",
    "    print(f\"{bias_values[i].item():.2f} {repr(model.to_string(bias_indices[i]))}\")\n",
    "\n",
    "print(\"...\")\n",
    "print(f\"Bottom {top_k} values\")\n",
    "for i in range(top_k, 0, -1):\n",
    "    print(f\"{bias_values[-i].item():.2f} {repr(model.to_string(bias_indices[-i]))}\")"
   ]
  },
  {
   "cell_type": "markdown",
   "metadata": {
    "id": "BPscKiB7lmmR"
   },
   "source": [
    "This can have real consequences for interpretability - for example, this bias favours \" John\" over \" Mary\" by about 1.2, about 1/3 of the effect size of the Indirect Object Identification Circuit! All other things being the same, this makes the John token 3.6x times more likely than the Mary token."
   ]
  },
  {
   "cell_type": "code",
   "execution_count": 31,
   "metadata": {
    "ExecuteTime": {
     "end_time": "2025-02-22T09:41:54.432614Z",
     "start_time": "2025-02-22T09:41:54.428567Z"
    },
    "colab": {
     "base_uri": "https://localhost:8080/"
    },
    "id": "IZyk4WmUlmmR",
    "outputId": "34826da2-a4f2-4721-bdef-740863e44dd1"
   },
   "outputs": [
    {
     "name": "stdout",
     "output_type": "stream",
     "text": [
      "John bias: 2.8995\n",
      "Mary bias: 1.6034\n",
      "Prob ratio bias: 3.6550x\n"
     ]
    }
   ],
   "source": [
    "john_bias = model.unembed.b_U[model.to_single_token(' John')]\n",
    "mary_bias = model.unembed.b_U[model.to_single_token(' Mary')]\n",
    "\n",
    "print(f\"John bias: {john_bias.item():.4f}\")\n",
    "print(f\"Mary bias: {mary_bias.item():.4f}\")\n",
    "print(f\"Prob ratio bias: {torch.exp(john_bias - mary_bias).item():.4f}x\")"
   ]
  },
  {
   "cell_type": "markdown",
   "metadata": {
    "id": "hLI8j7YHlmmR"
   },
   "source": [
    "# Features\n",
    "\n",
    "An overview of some other important features of the library. I recommend checking out the [Exploratory Analysis Demo](https://colab.research.google.com/github/TransformerLensOrg/Easy-Transformer/blob/main/Exploratory_Analysis_Demo.ipynb) for some other important features not mentioned here, and for a demo of what using the library in practice looks like."
   ]
  },
  {
   "cell_type": "markdown",
   "metadata": {
    "id": "6F_GQ_BxlmmR"
   },
   "source": [
    "## Dealing with tokens\n",
    "\n",
    "**Tokenization** is one of the most annoying features of studying language models. We want language models to be able to take in arbitrary text as input, but the transformer architecture needs the inputs to be elements of a fixed, finite vocabulary. The solution to this is **tokens**, a fixed vocabulary of \"sub-words\", that any natural language can be broken down into with a **tokenizer**. This is invertible, and we can recover the original text, called **de-tokenization**.\n",
    "\n",
    "TransformerLens comes with a range of utility functions to deal with tokenization. Different models can have different tokenizers, so these are all methods on the model.\n",
    "\n",
    "get_token_position, to_tokens, to_string, to_str_tokens, prepend_bos, to_single_token"
   ]
  },
  {
   "cell_type": "markdown",
   "metadata": {
    "id": "5_FR-PVElmmR"
   },
   "source": [
    "The first thing you need to figure out is *how* things are tokenized. `model.to_str_tokens` splits a string into the tokens *as a list of substrings*, and so lets you explore what the text looks like. To demonstrate this, let's use it on this paragraph.\n",
    "\n",
    "Some observations - there are a lot of arbitrary-ish details in here!\n",
    "* The tokenizer splits on spaces, so no token contains two words.\n",
    "* Tokens include the preceding space, and whether the first token is a capital letter. `how` and ` how` are different tokens!\n",
    "* Common words are single tokens, even if fairly long (` paragraph`) while uncommon words are split into multiple tokens (` token|ized`).\n",
    "* Tokens *mostly* split on punctuation characters (eg `*` and `.`), but eg `'s` is a single token."
   ]
  },
  {
   "cell_type": "code",
   "execution_count": 32,
   "metadata": {
    "ExecuteTime": {
     "end_time": "2025-02-22T09:41:54.819622Z",
     "start_time": "2025-02-22T09:41:54.811563Z"
    },
    "colab": {
     "base_uri": "https://localhost:8080/"
    },
    "id": "tfV497-5lmmR",
    "outputId": "a0849086-2bc8-49bb-a164-4b23baba24d6"
   },
   "outputs": [
    {
     "name": "stdout",
     "output_type": "stream",
     "text": [
      "['<|endoftext|>', 'The', ' first', ' thing', ' you', ' need', ' to', ' figure', ' out', ' is', ' *', 'how', '*', ' things', ' are', ' token', 'ized', '.', ' `', 'model', '.', 'to', '_', 'str', '_', 't', 'ok', 'ens', '`', ' splits', ' a', ' string', ' into', ' the', ' tokens', ' *', 'as', ' a', ' list', ' of', ' sub', 'strings', '*,', ' and', ' so', ' lets', ' you', ' explore', ' what', ' the', ' text', ' looks', ' like', '.', ' To', ' demonstrate', ' this', ',', ' let', \"'s\", ' use', ' it', ' on', ' this', ' paragraph', '.']\n"
     ]
    }
   ],
   "source": [
    "example_text = \"The first thing you need to figure out is *how* things are tokenized. `model.to_str_tokens` splits a string into the tokens *as a list of substrings*, and so lets you explore what the text looks like. To demonstrate this, let's use it on this paragraph.\"\n",
    "example_text_str_tokens = model.to_str_tokens(example_text)\n",
    "print(example_text_str_tokens)"
   ]
  },
  {
   "cell_type": "markdown",
   "metadata": {
    "id": "7hahWzzYlmmS"
   },
   "source": [
    "The transformer needs to take in a sequence of integers, not strings, so we need to convert these tokens into integers. `model.to_tokens` does this, and returns a tensor of integers on the model's device (shape `[batch, position]`). It maps a string to a batch of size 1."
   ]
  },
  {
   "cell_type": "code",
   "execution_count": 33,
   "metadata": {
    "ExecuteTime": {
     "end_time": "2025-02-22T09:41:54.830216Z",
     "start_time": "2025-02-22T09:41:54.819622Z"
    },
    "colab": {
     "base_uri": "https://localhost:8080/"
    },
    "id": "tZYDH9gklmmS",
    "outputId": "59e530b8-c4ef-4c07-9914-891b9a261ed6"
   },
   "outputs": [
    {
     "name": "stdout",
     "output_type": "stream",
     "text": [
      "tensor([[50256,   464,   717,  1517,   345,   761,   284,  3785,   503,   318,\n",
      "          1635,  4919,     9,  1243,   389, 11241,  1143,    13,  4600, 19849,\n",
      "            13,  1462,    62,  2536,    62,    83,   482,   641,    63, 30778,\n",
      "           257,  4731,   656,   262, 16326,  1635,   292,   257,  1351,   286,\n",
      "           850, 37336, 25666,   290,   523,  8781,   345,  7301,   644,   262,\n",
      "          2420,  3073,   588,    13,  1675, 10176,   428,    11,  1309,   338,\n",
      "           779,   340,   319,   428,  7322,    13]], device='cuda:0')\n"
     ]
    }
   ],
   "source": [
    "example_text_tokens = model.to_tokens(example_text)\n",
    "print(example_text_tokens)"
   ]
  },
  {
   "cell_type": "markdown",
   "metadata": {
    "id": "70RHhrYalmmS"
   },
   "source": [
    "`to_tokens` can also take in a list of strings, and return a batch of size `len(strings)`. If the strings are different numbers of tokens, it adds a PAD token to the end of the shorter strings to make them the same length.\n",
    "\n",
    "(Note: In GPT-2, 50256 signifies both the beginning of sequence, end of sequence and padding token - see the `prepend_bos` section for details)"
   ]
  },
  {
   "cell_type": "code",
   "execution_count": 34,
   "metadata": {
    "ExecuteTime": {
     "end_time": "2025-02-22T09:41:55.027944Z",
     "start_time": "2025-02-22T09:41:55.023545Z"
    },
    "colab": {
     "base_uri": "https://localhost:8080/"
    },
    "id": "uajF_6vNlmmS",
    "outputId": "4dac6007-e573-45c9-ee1d-21ab0a46d674"
   },
   "outputs": [
    {
     "name": "stdout",
     "output_type": "stream",
     "text": [
      "tensor([[50256,   464,  3797,  3332,   319,   262,  2603,    13, 50256, 50256],\n",
      "        [50256,   464,  3797,  3332,   319,   262,  2603,  1107,  1327,    13]],\n",
      "       device='cuda:0')\n"
     ]
    }
   ],
   "source": [
    "example_multi_text = [\"The cat sat on the mat.\", \"The cat sat on the mat really hard.\"]\n",
    "example_multi_text_tokens = model.to_tokens(example_multi_text)\n",
    "print(example_multi_text_tokens)"
   ]
  },
  {
   "cell_type": "markdown",
   "metadata": {
    "id": "kM3FOZDKlmmT"
   },
   "source": [
    "`model.to_single_token` is a convenience function that takes in a string corresponding to a *single* token and returns the corresponding integer. This is useful for eg looking up the logit corresponding to a single token.\n",
    "\n",
    "For example, let's input `The cat sat on the mat.` to GPT-2, and look at the log prob predicting that the next token is ` The`.\n",
    "\n",
    "<details><summary>Technical notes</summary>\n",
    "\n",
    "Note that if we input a string to the model, it's implicitly converted to a string with `to_tokens`.\n",
    "\n",
    "Note further that the log probs have shape `[batch, position, d_vocab]==[1, 8, 50257]`, with a vector of log probs predicting the next token for *every* token position. GPT-2 uses causal attention which means heads can only look backwards (equivalently, information can only move forwards in the model.), so the log probs at position k are only a function of the first k tokens, and it can't just cheat and look at the k+1 th token. This structure lets it generate text more efficiently, and lets it treat every *token* as a training example, rather than every *sequence*.\n",
    "</details>"
   ]
  },
  {
   "cell_type": "code",
   "execution_count": 35,
   "metadata": {
    "ExecuteTime": {
     "end_time": "2025-02-22T09:41:55.502890Z",
     "start_time": "2025-02-22T09:41:55.414820Z"
    },
    "colab": {
     "base_uri": "https://localhost:8080/"
    },
    "id": "38H1qUftlmmT",
    "outputId": "ec7b06cd-e4bd-40d0-bb29-7ae2c74947b0"
   },
   "outputs": [
    {
     "name": "stdout",
     "output_type": "stream",
     "text": [
      "Probability tensor shape [batch, position, d_vocab] == torch.Size([1, 8, 50257])\n",
      "| The| probability: 11.98%\n"
     ]
    }
   ],
   "source": [
    "cat_text = \"The cat sat on the mat.\"\n",
    "cat_logits = model(cat_text)\n",
    "cat_probs = cat_logits.softmax(dim=-1)\n",
    "print(f\"Probability tensor shape [batch, position, d_vocab] == {cat_probs.shape}\")\n",
    "\n",
    "capital_the_token_index = model.to_single_token(\" The\")\n",
    "print(f\"| The| probability: {cat_probs[0, -1, capital_the_token_index].item():.2%}\")"
   ]
  },
  {
   "cell_type": "markdown",
   "metadata": {
    "id": "bQ_fRF8RlmmT"
   },
   "source": [
    "`model.to_string` is the inverse of `to_tokens` and maps a tensor of integers to a string or list of strings. It also works on integers and lists of integers.\n",
    "\n",
    "For example, let's look up token 256 (due to technical details of tokenization, this will be the most common pair of ASCII characters!), and also verify that our tokens above map back to a string."
   ]
  },
  {
   "cell_type": "code",
   "execution_count": 36,
   "metadata": {
    "ExecuteTime": {
     "end_time": "2025-02-22T09:41:55.510931Z",
     "start_time": "2025-02-22T09:41:55.507638Z"
    },
    "colab": {
     "base_uri": "https://localhost:8080/"
    },
    "id": "wbUxNWuQlmmT",
    "outputId": "7f1f6e8a-2650-450b-9b6b-4b94a10dd89d"
   },
   "outputs": [
    {
     "name": "stdout",
     "output_type": "stream",
     "text": [
      "Token 256 - the most common pair of ASCII characters: | t|\n",
      "De-Tokenizing the example tokens: <|endoftext|>The first thing you need to figure out is *how* things are tokenized. `model.to_str_tokens` splits a string into the tokens *as a list of substrings*, and so lets you explore what the text looks like. To demonstrate this, let's use it on this paragraph.\n"
     ]
    }
   ],
   "source": [
    "print(f\"Token 256 - the most common pair of ASCII characters: |{model.to_string(256)}|\")\n",
    "# Squeeze means to remove dimensions of length 1.\n",
    "# Here, that removes the dummy batch dimension so it's a rank 1 tensor and returns a string\n",
    "# Rank 2 tensors map to a list of strings\n",
    "print(f\"De-Tokenizing the example tokens: {model.to_string(example_text_tokens.squeeze())}\")"
   ]
  },
  {
   "cell_type": "markdown",
   "metadata": {
    "id": "mITb9AablmmU"
   },
   "source": [
    "A related annoyance of tokenization is that it's hard to figure out how many tokens a string will break into. `model.get_token_position(single_token, tokens)` returns the position of `single_token` in `tokens`. `tokens` can be either a string or a tensor of tokens.\n",
    "\n",
    "Note that position is zero-indexed, it's two (ie third) because there's a beginning of sequence token automatically prepended (see the next section for details)"
   ]
  },
  {
   "cell_type": "code",
   "execution_count": 37,
   "metadata": {
    "ExecuteTime": {
     "end_time": "2025-02-22T09:41:55.731465Z",
     "start_time": "2025-02-22T09:41:55.724753Z"
    },
    "colab": {
     "base_uri": "https://localhost:8080/"
    },
    "id": "04_Oj3aPlmmU",
    "outputId": "115ed3fc-1437-4a98-ed1a-ec6792e5ed65"
   },
   "outputs": [
    {
     "name": "stdout",
     "output_type": "stream",
     "text": [
      "With BOS: 2\n",
      "Without BOS: 1\n"
     ]
    }
   ],
   "source": [
    "print(\"With BOS:\", model.get_token_position(\" cat\", \"The cat sat on the mat\"))\n",
    "print(\"Without BOS:\", model.get_token_position(\" cat\", \"The cat sat on the mat\", prepend_bos=False))"
   ]
  },
  {
   "cell_type": "markdown",
   "metadata": {
    "id": "BiLfexVrlmmU"
   },
   "source": [
    "If there are multiple copies of the token, we can set `mode=\"first\"` to find the first occurrence's position and `mode=\"last\"` to find the last"
   ]
  },
  {
   "cell_type": "code",
   "execution_count": 38,
   "metadata": {
    "ExecuteTime": {
     "end_time": "2025-02-22T09:41:55.945157Z",
     "start_time": "2025-02-22T09:41:55.938032Z"
    },
    "colab": {
     "base_uri": "https://localhost:8080/"
    },
    "id": "cdM0lfZ3lmmU",
    "outputId": "1631fd07-1d39-4637-eed5-f089bfc6a33b"
   },
   "outputs": [
    {
     "name": "stdout",
     "output_type": "stream",
     "text": [
      "First occurrence 2\n",
      "Final occurrence 13\n"
     ]
    }
   ],
   "source": [
    "print(\"First occurrence\", model.get_token_position(\n",
    "    \" cat\",\n",
    "    \"The cat sat on the mat. The mat sat on the cat.\",\n",
    "    mode=\"first\"))\n",
    "print(\"Final occurrence\", model.get_token_position(\n",
    "    \" cat\",\n",
    "    \"The cat sat on the mat. The mat sat on the cat.\",\n",
    "    mode=\"last\"))"
   ]
  },
  {
   "cell_type": "markdown",
   "metadata": {
    "id": "JjCPou4RlmmU"
   },
   "source": [
    "In general, tokenization is a pain, and full of gotchas. I highly recommend just playing around with different inputs and their tokenization and getting a feel for it. As another \"fun\" example, let's look at the tokenization of arithmetic expressions - tokens do *not* contain consistent numbers of digits. (This makes it even more impressive that GPT-3 can do arithmetic!)"
   ]
  },
  {
   "cell_type": "code",
   "execution_count": 39,
   "metadata": {
    "ExecuteTime": {
     "end_time": "2025-02-22T09:41:56.171648Z",
     "start_time": "2025-02-22T09:41:56.166777Z"
    },
    "colab": {
     "base_uri": "https://localhost:8080/"
    },
    "id": "LgK-YOZplmmV",
    "outputId": "d980c1ce-e00f-416a-ea88-61c9f806dde7"
   },
   "outputs": [
    {
     "name": "stdout",
     "output_type": "stream",
     "text": [
      "['<|endoftext|>', '23', '42', '+', '2017', '=', '214', '45']\n",
      "['<|endoftext|>', '1000', '+', '1', '000000', '=', '9999', '99']\n"
     ]
    }
   ],
   "source": [
    "print(model.to_str_tokens(\"2342+2017=21445\"))\n",
    "print(model.to_str_tokens(\"1000+1000000=999999\"))"
   ]
  },
  {
   "cell_type": "markdown",
   "metadata": {
    "id": "X_No9AHrlmmV"
   },
   "source": [
    "I also *highly* recommend investigating prompts with easy tokenization when starting out - ideally key words should form a single token, be in the same position in different prompts, have the same total length, etc. Eg study Indirect Object Identification with common English names like ` Tim` rather than ` Ne|el`. Transformers need to spend some parameters in early layers converting multi-token words to a single feature, and then de-converting this in the late layers, and unless this is what you're explicitly investigating, this will make the behaviour you're investigating be messier."
   ]
  },
  {
   "cell_type": "markdown",
   "metadata": {
    "id": "dmQS_axvlmmV"
   },
   "source": [
    "### Gotcha: `prepend_bos`\n",
    "\n",
    "Key Takeaway: **If you get weird off-by-one errors, check whether there's an unexpected `prepend_bos`!**"
   ]
  },
  {
   "cell_type": "markdown",
   "metadata": {
    "id": "6MwWpSSClmmV"
   },
   "source": [
    "A weirdness you may have noticed in the above is that `to_tokens` and `to_str_tokens` added a weird `<|endoftext|>` to the start of each prompt. TransformerLens does this by default, and it can easily trip up new users. Notably, **this includes `model.forward`** (which is what's implicitly used when you do eg `model(\"Hello World\")`). This is called a **Beginning of Sequence (BOS)** token, and it's a special token used to mark the beginning of the sequence. Confusingly, in GPT-2, the End of Sequence (EOS), Beginning of Sequence (BOS) and Padding (PAD) tokens are all the same, `<|endoftext|>` with index `50256`.\n",
    "\n",
    "**Gotcha:** You only want to prepend a BOS token at the *start* of a prompt. If you, eg, want to input a question followed by an answer, and want to tokenize these separately, you do *not* want to prepend_bos on the answer."
   ]
  },
  {
   "cell_type": "code",
   "execution_count": 40,
   "metadata": {
    "ExecuteTime": {
     "end_time": "2025-02-22T09:41:56.462868Z",
     "start_time": "2025-02-22T09:41:56.372621Z"
    },
    "colab": {
     "base_uri": "https://localhost:8080/"
    },
    "id": "dYDWThw_lmmV",
    "outputId": "7d4c79eb-4a59-47f3-a3b2-1306fecf9c7f"
   },
   "outputs": [
    {
     "name": "stdout",
     "output_type": "stream",
     "text": [
      "Logits shape by default (with BOS) torch.Size([1, 3, 50257])\n",
      "Logits shape with BOS torch.Size([1, 3, 50257])\n",
      "Logits shape without BOS - only 2 positions! torch.Size([1, 2, 50257])\n"
     ]
    }
   ],
   "source": [
    "print(\"Logits shape by default (with BOS)\", model(\"Hello World\").shape)\n",
    "print(\"Logits shape with BOS\", model(\"Hello World\", prepend_bos=True).shape)\n",
    "print(\"Logits shape without BOS - only 2 positions!\", model(\"Hello World\", prepend_bos=False).shape)"
   ]
  },
  {
   "cell_type": "markdown",
   "metadata": {
    "id": "zq1z0F0-lmmV"
   },
   "source": [
    "`prepend_bos` is a bit of a hack, and I've gone back and forth on what the correct default here is. The reason I do this is that transformers tend to treat the first token weirdly - this doesn't really matter in training (where all inputs are >1000 tokens), but this can be a big issue when investigating short prompts! The reason for this is that attention patterns are a probability distribution and so need to add up to one, so to simulate being \"off\" they normally look at the first token. Giving them a BOS token lets the heads rest by looking at that, preserving the information in the first \"real\" token.\n",
    "\n",
    "Further, *some* models are trained to need a BOS token (OPT and my interpretability-friendly models are, GPT-2 and GPT-Neo are not). But despite GPT-2 not being trained with this, empirically it seems to make interpretability easier.\n",
    "\n",
    "(However, if you want to change the default behaviour to *not* prepending a BOS token, pass `default_prepend_bos=False` when you instantiate the model, e.g., `model = HookedTransformer.from_pretrained('gpt2', default_prepend_bos=False)`.)\n",
    "\n",
    "For example, the model can get much worse at Indirect Object Identification without a BOS (and with a name as the first token):"
   ]
  },
  {
   "cell_type": "code",
   "execution_count": 41,
   "metadata": {
    "ExecuteTime": {
     "end_time": "2025-02-22T09:41:56.765870Z",
     "start_time": "2025-02-22T09:41:56.679112Z"
    },
    "colab": {
     "base_uri": "https://localhost:8080/"
    },
    "id": "yftv1CMclmmV",
    "outputId": "386595cf-3730-43b9-a024-2d160889a262"
   },
   "outputs": [
    {
     "name": "stdout",
     "output_type": "stream",
     "text": [
      "Logit difference with BOS: 6.754\n",
      "Logit difference without BOS: 2.782\n"
     ]
    }
   ],
   "source": [
    "ioi_logits_with_bos = model(\"Claire and Mary went to the shops, then Mary gave a bottle of milk to\", prepend_bos=True)\n",
    "mary_logit_with_bos = ioi_logits_with_bos[0, -1, model.to_single_token(\" Mary\")].item()\n",
    "claire_logit_with_bos = ioi_logits_with_bos[0, -1, model.to_single_token(\" Claire\")].item()\n",
    "print(f\"Logit difference with BOS: {(claire_logit_with_bos - mary_logit_with_bos):.3f}\")\n",
    "\n",
    "ioi_logits_without_bos = model(\"Claire and Mary went to the shops, then Mary gave a bottle of milk to\", prepend_bos=False)\n",
    "mary_logit_without_bos = ioi_logits_without_bos[0, -1, model.to_single_token(\" Mary\")].item()\n",
    "claire_logit_without_bos = ioi_logits_without_bos[0, -1, model.to_single_token(\" Claire\")].item()\n",
    "print(f\"Logit difference without BOS: {(claire_logit_without_bos - mary_logit_without_bos):.3f}\")"
   ]
  },
  {
   "cell_type": "markdown",
   "metadata": {
    "id": "0ZI8enGelmmV"
   },
   "source": [
    "Though, note that this also illustrates another gotcha - when `Claire` is at the start of a sentence (no preceding space), it's actually *two* tokens, not one, which probably confuses the relevant circuit. (Note - in this test we put `prepend_bos=False`, because we want to analyse the tokenization of a specific string, not to give an input to the model!)"
   ]
  },
  {
   "cell_type": "code",
   "execution_count": 42,
   "metadata": {
    "ExecuteTime": {
     "end_time": "2025-02-22T09:41:56.964576Z",
     "start_time": "2025-02-22T09:41:56.960152Z"
    },
    "colab": {
     "base_uri": "https://localhost:8080/"
    },
    "id": "YXtxxrnZlmmV",
    "outputId": "9990ecc0-a965-43d1-c360-06d97bb2415a"
   },
   "outputs": [
    {
     "name": "stdout",
     "output_type": "stream",
     "text": [
      "| Claire| -> [' Claire']\n",
      "|Claire| -> ['Cl', 'aire']\n"
     ]
    }
   ],
   "source": [
    "print(f\"| Claire| -> {model.to_str_tokens(' Claire', prepend_bos=False)}\")\n",
    "print(f\"|Claire| -> {model.to_str_tokens('Claire', prepend_bos=False)}\")"
   ]
  },
  {
   "cell_type": "markdown",
   "metadata": {
    "id": "_qEgU4e0lmmV"
   },
   "source": [
    "## Factored Matrix Class\n",
    "\n",
    "In transformer interpretability, we often need to analyse low rank factorized matrices - a matrix $M = AB$, where M is `[large, large]`, but A is `[large, small]` and B is `[small, large]`. This is a common structure in transformers, and the `FactoredMatrix` class is a convenient way to work with these. It implements efficient algorithms for various operations on these, such as computing the trace, eigenvalues, Frobenius norm, singular value decomposition, and products with other matrices. It can (approximately) act as a drop-in replacement for the original matrix, and supports leading batch dimensions to the factored matrix.\n",
    "\n",
    "<details><summary>Why are low-rank factorized matrices useful for transformer interpretability?</summary>\n",
    "\n",
    "As argued in [A Mathematical Framework](https://transformer-circuits.pub/2021/framework/index.html), an unexpected fact about transformer attention heads is that rather than being best understood as keys, queries and values (and the requisite weight matrices), they're actually best understood as two low rank factorized matrices.\n",
    "* **Where to move information from:** $W_QK = W_Q W_K^T$, used for determining the attention pattern - what source positions to move information from and what destination positions to move them to.\n",
    "    * Intuitively, residual stream -> query and residual stream -> key are linear maps, *and* `attention_score = query @ key.T` is a linear map, so the whole thing can be factored into one big bilinear form `residual @ W_QK @ residual.T`\n",
    "* **What information to move:** $W_OV = W_V W_O$, used to determine what information to copy from the source position to the destination position (weighted by the attention pattern weight from that destination to that source).\n",
    "    * Intuitively, the residual stream is a `[position, d_model]` tensor (ignoring batch). The attention pattern acts on the *position* dimension (where to move information from and to) and the value and output weights act on the *d_model* dimension - ie *what* information is contained at that source position. So we can factor it all into `attention_pattern @ residual @ W_V @ W_O`, and so only need to care about `W_OV = W_V @ W_O`\n",
    "* Note - the internal head dimension is smaller than the residual stream dimension, so the factorization is low rank. (here, `d_model=768` and `d_head=64`)\n",
    "</details>"
   ]
  },
  {
   "cell_type": "markdown",
   "metadata": {
    "id": "Vlg86HWBlmmW"
   },
   "source": [
    "### Basic Examples"
   ]
  },
  {
   "cell_type": "markdown",
   "metadata": {
    "id": "au2K6oCFlmmW"
   },
   "source": [
    "We can use the basic class directly - let's make a factored matrix directly and look at the basic operations:"
   ]
  },
  {
   "cell_type": "code",
   "execution_count": 43,
   "metadata": {
    "ExecuteTime": {
     "end_time": "2025-02-22T09:41:57.216425Z",
     "start_time": "2025-02-22T09:41:57.173470Z"
    },
    "colab": {
     "base_uri": "https://localhost:8080/"
    },
    "id": "MkPODAdplmmW",
    "outputId": "90faad29-f70f-4cb9-ffaf-351f90edd8de"
   },
   "outputs": [
    {
     "name": "stdout",
     "output_type": "stream",
     "text": [
      "Norms:\n",
      "tensor(10.1418)\n",
      "tensor(10.1418)\n",
      "Right dimension: 5, Left dimension: 5, Hidden dimension: 2\n"
     ]
    }
   ],
   "source": [
    "if IN_GITHUB:\n",
    "    torch.manual_seed(50)\n",
    "A = torch.randn(5, 2)\n",
    "B = torch.randn(2, 5)\n",
    "\n",
    "AB = A @ B\n",
    "AB_factor = FactoredMatrix(A, B)\n",
    "print(\"Norms:\")\n",
    "print(AB.norm())\n",
    "print(AB_factor.norm())\n",
    "\n",
    "print(f\"Right dimension: {AB_factor.rdim}, Left dimension: {AB_factor.ldim}, Hidden dimension: {AB_factor.mdim}\")"
   ]
  },
  {
   "cell_type": "markdown",
   "metadata": {
    "id": "5bow9AgtlmmW"
   },
   "source": [
    "We can also look at the eigenvalues and singular values of the matrix. Note that, because the matrix is rank 2 but 5 by 5, the final 3 eigenvalues and singular values are zero - the factored class omits the zeros."
   ]
  },
  {
   "cell_type": "code",
   "execution_count": 44,
   "metadata": {
    "ExecuteTime": {
     "end_time": "2025-02-22T09:41:57.430774Z",
     "start_time": "2025-02-22T09:41:57.426728Z"
    },
    "colab": {
     "base_uri": "https://localhost:8080/"
    },
    "id": "MQlTGTzMlmmW",
    "outputId": "e68ae445-86f8-4dee-c32e-20011af79d0a"
   },
   "outputs": [
    {
     "name": "stdout",
     "output_type": "stream",
     "text": [
      "Eigenvalues:\n",
      "tensor([-2.7160e+00+0.0000e+00j,  1.2656e+00+0.0000e+00j,\n",
      "        -9.8867e-07+0.0000e+00j,  7.3634e-08+5.2632e-08j,\n",
      "         7.3634e-08-5.2632e-08j])\n",
      "tensor([ 1.2656+0.j, -2.7160+0.j])\n",
      "\n",
      "Singular Values:\n",
      "tensor([9.7531e+00, 2.7811e+00, 5.6255e-07, 1.0294e-07, 4.4540e-08])\n",
      "tensor([9.7531, 2.7811])\n"
     ]
    }
   ],
   "source": [
    "# NBVAL_IGNORE_OUTPUT\n",
    "print(\"Eigenvalues:\")\n",
    "print(torch.linalg.eig(AB).eigenvalues)\n",
    "print(AB_factor.eigenvalues)\n",
    "print()\n",
    "print(\"Singular Values:\")\n",
    "print(torch.linalg.svd(AB).S)\n",
    "print(AB_factor.S)"
   ]
  },
  {
   "cell_type": "markdown",
   "metadata": {
    "id": "8Ezf6M8AlmmW"
   },
   "source": [
    "We can multiply with other matrices - it automatically chooses the smallest possible dimension to factor along (here it's 2, rather than 5)"
   ]
  },
  {
   "cell_type": "code",
   "execution_count": 45,
   "metadata": {
    "ExecuteTime": {
     "end_time": "2025-02-22T09:41:57.634364Z",
     "start_time": "2025-02-22T09:41:57.629889Z"
    },
    "colab": {
     "base_uri": "https://localhost:8080/"
    },
    "id": "XrnvdKC_lmmW",
    "outputId": "1a370139-7fa4-4eb5-dc4f-ccb53606bac7"
   },
   "outputs": [
    {
     "name": "stdout",
     "output_type": "stream",
     "text": [
      "Unfactored: torch.Size([5, 300]) tensor(169.6640)\n",
      "Factored: torch.Size([5, 300]) tensor(169.6640)\n",
      "Right dimension: 300, Left dimension: 5, Hidden dimension: 2\n"
     ]
    }
   ],
   "source": [
    "if IN_GITHUB:\n",
    "    torch.manual_seed(50)\n",
    "\n",
    "C = torch.randn(5, 300)\n",
    "\n",
    "ABC = AB @ C\n",
    "ABC_factor = AB_factor @ C\n",
    "print(\"Unfactored:\", ABC.shape, ABC.norm().round(decimals=3))\n",
    "print(\"Factored:\", ABC_factor.shape, ABC_factor.norm().round(decimals=3))\n",
    "print(f\"Right dimension: {ABC_factor.rdim}, Left dimension: {ABC_factor.ldim}, Hidden dimension: {ABC_factor.mdim}\")"
   ]
  },
  {
   "cell_type": "markdown",
   "metadata": {
    "id": "QOUsJU1mlmmW"
   },
   "source": [
    "If we want to collapse this back to an unfactored matrix, we can use the AB property to get the product:"
   ]
  },
  {
   "cell_type": "code",
   "execution_count": 46,
   "metadata": {
    "ExecuteTime": {
     "end_time": "2025-02-22T09:41:57.860130Z",
     "start_time": "2025-02-22T09:41:57.856291Z"
    },
    "colab": {
     "base_uri": "https://localhost:8080/"
    },
    "id": "2MdozIlmlmmW",
    "outputId": "520a45cf-bb72-47dc-ec8e-719d7aaa81f2"
   },
   "outputs": [
    {
     "name": "stdout",
     "output_type": "stream",
     "text": [
      "tensor(True)\n"
     ]
    }
   ],
   "source": [
    "AB_unfactored = AB_factor.AB\n",
    "print(torch.isclose(AB_unfactored, AB).all())"
   ]
  },
  {
   "cell_type": "markdown",
   "metadata": {
    "id": "pv95fGXVlmmX"
   },
   "source": [
    "### Medium Example: Eigenvalue Copying Scores\n",
    "\n",
    "(This is a more involved example of how to use the factored matrix class, skip it if you aren't following)\n",
    "\n",
    "For a more involved example, let's look at the eigenvalue copying score from [A Mathematical Framework](https://transformer-circuits.pub/2021/framework/index.html) of the OV circuit for various heads. The OV Circuit for a head (the factorised matrix $W_OV = W_V W_O$) is a linear map that determines what information is moved from the source position to the destination position. Because this is low rank, it can be thought of as *reading in* some low rank subspace of the source residual stream and *writing to* some low rank subspace of the destination residual stream (with maybe some processing happening in the middle).\n",
    "\n",
    "A common operation for this will just be to *copy*, ie to have the same reading and writing subspace, and to do minimal processing in the middle. Empirically, this tends to coincide with the OV Circuit having (approximately) positive real eigenvalues. I mostly assert this as an empirical fact, but intuitively, operations that involve mapping eigenvectors to different directions (eg rotations) tend to have complex eigenvalues. And operations that preserve eigenvector direction but negate it tend to have negative real eigenvalues. And \"what happens to the eigenvectors\" is a decent proxy for what happens to an arbitrary vector.\n",
    "\n",
    "We can get a score for \"how positive real the OV circuit eigenvalues are\" with $\\frac{\\sum \\lambda_i}{\\sum |\\lambda_i|}$, where $\\lambda_i$ are the eigenvalues of the OV circuit. This is a bit of a hack, but it seems to work well in practice."
   ]
  },
  {
   "cell_type": "markdown",
   "metadata": {
    "id": "bGSDQT7UlmmX"
   },
   "source": [
    "Let's use FactoredMatrix to compute this for every head in the model! We use the helper `model.OV` to get the concatenated OV circuits for all heads across all layers in the model. This has the shape `[n_layers, n_heads, d_model, d_model]`, where `n_layers` and `n_heads` are batch dimensions and the final two dimensions are factorised as `[n_layers, n_heads, d_model, d_head]` and `[n_layers, n_heads, d_head, d_model]` matrices.\n",
    "\n",
    "We can then get the eigenvalues for this, where there are separate eigenvalues for each element of the batch (a `[n_layers, n_heads, d_head]` tensor of complex numbers), and calculate the copying score."
   ]
  },
  {
   "cell_type": "code",
   "execution_count": 47,
   "metadata": {
    "ExecuteTime": {
     "end_time": "2025-02-22T09:41:58.076363Z",
     "start_time": "2025-02-22T09:41:58.073389Z"
    },
    "colab": {
     "base_uri": "https://localhost:8080/"
    },
    "id": "qcQ0gi-1lmmX",
    "outputId": "34a8bfc8-0a00-4352-e5a9-e9045bf97ad7"
   },
   "outputs": [
    {
     "name": "stdout",
     "output_type": "stream",
     "text": [
      "FactoredMatrix: Shape(torch.Size([12, 12, 768, 768])), Hidden Dim(64)\n"
     ]
    }
   ],
   "source": [
    "OV_circuit_all_heads = model.OV\n",
    "print(OV_circuit_all_heads)"
   ]
  },
  {
   "cell_type": "code",
   "execution_count": 48,
   "metadata": {
    "ExecuteTime": {
     "end_time": "2025-02-22T09:41:58.397437Z",
     "start_time": "2025-02-22T09:41:58.293134Z"
    },
    "colab": {
     "base_uri": "https://localhost:8080/"
    },
    "id": "5uM3kWYrlmmX",
    "outputId": "d48c4a1a-e030-4105-f735-dd95e2104bc3"
   },
   "outputs": [
    {
     "name": "stdout",
     "output_type": "stream",
     "text": [
      "torch.Size([12, 12, 64])\n",
      "torch.complex64\n"
     ]
    }
   ],
   "source": [
    "OV_circuit_all_heads_eigenvalues = OV_circuit_all_heads.eigenvalues\n",
    "print(OV_circuit_all_heads_eigenvalues.shape)\n",
    "print(OV_circuit_all_heads_eigenvalues.dtype)"
   ]
  },
  {
   "cell_type": "code",
   "execution_count": 49,
   "metadata": {
    "ExecuteTime": {
     "end_time": "2025-02-22T09:41:58.734007Z",
     "start_time": "2025-02-22T09:41:58.651946Z"
    },
    "colab": {
     "base_uri": "https://localhost:8080/",
     "height": 542
    },
    "id": "-dER-nNslmmX",
    "outputId": "fe878e7d-122b-41d8-ff7c-d2928e0f4295"
   },
   "outputs": [],
   "source": [
    "OV_copying_score = OV_circuit_all_heads_eigenvalues.sum(dim=-1).real / OV_circuit_all_heads_eigenvalues.abs().sum(dim=-1)\n",
    "imshow(utils.to_numpy(OV_copying_score), xaxis=\"Head\", yaxis=\"Layer\", title=\"OV Copying Score for each head in GPT-2 Small\", zmax=1.0, zmin=-1.0)"
   ]
  },
  {
   "cell_type": "markdown",
   "metadata": {
    "id": "xqpxEZeUlmmX"
   },
   "source": [
    "Head 11 in Layer 11 (L11H11) has a high copying score, and if we plot the eigenvalues they look approximately as expected."
   ]
  },
  {
   "cell_type": "code",
   "execution_count": 50,
   "metadata": {
    "ExecuteTime": {
     "end_time": "2025-02-22T09:41:59.013554Z",
     "start_time": "2025-02-22T09:41:58.989411Z"
    },
    "colab": {
     "base_uri": "https://localhost:8080/",
     "height": 542
    },
    "id": "OgUgXhlvlmmX",
    "outputId": "b4756e73-a5e1-4df6-9567-61d5802d2f8f"
   },
   "outputs": [],
   "source": [
    "scatter(x=OV_circuit_all_heads_eigenvalues[-1, -1, :].real, y=OV_circuit_all_heads_eigenvalues[-1, -1, :].imag, title=\"Eigenvalues of Head L11H11 of GPT-2 Small\", xaxis=\"Real\", yaxis=\"Imaginary\")"
   ]
  },
  {
   "cell_type": "markdown",
   "metadata": {
    "id": "9D7dEwj9lmmX"
   },
   "source": [
    "We can even look at the full OV circuit, from the input tokens to output tokens: $W_E W_V W_O W_U$. This is a `[d_vocab, d_vocab]==[50257, 50257]` matrix, so absolutely enormous, even for a single head. But with the FactoredMatrix class, we can compute the full eigenvalue copying score of every head in a few seconds."
   ]
  },
  {
   "cell_type": "code",
   "execution_count": 51,
   "metadata": {
    "ExecuteTime": {
     "end_time": "2025-02-22T09:41:59.309695Z",
     "start_time": "2025-02-22T09:41:59.290261Z"
    },
    "colab": {
     "base_uri": "https://localhost:8080/"
    },
    "id": "BMhX-QjmlmmX",
    "outputId": "a90d2f87-9115-4852-b0f2-eb4378ce8ecf"
   },
   "outputs": [
    {
     "name": "stdout",
     "output_type": "stream",
     "text": [
      "FactoredMatrix: Shape(torch.Size([12, 12, 50257, 50257])), Hidden Dim(64)\n"
     ]
    }
   ],
   "source": [
    "full_OV_circuit = model.embed.W_E @ OV_circuit_all_heads @ model.unembed.W_U\n",
    "print(full_OV_circuit)"
   ]
  },
  {
   "cell_type": "code",
   "execution_count": 52,
   "metadata": {
    "ExecuteTime": {
     "end_time": "2025-02-22T09:42:00.005254Z",
     "start_time": "2025-02-22T09:41:59.893384Z"
    },
    "colab": {
     "base_uri": "https://localhost:8080/"
    },
    "id": "YX6pI6Y6lmmX",
    "outputId": "d97a626b-bc5a-4491-9c3b-00f1458e87c5"
   },
   "outputs": [
    {
     "name": "stdout",
     "output_type": "stream",
     "text": [
      "torch.Size([12, 12, 64])\n",
      "torch.complex64\n"
     ]
    }
   ],
   "source": [
    "full_OV_circuit_eigenvalues = full_OV_circuit.eigenvalues\n",
    "print(full_OV_circuit_eigenvalues.shape)\n",
    "print(full_OV_circuit_eigenvalues.dtype)"
   ]
  },
  {
   "cell_type": "code",
   "execution_count": 53,
   "metadata": {
    "ExecuteTime": {
     "end_time": "2025-02-22T09:42:00.224639Z",
     "start_time": "2025-02-22T09:42:00.202852Z"
    },
    "colab": {
     "base_uri": "https://localhost:8080/",
     "height": 542
    },
    "id": "jr1NzgxLlmmX",
    "outputId": "91948895-ba53-4f00-e2a9-7d0074bcf1b2"
   },
   "outputs": [],
   "source": [
    "full_OV_copying_score = full_OV_circuit_eigenvalues.sum(dim=-1).real / full_OV_circuit_eigenvalues.abs().sum(dim=-1)\n",
    "imshow(utils.to_numpy(full_OV_copying_score), xaxis=\"Head\", yaxis=\"Layer\", title=\"OV Copying Score for each head in GPT-2 Small\", zmax=1.0, zmin=-1.0)"
   ]
  },
  {
   "cell_type": "markdown",
   "metadata": {
    "id": "WddqdLhtlmmY"
   },
   "source": [
    "Interestingly, these are highly (but not perfectly!) correlated. I'm not sure what to read from this, or what's up with the weird outlier heads!"
   ]
  },
  {
   "cell_type": "code",
   "execution_count": 54,
   "metadata": {
    "ExecuteTime": {
     "end_time": "2025-02-22T09:42:00.448419Z",
     "start_time": "2025-02-22T09:42:00.423986Z"
    },
    "colab": {
     "base_uri": "https://localhost:8080/",
     "height": 542
    },
    "id": "wkjdKOqXlmmY",
    "outputId": "06f856b6-2873-4a4a-8c35-7b0965646940"
   },
   "outputs": [],
   "source": [
    "scatter(x=full_OV_copying_score.flatten(), y=OV_copying_score.flatten(), hover_name=[f\"L{layer}H{head}\" for layer in range(12) for head in range(12)], title=\"OV Copying Score for each head in GPT-2 Small\", xaxis=\"Full OV Copying Score\", yaxis=\"OV Copying Score\")"
   ]
  },
  {
   "cell_type": "code",
   "execution_count": 55,
   "metadata": {
    "ExecuteTime": {
     "end_time": "2025-02-22T09:42:00.654276Z",
     "start_time": "2025-02-22T09:42:00.651250Z"
    },
    "colab": {
     "base_uri": "https://localhost:8080/"
    },
    "id": "mzDAiiUnlmmY",
    "outputId": "678a84ae-9f6b-4aa4-8371-b8b5c35395cc"
   },
   "outputs": [
    {
     "name": "stdout",
     "output_type": "stream",
     "text": [
      "Token 256 - the most common pair of ASCII characters: | t|\n",
      "De-Tokenizing the example tokens: <|endoftext|>The first thing you need to figure out is *how* things are tokenized. `model.to_str_tokens` splits a string into the tokens *as a list of substrings*, and so lets you explore what the text looks like. To demonstrate this, let's use it on this paragraph.\n"
     ]
    }
   ],
   "source": [
    "print(f\"Token 256 - the most common pair of ASCII characters: |{model.to_string(256)}|\")\n",
    "# Squeeze means to remove dimensions of length 1.\n",
    "# Here, that removes the dummy batch dimension so it's a rank 1 tensor and returns a string\n",
    "# Rank 2 tensors map to a list of strings\n",
    "print(f\"De-Tokenizing the example tokens: {model.to_string(example_text_tokens.squeeze())}\")"
   ]
  },
  {
   "cell_type": "markdown",
   "metadata": {
    "id": "xMJrCymMlmmY"
   },
   "source": [
    "## Generating Text"
   ]
  },
  {
   "cell_type": "markdown",
   "metadata": {
    "id": "w6jgvSmWlmmY"
   },
   "source": [
    "TransformerLens also has basic text generation functionality, which can be useful for generally exploring what the model is capable of (thanks to Ansh Radhakrishnan for adding this!). This is pretty rough functionality, and where possible I recommend using more established libraries like HuggingFace for this."
   ]
  },
  {
   "cell_type": "code",
   "execution_count": 56,
   "metadata": {
    "ExecuteTime": {
     "end_time": "2025-02-22T09:42:01.692706Z",
     "start_time": "2025-02-22T09:42:00.849723Z"
    },
    "colab": {
     "base_uri": "https://localhost:8080/",
     "height": 85,
     "referenced_widgets": [
      "33ef0f6399824b488721578d4da2702f",
      "8438aa043ce44482b1e55cb40028a403",
      "dc050a20b6894ebab02b85e072223b7a",
      "6ef28e19e6354888918cb77527b8e5b9",
      "802ea796e8184938ba925fb5932e4ee6",
      "6ffaeded231e4f93974fe439f11eb724",
      "0f61156bea1646c694bf4f75b411c9d9",
      "414831b7cbc74e298269e4d79262995c",
      "b2fa5bd859c14c18a5542b613d955fcc",
      "5b2a74f4428f47dd9488ad0f08047ade",
      "9ab4e3caab8f4ea69d96307bc49b7842"
     ]
    },
    "id": "bAaqEjK2lmmY",
    "outputId": "aaf7fbc2-e3c5-4391-8a64-e6b79c67f60c"
   },
   "outputs": [
    {
     "data": {
      "application/vnd.jupyter.widget-view+json": {
       "model_id": "cf6a3636b8d3476a97f3faab5905404c",
       "version_major": 2,
       "version_minor": 0
      },
      "text/plain": [
       "  0%|          | 0/50 [00:00<?, ?it/s]"
      ]
     },
     "metadata": {},
     "output_type": "display_data"
    },
    {
     "data": {
      "text/plain": [
       "'(CNN) President Barack Obama caught in embarrassing new scandal\\n\\nHere\\'s the story. In this clip, Barack Obama is caught on tape saying, \"I\\'ve got a good time with this guy.\"\\n\\nThe White House insists that Obama\\'s comments from a meeting with Russian ambassador Sergey Kislyak were not the'"
      ]
     },
     "execution_count": 56,
     "metadata": {},
     "output_type": "execute_result"
    }
   ],
   "source": [
    "# NBVAL_IGNORE_OUTPUT\n",
    "model.generate(\"(CNN) President Barack Obama caught in embarrassing new scandal\\n\", max_new_tokens=50, temperature=0.7, prepend_bos=True)"
   ]
  },
  {
   "cell_type": "markdown",
   "metadata": {
    "id": "qac84vt3lmmY"
   },
   "source": [
    "## Hook Points\n",
    "\n",
    "The key part of TransformerLens that lets us access and edit intermediate activations are the HookPoints around every model activation. Importantly, this technique will work for *any* model architecture, not just transformers, so long as you're able to edit the model code to add in HookPoints! This is essentially a lightweight library bundled with TransformerLens that should let you take an arbitrary model and make it easier to study."
   ]
  },
  {
   "cell_type": "markdown",
   "metadata": {
    "id": "zuAj2RbHlmmY"
   },
   "source": [
    "This is implemented by having a HookPoint layer. Each transformer component has a HookPoint for every activation, which wraps around that activation. The HookPoint acts as an identity function, but has a variety of helper functions that allows us to put PyTorch hooks in to edit and access the relevant activation.\n",
    "\n",
    "There is also a `HookedRootModule` class - this is a utility class that the root module should inherit from (root module = the model we run) - it has several utility functions for using hooks well, notably `reset_hooks`, `run_with_cache` and `run_with_hooks`.\n",
    "\n",
    "The default interface is the `run_with_hooks` function on the root module, which lets us run a forwards pass on the model, and pass on a list of hooks paired with layer names to run on that pass.\n",
    "\n",
    "The syntax for a hook is `function(activation, hook)` where `activation` is the activation the hook is wrapped around, and `hook` is the `HookPoint` class the function is attached to. If the function returns a new activation or edits the activation in-place, that replaces the old one, if it returns None then the activation remains as is.\n"
   ]
  },
  {
   "cell_type": "markdown",
   "metadata": {
    "id": "cRb3PLFGlmmY"
   },
   "source": [
    "### Toy Example"
   ]
  },
  {
   "cell_type": "markdown",
   "metadata": {
    "id": "c26Gnh2ElmmY"
   },
   "source": [
    "\n",
    "Here's a simple example of defining a small network with HookPoints:\n",
    "\n",
    "We define a basic network with two layers that each take a scalar input $x$, square it, and add a constant:\n",
    "$x_0=x$, $x_1=x_0^2+3$, $x_2=x_1^2-4$.\n",
    "\n",
    "We wrap the input, each layer's output, and the intermediate value of each layer (the square) in a hook point.\n",
    "\n"
   ]
  },
  {
   "cell_type": "code",
   "execution_count": 57,
   "metadata": {
    "ExecuteTime": {
     "end_time": "2025-02-22T09:42:01.904080Z",
     "start_time": "2025-02-22T09:42:01.900065Z"
    },
    "id": "3bIXS6fplmmZ"
   },
   "outputs": [],
   "source": [
    "\n",
    "from transformer_lens.hook_points import HookedRootModule, HookPoint\n",
    "\n",
    "\n",
    "class SquareThenAdd(nn.Module):\n",
    "    def __init__(self, offset):\n",
    "        super().__init__()\n",
    "        self.offset = nn.Parameter(torch.tensor(offset))\n",
    "        self.hook_square = HookPoint()\n",
    "\n",
    "    def forward(self, x):\n",
    "        # The hook_square doesn't change the value, but lets us access it\n",
    "        square = self.hook_square(x * x)\n",
    "        return self.offset + square\n",
    "\n",
    "\n",
    "class TwoLayerModel(HookedRootModule):\n",
    "    def __init__(self):\n",
    "        super().__init__()\n",
    "        self.layer1 = SquareThenAdd(3.0)\n",
    "        self.layer2 = SquareThenAdd(-4.0)\n",
    "        self.hook_in = HookPoint()\n",
    "        self.hook_mid = HookPoint()\n",
    "        self.hook_out = HookPoint()\n",
    "\n",
    "        # We need to call the setup function of HookedRootModule to build an\n",
    "        # internal dictionary of modules and hooks, and to give each hook a name\n",
    "        super().setup()\n",
    "\n",
    "    def forward(self, x):\n",
    "        # We wrap the input and each layer's output in a hook - they leave the\n",
    "        # value unchanged (unless there's a hook added to explicitly change it),\n",
    "        # but allow us to access it.\n",
    "        x_in = self.hook_in(x)\n",
    "        x_mid = self.hook_mid(self.layer1(x_in))\n",
    "        x_out = self.hook_out(self.layer2(x_mid))\n",
    "        return x_out\n",
    "\n",
    "\n",
    "model = TwoLayerModel()\n"
   ]
  },
  {
   "cell_type": "markdown",
   "metadata": {
    "id": "G4f9BVCBlmmZ"
   },
   "source": [
    "\n",
    "We can add a cache, to save the activation at each hook point\n",
    "\n",
    "(There's a custom `run_with_cache` function on the root module as a convenience, which is a wrapper around model.forward that return model_out, cache_object - we could also manually add hooks with `run_with_hooks` that store activations in a global caching dictionary. This is often useful if we only want to store, eg, subsets or functions of some activations.)\n"
   ]
  },
  {
   "cell_type": "code",
   "execution_count": 58,
   "metadata": {
    "ExecuteTime": {
     "end_time": "2025-02-22T09:42:02.111577Z",
     "start_time": "2025-02-22T09:42:02.108366Z"
    },
    "colab": {
     "base_uri": "https://localhost:8080/"
    },
    "id": "pUx_v1ITlmmZ",
    "outputId": "bdb1e23a-8bda-4dce-d4c0-c304c0e9d707"
   },
   "outputs": [
    {
     "name": "stdout",
     "output_type": "stream",
     "text": [
      "Model output: 780.0\n",
      "Value cached at hook hook_in 5.0\n",
      "Value cached at hook layer1.hook_square 25.0\n",
      "Value cached at hook hook_mid 28.0\n",
      "Value cached at hook layer2.hook_square 784.0\n",
      "Value cached at hook hook_out 780.0\n"
     ]
    }
   ],
   "source": [
    "\n",
    "out, cache = model.run_with_cache(torch.tensor(5.0))\n",
    "print(\"Model output:\", out.item())\n",
    "for key in cache:\n",
    "    print(f\"Value cached at hook {key}\", cache[key].item())\n",
    "\n"
   ]
  },
  {
   "cell_type": "markdown",
   "metadata": {
    "id": "d0JSpb9xlmmZ"
   },
   "source": [
    "\n",
    "We can also use hooks to intervene on activations - eg, we can set the intermediate value in layer 2 to zero to change the output to -5\n"
   ]
  },
  {
   "cell_type": "code",
   "execution_count": 59,
   "metadata": {
    "ExecuteTime": {
     "end_time": "2025-02-22T09:42:02.319923Z",
     "start_time": "2025-02-22T09:42:02.315796Z"
    },
    "colab": {
     "base_uri": "https://localhost:8080/"
    },
    "id": "710A5giHlmmZ",
    "outputId": "159436f4-4a46-4574-cf83-5df298571f5e"
   },
   "outputs": [
    {
     "name": "stdout",
     "output_type": "stream",
     "text": [
      "layer2.hook_square\n",
      "Output after intervening on layer2.hook_scaled -4.0\n"
     ]
    }
   ],
   "source": [
    "\n",
    "def set_to_zero_hook(tensor, hook):\n",
    "    print(hook.name)\n",
    "    return torch.tensor(0.0)\n",
    "\n",
    "\n",
    "print(\n",
    "    \"Output after intervening on layer2.hook_scaled\",\n",
    "    model.run_with_hooks(\n",
    "        torch.tensor(5.0), fwd_hooks=[(\"layer2.hook_square\", set_to_zero_hook)]\n",
    "    ).item(),\n",
    ")"
   ]
  },
  {
   "cell_type": "markdown",
   "metadata": {
    "id": "D-shpaI9lmmZ"
   },
   "source": [
    "## Loading Pre-Trained Checkpoints\n",
    "\n",
    "There are a lot of interesting questions combining mechanistic interpretability and training dynamics - analysing model capabilities and the underlying circuits that make them possible, and how these change as we train the model.\n",
    "\n",
    "TransformerLens supports these by having several model families with checkpoints throughout training. `HookedTransformer.from_pretrained` can load a checkpoint of a model with the `checkpoint_index` (the label 0 to `num_checkpoints-1`) or `checkpoint_value` (the step or token number, depending on how the checkpoints were labelled)."
   ]
  },
  {
   "cell_type": "markdown",
   "metadata": {
    "id": "-qY4BR7jlmmZ"
   },
   "source": [
    "\n",
    "Available models:\n",
    "* All of my interpretability-friendly models have checkpoints available, including:\n",
    "    * The toy models - `attn-only`, `solu`, `gelu` 1L to 4L\n",
    "        * These have ~200 checkpoints, taken on a piecewise linear schedule (more checkpoints near the start of training), up to 22B tokens. Labelled by number of tokens seen.\n",
    "    * The SoLU models trained on 80% Web Text and 20% Python Code (`solu-6l` to `solu-12l`)\n",
    "        * Same checkpoint schedule as the toy models, this time up to 30B tokens\n",
    "    * The SoLU models trained on the pile (`solu-1l-pile` to `solu-12l-pile`)\n",
    "        * These have ~100 checkpoints, taken on a linear schedule, up to 15B tokens. Labelled by number of steps.\n",
    "        * The 12L training crashed around 11B tokens, so is truncated.\n",
    "* The Stanford Centre for Research of Foundation Models trained 5 GPT-2 Small sized and 5 GPT-2 Medium sized models (`stanford-gpt2-small-a` to `e` and `stanford-gpt2-medium-a` to `e`)\n",
    "    * 600 checkpoints, taken on a piecewise linear schedule, labelled by the number of steps."
   ]
  },
  {
   "cell_type": "markdown",
   "metadata": {
    "id": "jIe0yj_dlmmZ"
   },
   "source": [
    "The checkpoint structure and labels is somewhat messy and ad-hoc, so I mostly recommend using the `checkpoint_index` syntax (where you can just count from 0 to the number of checkpoints) rather than `checkpoint_value` syntax (where you need to know the checkpoint schedule, and whether it was labelled with the number of tokens or steps). The helper function `get_checkpoint_labels` tells you the checkpoint schedule for a given model - ie what point was each checkpoint taken at, and what type of label was used.\n",
    "\n",
    "Here are graphs of the schedules for several checkpointed models: (note that the first 3 use a log scale, latter 2 use a linear scale)"
   ]
  },
  {
   "cell_type": "code",
   "execution_count": 60,
   "metadata": {
    "ExecuteTime": {
     "end_time": "2025-02-22T09:42:04.391231Z",
     "start_time": "2025-02-22T09:42:02.536947Z"
    },
    "colab": {
     "base_uri": "https://localhost:8080/",
     "height": 1000
    },
    "id": "bco7YybtlmmZ",
    "outputId": "cdbebbe1-b9ba-437c-dd47-c8312eafe7d6"
   },
   "outputs": [],
   "source": [
    "from transformer_lens.loading_from_pretrained import get_checkpoint_labels\n",
    "for model_name in [\"attn-only-2l\", \"solu-12l\", \"stanford-gpt2-small-a\"]:\n",
    "    checkpoint_labels, checkpoint_label_type = get_checkpoint_labels(model_name)\n",
    "    line(checkpoint_labels, xaxis=\"Checkpoint Index\", yaxis=f\"Checkpoint Value ({checkpoint_label_type})\", title=f\"Checkpoint Values for {model_name} (Log scale)\", log_y=True, markers=True)\n",
    "for model_name in [\"solu-1l-pile\", \"solu-6l-pile\"]:\n",
    "    checkpoint_labels, checkpoint_label_type = get_checkpoint_labels(model_name)\n",
    "    line(checkpoint_labels, xaxis=\"Checkpoint Index\", yaxis=f\"Checkpoint Value ({checkpoint_label_type})\", title=f\"Checkpoint Values for {model_name} (Linear scale)\", log_y=False, markers=True)"
   ]
  },
  {
   "cell_type": "markdown",
   "metadata": {
    "id": "OVMsHWvklmmZ"
   },
   "source": [
    "### Example: Induction Head Phase Transition"
   ]
  },
  {
   "cell_type": "markdown",
   "metadata": {
    "id": "px1QMkv8lmma"
   },
   "source": [
    "One of the more interesting results analysing circuit formation during training is the [induction head phase transition](https://transformer-circuits.pub/2022/in-context-learning-and-induction-heads/index.html). They find a pretty dramatic shift in models during training - there's a brief period where models go from not having induction heads to having them, which leads to the models suddenly becoming much better at in-context learning (using far back tokens to predict the next token, eg over 500 words back). This is enough of a big deal that it leads to a visible *bump* in the loss curve, where the model's rate of improvement briefly increases."
   ]
  },
  {
   "cell_type": "markdown",
   "metadata": {
    "id": "555PJuc2lmma"
   },
   "source": [
    "As a brief demonstration of the existence of the phase transition, let's load some checkpoints of a two layer model, and see whether they have induction heads. An easy test, as we used above, is to give the model a repeated sequence of random tokens, and to check how good its loss is on the second half. `evals.induction_loss` is a rough util that runs this test on a model.\n",
    "(Note - this is deliberately a rough, non-rigorous test for the purposes of demonstration, eg `evals.induction_loss` by default just runs it on 4 sequences of 384 tokens repeated twice. These results totally don't do the paper justice - go check it out if you want to see the full results!)"
   ]
  },
  {
   "cell_type": "markdown",
   "metadata": {
    "id": "tY1Xx12-lmma"
   },
   "source": [
    "In the interests of time and memory, let's look at a handful of checkpoints (chosen to be around the phase change), indices `[10, 25, 35, 60, -1]`. These are roughly 22M, 200M, 500M, 1.6B and 21.8B tokens through training, respectively. (I generally recommend looking things up based on indices, rather than checkpoint value!)."
   ]
  },
  {
   "cell_type": "code",
   "execution_count": 61,
   "metadata": {
    "ExecuteTime": {
     "end_time": "2025-02-22T09:42:04.621152Z",
     "start_time": "2025-02-22T09:42:04.617777Z"
    },
    "id": "or8slxRMlmma"
   },
   "outputs": [],
   "source": [
    "from transformer_lens import evals\n",
    "# We use the two layer model with SoLU activations, chosen fairly arbitrarily as being both small (so fast to download and keep in memory) and pretty good at the induction task.\n",
    "model_name = \"solu-2l\"\n",
    "# We can load a model from a checkpoint by specifying the checkpoint_index, -1 means the final checkpoint\n",
    "checkpoint_indices = [10, 25, 35, 60, -1]\n",
    "checkpointed_models = []\n",
    "tokens_trained_on = []\n",
    "induction_losses = []"
   ]
  },
  {
   "cell_type": "markdown",
   "metadata": {
    "id": "ieAyqMXqlmma"
   },
   "source": [
    "We load the models, cache them in a list, and"
   ]
  },
  {
   "cell_type": "code",
   "execution_count": 62,
   "metadata": {
    "ExecuteTime": {
     "start_time": "2025-02-22T09:42:05.092033Z"
    },
    "colab": {
     "base_uri": "https://localhost:8080/",
     "height": 392,
     "referenced_widgets": [
      "ee2e462b8489416f9320ad3aaed591b3",
      "2890155606a74e0b8bc362292b62691e",
      "1e81732046d148659cd8f255dae2f4d2",
      "98d83116c5904e95ac7df8556ff12dca",
      "3429a368ac9d47eaaff41d310e08b013",
      "a65b1319a5564aacb6781d662e96aa0b",
      "5f1825a25a0b4f65b59db0042673dffb",
      "ed2d9605661d41968b85d4797c287332",
      "bf91659241034377afeedf6adfc3a9fc",
      "c7e3f5ef0e9940628a2c8294f47ee9eb",
      "3188dda7e08c435497bbec58093c7756",
      "9f783ed2c6444cee897932217e6e6e43",
      "d15a2f9b622a47b086afcf2d4a51287b",
      "07775b6f6ec0459ab3c513fa31ca63e0",
      "ca25994035f34b55a0d86deba76a9ed1",
      "bfdc0f106ae249acb85f717864c32ad0",
      "b87c038b019d47f9bff66152222ba561",
      "1bacd9dcdc904b7a9f8542307c04c279",
      "0b082b55c3ee412692e75b7962ab4479",
      "e5635b0acdd54b6b81d39f741681dae5",
      "c290d2f110354f8ca85eb8c639d769b5",
      "a45c245a3b004238bc39263573f2d649",
      "22b5355d068841b68653ec9dcac084bc",
      "c709fa7d2cbc423facb5cc0a9fc48162",
      "fcf59ba535c847da8c48239a72658e15",
      "65a8c98862924eb5938ff454b2ce05f2",
      "28617f13eff2473a97aa80fcc995e696",
      "a0ba61bfdb1440f4a7177fb9f68a5164",
      "7db4d81e833e41749d77409c645c24ae",
      "9180b8d6e37042ac87253da02998c907",
      "4ef91d40d6fa4deda81df29fd32ba1d7",
      "6ba80bbb24824cff98240b351a3d3c13",
      "d961ebbc3c2d4102b544d3a7d11df73b",
      "47ed7791da3e46f1ac9f2ce65c7fc868",
      "d17378f8677246b6933e4d65a2d14a0c",
      "1270ccc349c8406aa14e7d49e05dff63",
      "4c032ec192bf444680f6efdcbca2ff32",
      "9394983504414f0e9c6ef61a50670192",
      "119cb26fa31b48a98114bebc4141da39",
      "5fe45d6b94af4d1a90e7c54c5086db5c",
      "bc5b45367b224bf2b4a9e09ecfb0fb19",
      "4a993c3694824f2bb0bb03a92038af6d",
      "417ce35496c1433ebe995bc852369904",
      "d666cdf3e2c64cff9cafb5507e622b02",
      "eaa8b8b4beca41d484ebed762f5c43ff",
      "68a9dfc8f3b548e7ab2c8063de638a19",
      "0dc2c626cfdc4e54a4c975f88326c4b9",
      "e2c6ad89c9f54eb786e7e1547587e0a8",
      "47c890e3a1a940ebb194ed85f0129c96",
      "74a8f461eef947f784494e3bd3680e89",
      "098ecc2beda44309bff9b58230249daf",
      "72fa8d09b8b74e968d6638c928b37287",
      "08e214e6c7a24c8d9e58e9853efadc6e",
      "818a80db584a423db0bfbb2f7e6e6931",
      "3aa8792b95cc48db88023a51e2b9b901",
      "e216b4f597434335a716e0826752347b",
      "9fd46f4d76ed44caac634290922cd8f6",
      "82ea268fba1a4246a5fb3794645477e3",
      "e14ae30165e947dfaf93570172641b1a",
      "c992fca0c967437f9671e7f81520fe89",
      "bff2d4f6e7384c199996fe623e74d9ea",
      "4fb623917db5420d901f9e746aa90694",
      "09fa2868bc6d4da1ae79223331b6eb16",
      "b663100c6d7a4b69bb13b0ef574ac7f3",
      "f80f13a9faf54ebcb1195edb667884c9",
      "49133803ec6143948d7b47014147b46d",
      "01843ad382df4d68bddca08dfc00c1bb",
      "5294a29a17d34dfba5e4835922834434",
      "c2e43349e7544df996161986b80a9c24",
      "43949a6403424d95bb4df7f1ed0f4955",
      "787d254d75374acfaa33781d654fa1e1",
      "407ee8c67f7942f9a6a14cf3b111ee62",
      "1d6f7e883961475a8bbf26b9396f87aa",
      "749427350fc24c1b8a4f810a04862895",
      "6a4995c436e74ece9b760d16e6037e70",
      "f0e5f3a1fc744538af7ead9172d771e8",
      "abaa35fff2f24da59d13cb293e70d7dd",
      "d8bd0a9ccbf04498b1fe87702a16a083",
      "4dd76e6b5c1743d688795f43be6f9040",
      "2aec638194114da2bd1079227127940d",
      "663578b64bb142678b88cbea396bbdf4",
      "0e9c54fb8c06418b9c29b78c00abfcd8",
      "daa3579d52f54fa1af09016de78e460b",
      "e5ebe49146ad4cba8818867b0bb12668",
      "ed9bb16be4534517bb3d3f8a71bc0f58",
      "246d65ef73ac445fa9a6abcc0f75b060",
      "ebba55391a3b4ebc97485cb9e27dfa71",
      "4192a4aef69d4792ab654ce1203999a5",
      "8a1d1de45b664a7e9311885dce150816",
      "7c1eb53073644278a7aedad33dade966",
      "8f8ba59f2b6544ceadc8bc8d9253faa2",
      "32a3d90799e14debbb3d8bb78c365c81",
      "5626d73a634949dc8e038549663fc563",
      "d3e1b8a4a5ed4c60a956821b23f60435",
      "0cca796af3e946d180cf665a9f0cbc64",
      "a96dae4cc1e346d69554b688206395f7",
      "6d3f0803d02d4956bf8fa0cdd161f749",
      "753da9a7c443457585c220c6957bce29",
      "1191e060937045dcb84427d4a0874cb7"
     ]
    },
    "id": "jDAkIMsplmma",
    "jupyter": {
     "is_executing": true
    },
    "outputId": "35cf8723-60ab-4041-b82d-5bc91ecc2240"
   },
   "outputs": [
    {
     "name": "stdout",
     "output_type": "stream",
     "text": [
      "Loaded pretrained model solu-2l into HookedTransformer\n",
      "Loaded pretrained model solu-2l into HookedTransformer\n",
      "Loaded pretrained model solu-2l into HookedTransformer\n"
     ]
    },
    {
     "data": {
      "application/vnd.jupyter.widget-view+json": {
       "model_id": "d4c1c205e5be4ae28792d94e9e8db330",
       "version_major": 2,
       "version_minor": 0
      },
      "text/plain": [
       "tokens_001628438528.pth:  83%|########3 | 189M/227M [00:00<?, ?B/s]"
      ]
     },
     "metadata": {},
     "output_type": "display_data"
    },
    {
     "name": "stdout",
     "output_type": "stream",
     "text": [
      "Loaded pretrained model solu-2l into HookedTransformer\n"
     ]
    },
    {
     "data": {
      "application/vnd.jupyter.widget-view+json": {
       "model_id": "79fe4432a7e447329ab1244d91b737ba",
       "version_major": 2,
       "version_minor": 0
      },
      "text/plain": [
       "tokens_021780496384.pth:   0%|          | 0.00/227M [00:00<?, ?B/s]"
      ]
     },
     "metadata": {},
     "output_type": "display_data"
    },
    {
     "ename": "ChunkedEncodingError",
     "evalue": "('Connection broken: IncompleteRead(102032127 bytes read, 125114655 more expected)', IncompleteRead(102032127 bytes read, 125114655 more expected))",
     "output_type": "error",
     "traceback": [
      "\u001b[1;31m---------------------------------------------------------------------------\u001b[0m",
      "\u001b[1;31mIncompleteRead\u001b[0m                            Traceback (most recent call last)",
      "File \u001b[1;32mc:\\Users\\Haroon\\.ml\\Lib\\site-packages\\urllib3\\response.py:748\u001b[0m, in \u001b[0;36mHTTPResponse._error_catcher\u001b[1;34m(self)\u001b[0m\n\u001b[0;32m    747\u001b[0m \u001b[38;5;28;01mtry\u001b[39;00m:\n\u001b[1;32m--> 748\u001b[0m     \u001b[38;5;28;01myield\u001b[39;00m\n\u001b[0;32m    750\u001b[0m \u001b[38;5;28;01mexcept\u001b[39;00m SocketTimeout \u001b[38;5;28;01mas\u001b[39;00m e:\n\u001b[0;32m    751\u001b[0m     \u001b[38;5;66;03m# FIXME: Ideally we'd like to include the url in the ReadTimeoutError but\u001b[39;00m\n\u001b[0;32m    752\u001b[0m     \u001b[38;5;66;03m# there is yet no clean way to get at it from this context.\u001b[39;00m\n",
      "File \u001b[1;32mc:\\Users\\Haroon\\.ml\\Lib\\site-packages\\urllib3\\response.py:894\u001b[0m, in \u001b[0;36mHTTPResponse._raw_read\u001b[1;34m(self, amt, read1)\u001b[0m\n\u001b[0;32m    884\u001b[0m     \u001b[38;5;28;01mif\u001b[39;00m (\n\u001b[0;32m    885\u001b[0m         \u001b[38;5;28mself\u001b[39m\u001b[38;5;241m.\u001b[39menforce_content_length\n\u001b[0;32m    886\u001b[0m         \u001b[38;5;129;01mand\u001b[39;00m \u001b[38;5;28mself\u001b[39m\u001b[38;5;241m.\u001b[39mlength_remaining \u001b[38;5;129;01mis\u001b[39;00m \u001b[38;5;129;01mnot\u001b[39;00m \u001b[38;5;28;01mNone\u001b[39;00m\n\u001b[1;32m   (...)\u001b[0m\n\u001b[0;32m    892\u001b[0m         \u001b[38;5;66;03m# raised during streaming, so all calls with incorrect\u001b[39;00m\n\u001b[0;32m    893\u001b[0m         \u001b[38;5;66;03m# Content-Length are caught.\u001b[39;00m\n\u001b[1;32m--> 894\u001b[0m         \u001b[38;5;28;01mraise\u001b[39;00m IncompleteRead(\u001b[38;5;28mself\u001b[39m\u001b[38;5;241m.\u001b[39m_fp_bytes_read, \u001b[38;5;28mself\u001b[39m\u001b[38;5;241m.\u001b[39mlength_remaining)\n\u001b[0;32m    895\u001b[0m \u001b[38;5;28;01melif\u001b[39;00m read1 \u001b[38;5;129;01mand\u001b[39;00m (\n\u001b[0;32m    896\u001b[0m     (amt \u001b[38;5;241m!=\u001b[39m \u001b[38;5;241m0\u001b[39m \u001b[38;5;129;01mand\u001b[39;00m \u001b[38;5;129;01mnot\u001b[39;00m data) \u001b[38;5;129;01mor\u001b[39;00m \u001b[38;5;28mself\u001b[39m\u001b[38;5;241m.\u001b[39mlength_remaining \u001b[38;5;241m==\u001b[39m \u001b[38;5;28mlen\u001b[39m(data)\n\u001b[0;32m    897\u001b[0m ):\n\u001b[1;32m   (...)\u001b[0m\n\u001b[0;32m    900\u001b[0m     \u001b[38;5;66;03m# `http.client.HTTPResponse`, so we close it here.\u001b[39;00m\n\u001b[0;32m    901\u001b[0m     \u001b[38;5;66;03m# See https://github.com/python/cpython/issues/113199\u001b[39;00m\n",
      "\u001b[1;31mIncompleteRead\u001b[0m: IncompleteRead(102032127 bytes read, 125114655 more expected)",
      "\nThe above exception was the direct cause of the following exception:\n",
      "\u001b[1;31mProtocolError\u001b[0m                             Traceback (most recent call last)",
      "File \u001b[1;32mc:\\Users\\Haroon\\.ml\\Lib\\site-packages\\requests\\models.py:820\u001b[0m, in \u001b[0;36mResponse.iter_content.<locals>.generate\u001b[1;34m()\u001b[0m\n\u001b[0;32m    819\u001b[0m \u001b[38;5;28;01mtry\u001b[39;00m:\n\u001b[1;32m--> 820\u001b[0m     \u001b[38;5;28;01myield from\u001b[39;00m \u001b[38;5;28mself\u001b[39m\u001b[38;5;241m.\u001b[39mraw\u001b[38;5;241m.\u001b[39mstream(chunk_size, decode_content\u001b[38;5;241m=\u001b[39m\u001b[38;5;28;01mTrue\u001b[39;00m)\n\u001b[0;32m    821\u001b[0m \u001b[38;5;28;01mexcept\u001b[39;00m ProtocolError \u001b[38;5;28;01mas\u001b[39;00m e:\n",
      "File \u001b[1;32mc:\\Users\\Haroon\\.ml\\Lib\\site-packages\\urllib3\\response.py:1060\u001b[0m, in \u001b[0;36mHTTPResponse.stream\u001b[1;34m(self, amt, decode_content)\u001b[0m\n\u001b[0;32m   1059\u001b[0m \u001b[38;5;28;01mwhile\u001b[39;00m \u001b[38;5;129;01mnot\u001b[39;00m is_fp_closed(\u001b[38;5;28mself\u001b[39m\u001b[38;5;241m.\u001b[39m_fp) \u001b[38;5;129;01mor\u001b[39;00m \u001b[38;5;28mlen\u001b[39m(\u001b[38;5;28mself\u001b[39m\u001b[38;5;241m.\u001b[39m_decoded_buffer) \u001b[38;5;241m>\u001b[39m \u001b[38;5;241m0\u001b[39m:\n\u001b[1;32m-> 1060\u001b[0m     data \u001b[38;5;241m=\u001b[39m \u001b[38;5;28;43mself\u001b[39;49m\u001b[38;5;241;43m.\u001b[39;49m\u001b[43mread\u001b[49m\u001b[43m(\u001b[49m\u001b[43mamt\u001b[49m\u001b[38;5;241;43m=\u001b[39;49m\u001b[43mamt\u001b[49m\u001b[43m,\u001b[49m\u001b[43m \u001b[49m\u001b[43mdecode_content\u001b[49m\u001b[38;5;241;43m=\u001b[39;49m\u001b[43mdecode_content\u001b[49m\u001b[43m)\u001b[49m\n\u001b[0;32m   1062\u001b[0m     \u001b[38;5;28;01mif\u001b[39;00m data:\n",
      "File \u001b[1;32mc:\\Users\\Haroon\\.ml\\Lib\\site-packages\\urllib3\\response.py:977\u001b[0m, in \u001b[0;36mHTTPResponse.read\u001b[1;34m(self, amt, decode_content, cache_content)\u001b[0m\n\u001b[0;32m    973\u001b[0m \u001b[38;5;28;01mwhile\u001b[39;00m \u001b[38;5;28mlen\u001b[39m(\u001b[38;5;28mself\u001b[39m\u001b[38;5;241m.\u001b[39m_decoded_buffer) \u001b[38;5;241m<\u001b[39m amt \u001b[38;5;129;01mand\u001b[39;00m data:\n\u001b[0;32m    974\u001b[0m     \u001b[38;5;66;03m# TODO make sure to initially read enough data to get past the headers\u001b[39;00m\n\u001b[0;32m    975\u001b[0m     \u001b[38;5;66;03m# For example, the GZ file header takes 10 bytes, we don't want to read\u001b[39;00m\n\u001b[0;32m    976\u001b[0m     \u001b[38;5;66;03m# it one byte at a time\u001b[39;00m\n\u001b[1;32m--> 977\u001b[0m     data \u001b[38;5;241m=\u001b[39m \u001b[38;5;28;43mself\u001b[39;49m\u001b[38;5;241;43m.\u001b[39;49m\u001b[43m_raw_read\u001b[49m\u001b[43m(\u001b[49m\u001b[43mamt\u001b[49m\u001b[43m)\u001b[49m\n\u001b[0;32m    978\u001b[0m     decoded_data \u001b[38;5;241m=\u001b[39m \u001b[38;5;28mself\u001b[39m\u001b[38;5;241m.\u001b[39m_decode(data, decode_content, flush_decoder)\n",
      "File \u001b[1;32mc:\\Users\\Haroon\\.ml\\Lib\\site-packages\\urllib3\\response.py:872\u001b[0m, in \u001b[0;36mHTTPResponse._raw_read\u001b[1;34m(self, amt, read1)\u001b[0m\n\u001b[0;32m    870\u001b[0m fp_closed \u001b[38;5;241m=\u001b[39m \u001b[38;5;28mgetattr\u001b[39m(\u001b[38;5;28mself\u001b[39m\u001b[38;5;241m.\u001b[39m_fp, \u001b[38;5;124m\"\u001b[39m\u001b[38;5;124mclosed\u001b[39m\u001b[38;5;124m\"\u001b[39m, \u001b[38;5;28;01mFalse\u001b[39;00m)\n\u001b[1;32m--> 872\u001b[0m \u001b[38;5;28;01mwith\u001b[39;00m \u001b[38;5;28mself\u001b[39m\u001b[38;5;241m.\u001b[39m_error_catcher():\n\u001b[0;32m    873\u001b[0m     data \u001b[38;5;241m=\u001b[39m \u001b[38;5;28mself\u001b[39m\u001b[38;5;241m.\u001b[39m_fp_read(amt, read1\u001b[38;5;241m=\u001b[39mread1) \u001b[38;5;28;01mif\u001b[39;00m \u001b[38;5;129;01mnot\u001b[39;00m fp_closed \u001b[38;5;28;01melse\u001b[39;00m \u001b[38;5;124mb\u001b[39m\u001b[38;5;124m\"\u001b[39m\u001b[38;5;124m\"\u001b[39m\n",
      "File \u001b[1;32m~\\AppData\\Local\\Programs\\Python\\Python312\\Lib\\contextlib.py:158\u001b[0m, in \u001b[0;36m_GeneratorContextManager.__exit__\u001b[1;34m(self, typ, value, traceback)\u001b[0m\n\u001b[0;32m    157\u001b[0m \u001b[38;5;28;01mtry\u001b[39;00m:\n\u001b[1;32m--> 158\u001b[0m     \u001b[38;5;28;43mself\u001b[39;49m\u001b[38;5;241;43m.\u001b[39;49m\u001b[43mgen\u001b[49m\u001b[38;5;241;43m.\u001b[39;49m\u001b[43mthrow\u001b[49m\u001b[43m(\u001b[49m\u001b[43mvalue\u001b[49m\u001b[43m)\u001b[49m\n\u001b[0;32m    159\u001b[0m \u001b[38;5;28;01mexcept\u001b[39;00m \u001b[38;5;167;01mStopIteration\u001b[39;00m \u001b[38;5;28;01mas\u001b[39;00m exc:\n\u001b[0;32m    160\u001b[0m     \u001b[38;5;66;03m# Suppress StopIteration *unless* it's the same exception that\u001b[39;00m\n\u001b[0;32m    161\u001b[0m     \u001b[38;5;66;03m# was passed to throw().  This prevents a StopIteration\u001b[39;00m\n\u001b[0;32m    162\u001b[0m     \u001b[38;5;66;03m# raised inside the \"with\" statement from being suppressed.\u001b[39;00m\n",
      "File \u001b[1;32mc:\\Users\\Haroon\\.ml\\Lib\\site-packages\\urllib3\\response.py:772\u001b[0m, in \u001b[0;36mHTTPResponse._error_catcher\u001b[1;34m(self)\u001b[0m\n\u001b[0;32m    771\u001b[0m         arg \u001b[38;5;241m=\u001b[39m \u001b[38;5;124mf\u001b[39m\u001b[38;5;124m\"\u001b[39m\u001b[38;5;124mConnection broken: \u001b[39m\u001b[38;5;132;01m{\u001b[39;00me\u001b[38;5;132;01m!r}\u001b[39;00m\u001b[38;5;124m\"\u001b[39m\n\u001b[1;32m--> 772\u001b[0m     \u001b[38;5;28;01mraise\u001b[39;00m ProtocolError(arg, e) \u001b[38;5;28;01mfrom\u001b[39;00m\u001b[38;5;250m \u001b[39m\u001b[38;5;21;01me\u001b[39;00m\n\u001b[0;32m    774\u001b[0m \u001b[38;5;28;01mexcept\u001b[39;00m (HTTPException, \u001b[38;5;167;01mOSError\u001b[39;00m) \u001b[38;5;28;01mas\u001b[39;00m e:\n",
      "\u001b[1;31mProtocolError\u001b[0m: ('Connection broken: IncompleteRead(102032127 bytes read, 125114655 more expected)', IncompleteRead(102032127 bytes read, 125114655 more expected))",
      "\nDuring handling of the above exception, another exception occurred:\n",
      "\u001b[1;31mChunkedEncodingError\u001b[0m                      Traceback (most recent call last)",
      "Cell \u001b[1;32mIn[62], line 4\u001b[0m\n\u001b[0;32m      1\u001b[0m \u001b[38;5;28;01mif\u001b[39;00m \u001b[38;5;129;01mnot\u001b[39;00m IN_GITHUB:\n\u001b[0;32m      2\u001b[0m     \u001b[38;5;28;01mfor\u001b[39;00m index \u001b[38;5;129;01min\u001b[39;00m checkpoint_indices:\n\u001b[0;32m      3\u001b[0m         \u001b[38;5;66;03m# Load the model from the relevant checkpoint by index\u001b[39;00m\n\u001b[1;32m----> 4\u001b[0m         model_for_this_checkpoint \u001b[38;5;241m=\u001b[39m \u001b[43mHookedTransformer\u001b[49m\u001b[38;5;241;43m.\u001b[39;49m\u001b[43mfrom_pretrained\u001b[49m\u001b[43m(\u001b[49m\u001b[43mmodel_name\u001b[49m\u001b[43m,\u001b[49m\u001b[43m \u001b[49m\u001b[43mcheckpoint_index\u001b[49m\u001b[38;5;241;43m=\u001b[39;49m\u001b[43mindex\u001b[49m\u001b[43m,\u001b[49m\u001b[43m \u001b[49m\u001b[43mdevice\u001b[49m\u001b[38;5;241;43m=\u001b[39;49m\u001b[43mdevice\u001b[49m\u001b[43m)\u001b[49m\n\u001b[0;32m      5\u001b[0m         checkpointed_models\u001b[38;5;241m.\u001b[39mappend(model_for_this_checkpoint)\n\u001b[0;32m      7\u001b[0m         tokens_seen_for_this_checkpoint \u001b[38;5;241m=\u001b[39m model_for_this_checkpoint\u001b[38;5;241m.\u001b[39mcfg\u001b[38;5;241m.\u001b[39mcheckpoint_value\n",
      "File \u001b[1;32mc:\\Users\\Haroon\\.ml\\Lib\\site-packages\\transformer_lens\\HookedTransformer.py:1359\u001b[0m, in \u001b[0;36mHookedTransformer.from_pretrained\u001b[1;34m(cls, model_name, fold_ln, center_writing_weights, center_unembed, refactor_factored_attn_matrices, checkpoint_index, checkpoint_value, hf_model, device, n_devices, tokenizer, move_to_device, fold_value_biases, default_prepend_bos, default_padding_side, dtype, first_n_layers, **from_pretrained_kwargs)\u001b[0m\n\u001b[0;32m   1355\u001b[0m     center_unembed \u001b[38;5;241m=\u001b[39m \u001b[38;5;28;01mFalse\u001b[39;00m\n\u001b[0;32m   1357\u001b[0m \u001b[38;5;66;03m# Get the state dict of the model (ie a mapping of parameter names to tensors), processed to\u001b[39;00m\n\u001b[0;32m   1358\u001b[0m \u001b[38;5;66;03m# match the HookedTransformer parameter names.\u001b[39;00m\n\u001b[1;32m-> 1359\u001b[0m state_dict \u001b[38;5;241m=\u001b[39m \u001b[43mloading\u001b[49m\u001b[38;5;241;43m.\u001b[39;49m\u001b[43mget_pretrained_state_dict\u001b[49m\u001b[43m(\u001b[49m\n\u001b[0;32m   1360\u001b[0m \u001b[43m    \u001b[49m\u001b[43mofficial_model_name\u001b[49m\u001b[43m,\u001b[49m\u001b[43m \u001b[49m\u001b[43mcfg\u001b[49m\u001b[43m,\u001b[49m\u001b[43m \u001b[49m\u001b[43mhf_model\u001b[49m\u001b[43m,\u001b[49m\u001b[43m \u001b[49m\u001b[43mdtype\u001b[49m\u001b[38;5;241;43m=\u001b[39;49m\u001b[43mdtype\u001b[49m\u001b[43m,\u001b[49m\u001b[43m \u001b[49m\u001b[38;5;241;43m*\u001b[39;49m\u001b[38;5;241;43m*\u001b[39;49m\u001b[43mfrom_pretrained_kwargs\u001b[49m\n\u001b[0;32m   1361\u001b[0m \u001b[43m\u001b[49m\u001b[43m)\u001b[49m\n\u001b[0;32m   1363\u001b[0m \u001b[38;5;66;03m# Create the HookedTransformer object\u001b[39;00m\n\u001b[0;32m   1364\u001b[0m model \u001b[38;5;241m=\u001b[39m \u001b[38;5;28mcls\u001b[39m(\n\u001b[0;32m   1365\u001b[0m     cfg,\n\u001b[0;32m   1366\u001b[0m     tokenizer,\n\u001b[0;32m   1367\u001b[0m     move_to_device\u001b[38;5;241m=\u001b[39m\u001b[38;5;28;01mFalse\u001b[39;00m,\n\u001b[0;32m   1368\u001b[0m     default_padding_side\u001b[38;5;241m=\u001b[39mdefault_padding_side,\n\u001b[0;32m   1369\u001b[0m )\n",
      "File \u001b[1;32mc:\\Users\\Haroon\\.ml\\Lib\\site-packages\\transformer_lens\\loading_from_pretrained.py:1806\u001b[0m, in \u001b[0;36mget_pretrained_state_dict\u001b[1;34m(official_model_name, cfg, hf_model, dtype, **kwargs)\u001b[0m\n\u001b[0;32m   1804\u001b[0m \u001b[38;5;28;01melse\u001b[39;00m:\n\u001b[0;32m   1805\u001b[0m     file_name \u001b[38;5;241m=\u001b[39m \u001b[38;5;28mlist\u001b[39m(\u001b[38;5;28mfilter\u001b[39m(\u001b[38;5;28;01mlambda\u001b[39;00m x: x\u001b[38;5;241m.\u001b[39mendswith(\u001b[38;5;124m\"\u001b[39m\u001b[38;5;124mfinal.pth\u001b[39m\u001b[38;5;124m\"\u001b[39m), repo_files))[\u001b[38;5;241m0\u001b[39m]\n\u001b[1;32m-> 1806\u001b[0m state_dict \u001b[38;5;241m=\u001b[39m \u001b[43mutils\u001b[49m\u001b[38;5;241;43m.\u001b[39;49m\u001b[43mdownload_file_from_hf\u001b[49m\u001b[43m(\u001b[49m\u001b[43mofficial_model_name\u001b[49m\u001b[43m,\u001b[49m\u001b[43m \u001b[49m\u001b[43mfile_name\u001b[49m\u001b[43m,\u001b[49m\u001b[43m \u001b[49m\u001b[38;5;241;43m*\u001b[39;49m\u001b[38;5;241;43m*\u001b[39;49m\u001b[43mkwargs\u001b[49m\u001b[43m)\u001b[49m\n\u001b[0;32m   1808\u001b[0m \u001b[38;5;66;03m# Convert to dtype\u001b[39;00m\n\u001b[0;32m   1809\u001b[0m state_dict \u001b[38;5;241m=\u001b[39m {k: v\u001b[38;5;241m.\u001b[39mto(dtype) \u001b[38;5;28;01mfor\u001b[39;00m k, v \u001b[38;5;129;01min\u001b[39;00m state_dict\u001b[38;5;241m.\u001b[39mitems()}\n",
      "File \u001b[1;32mc:\\Users\\Haroon\\.ml\\Lib\\site-packages\\transformer_lens\\utils.py:53\u001b[0m, in \u001b[0;36mdownload_file_from_hf\u001b[1;34m(repo_name, file_name, subfolder, cache_dir, force_is_torch, **kwargs)\u001b[0m\n\u001b[0;32m     40\u001b[0m \u001b[38;5;28;01mdef\u001b[39;00m\u001b[38;5;250m \u001b[39m\u001b[38;5;21mdownload_file_from_hf\u001b[39m(\n\u001b[0;32m     41\u001b[0m     repo_name,\n\u001b[0;32m     42\u001b[0m     file_name,\n\u001b[1;32m   (...)\u001b[0m\n\u001b[0;32m     46\u001b[0m     \u001b[38;5;241m*\u001b[39m\u001b[38;5;241m*\u001b[39mkwargs,\n\u001b[0;32m     47\u001b[0m ):\n\u001b[0;32m     48\u001b[0m \u001b[38;5;250m    \u001b[39m\u001b[38;5;124;03m\"\"\"\u001b[39;00m\n\u001b[0;32m     49\u001b[0m \u001b[38;5;124;03m    Helper function to download files from the HuggingFace Hub, from subfolder/file_name in repo_name, saving locally to cache_dir and returning the loaded file (if a json or Torch object) and the file path otherwise.\u001b[39;00m\n\u001b[0;32m     50\u001b[0m \n\u001b[0;32m     51\u001b[0m \u001b[38;5;124;03m    If it's a Torch file without the \".pth\" extension, set force_is_torch=True to load it as a Torch object.\u001b[39;00m\n\u001b[0;32m     52\u001b[0m \u001b[38;5;124;03m    \"\"\"\u001b[39;00m\n\u001b[1;32m---> 53\u001b[0m     file_path \u001b[38;5;241m=\u001b[39m \u001b[43mhf_hub_download\u001b[49m\u001b[43m(\u001b[49m\n\u001b[0;32m     54\u001b[0m \u001b[43m        \u001b[49m\u001b[43mrepo_id\u001b[49m\u001b[38;5;241;43m=\u001b[39;49m\u001b[43mrepo_name\u001b[49m\u001b[43m,\u001b[49m\n\u001b[0;32m     55\u001b[0m \u001b[43m        \u001b[49m\u001b[43mfilename\u001b[49m\u001b[38;5;241;43m=\u001b[39;49m\u001b[43mfile_name\u001b[49m\u001b[43m,\u001b[49m\n\u001b[0;32m     56\u001b[0m \u001b[43m        \u001b[49m\u001b[43msubfolder\u001b[49m\u001b[38;5;241;43m=\u001b[39;49m\u001b[43msubfolder\u001b[49m\u001b[43m,\u001b[49m\n\u001b[0;32m     57\u001b[0m \u001b[43m        \u001b[49m\u001b[43mcache_dir\u001b[49m\u001b[38;5;241;43m=\u001b[39;49m\u001b[43mcache_dir\u001b[49m\u001b[43m,\u001b[49m\n\u001b[0;32m     58\u001b[0m \u001b[43m        \u001b[49m\u001b[38;5;241;43m*\u001b[39;49m\u001b[38;5;241;43m*\u001b[39;49m\u001b[43mselect_compatible_kwargs\u001b[49m\u001b[43m(\u001b[49m\u001b[43mkwargs\u001b[49m\u001b[43m,\u001b[49m\u001b[43m \u001b[49m\u001b[43mhf_hub_download\u001b[49m\u001b[43m)\u001b[49m\u001b[43m,\u001b[49m\n\u001b[0;32m     59\u001b[0m \u001b[43m    \u001b[49m\u001b[43m)\u001b[49m\n\u001b[0;32m     61\u001b[0m     \u001b[38;5;28;01mif\u001b[39;00m file_path\u001b[38;5;241m.\u001b[39mendswith(\u001b[38;5;124m\"\u001b[39m\u001b[38;5;124m.pth\u001b[39m\u001b[38;5;124m\"\u001b[39m) \u001b[38;5;129;01mor\u001b[39;00m force_is_torch:\n\u001b[0;32m     62\u001b[0m         \u001b[38;5;28;01mreturn\u001b[39;00m torch\u001b[38;5;241m.\u001b[39mload(file_path, map_location\u001b[38;5;241m=\u001b[39m\u001b[38;5;124m\"\u001b[39m\u001b[38;5;124mcpu\u001b[39m\u001b[38;5;124m\"\u001b[39m, weights_only\u001b[38;5;241m=\u001b[39m\u001b[38;5;28;01mFalse\u001b[39;00m)\n",
      "File \u001b[1;32mc:\\Users\\Haroon\\.ml\\Lib\\site-packages\\huggingface_hub\\utils\\_validators.py:114\u001b[0m, in \u001b[0;36mvalidate_hf_hub_args.<locals>._inner_fn\u001b[1;34m(*args, **kwargs)\u001b[0m\n\u001b[0;32m    111\u001b[0m \u001b[38;5;28;01mif\u001b[39;00m check_use_auth_token:\n\u001b[0;32m    112\u001b[0m     kwargs \u001b[38;5;241m=\u001b[39m smoothly_deprecate_use_auth_token(fn_name\u001b[38;5;241m=\u001b[39mfn\u001b[38;5;241m.\u001b[39m\u001b[38;5;18m__name__\u001b[39m, has_token\u001b[38;5;241m=\u001b[39mhas_token, kwargs\u001b[38;5;241m=\u001b[39mkwargs)\n\u001b[1;32m--> 114\u001b[0m \u001b[38;5;28;01mreturn\u001b[39;00m \u001b[43mfn\u001b[49m\u001b[43m(\u001b[49m\u001b[38;5;241;43m*\u001b[39;49m\u001b[43margs\u001b[49m\u001b[43m,\u001b[49m\u001b[43m \u001b[49m\u001b[38;5;241;43m*\u001b[39;49m\u001b[38;5;241;43m*\u001b[39;49m\u001b[43mkwargs\u001b[49m\u001b[43m)\u001b[49m\n",
      "File \u001b[1;32mc:\\Users\\Haroon\\.ml\\Lib\\site-packages\\huggingface_hub\\file_download.py:860\u001b[0m, in \u001b[0;36mhf_hub_download\u001b[1;34m(repo_id, filename, subfolder, repo_type, revision, library_name, library_version, cache_dir, local_dir, user_agent, force_download, proxies, etag_timeout, token, local_files_only, headers, endpoint, resume_download, force_filename, local_dir_use_symlinks)\u001b[0m\n\u001b[0;32m    840\u001b[0m     \u001b[38;5;28;01mreturn\u001b[39;00m _hf_hub_download_to_local_dir(\n\u001b[0;32m    841\u001b[0m         \u001b[38;5;66;03m# Destination\u001b[39;00m\n\u001b[0;32m    842\u001b[0m         local_dir\u001b[38;5;241m=\u001b[39mlocal_dir,\n\u001b[1;32m   (...)\u001b[0m\n\u001b[0;32m    857\u001b[0m         local_files_only\u001b[38;5;241m=\u001b[39mlocal_files_only,\n\u001b[0;32m    858\u001b[0m     )\n\u001b[0;32m    859\u001b[0m \u001b[38;5;28;01melse\u001b[39;00m:\n\u001b[1;32m--> 860\u001b[0m     \u001b[38;5;28;01mreturn\u001b[39;00m \u001b[43m_hf_hub_download_to_cache_dir\u001b[49m\u001b[43m(\u001b[49m\n\u001b[0;32m    861\u001b[0m \u001b[43m        \u001b[49m\u001b[38;5;66;43;03m# Destination\u001b[39;49;00m\n\u001b[0;32m    862\u001b[0m \u001b[43m        \u001b[49m\u001b[43mcache_dir\u001b[49m\u001b[38;5;241;43m=\u001b[39;49m\u001b[43mcache_dir\u001b[49m\u001b[43m,\u001b[49m\n\u001b[0;32m    863\u001b[0m \u001b[43m        \u001b[49m\u001b[38;5;66;43;03m# File info\u001b[39;49;00m\n\u001b[0;32m    864\u001b[0m \u001b[43m        \u001b[49m\u001b[43mrepo_id\u001b[49m\u001b[38;5;241;43m=\u001b[39;49m\u001b[43mrepo_id\u001b[49m\u001b[43m,\u001b[49m\n\u001b[0;32m    865\u001b[0m \u001b[43m        \u001b[49m\u001b[43mfilename\u001b[49m\u001b[38;5;241;43m=\u001b[39;49m\u001b[43mfilename\u001b[49m\u001b[43m,\u001b[49m\n\u001b[0;32m    866\u001b[0m \u001b[43m        \u001b[49m\u001b[43mrepo_type\u001b[49m\u001b[38;5;241;43m=\u001b[39;49m\u001b[43mrepo_type\u001b[49m\u001b[43m,\u001b[49m\n\u001b[0;32m    867\u001b[0m \u001b[43m        \u001b[49m\u001b[43mrevision\u001b[49m\u001b[38;5;241;43m=\u001b[39;49m\u001b[43mrevision\u001b[49m\u001b[43m,\u001b[49m\n\u001b[0;32m    868\u001b[0m \u001b[43m        \u001b[49m\u001b[38;5;66;43;03m# HTTP info\u001b[39;49;00m\n\u001b[0;32m    869\u001b[0m \u001b[43m        \u001b[49m\u001b[43mendpoint\u001b[49m\u001b[38;5;241;43m=\u001b[39;49m\u001b[43mendpoint\u001b[49m\u001b[43m,\u001b[49m\n\u001b[0;32m    870\u001b[0m \u001b[43m        \u001b[49m\u001b[43metag_timeout\u001b[49m\u001b[38;5;241;43m=\u001b[39;49m\u001b[43metag_timeout\u001b[49m\u001b[43m,\u001b[49m\n\u001b[0;32m    871\u001b[0m \u001b[43m        \u001b[49m\u001b[43mheaders\u001b[49m\u001b[38;5;241;43m=\u001b[39;49m\u001b[43mhf_headers\u001b[49m\u001b[43m,\u001b[49m\n\u001b[0;32m    872\u001b[0m \u001b[43m        \u001b[49m\u001b[43mproxies\u001b[49m\u001b[38;5;241;43m=\u001b[39;49m\u001b[43mproxies\u001b[49m\u001b[43m,\u001b[49m\n\u001b[0;32m    873\u001b[0m \u001b[43m        \u001b[49m\u001b[43mtoken\u001b[49m\u001b[38;5;241;43m=\u001b[39;49m\u001b[43mtoken\u001b[49m\u001b[43m,\u001b[49m\n\u001b[0;32m    874\u001b[0m \u001b[43m        \u001b[49m\u001b[38;5;66;43;03m# Additional options\u001b[39;49;00m\n\u001b[0;32m    875\u001b[0m \u001b[43m        \u001b[49m\u001b[43mlocal_files_only\u001b[49m\u001b[38;5;241;43m=\u001b[39;49m\u001b[43mlocal_files_only\u001b[49m\u001b[43m,\u001b[49m\n\u001b[0;32m    876\u001b[0m \u001b[43m        \u001b[49m\u001b[43mforce_download\u001b[49m\u001b[38;5;241;43m=\u001b[39;49m\u001b[43mforce_download\u001b[49m\u001b[43m,\u001b[49m\n\u001b[0;32m    877\u001b[0m \u001b[43m    \u001b[49m\u001b[43m)\u001b[49m\n",
      "File \u001b[1;32mc:\\Users\\Haroon\\.ml\\Lib\\site-packages\\huggingface_hub\\file_download.py:1009\u001b[0m, in \u001b[0;36m_hf_hub_download_to_cache_dir\u001b[1;34m(cache_dir, repo_id, filename, repo_type, revision, endpoint, etag_timeout, headers, proxies, token, local_files_only, force_download)\u001b[0m\n\u001b[0;32m   1007\u001b[0m Path(lock_path)\u001b[38;5;241m.\u001b[39mparent\u001b[38;5;241m.\u001b[39mmkdir(parents\u001b[38;5;241m=\u001b[39m\u001b[38;5;28;01mTrue\u001b[39;00m, exist_ok\u001b[38;5;241m=\u001b[39m\u001b[38;5;28;01mTrue\u001b[39;00m)\n\u001b[0;32m   1008\u001b[0m \u001b[38;5;28;01mwith\u001b[39;00m WeakFileLock(lock_path):\n\u001b[1;32m-> 1009\u001b[0m     \u001b[43m_download_to_tmp_and_move\u001b[49m\u001b[43m(\u001b[49m\n\u001b[0;32m   1010\u001b[0m \u001b[43m        \u001b[49m\u001b[43mincomplete_path\u001b[49m\u001b[38;5;241;43m=\u001b[39;49m\u001b[43mPath\u001b[49m\u001b[43m(\u001b[49m\u001b[43mblob_path\u001b[49m\u001b[43m \u001b[49m\u001b[38;5;241;43m+\u001b[39;49m\u001b[43m \u001b[49m\u001b[38;5;124;43m\"\u001b[39;49m\u001b[38;5;124;43m.incomplete\u001b[39;49m\u001b[38;5;124;43m\"\u001b[39;49m\u001b[43m)\u001b[49m\u001b[43m,\u001b[49m\n\u001b[0;32m   1011\u001b[0m \u001b[43m        \u001b[49m\u001b[43mdestination_path\u001b[49m\u001b[38;5;241;43m=\u001b[39;49m\u001b[43mPath\u001b[49m\u001b[43m(\u001b[49m\u001b[43mblob_path\u001b[49m\u001b[43m)\u001b[49m\u001b[43m,\u001b[49m\n\u001b[0;32m   1012\u001b[0m \u001b[43m        \u001b[49m\u001b[43murl_to_download\u001b[49m\u001b[38;5;241;43m=\u001b[39;49m\u001b[43murl_to_download\u001b[49m\u001b[43m,\u001b[49m\n\u001b[0;32m   1013\u001b[0m \u001b[43m        \u001b[49m\u001b[43mproxies\u001b[49m\u001b[38;5;241;43m=\u001b[39;49m\u001b[43mproxies\u001b[49m\u001b[43m,\u001b[49m\n\u001b[0;32m   1014\u001b[0m \u001b[43m        \u001b[49m\u001b[43mheaders\u001b[49m\u001b[38;5;241;43m=\u001b[39;49m\u001b[43mheaders\u001b[49m\u001b[43m,\u001b[49m\n\u001b[0;32m   1015\u001b[0m \u001b[43m        \u001b[49m\u001b[43mexpected_size\u001b[49m\u001b[38;5;241;43m=\u001b[39;49m\u001b[43mexpected_size\u001b[49m\u001b[43m,\u001b[49m\n\u001b[0;32m   1016\u001b[0m \u001b[43m        \u001b[49m\u001b[43mfilename\u001b[49m\u001b[38;5;241;43m=\u001b[39;49m\u001b[43mfilename\u001b[49m\u001b[43m,\u001b[49m\n\u001b[0;32m   1017\u001b[0m \u001b[43m        \u001b[49m\u001b[43mforce_download\u001b[49m\u001b[38;5;241;43m=\u001b[39;49m\u001b[43mforce_download\u001b[49m\u001b[43m,\u001b[49m\n\u001b[0;32m   1018\u001b[0m \u001b[43m    \u001b[49m\u001b[43m)\u001b[49m\n\u001b[0;32m   1019\u001b[0m     \u001b[38;5;28;01mif\u001b[39;00m \u001b[38;5;129;01mnot\u001b[39;00m os\u001b[38;5;241m.\u001b[39mpath\u001b[38;5;241m.\u001b[39mexists(pointer_path):\n\u001b[0;32m   1020\u001b[0m         _create_symlink(blob_path, pointer_path, new_blob\u001b[38;5;241m=\u001b[39m\u001b[38;5;28;01mTrue\u001b[39;00m)\n",
      "File \u001b[1;32mc:\\Users\\Haroon\\.ml\\Lib\\site-packages\\huggingface_hub\\file_download.py:1543\u001b[0m, in \u001b[0;36m_download_to_tmp_and_move\u001b[1;34m(incomplete_path, destination_path, url_to_download, proxies, headers, expected_size, filename, force_download)\u001b[0m\n\u001b[0;32m   1540\u001b[0m         _check_disk_space(expected_size, incomplete_path\u001b[38;5;241m.\u001b[39mparent)\n\u001b[0;32m   1541\u001b[0m         _check_disk_space(expected_size, destination_path\u001b[38;5;241m.\u001b[39mparent)\n\u001b[1;32m-> 1543\u001b[0m     \u001b[43mhttp_get\u001b[49m\u001b[43m(\u001b[49m\n\u001b[0;32m   1544\u001b[0m \u001b[43m        \u001b[49m\u001b[43murl_to_download\u001b[49m\u001b[43m,\u001b[49m\n\u001b[0;32m   1545\u001b[0m \u001b[43m        \u001b[49m\u001b[43mf\u001b[49m\u001b[43m,\u001b[49m\n\u001b[0;32m   1546\u001b[0m \u001b[43m        \u001b[49m\u001b[43mproxies\u001b[49m\u001b[38;5;241;43m=\u001b[39;49m\u001b[43mproxies\u001b[49m\u001b[43m,\u001b[49m\n\u001b[0;32m   1547\u001b[0m \u001b[43m        \u001b[49m\u001b[43mresume_size\u001b[49m\u001b[38;5;241;43m=\u001b[39;49m\u001b[43mresume_size\u001b[49m\u001b[43m,\u001b[49m\n\u001b[0;32m   1548\u001b[0m \u001b[43m        \u001b[49m\u001b[43mheaders\u001b[49m\u001b[38;5;241;43m=\u001b[39;49m\u001b[43mheaders\u001b[49m\u001b[43m,\u001b[49m\n\u001b[0;32m   1549\u001b[0m \u001b[43m        \u001b[49m\u001b[43mexpected_size\u001b[49m\u001b[38;5;241;43m=\u001b[39;49m\u001b[43mexpected_size\u001b[49m\u001b[43m,\u001b[49m\n\u001b[0;32m   1550\u001b[0m \u001b[43m    \u001b[49m\u001b[43m)\u001b[49m\n\u001b[0;32m   1552\u001b[0m logger\u001b[38;5;241m.\u001b[39minfo(\u001b[38;5;124mf\u001b[39m\u001b[38;5;124m\"\u001b[39m\u001b[38;5;124mDownload complete. Moving file to \u001b[39m\u001b[38;5;132;01m{\u001b[39;00mdestination_path\u001b[38;5;132;01m}\u001b[39;00m\u001b[38;5;124m\"\u001b[39m)\n\u001b[0;32m   1553\u001b[0m _chmod_and_move(incomplete_path, destination_path)\n",
      "File \u001b[1;32mc:\\Users\\Haroon\\.ml\\Lib\\site-packages\\huggingface_hub\\file_download.py:452\u001b[0m, in \u001b[0;36mhttp_get\u001b[1;34m(url, temp_file, proxies, resume_size, headers, expected_size, displayed_filename, _nb_retries, _tqdm_bar)\u001b[0m\n\u001b[0;32m    450\u001b[0m new_resume_size \u001b[38;5;241m=\u001b[39m resume_size\n\u001b[0;32m    451\u001b[0m \u001b[38;5;28;01mtry\u001b[39;00m:\n\u001b[1;32m--> 452\u001b[0m \u001b[43m    \u001b[49m\u001b[38;5;28;43;01mfor\u001b[39;49;00m\u001b[43m \u001b[49m\u001b[43mchunk\u001b[49m\u001b[43m \u001b[49m\u001b[38;5;129;43;01min\u001b[39;49;00m\u001b[43m \u001b[49m\u001b[43mr\u001b[49m\u001b[38;5;241;43m.\u001b[39;49m\u001b[43miter_content\u001b[49m\u001b[43m(\u001b[49m\u001b[43mchunk_size\u001b[49m\u001b[38;5;241;43m=\u001b[39;49m\u001b[43mconstants\u001b[49m\u001b[38;5;241;43m.\u001b[39;49m\u001b[43mDOWNLOAD_CHUNK_SIZE\u001b[49m\u001b[43m)\u001b[49m\u001b[43m:\u001b[49m\n\u001b[0;32m    453\u001b[0m \u001b[43m        \u001b[49m\u001b[38;5;28;43;01mif\u001b[39;49;00m\u001b[43m \u001b[49m\u001b[43mchunk\u001b[49m\u001b[43m:\u001b[49m\u001b[43m  \u001b[49m\u001b[38;5;66;43;03m# filter out keep-alive new chunks\u001b[39;49;00m\n\u001b[0;32m    454\u001b[0m \u001b[43m            \u001b[49m\u001b[43mprogress\u001b[49m\u001b[38;5;241;43m.\u001b[39;49m\u001b[43mupdate\u001b[49m\u001b[43m(\u001b[49m\u001b[38;5;28;43mlen\u001b[39;49m\u001b[43m(\u001b[49m\u001b[43mchunk\u001b[49m\u001b[43m)\u001b[49m\u001b[43m)\u001b[49m\n",
      "File \u001b[1;32mc:\\Users\\Haroon\\.ml\\Lib\\site-packages\\requests\\models.py:822\u001b[0m, in \u001b[0;36mResponse.iter_content.<locals>.generate\u001b[1;34m()\u001b[0m\n\u001b[0;32m    820\u001b[0m     \u001b[38;5;28;01myield from\u001b[39;00m \u001b[38;5;28mself\u001b[39m\u001b[38;5;241m.\u001b[39mraw\u001b[38;5;241m.\u001b[39mstream(chunk_size, decode_content\u001b[38;5;241m=\u001b[39m\u001b[38;5;28;01mTrue\u001b[39;00m)\n\u001b[0;32m    821\u001b[0m \u001b[38;5;28;01mexcept\u001b[39;00m ProtocolError \u001b[38;5;28;01mas\u001b[39;00m e:\n\u001b[1;32m--> 822\u001b[0m     \u001b[38;5;28;01mraise\u001b[39;00m ChunkedEncodingError(e)\n\u001b[0;32m    823\u001b[0m \u001b[38;5;28;01mexcept\u001b[39;00m DecodeError \u001b[38;5;28;01mas\u001b[39;00m e:\n\u001b[0;32m    824\u001b[0m     \u001b[38;5;28;01mraise\u001b[39;00m ContentDecodingError(e)\n",
      "\u001b[1;31mChunkedEncodingError\u001b[0m: ('Connection broken: IncompleteRead(102032127 bytes read, 125114655 more expected)', IncompleteRead(102032127 bytes read, 125114655 more expected))"
     ]
    }
   ],
   "source": [
    "if not IN_GITHUB:\n",
    "    for index in checkpoint_indices:\n",
    "        # Load the model from the relevant checkpoint by index\n",
    "        model_for_this_checkpoint = HookedTransformer.from_pretrained(model_name, checkpoint_index=index, device=device)\n",
    "        checkpointed_models.append(model_for_this_checkpoint)\n",
    "\n",
    "        tokens_seen_for_this_checkpoint = model_for_this_checkpoint.cfg.checkpoint_value\n",
    "        tokens_trained_on.append(tokens_seen_for_this_checkpoint)\n",
    "\n",
    "        induction_loss_for_this_checkpoint = evals.induction_loss(model_for_this_checkpoint, device=device).item()\n",
    "        induction_losses.append(induction_loss_for_this_checkpoint)"
   ]
  },
  {
   "cell_type": "markdown",
   "metadata": {
    "id": "I5fAIkOGlmmb"
   },
   "source": [
    "We can plot this, and see there's a sharp shift from ~200-500M tokens trained on (note the log scale on the x axis). Interestingly, this is notably earlier than the phase transition in the paper, I'm not sure what's up with that.\n",
    "\n",
    "(To contextualise the numbers, the tokens in the random sequence are uniformly chosen from the first 20,000 tokens (out of ~48,000 total), so random performance is at least $\\ln(20000)\\approx 10$. A naive strategy like \"randomly choose a token that's already appeared in the first half of the sequence (384 elements)\" would get $\\ln(384)\\approx 5.95$, so the model is doing pretty well here.)"
   ]
  },
  {
   "cell_type": "code",
   "execution_count": null,
   "metadata": {
    "colab": {
     "base_uri": "https://localhost:8080/",
     "height": 542
    },
    "id": "bPRuwhGSlmmb",
    "outputId": "b77bafc1-4a79-49ce-f76c-2200235d138f"
   },
   "outputs": [
    {
     "data": {
      "text/html": [
       "<html>\n",
       "<head><meta charset=\"utf-8\" /></head>\n",
       "<body>\n",
       "    <div>            <script src=\"https://cdnjs.cloudflare.com/ajax/libs/mathjax/2.7.5/MathJax.js?config=TeX-AMS-MML_SVG\"></script><script type=\"text/javascript\">if (window.MathJax && window.MathJax.Hub && window.MathJax.Hub.Config) {window.MathJax.Hub.Config({SVG: {font: \"STIX-Web\"}});}</script>                <script type=\"text/javascript\">window.PlotlyConfig = {MathJaxConfig: 'local'};</script>\n",
       "        <script charset=\"utf-8\" src=\"https://cdn.plot.ly/plotly-2.35.2.min.js\"></script>                <div id=\"cc6f777b-a90a-48ac-a6fd-a4cf76c6e5c3\" class=\"plotly-graph-div\" style=\"height:525px; width:100%;\"></div>            <script type=\"text/javascript\">                                    window.PLOTLYENV=window.PLOTLYENV || {};                                    if (document.getElementById(\"cc6f777b-a90a-48ac-a6fd-a4cf76c6e5c3\")) {                    Plotly.newPlot(                        \"cc6f777b-a90a-48ac-a6fd-a4cf76c6e5c3\",                        [{\"hovertemplate\":\"Tokens Trained On=%{x}\\u003cbr\\u003eindex=%{y}\\u003cextra\\u003e\\u003c\\u002fextra\\u003e\",\"legendgroup\":\"\",\"line\":{\"color\":\"#636efa\",\"dash\":\"solid\"},\"marker\":{\"symbol\":\"circle\"},\"mode\":\"lines+markers\",\"name\":\"\",\"orientation\":\"h\",\"showlegend\":false,\"x\":[22282240,187432960,528482304,1628438528,21780496384],\"xaxis\":\"x\",\"y\":[0,1,2,3,4],\"yaxis\":\"y\",\"type\":\"scatter\"}],                        {\"template\":{\"data\":{\"histogram2dcontour\":[{\"type\":\"histogram2dcontour\",\"colorbar\":{\"outlinewidth\":0,\"ticks\":\"\"},\"colorscale\":[[0.0,\"#0d0887\"],[0.1111111111111111,\"#46039f\"],[0.2222222222222222,\"#7201a8\"],[0.3333333333333333,\"#9c179e\"],[0.4444444444444444,\"#bd3786\"],[0.5555555555555556,\"#d8576b\"],[0.6666666666666666,\"#ed7953\"],[0.7777777777777778,\"#fb9f3a\"],[0.8888888888888888,\"#fdca26\"],[1.0,\"#f0f921\"]]}],\"choropleth\":[{\"type\":\"choropleth\",\"colorbar\":{\"outlinewidth\":0,\"ticks\":\"\"}}],\"histogram2d\":[{\"type\":\"histogram2d\",\"colorbar\":{\"outlinewidth\":0,\"ticks\":\"\"},\"colorscale\":[[0.0,\"#0d0887\"],[0.1111111111111111,\"#46039f\"],[0.2222222222222222,\"#7201a8\"],[0.3333333333333333,\"#9c179e\"],[0.4444444444444444,\"#bd3786\"],[0.5555555555555556,\"#d8576b\"],[0.6666666666666666,\"#ed7953\"],[0.7777777777777778,\"#fb9f3a\"],[0.8888888888888888,\"#fdca26\"],[1.0,\"#f0f921\"]]}],\"heatmap\":[{\"type\":\"heatmap\",\"colorbar\":{\"outlinewidth\":0,\"ticks\":\"\"},\"colorscale\":[[0.0,\"#0d0887\"],[0.1111111111111111,\"#46039f\"],[0.2222222222222222,\"#7201a8\"],[0.3333333333333333,\"#9c179e\"],[0.4444444444444444,\"#bd3786\"],[0.5555555555555556,\"#d8576b\"],[0.6666666666666666,\"#ed7953\"],[0.7777777777777778,\"#fb9f3a\"],[0.8888888888888888,\"#fdca26\"],[1.0,\"#f0f921\"]]}],\"heatmapgl\":[{\"type\":\"heatmapgl\",\"colorbar\":{\"outlinewidth\":0,\"ticks\":\"\"},\"colorscale\":[[0.0,\"#0d0887\"],[0.1111111111111111,\"#46039f\"],[0.2222222222222222,\"#7201a8\"],[0.3333333333333333,\"#9c179e\"],[0.4444444444444444,\"#bd3786\"],[0.5555555555555556,\"#d8576b\"],[0.6666666666666666,\"#ed7953\"],[0.7777777777777778,\"#fb9f3a\"],[0.8888888888888888,\"#fdca26\"],[1.0,\"#f0f921\"]]}],\"contourcarpet\":[{\"type\":\"contourcarpet\",\"colorbar\":{\"outlinewidth\":0,\"ticks\":\"\"}}],\"contour\":[{\"type\":\"contour\",\"colorbar\":{\"outlinewidth\":0,\"ticks\":\"\"},\"colorscale\":[[0.0,\"#0d0887\"],[0.1111111111111111,\"#46039f\"],[0.2222222222222222,\"#7201a8\"],[0.3333333333333333,\"#9c179e\"],[0.4444444444444444,\"#bd3786\"],[0.5555555555555556,\"#d8576b\"],[0.6666666666666666,\"#ed7953\"],[0.7777777777777778,\"#fb9f3a\"],[0.8888888888888888,\"#fdca26\"],[1.0,\"#f0f921\"]]}],\"surface\":[{\"type\":\"surface\",\"colorbar\":{\"outlinewidth\":0,\"ticks\":\"\"},\"colorscale\":[[0.0,\"#0d0887\"],[0.1111111111111111,\"#46039f\"],[0.2222222222222222,\"#7201a8\"],[0.3333333333333333,\"#9c179e\"],[0.4444444444444444,\"#bd3786\"],[0.5555555555555556,\"#d8576b\"],[0.6666666666666666,\"#ed7953\"],[0.7777777777777778,\"#fb9f3a\"],[0.8888888888888888,\"#fdca26\"],[1.0,\"#f0f921\"]]}],\"mesh3d\":[{\"type\":\"mesh3d\",\"colorbar\":{\"outlinewidth\":0,\"ticks\":\"\"}}],\"scatter\":[{\"fillpattern\":{\"fillmode\":\"overlay\",\"size\":10,\"solidity\":0.2},\"type\":\"scatter\"}],\"parcoords\":[{\"type\":\"parcoords\",\"line\":{\"colorbar\":{\"outlinewidth\":0,\"ticks\":\"\"}}}],\"scatterpolargl\":[{\"type\":\"scatterpolargl\",\"marker\":{\"colorbar\":{\"outlinewidth\":0,\"ticks\":\"\"}}}],\"bar\":[{\"error_x\":{\"color\":\"#2a3f5f\"},\"error_y\":{\"color\":\"#2a3f5f\"},\"marker\":{\"line\":{\"color\":\"#E5ECF6\",\"width\":0.5},\"pattern\":{\"fillmode\":\"overlay\",\"size\":10,\"solidity\":0.2}},\"type\":\"bar\"}],\"scattergeo\":[{\"type\":\"scattergeo\",\"marker\":{\"colorbar\":{\"outlinewidth\":0,\"ticks\":\"\"}}}],\"scatterpolar\":[{\"type\":\"scatterpolar\",\"marker\":{\"colorbar\":{\"outlinewidth\":0,\"ticks\":\"\"}}}],\"histogram\":[{\"marker\":{\"pattern\":{\"fillmode\":\"overlay\",\"size\":10,\"solidity\":0.2}},\"type\":\"histogram\"}],\"scattergl\":[{\"type\":\"scattergl\",\"marker\":{\"colorbar\":{\"outlinewidth\":0,\"ticks\":\"\"}}}],\"scatter3d\":[{\"type\":\"scatter3d\",\"line\":{\"colorbar\":{\"outlinewidth\":0,\"ticks\":\"\"}},\"marker\":{\"colorbar\":{\"outlinewidth\":0,\"ticks\":\"\"}}}],\"scattermapbox\":[{\"type\":\"scattermapbox\",\"marker\":{\"colorbar\":{\"outlinewidth\":0,\"ticks\":\"\"}}}],\"scatterternary\":[{\"type\":\"scatterternary\",\"marker\":{\"colorbar\":{\"outlinewidth\":0,\"ticks\":\"\"}}}],\"scattercarpet\":[{\"type\":\"scattercarpet\",\"marker\":{\"colorbar\":{\"outlinewidth\":0,\"ticks\":\"\"}}}],\"carpet\":[{\"aaxis\":{\"endlinecolor\":\"#2a3f5f\",\"gridcolor\":\"white\",\"linecolor\":\"white\",\"minorgridcolor\":\"white\",\"startlinecolor\":\"#2a3f5f\"},\"baxis\":{\"endlinecolor\":\"#2a3f5f\",\"gridcolor\":\"white\",\"linecolor\":\"white\",\"minorgridcolor\":\"white\",\"startlinecolor\":\"#2a3f5f\"},\"type\":\"carpet\"}],\"table\":[{\"cells\":{\"fill\":{\"color\":\"#EBF0F8\"},\"line\":{\"color\":\"white\"}},\"header\":{\"fill\":{\"color\":\"#C8D4E3\"},\"line\":{\"color\":\"white\"}},\"type\":\"table\"}],\"barpolar\":[{\"marker\":{\"line\":{\"color\":\"#E5ECF6\",\"width\":0.5},\"pattern\":{\"fillmode\":\"overlay\",\"size\":10,\"solidity\":0.2}},\"type\":\"barpolar\"}],\"pie\":[{\"automargin\":true,\"type\":\"pie\"}]},\"layout\":{\"autotypenumbers\":\"strict\",\"colorway\":[\"#636efa\",\"#EF553B\",\"#00cc96\",\"#ab63fa\",\"#FFA15A\",\"#19d3f3\",\"#FF6692\",\"#B6E880\",\"#FF97FF\",\"#FECB52\"],\"font\":{\"color\":\"#2a3f5f\"},\"hovermode\":\"closest\",\"hoverlabel\":{\"align\":\"left\"},\"paper_bgcolor\":\"white\",\"plot_bgcolor\":\"#E5ECF6\",\"polar\":{\"bgcolor\":\"#E5ECF6\",\"angularaxis\":{\"gridcolor\":\"white\",\"linecolor\":\"white\",\"ticks\":\"\"},\"radialaxis\":{\"gridcolor\":\"white\",\"linecolor\":\"white\",\"ticks\":\"\"}},\"ternary\":{\"bgcolor\":\"#E5ECF6\",\"aaxis\":{\"gridcolor\":\"white\",\"linecolor\":\"white\",\"ticks\":\"\"},\"baxis\":{\"gridcolor\":\"white\",\"linecolor\":\"white\",\"ticks\":\"\"},\"caxis\":{\"gridcolor\":\"white\",\"linecolor\":\"white\",\"ticks\":\"\"}},\"coloraxis\":{\"colorbar\":{\"outlinewidth\":0,\"ticks\":\"\"}},\"colorscale\":{\"sequential\":[[0.0,\"#0d0887\"],[0.1111111111111111,\"#46039f\"],[0.2222222222222222,\"#7201a8\"],[0.3333333333333333,\"#9c179e\"],[0.4444444444444444,\"#bd3786\"],[0.5555555555555556,\"#d8576b\"],[0.6666666666666666,\"#ed7953\"],[0.7777777777777778,\"#fb9f3a\"],[0.8888888888888888,\"#fdca26\"],[1.0,\"#f0f921\"]],\"sequentialminus\":[[0.0,\"#0d0887\"],[0.1111111111111111,\"#46039f\"],[0.2222222222222222,\"#7201a8\"],[0.3333333333333333,\"#9c179e\"],[0.4444444444444444,\"#bd3786\"],[0.5555555555555556,\"#d8576b\"],[0.6666666666666666,\"#ed7953\"],[0.7777777777777778,\"#fb9f3a\"],[0.8888888888888888,\"#fdca26\"],[1.0,\"#f0f921\"]],\"diverging\":[[0,\"#8e0152\"],[0.1,\"#c51b7d\"],[0.2,\"#de77ae\"],[0.3,\"#f1b6da\"],[0.4,\"#fde0ef\"],[0.5,\"#f7f7f7\"],[0.6,\"#e6f5d0\"],[0.7,\"#b8e186\"],[0.8,\"#7fbc41\"],[0.9,\"#4d9221\"],[1,\"#276419\"]]},\"xaxis\":{\"gridcolor\":\"white\",\"linecolor\":\"white\",\"ticks\":\"\",\"title\":{\"standoff\":15},\"zerolinecolor\":\"white\",\"automargin\":true,\"zerolinewidth\":2},\"yaxis\":{\"gridcolor\":\"white\",\"linecolor\":\"white\",\"ticks\":\"\",\"title\":{\"standoff\":15},\"zerolinecolor\":\"white\",\"automargin\":true,\"zerolinewidth\":2},\"scene\":{\"xaxis\":{\"backgroundcolor\":\"#E5ECF6\",\"gridcolor\":\"white\",\"linecolor\":\"white\",\"showbackground\":true,\"ticks\":\"\",\"zerolinecolor\":\"white\",\"gridwidth\":2},\"yaxis\":{\"backgroundcolor\":\"#E5ECF6\",\"gridcolor\":\"white\",\"linecolor\":\"white\",\"showbackground\":true,\"ticks\":\"\",\"zerolinecolor\":\"white\",\"gridwidth\":2},\"zaxis\":{\"backgroundcolor\":\"#E5ECF6\",\"gridcolor\":\"white\",\"linecolor\":\"white\",\"showbackground\":true,\"ticks\":\"\",\"zerolinecolor\":\"white\",\"gridwidth\":2}},\"shapedefaults\":{\"line\":{\"color\":\"#2a3f5f\"}},\"annotationdefaults\":{\"arrowcolor\":\"#2a3f5f\",\"arrowhead\":0,\"arrowwidth\":1},\"geo\":{\"bgcolor\":\"white\",\"landcolor\":\"#E5ECF6\",\"subunitcolor\":\"white\",\"showland\":true,\"showlakes\":true,\"lakecolor\":\"white\"},\"title\":{\"x\":0.05},\"mapbox\":{\"style\":\"light\"}}},\"xaxis\":{\"anchor\":\"y\",\"domain\":[0.0,1.0],\"title\":{\"text\":\"Tokens Trained On\"},\"type\":\"log\"},\"yaxis\":{\"anchor\":\"x\",\"domain\":[0.0,1.0],\"title\":{\"text\":\"index\"}},\"legend\":{\"tracegroupgap\":0},\"title\":{\"text\":\"Induction Loss over training: solu-2l\"}},                        {\"responsive\": true}                    ).then(function(){\n",
       "                            \n",
       "var gd = document.getElementById('cc6f777b-a90a-48ac-a6fd-a4cf76c6e5c3');\n",
       "var x = new MutationObserver(function (mutations, observer) {{\n",
       "        var display = window.getComputedStyle(gd).display;\n",
       "        if (!display || display === 'none') {{\n",
       "            console.log([gd, 'removed!']);\n",
       "            Plotly.purge(gd);\n",
       "            observer.disconnect();\n",
       "        }}\n",
       "}});\n",
       "\n",
       "// Listen for the removal of the full notebook cells\n",
       "var notebookContainer = gd.closest('#notebook-container');\n",
       "if (notebookContainer) {{\n",
       "    x.observe(notebookContainer, {childList: true});\n",
       "}}\n",
       "\n",
       "// Listen for the clearing of the current output cell\n",
       "var outputEl = gd.closest('.output');\n",
       "if (outputEl) {{\n",
       "    x.observe(outputEl, {childList: true});\n",
       "}}\n",
       "\n",
       "                        })                };                            </script>        </div>\n",
       "</body>\n",
       "</html>"
      ]
     },
     "metadata": {},
     "output_type": "display_data"
    }
   ],
   "source": [
    "line(induction_losses, x=tokens_trained_on, xaxis=\"Tokens Trained On\", yaxis=\"Induction Loss\", title=\"Induction Loss over training: solu-2l\", markers=True, log_x=True)"
   ]
  }
 ],
 "metadata": {
  "accelerator": "GPU",
  "colab": {
   "gpuType": "T4",
   "provenance": []
  },
  "kernelspec": {
   "display_name": ".ml",
   "language": "python",
   "name": "python3"
  },
  "language_info": {
   "codemirror_mode": {
    "name": "ipython",
    "version": 3
   },
   "file_extension": ".py",
   "mimetype": "text/x-python",
   "name": "python",
   "nbconvert_exporter": "python",
   "pygments_lexer": "ipython3",
   "version": "3.12.6"
  },
  "orig_nbformat": 4,
  "widgets": {
   "application/vnd.jupyter.widget-state+json": {
    "01843ad382df4d68bddca08dfc00c1bb": {
     "model_module": "@jupyter-widgets/controls",
     "model_module_version": "1.5.0",
     "model_name": "HBoxModel",
     "state": {
      "_dom_classes": [],
      "_model_module": "@jupyter-widgets/controls",
      "_model_module_version": "1.5.0",
      "_model_name": "HBoxModel",
      "_view_count": null,
      "_view_module": "@jupyter-widgets/controls",
      "_view_module_version": "1.5.0",
      "_view_name": "HBoxView",
      "box_style": "",
      "children": [
       "IPY_MODEL_5294a29a17d34dfba5e4835922834434",
       "IPY_MODEL_c2e43349e7544df996161986b80a9c24",
       "IPY_MODEL_43949a6403424d95bb4df7f1ed0f4955"
      ],
      "layout": "IPY_MODEL_787d254d75374acfaa33781d654fa1e1"
     }
    },
    "01ae48e70a9b424fb06a47916dafdfec": {
     "model_module": "@jupyter-widgets/base",
     "model_module_version": "1.2.0",
     "model_name": "LayoutModel",
     "state": {
      "_model_module": "@jupyter-widgets/base",
      "_model_module_version": "1.2.0",
      "_model_name": "LayoutModel",
      "_view_count": null,
      "_view_module": "@jupyter-widgets/base",
      "_view_module_version": "1.2.0",
      "_view_name": "LayoutView",
      "align_content": null,
      "align_items": null,
      "align_self": null,
      "border": null,
      "bottom": null,
      "display": null,
      "flex": null,
      "flex_flow": null,
      "grid_area": null,
      "grid_auto_columns": null,
      "grid_auto_flow": null,
      "grid_auto_rows": null,
      "grid_column": null,
      "grid_gap": null,
      "grid_row": null,
      "grid_template_areas": null,
      "grid_template_columns": null,
      "grid_template_rows": null,
      "height": null,
      "justify_content": null,
      "justify_items": null,
      "left": null,
      "margin": null,
      "max_height": null,
      "max_width": null,
      "min_height": null,
      "min_width": null,
      "object_fit": null,
      "object_position": null,
      "order": null,
      "overflow": null,
      "overflow_x": null,
      "overflow_y": null,
      "padding": null,
      "right": null,
      "top": null,
      "visibility": null,
      "width": null
     }
    },
    "01f9a225328c4b5fb9aa7d04608fba80": {
     "model_module": "@jupyter-widgets/controls",
     "model_module_version": "1.5.0",
     "model_name": "DescriptionStyleModel",
     "state": {
      "_model_module": "@jupyter-widgets/controls",
      "_model_module_version": "1.5.0",
      "_model_name": "DescriptionStyleModel",
      "_view_count": null,
      "_view_module": "@jupyter-widgets/base",
      "_view_module_version": "1.2.0",
      "_view_name": "StyleView",
      "description_width": ""
     }
    },
    "07775b6f6ec0459ab3c513fa31ca63e0": {
     "model_module": "@jupyter-widgets/controls",
     "model_module_version": "1.5.0",
     "model_name": "FloatProgressModel",
     "state": {
      "_dom_classes": [],
      "_model_module": "@jupyter-widgets/controls",
      "_model_module_version": "1.5.0",
      "_model_name": "FloatProgressModel",
      "_view_count": null,
      "_view_module": "@jupyter-widgets/controls",
      "_view_module_version": "1.5.0",
      "_view_name": "ProgressView",
      "bar_style": "success",
      "description": "",
      "description_tooltip": null,
      "layout": "IPY_MODEL_0b082b55c3ee412692e75b7962ab4479",
      "max": 227146782,
      "min": 0,
      "orientation": "horizontal",
      "style": "IPY_MODEL_e5635b0acdd54b6b81d39f741681dae5",
      "value": 227146782
     }
    },
    "07d75b5f413047afab785d2c53d6b06b": {
     "model_module": "@jupyter-widgets/base",
     "model_module_version": "1.2.0",
     "model_name": "LayoutModel",
     "state": {
      "_model_module": "@jupyter-widgets/base",
      "_model_module_version": "1.2.0",
      "_model_name": "LayoutModel",
      "_view_count": null,
      "_view_module": "@jupyter-widgets/base",
      "_view_module_version": "1.2.0",
      "_view_name": "LayoutView",
      "align_content": null,
      "align_items": null,
      "align_self": null,
      "border": null,
      "bottom": null,
      "display": null,
      "flex": null,
      "flex_flow": null,
      "grid_area": null,
      "grid_auto_columns": null,
      "grid_auto_flow": null,
      "grid_auto_rows": null,
      "grid_column": null,
      "grid_gap": null,
      "grid_row": null,
      "grid_template_areas": null,
      "grid_template_columns": null,
      "grid_template_rows": null,
      "height": null,
      "justify_content": null,
      "justify_items": null,
      "left": null,
      "margin": null,
      "max_height": null,
      "max_width": null,
      "min_height": null,
      "min_width": null,
      "object_fit": null,
      "object_position": null,
      "order": null,
      "overflow": null,
      "overflow_x": null,
      "overflow_y": null,
      "padding": null,
      "right": null,
      "top": null,
      "visibility": null,
      "width": null
     }
    },
    "08e214e6c7a24c8d9e58e9853efadc6e": {
     "model_module": "@jupyter-widgets/controls",
     "model_module_version": "1.5.0",
     "model_name": "ProgressStyleModel",
     "state": {
      "_model_module": "@jupyter-widgets/controls",
      "_model_module_version": "1.5.0",
      "_model_name": "ProgressStyleModel",
      "_view_count": null,
      "_view_module": "@jupyter-widgets/base",
      "_view_module_version": "1.2.0",
      "_view_name": "StyleView",
      "bar_color": null,
      "description_width": ""
     }
    },
    "098ecc2beda44309bff9b58230249daf": {
     "model_module": "@jupyter-widgets/controls",
     "model_module_version": "1.5.0",
     "model_name": "DescriptionStyleModel",
     "state": {
      "_model_module": "@jupyter-widgets/controls",
      "_model_module_version": "1.5.0",
      "_model_name": "DescriptionStyleModel",
      "_view_count": null,
      "_view_module": "@jupyter-widgets/base",
      "_view_module_version": "1.2.0",
      "_view_name": "StyleView",
      "description_width": ""
     }
    },
    "09fa2868bc6d4da1ae79223331b6eb16": {
     "model_module": "@jupyter-widgets/base",
     "model_module_version": "1.2.0",
     "model_name": "LayoutModel",
     "state": {
      "_model_module": "@jupyter-widgets/base",
      "_model_module_version": "1.2.0",
      "_model_name": "LayoutModel",
      "_view_count": null,
      "_view_module": "@jupyter-widgets/base",
      "_view_module_version": "1.2.0",
      "_view_name": "LayoutView",
      "align_content": null,
      "align_items": null,
      "align_self": null,
      "border": null,
      "bottom": null,
      "display": null,
      "flex": null,
      "flex_flow": null,
      "grid_area": null,
      "grid_auto_columns": null,
      "grid_auto_flow": null,
      "grid_auto_rows": null,
      "grid_column": null,
      "grid_gap": null,
      "grid_row": null,
      "grid_template_areas": null,
      "grid_template_columns": null,
      "grid_template_rows": null,
      "height": null,
      "justify_content": null,
      "justify_items": null,
      "left": null,
      "margin": null,
      "max_height": null,
      "max_width": null,
      "min_height": null,
      "min_width": null,
      "object_fit": null,
      "object_position": null,
      "order": null,
      "overflow": null,
      "overflow_x": null,
      "overflow_y": null,
      "padding": null,
      "right": null,
      "top": null,
      "visibility": null,
      "width": null
     }
    },
    "0b082b55c3ee412692e75b7962ab4479": {
     "model_module": "@jupyter-widgets/base",
     "model_module_version": "1.2.0",
     "model_name": "LayoutModel",
     "state": {
      "_model_module": "@jupyter-widgets/base",
      "_model_module_version": "1.2.0",
      "_model_name": "LayoutModel",
      "_view_count": null,
      "_view_module": "@jupyter-widgets/base",
      "_view_module_version": "1.2.0",
      "_view_name": "LayoutView",
      "align_content": null,
      "align_items": null,
      "align_self": null,
      "border": null,
      "bottom": null,
      "display": null,
      "flex": null,
      "flex_flow": null,
      "grid_area": null,
      "grid_auto_columns": null,
      "grid_auto_flow": null,
      "grid_auto_rows": null,
      "grid_column": null,
      "grid_gap": null,
      "grid_row": null,
      "grid_template_areas": null,
      "grid_template_columns": null,
      "grid_template_rows": null,
      "height": null,
      "justify_content": null,
      "justify_items": null,
      "left": null,
      "margin": null,
      "max_height": null,
      "max_width": null,
      "min_height": null,
      "min_width": null,
      "object_fit": null,
      "object_position": null,
      "order": null,
      "overflow": null,
      "overflow_x": null,
      "overflow_y": null,
      "padding": null,
      "right": null,
      "top": null,
      "visibility": null,
      "width": null
     }
    },
    "0c7c2ca233fe4fe2bf792b29d02999de": {
     "model_module": "@jupyter-widgets/base",
     "model_module_version": "1.2.0",
     "model_name": "LayoutModel",
     "state": {
      "_model_module": "@jupyter-widgets/base",
      "_model_module_version": "1.2.0",
      "_model_name": "LayoutModel",
      "_view_count": null,
      "_view_module": "@jupyter-widgets/base",
      "_view_module_version": "1.2.0",
      "_view_name": "LayoutView",
      "align_content": null,
      "align_items": null,
      "align_self": null,
      "border": null,
      "bottom": null,
      "display": null,
      "flex": null,
      "flex_flow": null,
      "grid_area": null,
      "grid_auto_columns": null,
      "grid_auto_flow": null,
      "grid_auto_rows": null,
      "grid_column": null,
      "grid_gap": null,
      "grid_row": null,
      "grid_template_areas": null,
      "grid_template_columns": null,
      "grid_template_rows": null,
      "height": null,
      "justify_content": null,
      "justify_items": null,
      "left": null,
      "margin": null,
      "max_height": null,
      "max_width": null,
      "min_height": null,
      "min_width": null,
      "object_fit": null,
      "object_position": null,
      "order": null,
      "overflow": null,
      "overflow_x": null,
      "overflow_y": null,
      "padding": null,
      "right": null,
      "top": null,
      "visibility": null,
      "width": null
     }
    },
    "0cca796af3e946d180cf665a9f0cbc64": {
     "model_module": "@jupyter-widgets/controls",
     "model_module_version": "1.5.0",
     "model_name": "DescriptionStyleModel",
     "state": {
      "_model_module": "@jupyter-widgets/controls",
      "_model_module_version": "1.5.0",
      "_model_name": "DescriptionStyleModel",
      "_view_count": null,
      "_view_module": "@jupyter-widgets/base",
      "_view_module_version": "1.2.0",
      "_view_name": "StyleView",
      "description_width": ""
     }
    },
    "0dc2c626cfdc4e54a4c975f88326c4b9": {
     "model_module": "@jupyter-widgets/controls",
     "model_module_version": "1.5.0",
     "model_name": "FloatProgressModel",
     "state": {
      "_dom_classes": [],
      "_model_module": "@jupyter-widgets/controls",
      "_model_module_version": "1.5.0",
      "_model_name": "FloatProgressModel",
      "_view_count": null,
      "_view_module": "@jupyter-widgets/controls",
      "_view_module_version": "1.5.0",
      "_view_name": "ProgressView",
      "bar_style": "success",
      "description": "",
      "description_tooltip": null,
      "layout": "IPY_MODEL_72fa8d09b8b74e968d6638c928b37287",
      "max": 81,
      "min": 0,
      "orientation": "horizontal",
      "style": "IPY_MODEL_08e214e6c7a24c8d9e58e9853efadc6e",
      "value": 81
     }
    },
    "0e9c54fb8c06418b9c29b78c00abfcd8": {
     "model_module": "@jupyter-widgets/base",
     "model_module_version": "1.2.0",
     "model_name": "LayoutModel",
     "state": {
      "_model_module": "@jupyter-widgets/base",
      "_model_module_version": "1.2.0",
      "_model_name": "LayoutModel",
      "_view_count": null,
      "_view_module": "@jupyter-widgets/base",
      "_view_module_version": "1.2.0",
      "_view_name": "LayoutView",
      "align_content": null,
      "align_items": null,
      "align_self": null,
      "border": null,
      "bottom": null,
      "display": null,
      "flex": null,
      "flex_flow": null,
      "grid_area": null,
      "grid_auto_columns": null,
      "grid_auto_flow": null,
      "grid_auto_rows": null,
      "grid_column": null,
      "grid_gap": null,
      "grid_row": null,
      "grid_template_areas": null,
      "grid_template_columns": null,
      "grid_template_rows": null,
      "height": null,
      "justify_content": null,
      "justify_items": null,
      "left": null,
      "margin": null,
      "max_height": null,
      "max_width": null,
      "min_height": null,
      "min_width": null,
      "object_fit": null,
      "object_position": null,
      "order": null,
      "overflow": null,
      "overflow_x": null,
      "overflow_y": null,
      "padding": null,
      "right": null,
      "top": null,
      "visibility": null,
      "width": null
     }
    },
    "0f61156bea1646c694bf4f75b411c9d9": {
     "model_module": "@jupyter-widgets/controls",
     "model_module_version": "1.5.0",
     "model_name": "DescriptionStyleModel",
     "state": {
      "_model_module": "@jupyter-widgets/controls",
      "_model_module_version": "1.5.0",
      "_model_name": "DescriptionStyleModel",
      "_view_count": null,
      "_view_module": "@jupyter-widgets/base",
      "_view_module_version": "1.2.0",
      "_view_name": "StyleView",
      "description_width": ""
     }
    },
    "1144a1a7c0af4269879f75d6d3458b70": {
     "model_module": "@jupyter-widgets/base",
     "model_module_version": "1.2.0",
     "model_name": "LayoutModel",
     "state": {
      "_model_module": "@jupyter-widgets/base",
      "_model_module_version": "1.2.0",
      "_model_name": "LayoutModel",
      "_view_count": null,
      "_view_module": "@jupyter-widgets/base",
      "_view_module_version": "1.2.0",
      "_view_name": "LayoutView",
      "align_content": null,
      "align_items": null,
      "align_self": null,
      "border": null,
      "bottom": null,
      "display": null,
      "flex": null,
      "flex_flow": null,
      "grid_area": null,
      "grid_auto_columns": null,
      "grid_auto_flow": null,
      "grid_auto_rows": null,
      "grid_column": null,
      "grid_gap": null,
      "grid_row": null,
      "grid_template_areas": null,
      "grid_template_columns": null,
      "grid_template_rows": null,
      "height": null,
      "justify_content": null,
      "justify_items": null,
      "left": null,
      "margin": null,
      "max_height": null,
      "max_width": null,
      "min_height": null,
      "min_width": null,
      "object_fit": null,
      "object_position": null,
      "order": null,
      "overflow": null,
      "overflow_x": null,
      "overflow_y": null,
      "padding": null,
      "right": null,
      "top": null,
      "visibility": null,
      "width": null
     }
    },
    "1191e060937045dcb84427d4a0874cb7": {
     "model_module": "@jupyter-widgets/controls",
     "model_module_version": "1.5.0",
     "model_name": "DescriptionStyleModel",
     "state": {
      "_model_module": "@jupyter-widgets/controls",
      "_model_module_version": "1.5.0",
      "_model_name": "DescriptionStyleModel",
      "_view_count": null,
      "_view_module": "@jupyter-widgets/base",
      "_view_module_version": "1.2.0",
      "_view_name": "StyleView",
      "description_width": ""
     }
    },
    "119cb26fa31b48a98114bebc4141da39": {
     "model_module": "@jupyter-widgets/base",
     "model_module_version": "1.2.0",
     "model_name": "LayoutModel",
     "state": {
      "_model_module": "@jupyter-widgets/base",
      "_model_module_version": "1.2.0",
      "_model_name": "LayoutModel",
      "_view_count": null,
      "_view_module": "@jupyter-widgets/base",
      "_view_module_version": "1.2.0",
      "_view_name": "LayoutView",
      "align_content": null,
      "align_items": null,
      "align_self": null,
      "border": null,
      "bottom": null,
      "display": null,
      "flex": null,
      "flex_flow": null,
      "grid_area": null,
      "grid_auto_columns": null,
      "grid_auto_flow": null,
      "grid_auto_rows": null,
      "grid_column": null,
      "grid_gap": null,
      "grid_row": null,
      "grid_template_areas": null,
      "grid_template_columns": null,
      "grid_template_rows": null,
      "height": null,
      "justify_content": null,
      "justify_items": null,
      "left": null,
      "margin": null,
      "max_height": null,
      "max_width": null,
      "min_height": null,
      "min_width": null,
      "object_fit": null,
      "object_position": null,
      "order": null,
      "overflow": null,
      "overflow_x": null,
      "overflow_y": null,
      "padding": null,
      "right": null,
      "top": null,
      "visibility": null,
      "width": null
     }
    },
    "1270ccc349c8406aa14e7d49e05dff63": {
     "model_module": "@jupyter-widgets/controls",
     "model_module_version": "1.5.0",
     "model_name": "FloatProgressModel",
     "state": {
      "_dom_classes": [],
      "_model_module": "@jupyter-widgets/controls",
      "_model_module_version": "1.5.0",
      "_model_name": "FloatProgressModel",
      "_view_count": null,
      "_view_module": "@jupyter-widgets/controls",
      "_view_module_version": "1.5.0",
      "_view_name": "ProgressView",
      "bar_style": "success",
      "description": "",
      "description_tooltip": null,
      "layout": "IPY_MODEL_bc5b45367b224bf2b4a9e09ecfb0fb19",
      "max": 2037698,
      "min": 0,
      "orientation": "horizontal",
      "style": "IPY_MODEL_4a993c3694824f2bb0bb03a92038af6d",
      "value": 2037698
     }
    },
    "12c80a98595f48ebb90c0fca556ae636": {
     "model_module": "@jupyter-widgets/base",
     "model_module_version": "1.2.0",
     "model_name": "LayoutModel",
     "state": {
      "_model_module": "@jupyter-widgets/base",
      "_model_module_version": "1.2.0",
      "_model_name": "LayoutModel",
      "_view_count": null,
      "_view_module": "@jupyter-widgets/base",
      "_view_module_version": "1.2.0",
      "_view_name": "LayoutView",
      "align_content": null,
      "align_items": null,
      "align_self": null,
      "border": null,
      "bottom": null,
      "display": null,
      "flex": null,
      "flex_flow": null,
      "grid_area": null,
      "grid_auto_columns": null,
      "grid_auto_flow": null,
      "grid_auto_rows": null,
      "grid_column": null,
      "grid_gap": null,
      "grid_row": null,
      "grid_template_areas": null,
      "grid_template_columns": null,
      "grid_template_rows": null,
      "height": null,
      "justify_content": null,
      "justify_items": null,
      "left": null,
      "margin": null,
      "max_height": null,
      "max_width": null,
      "min_height": null,
      "min_width": null,
      "object_fit": null,
      "object_position": null,
      "order": null,
      "overflow": null,
      "overflow_x": null,
      "overflow_y": null,
      "padding": null,
      "right": null,
      "top": null,
      "visibility": null,
      "width": null
     }
    },
    "136fd076a24c437a85b4382ee587770a": {
     "model_module": "@jupyter-widgets/base",
     "model_module_version": "1.2.0",
     "model_name": "LayoutModel",
     "state": {
      "_model_module": "@jupyter-widgets/base",
      "_model_module_version": "1.2.0",
      "_model_name": "LayoutModel",
      "_view_count": null,
      "_view_module": "@jupyter-widgets/base",
      "_view_module_version": "1.2.0",
      "_view_name": "LayoutView",
      "align_content": null,
      "align_items": null,
      "align_self": null,
      "border": null,
      "bottom": null,
      "display": null,
      "flex": null,
      "flex_flow": null,
      "grid_area": null,
      "grid_auto_columns": null,
      "grid_auto_flow": null,
      "grid_auto_rows": null,
      "grid_column": null,
      "grid_gap": null,
      "grid_row": null,
      "grid_template_areas": null,
      "grid_template_columns": null,
      "grid_template_rows": null,
      "height": null,
      "justify_content": null,
      "justify_items": null,
      "left": null,
      "margin": null,
      "max_height": null,
      "max_width": null,
      "min_height": null,
      "min_width": null,
      "object_fit": null,
      "object_position": null,
      "order": null,
      "overflow": null,
      "overflow_x": null,
      "overflow_y": null,
      "padding": null,
      "right": null,
      "top": null,
      "visibility": null,
      "width": null
     }
    },
    "14215a32b0c04c518566bcc365398ad6": {
     "model_module": "@jupyter-widgets/controls",
     "model_module_version": "1.5.0",
     "model_name": "DescriptionStyleModel",
     "state": {
      "_model_module": "@jupyter-widgets/controls",
      "_model_module_version": "1.5.0",
      "_model_name": "DescriptionStyleModel",
      "_view_count": null,
      "_view_module": "@jupyter-widgets/base",
      "_view_module_version": "1.2.0",
      "_view_name": "StyleView",
      "description_width": ""
     }
    },
    "14f005152d874a3795e0c7195f99459f": {
     "model_module": "@jupyter-widgets/base",
     "model_module_version": "1.2.0",
     "model_name": "LayoutModel",
     "state": {
      "_model_module": "@jupyter-widgets/base",
      "_model_module_version": "1.2.0",
      "_model_name": "LayoutModel",
      "_view_count": null,
      "_view_module": "@jupyter-widgets/base",
      "_view_module_version": "1.2.0",
      "_view_name": "LayoutView",
      "align_content": null,
      "align_items": null,
      "align_self": null,
      "border": null,
      "bottom": null,
      "display": null,
      "flex": null,
      "flex_flow": null,
      "grid_area": null,
      "grid_auto_columns": null,
      "grid_auto_flow": null,
      "grid_auto_rows": null,
      "grid_column": null,
      "grid_gap": null,
      "grid_row": null,
      "grid_template_areas": null,
      "grid_template_columns": null,
      "grid_template_rows": null,
      "height": null,
      "justify_content": null,
      "justify_items": null,
      "left": null,
      "margin": null,
      "max_height": null,
      "max_width": null,
      "min_height": null,
      "min_width": null,
      "object_fit": null,
      "object_position": null,
      "order": null,
      "overflow": null,
      "overflow_x": null,
      "overflow_y": null,
      "padding": null,
      "right": null,
      "top": null,
      "visibility": null,
      "width": null
     }
    },
    "16872704fb7e4ba285de5dd120d5e552": {
     "model_module": "@jupyter-widgets/base",
     "model_module_version": "1.2.0",
     "model_name": "LayoutModel",
     "state": {
      "_model_module": "@jupyter-widgets/base",
      "_model_module_version": "1.2.0",
      "_model_name": "LayoutModel",
      "_view_count": null,
      "_view_module": "@jupyter-widgets/base",
      "_view_module_version": "1.2.0",
      "_view_name": "LayoutView",
      "align_content": null,
      "align_items": null,
      "align_self": null,
      "border": null,
      "bottom": null,
      "display": null,
      "flex": null,
      "flex_flow": null,
      "grid_area": null,
      "grid_auto_columns": null,
      "grid_auto_flow": null,
      "grid_auto_rows": null,
      "grid_column": null,
      "grid_gap": null,
      "grid_row": null,
      "grid_template_areas": null,
      "grid_template_columns": null,
      "grid_template_rows": null,
      "height": null,
      "justify_content": null,
      "justify_items": null,
      "left": null,
      "margin": null,
      "max_height": null,
      "max_width": null,
      "min_height": null,
      "min_width": null,
      "object_fit": null,
      "object_position": null,
      "order": null,
      "overflow": null,
      "overflow_x": null,
      "overflow_y": null,
      "padding": null,
      "right": null,
      "top": null,
      "visibility": null,
      "width": null
     }
    },
    "16d140850a994b2db2b9575de9026741": {
     "model_module": "@jupyter-widgets/controls",
     "model_module_version": "1.5.0",
     "model_name": "HTMLModel",
     "state": {
      "_dom_classes": [],
      "_model_module": "@jupyter-widgets/controls",
      "_model_module_version": "1.5.0",
      "_model_name": "HTMLModel",
      "_view_count": null,
      "_view_module": "@jupyter-widgets/controls",
      "_view_module_version": "1.5.0",
      "_view_name": "HTMLView",
      "description": "",
      "description_tooltip": null,
      "layout": "IPY_MODEL_5da04967fb694094bccfaf422217e82c",
      "placeholder": "​",
      "style": "IPY_MODEL_95fbf0d0f2a74f68960653a1e0f1897d",
      "value": " 1.04M/1.04M [00:00&lt;00:00, 2.10MB/s]"
     }
    },
    "1bacd9dcdc904b7a9f8542307c04c279": {
     "model_module": "@jupyter-widgets/controls",
     "model_module_version": "1.5.0",
     "model_name": "DescriptionStyleModel",
     "state": {
      "_model_module": "@jupyter-widgets/controls",
      "_model_module_version": "1.5.0",
      "_model_name": "DescriptionStyleModel",
      "_view_count": null,
      "_view_module": "@jupyter-widgets/base",
      "_view_module_version": "1.2.0",
      "_view_name": "StyleView",
      "description_width": ""
     }
    },
    "1d6f7e883961475a8bbf26b9396f87aa": {
     "model_module": "@jupyter-widgets/controls",
     "model_module_version": "1.5.0",
     "model_name": "DescriptionStyleModel",
     "state": {
      "_model_module": "@jupyter-widgets/controls",
      "_model_module_version": "1.5.0",
      "_model_name": "DescriptionStyleModel",
      "_view_count": null,
      "_view_module": "@jupyter-widgets/base",
      "_view_module_version": "1.2.0",
      "_view_name": "StyleView",
      "description_width": ""
     }
    },
    "1e80c977272e41378abd523c60f581ec": {
     "model_module": "@jupyter-widgets/controls",
     "model_module_version": "1.5.0",
     "model_name": "ProgressStyleModel",
     "state": {
      "_model_module": "@jupyter-widgets/controls",
      "_model_module_version": "1.5.0",
      "_model_name": "ProgressStyleModel",
      "_view_count": null,
      "_view_module": "@jupyter-widgets/base",
      "_view_module_version": "1.2.0",
      "_view_name": "StyleView",
      "bar_color": null,
      "description_width": ""
     }
    },
    "1e81732046d148659cd8f255dae2f4d2": {
     "model_module": "@jupyter-widgets/controls",
     "model_module_version": "1.5.0",
     "model_name": "FloatProgressModel",
     "state": {
      "_dom_classes": [],
      "_model_module": "@jupyter-widgets/controls",
      "_model_module_version": "1.5.0",
      "_model_name": "FloatProgressModel",
      "_view_count": null,
      "_view_module": "@jupyter-widgets/controls",
      "_view_module_version": "1.5.0",
      "_view_name": "ProgressView",
      "bar_style": "success",
      "description": "",
      "description_tooltip": null,
      "layout": "IPY_MODEL_ed2d9605661d41968b85d4797c287332",
      "max": 1270,
      "min": 0,
      "orientation": "horizontal",
      "style": "IPY_MODEL_bf91659241034377afeedf6adfc3a9fc",
      "value": 1270
     }
    },
    "21df21ce660643689290fee04ada92d4": {
     "model_module": "@jupyter-widgets/controls",
     "model_module_version": "1.5.0",
     "model_name": "HTMLModel",
     "state": {
      "_dom_classes": [],
      "_model_module": "@jupyter-widgets/controls",
      "_model_module_version": "1.5.0",
      "_model_name": "HTMLModel",
      "_view_count": null,
      "_view_module": "@jupyter-widgets/controls",
      "_view_module_version": "1.5.0",
      "_view_name": "HTMLView",
      "description": "",
      "description_tooltip": null,
      "layout": "IPY_MODEL_dd4353dc6aa5436492269899b150e646",
      "placeholder": "​",
      "style": "IPY_MODEL_aeaffa15d73246389cff1c6183f256d8",
      "value": "model.safetensors: 100%"
     }
    },
    "220fce1aae5a45ddba8f67686c40ed34": {
     "model_module": "@jupyter-widgets/controls",
     "model_module_version": "1.5.0",
     "model_name": "HTMLModel",
     "state": {
      "_dom_classes": [],
      "_model_module": "@jupyter-widgets/controls",
      "_model_module_version": "1.5.0",
      "_model_name": "HTMLModel",
      "_view_count": null,
      "_view_module": "@jupyter-widgets/controls",
      "_view_module_version": "1.5.0",
      "_view_name": "HTMLView",
      "description": "",
      "description_tooltip": null,
      "layout": "IPY_MODEL_f177dfb8c1bc4783aac6e36f93589e4d",
      "placeholder": "​",
      "style": "IPY_MODEL_2846f5fcdf734966a29e737214fb4880",
      "value": " 1.36M/1.36M [00:00&lt;00:00, 2.95MB/s]"
     }
    },
    "2265e4cae63540868d07e53f2587de4c": {
     "model_module": "@jupyter-widgets/controls",
     "model_module_version": "1.5.0",
     "model_name": "FloatProgressModel",
     "state": {
      "_dom_classes": [],
      "_model_module": "@jupyter-widgets/controls",
      "_model_module_version": "1.5.0",
      "_model_name": "FloatProgressModel",
      "_view_count": null,
      "_view_module": "@jupyter-widgets/controls",
      "_view_module_version": "1.5.0",
      "_view_name": "ProgressView",
      "bar_style": "success",
      "description": "",
      "description_tooltip": null,
      "layout": "IPY_MODEL_7fc2f88869d946ee84d4616c1dbc6ddf",
      "max": 665,
      "min": 0,
      "orientation": "horizontal",
      "style": "IPY_MODEL_c66e81c725054e449afa1879feb45b12",
      "value": 665
     }
    },
    "22b5355d068841b68653ec9dcac084bc": {
     "model_module": "@jupyter-widgets/controls",
     "model_module_version": "1.5.0",
     "model_name": "HBoxModel",
     "state": {
      "_dom_classes": [],
      "_model_module": "@jupyter-widgets/controls",
      "_model_module_version": "1.5.0",
      "_model_name": "HBoxModel",
      "_view_count": null,
      "_view_module": "@jupyter-widgets/controls",
      "_view_module_version": "1.5.0",
      "_view_name": "HBoxView",
      "box_style": "",
      "children": [
       "IPY_MODEL_c709fa7d2cbc423facb5cc0a9fc48162",
       "IPY_MODEL_fcf59ba535c847da8c48239a72658e15",
       "IPY_MODEL_65a8c98862924eb5938ff454b2ce05f2"
      ],
      "layout": "IPY_MODEL_28617f13eff2473a97aa80fcc995e696"
     }
    },
    "246d65ef73ac445fa9a6abcc0f75b060": {
     "model_module": "@jupyter-widgets/controls",
     "model_module_version": "1.5.0",
     "model_name": "ProgressStyleModel",
     "state": {
      "_model_module": "@jupyter-widgets/controls",
      "_model_module_version": "1.5.0",
      "_model_name": "ProgressStyleModel",
      "_view_count": null,
      "_view_module": "@jupyter-widgets/base",
      "_view_module_version": "1.2.0",
      "_view_name": "StyleView",
      "bar_color": null,
      "description_width": ""
     }
    },
    "2595cd16350c435bb872abc4771f26ca": {
     "model_module": "@jupyter-widgets/base",
     "model_module_version": "1.2.0",
     "model_name": "LayoutModel",
     "state": {
      "_model_module": "@jupyter-widgets/base",
      "_model_module_version": "1.2.0",
      "_model_name": "LayoutModel",
      "_view_count": null,
      "_view_module": "@jupyter-widgets/base",
      "_view_module_version": "1.2.0",
      "_view_name": "LayoutView",
      "align_content": null,
      "align_items": null,
      "align_self": null,
      "border": null,
      "bottom": null,
      "display": null,
      "flex": null,
      "flex_flow": null,
      "grid_area": null,
      "grid_auto_columns": null,
      "grid_auto_flow": null,
      "grid_auto_rows": null,
      "grid_column": null,
      "grid_gap": null,
      "grid_row": null,
      "grid_template_areas": null,
      "grid_template_columns": null,
      "grid_template_rows": null,
      "height": null,
      "justify_content": null,
      "justify_items": null,
      "left": null,
      "margin": null,
      "max_height": null,
      "max_width": null,
      "min_height": null,
      "min_width": null,
      "object_fit": null,
      "object_position": null,
      "order": null,
      "overflow": null,
      "overflow_x": null,
      "overflow_y": null,
      "padding": null,
      "right": null,
      "top": null,
      "visibility": null,
      "width": null
     }
    },
    "25cd5fda67ed44f69ce2cc4d844f08f4": {
     "model_module": "@jupyter-widgets/base",
     "model_module_version": "1.2.0",
     "model_name": "LayoutModel",
     "state": {
      "_model_module": "@jupyter-widgets/base",
      "_model_module_version": "1.2.0",
      "_model_name": "LayoutModel",
      "_view_count": null,
      "_view_module": "@jupyter-widgets/base",
      "_view_module_version": "1.2.0",
      "_view_name": "LayoutView",
      "align_content": null,
      "align_items": null,
      "align_self": null,
      "border": null,
      "bottom": null,
      "display": null,
      "flex": null,
      "flex_flow": null,
      "grid_area": null,
      "grid_auto_columns": null,
      "grid_auto_flow": null,
      "grid_auto_rows": null,
      "grid_column": null,
      "grid_gap": null,
      "grid_row": null,
      "grid_template_areas": null,
      "grid_template_columns": null,
      "grid_template_rows": null,
      "height": null,
      "justify_content": null,
      "justify_items": null,
      "left": null,
      "margin": null,
      "max_height": null,
      "max_width": null,
      "min_height": null,
      "min_width": null,
      "object_fit": null,
      "object_position": null,
      "order": null,
      "overflow": null,
      "overflow_x": null,
      "overflow_y": null,
      "padding": null,
      "right": null,
      "top": null,
      "visibility": null,
      "width": null
     }
    },
    "2846f5fcdf734966a29e737214fb4880": {
     "model_module": "@jupyter-widgets/controls",
     "model_module_version": "1.5.0",
     "model_name": "DescriptionStyleModel",
     "state": {
      "_model_module": "@jupyter-widgets/controls",
      "_model_module_version": "1.5.0",
      "_model_name": "DescriptionStyleModel",
      "_view_count": null,
      "_view_module": "@jupyter-widgets/base",
      "_view_module_version": "1.2.0",
      "_view_name": "StyleView",
      "description_width": ""
     }
    },
    "28617f13eff2473a97aa80fcc995e696": {
     "model_module": "@jupyter-widgets/base",
     "model_module_version": "1.2.0",
     "model_name": "LayoutModel",
     "state": {
      "_model_module": "@jupyter-widgets/base",
      "_model_module_version": "1.2.0",
      "_model_name": "LayoutModel",
      "_view_count": null,
      "_view_module": "@jupyter-widgets/base",
      "_view_module_version": "1.2.0",
      "_view_name": "LayoutView",
      "align_content": null,
      "align_items": null,
      "align_self": null,
      "border": null,
      "bottom": null,
      "display": null,
      "flex": null,
      "flex_flow": null,
      "grid_area": null,
      "grid_auto_columns": null,
      "grid_auto_flow": null,
      "grid_auto_rows": null,
      "grid_column": null,
      "grid_gap": null,
      "grid_row": null,
      "grid_template_areas": null,
      "grid_template_columns": null,
      "grid_template_rows": null,
      "height": null,
      "justify_content": null,
      "justify_items": null,
      "left": null,
      "margin": null,
      "max_height": null,
      "max_width": null,
      "min_height": null,
      "min_width": null,
      "object_fit": null,
      "object_position": null,
      "order": null,
      "overflow": null,
      "overflow_x": null,
      "overflow_y": null,
      "padding": null,
      "right": null,
      "top": null,
      "visibility": null,
      "width": null
     }
    },
    "2890155606a74e0b8bc362292b62691e": {
     "model_module": "@jupyter-widgets/controls",
     "model_module_version": "1.5.0",
     "model_name": "HTMLModel",
     "state": {
      "_dom_classes": [],
      "_model_module": "@jupyter-widgets/controls",
      "_model_module_version": "1.5.0",
      "_model_name": "HTMLModel",
      "_view_count": null,
      "_view_module": "@jupyter-widgets/controls",
      "_view_module_version": "1.5.0",
      "_view_name": "HTMLView",
      "description": "",
      "description_tooltip": null,
      "layout": "IPY_MODEL_a65b1319a5564aacb6781d662e96aa0b",
      "placeholder": "​",
      "style": "IPY_MODEL_5f1825a25a0b4f65b59db0042673dffb",
      "value": "config.json: 100%"
     }
    },
    "2aec638194114da2bd1079227127940d": {
     "model_module": "@jupyter-widgets/controls",
     "model_module_version": "1.5.0",
     "model_name": "FloatProgressModel",
     "state": {
      "_dom_classes": [],
      "_model_module": "@jupyter-widgets/controls",
      "_model_module_version": "1.5.0",
      "_model_name": "FloatProgressModel",
      "_view_count": null,
      "_view_module": "@jupyter-widgets/controls",
      "_view_module_version": "1.5.0",
      "_view_name": "ProgressView",
      "bar_style": "success",
      "description": "",
      "description_tooltip": null,
      "layout": "IPY_MODEL_ed9bb16be4534517bb3d3f8a71bc0f58",
      "max": 227146782,
      "min": 0,
      "orientation": "horizontal",
      "style": "IPY_MODEL_246d65ef73ac445fa9a6abcc0f75b060",
      "value": 227146782
     }
    },
    "2b6694a9b28f450a8bb1bf4d4a4249db": {
     "model_module": "@jupyter-widgets/controls",
     "model_module_version": "1.5.0",
     "model_name": "DescriptionStyleModel",
     "state": {
      "_model_module": "@jupyter-widgets/controls",
      "_model_module_version": "1.5.0",
      "_model_name": "DescriptionStyleModel",
      "_view_count": null,
      "_view_module": "@jupyter-widgets/base",
      "_view_module_version": "1.2.0",
      "_view_name": "StyleView",
      "description_width": ""
     }
    },
    "2d7e2ea3f0b54ed6b2f0e759afe276b8": {
     "model_module": "@jupyter-widgets/controls",
     "model_module_version": "1.5.0",
     "model_name": "FloatProgressModel",
     "state": {
      "_dom_classes": [],
      "_model_module": "@jupyter-widgets/controls",
      "_model_module_version": "1.5.0",
      "_model_name": "FloatProgressModel",
      "_view_count": null,
      "_view_module": "@jupyter-widgets/controls",
      "_view_module_version": "1.5.0",
      "_view_name": "ProgressView",
      "bar_style": "success",
      "description": "",
      "description_tooltip": null,
      "layout": "IPY_MODEL_4ed39b27168045ceb9a86aebde245d83",
      "max": 456318,
      "min": 0,
      "orientation": "horizontal",
      "style": "IPY_MODEL_899c0699305d463bb7b97ef578d013ae",
      "value": 456318
     }
    },
    "2e8da6689884478892327391957b5eaa": {
     "model_module": "@jupyter-widgets/base",
     "model_module_version": "1.2.0",
     "model_name": "LayoutModel",
     "state": {
      "_model_module": "@jupyter-widgets/base",
      "_model_module_version": "1.2.0",
      "_model_name": "LayoutModel",
      "_view_count": null,
      "_view_module": "@jupyter-widgets/base",
      "_view_module_version": "1.2.0",
      "_view_name": "LayoutView",
      "align_content": null,
      "align_items": null,
      "align_self": null,
      "border": null,
      "bottom": null,
      "display": null,
      "flex": null,
      "flex_flow": null,
      "grid_area": null,
      "grid_auto_columns": null,
      "grid_auto_flow": null,
      "grid_auto_rows": null,
      "grid_column": null,
      "grid_gap": null,
      "grid_row": null,
      "grid_template_areas": null,
      "grid_template_columns": null,
      "grid_template_rows": null,
      "height": null,
      "justify_content": null,
      "justify_items": null,
      "left": null,
      "margin": null,
      "max_height": null,
      "max_width": null,
      "min_height": null,
      "min_width": null,
      "object_fit": null,
      "object_position": null,
      "order": null,
      "overflow": null,
      "overflow_x": null,
      "overflow_y": null,
      "padding": null,
      "right": null,
      "top": null,
      "visibility": null,
      "width": null
     }
    },
    "2ee81540500644f8ad9c7e08597eda4a": {
     "model_module": "@jupyter-widgets/controls",
     "model_module_version": "1.5.0",
     "model_name": "DescriptionStyleModel",
     "state": {
      "_model_module": "@jupyter-widgets/controls",
      "_model_module_version": "1.5.0",
      "_model_name": "DescriptionStyleModel",
      "_view_count": null,
      "_view_module": "@jupyter-widgets/base",
      "_view_module_version": "1.2.0",
      "_view_name": "StyleView",
      "description_width": ""
     }
    },
    "3061d31565dd42658c49e077ce1e8640": {
     "model_module": "@jupyter-widgets/base",
     "model_module_version": "1.2.0",
     "model_name": "LayoutModel",
     "state": {
      "_model_module": "@jupyter-widgets/base",
      "_model_module_version": "1.2.0",
      "_model_name": "LayoutModel",
      "_view_count": null,
      "_view_module": "@jupyter-widgets/base",
      "_view_module_version": "1.2.0",
      "_view_name": "LayoutView",
      "align_content": null,
      "align_items": null,
      "align_self": null,
      "border": null,
      "bottom": null,
      "display": null,
      "flex": null,
      "flex_flow": null,
      "grid_area": null,
      "grid_auto_columns": null,
      "grid_auto_flow": null,
      "grid_auto_rows": null,
      "grid_column": null,
      "grid_gap": null,
      "grid_row": null,
      "grid_template_areas": null,
      "grid_template_columns": null,
      "grid_template_rows": null,
      "height": null,
      "justify_content": null,
      "justify_items": null,
      "left": null,
      "margin": null,
      "max_height": null,
      "max_width": null,
      "min_height": null,
      "min_width": null,
      "object_fit": null,
      "object_position": null,
      "order": null,
      "overflow": null,
      "overflow_x": null,
      "overflow_y": null,
      "padding": null,
      "right": null,
      "top": null,
      "visibility": null,
      "width": null
     }
    },
    "3176f1a3afed4929b0136a0a6073de24": {
     "model_module": "@jupyter-widgets/base",
     "model_module_version": "1.2.0",
     "model_name": "LayoutModel",
     "state": {
      "_model_module": "@jupyter-widgets/base",
      "_model_module_version": "1.2.0",
      "_model_name": "LayoutModel",
      "_view_count": null,
      "_view_module": "@jupyter-widgets/base",
      "_view_module_version": "1.2.0",
      "_view_name": "LayoutView",
      "align_content": null,
      "align_items": null,
      "align_self": null,
      "border": null,
      "bottom": null,
      "display": null,
      "flex": null,
      "flex_flow": null,
      "grid_area": null,
      "grid_auto_columns": null,
      "grid_auto_flow": null,
      "grid_auto_rows": null,
      "grid_column": null,
      "grid_gap": null,
      "grid_row": null,
      "grid_template_areas": null,
      "grid_template_columns": null,
      "grid_template_rows": null,
      "height": null,
      "justify_content": null,
      "justify_items": null,
      "left": null,
      "margin": null,
      "max_height": null,
      "max_width": null,
      "min_height": null,
      "min_width": null,
      "object_fit": null,
      "object_position": null,
      "order": null,
      "overflow": null,
      "overflow_x": null,
      "overflow_y": null,
      "padding": null,
      "right": null,
      "top": null,
      "visibility": null,
      "width": null
     }
    },
    "3188dda7e08c435497bbec58093c7756": {
     "model_module": "@jupyter-widgets/controls",
     "model_module_version": "1.5.0",
     "model_name": "DescriptionStyleModel",
     "state": {
      "_model_module": "@jupyter-widgets/controls",
      "_model_module_version": "1.5.0",
      "_model_name": "DescriptionStyleModel",
      "_view_count": null,
      "_view_module": "@jupyter-widgets/base",
      "_view_module_version": "1.2.0",
      "_view_name": "StyleView",
      "description_width": ""
     }
    },
    "31b49b5c3c1b4d8789b5caf5235c4ed8": {
     "model_module": "@jupyter-widgets/base",
     "model_module_version": "1.2.0",
     "model_name": "LayoutModel",
     "state": {
      "_model_module": "@jupyter-widgets/base",
      "_model_module_version": "1.2.0",
      "_model_name": "LayoutModel",
      "_view_count": null,
      "_view_module": "@jupyter-widgets/base",
      "_view_module_version": "1.2.0",
      "_view_name": "LayoutView",
      "align_content": null,
      "align_items": null,
      "align_self": null,
      "border": null,
      "bottom": null,
      "display": null,
      "flex": null,
      "flex_flow": null,
      "grid_area": null,
      "grid_auto_columns": null,
      "grid_auto_flow": null,
      "grid_auto_rows": null,
      "grid_column": null,
      "grid_gap": null,
      "grid_row": null,
      "grid_template_areas": null,
      "grid_template_columns": null,
      "grid_template_rows": null,
      "height": null,
      "justify_content": null,
      "justify_items": null,
      "left": null,
      "margin": null,
      "max_height": null,
      "max_width": null,
      "min_height": null,
      "min_width": null,
      "object_fit": null,
      "object_position": null,
      "order": null,
      "overflow": null,
      "overflow_x": null,
      "overflow_y": null,
      "padding": null,
      "right": null,
      "top": null,
      "visibility": null,
      "width": null
     }
    },
    "32a3d90799e14debbb3d8bb78c365c81": {
     "model_module": "@jupyter-widgets/controls",
     "model_module_version": "1.5.0",
     "model_name": "HTMLModel",
     "state": {
      "_dom_classes": [],
      "_model_module": "@jupyter-widgets/controls",
      "_model_module_version": "1.5.0",
      "_model_name": "HTMLModel",
      "_view_count": null,
      "_view_module": "@jupyter-widgets/controls",
      "_view_module_version": "1.5.0",
      "_view_name": "HTMLView",
      "description": "",
      "description_tooltip": null,
      "layout": "IPY_MODEL_753da9a7c443457585c220c6957bce29",
      "placeholder": "​",
      "style": "IPY_MODEL_1191e060937045dcb84427d4a0874cb7",
      "value": " 227M/227M [00:00&lt;00:00, 241MB/s]"
     }
    },
    "333b3de54b054898aefcc5ddfc20f99a": {
     "model_module": "@jupyter-widgets/controls",
     "model_module_version": "1.5.0",
     "model_name": "FloatProgressModel",
     "state": {
      "_dom_classes": [],
      "_model_module": "@jupyter-widgets/controls",
      "_model_module_version": "1.5.0",
      "_model_name": "FloatProgressModel",
      "_view_count": null,
      "_view_module": "@jupyter-widgets/controls",
      "_view_module_version": "1.5.0",
      "_view_name": "ProgressView",
      "bar_style": "success",
      "description": "",
      "description_tooltip": null,
      "layout": "IPY_MODEL_0c7c2ca233fe4fe2bf792b29d02999de",
      "max": 1355256,
      "min": 0,
      "orientation": "horizontal",
      "style": "IPY_MODEL_e27c5a3c72ea4eee89b6989e5e681d68",
      "value": 1355256
     }
    },
    "33d0495a013d429ba129b1c3c73e26ab": {
     "model_module": "@jupyter-widgets/controls",
     "model_module_version": "1.5.0",
     "model_name": "HTMLModel",
     "state": {
      "_dom_classes": [],
      "_model_module": "@jupyter-widgets/controls",
      "_model_module_version": "1.5.0",
      "_model_name": "HTMLModel",
      "_view_count": null,
      "_view_module": "@jupyter-widgets/controls",
      "_view_module_version": "1.5.0",
      "_view_name": "HTMLView",
      "description": "",
      "description_tooltip": null,
      "layout": "IPY_MODEL_2595cd16350c435bb872abc4771f26ca",
      "placeholder": "​",
      "style": "IPY_MODEL_fa8b276cbe644299a94c9e035e3a08b6",
      "value": "merges.txt: 100%"
     }
    },
    "33ef0f6399824b488721578d4da2702f": {
     "model_module": "@jupyter-widgets/controls",
     "model_module_version": "1.5.0",
     "model_name": "HBoxModel",
     "state": {
      "_dom_classes": [],
      "_model_module": "@jupyter-widgets/controls",
      "_model_module_version": "1.5.0",
      "_model_name": "HBoxModel",
      "_view_count": null,
      "_view_module": "@jupyter-widgets/controls",
      "_view_module_version": "1.5.0",
      "_view_name": "HBoxView",
      "box_style": "",
      "children": [
       "IPY_MODEL_8438aa043ce44482b1e55cb40028a403",
       "IPY_MODEL_dc050a20b6894ebab02b85e072223b7a",
       "IPY_MODEL_6ef28e19e6354888918cb77527b8e5b9"
      ],
      "layout": "IPY_MODEL_802ea796e8184938ba925fb5932e4ee6"
     }
    },
    "3429a368ac9d47eaaff41d310e08b013": {
     "model_module": "@jupyter-widgets/base",
     "model_module_version": "1.2.0",
     "model_name": "LayoutModel",
     "state": {
      "_model_module": "@jupyter-widgets/base",
      "_model_module_version": "1.2.0",
      "_model_name": "LayoutModel",
      "_view_count": null,
      "_view_module": "@jupyter-widgets/base",
      "_view_module_version": "1.2.0",
      "_view_name": "LayoutView",
      "align_content": null,
      "align_items": null,
      "align_self": null,
      "border": null,
      "bottom": null,
      "display": null,
      "flex": null,
      "flex_flow": null,
      "grid_area": null,
      "grid_auto_columns": null,
      "grid_auto_flow": null,
      "grid_auto_rows": null,
      "grid_column": null,
      "grid_gap": null,
      "grid_row": null,
      "grid_template_areas": null,
      "grid_template_columns": null,
      "grid_template_rows": null,
      "height": null,
      "justify_content": null,
      "justify_items": null,
      "left": null,
      "margin": null,
      "max_height": null,
      "max_width": null,
      "min_height": null,
      "min_width": null,
      "object_fit": null,
      "object_position": null,
      "order": null,
      "overflow": null,
      "overflow_x": null,
      "overflow_y": null,
      "padding": null,
      "right": null,
      "top": null,
      "visibility": null,
      "width": null
     }
    },
    "34cb949f66ce4fd3b68c5f0617e2bcb3": {
     "model_module": "@jupyter-widgets/controls",
     "model_module_version": "1.5.0",
     "model_name": "HTMLModel",
     "state": {
      "_dom_classes": [],
      "_model_module": "@jupyter-widgets/controls",
      "_model_module_version": "1.5.0",
      "_model_name": "HTMLModel",
      "_view_count": null,
      "_view_module": "@jupyter-widgets/controls",
      "_view_module_version": "1.5.0",
      "_view_name": "HTMLView",
      "description": "",
      "description_tooltip": null,
      "layout": "IPY_MODEL_31b49b5c3c1b4d8789b5caf5235c4ed8",
      "placeholder": "​",
      "style": "IPY_MODEL_2b6694a9b28f450a8bb1bf4d4a4249db",
      "value": "merges.txt: 100%"
     }
    },
    "35992806be3a497d88c60c906b290a5b": {
     "model_module": "@jupyter-widgets/controls",
     "model_module_version": "1.5.0",
     "model_name": "HTMLModel",
     "state": {
      "_dom_classes": [],
      "_model_module": "@jupyter-widgets/controls",
      "_model_module_version": "1.5.0",
      "_model_name": "HTMLModel",
      "_view_count": null,
      "_view_module": "@jupyter-widgets/controls",
      "_view_module_version": "1.5.0",
      "_view_name": "HTMLView",
      "description": "",
      "description_tooltip": null,
      "layout": "IPY_MODEL_4eb5934145c248fab7220ee9356b4259",
      "placeholder": "​",
      "style": "IPY_MODEL_364da6fe2ab0475d9ce71ba4f77124f9",
      "value": "tokenizer_config.json: 100%"
     }
    },
    "363d66c74c414667a35e3a51aadaec9a": {
     "model_module": "@jupyter-widgets/controls",
     "model_module_version": "1.5.0",
     "model_name": "ProgressStyleModel",
     "state": {
      "_model_module": "@jupyter-widgets/controls",
      "_model_module_version": "1.5.0",
      "_model_name": "ProgressStyleModel",
      "_view_count": null,
      "_view_module": "@jupyter-widgets/base",
      "_view_module_version": "1.2.0",
      "_view_name": "StyleView",
      "bar_color": null,
      "description_width": ""
     }
    },
    "364da6fe2ab0475d9ce71ba4f77124f9": {
     "model_module": "@jupyter-widgets/controls",
     "model_module_version": "1.5.0",
     "model_name": "DescriptionStyleModel",
     "state": {
      "_model_module": "@jupyter-widgets/controls",
      "_model_module_version": "1.5.0",
      "_model_name": "DescriptionStyleModel",
      "_view_count": null,
      "_view_module": "@jupyter-widgets/base",
      "_view_module_version": "1.2.0",
      "_view_name": "StyleView",
      "description_width": ""
     }
    },
    "39af238f1e1b4328a8c304c52346f476": {
     "model_module": "@jupyter-widgets/controls",
     "model_module_version": "1.5.0",
     "model_name": "DescriptionStyleModel",
     "state": {
      "_model_module": "@jupyter-widgets/controls",
      "_model_module_version": "1.5.0",
      "_model_name": "DescriptionStyleModel",
      "_view_count": null,
      "_view_module": "@jupyter-widgets/base",
      "_view_module_version": "1.2.0",
      "_view_name": "StyleView",
      "description_width": ""
     }
    },
    "3aa8792b95cc48db88023a51e2b9b901": {
     "model_module": "@jupyter-widgets/controls",
     "model_module_version": "1.5.0",
     "model_name": "DescriptionStyleModel",
     "state": {
      "_model_module": "@jupyter-widgets/controls",
      "_model_module_version": "1.5.0",
      "_model_name": "DescriptionStyleModel",
      "_view_count": null,
      "_view_module": "@jupyter-widgets/base",
      "_view_module_version": "1.2.0",
      "_view_name": "StyleView",
      "description_width": ""
     }
    },
    "3b2cb3a9f9c04f0abebe9577b8a6c39b": {
     "model_module": "@jupyter-widgets/controls",
     "model_module_version": "1.5.0",
     "model_name": "HBoxModel",
     "state": {
      "_dom_classes": [],
      "_model_module": "@jupyter-widgets/controls",
      "_model_module_version": "1.5.0",
      "_model_name": "HBoxModel",
      "_view_count": null,
      "_view_module": "@jupyter-widgets/controls",
      "_view_module_version": "1.5.0",
      "_view_name": "HBoxView",
      "box_style": "",
      "children": [
       "IPY_MODEL_58f081bc1ff8429cb6cda32626fb1b7c",
       "IPY_MODEL_6c82c81916da46c2838edfcfd624f67a",
       "IPY_MODEL_e9dd6cef8f08472985413bfed92301cf"
      ],
      "layout": "IPY_MODEL_442efc30806044639e96827de4be83b0"
     }
    },
    "3df8d6de1d8045bc8d99c5e2cf260a32": {
     "model_module": "@jupyter-widgets/controls",
     "model_module_version": "1.5.0",
     "model_name": "HTMLModel",
     "state": {
      "_dom_classes": [],
      "_model_module": "@jupyter-widgets/controls",
      "_model_module_version": "1.5.0",
      "_model_name": "HTMLModel",
      "_view_count": null,
      "_view_module": "@jupyter-widgets/controls",
      "_view_module_version": "1.5.0",
      "_view_name": "HTMLView",
      "description": "",
      "description_tooltip": null,
      "layout": "IPY_MODEL_eead2479be4c424bb482e7b9d5421929",
      "placeholder": "​",
      "style": "IPY_MODEL_bbaf85d5694646b6829cd4511a291e9c",
      "value": "vocab.json: 100%"
     }
    },
    "3f8aa4b60406422898c2649c716556ae": {
     "model_module": "@jupyter-widgets/base",
     "model_module_version": "1.2.0",
     "model_name": "LayoutModel",
     "state": {
      "_model_module": "@jupyter-widgets/base",
      "_model_module_version": "1.2.0",
      "_model_name": "LayoutModel",
      "_view_count": null,
      "_view_module": "@jupyter-widgets/base",
      "_view_module_version": "1.2.0",
      "_view_name": "LayoutView",
      "align_content": null,
      "align_items": null,
      "align_self": null,
      "border": null,
      "bottom": null,
      "display": null,
      "flex": null,
      "flex_flow": null,
      "grid_area": null,
      "grid_auto_columns": null,
      "grid_auto_flow": null,
      "grid_auto_rows": null,
      "grid_column": null,
      "grid_gap": null,
      "grid_row": null,
      "grid_template_areas": null,
      "grid_template_columns": null,
      "grid_template_rows": null,
      "height": null,
      "justify_content": null,
      "justify_items": null,
      "left": null,
      "margin": null,
      "max_height": null,
      "max_width": null,
      "min_height": null,
      "min_width": null,
      "object_fit": null,
      "object_position": null,
      "order": null,
      "overflow": null,
      "overflow_x": null,
      "overflow_y": null,
      "padding": null,
      "right": null,
      "top": null,
      "visibility": null,
      "width": null
     }
    },
    "403c1346cd44436bb48bd96d2a28b2b5": {
     "model_module": "@jupyter-widgets/controls",
     "model_module_version": "1.5.0",
     "model_name": "DescriptionStyleModel",
     "state": {
      "_model_module": "@jupyter-widgets/controls",
      "_model_module_version": "1.5.0",
      "_model_name": "DescriptionStyleModel",
      "_view_count": null,
      "_view_module": "@jupyter-widgets/base",
      "_view_module_version": "1.2.0",
      "_view_name": "StyleView",
      "description_width": ""
     }
    },
    "407ee8c67f7942f9a6a14cf3b111ee62": {
     "model_module": "@jupyter-widgets/base",
     "model_module_version": "1.2.0",
     "model_name": "LayoutModel",
     "state": {
      "_model_module": "@jupyter-widgets/base",
      "_model_module_version": "1.2.0",
      "_model_name": "LayoutModel",
      "_view_count": null,
      "_view_module": "@jupyter-widgets/base",
      "_view_module_version": "1.2.0",
      "_view_name": "LayoutView",
      "align_content": null,
      "align_items": null,
      "align_self": null,
      "border": null,
      "bottom": null,
      "display": null,
      "flex": null,
      "flex_flow": null,
      "grid_area": null,
      "grid_auto_columns": null,
      "grid_auto_flow": null,
      "grid_auto_rows": null,
      "grid_column": null,
      "grid_gap": null,
      "grid_row": null,
      "grid_template_areas": null,
      "grid_template_columns": null,
      "grid_template_rows": null,
      "height": null,
      "justify_content": null,
      "justify_items": null,
      "left": null,
      "margin": null,
      "max_height": null,
      "max_width": null,
      "min_height": null,
      "min_width": null,
      "object_fit": null,
      "object_position": null,
      "order": null,
      "overflow": null,
      "overflow_x": null,
      "overflow_y": null,
      "padding": null,
      "right": null,
      "top": null,
      "visibility": null,
      "width": null
     }
    },
    "414831b7cbc74e298269e4d79262995c": {
     "model_module": "@jupyter-widgets/base",
     "model_module_version": "1.2.0",
     "model_name": "LayoutModel",
     "state": {
      "_model_module": "@jupyter-widgets/base",
      "_model_module_version": "1.2.0",
      "_model_name": "LayoutModel",
      "_view_count": null,
      "_view_module": "@jupyter-widgets/base",
      "_view_module_version": "1.2.0",
      "_view_name": "LayoutView",
      "align_content": null,
      "align_items": null,
      "align_self": null,
      "border": null,
      "bottom": null,
      "display": null,
      "flex": null,
      "flex_flow": null,
      "grid_area": null,
      "grid_auto_columns": null,
      "grid_auto_flow": null,
      "grid_auto_rows": null,
      "grid_column": null,
      "grid_gap": null,
      "grid_row": null,
      "grid_template_areas": null,
      "grid_template_columns": null,
      "grid_template_rows": null,
      "height": null,
      "justify_content": null,
      "justify_items": null,
      "left": null,
      "margin": null,
      "max_height": null,
      "max_width": null,
      "min_height": null,
      "min_width": null,
      "object_fit": null,
      "object_position": null,
      "order": null,
      "overflow": null,
      "overflow_x": null,
      "overflow_y": null,
      "padding": null,
      "right": null,
      "top": null,
      "visibility": null,
      "width": null
     }
    },
    "417ce35496c1433ebe995bc852369904": {
     "model_module": "@jupyter-widgets/base",
     "model_module_version": "1.2.0",
     "model_name": "LayoutModel",
     "state": {
      "_model_module": "@jupyter-widgets/base",
      "_model_module_version": "1.2.0",
      "_model_name": "LayoutModel",
      "_view_count": null,
      "_view_module": "@jupyter-widgets/base",
      "_view_module_version": "1.2.0",
      "_view_name": "LayoutView",
      "align_content": null,
      "align_items": null,
      "align_self": null,
      "border": null,
      "bottom": null,
      "display": null,
      "flex": null,
      "flex_flow": null,
      "grid_area": null,
      "grid_auto_columns": null,
      "grid_auto_flow": null,
      "grid_auto_rows": null,
      "grid_column": null,
      "grid_gap": null,
      "grid_row": null,
      "grid_template_areas": null,
      "grid_template_columns": null,
      "grid_template_rows": null,
      "height": null,
      "justify_content": null,
      "justify_items": null,
      "left": null,
      "margin": null,
      "max_height": null,
      "max_width": null,
      "min_height": null,
      "min_width": null,
      "object_fit": null,
      "object_position": null,
      "order": null,
      "overflow": null,
      "overflow_x": null,
      "overflow_y": null,
      "padding": null,
      "right": null,
      "top": null,
      "visibility": null,
      "width": null
     }
    },
    "4192a4aef69d4792ab654ce1203999a5": {
     "model_module": "@jupyter-widgets/controls",
     "model_module_version": "1.5.0",
     "model_name": "DescriptionStyleModel",
     "state": {
      "_model_module": "@jupyter-widgets/controls",
      "_model_module_version": "1.5.0",
      "_model_name": "DescriptionStyleModel",
      "_view_count": null,
      "_view_module": "@jupyter-widgets/base",
      "_view_module_version": "1.2.0",
      "_view_name": "StyleView",
      "description_width": ""
     }
    },
    "4292a2b187394f4ab8e0ea3ebe7744b5": {
     "model_module": "@jupyter-widgets/base",
     "model_module_version": "1.2.0",
     "model_name": "LayoutModel",
     "state": {
      "_model_module": "@jupyter-widgets/base",
      "_model_module_version": "1.2.0",
      "_model_name": "LayoutModel",
      "_view_count": null,
      "_view_module": "@jupyter-widgets/base",
      "_view_module_version": "1.2.0",
      "_view_name": "LayoutView",
      "align_content": null,
      "align_items": null,
      "align_self": null,
      "border": null,
      "bottom": null,
      "display": null,
      "flex": null,
      "flex_flow": null,
      "grid_area": null,
      "grid_auto_columns": null,
      "grid_auto_flow": null,
      "grid_auto_rows": null,
      "grid_column": null,
      "grid_gap": null,
      "grid_row": null,
      "grid_template_areas": null,
      "grid_template_columns": null,
      "grid_template_rows": null,
      "height": null,
      "justify_content": null,
      "justify_items": null,
      "left": null,
      "margin": null,
      "max_height": null,
      "max_width": null,
      "min_height": null,
      "min_width": null,
      "object_fit": null,
      "object_position": null,
      "order": null,
      "overflow": null,
      "overflow_x": null,
      "overflow_y": null,
      "padding": null,
      "right": null,
      "top": null,
      "visibility": null,
      "width": null
     }
    },
    "43949a6403424d95bb4df7f1ed0f4955": {
     "model_module": "@jupyter-widgets/controls",
     "model_module_version": "1.5.0",
     "model_name": "HTMLModel",
     "state": {
      "_dom_classes": [],
      "_model_module": "@jupyter-widgets/controls",
      "_model_module_version": "1.5.0",
      "_model_name": "HTMLModel",
      "_view_count": null,
      "_view_module": "@jupyter-widgets/controls",
      "_view_module_version": "1.5.0",
      "_view_name": "HTMLView",
      "description": "",
      "description_tooltip": null,
      "layout": "IPY_MODEL_f0e5f3a1fc744538af7ead9172d771e8",
      "placeholder": "​",
      "style": "IPY_MODEL_abaa35fff2f24da59d13cb293e70d7dd",
      "value": " 227M/227M [00:01&lt;00:00, 204MB/s]"
     }
    },
    "442efc30806044639e96827de4be83b0": {
     "model_module": "@jupyter-widgets/base",
     "model_module_version": "1.2.0",
     "model_name": "LayoutModel",
     "state": {
      "_model_module": "@jupyter-widgets/base",
      "_model_module_version": "1.2.0",
      "_model_name": "LayoutModel",
      "_view_count": null,
      "_view_module": "@jupyter-widgets/base",
      "_view_module_version": "1.2.0",
      "_view_name": "LayoutView",
      "align_content": null,
      "align_items": null,
      "align_self": null,
      "border": null,
      "bottom": null,
      "display": null,
      "flex": null,
      "flex_flow": null,
      "grid_area": null,
      "grid_auto_columns": null,
      "grid_auto_flow": null,
      "grid_auto_rows": null,
      "grid_column": null,
      "grid_gap": null,
      "grid_row": null,
      "grid_template_areas": null,
      "grid_template_columns": null,
      "grid_template_rows": null,
      "height": null,
      "justify_content": null,
      "justify_items": null,
      "left": null,
      "margin": null,
      "max_height": null,
      "max_width": null,
      "min_height": null,
      "min_width": null,
      "object_fit": null,
      "object_position": null,
      "order": null,
      "overflow": null,
      "overflow_x": null,
      "overflow_y": null,
      "padding": null,
      "right": null,
      "top": null,
      "visibility": null,
      "width": null
     }
    },
    "4453a276840342b08a628a67f39fb7b9": {
     "model_module": "@jupyter-widgets/controls",
     "model_module_version": "1.5.0",
     "model_name": "HTMLModel",
     "state": {
      "_dom_classes": [],
      "_model_module": "@jupyter-widgets/controls",
      "_model_module_version": "1.5.0",
      "_model_name": "HTMLModel",
      "_view_count": null,
      "_view_module": "@jupyter-widgets/controls",
      "_view_module_version": "1.5.0",
      "_view_name": "HTMLView",
      "description": "",
      "description_tooltip": null,
      "layout": "IPY_MODEL_c61ab09b21564a9e9abbbe98e20c4880",
      "placeholder": "​",
      "style": "IPY_MODEL_e6debf08b9e545a18acc2b53ce7dc9b5",
      "value": " 26.0/26.0 [00:00&lt;00:00, 1.92kB/s]"
     }
    },
    "47c890e3a1a940ebb194ed85f0129c96": {
     "model_module": "@jupyter-widgets/base",
     "model_module_version": "1.2.0",
     "model_name": "LayoutModel",
     "state": {
      "_model_module": "@jupyter-widgets/base",
      "_model_module_version": "1.2.0",
      "_model_name": "LayoutModel",
      "_view_count": null,
      "_view_module": "@jupyter-widgets/base",
      "_view_module_version": "1.2.0",
      "_view_name": "LayoutView",
      "align_content": null,
      "align_items": null,
      "align_self": null,
      "border": null,
      "bottom": null,
      "display": null,
      "flex": null,
      "flex_flow": null,
      "grid_area": null,
      "grid_auto_columns": null,
      "grid_auto_flow": null,
      "grid_auto_rows": null,
      "grid_column": null,
      "grid_gap": null,
      "grid_row": null,
      "grid_template_areas": null,
      "grid_template_columns": null,
      "grid_template_rows": null,
      "height": null,
      "justify_content": null,
      "justify_items": null,
      "left": null,
      "margin": null,
      "max_height": null,
      "max_width": null,
      "min_height": null,
      "min_width": null,
      "object_fit": null,
      "object_position": null,
      "order": null,
      "overflow": null,
      "overflow_x": null,
      "overflow_y": null,
      "padding": null,
      "right": null,
      "top": null,
      "visibility": null,
      "width": null
     }
    },
    "47ed7791da3e46f1ac9f2ce65c7fc868": {
     "model_module": "@jupyter-widgets/controls",
     "model_module_version": "1.5.0",
     "model_name": "HBoxModel",
     "state": {
      "_dom_classes": [],
      "_model_module": "@jupyter-widgets/controls",
      "_model_module_version": "1.5.0",
      "_model_name": "HBoxModel",
      "_view_count": null,
      "_view_module": "@jupyter-widgets/controls",
      "_view_module_version": "1.5.0",
      "_view_name": "HBoxView",
      "box_style": "",
      "children": [
       "IPY_MODEL_d17378f8677246b6933e4d65a2d14a0c",
       "IPY_MODEL_1270ccc349c8406aa14e7d49e05dff63",
       "IPY_MODEL_4c032ec192bf444680f6efdcbca2ff32"
      ],
      "layout": "IPY_MODEL_9394983504414f0e9c6ef61a50670192"
     }
    },
    "4871548169d240299876a4def59e27db": {
     "model_module": "@jupyter-widgets/controls",
     "model_module_version": "1.5.0",
     "model_name": "DescriptionStyleModel",
     "state": {
      "_model_module": "@jupyter-widgets/controls",
      "_model_module_version": "1.5.0",
      "_model_name": "DescriptionStyleModel",
      "_view_count": null,
      "_view_module": "@jupyter-widgets/base",
      "_view_module_version": "1.2.0",
      "_view_name": "StyleView",
      "description_width": ""
     }
    },
    "49133803ec6143948d7b47014147b46d": {
     "model_module": "@jupyter-widgets/controls",
     "model_module_version": "1.5.0",
     "model_name": "DescriptionStyleModel",
     "state": {
      "_model_module": "@jupyter-widgets/controls",
      "_model_module_version": "1.5.0",
      "_model_name": "DescriptionStyleModel",
      "_view_count": null,
      "_view_module": "@jupyter-widgets/base",
      "_view_module_version": "1.2.0",
      "_view_name": "StyleView",
      "description_width": ""
     }
    },
    "4a3bbb75450e4cdbbcaaa3f035c36674": {
     "model_module": "@jupyter-widgets/controls",
     "model_module_version": "1.5.0",
     "model_name": "HBoxModel",
     "state": {
      "_dom_classes": [],
      "_model_module": "@jupyter-widgets/controls",
      "_model_module_version": "1.5.0",
      "_model_name": "HBoxModel",
      "_view_count": null,
      "_view_module": "@jupyter-widgets/controls",
      "_view_module_version": "1.5.0",
      "_view_name": "HBoxView",
      "box_style": "",
      "children": [
       "IPY_MODEL_954606da339d4c488210f952214d1a5f",
       "IPY_MODEL_ff045e99c2cf471b8e5c05f63eda6b44",
       "IPY_MODEL_80add429caec40c18c441038917e8927"
      ],
      "layout": "IPY_MODEL_abcb120444fa4ed6a783fb3bfa11994b"
     }
    },
    "4a993c3694824f2bb0bb03a92038af6d": {
     "model_module": "@jupyter-widgets/controls",
     "model_module_version": "1.5.0",
     "model_name": "ProgressStyleModel",
     "state": {
      "_model_module": "@jupyter-widgets/controls",
      "_model_module_version": "1.5.0",
      "_model_name": "ProgressStyleModel",
      "_view_count": null,
      "_view_module": "@jupyter-widgets/base",
      "_view_module_version": "1.2.0",
      "_view_name": "StyleView",
      "bar_color": null,
      "description_width": ""
     }
    },
    "4ab82f287c5e479fbf825b5ff651ad97": {
     "model_module": "@jupyter-widgets/controls",
     "model_module_version": "1.5.0",
     "model_name": "FloatProgressModel",
     "state": {
      "_dom_classes": [],
      "_model_module": "@jupyter-widgets/controls",
      "_model_module_version": "1.5.0",
      "_model_name": "FloatProgressModel",
      "_view_count": null,
      "_view_module": "@jupyter-widgets/controls",
      "_view_module_version": "1.5.0",
      "_view_name": "ProgressView",
      "bar_style": "success",
      "description": "",
      "description_tooltip": null,
      "layout": "IPY_MODEL_f3bdb76ef85e474abef6679bdebdc81b",
      "max": 12,
      "min": 0,
      "orientation": "horizontal",
      "style": "IPY_MODEL_518c7ece07274a5ba594cdb9c18b8593",
      "value": 12
     }
    },
    "4b0692d527fd42db92e99eb11ae09c9d": {
     "model_module": "@jupyter-widgets/controls",
     "model_module_version": "1.5.0",
     "model_name": "HTMLModel",
     "state": {
      "_dom_classes": [],
      "_model_module": "@jupyter-widgets/controls",
      "_model_module_version": "1.5.0",
      "_model_name": "HTMLModel",
      "_view_count": null,
      "_view_module": "@jupyter-widgets/controls",
      "_view_module_version": "1.5.0",
      "_view_name": "HTMLView",
      "description": "",
      "description_tooltip": null,
      "layout": "IPY_MODEL_a5086174551a4c49b7fbedbf88925a3a",
      "placeholder": "​",
      "style": "IPY_MODEL_d517c4b53f1a42558fafa37c75a8da3f",
      "value": " 762/762 [00:00&lt;00:00, 60.4kB/s]"
     }
    },
    "4c032ec192bf444680f6efdcbca2ff32": {
     "model_module": "@jupyter-widgets/controls",
     "model_module_version": "1.5.0",
     "model_name": "HTMLModel",
     "state": {
      "_dom_classes": [],
      "_model_module": "@jupyter-widgets/controls",
      "_model_module_version": "1.5.0",
      "_model_name": "HTMLModel",
      "_view_count": null,
      "_view_module": "@jupyter-widgets/controls",
      "_view_module_version": "1.5.0",
      "_view_name": "HTMLView",
      "description": "",
      "description_tooltip": null,
      "layout": "IPY_MODEL_417ce35496c1433ebe995bc852369904",
      "placeholder": "​",
      "style": "IPY_MODEL_d666cdf3e2c64cff9cafb5507e622b02",
      "value": " 2.04M/2.04M [00:00&lt;00:00, 8.34MB/s]"
     }
    },
    "4d6cd7cf696b47c39814c553ce63a2a3": {
     "model_module": "@jupyter-widgets/controls",
     "model_module_version": "1.5.0",
     "model_name": "FloatProgressModel",
     "state": {
      "_dom_classes": [],
      "_model_module": "@jupyter-widgets/controls",
      "_model_module_version": "1.5.0",
      "_model_name": "FloatProgressModel",
      "_view_count": null,
      "_view_module": "@jupyter-widgets/controls",
      "_view_module_version": "1.5.0",
      "_view_name": "ProgressView",
      "bar_style": "success",
      "description": "",
      "description_tooltip": null,
      "layout": "IPY_MODEL_4292a2b187394f4ab8e0ea3ebe7744b5",
      "max": 1355256,
      "min": 0,
      "orientation": "horizontal",
      "style": "IPY_MODEL_363d66c74c414667a35e3a51aadaec9a",
      "value": 1355256
     }
    },
    "4dd76e6b5c1743d688795f43be6f9040": {
     "model_module": "@jupyter-widgets/controls",
     "model_module_version": "1.5.0",
     "model_name": "HTMLModel",
     "state": {
      "_dom_classes": [],
      "_model_module": "@jupyter-widgets/controls",
      "_model_module_version": "1.5.0",
      "_model_name": "HTMLModel",
      "_view_count": null,
      "_view_module": "@jupyter-widgets/controls",
      "_view_module_version": "1.5.0",
      "_view_name": "HTMLView",
      "description": "",
      "description_tooltip": null,
      "layout": "IPY_MODEL_daa3579d52f54fa1af09016de78e460b",
      "placeholder": "​",
      "style": "IPY_MODEL_e5ebe49146ad4cba8818867b0bb12668",
      "value": "tokens_001628438528.pth: 100%"
     }
    },
    "4e99b823293f4fe2849a3149d717d1b1": {
     "model_module": "@jupyter-widgets/base",
     "model_module_version": "1.2.0",
     "model_name": "LayoutModel",
     "state": {
      "_model_module": "@jupyter-widgets/base",
      "_model_module_version": "1.2.0",
      "_model_name": "LayoutModel",
      "_view_count": null,
      "_view_module": "@jupyter-widgets/base",
      "_view_module_version": "1.2.0",
      "_view_name": "LayoutView",
      "align_content": null,
      "align_items": null,
      "align_self": null,
      "border": null,
      "bottom": null,
      "display": null,
      "flex": null,
      "flex_flow": null,
      "grid_area": null,
      "grid_auto_columns": null,
      "grid_auto_flow": null,
      "grid_auto_rows": null,
      "grid_column": null,
      "grid_gap": null,
      "grid_row": null,
      "grid_template_areas": null,
      "grid_template_columns": null,
      "grid_template_rows": null,
      "height": null,
      "justify_content": null,
      "justify_items": null,
      "left": null,
      "margin": null,
      "max_height": null,
      "max_width": null,
      "min_height": null,
      "min_width": null,
      "object_fit": null,
      "object_position": null,
      "order": null,
      "overflow": null,
      "overflow_x": null,
      "overflow_y": null,
      "padding": null,
      "right": null,
      "top": null,
      "visibility": null,
      "width": null
     }
    },
    "4eb5934145c248fab7220ee9356b4259": {
     "model_module": "@jupyter-widgets/base",
     "model_module_version": "1.2.0",
     "model_name": "LayoutModel",
     "state": {
      "_model_module": "@jupyter-widgets/base",
      "_model_module_version": "1.2.0",
      "_model_name": "LayoutModel",
      "_view_count": null,
      "_view_module": "@jupyter-widgets/base",
      "_view_module_version": "1.2.0",
      "_view_name": "LayoutView",
      "align_content": null,
      "align_items": null,
      "align_self": null,
      "border": null,
      "bottom": null,
      "display": null,
      "flex": null,
      "flex_flow": null,
      "grid_area": null,
      "grid_auto_columns": null,
      "grid_auto_flow": null,
      "grid_auto_rows": null,
      "grid_column": null,
      "grid_gap": null,
      "grid_row": null,
      "grid_template_areas": null,
      "grid_template_columns": null,
      "grid_template_rows": null,
      "height": null,
      "justify_content": null,
      "justify_items": null,
      "left": null,
      "margin": null,
      "max_height": null,
      "max_width": null,
      "min_height": null,
      "min_width": null,
      "object_fit": null,
      "object_position": null,
      "order": null,
      "overflow": null,
      "overflow_x": null,
      "overflow_y": null,
      "padding": null,
      "right": null,
      "top": null,
      "visibility": null,
      "width": null
     }
    },
    "4ed39b27168045ceb9a86aebde245d83": {
     "model_module": "@jupyter-widgets/base",
     "model_module_version": "1.2.0",
     "model_name": "LayoutModel",
     "state": {
      "_model_module": "@jupyter-widgets/base",
      "_model_module_version": "1.2.0",
      "_model_name": "LayoutModel",
      "_view_count": null,
      "_view_module": "@jupyter-widgets/base",
      "_view_module_version": "1.2.0",
      "_view_name": "LayoutView",
      "align_content": null,
      "align_items": null,
      "align_self": null,
      "border": null,
      "bottom": null,
      "display": null,
      "flex": null,
      "flex_flow": null,
      "grid_area": null,
      "grid_auto_columns": null,
      "grid_auto_flow": null,
      "grid_auto_rows": null,
      "grid_column": null,
      "grid_gap": null,
      "grid_row": null,
      "grid_template_areas": null,
      "grid_template_columns": null,
      "grid_template_rows": null,
      "height": null,
      "justify_content": null,
      "justify_items": null,
      "left": null,
      "margin": null,
      "max_height": null,
      "max_width": null,
      "min_height": null,
      "min_width": null,
      "object_fit": null,
      "object_position": null,
      "order": null,
      "overflow": null,
      "overflow_x": null,
      "overflow_y": null,
      "padding": null,
      "right": null,
      "top": null,
      "visibility": null,
      "width": null
     }
    },
    "4ef91d40d6fa4deda81df29fd32ba1d7": {
     "model_module": "@jupyter-widgets/controls",
     "model_module_version": "1.5.0",
     "model_name": "ProgressStyleModel",
     "state": {
      "_model_module": "@jupyter-widgets/controls",
      "_model_module_version": "1.5.0",
      "_model_name": "ProgressStyleModel",
      "_view_count": null,
      "_view_module": "@jupyter-widgets/base",
      "_view_module_version": "1.2.0",
      "_view_name": "StyleView",
      "bar_color": null,
      "description_width": ""
     }
    },
    "4fb623917db5420d901f9e746aa90694": {
     "model_module": "@jupyter-widgets/controls",
     "model_module_version": "1.5.0",
     "model_name": "DescriptionStyleModel",
     "state": {
      "_model_module": "@jupyter-widgets/controls",
      "_model_module_version": "1.5.0",
      "_model_name": "DescriptionStyleModel",
      "_view_count": null,
      "_view_module": "@jupyter-widgets/base",
      "_view_module_version": "1.2.0",
      "_view_name": "StyleView",
      "description_width": ""
     }
    },
    "509dd97d40e2443e9e9aa82a764f782b": {
     "model_module": "@jupyter-widgets/controls",
     "model_module_version": "1.5.0",
     "model_name": "DescriptionStyleModel",
     "state": {
      "_model_module": "@jupyter-widgets/controls",
      "_model_module_version": "1.5.0",
      "_model_name": "DescriptionStyleModel",
      "_view_count": null,
      "_view_module": "@jupyter-widgets/base",
      "_view_module_version": "1.2.0",
      "_view_name": "StyleView",
      "description_width": ""
     }
    },
    "5183826259a04eb18db0df9add9c9c57": {
     "model_module": "@jupyter-widgets/controls",
     "model_module_version": "1.5.0",
     "model_name": "HBoxModel",
     "state": {
      "_dom_classes": [],
      "_model_module": "@jupyter-widgets/controls",
      "_model_module_version": "1.5.0",
      "_model_name": "HBoxModel",
      "_view_count": null,
      "_view_module": "@jupyter-widgets/controls",
      "_view_module_version": "1.5.0",
      "_view_name": "HBoxView",
      "box_style": "",
      "children": [
       "IPY_MODEL_34cb949f66ce4fd3b68c5f0617e2bcb3",
       "IPY_MODEL_2d7e2ea3f0b54ed6b2f0e759afe276b8",
       "IPY_MODEL_5de81f4ef7c94dc4bff7ef30045cca94"
      ],
      "layout": "IPY_MODEL_7a55b0659d1a4214a5f071c476cf3b97"
     }
    },
    "518c7ece07274a5ba594cdb9c18b8593": {
     "model_module": "@jupyter-widgets/controls",
     "model_module_version": "1.5.0",
     "model_name": "ProgressStyleModel",
     "state": {
      "_model_module": "@jupyter-widgets/controls",
      "_model_module_version": "1.5.0",
      "_model_name": "ProgressStyleModel",
      "_view_count": null,
      "_view_module": "@jupyter-widgets/base",
      "_view_module_version": "1.2.0",
      "_view_name": "StyleView",
      "bar_color": null,
      "description_width": ""
     }
    },
    "5294a29a17d34dfba5e4835922834434": {
     "model_module": "@jupyter-widgets/controls",
     "model_module_version": "1.5.0",
     "model_name": "HTMLModel",
     "state": {
      "_dom_classes": [],
      "_model_module": "@jupyter-widgets/controls",
      "_model_module_version": "1.5.0",
      "_model_name": "HTMLModel",
      "_view_count": null,
      "_view_module": "@jupyter-widgets/controls",
      "_view_module_version": "1.5.0",
      "_view_name": "HTMLView",
      "description": "",
      "description_tooltip": null,
      "layout": "IPY_MODEL_407ee8c67f7942f9a6a14cf3b111ee62",
      "placeholder": "​",
      "style": "IPY_MODEL_1d6f7e883961475a8bbf26b9396f87aa",
      "value": "tokens_000528482304.pth: 100%"
     }
    },
    "5392eaf04ceb43d783d53808e941e7ce": {
     "model_module": "@jupyter-widgets/base",
     "model_module_version": "1.2.0",
     "model_name": "LayoutModel",
     "state": {
      "_model_module": "@jupyter-widgets/base",
      "_model_module_version": "1.2.0",
      "_model_name": "LayoutModel",
      "_view_count": null,
      "_view_module": "@jupyter-widgets/base",
      "_view_module_version": "1.2.0",
      "_view_name": "LayoutView",
      "align_content": null,
      "align_items": null,
      "align_self": null,
      "border": null,
      "bottom": null,
      "display": null,
      "flex": null,
      "flex_flow": null,
      "grid_area": null,
      "grid_auto_columns": null,
      "grid_auto_flow": null,
      "grid_auto_rows": null,
      "grid_column": null,
      "grid_gap": null,
      "grid_row": null,
      "grid_template_areas": null,
      "grid_template_columns": null,
      "grid_template_rows": null,
      "height": null,
      "justify_content": null,
      "justify_items": null,
      "left": null,
      "margin": null,
      "max_height": null,
      "max_width": null,
      "min_height": null,
      "min_width": null,
      "object_fit": null,
      "object_position": null,
      "order": null,
      "overflow": null,
      "overflow_x": null,
      "overflow_y": null,
      "padding": null,
      "right": null,
      "top": null,
      "visibility": null,
      "width": null
     }
    },
    "53a28a0a6c88415facd754f90309889a": {
     "model_module": "@jupyter-widgets/base",
     "model_module_version": "1.2.0",
     "model_name": "LayoutModel",
     "state": {
      "_model_module": "@jupyter-widgets/base",
      "_model_module_version": "1.2.0",
      "_model_name": "LayoutModel",
      "_view_count": null,
      "_view_module": "@jupyter-widgets/base",
      "_view_module_version": "1.2.0",
      "_view_name": "LayoutView",
      "align_content": null,
      "align_items": null,
      "align_self": null,
      "border": null,
      "bottom": null,
      "display": null,
      "flex": null,
      "flex_flow": null,
      "grid_area": null,
      "grid_auto_columns": null,
      "grid_auto_flow": null,
      "grid_auto_rows": null,
      "grid_column": null,
      "grid_gap": null,
      "grid_row": null,
      "grid_template_areas": null,
      "grid_template_columns": null,
      "grid_template_rows": null,
      "height": null,
      "justify_content": null,
      "justify_items": null,
      "left": null,
      "margin": null,
      "max_height": null,
      "max_width": null,
      "min_height": null,
      "min_width": null,
      "object_fit": null,
      "object_position": null,
      "order": null,
      "overflow": null,
      "overflow_x": null,
      "overflow_y": null,
      "padding": null,
      "right": null,
      "top": null,
      "visibility": null,
      "width": null
     }
    },
    "5626d73a634949dc8e038549663fc563": {
     "model_module": "@jupyter-widgets/base",
     "model_module_version": "1.2.0",
     "model_name": "LayoutModel",
     "state": {
      "_model_module": "@jupyter-widgets/base",
      "_model_module_version": "1.2.0",
      "_model_name": "LayoutModel",
      "_view_count": null,
      "_view_module": "@jupyter-widgets/base",
      "_view_module_version": "1.2.0",
      "_view_name": "LayoutView",
      "align_content": null,
      "align_items": null,
      "align_self": null,
      "border": null,
      "bottom": null,
      "display": null,
      "flex": null,
      "flex_flow": null,
      "grid_area": null,
      "grid_auto_columns": null,
      "grid_auto_flow": null,
      "grid_auto_rows": null,
      "grid_column": null,
      "grid_gap": null,
      "grid_row": null,
      "grid_template_areas": null,
      "grid_template_columns": null,
      "grid_template_rows": null,
      "height": null,
      "justify_content": null,
      "justify_items": null,
      "left": null,
      "margin": null,
      "max_height": null,
      "max_width": null,
      "min_height": null,
      "min_width": null,
      "object_fit": null,
      "object_position": null,
      "order": null,
      "overflow": null,
      "overflow_x": null,
      "overflow_y": null,
      "padding": null,
      "right": null,
      "top": null,
      "visibility": null,
      "width": null
     }
    },
    "5779fe09f4914c61bc439f8b47f6430b": {
     "model_module": "@jupyter-widgets/controls",
     "model_module_version": "1.5.0",
     "model_name": "HTMLModel",
     "state": {
      "_dom_classes": [],
      "_model_module": "@jupyter-widgets/controls",
      "_model_module_version": "1.5.0",
      "_model_name": "HTMLModel",
      "_view_count": null,
      "_view_module": "@jupyter-widgets/controls",
      "_view_module_version": "1.5.0",
      "_view_name": "HTMLView",
      "description": "",
      "description_tooltip": null,
      "layout": "IPY_MODEL_25cd5fda67ed44f69ce2cc4d844f08f4",
      "placeholder": "​",
      "style": "IPY_MODEL_de47abaf177f4699a5668c0d3e551aa8",
      "value": "config.json: 100%"
     }
    },
    "5846596e7ede435cb01dac2ff244714e": {
     "model_module": "@jupyter-widgets/controls",
     "model_module_version": "1.5.0",
     "model_name": "ProgressStyleModel",
     "state": {
      "_model_module": "@jupyter-widgets/controls",
      "_model_module_version": "1.5.0",
      "_model_name": "ProgressStyleModel",
      "_view_count": null,
      "_view_module": "@jupyter-widgets/base",
      "_view_module_version": "1.2.0",
      "_view_name": "StyleView",
      "bar_color": null,
      "description_width": ""
     }
    },
    "58f081bc1ff8429cb6cda32626fb1b7c": {
     "model_module": "@jupyter-widgets/controls",
     "model_module_version": "1.5.0",
     "model_name": "HTMLModel",
     "state": {
      "_dom_classes": [],
      "_model_module": "@jupyter-widgets/controls",
      "_model_module_version": "1.5.0",
      "_model_name": "HTMLModel",
      "_view_count": null,
      "_view_module": "@jupyter-widgets/controls",
      "_view_module_version": "1.5.0",
      "_view_name": "HTMLView",
      "description": "",
      "description_tooltip": null,
      "layout": "IPY_MODEL_1144a1a7c0af4269879f75d6d3458b70",
      "placeholder": "​",
      "style": "IPY_MODEL_2ee81540500644f8ad9c7e08597eda4a",
      "value": "vocab.json: 100%"
     }
    },
    "5b2a74f4428f47dd9488ad0f08047ade": {
     "model_module": "@jupyter-widgets/base",
     "model_module_version": "1.2.0",
     "model_name": "LayoutModel",
     "state": {
      "_model_module": "@jupyter-widgets/base",
      "_model_module_version": "1.2.0",
      "_model_name": "LayoutModel",
      "_view_count": null,
      "_view_module": "@jupyter-widgets/base",
      "_view_module_version": "1.2.0",
      "_view_name": "LayoutView",
      "align_content": null,
      "align_items": null,
      "align_self": null,
      "border": null,
      "bottom": null,
      "display": null,
      "flex": null,
      "flex_flow": null,
      "grid_area": null,
      "grid_auto_columns": null,
      "grid_auto_flow": null,
      "grid_auto_rows": null,
      "grid_column": null,
      "grid_gap": null,
      "grid_row": null,
      "grid_template_areas": null,
      "grid_template_columns": null,
      "grid_template_rows": null,
      "height": null,
      "justify_content": null,
      "justify_items": null,
      "left": null,
      "margin": null,
      "max_height": null,
      "max_width": null,
      "min_height": null,
      "min_width": null,
      "object_fit": null,
      "object_position": null,
      "order": null,
      "overflow": null,
      "overflow_x": null,
      "overflow_y": null,
      "padding": null,
      "right": null,
      "top": null,
      "visibility": null,
      "width": null
     }
    },
    "5da04967fb694094bccfaf422217e82c": {
     "model_module": "@jupyter-widgets/base",
     "model_module_version": "1.2.0",
     "model_name": "LayoutModel",
     "state": {
      "_model_module": "@jupyter-widgets/base",
      "_model_module_version": "1.2.0",
      "_model_name": "LayoutModel",
      "_view_count": null,
      "_view_module": "@jupyter-widgets/base",
      "_view_module_version": "1.2.0",
      "_view_name": "LayoutView",
      "align_content": null,
      "align_items": null,
      "align_self": null,
      "border": null,
      "bottom": null,
      "display": null,
      "flex": null,
      "flex_flow": null,
      "grid_area": null,
      "grid_auto_columns": null,
      "grid_auto_flow": null,
      "grid_auto_rows": null,
      "grid_column": null,
      "grid_gap": null,
      "grid_row": null,
      "grid_template_areas": null,
      "grid_template_columns": null,
      "grid_template_rows": null,
      "height": null,
      "justify_content": null,
      "justify_items": null,
      "left": null,
      "margin": null,
      "max_height": null,
      "max_width": null,
      "min_height": null,
      "min_width": null,
      "object_fit": null,
      "object_position": null,
      "order": null,
      "overflow": null,
      "overflow_x": null,
      "overflow_y": null,
      "padding": null,
      "right": null,
      "top": null,
      "visibility": null,
      "width": null
     }
    },
    "5dbb775c57be4cbdbdca02885d986613": {
     "model_module": "@jupyter-widgets/controls",
     "model_module_version": "1.5.0",
     "model_name": "FloatProgressModel",
     "state": {
      "_dom_classes": [],
      "_model_module": "@jupyter-widgets/controls",
      "_model_module_version": "1.5.0",
      "_model_name": "FloatProgressModel",
      "_view_count": null,
      "_view_module": "@jupyter-widgets/controls",
      "_view_module_version": "1.5.0",
      "_view_name": "ProgressView",
      "bar_style": "success",
      "description": "",
      "description_tooltip": null,
      "layout": "IPY_MODEL_a9c4b12a8a3e406cab6c44b3add267bd",
      "max": 124,
      "min": 0,
      "orientation": "horizontal",
      "style": "IPY_MODEL_a58a3f80e3ed43999b5b85ee7a223d04",
      "value": 124
     }
    },
    "5de81f4ef7c94dc4bff7ef30045cca94": {
     "model_module": "@jupyter-widgets/controls",
     "model_module_version": "1.5.0",
     "model_name": "HTMLModel",
     "state": {
      "_dom_classes": [],
      "_model_module": "@jupyter-widgets/controls",
      "_model_module_version": "1.5.0",
      "_model_name": "HTMLModel",
      "_view_count": null,
      "_view_module": "@jupyter-widgets/controls",
      "_view_module_version": "1.5.0",
      "_view_name": "HTMLView",
      "description": "",
      "description_tooltip": null,
      "layout": "IPY_MODEL_fcc57ac26b7644a99805b51ff67e4d4a",
      "placeholder": "​",
      "style": "IPY_MODEL_4871548169d240299876a4def59e27db",
      "value": " 456k/456k [00:00&lt;00:00, 959kB/s]"
     }
    },
    "5e2c1e4f85d14281a0059cf50737189c": {
     "model_module": "@jupyter-widgets/controls",
     "model_module_version": "1.5.0",
     "model_name": "FloatProgressModel",
     "state": {
      "_dom_classes": [],
      "_model_module": "@jupyter-widgets/controls",
      "_model_module_version": "1.5.0",
      "_model_name": "FloatProgressModel",
      "_view_count": null,
      "_view_module": "@jupyter-widgets/controls",
      "_view_module_version": "1.5.0",
      "_view_name": "ProgressView",
      "bar_style": "success",
      "description": "",
      "description_tooltip": null,
      "layout": "IPY_MODEL_f88b87c9d5ab43c1a63e7878ac6d4dee",
      "max": 548105171,
      "min": 0,
      "orientation": "horizontal",
      "style": "IPY_MODEL_6c38d7b3daa345dfb274273722bee150",
      "value": 548105171
     }
    },
    "5f1825a25a0b4f65b59db0042673dffb": {
     "model_module": "@jupyter-widgets/controls",
     "model_module_version": "1.5.0",
     "model_name": "DescriptionStyleModel",
     "state": {
      "_model_module": "@jupyter-widgets/controls",
      "_model_module_version": "1.5.0",
      "_model_name": "DescriptionStyleModel",
      "_view_count": null,
      "_view_module": "@jupyter-widgets/base",
      "_view_module_version": "1.2.0",
      "_view_name": "StyleView",
      "description_width": ""
     }
    },
    "5fe45d6b94af4d1a90e7c54c5086db5c": {
     "model_module": "@jupyter-widgets/controls",
     "model_module_version": "1.5.0",
     "model_name": "DescriptionStyleModel",
     "state": {
      "_model_module": "@jupyter-widgets/controls",
      "_model_module_version": "1.5.0",
      "_model_name": "DescriptionStyleModel",
      "_view_count": null,
      "_view_module": "@jupyter-widgets/base",
      "_view_module_version": "1.2.0",
      "_view_name": "StyleView",
      "description_width": ""
     }
    },
    "615f9af628674ac4ae09a06e1e613200": {
     "model_module": "@jupyter-widgets/controls",
     "model_module_version": "1.5.0",
     "model_name": "DescriptionStyleModel",
     "state": {
      "_model_module": "@jupyter-widgets/controls",
      "_model_module_version": "1.5.0",
      "_model_name": "DescriptionStyleModel",
      "_view_count": null,
      "_view_module": "@jupyter-widgets/base",
      "_view_module_version": "1.2.0",
      "_view_name": "StyleView",
      "description_width": ""
     }
    },
    "65a8c98862924eb5938ff454b2ce05f2": {
     "model_module": "@jupyter-widgets/controls",
     "model_module_version": "1.5.0",
     "model_name": "HTMLModel",
     "state": {
      "_dom_classes": [],
      "_model_module": "@jupyter-widgets/controls",
      "_model_module_version": "1.5.0",
      "_model_name": "HTMLModel",
      "_view_count": null,
      "_view_module": "@jupyter-widgets/controls",
      "_view_module_version": "1.5.0",
      "_view_name": "HTMLView",
      "description": "",
      "description_tooltip": null,
      "layout": "IPY_MODEL_6ba80bbb24824cff98240b351a3d3c13",
      "placeholder": "​",
      "style": "IPY_MODEL_d961ebbc3c2d4102b544d3a7d11df73b",
      "value": " 51.0/51.0 [00:00&lt;00:00, 2.77kB/s]"
     }
    },
    "663578b64bb142678b88cbea396bbdf4": {
     "model_module": "@jupyter-widgets/controls",
     "model_module_version": "1.5.0",
     "model_name": "HTMLModel",
     "state": {
      "_dom_classes": [],
      "_model_module": "@jupyter-widgets/controls",
      "_model_module_version": "1.5.0",
      "_model_name": "HTMLModel",
      "_view_count": null,
      "_view_module": "@jupyter-widgets/controls",
      "_view_module_version": "1.5.0",
      "_view_name": "HTMLView",
      "description": "",
      "description_tooltip": null,
      "layout": "IPY_MODEL_ebba55391a3b4ebc97485cb9e27dfa71",
      "placeholder": "​",
      "style": "IPY_MODEL_4192a4aef69d4792ab654ce1203999a5",
      "value": " 227M/227M [00:01&lt;00:00, 226MB/s]"
     }
    },
    "679cab2086d949379746c26e48e4a237": {
     "model_module": "@jupyter-widgets/controls",
     "model_module_version": "1.5.0",
     "model_name": "DescriptionStyleModel",
     "state": {
      "_model_module": "@jupyter-widgets/controls",
      "_model_module_version": "1.5.0",
      "_model_name": "DescriptionStyleModel",
      "_view_count": null,
      "_view_module": "@jupyter-widgets/base",
      "_view_module_version": "1.2.0",
      "_view_name": "StyleView",
      "description_width": ""
     }
    },
    "68a9dfc8f3b548e7ab2c8063de638a19": {
     "model_module": "@jupyter-widgets/controls",
     "model_module_version": "1.5.0",
     "model_name": "HTMLModel",
     "state": {
      "_dom_classes": [],
      "_model_module": "@jupyter-widgets/controls",
      "_model_module_version": "1.5.0",
      "_model_name": "HTMLModel",
      "_view_count": null,
      "_view_module": "@jupyter-widgets/controls",
      "_view_module_version": "1.5.0",
      "_view_name": "HTMLView",
      "description": "",
      "description_tooltip": null,
      "layout": "IPY_MODEL_74a8f461eef947f784494e3bd3680e89",
      "placeholder": "​",
      "style": "IPY_MODEL_098ecc2beda44309bff9b58230249daf",
      "value": "special_tokens_map.json: 100%"
     }
    },
    "697513b893bb496daecd455e9f17501c": {
     "model_module": "@jupyter-widgets/controls",
     "model_module_version": "1.5.0",
     "model_name": "HTMLModel",
     "state": {
      "_dom_classes": [],
      "_model_module": "@jupyter-widgets/controls",
      "_model_module_version": "1.5.0",
      "_model_name": "HTMLModel",
      "_view_count": null,
      "_view_module": "@jupyter-widgets/controls",
      "_view_module_version": "1.5.0",
      "_view_name": "HTMLView",
      "description": "",
      "description_tooltip": null,
      "layout": "IPY_MODEL_6cba3da2519a492a86656a9080afd94e",
      "placeholder": "​",
      "style": "IPY_MODEL_39af238f1e1b4328a8c304c52346f476",
      "value": "config.json: 100%"
     }
    },
    "6988ece30af54268b74958d158435cb1": {
     "model_module": "@jupyter-widgets/base",
     "model_module_version": "1.2.0",
     "model_name": "LayoutModel",
     "state": {
      "_model_module": "@jupyter-widgets/base",
      "_model_module_version": "1.2.0",
      "_model_name": "LayoutModel",
      "_view_count": null,
      "_view_module": "@jupyter-widgets/base",
      "_view_module_version": "1.2.0",
      "_view_name": "LayoutView",
      "align_content": null,
      "align_items": null,
      "align_self": null,
      "border": null,
      "bottom": null,
      "display": null,
      "flex": null,
      "flex_flow": null,
      "grid_area": null,
      "grid_auto_columns": null,
      "grid_auto_flow": null,
      "grid_auto_rows": null,
      "grid_column": null,
      "grid_gap": null,
      "grid_row": null,
      "grid_template_areas": null,
      "grid_template_columns": null,
      "grid_template_rows": null,
      "height": null,
      "justify_content": null,
      "justify_items": null,
      "left": null,
      "margin": null,
      "max_height": null,
      "max_width": null,
      "min_height": null,
      "min_width": null,
      "object_fit": null,
      "object_position": null,
      "order": null,
      "overflow": null,
      "overflow_x": null,
      "overflow_y": null,
      "padding": null,
      "right": null,
      "top": null,
      "visibility": null,
      "width": null
     }
    },
    "6a4995c436e74ece9b760d16e6037e70": {
     "model_module": "@jupyter-widgets/controls",
     "model_module_version": "1.5.0",
     "model_name": "ProgressStyleModel",
     "state": {
      "_model_module": "@jupyter-widgets/controls",
      "_model_module_version": "1.5.0",
      "_model_name": "ProgressStyleModel",
      "_view_count": null,
      "_view_module": "@jupyter-widgets/base",
      "_view_module_version": "1.2.0",
      "_view_name": "StyleView",
      "bar_color": null,
      "description_width": ""
     }
    },
    "6ba80bbb24824cff98240b351a3d3c13": {
     "model_module": "@jupyter-widgets/base",
     "model_module_version": "1.2.0",
     "model_name": "LayoutModel",
     "state": {
      "_model_module": "@jupyter-widgets/base",
      "_model_module_version": "1.2.0",
      "_model_name": "LayoutModel",
      "_view_count": null,
      "_view_module": "@jupyter-widgets/base",
      "_view_module_version": "1.2.0",
      "_view_name": "LayoutView",
      "align_content": null,
      "align_items": null,
      "align_self": null,
      "border": null,
      "bottom": null,
      "display": null,
      "flex": null,
      "flex_flow": null,
      "grid_area": null,
      "grid_auto_columns": null,
      "grid_auto_flow": null,
      "grid_auto_rows": null,
      "grid_column": null,
      "grid_gap": null,
      "grid_row": null,
      "grid_template_areas": null,
      "grid_template_columns": null,
      "grid_template_rows": null,
      "height": null,
      "justify_content": null,
      "justify_items": null,
      "left": null,
      "margin": null,
      "max_height": null,
      "max_width": null,
      "min_height": null,
      "min_width": null,
      "object_fit": null,
      "object_position": null,
      "order": null,
      "overflow": null,
      "overflow_x": null,
      "overflow_y": null,
      "padding": null,
      "right": null,
      "top": null,
      "visibility": null,
      "width": null
     }
    },
    "6bbc515b05324b0db99d0d98077bf743": {
     "model_module": "@jupyter-widgets/controls",
     "model_module_version": "1.5.0",
     "model_name": "HBoxModel",
     "state": {
      "_dom_classes": [],
      "_model_module": "@jupyter-widgets/controls",
      "_model_module_version": "1.5.0",
      "_model_name": "HBoxModel",
      "_view_count": null,
      "_view_module": "@jupyter-widgets/controls",
      "_view_module_version": "1.5.0",
      "_view_name": "HBoxView",
      "box_style": "",
      "children": [
       "IPY_MODEL_df9dd46d184642c8918582b403c2961b",
       "IPY_MODEL_8a9c2343cf9142398ee1369b3e51ac95",
       "IPY_MODEL_6c5465a206c7401aa874b0ddfa5c01d2"
      ],
      "layout": "IPY_MODEL_9373481849b240a3923f6d903f12fa21"
     }
    },
    "6c2f5a297a334fd99eb7d10e96348aa1": {
     "model_module": "@jupyter-widgets/controls",
     "model_module_version": "1.5.0",
     "model_name": "HTMLModel",
     "state": {
      "_dom_classes": [],
      "_model_module": "@jupyter-widgets/controls",
      "_model_module_version": "1.5.0",
      "_model_name": "HTMLModel",
      "_view_count": null,
      "_view_module": "@jupyter-widgets/controls",
      "_view_module_version": "1.5.0",
      "_view_name": "HTMLView",
      "description": "",
      "description_tooltip": null,
      "layout": "IPY_MODEL_f359bedcf34f417ab203e5dfecb1a3f9",
      "placeholder": "​",
      "style": "IPY_MODEL_97b3d9fb7986429fb0037413c58f2926",
      "value": "tokenizer_config.json: 100%"
     }
    },
    "6c38d7b3daa345dfb274273722bee150": {
     "model_module": "@jupyter-widgets/controls",
     "model_module_version": "1.5.0",
     "model_name": "ProgressStyleModel",
     "state": {
      "_model_module": "@jupyter-widgets/controls",
      "_model_module_version": "1.5.0",
      "_model_name": "ProgressStyleModel",
      "_view_count": null,
      "_view_module": "@jupyter-widgets/base",
      "_view_module_version": "1.2.0",
      "_view_name": "StyleView",
      "bar_color": null,
      "description_width": ""
     }
    },
    "6c5465a206c7401aa874b0ddfa5c01d2": {
     "model_module": "@jupyter-widgets/controls",
     "model_module_version": "1.5.0",
     "model_name": "HTMLModel",
     "state": {
      "_dom_classes": [],
      "_model_module": "@jupyter-widgets/controls",
      "_model_module_version": "1.5.0",
      "_model_name": "HTMLModel",
      "_view_count": null,
      "_view_module": "@jupyter-widgets/controls",
      "_view_module_version": "1.5.0",
      "_view_name": "HTMLView",
      "description": "",
      "description_tooltip": null,
      "layout": "IPY_MODEL_e4f17b089bf748868b438301db10c682",
      "placeholder": "​",
      "style": "IPY_MODEL_403c1346cd44436bb48bd96d2a28b2b5",
      "value": " 353M/353M [00:06&lt;00:00, 235MB/s]"
     }
    },
    "6c82c81916da46c2838edfcfd624f67a": {
     "model_module": "@jupyter-widgets/controls",
     "model_module_version": "1.5.0",
     "model_name": "FloatProgressModel",
     "state": {
      "_dom_classes": [],
      "_model_module": "@jupyter-widgets/controls",
      "_model_module_version": "1.5.0",
      "_model_name": "FloatProgressModel",
      "_view_count": null,
      "_view_module": "@jupyter-widgets/controls",
      "_view_module_version": "1.5.0",
      "_view_name": "ProgressView",
      "bar_style": "success",
      "description": "",
      "description_tooltip": null,
      "layout": "IPY_MODEL_07d75b5f413047afab785d2c53d6b06b",
      "max": 1042301,
      "min": 0,
      "orientation": "horizontal",
      "style": "IPY_MODEL_7781ed1d7403463ca0b0acd25608ae95",
      "value": 1042301
     }
    },
    "6cba3da2519a492a86656a9080afd94e": {
     "model_module": "@jupyter-widgets/base",
     "model_module_version": "1.2.0",
     "model_name": "LayoutModel",
     "state": {
      "_model_module": "@jupyter-widgets/base",
      "_model_module_version": "1.2.0",
      "_model_name": "LayoutModel",
      "_view_count": null,
      "_view_module": "@jupyter-widgets/base",
      "_view_module_version": "1.2.0",
      "_view_name": "LayoutView",
      "align_content": null,
      "align_items": null,
      "align_self": null,
      "border": null,
      "bottom": null,
      "display": null,
      "flex": null,
      "flex_flow": null,
      "grid_area": null,
      "grid_auto_columns": null,
      "grid_auto_flow": null,
      "grid_auto_rows": null,
      "grid_column": null,
      "grid_gap": null,
      "grid_row": null,
      "grid_template_areas": null,
      "grid_template_columns": null,
      "grid_template_rows": null,
      "height": null,
      "justify_content": null,
      "justify_items": null,
      "left": null,
      "margin": null,
      "max_height": null,
      "max_width": null,
      "min_height": null,
      "min_width": null,
      "object_fit": null,
      "object_position": null,
      "order": null,
      "overflow": null,
      "overflow_x": null,
      "overflow_y": null,
      "padding": null,
      "right": null,
      "top": null,
      "visibility": null,
      "width": null
     }
    },
    "6d3f0803d02d4956bf8fa0cdd161f749": {
     "model_module": "@jupyter-widgets/controls",
     "model_module_version": "1.5.0",
     "model_name": "ProgressStyleModel",
     "state": {
      "_model_module": "@jupyter-widgets/controls",
      "_model_module_version": "1.5.0",
      "_model_name": "ProgressStyleModel",
      "_view_count": null,
      "_view_module": "@jupyter-widgets/base",
      "_view_module_version": "1.2.0",
      "_view_name": "StyleView",
      "bar_color": null,
      "description_width": ""
     }
    },
    "6ef28e19e6354888918cb77527b8e5b9": {
     "model_module": "@jupyter-widgets/controls",
     "model_module_version": "1.5.0",
     "model_name": "HTMLModel",
     "state": {
      "_dom_classes": [],
      "_model_module": "@jupyter-widgets/controls",
      "_model_module_version": "1.5.0",
      "_model_name": "HTMLModel",
      "_view_count": null,
      "_view_module": "@jupyter-widgets/controls",
      "_view_module_version": "1.5.0",
      "_view_name": "HTMLView",
      "description": "",
      "description_tooltip": null,
      "layout": "IPY_MODEL_5b2a74f4428f47dd9488ad0f08047ade",
      "placeholder": "​",
      "style": "IPY_MODEL_9ab4e3caab8f4ea69d96307bc49b7842",
      "value": " 50/50 [00:03&lt;00:00, 10.78it/s]"
     }
    },
    "6f5ba7b718724da08b3e07d66cf8b84c": {
     "model_module": "@jupyter-widgets/controls",
     "model_module_version": "1.5.0",
     "model_name": "HTMLModel",
     "state": {
      "_dom_classes": [],
      "_model_module": "@jupyter-widgets/controls",
      "_model_module_version": "1.5.0",
      "_model_name": "HTMLModel",
      "_view_count": null,
      "_view_module": "@jupyter-widgets/controls",
      "_view_module_version": "1.5.0",
      "_view_name": "HTMLView",
      "description": "",
      "description_tooltip": null,
      "layout": "IPY_MODEL_3061d31565dd42658c49e077ce1e8640",
      "placeholder": "​",
      "style": "IPY_MODEL_e378a869c975458f9cede0c70607a62a",
      "value": "generation_config.json: 100%"
     }
    },
    "6fc01cdd3b77434a825b84112e43cc5f": {
     "model_module": "@jupyter-widgets/controls",
     "model_module_version": "1.5.0",
     "model_name": "ProgressStyleModel",
     "state": {
      "_model_module": "@jupyter-widgets/controls",
      "_model_module_version": "1.5.0",
      "_model_name": "ProgressStyleModel",
      "_view_count": null,
      "_view_module": "@jupyter-widgets/base",
      "_view_module_version": "1.2.0",
      "_view_name": "StyleView",
      "bar_color": null,
      "description_width": ""
     }
    },
    "6ffaeded231e4f93974fe439f11eb724": {
     "model_module": "@jupyter-widgets/base",
     "model_module_version": "1.2.0",
     "model_name": "LayoutModel",
     "state": {
      "_model_module": "@jupyter-widgets/base",
      "_model_module_version": "1.2.0",
      "_model_name": "LayoutModel",
      "_view_count": null,
      "_view_module": "@jupyter-widgets/base",
      "_view_module_version": "1.2.0",
      "_view_name": "LayoutView",
      "align_content": null,
      "align_items": null,
      "align_self": null,
      "border": null,
      "bottom": null,
      "display": null,
      "flex": null,
      "flex_flow": null,
      "grid_area": null,
      "grid_auto_columns": null,
      "grid_auto_flow": null,
      "grid_auto_rows": null,
      "grid_column": null,
      "grid_gap": null,
      "grid_row": null,
      "grid_template_areas": null,
      "grid_template_columns": null,
      "grid_template_rows": null,
      "height": null,
      "justify_content": null,
      "justify_items": null,
      "left": null,
      "margin": null,
      "max_height": null,
      "max_width": null,
      "min_height": null,
      "min_width": null,
      "object_fit": null,
      "object_position": null,
      "order": null,
      "overflow": null,
      "overflow_x": null,
      "overflow_y": null,
      "padding": null,
      "right": null,
      "top": null,
      "visibility": null,
      "width": null
     }
    },
    "71e59caa2a04484c92e020051d0c2be8": {
     "model_module": "@jupyter-widgets/base",
     "model_module_version": "1.2.0",
     "model_name": "LayoutModel",
     "state": {
      "_model_module": "@jupyter-widgets/base",
      "_model_module_version": "1.2.0",
      "_model_name": "LayoutModel",
      "_view_count": null,
      "_view_module": "@jupyter-widgets/base",
      "_view_module_version": "1.2.0",
      "_view_name": "LayoutView",
      "align_content": null,
      "align_items": null,
      "align_self": null,
      "border": null,
      "bottom": null,
      "display": null,
      "flex": null,
      "flex_flow": null,
      "grid_area": null,
      "grid_auto_columns": null,
      "grid_auto_flow": null,
      "grid_auto_rows": null,
      "grid_column": null,
      "grid_gap": null,
      "grid_row": null,
      "grid_template_areas": null,
      "grid_template_columns": null,
      "grid_template_rows": null,
      "height": null,
      "justify_content": null,
      "justify_items": null,
      "left": null,
      "margin": null,
      "max_height": null,
      "max_width": null,
      "min_height": null,
      "min_width": null,
      "object_fit": null,
      "object_position": null,
      "order": null,
      "overflow": null,
      "overflow_x": null,
      "overflow_y": null,
      "padding": null,
      "right": null,
      "top": null,
      "visibility": null,
      "width": null
     }
    },
    "720d0da0ee2d45f891ca9e2346fda60a": {
     "model_module": "@jupyter-widgets/base",
     "model_module_version": "1.2.0",
     "model_name": "LayoutModel",
     "state": {
      "_model_module": "@jupyter-widgets/base",
      "_model_module_version": "1.2.0",
      "_model_name": "LayoutModel",
      "_view_count": null,
      "_view_module": "@jupyter-widgets/base",
      "_view_module_version": "1.2.0",
      "_view_name": "LayoutView",
      "align_content": null,
      "align_items": null,
      "align_self": null,
      "border": null,
      "bottom": null,
      "display": null,
      "flex": null,
      "flex_flow": null,
      "grid_area": null,
      "grid_auto_columns": null,
      "grid_auto_flow": null,
      "grid_auto_rows": null,
      "grid_column": null,
      "grid_gap": null,
      "grid_row": null,
      "grid_template_areas": null,
      "grid_template_columns": null,
      "grid_template_rows": null,
      "height": null,
      "justify_content": null,
      "justify_items": null,
      "left": null,
      "margin": null,
      "max_height": null,
      "max_width": null,
      "min_height": null,
      "min_width": null,
      "object_fit": null,
      "object_position": null,
      "order": null,
      "overflow": null,
      "overflow_x": null,
      "overflow_y": null,
      "padding": null,
      "right": null,
      "top": null,
      "visibility": null,
      "width": null
     }
    },
    "72fa8d09b8b74e968d6638c928b37287": {
     "model_module": "@jupyter-widgets/base",
     "model_module_version": "1.2.0",
     "model_name": "LayoutModel",
     "state": {
      "_model_module": "@jupyter-widgets/base",
      "_model_module_version": "1.2.0",
      "_model_name": "LayoutModel",
      "_view_count": null,
      "_view_module": "@jupyter-widgets/base",
      "_view_module_version": "1.2.0",
      "_view_name": "LayoutView",
      "align_content": null,
      "align_items": null,
      "align_self": null,
      "border": null,
      "bottom": null,
      "display": null,
      "flex": null,
      "flex_flow": null,
      "grid_area": null,
      "grid_auto_columns": null,
      "grid_auto_flow": null,
      "grid_auto_rows": null,
      "grid_column": null,
      "grid_gap": null,
      "grid_row": null,
      "grid_template_areas": null,
      "grid_template_columns": null,
      "grid_template_rows": null,
      "height": null,
      "justify_content": null,
      "justify_items": null,
      "left": null,
      "margin": null,
      "max_height": null,
      "max_width": null,
      "min_height": null,
      "min_width": null,
      "object_fit": null,
      "object_position": null,
      "order": null,
      "overflow": null,
      "overflow_x": null,
      "overflow_y": null,
      "padding": null,
      "right": null,
      "top": null,
      "visibility": null,
      "width": null
     }
    },
    "73904eeaa50b41a2a76fcd1788ca802d": {
     "model_module": "@jupyter-widgets/controls",
     "model_module_version": "1.5.0",
     "model_name": "ProgressStyleModel",
     "state": {
      "_model_module": "@jupyter-widgets/controls",
      "_model_module_version": "1.5.0",
      "_model_name": "ProgressStyleModel",
      "_view_count": null,
      "_view_module": "@jupyter-widgets/base",
      "_view_module_version": "1.2.0",
      "_view_name": "StyleView",
      "bar_color": null,
      "description_width": ""
     }
    },
    "749427350fc24c1b8a4f810a04862895": {
     "model_module": "@jupyter-widgets/base",
     "model_module_version": "1.2.0",
     "model_name": "LayoutModel",
     "state": {
      "_model_module": "@jupyter-widgets/base",
      "_model_module_version": "1.2.0",
      "_model_name": "LayoutModel",
      "_view_count": null,
      "_view_module": "@jupyter-widgets/base",
      "_view_module_version": "1.2.0",
      "_view_name": "LayoutView",
      "align_content": null,
      "align_items": null,
      "align_self": null,
      "border": null,
      "bottom": null,
      "display": null,
      "flex": null,
      "flex_flow": null,
      "grid_area": null,
      "grid_auto_columns": null,
      "grid_auto_flow": null,
      "grid_auto_rows": null,
      "grid_column": null,
      "grid_gap": null,
      "grid_row": null,
      "grid_template_areas": null,
      "grid_template_columns": null,
      "grid_template_rows": null,
      "height": null,
      "justify_content": null,
      "justify_items": null,
      "left": null,
      "margin": null,
      "max_height": null,
      "max_width": null,
      "min_height": null,
      "min_width": null,
      "object_fit": null,
      "object_position": null,
      "order": null,
      "overflow": null,
      "overflow_x": null,
      "overflow_y": null,
      "padding": null,
      "right": null,
      "top": null,
      "visibility": null,
      "width": null
     }
    },
    "74a8f461eef947f784494e3bd3680e89": {
     "model_module": "@jupyter-widgets/base",
     "model_module_version": "1.2.0",
     "model_name": "LayoutModel",
     "state": {
      "_model_module": "@jupyter-widgets/base",
      "_model_module_version": "1.2.0",
      "_model_name": "LayoutModel",
      "_view_count": null,
      "_view_module": "@jupyter-widgets/base",
      "_view_module_version": "1.2.0",
      "_view_name": "LayoutView",
      "align_content": null,
      "align_items": null,
      "align_self": null,
      "border": null,
      "bottom": null,
      "display": null,
      "flex": null,
      "flex_flow": null,
      "grid_area": null,
      "grid_auto_columns": null,
      "grid_auto_flow": null,
      "grid_auto_rows": null,
      "grid_column": null,
      "grid_gap": null,
      "grid_row": null,
      "grid_template_areas": null,
      "grid_template_columns": null,
      "grid_template_rows": null,
      "height": null,
      "justify_content": null,
      "justify_items": null,
      "left": null,
      "margin": null,
      "max_height": null,
      "max_width": null,
      "min_height": null,
      "min_width": null,
      "object_fit": null,
      "object_position": null,
      "order": null,
      "overflow": null,
      "overflow_x": null,
      "overflow_y": null,
      "padding": null,
      "right": null,
      "top": null,
      "visibility": null,
      "width": null
     }
    },
    "75319aa2ed4e436fb6c4b4bfbfa17f28": {
     "model_module": "@jupyter-widgets/controls",
     "model_module_version": "1.5.0",
     "model_name": "ProgressStyleModel",
     "state": {
      "_model_module": "@jupyter-widgets/controls",
      "_model_module_version": "1.5.0",
      "_model_name": "ProgressStyleModel",
      "_view_count": null,
      "_view_module": "@jupyter-widgets/base",
      "_view_module_version": "1.2.0",
      "_view_name": "StyleView",
      "bar_color": null,
      "description_width": ""
     }
    },
    "753da9a7c443457585c220c6957bce29": {
     "model_module": "@jupyter-widgets/base",
     "model_module_version": "1.2.0",
     "model_name": "LayoutModel",
     "state": {
      "_model_module": "@jupyter-widgets/base",
      "_model_module_version": "1.2.0",
      "_model_name": "LayoutModel",
      "_view_count": null,
      "_view_module": "@jupyter-widgets/base",
      "_view_module_version": "1.2.0",
      "_view_name": "LayoutView",
      "align_content": null,
      "align_items": null,
      "align_self": null,
      "border": null,
      "bottom": null,
      "display": null,
      "flex": null,
      "flex_flow": null,
      "grid_area": null,
      "grid_auto_columns": null,
      "grid_auto_flow": null,
      "grid_auto_rows": null,
      "grid_column": null,
      "grid_gap": null,
      "grid_row": null,
      "grid_template_areas": null,
      "grid_template_columns": null,
      "grid_template_rows": null,
      "height": null,
      "justify_content": null,
      "justify_items": null,
      "left": null,
      "margin": null,
      "max_height": null,
      "max_width": null,
      "min_height": null,
      "min_width": null,
      "object_fit": null,
      "object_position": null,
      "order": null,
      "overflow": null,
      "overflow_x": null,
      "overflow_y": null,
      "padding": null,
      "right": null,
      "top": null,
      "visibility": null,
      "width": null
     }
    },
    "75e86c88c0fc49af98d9a57d626ff493": {
     "model_module": "@jupyter-widgets/controls",
     "model_module_version": "1.5.0",
     "model_name": "HBoxModel",
     "state": {
      "_dom_classes": [],
      "_model_module": "@jupyter-widgets/controls",
      "_model_module_version": "1.5.0",
      "_model_name": "HBoxModel",
      "_view_count": null,
      "_view_module": "@jupyter-widgets/controls",
      "_view_module_version": "1.5.0",
      "_view_name": "HBoxView",
      "box_style": "",
      "children": [
       "IPY_MODEL_33d0495a013d429ba129b1c3c73e26ab",
       "IPY_MODEL_a92d3578c20145779132fdef4191ac5a",
       "IPY_MODEL_b9e8fb0173fe4c94a67aa928d82ed194"
      ],
      "layout": "IPY_MODEL_3f8aa4b60406422898c2649c716556ae"
     }
    },
    "7781ed1d7403463ca0b0acd25608ae95": {
     "model_module": "@jupyter-widgets/controls",
     "model_module_version": "1.5.0",
     "model_name": "ProgressStyleModel",
     "state": {
      "_model_module": "@jupyter-widgets/controls",
      "_model_module_version": "1.5.0",
      "_model_name": "ProgressStyleModel",
      "_view_count": null,
      "_view_module": "@jupyter-widgets/base",
      "_view_module_version": "1.2.0",
      "_view_name": "StyleView",
      "bar_color": null,
      "description_width": ""
     }
    },
    "78416a088be04e3ea3cbf2569f3d6a43": {
     "model_module": "@jupyter-widgets/controls",
     "model_module_version": "1.5.0",
     "model_name": "FloatProgressModel",
     "state": {
      "_dom_classes": [],
      "_model_module": "@jupyter-widgets/controls",
      "_model_module_version": "1.5.0",
      "_model_name": "FloatProgressModel",
      "_view_count": null,
      "_view_module": "@jupyter-widgets/controls",
      "_view_module_version": "1.5.0",
      "_view_name": "ProgressView",
      "bar_style": "success",
      "description": "",
      "description_tooltip": null,
      "layout": "IPY_MODEL_809619bdab1642c99475cba48e126946",
      "max": 1042301,
      "min": 0,
      "orientation": "horizontal",
      "style": "IPY_MODEL_5846596e7ede435cb01dac2ff244714e",
      "value": 1042301
     }
    },
    "787d254d75374acfaa33781d654fa1e1": {
     "model_module": "@jupyter-widgets/base",
     "model_module_version": "1.2.0",
     "model_name": "LayoutModel",
     "state": {
      "_model_module": "@jupyter-widgets/base",
      "_model_module_version": "1.2.0",
      "_model_name": "LayoutModel",
      "_view_count": null,
      "_view_module": "@jupyter-widgets/base",
      "_view_module_version": "1.2.0",
      "_view_name": "LayoutView",
      "align_content": null,
      "align_items": null,
      "align_self": null,
      "border": null,
      "bottom": null,
      "display": null,
      "flex": null,
      "flex_flow": null,
      "grid_area": null,
      "grid_auto_columns": null,
      "grid_auto_flow": null,
      "grid_auto_rows": null,
      "grid_column": null,
      "grid_gap": null,
      "grid_row": null,
      "grid_template_areas": null,
      "grid_template_columns": null,
      "grid_template_rows": null,
      "height": null,
      "justify_content": null,
      "justify_items": null,
      "left": null,
      "margin": null,
      "max_height": null,
      "max_width": null,
      "min_height": null,
      "min_width": null,
      "object_fit": null,
      "object_position": null,
      "order": null,
      "overflow": null,
      "overflow_x": null,
      "overflow_y": null,
      "padding": null,
      "right": null,
      "top": null,
      "visibility": null,
      "width": null
     }
    },
    "7a55b0659d1a4214a5f071c476cf3b97": {
     "model_module": "@jupyter-widgets/base",
     "model_module_version": "1.2.0",
     "model_name": "LayoutModel",
     "state": {
      "_model_module": "@jupyter-widgets/base",
      "_model_module_version": "1.2.0",
      "_model_name": "LayoutModel",
      "_view_count": null,
      "_view_module": "@jupyter-widgets/base",
      "_view_module_version": "1.2.0",
      "_view_name": "LayoutView",
      "align_content": null,
      "align_items": null,
      "align_self": null,
      "border": null,
      "bottom": null,
      "display": null,
      "flex": null,
      "flex_flow": null,
      "grid_area": null,
      "grid_auto_columns": null,
      "grid_auto_flow": null,
      "grid_auto_rows": null,
      "grid_column": null,
      "grid_gap": null,
      "grid_row": null,
      "grid_template_areas": null,
      "grid_template_columns": null,
      "grid_template_rows": null,
      "height": null,
      "justify_content": null,
      "justify_items": null,
      "left": null,
      "margin": null,
      "max_height": null,
      "max_width": null,
      "min_height": null,
      "min_width": null,
      "object_fit": null,
      "object_position": null,
      "order": null,
      "overflow": null,
      "overflow_x": null,
      "overflow_y": null,
      "padding": null,
      "right": null,
      "top": null,
      "visibility": null,
      "width": null
     }
    },
    "7c1eb53073644278a7aedad33dade966": {
     "model_module": "@jupyter-widgets/controls",
     "model_module_version": "1.5.0",
     "model_name": "HTMLModel",
     "state": {
      "_dom_classes": [],
      "_model_module": "@jupyter-widgets/controls",
      "_model_module_version": "1.5.0",
      "_model_name": "HTMLModel",
      "_view_count": null,
      "_view_module": "@jupyter-widgets/controls",
      "_view_module_version": "1.5.0",
      "_view_name": "HTMLView",
      "description": "",
      "description_tooltip": null,
      "layout": "IPY_MODEL_d3e1b8a4a5ed4c60a956821b23f60435",
      "placeholder": "​",
      "style": "IPY_MODEL_0cca796af3e946d180cf665a9f0cbc64",
      "value": "tokens_021780496384.pth: 100%"
     }
    },
    "7c63e41b1ef14c789beb725e045e852a": {
     "model_module": "@jupyter-widgets/controls",
     "model_module_version": "1.5.0",
     "model_name": "HTMLModel",
     "state": {
      "_dom_classes": [],
      "_model_module": "@jupyter-widgets/controls",
      "_model_module_version": "1.5.0",
      "_model_name": "HTMLModel",
      "_view_count": null,
      "_view_module": "@jupyter-widgets/controls",
      "_view_module_version": "1.5.0",
      "_view_name": "HTMLView",
      "description": "",
      "description_tooltip": null,
      "layout": "IPY_MODEL_8bb1a793652b4b31a81c77a97b6570bc",
      "placeholder": "​",
      "style": "IPY_MODEL_679cab2086d949379746c26e48e4a237",
      "value": "100%"
     }
    },
    "7d52e7b60382487abece704ba9cbad26": {
     "model_module": "@jupyter-widgets/controls",
     "model_module_version": "1.5.0",
     "model_name": "DescriptionStyleModel",
     "state": {
      "_model_module": "@jupyter-widgets/controls",
      "_model_module_version": "1.5.0",
      "_model_name": "DescriptionStyleModel",
      "_view_count": null,
      "_view_module": "@jupyter-widgets/base",
      "_view_module_version": "1.2.0",
      "_view_name": "StyleView",
      "description_width": ""
     }
    },
    "7db4d81e833e41749d77409c645c24ae": {
     "model_module": "@jupyter-widgets/controls",
     "model_module_version": "1.5.0",
     "model_name": "DescriptionStyleModel",
     "state": {
      "_model_module": "@jupyter-widgets/controls",
      "_model_module_version": "1.5.0",
      "_model_name": "DescriptionStyleModel",
      "_view_count": null,
      "_view_module": "@jupyter-widgets/base",
      "_view_module_version": "1.2.0",
      "_view_name": "StyleView",
      "description_width": ""
     }
    },
    "7fc2f88869d946ee84d4616c1dbc6ddf": {
     "model_module": "@jupyter-widgets/base",
     "model_module_version": "1.2.0",
     "model_name": "LayoutModel",
     "state": {
      "_model_module": "@jupyter-widgets/base",
      "_model_module_version": "1.2.0",
      "_model_name": "LayoutModel",
      "_view_count": null,
      "_view_module": "@jupyter-widgets/base",
      "_view_module_version": "1.2.0",
      "_view_name": "LayoutView",
      "align_content": null,
      "align_items": null,
      "align_self": null,
      "border": null,
      "bottom": null,
      "display": null,
      "flex": null,
      "flex_flow": null,
      "grid_area": null,
      "grid_auto_columns": null,
      "grid_auto_flow": null,
      "grid_auto_rows": null,
      "grid_column": null,
      "grid_gap": null,
      "grid_row": null,
      "grid_template_areas": null,
      "grid_template_columns": null,
      "grid_template_rows": null,
      "height": null,
      "justify_content": null,
      "justify_items": null,
      "left": null,
      "margin": null,
      "max_height": null,
      "max_width": null,
      "min_height": null,
      "min_width": null,
      "object_fit": null,
      "object_position": null,
      "order": null,
      "overflow": null,
      "overflow_x": null,
      "overflow_y": null,
      "padding": null,
      "right": null,
      "top": null,
      "visibility": null,
      "width": null
     }
    },
    "802ea796e8184938ba925fb5932e4ee6": {
     "model_module": "@jupyter-widgets/base",
     "model_module_version": "1.2.0",
     "model_name": "LayoutModel",
     "state": {
      "_model_module": "@jupyter-widgets/base",
      "_model_module_version": "1.2.0",
      "_model_name": "LayoutModel",
      "_view_count": null,
      "_view_module": "@jupyter-widgets/base",
      "_view_module_version": "1.2.0",
      "_view_name": "LayoutView",
      "align_content": null,
      "align_items": null,
      "align_self": null,
      "border": null,
      "bottom": null,
      "display": null,
      "flex": null,
      "flex_flow": null,
      "grid_area": null,
      "grid_auto_columns": null,
      "grid_auto_flow": null,
      "grid_auto_rows": null,
      "grid_column": null,
      "grid_gap": null,
      "grid_row": null,
      "grid_template_areas": null,
      "grid_template_columns": null,
      "grid_template_rows": null,
      "height": null,
      "justify_content": null,
      "justify_items": null,
      "left": null,
      "margin": null,
      "max_height": null,
      "max_width": null,
      "min_height": null,
      "min_width": null,
      "object_fit": null,
      "object_position": null,
      "order": null,
      "overflow": null,
      "overflow_x": null,
      "overflow_y": null,
      "padding": null,
      "right": null,
      "top": null,
      "visibility": null,
      "width": null
     }
    },
    "809619bdab1642c99475cba48e126946": {
     "model_module": "@jupyter-widgets/base",
     "model_module_version": "1.2.0",
     "model_name": "LayoutModel",
     "state": {
      "_model_module": "@jupyter-widgets/base",
      "_model_module_version": "1.2.0",
      "_model_name": "LayoutModel",
      "_view_count": null,
      "_view_module": "@jupyter-widgets/base",
      "_view_module_version": "1.2.0",
      "_view_name": "LayoutView",
      "align_content": null,
      "align_items": null,
      "align_self": null,
      "border": null,
      "bottom": null,
      "display": null,
      "flex": null,
      "flex_flow": null,
      "grid_area": null,
      "grid_auto_columns": null,
      "grid_auto_flow": null,
      "grid_auto_rows": null,
      "grid_column": null,
      "grid_gap": null,
      "grid_row": null,
      "grid_template_areas": null,
      "grid_template_columns": null,
      "grid_template_rows": null,
      "height": null,
      "justify_content": null,
      "justify_items": null,
      "left": null,
      "margin": null,
      "max_height": null,
      "max_width": null,
      "min_height": null,
      "min_width": null,
      "object_fit": null,
      "object_position": null,
      "order": null,
      "overflow": null,
      "overflow_x": null,
      "overflow_y": null,
      "padding": null,
      "right": null,
      "top": null,
      "visibility": null,
      "width": null
     }
    },
    "80add429caec40c18c441038917e8927": {
     "model_module": "@jupyter-widgets/controls",
     "model_module_version": "1.5.0",
     "model_name": "HTMLModel",
     "state": {
      "_dom_classes": [],
      "_model_module": "@jupyter-widgets/controls",
      "_model_module_version": "1.5.0",
      "_model_name": "HTMLModel",
      "_view_count": null,
      "_view_module": "@jupyter-widgets/controls",
      "_view_module_version": "1.5.0",
      "_view_name": "HTMLView",
      "description": "",
      "description_tooltip": null,
      "layout": "IPY_MODEL_ae4319d7836042719732f534b0278911",
      "placeholder": "​",
      "style": "IPY_MODEL_b071903e7e944164bfcaa7268fc68bc0",
      "value": " 124/124 [00:00&lt;00:00, 7.49kB/s]"
     }
    },
    "818a80db584a423db0bfbb2f7e6e6931": {
     "model_module": "@jupyter-widgets/base",
     "model_module_version": "1.2.0",
     "model_name": "LayoutModel",
     "state": {
      "_model_module": "@jupyter-widgets/base",
      "_model_module_version": "1.2.0",
      "_model_name": "LayoutModel",
      "_view_count": null,
      "_view_module": "@jupyter-widgets/base",
      "_view_module_version": "1.2.0",
      "_view_name": "LayoutView",
      "align_content": null,
      "align_items": null,
      "align_self": null,
      "border": null,
      "bottom": null,
      "display": null,
      "flex": null,
      "flex_flow": null,
      "grid_area": null,
      "grid_auto_columns": null,
      "grid_auto_flow": null,
      "grid_auto_rows": null,
      "grid_column": null,
      "grid_gap": null,
      "grid_row": null,
      "grid_template_areas": null,
      "grid_template_columns": null,
      "grid_template_rows": null,
      "height": null,
      "justify_content": null,
      "justify_items": null,
      "left": null,
      "margin": null,
      "max_height": null,
      "max_width": null,
      "min_height": null,
      "min_width": null,
      "object_fit": null,
      "object_position": null,
      "order": null,
      "overflow": null,
      "overflow_x": null,
      "overflow_y": null,
      "padding": null,
      "right": null,
      "top": null,
      "visibility": null,
      "width": null
     }
    },
    "82dd0b99aae44ab88f4195d376c5539f": {
     "model_module": "@jupyter-widgets/base",
     "model_module_version": "1.2.0",
     "model_name": "LayoutModel",
     "state": {
      "_model_module": "@jupyter-widgets/base",
      "_model_module_version": "1.2.0",
      "_model_name": "LayoutModel",
      "_view_count": null,
      "_view_module": "@jupyter-widgets/base",
      "_view_module_version": "1.2.0",
      "_view_name": "LayoutView",
      "align_content": null,
      "align_items": null,
      "align_self": null,
      "border": null,
      "bottom": null,
      "display": null,
      "flex": null,
      "flex_flow": null,
      "grid_area": null,
      "grid_auto_columns": null,
      "grid_auto_flow": null,
      "grid_auto_rows": null,
      "grid_column": null,
      "grid_gap": null,
      "grid_row": null,
      "grid_template_areas": null,
      "grid_template_columns": null,
      "grid_template_rows": null,
      "height": null,
      "justify_content": null,
      "justify_items": null,
      "left": null,
      "margin": null,
      "max_height": null,
      "max_width": null,
      "min_height": null,
      "min_width": null,
      "object_fit": null,
      "object_position": null,
      "order": null,
      "overflow": null,
      "overflow_x": null,
      "overflow_y": null,
      "padding": null,
      "right": null,
      "top": null,
      "visibility": null,
      "width": null
     }
    },
    "82ea268fba1a4246a5fb3794645477e3": {
     "model_module": "@jupyter-widgets/controls",
     "model_module_version": "1.5.0",
     "model_name": "FloatProgressModel",
     "state": {
      "_dom_classes": [],
      "_model_module": "@jupyter-widgets/controls",
      "_model_module_version": "1.5.0",
      "_model_name": "FloatProgressModel",
      "_view_count": null,
      "_view_module": "@jupyter-widgets/controls",
      "_view_module_version": "1.5.0",
      "_view_name": "ProgressView",
      "bar_style": "success",
      "description": "",
      "description_tooltip": null,
      "layout": "IPY_MODEL_09fa2868bc6d4da1ae79223331b6eb16",
      "max": 227146782,
      "min": 0,
      "orientation": "horizontal",
      "style": "IPY_MODEL_b663100c6d7a4b69bb13b0ef574ac7f3",
      "value": 227146782
     }
    },
    "8438aa043ce44482b1e55cb40028a403": {
     "model_module": "@jupyter-widgets/controls",
     "model_module_version": "1.5.0",
     "model_name": "HTMLModel",
     "state": {
      "_dom_classes": [],
      "_model_module": "@jupyter-widgets/controls",
      "_model_module_version": "1.5.0",
      "_model_name": "HTMLModel",
      "_view_count": null,
      "_view_module": "@jupyter-widgets/controls",
      "_view_module_version": "1.5.0",
      "_view_name": "HTMLView",
      "description": "",
      "description_tooltip": null,
      "layout": "IPY_MODEL_6ffaeded231e4f93974fe439f11eb724",
      "placeholder": "​",
      "style": "IPY_MODEL_0f61156bea1646c694bf4f75b411c9d9",
      "value": "100%"
     }
    },
    "84b7a3750f534e8ca98bc5975dbdcc51": {
     "model_module": "@jupyter-widgets/controls",
     "model_module_version": "1.5.0",
     "model_name": "HBoxModel",
     "state": {
      "_dom_classes": [],
      "_model_module": "@jupyter-widgets/controls",
      "_model_module_version": "1.5.0",
      "_model_name": "HBoxModel",
      "_view_count": null,
      "_view_module": "@jupyter-widgets/controls",
      "_view_module_version": "1.5.0",
      "_view_name": "HBoxView",
      "box_style": "",
      "children": [
       "IPY_MODEL_21df21ce660643689290fee04ada92d4",
       "IPY_MODEL_5e2c1e4f85d14281a0059cf50737189c",
       "IPY_MODEL_88b46d0714c340c288f7fb85630584a2"
      ],
      "layout": "IPY_MODEL_a27369f1be984f218a14f3366ca891bb"
     }
    },
    "88029156398247759dafe933e89da0a2": {
     "model_module": "@jupyter-widgets/controls",
     "model_module_version": "1.5.0",
     "model_name": "HTMLModel",
     "state": {
      "_dom_classes": [],
      "_model_module": "@jupyter-widgets/controls",
      "_model_module_version": "1.5.0",
      "_model_name": "HTMLModel",
      "_view_count": null,
      "_view_module": "@jupyter-widgets/controls",
      "_view_module_version": "1.5.0",
      "_view_name": "HTMLView",
      "description": "",
      "description_tooltip": null,
      "layout": "IPY_MODEL_5392eaf04ceb43d783d53808e941e7ce",
      "placeholder": "​",
      "style": "IPY_MODEL_ae4952af79c94c999ce8840ff47eafa6",
      "value": " 124/124 [00:00&lt;00:00, 7.57kB/s]"
     }
    },
    "88b46d0714c340c288f7fb85630584a2": {
     "model_module": "@jupyter-widgets/controls",
     "model_module_version": "1.5.0",
     "model_name": "HTMLModel",
     "state": {
      "_dom_classes": [],
      "_model_module": "@jupyter-widgets/controls",
      "_model_module_version": "1.5.0",
      "_model_name": "HTMLModel",
      "_view_count": null,
      "_view_module": "@jupyter-widgets/controls",
      "_view_module_version": "1.5.0",
      "_view_name": "HTMLView",
      "description": "",
      "description_tooltip": null,
      "layout": "IPY_MODEL_82dd0b99aae44ab88f4195d376c5539f",
      "placeholder": "​",
      "style": "IPY_MODEL_14215a32b0c04c518566bcc365398ad6",
      "value": " 548M/548M [00:02&lt;00:00, 242MB/s]"
     }
    },
    "899c0699305d463bb7b97ef578d013ae": {
     "model_module": "@jupyter-widgets/controls",
     "model_module_version": "1.5.0",
     "model_name": "ProgressStyleModel",
     "state": {
      "_model_module": "@jupyter-widgets/controls",
      "_model_module_version": "1.5.0",
      "_model_name": "ProgressStyleModel",
      "_view_count": null,
      "_view_module": "@jupyter-widgets/base",
      "_view_module_version": "1.2.0",
      "_view_name": "StyleView",
      "bar_color": null,
      "description_width": ""
     }
    },
    "8a1d1de45b664a7e9311885dce150816": {
     "model_module": "@jupyter-widgets/controls",
     "model_module_version": "1.5.0",
     "model_name": "HBoxModel",
     "state": {
      "_dom_classes": [],
      "_model_module": "@jupyter-widgets/controls",
      "_model_module_version": "1.5.0",
      "_model_name": "HBoxModel",
      "_view_count": null,
      "_view_module": "@jupyter-widgets/controls",
      "_view_module_version": "1.5.0",
      "_view_name": "HBoxView",
      "box_style": "",
      "children": [
       "IPY_MODEL_7c1eb53073644278a7aedad33dade966",
       "IPY_MODEL_8f8ba59f2b6544ceadc8bc8d9253faa2",
       "IPY_MODEL_32a3d90799e14debbb3d8bb78c365c81"
      ],
      "layout": "IPY_MODEL_5626d73a634949dc8e038549663fc563"
     }
    },
    "8a9c2343cf9142398ee1369b3e51ac95": {
     "model_module": "@jupyter-widgets/controls",
     "model_module_version": "1.5.0",
     "model_name": "FloatProgressModel",
     "state": {
      "_dom_classes": [],
      "_model_module": "@jupyter-widgets/controls",
      "_model_module_version": "1.5.0",
      "_model_name": "FloatProgressModel",
      "_view_count": null,
      "_view_module": "@jupyter-widgets/controls",
      "_view_module_version": "1.5.0",
      "_view_name": "ProgressView",
      "bar_style": "success",
      "description": "",
      "description_tooltip": null,
      "layout": "IPY_MODEL_6988ece30af54268b74958d158435cb1",
      "max": 352824413,
      "min": 0,
      "orientation": "horizontal",
      "style": "IPY_MODEL_c90e4b3aca424545afab38e495bc1fba",
      "value": 352824413
     }
    },
    "8bb1a793652b4b31a81c77a97b6570bc": {
     "model_module": "@jupyter-widgets/base",
     "model_module_version": "1.2.0",
     "model_name": "LayoutModel",
     "state": {
      "_model_module": "@jupyter-widgets/base",
      "_model_module_version": "1.2.0",
      "_model_name": "LayoutModel",
      "_view_count": null,
      "_view_module": "@jupyter-widgets/base",
      "_view_module_version": "1.2.0",
      "_view_name": "LayoutView",
      "align_content": null,
      "align_items": null,
      "align_self": null,
      "border": null,
      "bottom": null,
      "display": null,
      "flex": null,
      "flex_flow": null,
      "grid_area": null,
      "grid_auto_columns": null,
      "grid_auto_flow": null,
      "grid_auto_rows": null,
      "grid_column": null,
      "grid_gap": null,
      "grid_row": null,
      "grid_template_areas": null,
      "grid_template_columns": null,
      "grid_template_rows": null,
      "height": null,
      "justify_content": null,
      "justify_items": null,
      "left": null,
      "margin": null,
      "max_height": null,
      "max_width": null,
      "min_height": null,
      "min_width": null,
      "object_fit": null,
      "object_position": null,
      "order": null,
      "overflow": null,
      "overflow_x": null,
      "overflow_y": null,
      "padding": null,
      "right": null,
      "top": null,
      "visibility": null,
      "width": null
     }
    },
    "8f7565896df043d7bc75550eda354af3": {
     "model_module": "@jupyter-widgets/controls",
     "model_module_version": "1.5.0",
     "model_name": "HTMLModel",
     "state": {
      "_dom_classes": [],
      "_model_module": "@jupyter-widgets/controls",
      "_model_module_version": "1.5.0",
      "_model_name": "HTMLModel",
      "_view_count": null,
      "_view_module": "@jupyter-widgets/controls",
      "_view_module_version": "1.5.0",
      "_view_name": "HTMLView",
      "description": "",
      "description_tooltip": null,
      "layout": "IPY_MODEL_d57f933cfb73461bb39166b84c5b033a",
      "placeholder": "​",
      "style": "IPY_MODEL_aec890ea889944fd9055e4e08d9f4e16",
      "value": " 26.0/26.0 [00:00&lt;00:00, 950B/s]"
     }
    },
    "8f8ba59f2b6544ceadc8bc8d9253faa2": {
     "model_module": "@jupyter-widgets/controls",
     "model_module_version": "1.5.0",
     "model_name": "FloatProgressModel",
     "state": {
      "_dom_classes": [],
      "_model_module": "@jupyter-widgets/controls",
      "_model_module_version": "1.5.0",
      "_model_name": "FloatProgressModel",
      "_view_count": null,
      "_view_module": "@jupyter-widgets/controls",
      "_view_module_version": "1.5.0",
      "_view_name": "ProgressView",
      "bar_style": "success",
      "description": "",
      "description_tooltip": null,
      "layout": "IPY_MODEL_a96dae4cc1e346d69554b688206395f7",
      "max": 227146782,
      "min": 0,
      "orientation": "horizontal",
      "style": "IPY_MODEL_6d3f0803d02d4956bf8fa0cdd161f749",
      "value": 227146782
     }
    },
    "9180b8d6e37042ac87253da02998c907": {
     "model_module": "@jupyter-widgets/base",
     "model_module_version": "1.2.0",
     "model_name": "LayoutModel",
     "state": {
      "_model_module": "@jupyter-widgets/base",
      "_model_module_version": "1.2.0",
      "_model_name": "LayoutModel",
      "_view_count": null,
      "_view_module": "@jupyter-widgets/base",
      "_view_module_version": "1.2.0",
      "_view_name": "LayoutView",
      "align_content": null,
      "align_items": null,
      "align_self": null,
      "border": null,
      "bottom": null,
      "display": null,
      "flex": null,
      "flex_flow": null,
      "grid_area": null,
      "grid_auto_columns": null,
      "grid_auto_flow": null,
      "grid_auto_rows": null,
      "grid_column": null,
      "grid_gap": null,
      "grid_row": null,
      "grid_template_areas": null,
      "grid_template_columns": null,
      "grid_template_rows": null,
      "height": null,
      "justify_content": null,
      "justify_items": null,
      "left": null,
      "margin": null,
      "max_height": null,
      "max_width": null,
      "min_height": null,
      "min_width": null,
      "object_fit": null,
      "object_position": null,
      "order": null,
      "overflow": null,
      "overflow_x": null,
      "overflow_y": null,
      "padding": null,
      "right": null,
      "top": null,
      "visibility": null,
      "width": null
     }
    },
    "9373481849b240a3923f6d903f12fa21": {
     "model_module": "@jupyter-widgets/base",
     "model_module_version": "1.2.0",
     "model_name": "LayoutModel",
     "state": {
      "_model_module": "@jupyter-widgets/base",
      "_model_module_version": "1.2.0",
      "_model_name": "LayoutModel",
      "_view_count": null,
      "_view_module": "@jupyter-widgets/base",
      "_view_module_version": "1.2.0",
      "_view_name": "LayoutView",
      "align_content": null,
      "align_items": null,
      "align_self": null,
      "border": null,
      "bottom": null,
      "display": null,
      "flex": null,
      "flex_flow": null,
      "grid_area": null,
      "grid_auto_columns": null,
      "grid_auto_flow": null,
      "grid_auto_rows": null,
      "grid_column": null,
      "grid_gap": null,
      "grid_row": null,
      "grid_template_areas": null,
      "grid_template_columns": null,
      "grid_template_rows": null,
      "height": null,
      "justify_content": null,
      "justify_items": null,
      "left": null,
      "margin": null,
      "max_height": null,
      "max_width": null,
      "min_height": null,
      "min_width": null,
      "object_fit": null,
      "object_position": null,
      "order": null,
      "overflow": null,
      "overflow_x": null,
      "overflow_y": null,
      "padding": null,
      "right": null,
      "top": null,
      "visibility": null,
      "width": null
     }
    },
    "9394983504414f0e9c6ef61a50670192": {
     "model_module": "@jupyter-widgets/base",
     "model_module_version": "1.2.0",
     "model_name": "LayoutModel",
     "state": {
      "_model_module": "@jupyter-widgets/base",
      "_model_module_version": "1.2.0",
      "_model_name": "LayoutModel",
      "_view_count": null,
      "_view_module": "@jupyter-widgets/base",
      "_view_module_version": "1.2.0",
      "_view_name": "LayoutView",
      "align_content": null,
      "align_items": null,
      "align_self": null,
      "border": null,
      "bottom": null,
      "display": null,
      "flex": null,
      "flex_flow": null,
      "grid_area": null,
      "grid_auto_columns": null,
      "grid_auto_flow": null,
      "grid_auto_rows": null,
      "grid_column": null,
      "grid_gap": null,
      "grid_row": null,
      "grid_template_areas": null,
      "grid_template_columns": null,
      "grid_template_rows": null,
      "height": null,
      "justify_content": null,
      "justify_items": null,
      "left": null,
      "margin": null,
      "max_height": null,
      "max_width": null,
      "min_height": null,
      "min_width": null,
      "object_fit": null,
      "object_position": null,
      "order": null,
      "overflow": null,
      "overflow_x": null,
      "overflow_y": null,
      "padding": null,
      "right": null,
      "top": null,
      "visibility": null,
      "width": null
     }
    },
    "9496761fd55d4579a3c495289893625f": {
     "model_module": "@jupyter-widgets/controls",
     "model_module_version": "1.5.0",
     "model_name": "HTMLModel",
     "state": {
      "_dom_classes": [],
      "_model_module": "@jupyter-widgets/controls",
      "_model_module_version": "1.5.0",
      "_model_name": "HTMLModel",
      "_view_count": null,
      "_view_module": "@jupyter-widgets/controls",
      "_view_module_version": "1.5.0",
      "_view_name": "HTMLView",
      "description": "",
      "description_tooltip": null,
      "layout": "IPY_MODEL_71e59caa2a04484c92e020051d0c2be8",
      "placeholder": "​",
      "style": "IPY_MODEL_97dc64da3ba5498d81710283b460fe69",
      "value": " 12/12 [00:06&lt;00:00,  1.67it/s]"
     }
    },
    "954606da339d4c488210f952214d1a5f": {
     "model_module": "@jupyter-widgets/controls",
     "model_module_version": "1.5.0",
     "model_name": "HTMLModel",
     "state": {
      "_dom_classes": [],
      "_model_module": "@jupyter-widgets/controls",
      "_model_module_version": "1.5.0",
      "_model_name": "HTMLModel",
      "_view_count": null,
      "_view_module": "@jupyter-widgets/controls",
      "_view_module_version": "1.5.0",
      "_view_name": "HTMLView",
      "description": "",
      "description_tooltip": null,
      "layout": "IPY_MODEL_a3c39480f53f4bd3bcb154570e7b5af1",
      "placeholder": "​",
      "style": "IPY_MODEL_01f9a225328c4b5fb9aa7d04608fba80",
      "value": "generation_config.json: 100%"
     }
    },
    "95fbf0d0f2a74f68960653a1e0f1897d": {
     "model_module": "@jupyter-widgets/controls",
     "model_module_version": "1.5.0",
     "model_name": "DescriptionStyleModel",
     "state": {
      "_model_module": "@jupyter-widgets/controls",
      "_model_module_version": "1.5.0",
      "_model_name": "DescriptionStyleModel",
      "_view_count": null,
      "_view_module": "@jupyter-widgets/base",
      "_view_module_version": "1.2.0",
      "_view_name": "StyleView",
      "description_width": ""
     }
    },
    "97b3d9fb7986429fb0037413c58f2926": {
     "model_module": "@jupyter-widgets/controls",
     "model_module_version": "1.5.0",
     "model_name": "DescriptionStyleModel",
     "state": {
      "_model_module": "@jupyter-widgets/controls",
      "_model_module_version": "1.5.0",
      "_model_name": "DescriptionStyleModel",
      "_view_count": null,
      "_view_module": "@jupyter-widgets/base",
      "_view_module_version": "1.2.0",
      "_view_name": "StyleView",
      "description_width": ""
     }
    },
    "97dc64da3ba5498d81710283b460fe69": {
     "model_module": "@jupyter-widgets/controls",
     "model_module_version": "1.5.0",
     "model_name": "DescriptionStyleModel",
     "state": {
      "_model_module": "@jupyter-widgets/controls",
      "_model_module_version": "1.5.0",
      "_model_name": "DescriptionStyleModel",
      "_view_count": null,
      "_view_module": "@jupyter-widgets/base",
      "_view_module_version": "1.2.0",
      "_view_name": "StyleView",
      "description_width": ""
     }
    },
    "985217a273364151bf7e804f22896ec6": {
     "model_module": "@jupyter-widgets/controls",
     "model_module_version": "1.5.0",
     "model_name": "HBoxModel",
     "state": {
      "_dom_classes": [],
      "_model_module": "@jupyter-widgets/controls",
      "_model_module_version": "1.5.0",
      "_model_name": "HBoxModel",
      "_view_count": null,
      "_view_module": "@jupyter-widgets/controls",
      "_view_module_version": "1.5.0",
      "_view_name": "HBoxView",
      "box_style": "",
      "children": [
       "IPY_MODEL_6c2f5a297a334fd99eb7d10e96348aa1",
       "IPY_MODEL_9b579560b8c04d7e8fd640389ffddad5",
       "IPY_MODEL_4453a276840342b08a628a67f39fb7b9"
      ],
      "layout": "IPY_MODEL_a309a42d8ece48c787e1dea2ec6d1321"
     }
    },
    "98d83116c5904e95ac7df8556ff12dca": {
     "model_module": "@jupyter-widgets/controls",
     "model_module_version": "1.5.0",
     "model_name": "HTMLModel",
     "state": {
      "_dom_classes": [],
      "_model_module": "@jupyter-widgets/controls",
      "_model_module_version": "1.5.0",
      "_model_name": "HTMLModel",
      "_view_count": null,
      "_view_module": "@jupyter-widgets/controls",
      "_view_module_version": "1.5.0",
      "_view_name": "HTMLView",
      "description": "",
      "description_tooltip": null,
      "layout": "IPY_MODEL_c7e3f5ef0e9940628a2c8294f47ee9eb",
      "placeholder": "​",
      "style": "IPY_MODEL_3188dda7e08c435497bbec58093c7756",
      "value": " 1.27k/1.27k [00:00&lt;00:00, 34.5kB/s]"
     }
    },
    "9ab4e3caab8f4ea69d96307bc49b7842": {
     "model_module": "@jupyter-widgets/controls",
     "model_module_version": "1.5.0",
     "model_name": "DescriptionStyleModel",
     "state": {
      "_model_module": "@jupyter-widgets/controls",
      "_model_module_version": "1.5.0",
      "_model_name": "DescriptionStyleModel",
      "_view_count": null,
      "_view_module": "@jupyter-widgets/base",
      "_view_module_version": "1.2.0",
      "_view_name": "StyleView",
      "description_width": ""
     }
    },
    "9b579560b8c04d7e8fd640389ffddad5": {
     "model_module": "@jupyter-widgets/controls",
     "model_module_version": "1.5.0",
     "model_name": "FloatProgressModel",
     "state": {
      "_dom_classes": [],
      "_model_module": "@jupyter-widgets/controls",
      "_model_module_version": "1.5.0",
      "_model_name": "FloatProgressModel",
      "_view_count": null,
      "_view_module": "@jupyter-widgets/controls",
      "_view_module_version": "1.5.0",
      "_view_name": "ProgressView",
      "bar_style": "success",
      "description": "",
      "description_tooltip": null,
      "layout": "IPY_MODEL_14f005152d874a3795e0c7195f99459f",
      "max": 26,
      "min": 0,
      "orientation": "horizontal",
      "style": "IPY_MODEL_75319aa2ed4e436fb6c4b4bfbfa17f28",
      "value": 26
     }
    },
    "9bc955c5b3df493083a7fcbbe6564d60": {
     "model_module": "@jupyter-widgets/base",
     "model_module_version": "1.2.0",
     "model_name": "LayoutModel",
     "state": {
      "_model_module": "@jupyter-widgets/base",
      "_model_module_version": "1.2.0",
      "_model_name": "LayoutModel",
      "_view_count": null,
      "_view_module": "@jupyter-widgets/base",
      "_view_module_version": "1.2.0",
      "_view_name": "LayoutView",
      "align_content": null,
      "align_items": null,
      "align_self": null,
      "border": null,
      "bottom": null,
      "display": null,
      "flex": null,
      "flex_flow": null,
      "grid_area": null,
      "grid_auto_columns": null,
      "grid_auto_flow": null,
      "grid_auto_rows": null,
      "grid_column": null,
      "grid_gap": null,
      "grid_row": null,
      "grid_template_areas": null,
      "grid_template_columns": null,
      "grid_template_rows": null,
      "height": null,
      "justify_content": null,
      "justify_items": null,
      "left": null,
      "margin": null,
      "max_height": null,
      "max_width": null,
      "min_height": null,
      "min_width": null,
      "object_fit": null,
      "object_position": null,
      "order": null,
      "overflow": null,
      "overflow_x": null,
      "overflow_y": null,
      "padding": null,
      "right": null,
      "top": null,
      "visibility": null,
      "width": null
     }
    },
    "9f783ed2c6444cee897932217e6e6e43": {
     "model_module": "@jupyter-widgets/controls",
     "model_module_version": "1.5.0",
     "model_name": "HBoxModel",
     "state": {
      "_dom_classes": [],
      "_model_module": "@jupyter-widgets/controls",
      "_model_module_version": "1.5.0",
      "_model_name": "HBoxModel",
      "_view_count": null,
      "_view_module": "@jupyter-widgets/controls",
      "_view_module_version": "1.5.0",
      "_view_name": "HBoxView",
      "box_style": "",
      "children": [
       "IPY_MODEL_d15a2f9b622a47b086afcf2d4a51287b",
       "IPY_MODEL_07775b6f6ec0459ab3c513fa31ca63e0",
       "IPY_MODEL_ca25994035f34b55a0d86deba76a9ed1"
      ],
      "layout": "IPY_MODEL_bfdc0f106ae249acb85f717864c32ad0"
     }
    },
    "9fd46f4d76ed44caac634290922cd8f6": {
     "model_module": "@jupyter-widgets/controls",
     "model_module_version": "1.5.0",
     "model_name": "HTMLModel",
     "state": {
      "_dom_classes": [],
      "_model_module": "@jupyter-widgets/controls",
      "_model_module_version": "1.5.0",
      "_model_name": "HTMLModel",
      "_view_count": null,
      "_view_module": "@jupyter-widgets/controls",
      "_view_module_version": "1.5.0",
      "_view_name": "HTMLView",
      "description": "",
      "description_tooltip": null,
      "layout": "IPY_MODEL_bff2d4f6e7384c199996fe623e74d9ea",
      "placeholder": "​",
      "style": "IPY_MODEL_4fb623917db5420d901f9e746aa90694",
      "value": "tokens_000187432960.pth: 100%"
     }
    },
    "a0ba61bfdb1440f4a7177fb9f68a5164": {
     "model_module": "@jupyter-widgets/base",
     "model_module_version": "1.2.0",
     "model_name": "LayoutModel",
     "state": {
      "_model_module": "@jupyter-widgets/base",
      "_model_module_version": "1.2.0",
      "_model_name": "LayoutModel",
      "_view_count": null,
      "_view_module": "@jupyter-widgets/base",
      "_view_module_version": "1.2.0",
      "_view_name": "LayoutView",
      "align_content": null,
      "align_items": null,
      "align_self": null,
      "border": null,
      "bottom": null,
      "display": null,
      "flex": null,
      "flex_flow": null,
      "grid_area": null,
      "grid_auto_columns": null,
      "grid_auto_flow": null,
      "grid_auto_rows": null,
      "grid_column": null,
      "grid_gap": null,
      "grid_row": null,
      "grid_template_areas": null,
      "grid_template_columns": null,
      "grid_template_rows": null,
      "height": null,
      "justify_content": null,
      "justify_items": null,
      "left": null,
      "margin": null,
      "max_height": null,
      "max_width": null,
      "min_height": null,
      "min_width": null,
      "object_fit": null,
      "object_position": null,
      "order": null,
      "overflow": null,
      "overflow_x": null,
      "overflow_y": null,
      "padding": null,
      "right": null,
      "top": null,
      "visibility": null,
      "width": null
     }
    },
    "a0d9d08719894844a6000b099046d130": {
     "model_module": "@jupyter-widgets/base",
     "model_module_version": "1.2.0",
     "model_name": "LayoutModel",
     "state": {
      "_model_module": "@jupyter-widgets/base",
      "_model_module_version": "1.2.0",
      "_model_name": "LayoutModel",
      "_view_count": null,
      "_view_module": "@jupyter-widgets/base",
      "_view_module_version": "1.2.0",
      "_view_name": "LayoutView",
      "align_content": null,
      "align_items": null,
      "align_self": null,
      "border": null,
      "bottom": null,
      "display": null,
      "flex": null,
      "flex_flow": null,
      "grid_area": null,
      "grid_auto_columns": null,
      "grid_auto_flow": null,
      "grid_auto_rows": null,
      "grid_column": null,
      "grid_gap": null,
      "grid_row": null,
      "grid_template_areas": null,
      "grid_template_columns": null,
      "grid_template_rows": null,
      "height": null,
      "justify_content": null,
      "justify_items": null,
      "left": null,
      "margin": null,
      "max_height": null,
      "max_width": null,
      "min_height": null,
      "min_width": null,
      "object_fit": null,
      "object_position": null,
      "order": null,
      "overflow": null,
      "overflow_x": null,
      "overflow_y": null,
      "padding": null,
      "right": null,
      "top": null,
      "visibility": null,
      "width": null
     }
    },
    "a263638ce6c54e3bbcc428d8aadd59f8": {
     "model_module": "@jupyter-widgets/base",
     "model_module_version": "1.2.0",
     "model_name": "LayoutModel",
     "state": {
      "_model_module": "@jupyter-widgets/base",
      "_model_module_version": "1.2.0",
      "_model_name": "LayoutModel",
      "_view_count": null,
      "_view_module": "@jupyter-widgets/base",
      "_view_module_version": "1.2.0",
      "_view_name": "LayoutView",
      "align_content": null,
      "align_items": null,
      "align_self": null,
      "border": null,
      "bottom": null,
      "display": null,
      "flex": null,
      "flex_flow": null,
      "grid_area": null,
      "grid_auto_columns": null,
      "grid_auto_flow": null,
      "grid_auto_rows": null,
      "grid_column": null,
      "grid_gap": null,
      "grid_row": null,
      "grid_template_areas": null,
      "grid_template_columns": null,
      "grid_template_rows": null,
      "height": null,
      "justify_content": null,
      "justify_items": null,
      "left": null,
      "margin": null,
      "max_height": null,
      "max_width": null,
      "min_height": null,
      "min_width": null,
      "object_fit": null,
      "object_position": null,
      "order": null,
      "overflow": null,
      "overflow_x": null,
      "overflow_y": null,
      "padding": null,
      "right": null,
      "top": null,
      "visibility": null,
      "width": null
     }
    },
    "a27369f1be984f218a14f3366ca891bb": {
     "model_module": "@jupyter-widgets/base",
     "model_module_version": "1.2.0",
     "model_name": "LayoutModel",
     "state": {
      "_model_module": "@jupyter-widgets/base",
      "_model_module_version": "1.2.0",
      "_model_name": "LayoutModel",
      "_view_count": null,
      "_view_module": "@jupyter-widgets/base",
      "_view_module_version": "1.2.0",
      "_view_name": "LayoutView",
      "align_content": null,
      "align_items": null,
      "align_self": null,
      "border": null,
      "bottom": null,
      "display": null,
      "flex": null,
      "flex_flow": null,
      "grid_area": null,
      "grid_auto_columns": null,
      "grid_auto_flow": null,
      "grid_auto_rows": null,
      "grid_column": null,
      "grid_gap": null,
      "grid_row": null,
      "grid_template_areas": null,
      "grid_template_columns": null,
      "grid_template_rows": null,
      "height": null,
      "justify_content": null,
      "justify_items": null,
      "left": null,
      "margin": null,
      "max_height": null,
      "max_width": null,
      "min_height": null,
      "min_width": null,
      "object_fit": null,
      "object_position": null,
      "order": null,
      "overflow": null,
      "overflow_x": null,
      "overflow_y": null,
      "padding": null,
      "right": null,
      "top": null,
      "visibility": null,
      "width": null
     }
    },
    "a309a42d8ece48c787e1dea2ec6d1321": {
     "model_module": "@jupyter-widgets/base",
     "model_module_version": "1.2.0",
     "model_name": "LayoutModel",
     "state": {
      "_model_module": "@jupyter-widgets/base",
      "_model_module_version": "1.2.0",
      "_model_name": "LayoutModel",
      "_view_count": null,
      "_view_module": "@jupyter-widgets/base",
      "_view_module_version": "1.2.0",
      "_view_name": "LayoutView",
      "align_content": null,
      "align_items": null,
      "align_self": null,
      "border": null,
      "bottom": null,
      "display": null,
      "flex": null,
      "flex_flow": null,
      "grid_area": null,
      "grid_auto_columns": null,
      "grid_auto_flow": null,
      "grid_auto_rows": null,
      "grid_column": null,
      "grid_gap": null,
      "grid_row": null,
      "grid_template_areas": null,
      "grid_template_columns": null,
      "grid_template_rows": null,
      "height": null,
      "justify_content": null,
      "justify_items": null,
      "left": null,
      "margin": null,
      "max_height": null,
      "max_width": null,
      "min_height": null,
      "min_width": null,
      "object_fit": null,
      "object_position": null,
      "order": null,
      "overflow": null,
      "overflow_x": null,
      "overflow_y": null,
      "padding": null,
      "right": null,
      "top": null,
      "visibility": null,
      "width": null
     }
    },
    "a3c39480f53f4bd3bcb154570e7b5af1": {
     "model_module": "@jupyter-widgets/base",
     "model_module_version": "1.2.0",
     "model_name": "LayoutModel",
     "state": {
      "_model_module": "@jupyter-widgets/base",
      "_model_module_version": "1.2.0",
      "_model_name": "LayoutModel",
      "_view_count": null,
      "_view_module": "@jupyter-widgets/base",
      "_view_module_version": "1.2.0",
      "_view_name": "LayoutView",
      "align_content": null,
      "align_items": null,
      "align_self": null,
      "border": null,
      "bottom": null,
      "display": null,
      "flex": null,
      "flex_flow": null,
      "grid_area": null,
      "grid_auto_columns": null,
      "grid_auto_flow": null,
      "grid_auto_rows": null,
      "grid_column": null,
      "grid_gap": null,
      "grid_row": null,
      "grid_template_areas": null,
      "grid_template_columns": null,
      "grid_template_rows": null,
      "height": null,
      "justify_content": null,
      "justify_items": null,
      "left": null,
      "margin": null,
      "max_height": null,
      "max_width": null,
      "min_height": null,
      "min_width": null,
      "object_fit": null,
      "object_position": null,
      "order": null,
      "overflow": null,
      "overflow_x": null,
      "overflow_y": null,
      "padding": null,
      "right": null,
      "top": null,
      "visibility": null,
      "width": null
     }
    },
    "a45c245a3b004238bc39263573f2d649": {
     "model_module": "@jupyter-widgets/controls",
     "model_module_version": "1.5.0",
     "model_name": "DescriptionStyleModel",
     "state": {
      "_model_module": "@jupyter-widgets/controls",
      "_model_module_version": "1.5.0",
      "_model_name": "DescriptionStyleModel",
      "_view_count": null,
      "_view_module": "@jupyter-widgets/base",
      "_view_module_version": "1.2.0",
      "_view_name": "StyleView",
      "description_width": ""
     }
    },
    "a5086174551a4c49b7fbedbf88925a3a": {
     "model_module": "@jupyter-widgets/base",
     "model_module_version": "1.2.0",
     "model_name": "LayoutModel",
     "state": {
      "_model_module": "@jupyter-widgets/base",
      "_model_module_version": "1.2.0",
      "_model_name": "LayoutModel",
      "_view_count": null,
      "_view_module": "@jupyter-widgets/base",
      "_view_module_version": "1.2.0",
      "_view_name": "LayoutView",
      "align_content": null,
      "align_items": null,
      "align_self": null,
      "border": null,
      "bottom": null,
      "display": null,
      "flex": null,
      "flex_flow": null,
      "grid_area": null,
      "grid_auto_columns": null,
      "grid_auto_flow": null,
      "grid_auto_rows": null,
      "grid_column": null,
      "grid_gap": null,
      "grid_row": null,
      "grid_template_areas": null,
      "grid_template_columns": null,
      "grid_template_rows": null,
      "height": null,
      "justify_content": null,
      "justify_items": null,
      "left": null,
      "margin": null,
      "max_height": null,
      "max_width": null,
      "min_height": null,
      "min_width": null,
      "object_fit": null,
      "object_position": null,
      "order": null,
      "overflow": null,
      "overflow_x": null,
      "overflow_y": null,
      "padding": null,
      "right": null,
      "top": null,
      "visibility": null,
      "width": null
     }
    },
    "a58a3f80e3ed43999b5b85ee7a223d04": {
     "model_module": "@jupyter-widgets/controls",
     "model_module_version": "1.5.0",
     "model_name": "ProgressStyleModel",
     "state": {
      "_model_module": "@jupyter-widgets/controls",
      "_model_module_version": "1.5.0",
      "_model_name": "ProgressStyleModel",
      "_view_count": null,
      "_view_module": "@jupyter-widgets/base",
      "_view_module_version": "1.2.0",
      "_view_name": "StyleView",
      "bar_color": null,
      "description_width": ""
     }
    },
    "a65b1319a5564aacb6781d662e96aa0b": {
     "model_module": "@jupyter-widgets/base",
     "model_module_version": "1.2.0",
     "model_name": "LayoutModel",
     "state": {
      "_model_module": "@jupyter-widgets/base",
      "_model_module_version": "1.2.0",
      "_model_name": "LayoutModel",
      "_view_count": null,
      "_view_module": "@jupyter-widgets/base",
      "_view_module_version": "1.2.0",
      "_view_name": "LayoutView",
      "align_content": null,
      "align_items": null,
      "align_self": null,
      "border": null,
      "bottom": null,
      "display": null,
      "flex": null,
      "flex_flow": null,
      "grid_area": null,
      "grid_auto_columns": null,
      "grid_auto_flow": null,
      "grid_auto_rows": null,
      "grid_column": null,
      "grid_gap": null,
      "grid_row": null,
      "grid_template_areas": null,
      "grid_template_columns": null,
      "grid_template_rows": null,
      "height": null,
      "justify_content": null,
      "justify_items": null,
      "left": null,
      "margin": null,
      "max_height": null,
      "max_width": null,
      "min_height": null,
      "min_width": null,
      "object_fit": null,
      "object_position": null,
      "order": null,
      "overflow": null,
      "overflow_x": null,
      "overflow_y": null,
      "padding": null,
      "right": null,
      "top": null,
      "visibility": null,
      "width": null
     }
    },
    "a92d3578c20145779132fdef4191ac5a": {
     "model_module": "@jupyter-widgets/controls",
     "model_module_version": "1.5.0",
     "model_name": "FloatProgressModel",
     "state": {
      "_dom_classes": [],
      "_model_module": "@jupyter-widgets/controls",
      "_model_module_version": "1.5.0",
      "_model_name": "FloatProgressModel",
      "_view_count": null,
      "_view_module": "@jupyter-widgets/controls",
      "_view_module_version": "1.5.0",
      "_view_name": "ProgressView",
      "bar_style": "success",
      "description": "",
      "description_tooltip": null,
      "layout": "IPY_MODEL_a0d9d08719894844a6000b099046d130",
      "max": 456318,
      "min": 0,
      "orientation": "horizontal",
      "style": "IPY_MODEL_f8978ddd22524e7d941d93a9a53c919a",
      "value": 456318
     }
    },
    "a96dae4cc1e346d69554b688206395f7": {
     "model_module": "@jupyter-widgets/base",
     "model_module_version": "1.2.0",
     "model_name": "LayoutModel",
     "state": {
      "_model_module": "@jupyter-widgets/base",
      "_model_module_version": "1.2.0",
      "_model_name": "LayoutModel",
      "_view_count": null,
      "_view_module": "@jupyter-widgets/base",
      "_view_module_version": "1.2.0",
      "_view_name": "LayoutView",
      "align_content": null,
      "align_items": null,
      "align_self": null,
      "border": null,
      "bottom": null,
      "display": null,
      "flex": null,
      "flex_flow": null,
      "grid_area": null,
      "grid_auto_columns": null,
      "grid_auto_flow": null,
      "grid_auto_rows": null,
      "grid_column": null,
      "grid_gap": null,
      "grid_row": null,
      "grid_template_areas": null,
      "grid_template_columns": null,
      "grid_template_rows": null,
      "height": null,
      "justify_content": null,
      "justify_items": null,
      "left": null,
      "margin": null,
      "max_height": null,
      "max_width": null,
      "min_height": null,
      "min_width": null,
      "object_fit": null,
      "object_position": null,
      "order": null,
      "overflow": null,
      "overflow_x": null,
      "overflow_y": null,
      "padding": null,
      "right": null,
      "top": null,
      "visibility": null,
      "width": null
     }
    },
    "a9c4b12a8a3e406cab6c44b3add267bd": {
     "model_module": "@jupyter-widgets/base",
     "model_module_version": "1.2.0",
     "model_name": "LayoutModel",
     "state": {
      "_model_module": "@jupyter-widgets/base",
      "_model_module_version": "1.2.0",
      "_model_name": "LayoutModel",
      "_view_count": null,
      "_view_module": "@jupyter-widgets/base",
      "_view_module_version": "1.2.0",
      "_view_name": "LayoutView",
      "align_content": null,
      "align_items": null,
      "align_self": null,
      "border": null,
      "bottom": null,
      "display": null,
      "flex": null,
      "flex_flow": null,
      "grid_area": null,
      "grid_auto_columns": null,
      "grid_auto_flow": null,
      "grid_auto_rows": null,
      "grid_column": null,
      "grid_gap": null,
      "grid_row": null,
      "grid_template_areas": null,
      "grid_template_columns": null,
      "grid_template_rows": null,
      "height": null,
      "justify_content": null,
      "justify_items": null,
      "left": null,
      "margin": null,
      "max_height": null,
      "max_width": null,
      "min_height": null,
      "min_width": null,
      "object_fit": null,
      "object_position": null,
      "order": null,
      "overflow": null,
      "overflow_x": null,
      "overflow_y": null,
      "padding": null,
      "right": null,
      "top": null,
      "visibility": null,
      "width": null
     }
    },
    "abaa35fff2f24da59d13cb293e70d7dd": {
     "model_module": "@jupyter-widgets/controls",
     "model_module_version": "1.5.0",
     "model_name": "DescriptionStyleModel",
     "state": {
      "_model_module": "@jupyter-widgets/controls",
      "_model_module_version": "1.5.0",
      "_model_name": "DescriptionStyleModel",
      "_view_count": null,
      "_view_module": "@jupyter-widgets/base",
      "_view_module_version": "1.2.0",
      "_view_name": "StyleView",
      "description_width": ""
     }
    },
    "abcb120444fa4ed6a783fb3bfa11994b": {
     "model_module": "@jupyter-widgets/base",
     "model_module_version": "1.2.0",
     "model_name": "LayoutModel",
     "state": {
      "_model_module": "@jupyter-widgets/base",
      "_model_module_version": "1.2.0",
      "_model_name": "LayoutModel",
      "_view_count": null,
      "_view_module": "@jupyter-widgets/base",
      "_view_module_version": "1.2.0",
      "_view_name": "LayoutView",
      "align_content": null,
      "align_items": null,
      "align_self": null,
      "border": null,
      "bottom": null,
      "display": null,
      "flex": null,
      "flex_flow": null,
      "grid_area": null,
      "grid_auto_columns": null,
      "grid_auto_flow": null,
      "grid_auto_rows": null,
      "grid_column": null,
      "grid_gap": null,
      "grid_row": null,
      "grid_template_areas": null,
      "grid_template_columns": null,
      "grid_template_rows": null,
      "height": null,
      "justify_content": null,
      "justify_items": null,
      "left": null,
      "margin": null,
      "max_height": null,
      "max_width": null,
      "min_height": null,
      "min_width": null,
      "object_fit": null,
      "object_position": null,
      "order": null,
      "overflow": null,
      "overflow_x": null,
      "overflow_y": null,
      "padding": null,
      "right": null,
      "top": null,
      "visibility": null,
      "width": null
     }
    },
    "ac8a077261084fb0a15432eef08d943b": {
     "model_module": "@jupyter-widgets/controls",
     "model_module_version": "1.5.0",
     "model_name": "HTMLModel",
     "state": {
      "_dom_classes": [],
      "_model_module": "@jupyter-widgets/controls",
      "_model_module_version": "1.5.0",
      "_model_name": "HTMLModel",
      "_view_count": null,
      "_view_module": "@jupyter-widgets/controls",
      "_view_module_version": "1.5.0",
      "_view_name": "HTMLView",
      "description": "",
      "description_tooltip": null,
      "layout": "IPY_MODEL_3176f1a3afed4929b0136a0a6073de24",
      "placeholder": "​",
      "style": "IPY_MODEL_b3b9c67105094d3292e8384ea633dd95",
      "value": " 665/665 [00:00&lt;00:00, 48.9kB/s]"
     }
    },
    "ae4319d7836042719732f534b0278911": {
     "model_module": "@jupyter-widgets/base",
     "model_module_version": "1.2.0",
     "model_name": "LayoutModel",
     "state": {
      "_model_module": "@jupyter-widgets/base",
      "_model_module_version": "1.2.0",
      "_model_name": "LayoutModel",
      "_view_count": null,
      "_view_module": "@jupyter-widgets/base",
      "_view_module_version": "1.2.0",
      "_view_name": "LayoutView",
      "align_content": null,
      "align_items": null,
      "align_self": null,
      "border": null,
      "bottom": null,
      "display": null,
      "flex": null,
      "flex_flow": null,
      "grid_area": null,
      "grid_auto_columns": null,
      "grid_auto_flow": null,
      "grid_auto_rows": null,
      "grid_column": null,
      "grid_gap": null,
      "grid_row": null,
      "grid_template_areas": null,
      "grid_template_columns": null,
      "grid_template_rows": null,
      "height": null,
      "justify_content": null,
      "justify_items": null,
      "left": null,
      "margin": null,
      "max_height": null,
      "max_width": null,
      "min_height": null,
      "min_width": null,
      "object_fit": null,
      "object_position": null,
      "order": null,
      "overflow": null,
      "overflow_x": null,
      "overflow_y": null,
      "padding": null,
      "right": null,
      "top": null,
      "visibility": null,
      "width": null
     }
    },
    "ae4952af79c94c999ce8840ff47eafa6": {
     "model_module": "@jupyter-widgets/controls",
     "model_module_version": "1.5.0",
     "model_name": "DescriptionStyleModel",
     "state": {
      "_model_module": "@jupyter-widgets/controls",
      "_model_module_version": "1.5.0",
      "_model_name": "DescriptionStyleModel",
      "_view_count": null,
      "_view_module": "@jupyter-widgets/base",
      "_view_module_version": "1.2.0",
      "_view_name": "StyleView",
      "description_width": ""
     }
    },
    "ae74b77b83d149f0b46033f1cc5eaa97": {
     "model_module": "@jupyter-widgets/controls",
     "model_module_version": "1.5.0",
     "model_name": "HBoxModel",
     "state": {
      "_dom_classes": [],
      "_model_module": "@jupyter-widgets/controls",
      "_model_module_version": "1.5.0",
      "_model_name": "HBoxModel",
      "_view_count": null,
      "_view_module": "@jupyter-widgets/controls",
      "_view_module_version": "1.5.0",
      "_view_name": "HBoxView",
      "box_style": "",
      "children": [
       "IPY_MODEL_7c63e41b1ef14c789beb725e045e852a",
       "IPY_MODEL_4ab82f287c5e479fbf825b5ff651ad97",
       "IPY_MODEL_9496761fd55d4579a3c495289893625f"
      ],
      "layout": "IPY_MODEL_16872704fb7e4ba285de5dd120d5e552"
     }
    },
    "aeaffa15d73246389cff1c6183f256d8": {
     "model_module": "@jupyter-widgets/controls",
     "model_module_version": "1.5.0",
     "model_name": "DescriptionStyleModel",
     "state": {
      "_model_module": "@jupyter-widgets/controls",
      "_model_module_version": "1.5.0",
      "_model_name": "DescriptionStyleModel",
      "_view_count": null,
      "_view_module": "@jupyter-widgets/base",
      "_view_module_version": "1.2.0",
      "_view_name": "StyleView",
      "description_width": ""
     }
    },
    "aec890ea889944fd9055e4e08d9f4e16": {
     "model_module": "@jupyter-widgets/controls",
     "model_module_version": "1.5.0",
     "model_name": "DescriptionStyleModel",
     "state": {
      "_model_module": "@jupyter-widgets/controls",
      "_model_module_version": "1.5.0",
      "_model_name": "DescriptionStyleModel",
      "_view_count": null,
      "_view_module": "@jupyter-widgets/base",
      "_view_module_version": "1.2.0",
      "_view_name": "StyleView",
      "description_width": ""
     }
    },
    "b071903e7e944164bfcaa7268fc68bc0": {
     "model_module": "@jupyter-widgets/controls",
     "model_module_version": "1.5.0",
     "model_name": "DescriptionStyleModel",
     "state": {
      "_model_module": "@jupyter-widgets/controls",
      "_model_module_version": "1.5.0",
      "_model_name": "DescriptionStyleModel",
      "_view_count": null,
      "_view_module": "@jupyter-widgets/base",
      "_view_module_version": "1.2.0",
      "_view_name": "StyleView",
      "description_width": ""
     }
    },
    "b28479cabcfe498da72fe07c6abc4489": {
     "model_module": "@jupyter-widgets/controls",
     "model_module_version": "1.5.0",
     "model_name": "FloatProgressModel",
     "state": {
      "_dom_classes": [],
      "_model_module": "@jupyter-widgets/controls",
      "_model_module_version": "1.5.0",
      "_model_name": "FloatProgressModel",
      "_view_count": null,
      "_view_module": "@jupyter-widgets/controls",
      "_view_module_version": "1.5.0",
      "_view_name": "ProgressView",
      "bar_style": "success",
      "description": "",
      "description_tooltip": null,
      "layout": "IPY_MODEL_4e99b823293f4fe2849a3149d717d1b1",
      "max": 26,
      "min": 0,
      "orientation": "horizontal",
      "style": "IPY_MODEL_6fc01cdd3b77434a825b84112e43cc5f",
      "value": 26
     }
    },
    "b2fa5bd859c14c18a5542b613d955fcc": {
     "model_module": "@jupyter-widgets/controls",
     "model_module_version": "1.5.0",
     "model_name": "ProgressStyleModel",
     "state": {
      "_model_module": "@jupyter-widgets/controls",
      "_model_module_version": "1.5.0",
      "_model_name": "ProgressStyleModel",
      "_view_count": null,
      "_view_module": "@jupyter-widgets/base",
      "_view_module_version": "1.2.0",
      "_view_name": "StyleView",
      "bar_color": null,
      "description_width": ""
     }
    },
    "b3b9c67105094d3292e8384ea633dd95": {
     "model_module": "@jupyter-widgets/controls",
     "model_module_version": "1.5.0",
     "model_name": "DescriptionStyleModel",
     "state": {
      "_model_module": "@jupyter-widgets/controls",
      "_model_module_version": "1.5.0",
      "_model_name": "DescriptionStyleModel",
      "_view_count": null,
      "_view_module": "@jupyter-widgets/base",
      "_view_module_version": "1.2.0",
      "_view_name": "StyleView",
      "description_width": ""
     }
    },
    "b663100c6d7a4b69bb13b0ef574ac7f3": {
     "model_module": "@jupyter-widgets/controls",
     "model_module_version": "1.5.0",
     "model_name": "ProgressStyleModel",
     "state": {
      "_model_module": "@jupyter-widgets/controls",
      "_model_module_version": "1.5.0",
      "_model_name": "ProgressStyleModel",
      "_view_count": null,
      "_view_module": "@jupyter-widgets/base",
      "_view_module_version": "1.2.0",
      "_view_name": "StyleView",
      "bar_color": null,
      "description_width": ""
     }
    },
    "b706089111f945529dcdf78145f1398d": {
     "model_module": "@jupyter-widgets/controls",
     "model_module_version": "1.5.0",
     "model_name": "HBoxModel",
     "state": {
      "_dom_classes": [],
      "_model_module": "@jupyter-widgets/controls",
      "_model_module_version": "1.5.0",
      "_model_name": "HBoxModel",
      "_view_count": null,
      "_view_module": "@jupyter-widgets/controls",
      "_view_module_version": "1.5.0",
      "_view_name": "HBoxView",
      "box_style": "",
      "children": [
       "IPY_MODEL_5779fe09f4914c61bc439f8b47f6430b",
       "IPY_MODEL_d63b8397024642f6802a651e9865a37b",
       "IPY_MODEL_4b0692d527fd42db92e99eb11ae09c9d"
      ],
      "layout": "IPY_MODEL_c88b23c7e0264711a86c706d69c963d5"
     }
    },
    "b87c038b019d47f9bff66152222ba561": {
     "model_module": "@jupyter-widgets/base",
     "model_module_version": "1.2.0",
     "model_name": "LayoutModel",
     "state": {
      "_model_module": "@jupyter-widgets/base",
      "_model_module_version": "1.2.0",
      "_model_name": "LayoutModel",
      "_view_count": null,
      "_view_module": "@jupyter-widgets/base",
      "_view_module_version": "1.2.0",
      "_view_name": "LayoutView",
      "align_content": null,
      "align_items": null,
      "align_self": null,
      "border": null,
      "bottom": null,
      "display": null,
      "flex": null,
      "flex_flow": null,
      "grid_area": null,
      "grid_auto_columns": null,
      "grid_auto_flow": null,
      "grid_auto_rows": null,
      "grid_column": null,
      "grid_gap": null,
      "grid_row": null,
      "grid_template_areas": null,
      "grid_template_columns": null,
      "grid_template_rows": null,
      "height": null,
      "justify_content": null,
      "justify_items": null,
      "left": null,
      "margin": null,
      "max_height": null,
      "max_width": null,
      "min_height": null,
      "min_width": null,
      "object_fit": null,
      "object_position": null,
      "order": null,
      "overflow": null,
      "overflow_x": null,
      "overflow_y": null,
      "padding": null,
      "right": null,
      "top": null,
      "visibility": null,
      "width": null
     }
    },
    "b9e8fb0173fe4c94a67aa928d82ed194": {
     "model_module": "@jupyter-widgets/controls",
     "model_module_version": "1.5.0",
     "model_name": "HTMLModel",
     "state": {
      "_dom_classes": [],
      "_model_module": "@jupyter-widgets/controls",
      "_model_module_version": "1.5.0",
      "_model_name": "HTMLModel",
      "_view_count": null,
      "_view_module": "@jupyter-widgets/controls",
      "_view_module_version": "1.5.0",
      "_view_name": "HTMLView",
      "description": "",
      "description_tooltip": null,
      "layout": "IPY_MODEL_dcb1332e0c0e42a09a802fea5a033e4e",
      "placeholder": "​",
      "style": "IPY_MODEL_c39850f41ccd4dc5a3cf1d10e3d0b6ff",
      "value": " 456k/456k [00:00&lt;00:00, 663kB/s]"
     }
    },
    "bbaf85d5694646b6829cd4511a291e9c": {
     "model_module": "@jupyter-widgets/controls",
     "model_module_version": "1.5.0",
     "model_name": "DescriptionStyleModel",
     "state": {
      "_model_module": "@jupyter-widgets/controls",
      "_model_module_version": "1.5.0",
      "_model_name": "DescriptionStyleModel",
      "_view_count": null,
      "_view_module": "@jupyter-widgets/base",
      "_view_module_version": "1.2.0",
      "_view_name": "StyleView",
      "description_width": ""
     }
    },
    "bc5b45367b224bf2b4a9e09ecfb0fb19": {
     "model_module": "@jupyter-widgets/base",
     "model_module_version": "1.2.0",
     "model_name": "LayoutModel",
     "state": {
      "_model_module": "@jupyter-widgets/base",
      "_model_module_version": "1.2.0",
      "_model_name": "LayoutModel",
      "_view_count": null,
      "_view_module": "@jupyter-widgets/base",
      "_view_module_version": "1.2.0",
      "_view_name": "LayoutView",
      "align_content": null,
      "align_items": null,
      "align_self": null,
      "border": null,
      "bottom": null,
      "display": null,
      "flex": null,
      "flex_flow": null,
      "grid_area": null,
      "grid_auto_columns": null,
      "grid_auto_flow": null,
      "grid_auto_rows": null,
      "grid_column": null,
      "grid_gap": null,
      "grid_row": null,
      "grid_template_areas": null,
      "grid_template_columns": null,
      "grid_template_rows": null,
      "height": null,
      "justify_content": null,
      "justify_items": null,
      "left": null,
      "margin": null,
      "max_height": null,
      "max_width": null,
      "min_height": null,
      "min_width": null,
      "object_fit": null,
      "object_position": null,
      "order": null,
      "overflow": null,
      "overflow_x": null,
      "overflow_y": null,
      "padding": null,
      "right": null,
      "top": null,
      "visibility": null,
      "width": null
     }
    },
    "bca0bd572f30455fbecbac5545ce7f84": {
     "model_module": "@jupyter-widgets/controls",
     "model_module_version": "1.5.0",
     "model_name": "DescriptionStyleModel",
     "state": {
      "_model_module": "@jupyter-widgets/controls",
      "_model_module_version": "1.5.0",
      "_model_name": "DescriptionStyleModel",
      "_view_count": null,
      "_view_module": "@jupyter-widgets/base",
      "_view_module_version": "1.2.0",
      "_view_name": "StyleView",
      "description_width": ""
     }
    },
    "beafda32492248e9a2e46d9d5b488e53": {
     "model_module": "@jupyter-widgets/controls",
     "model_module_version": "1.5.0",
     "model_name": "HTMLModel",
     "state": {
      "_dom_classes": [],
      "_model_module": "@jupyter-widgets/controls",
      "_model_module_version": "1.5.0",
      "_model_name": "HTMLModel",
      "_view_count": null,
      "_view_module": "@jupyter-widgets/controls",
      "_view_module_version": "1.5.0",
      "_view_name": "HTMLView",
      "description": "",
      "description_tooltip": null,
      "layout": "IPY_MODEL_d6d838ffabda4b53bb7808da6990e9d3",
      "placeholder": "​",
      "style": "IPY_MODEL_d51fbe4b82e6423b897b967ad132cdca",
      "value": "tokenizer.json: 100%"
     }
    },
    "bf91659241034377afeedf6adfc3a9fc": {
     "model_module": "@jupyter-widgets/controls",
     "model_module_version": "1.5.0",
     "model_name": "ProgressStyleModel",
     "state": {
      "_model_module": "@jupyter-widgets/controls",
      "_model_module_version": "1.5.0",
      "_model_name": "ProgressStyleModel",
      "_view_count": null,
      "_view_module": "@jupyter-widgets/base",
      "_view_module_version": "1.2.0",
      "_view_name": "StyleView",
      "bar_color": null,
      "description_width": ""
     }
    },
    "bfdc0f106ae249acb85f717864c32ad0": {
     "model_module": "@jupyter-widgets/base",
     "model_module_version": "1.2.0",
     "model_name": "LayoutModel",
     "state": {
      "_model_module": "@jupyter-widgets/base",
      "_model_module_version": "1.2.0",
      "_model_name": "LayoutModel",
      "_view_count": null,
      "_view_module": "@jupyter-widgets/base",
      "_view_module_version": "1.2.0",
      "_view_name": "LayoutView",
      "align_content": null,
      "align_items": null,
      "align_self": null,
      "border": null,
      "bottom": null,
      "display": null,
      "flex": null,
      "flex_flow": null,
      "grid_area": null,
      "grid_auto_columns": null,
      "grid_auto_flow": null,
      "grid_auto_rows": null,
      "grid_column": null,
      "grid_gap": null,
      "grid_row": null,
      "grid_template_areas": null,
      "grid_template_columns": null,
      "grid_template_rows": null,
      "height": null,
      "justify_content": null,
      "justify_items": null,
      "left": null,
      "margin": null,
      "max_height": null,
      "max_width": null,
      "min_height": null,
      "min_width": null,
      "object_fit": null,
      "object_position": null,
      "order": null,
      "overflow": null,
      "overflow_x": null,
      "overflow_y": null,
      "padding": null,
      "right": null,
      "top": null,
      "visibility": null,
      "width": null
     }
    },
    "bff2d4f6e7384c199996fe623e74d9ea": {
     "model_module": "@jupyter-widgets/base",
     "model_module_version": "1.2.0",
     "model_name": "LayoutModel",
     "state": {
      "_model_module": "@jupyter-widgets/base",
      "_model_module_version": "1.2.0",
      "_model_name": "LayoutModel",
      "_view_count": null,
      "_view_module": "@jupyter-widgets/base",
      "_view_module_version": "1.2.0",
      "_view_name": "LayoutView",
      "align_content": null,
      "align_items": null,
      "align_self": null,
      "border": null,
      "bottom": null,
      "display": null,
      "flex": null,
      "flex_flow": null,
      "grid_area": null,
      "grid_auto_columns": null,
      "grid_auto_flow": null,
      "grid_auto_rows": null,
      "grid_column": null,
      "grid_gap": null,
      "grid_row": null,
      "grid_template_areas": null,
      "grid_template_columns": null,
      "grid_template_rows": null,
      "height": null,
      "justify_content": null,
      "justify_items": null,
      "left": null,
      "margin": null,
      "max_height": null,
      "max_width": null,
      "min_height": null,
      "min_width": null,
      "object_fit": null,
      "object_position": null,
      "order": null,
      "overflow": null,
      "overflow_x": null,
      "overflow_y": null,
      "padding": null,
      "right": null,
      "top": null,
      "visibility": null,
      "width": null
     }
    },
    "c290d2f110354f8ca85eb8c639d769b5": {
     "model_module": "@jupyter-widgets/base",
     "model_module_version": "1.2.0",
     "model_name": "LayoutModel",
     "state": {
      "_model_module": "@jupyter-widgets/base",
      "_model_module_version": "1.2.0",
      "_model_name": "LayoutModel",
      "_view_count": null,
      "_view_module": "@jupyter-widgets/base",
      "_view_module_version": "1.2.0",
      "_view_name": "LayoutView",
      "align_content": null,
      "align_items": null,
      "align_self": null,
      "border": null,
      "bottom": null,
      "display": null,
      "flex": null,
      "flex_flow": null,
      "grid_area": null,
      "grid_auto_columns": null,
      "grid_auto_flow": null,
      "grid_auto_rows": null,
      "grid_column": null,
      "grid_gap": null,
      "grid_row": null,
      "grid_template_areas": null,
      "grid_template_columns": null,
      "grid_template_rows": null,
      "height": null,
      "justify_content": null,
      "justify_items": null,
      "left": null,
      "margin": null,
      "max_height": null,
      "max_width": null,
      "min_height": null,
      "min_width": null,
      "object_fit": null,
      "object_position": null,
      "order": null,
      "overflow": null,
      "overflow_x": null,
      "overflow_y": null,
      "padding": null,
      "right": null,
      "top": null,
      "visibility": null,
      "width": null
     }
    },
    "c2e43349e7544df996161986b80a9c24": {
     "model_module": "@jupyter-widgets/controls",
     "model_module_version": "1.5.0",
     "model_name": "FloatProgressModel",
     "state": {
      "_dom_classes": [],
      "_model_module": "@jupyter-widgets/controls",
      "_model_module_version": "1.5.0",
      "_model_name": "FloatProgressModel",
      "_view_count": null,
      "_view_module": "@jupyter-widgets/controls",
      "_view_module_version": "1.5.0",
      "_view_name": "ProgressView",
      "bar_style": "success",
      "description": "",
      "description_tooltip": null,
      "layout": "IPY_MODEL_749427350fc24c1b8a4f810a04862895",
      "max": 227146782,
      "min": 0,
      "orientation": "horizontal",
      "style": "IPY_MODEL_6a4995c436e74ece9b760d16e6037e70",
      "value": 227146782
     }
    },
    "c39850f41ccd4dc5a3cf1d10e3d0b6ff": {
     "model_module": "@jupyter-widgets/controls",
     "model_module_version": "1.5.0",
     "model_name": "DescriptionStyleModel",
     "state": {
      "_model_module": "@jupyter-widgets/controls",
      "_model_module_version": "1.5.0",
      "_model_name": "DescriptionStyleModel",
      "_view_count": null,
      "_view_module": "@jupyter-widgets/base",
      "_view_module_version": "1.2.0",
      "_view_name": "StyleView",
      "description_width": ""
     }
    },
    "c61ab09b21564a9e9abbbe98e20c4880": {
     "model_module": "@jupyter-widgets/base",
     "model_module_version": "1.2.0",
     "model_name": "LayoutModel",
     "state": {
      "_model_module": "@jupyter-widgets/base",
      "_model_module_version": "1.2.0",
      "_model_name": "LayoutModel",
      "_view_count": null,
      "_view_module": "@jupyter-widgets/base",
      "_view_module_version": "1.2.0",
      "_view_name": "LayoutView",
      "align_content": null,
      "align_items": null,
      "align_self": null,
      "border": null,
      "bottom": null,
      "display": null,
      "flex": null,
      "flex_flow": null,
      "grid_area": null,
      "grid_auto_columns": null,
      "grid_auto_flow": null,
      "grid_auto_rows": null,
      "grid_column": null,
      "grid_gap": null,
      "grid_row": null,
      "grid_template_areas": null,
      "grid_template_columns": null,
      "grid_template_rows": null,
      "height": null,
      "justify_content": null,
      "justify_items": null,
      "left": null,
      "margin": null,
      "max_height": null,
      "max_width": null,
      "min_height": null,
      "min_width": null,
      "object_fit": null,
      "object_position": null,
      "order": null,
      "overflow": null,
      "overflow_x": null,
      "overflow_y": null,
      "padding": null,
      "right": null,
      "top": null,
      "visibility": null,
      "width": null
     }
    },
    "c66e81c725054e449afa1879feb45b12": {
     "model_module": "@jupyter-widgets/controls",
     "model_module_version": "1.5.0",
     "model_name": "ProgressStyleModel",
     "state": {
      "_model_module": "@jupyter-widgets/controls",
      "_model_module_version": "1.5.0",
      "_model_name": "ProgressStyleModel",
      "_view_count": null,
      "_view_module": "@jupyter-widgets/base",
      "_view_module_version": "1.2.0",
      "_view_name": "StyleView",
      "bar_color": null,
      "description_width": ""
     }
    },
    "c6a84e14c4c74a53b856ea07ee04ba32": {
     "model_module": "@jupyter-widgets/base",
     "model_module_version": "1.2.0",
     "model_name": "LayoutModel",
     "state": {
      "_model_module": "@jupyter-widgets/base",
      "_model_module_version": "1.2.0",
      "_model_name": "LayoutModel",
      "_view_count": null,
      "_view_module": "@jupyter-widgets/base",
      "_view_module_version": "1.2.0",
      "_view_name": "LayoutView",
      "align_content": null,
      "align_items": null,
      "align_self": null,
      "border": null,
      "bottom": null,
      "display": null,
      "flex": null,
      "flex_flow": null,
      "grid_area": null,
      "grid_auto_columns": null,
      "grid_auto_flow": null,
      "grid_auto_rows": null,
      "grid_column": null,
      "grid_gap": null,
      "grid_row": null,
      "grid_template_areas": null,
      "grid_template_columns": null,
      "grid_template_rows": null,
      "height": null,
      "justify_content": null,
      "justify_items": null,
      "left": null,
      "margin": null,
      "max_height": null,
      "max_width": null,
      "min_height": null,
      "min_width": null,
      "object_fit": null,
      "object_position": null,
      "order": null,
      "overflow": null,
      "overflow_x": null,
      "overflow_y": null,
      "padding": null,
      "right": null,
      "top": null,
      "visibility": null,
      "width": null
     }
    },
    "c709fa7d2cbc423facb5cc0a9fc48162": {
     "model_module": "@jupyter-widgets/controls",
     "model_module_version": "1.5.0",
     "model_name": "HTMLModel",
     "state": {
      "_dom_classes": [],
      "_model_module": "@jupyter-widgets/controls",
      "_model_module_version": "1.5.0",
      "_model_name": "HTMLModel",
      "_view_count": null,
      "_view_module": "@jupyter-widgets/controls",
      "_view_module_version": "1.5.0",
      "_view_name": "HTMLView",
      "description": "",
      "description_tooltip": null,
      "layout": "IPY_MODEL_a0ba61bfdb1440f4a7177fb9f68a5164",
      "placeholder": "​",
      "style": "IPY_MODEL_7db4d81e833e41749d77409c645c24ae",
      "value": "tokenizer_config.json: 100%"
     }
    },
    "c784fa964ba34a81baae44887046482a": {
     "model_module": "@jupyter-widgets/controls",
     "model_module_version": "1.5.0",
     "model_name": "HBoxModel",
     "state": {
      "_dom_classes": [],
      "_model_module": "@jupyter-widgets/controls",
      "_model_module_version": "1.5.0",
      "_model_name": "HBoxModel",
      "_view_count": null,
      "_view_module": "@jupyter-widgets/controls",
      "_view_module_version": "1.5.0",
      "_view_name": "HBoxView",
      "box_style": "",
      "children": [
       "IPY_MODEL_beafda32492248e9a2e46d9d5b488e53",
       "IPY_MODEL_333b3de54b054898aefcc5ddfc20f99a",
       "IPY_MODEL_cbd315b94e17475396a5dc418e4e144e"
      ],
      "layout": "IPY_MODEL_d16cc620f94849abb5d7145e9ec81e50"
     }
    },
    "c7e3f5ef0e9940628a2c8294f47ee9eb": {
     "model_module": "@jupyter-widgets/base",
     "model_module_version": "1.2.0",
     "model_name": "LayoutModel",
     "state": {
      "_model_module": "@jupyter-widgets/base",
      "_model_module_version": "1.2.0",
      "_model_name": "LayoutModel",
      "_view_count": null,
      "_view_module": "@jupyter-widgets/base",
      "_view_module_version": "1.2.0",
      "_view_name": "LayoutView",
      "align_content": null,
      "align_items": null,
      "align_self": null,
      "border": null,
      "bottom": null,
      "display": null,
      "flex": null,
      "flex_flow": null,
      "grid_area": null,
      "grid_auto_columns": null,
      "grid_auto_flow": null,
      "grid_auto_rows": null,
      "grid_column": null,
      "grid_gap": null,
      "grid_row": null,
      "grid_template_areas": null,
      "grid_template_columns": null,
      "grid_template_rows": null,
      "height": null,
      "justify_content": null,
      "justify_items": null,
      "left": null,
      "margin": null,
      "max_height": null,
      "max_width": null,
      "min_height": null,
      "min_width": null,
      "object_fit": null,
      "object_position": null,
      "order": null,
      "overflow": null,
      "overflow_x": null,
      "overflow_y": null,
      "padding": null,
      "right": null,
      "top": null,
      "visibility": null,
      "width": null
     }
    },
    "c88b23c7e0264711a86c706d69c963d5": {
     "model_module": "@jupyter-widgets/base",
     "model_module_version": "1.2.0",
     "model_name": "LayoutModel",
     "state": {
      "_model_module": "@jupyter-widgets/base",
      "_model_module_version": "1.2.0",
      "_model_name": "LayoutModel",
      "_view_count": null,
      "_view_module": "@jupyter-widgets/base",
      "_view_module_version": "1.2.0",
      "_view_name": "LayoutView",
      "align_content": null,
      "align_items": null,
      "align_self": null,
      "border": null,
      "bottom": null,
      "display": null,
      "flex": null,
      "flex_flow": null,
      "grid_area": null,
      "grid_auto_columns": null,
      "grid_auto_flow": null,
      "grid_auto_rows": null,
      "grid_column": null,
      "grid_gap": null,
      "grid_row": null,
      "grid_template_areas": null,
      "grid_template_columns": null,
      "grid_template_rows": null,
      "height": null,
      "justify_content": null,
      "justify_items": null,
      "left": null,
      "margin": null,
      "max_height": null,
      "max_width": null,
      "min_height": null,
      "min_width": null,
      "object_fit": null,
      "object_position": null,
      "order": null,
      "overflow": null,
      "overflow_x": null,
      "overflow_y": null,
      "padding": null,
      "right": null,
      "top": null,
      "visibility": null,
      "width": null
     }
    },
    "c90e4b3aca424545afab38e495bc1fba": {
     "model_module": "@jupyter-widgets/controls",
     "model_module_version": "1.5.0",
     "model_name": "ProgressStyleModel",
     "state": {
      "_model_module": "@jupyter-widgets/controls",
      "_model_module_version": "1.5.0",
      "_model_name": "ProgressStyleModel",
      "_view_count": null,
      "_view_module": "@jupyter-widgets/base",
      "_view_module_version": "1.2.0",
      "_view_name": "StyleView",
      "bar_color": null,
      "description_width": ""
     }
    },
    "c992fca0c967437f9671e7f81520fe89": {
     "model_module": "@jupyter-widgets/base",
     "model_module_version": "1.2.0",
     "model_name": "LayoutModel",
     "state": {
      "_model_module": "@jupyter-widgets/base",
      "_model_module_version": "1.2.0",
      "_model_name": "LayoutModel",
      "_view_count": null,
      "_view_module": "@jupyter-widgets/base",
      "_view_module_version": "1.2.0",
      "_view_name": "LayoutView",
      "align_content": null,
      "align_items": null,
      "align_self": null,
      "border": null,
      "bottom": null,
      "display": null,
      "flex": null,
      "flex_flow": null,
      "grid_area": null,
      "grid_auto_columns": null,
      "grid_auto_flow": null,
      "grid_auto_rows": null,
      "grid_column": null,
      "grid_gap": null,
      "grid_row": null,
      "grid_template_areas": null,
      "grid_template_columns": null,
      "grid_template_rows": null,
      "height": null,
      "justify_content": null,
      "justify_items": null,
      "left": null,
      "margin": null,
      "max_height": null,
      "max_width": null,
      "min_height": null,
      "min_width": null,
      "object_fit": null,
      "object_position": null,
      "order": null,
      "overflow": null,
      "overflow_x": null,
      "overflow_y": null,
      "padding": null,
      "right": null,
      "top": null,
      "visibility": null,
      "width": null
     }
    },
    "ca25994035f34b55a0d86deba76a9ed1": {
     "model_module": "@jupyter-widgets/controls",
     "model_module_version": "1.5.0",
     "model_name": "HTMLModel",
     "state": {
      "_dom_classes": [],
      "_model_module": "@jupyter-widgets/controls",
      "_model_module_version": "1.5.0",
      "_model_name": "HTMLModel",
      "_view_count": null,
      "_view_module": "@jupyter-widgets/controls",
      "_view_module_version": "1.5.0",
      "_view_name": "HTMLView",
      "description": "",
      "description_tooltip": null,
      "layout": "IPY_MODEL_c290d2f110354f8ca85eb8c639d769b5",
      "placeholder": "​",
      "style": "IPY_MODEL_a45c245a3b004238bc39263573f2d649",
      "value": " 227M/227M [00:00&lt;00:00, 255MB/s]"
     }
    },
    "cbd315b94e17475396a5dc418e4e144e": {
     "model_module": "@jupyter-widgets/controls",
     "model_module_version": "1.5.0",
     "model_name": "HTMLModel",
     "state": {
      "_dom_classes": [],
      "_model_module": "@jupyter-widgets/controls",
      "_model_module_version": "1.5.0",
      "_model_name": "HTMLModel",
      "_view_count": null,
      "_view_module": "@jupyter-widgets/controls",
      "_view_module_version": "1.5.0",
      "_view_name": "HTMLView",
      "description": "",
      "description_tooltip": null,
      "layout": "IPY_MODEL_fc150f600e484b1eb413ff02d6268f4d",
      "placeholder": "​",
      "style": "IPY_MODEL_bca0bd572f30455fbecbac5545ce7f84",
      "value": " 1.36M/1.36M [00:00&lt;00:00, 5.52MB/s]"
     }
    },
    "d15a2f9b622a47b086afcf2d4a51287b": {
     "model_module": "@jupyter-widgets/controls",
     "model_module_version": "1.5.0",
     "model_name": "HTMLModel",
     "state": {
      "_dom_classes": [],
      "_model_module": "@jupyter-widgets/controls",
      "_model_module_version": "1.5.0",
      "_model_name": "HTMLModel",
      "_view_count": null,
      "_view_module": "@jupyter-widgets/controls",
      "_view_module_version": "1.5.0",
      "_view_name": "HTMLView",
      "description": "",
      "description_tooltip": null,
      "layout": "IPY_MODEL_b87c038b019d47f9bff66152222ba561",
      "placeholder": "​",
      "style": "IPY_MODEL_1bacd9dcdc904b7a9f8542307c04c279",
      "value": "tokens_000022282240.pth: 100%"
     }
    },
    "d16cc620f94849abb5d7145e9ec81e50": {
     "model_module": "@jupyter-widgets/base",
     "model_module_version": "1.2.0",
     "model_name": "LayoutModel",
     "state": {
      "_model_module": "@jupyter-widgets/base",
      "_model_module_version": "1.2.0",
      "_model_name": "LayoutModel",
      "_view_count": null,
      "_view_module": "@jupyter-widgets/base",
      "_view_module_version": "1.2.0",
      "_view_name": "LayoutView",
      "align_content": null,
      "align_items": null,
      "align_self": null,
      "border": null,
      "bottom": null,
      "display": null,
      "flex": null,
      "flex_flow": null,
      "grid_area": null,
      "grid_auto_columns": null,
      "grid_auto_flow": null,
      "grid_auto_rows": null,
      "grid_column": null,
      "grid_gap": null,
      "grid_row": null,
      "grid_template_areas": null,
      "grid_template_columns": null,
      "grid_template_rows": null,
      "height": null,
      "justify_content": null,
      "justify_items": null,
      "left": null,
      "margin": null,
      "max_height": null,
      "max_width": null,
      "min_height": null,
      "min_width": null,
      "object_fit": null,
      "object_position": null,
      "order": null,
      "overflow": null,
      "overflow_x": null,
      "overflow_y": null,
      "padding": null,
      "right": null,
      "top": null,
      "visibility": null,
      "width": null
     }
    },
    "d17378f8677246b6933e4d65a2d14a0c": {
     "model_module": "@jupyter-widgets/controls",
     "model_module_version": "1.5.0",
     "model_name": "HTMLModel",
     "state": {
      "_dom_classes": [],
      "_model_module": "@jupyter-widgets/controls",
      "_model_module_version": "1.5.0",
      "_model_name": "HTMLModel",
      "_view_count": null,
      "_view_module": "@jupyter-widgets/controls",
      "_view_module_version": "1.5.0",
      "_view_name": "HTMLView",
      "description": "",
      "description_tooltip": null,
      "layout": "IPY_MODEL_119cb26fa31b48a98114bebc4141da39",
      "placeholder": "​",
      "style": "IPY_MODEL_5fe45d6b94af4d1a90e7c54c5086db5c",
      "value": "tokenizer.json: 100%"
     }
    },
    "d2ac96f36ede4e4fbe2220750f6114fd": {
     "model_module": "@jupyter-widgets/controls",
     "model_module_version": "1.5.0",
     "model_name": "HBoxModel",
     "state": {
      "_dom_classes": [],
      "_model_module": "@jupyter-widgets/controls",
      "_model_module_version": "1.5.0",
      "_model_name": "HBoxModel",
      "_view_count": null,
      "_view_module": "@jupyter-widgets/controls",
      "_view_module_version": "1.5.0",
      "_view_name": "HBoxView",
      "box_style": "",
      "children": [
       "IPY_MODEL_6f5ba7b718724da08b3e07d66cf8b84c",
       "IPY_MODEL_5dbb775c57be4cbdbdca02885d986613",
       "IPY_MODEL_88029156398247759dafe933e89da0a2"
      ],
      "layout": "IPY_MODEL_d98cb3a3af374fdb89a699a0efcb5d78"
     }
    },
    "d3e1b8a4a5ed4c60a956821b23f60435": {
     "model_module": "@jupyter-widgets/base",
     "model_module_version": "1.2.0",
     "model_name": "LayoutModel",
     "state": {
      "_model_module": "@jupyter-widgets/base",
      "_model_module_version": "1.2.0",
      "_model_name": "LayoutModel",
      "_view_count": null,
      "_view_module": "@jupyter-widgets/base",
      "_view_module_version": "1.2.0",
      "_view_name": "LayoutView",
      "align_content": null,
      "align_items": null,
      "align_self": null,
      "border": null,
      "bottom": null,
      "display": null,
      "flex": null,
      "flex_flow": null,
      "grid_area": null,
      "grid_auto_columns": null,
      "grid_auto_flow": null,
      "grid_auto_rows": null,
      "grid_column": null,
      "grid_gap": null,
      "grid_row": null,
      "grid_template_areas": null,
      "grid_template_columns": null,
      "grid_template_rows": null,
      "height": null,
      "justify_content": null,
      "justify_items": null,
      "left": null,
      "margin": null,
      "max_height": null,
      "max_width": null,
      "min_height": null,
      "min_width": null,
      "object_fit": null,
      "object_position": null,
      "order": null,
      "overflow": null,
      "overflow_x": null,
      "overflow_y": null,
      "padding": null,
      "right": null,
      "top": null,
      "visibility": null,
      "width": null
     }
    },
    "d517c4b53f1a42558fafa37c75a8da3f": {
     "model_module": "@jupyter-widgets/controls",
     "model_module_version": "1.5.0",
     "model_name": "DescriptionStyleModel",
     "state": {
      "_model_module": "@jupyter-widgets/controls",
      "_model_module_version": "1.5.0",
      "_model_name": "DescriptionStyleModel",
      "_view_count": null,
      "_view_module": "@jupyter-widgets/base",
      "_view_module_version": "1.2.0",
      "_view_name": "StyleView",
      "description_width": ""
     }
    },
    "d51fbe4b82e6423b897b967ad132cdca": {
     "model_module": "@jupyter-widgets/controls",
     "model_module_version": "1.5.0",
     "model_name": "DescriptionStyleModel",
     "state": {
      "_model_module": "@jupyter-widgets/controls",
      "_model_module_version": "1.5.0",
      "_model_name": "DescriptionStyleModel",
      "_view_count": null,
      "_view_module": "@jupyter-widgets/base",
      "_view_module_version": "1.2.0",
      "_view_name": "StyleView",
      "description_width": ""
     }
    },
    "d57f933cfb73461bb39166b84c5b033a": {
     "model_module": "@jupyter-widgets/base",
     "model_module_version": "1.2.0",
     "model_name": "LayoutModel",
     "state": {
      "_model_module": "@jupyter-widgets/base",
      "_model_module_version": "1.2.0",
      "_model_name": "LayoutModel",
      "_view_count": null,
      "_view_module": "@jupyter-widgets/base",
      "_view_module_version": "1.2.0",
      "_view_name": "LayoutView",
      "align_content": null,
      "align_items": null,
      "align_self": null,
      "border": null,
      "bottom": null,
      "display": null,
      "flex": null,
      "flex_flow": null,
      "grid_area": null,
      "grid_auto_columns": null,
      "grid_auto_flow": null,
      "grid_auto_rows": null,
      "grid_column": null,
      "grid_gap": null,
      "grid_row": null,
      "grid_template_areas": null,
      "grid_template_columns": null,
      "grid_template_rows": null,
      "height": null,
      "justify_content": null,
      "justify_items": null,
      "left": null,
      "margin": null,
      "max_height": null,
      "max_width": null,
      "min_height": null,
      "min_width": null,
      "object_fit": null,
      "object_position": null,
      "order": null,
      "overflow": null,
      "overflow_x": null,
      "overflow_y": null,
      "padding": null,
      "right": null,
      "top": null,
      "visibility": null,
      "width": null
     }
    },
    "d63b8397024642f6802a651e9865a37b": {
     "model_module": "@jupyter-widgets/controls",
     "model_module_version": "1.5.0",
     "model_name": "FloatProgressModel",
     "state": {
      "_dom_classes": [],
      "_model_module": "@jupyter-widgets/controls",
      "_model_module_version": "1.5.0",
      "_model_name": "FloatProgressModel",
      "_view_count": null,
      "_view_module": "@jupyter-widgets/controls",
      "_view_module_version": "1.5.0",
      "_view_name": "ProgressView",
      "bar_style": "success",
      "description": "",
      "description_tooltip": null,
      "layout": "IPY_MODEL_2e8da6689884478892327391957b5eaa",
      "max": 762,
      "min": 0,
      "orientation": "horizontal",
      "style": "IPY_MODEL_1e80c977272e41378abd523c60f581ec",
      "value": 762
     }
    },
    "d666cdf3e2c64cff9cafb5507e622b02": {
     "model_module": "@jupyter-widgets/controls",
     "model_module_version": "1.5.0",
     "model_name": "DescriptionStyleModel",
     "state": {
      "_model_module": "@jupyter-widgets/controls",
      "_model_module_version": "1.5.0",
      "_model_name": "DescriptionStyleModel",
      "_view_count": null,
      "_view_module": "@jupyter-widgets/base",
      "_view_module_version": "1.2.0",
      "_view_name": "StyleView",
      "description_width": ""
     }
    },
    "d6d838ffabda4b53bb7808da6990e9d3": {
     "model_module": "@jupyter-widgets/base",
     "model_module_version": "1.2.0",
     "model_name": "LayoutModel",
     "state": {
      "_model_module": "@jupyter-widgets/base",
      "_model_module_version": "1.2.0",
      "_model_name": "LayoutModel",
      "_view_count": null,
      "_view_module": "@jupyter-widgets/base",
      "_view_module_version": "1.2.0",
      "_view_name": "LayoutView",
      "align_content": null,
      "align_items": null,
      "align_self": null,
      "border": null,
      "bottom": null,
      "display": null,
      "flex": null,
      "flex_flow": null,
      "grid_area": null,
      "grid_auto_columns": null,
      "grid_auto_flow": null,
      "grid_auto_rows": null,
      "grid_column": null,
      "grid_gap": null,
      "grid_row": null,
      "grid_template_areas": null,
      "grid_template_columns": null,
      "grid_template_rows": null,
      "height": null,
      "justify_content": null,
      "justify_items": null,
      "left": null,
      "margin": null,
      "max_height": null,
      "max_width": null,
      "min_height": null,
      "min_width": null,
      "object_fit": null,
      "object_position": null,
      "order": null,
      "overflow": null,
      "overflow_x": null,
      "overflow_y": null,
      "padding": null,
      "right": null,
      "top": null,
      "visibility": null,
      "width": null
     }
    },
    "d8bd0a9ccbf04498b1fe87702a16a083": {
     "model_module": "@jupyter-widgets/controls",
     "model_module_version": "1.5.0",
     "model_name": "HBoxModel",
     "state": {
      "_dom_classes": [],
      "_model_module": "@jupyter-widgets/controls",
      "_model_module_version": "1.5.0",
      "_model_name": "HBoxModel",
      "_view_count": null,
      "_view_module": "@jupyter-widgets/controls",
      "_view_module_version": "1.5.0",
      "_view_name": "HBoxView",
      "box_style": "",
      "children": [
       "IPY_MODEL_4dd76e6b5c1743d688795f43be6f9040",
       "IPY_MODEL_2aec638194114da2bd1079227127940d",
       "IPY_MODEL_663578b64bb142678b88cbea396bbdf4"
      ],
      "layout": "IPY_MODEL_0e9c54fb8c06418b9c29b78c00abfcd8"
     }
    },
    "d961ebbc3c2d4102b544d3a7d11df73b": {
     "model_module": "@jupyter-widgets/controls",
     "model_module_version": "1.5.0",
     "model_name": "DescriptionStyleModel",
     "state": {
      "_model_module": "@jupyter-widgets/controls",
      "_model_module_version": "1.5.0",
      "_model_name": "DescriptionStyleModel",
      "_view_count": null,
      "_view_module": "@jupyter-widgets/base",
      "_view_module_version": "1.2.0",
      "_view_name": "StyleView",
      "description_width": ""
     }
    },
    "d98cb3a3af374fdb89a699a0efcb5d78": {
     "model_module": "@jupyter-widgets/base",
     "model_module_version": "1.2.0",
     "model_name": "LayoutModel",
     "state": {
      "_model_module": "@jupyter-widgets/base",
      "_model_module_version": "1.2.0",
      "_model_name": "LayoutModel",
      "_view_count": null,
      "_view_module": "@jupyter-widgets/base",
      "_view_module_version": "1.2.0",
      "_view_name": "LayoutView",
      "align_content": null,
      "align_items": null,
      "align_self": null,
      "border": null,
      "bottom": null,
      "display": null,
      "flex": null,
      "flex_flow": null,
      "grid_area": null,
      "grid_auto_columns": null,
      "grid_auto_flow": null,
      "grid_auto_rows": null,
      "grid_column": null,
      "grid_gap": null,
      "grid_row": null,
      "grid_template_areas": null,
      "grid_template_columns": null,
      "grid_template_rows": null,
      "height": null,
      "justify_content": null,
      "justify_items": null,
      "left": null,
      "margin": null,
      "max_height": null,
      "max_width": null,
      "min_height": null,
      "min_width": null,
      "object_fit": null,
      "object_position": null,
      "order": null,
      "overflow": null,
      "overflow_x": null,
      "overflow_y": null,
      "padding": null,
      "right": null,
      "top": null,
      "visibility": null,
      "width": null
     }
    },
    "daa3579d52f54fa1af09016de78e460b": {
     "model_module": "@jupyter-widgets/base",
     "model_module_version": "1.2.0",
     "model_name": "LayoutModel",
     "state": {
      "_model_module": "@jupyter-widgets/base",
      "_model_module_version": "1.2.0",
      "_model_name": "LayoutModel",
      "_view_count": null,
      "_view_module": "@jupyter-widgets/base",
      "_view_module_version": "1.2.0",
      "_view_name": "LayoutView",
      "align_content": null,
      "align_items": null,
      "align_self": null,
      "border": null,
      "bottom": null,
      "display": null,
      "flex": null,
      "flex_flow": null,
      "grid_area": null,
      "grid_auto_columns": null,
      "grid_auto_flow": null,
      "grid_auto_rows": null,
      "grid_column": null,
      "grid_gap": null,
      "grid_row": null,
      "grid_template_areas": null,
      "grid_template_columns": null,
      "grid_template_rows": null,
      "height": null,
      "justify_content": null,
      "justify_items": null,
      "left": null,
      "margin": null,
      "max_height": null,
      "max_width": null,
      "min_height": null,
      "min_width": null,
      "object_fit": null,
      "object_position": null,
      "order": null,
      "overflow": null,
      "overflow_x": null,
      "overflow_y": null,
      "padding": null,
      "right": null,
      "top": null,
      "visibility": null,
      "width": null
     }
    },
    "dc050a20b6894ebab02b85e072223b7a": {
     "model_module": "@jupyter-widgets/controls",
     "model_module_version": "1.5.0",
     "model_name": "FloatProgressModel",
     "state": {
      "_dom_classes": [],
      "_model_module": "@jupyter-widgets/controls",
      "_model_module_version": "1.5.0",
      "_model_name": "FloatProgressModel",
      "_view_count": null,
      "_view_module": "@jupyter-widgets/controls",
      "_view_module_version": "1.5.0",
      "_view_name": "ProgressView",
      "bar_style": "success",
      "description": "",
      "description_tooltip": null,
      "layout": "IPY_MODEL_414831b7cbc74e298269e4d79262995c",
      "max": 50,
      "min": 0,
      "orientation": "horizontal",
      "style": "IPY_MODEL_b2fa5bd859c14c18a5542b613d955fcc",
      "value": 50
     }
    },
    "dcb1332e0c0e42a09a802fea5a033e4e": {
     "model_module": "@jupyter-widgets/base",
     "model_module_version": "1.2.0",
     "model_name": "LayoutModel",
     "state": {
      "_model_module": "@jupyter-widgets/base",
      "_model_module_version": "1.2.0",
      "_model_name": "LayoutModel",
      "_view_count": null,
      "_view_module": "@jupyter-widgets/base",
      "_view_module_version": "1.2.0",
      "_view_name": "LayoutView",
      "align_content": null,
      "align_items": null,
      "align_self": null,
      "border": null,
      "bottom": null,
      "display": null,
      "flex": null,
      "flex_flow": null,
      "grid_area": null,
      "grid_auto_columns": null,
      "grid_auto_flow": null,
      "grid_auto_rows": null,
      "grid_column": null,
      "grid_gap": null,
      "grid_row": null,
      "grid_template_areas": null,
      "grid_template_columns": null,
      "grid_template_rows": null,
      "height": null,
      "justify_content": null,
      "justify_items": null,
      "left": null,
      "margin": null,
      "max_height": null,
      "max_width": null,
      "min_height": null,
      "min_width": null,
      "object_fit": null,
      "object_position": null,
      "order": null,
      "overflow": null,
      "overflow_x": null,
      "overflow_y": null,
      "padding": null,
      "right": null,
      "top": null,
      "visibility": null,
      "width": null
     }
    },
    "dd4353dc6aa5436492269899b150e646": {
     "model_module": "@jupyter-widgets/base",
     "model_module_version": "1.2.0",
     "model_name": "LayoutModel",
     "state": {
      "_model_module": "@jupyter-widgets/base",
      "_model_module_version": "1.2.0",
      "_model_name": "LayoutModel",
      "_view_count": null,
      "_view_module": "@jupyter-widgets/base",
      "_view_module_version": "1.2.0",
      "_view_name": "LayoutView",
      "align_content": null,
      "align_items": null,
      "align_self": null,
      "border": null,
      "bottom": null,
      "display": null,
      "flex": null,
      "flex_flow": null,
      "grid_area": null,
      "grid_auto_columns": null,
      "grid_auto_flow": null,
      "grid_auto_rows": null,
      "grid_column": null,
      "grid_gap": null,
      "grid_row": null,
      "grid_template_areas": null,
      "grid_template_columns": null,
      "grid_template_rows": null,
      "height": null,
      "justify_content": null,
      "justify_items": null,
      "left": null,
      "margin": null,
      "max_height": null,
      "max_width": null,
      "min_height": null,
      "min_width": null,
      "object_fit": null,
      "object_position": null,
      "order": null,
      "overflow": null,
      "overflow_x": null,
      "overflow_y": null,
      "padding": null,
      "right": null,
      "top": null,
      "visibility": null,
      "width": null
     }
    },
    "de291f7a7b8e43c48c1c8e3041bbb5aa": {
     "model_module": "@jupyter-widgets/controls",
     "model_module_version": "1.5.0",
     "model_name": "HBoxModel",
     "state": {
      "_dom_classes": [],
      "_model_module": "@jupyter-widgets/controls",
      "_model_module_version": "1.5.0",
      "_model_name": "HBoxModel",
      "_view_count": null,
      "_view_module": "@jupyter-widgets/controls",
      "_view_module_version": "1.5.0",
      "_view_name": "HBoxView",
      "box_style": "",
      "children": [
       "IPY_MODEL_3df8d6de1d8045bc8d99c5e2cf260a32",
       "IPY_MODEL_78416a088be04e3ea3cbf2569f3d6a43",
       "IPY_MODEL_16d140850a994b2db2b9575de9026741"
      ],
      "layout": "IPY_MODEL_720d0da0ee2d45f891ca9e2346fda60a"
     }
    },
    "de47abaf177f4699a5668c0d3e551aa8": {
     "model_module": "@jupyter-widgets/controls",
     "model_module_version": "1.5.0",
     "model_name": "DescriptionStyleModel",
     "state": {
      "_model_module": "@jupyter-widgets/controls",
      "_model_module_version": "1.5.0",
      "_model_name": "DescriptionStyleModel",
      "_view_count": null,
      "_view_module": "@jupyter-widgets/base",
      "_view_module_version": "1.2.0",
      "_view_name": "StyleView",
      "description_width": ""
     }
    },
    "df9dd46d184642c8918582b403c2961b": {
     "model_module": "@jupyter-widgets/controls",
     "model_module_version": "1.5.0",
     "model_name": "HTMLModel",
     "state": {
      "_dom_classes": [],
      "_model_module": "@jupyter-widgets/controls",
      "_model_module_version": "1.5.0",
      "_model_name": "HTMLModel",
      "_view_count": null,
      "_view_module": "@jupyter-widgets/controls",
      "_view_module_version": "1.5.0",
      "_view_name": "HTMLView",
      "description": "",
      "description_tooltip": null,
      "layout": "IPY_MODEL_12c80a98595f48ebb90c0fca556ae636",
      "placeholder": "​",
      "style": "IPY_MODEL_7d52e7b60382487abece704ba9cbad26",
      "value": "model.safetensors: 100%"
     }
    },
    "e14ae30165e947dfaf93570172641b1a": {
     "model_module": "@jupyter-widgets/controls",
     "model_module_version": "1.5.0",
     "model_name": "HTMLModel",
     "state": {
      "_dom_classes": [],
      "_model_module": "@jupyter-widgets/controls",
      "_model_module_version": "1.5.0",
      "_model_name": "HTMLModel",
      "_view_count": null,
      "_view_module": "@jupyter-widgets/controls",
      "_view_module_version": "1.5.0",
      "_view_name": "HTMLView",
      "description": "",
      "description_tooltip": null,
      "layout": "IPY_MODEL_f80f13a9faf54ebcb1195edb667884c9",
      "placeholder": "​",
      "style": "IPY_MODEL_49133803ec6143948d7b47014147b46d",
      "value": " 227M/227M [00:01&lt;00:00, 218MB/s]"
     }
    },
    "e216b4f597434335a716e0826752347b": {
     "model_module": "@jupyter-widgets/controls",
     "model_module_version": "1.5.0",
     "model_name": "HBoxModel",
     "state": {
      "_dom_classes": [],
      "_model_module": "@jupyter-widgets/controls",
      "_model_module_version": "1.5.0",
      "_model_name": "HBoxModel",
      "_view_count": null,
      "_view_module": "@jupyter-widgets/controls",
      "_view_module_version": "1.5.0",
      "_view_name": "HBoxView",
      "box_style": "",
      "children": [
       "IPY_MODEL_9fd46f4d76ed44caac634290922cd8f6",
       "IPY_MODEL_82ea268fba1a4246a5fb3794645477e3",
       "IPY_MODEL_e14ae30165e947dfaf93570172641b1a"
      ],
      "layout": "IPY_MODEL_c992fca0c967437f9671e7f81520fe89"
     }
    },
    "e27c5a3c72ea4eee89b6989e5e681d68": {
     "model_module": "@jupyter-widgets/controls",
     "model_module_version": "1.5.0",
     "model_name": "ProgressStyleModel",
     "state": {
      "_model_module": "@jupyter-widgets/controls",
      "_model_module_version": "1.5.0",
      "_model_name": "ProgressStyleModel",
      "_view_count": null,
      "_view_module": "@jupyter-widgets/base",
      "_view_module_version": "1.2.0",
      "_view_name": "StyleView",
      "bar_color": null,
      "description_width": ""
     }
    },
    "e2c6ad89c9f54eb786e7e1547587e0a8": {
     "model_module": "@jupyter-widgets/controls",
     "model_module_version": "1.5.0",
     "model_name": "HTMLModel",
     "state": {
      "_dom_classes": [],
      "_model_module": "@jupyter-widgets/controls",
      "_model_module_version": "1.5.0",
      "_model_name": "HTMLModel",
      "_view_count": null,
      "_view_module": "@jupyter-widgets/controls",
      "_view_module_version": "1.5.0",
      "_view_name": "HTMLView",
      "description": "",
      "description_tooltip": null,
      "layout": "IPY_MODEL_818a80db584a423db0bfbb2f7e6e6931",
      "placeholder": "​",
      "style": "IPY_MODEL_3aa8792b95cc48db88023a51e2b9b901",
      "value": " 81.0/81.0 [00:00&lt;00:00, 5.70kB/s]"
     }
    },
    "e378a869c975458f9cede0c70607a62a": {
     "model_module": "@jupyter-widgets/controls",
     "model_module_version": "1.5.0",
     "model_name": "DescriptionStyleModel",
     "state": {
      "_model_module": "@jupyter-widgets/controls",
      "_model_module_version": "1.5.0",
      "_model_name": "DescriptionStyleModel",
      "_view_count": null,
      "_view_module": "@jupyter-widgets/base",
      "_view_module_version": "1.2.0",
      "_view_name": "StyleView",
      "description_width": ""
     }
    },
    "e4f17b089bf748868b438301db10c682": {
     "model_module": "@jupyter-widgets/base",
     "model_module_version": "1.2.0",
     "model_name": "LayoutModel",
     "state": {
      "_model_module": "@jupyter-widgets/base",
      "_model_module_version": "1.2.0",
      "_model_name": "LayoutModel",
      "_view_count": null,
      "_view_module": "@jupyter-widgets/base",
      "_view_module_version": "1.2.0",
      "_view_name": "LayoutView",
      "align_content": null,
      "align_items": null,
      "align_self": null,
      "border": null,
      "bottom": null,
      "display": null,
      "flex": null,
      "flex_flow": null,
      "grid_area": null,
      "grid_auto_columns": null,
      "grid_auto_flow": null,
      "grid_auto_rows": null,
      "grid_column": null,
      "grid_gap": null,
      "grid_row": null,
      "grid_template_areas": null,
      "grid_template_columns": null,
      "grid_template_rows": null,
      "height": null,
      "justify_content": null,
      "justify_items": null,
      "left": null,
      "margin": null,
      "max_height": null,
      "max_width": null,
      "min_height": null,
      "min_width": null,
      "object_fit": null,
      "object_position": null,
      "order": null,
      "overflow": null,
      "overflow_x": null,
      "overflow_y": null,
      "padding": null,
      "right": null,
      "top": null,
      "visibility": null,
      "width": null
     }
    },
    "e5635b0acdd54b6b81d39f741681dae5": {
     "model_module": "@jupyter-widgets/controls",
     "model_module_version": "1.5.0",
     "model_name": "ProgressStyleModel",
     "state": {
      "_model_module": "@jupyter-widgets/controls",
      "_model_module_version": "1.5.0",
      "_model_name": "ProgressStyleModel",
      "_view_count": null,
      "_view_module": "@jupyter-widgets/base",
      "_view_module_version": "1.2.0",
      "_view_name": "StyleView",
      "bar_color": null,
      "description_width": ""
     }
    },
    "e5ebe49146ad4cba8818867b0bb12668": {
     "model_module": "@jupyter-widgets/controls",
     "model_module_version": "1.5.0",
     "model_name": "DescriptionStyleModel",
     "state": {
      "_model_module": "@jupyter-widgets/controls",
      "_model_module_version": "1.5.0",
      "_model_name": "DescriptionStyleModel",
      "_view_count": null,
      "_view_module": "@jupyter-widgets/base",
      "_view_module_version": "1.2.0",
      "_view_name": "StyleView",
      "description_width": ""
     }
    },
    "e6debf08b9e545a18acc2b53ce7dc9b5": {
     "model_module": "@jupyter-widgets/controls",
     "model_module_version": "1.5.0",
     "model_name": "DescriptionStyleModel",
     "state": {
      "_model_module": "@jupyter-widgets/controls",
      "_model_module_version": "1.5.0",
      "_model_name": "DescriptionStyleModel",
      "_view_count": null,
      "_view_module": "@jupyter-widgets/base",
      "_view_module_version": "1.2.0",
      "_view_name": "StyleView",
      "description_width": ""
     }
    },
    "e7389a54e4854b95b5c98f67de9dc3cb": {
     "model_module": "@jupyter-widgets/controls",
     "model_module_version": "1.5.0",
     "model_name": "HBoxModel",
     "state": {
      "_dom_classes": [],
      "_model_module": "@jupyter-widgets/controls",
      "_model_module_version": "1.5.0",
      "_model_name": "HBoxModel",
      "_view_count": null,
      "_view_module": "@jupyter-widgets/controls",
      "_view_module_version": "1.5.0",
      "_view_name": "HBoxView",
      "box_style": "",
      "children": [
       "IPY_MODEL_e76e22d03ddd497485be0d5a42e41187",
       "IPY_MODEL_4d6cd7cf696b47c39814c553ce63a2a3",
       "IPY_MODEL_220fce1aae5a45ddba8f67686c40ed34"
      ],
      "layout": "IPY_MODEL_136fd076a24c437a85b4382ee587770a"
     }
    },
    "e76e22d03ddd497485be0d5a42e41187": {
     "model_module": "@jupyter-widgets/controls",
     "model_module_version": "1.5.0",
     "model_name": "HTMLModel",
     "state": {
      "_dom_classes": [],
      "_model_module": "@jupyter-widgets/controls",
      "_model_module_version": "1.5.0",
      "_model_name": "HTMLModel",
      "_view_count": null,
      "_view_module": "@jupyter-widgets/controls",
      "_view_module_version": "1.5.0",
      "_view_name": "HTMLView",
      "description": "",
      "description_tooltip": null,
      "layout": "IPY_MODEL_01ae48e70a9b424fb06a47916dafdfec",
      "placeholder": "​",
      "style": "IPY_MODEL_509dd97d40e2443e9e9aa82a764f782b",
      "value": "tokenizer.json: 100%"
     }
    },
    "e9dd6cef8f08472985413bfed92301cf": {
     "model_module": "@jupyter-widgets/controls",
     "model_module_version": "1.5.0",
     "model_name": "HTMLModel",
     "state": {
      "_dom_classes": [],
      "_model_module": "@jupyter-widgets/controls",
      "_model_module_version": "1.5.0",
      "_model_name": "HTMLModel",
      "_view_count": null,
      "_view_module": "@jupyter-widgets/controls",
      "_view_module_version": "1.5.0",
      "_view_name": "HTMLView",
      "description": "",
      "description_tooltip": null,
      "layout": "IPY_MODEL_9bc955c5b3df493083a7fcbbe6564d60",
      "placeholder": "​",
      "style": "IPY_MODEL_615f9af628674ac4ae09a06e1e613200",
      "value": " 1.04M/1.04M [00:00&lt;00:00, 4.94MB/s]"
     }
    },
    "eaa8b8b4beca41d484ebed762f5c43ff": {
     "model_module": "@jupyter-widgets/controls",
     "model_module_version": "1.5.0",
     "model_name": "HBoxModel",
     "state": {
      "_dom_classes": [],
      "_model_module": "@jupyter-widgets/controls",
      "_model_module_version": "1.5.0",
      "_model_name": "HBoxModel",
      "_view_count": null,
      "_view_module": "@jupyter-widgets/controls",
      "_view_module_version": "1.5.0",
      "_view_name": "HBoxView",
      "box_style": "",
      "children": [
       "IPY_MODEL_68a9dfc8f3b548e7ab2c8063de638a19",
       "IPY_MODEL_0dc2c626cfdc4e54a4c975f88326c4b9",
       "IPY_MODEL_e2c6ad89c9f54eb786e7e1547587e0a8"
      ],
      "layout": "IPY_MODEL_47c890e3a1a940ebb194ed85f0129c96"
     }
    },
    "ebba55391a3b4ebc97485cb9e27dfa71": {
     "model_module": "@jupyter-widgets/base",
     "model_module_version": "1.2.0",
     "model_name": "LayoutModel",
     "state": {
      "_model_module": "@jupyter-widgets/base",
      "_model_module_version": "1.2.0",
      "_model_name": "LayoutModel",
      "_view_count": null,
      "_view_module": "@jupyter-widgets/base",
      "_view_module_version": "1.2.0",
      "_view_name": "LayoutView",
      "align_content": null,
      "align_items": null,
      "align_self": null,
      "border": null,
      "bottom": null,
      "display": null,
      "flex": null,
      "flex_flow": null,
      "grid_area": null,
      "grid_auto_columns": null,
      "grid_auto_flow": null,
      "grid_auto_rows": null,
      "grid_column": null,
      "grid_gap": null,
      "grid_row": null,
      "grid_template_areas": null,
      "grid_template_columns": null,
      "grid_template_rows": null,
      "height": null,
      "justify_content": null,
      "justify_items": null,
      "left": null,
      "margin": null,
      "max_height": null,
      "max_width": null,
      "min_height": null,
      "min_width": null,
      "object_fit": null,
      "object_position": null,
      "order": null,
      "overflow": null,
      "overflow_x": null,
      "overflow_y": null,
      "padding": null,
      "right": null,
      "top": null,
      "visibility": null,
      "width": null
     }
    },
    "ed2d9605661d41968b85d4797c287332": {
     "model_module": "@jupyter-widgets/base",
     "model_module_version": "1.2.0",
     "model_name": "LayoutModel",
     "state": {
      "_model_module": "@jupyter-widgets/base",
      "_model_module_version": "1.2.0",
      "_model_name": "LayoutModel",
      "_view_count": null,
      "_view_module": "@jupyter-widgets/base",
      "_view_module_version": "1.2.0",
      "_view_name": "LayoutView",
      "align_content": null,
      "align_items": null,
      "align_self": null,
      "border": null,
      "bottom": null,
      "display": null,
      "flex": null,
      "flex_flow": null,
      "grid_area": null,
      "grid_auto_columns": null,
      "grid_auto_flow": null,
      "grid_auto_rows": null,
      "grid_column": null,
      "grid_gap": null,
      "grid_row": null,
      "grid_template_areas": null,
      "grid_template_columns": null,
      "grid_template_rows": null,
      "height": null,
      "justify_content": null,
      "justify_items": null,
      "left": null,
      "margin": null,
      "max_height": null,
      "max_width": null,
      "min_height": null,
      "min_width": null,
      "object_fit": null,
      "object_position": null,
      "order": null,
      "overflow": null,
      "overflow_x": null,
      "overflow_y": null,
      "padding": null,
      "right": null,
      "top": null,
      "visibility": null,
      "width": null
     }
    },
    "ed9bb16be4534517bb3d3f8a71bc0f58": {
     "model_module": "@jupyter-widgets/base",
     "model_module_version": "1.2.0",
     "model_name": "LayoutModel",
     "state": {
      "_model_module": "@jupyter-widgets/base",
      "_model_module_version": "1.2.0",
      "_model_name": "LayoutModel",
      "_view_count": null,
      "_view_module": "@jupyter-widgets/base",
      "_view_module_version": "1.2.0",
      "_view_name": "LayoutView",
      "align_content": null,
      "align_items": null,
      "align_self": null,
      "border": null,
      "bottom": null,
      "display": null,
      "flex": null,
      "flex_flow": null,
      "grid_area": null,
      "grid_auto_columns": null,
      "grid_auto_flow": null,
      "grid_auto_rows": null,
      "grid_column": null,
      "grid_gap": null,
      "grid_row": null,
      "grid_template_areas": null,
      "grid_template_columns": null,
      "grid_template_rows": null,
      "height": null,
      "justify_content": null,
      "justify_items": null,
      "left": null,
      "margin": null,
      "max_height": null,
      "max_width": null,
      "min_height": null,
      "min_width": null,
      "object_fit": null,
      "object_position": null,
      "order": null,
      "overflow": null,
      "overflow_x": null,
      "overflow_y": null,
      "padding": null,
      "right": null,
      "top": null,
      "visibility": null,
      "width": null
     }
    },
    "ee2e462b8489416f9320ad3aaed591b3": {
     "model_module": "@jupyter-widgets/controls",
     "model_module_version": "1.5.0",
     "model_name": "HBoxModel",
     "state": {
      "_dom_classes": [],
      "_model_module": "@jupyter-widgets/controls",
      "_model_module_version": "1.5.0",
      "_model_name": "HBoxModel",
      "_view_count": null,
      "_view_module": "@jupyter-widgets/controls",
      "_view_module_version": "1.5.0",
      "_view_name": "HBoxView",
      "box_style": "",
      "children": [
       "IPY_MODEL_2890155606a74e0b8bc362292b62691e",
       "IPY_MODEL_1e81732046d148659cd8f255dae2f4d2",
       "IPY_MODEL_98d83116c5904e95ac7df8556ff12dca"
      ],
      "layout": "IPY_MODEL_3429a368ac9d47eaaff41d310e08b013"
     }
    },
    "eead2479be4c424bb482e7b9d5421929": {
     "model_module": "@jupyter-widgets/base",
     "model_module_version": "1.2.0",
     "model_name": "LayoutModel",
     "state": {
      "_model_module": "@jupyter-widgets/base",
      "_model_module_version": "1.2.0",
      "_model_name": "LayoutModel",
      "_view_count": null,
      "_view_module": "@jupyter-widgets/base",
      "_view_module_version": "1.2.0",
      "_view_name": "LayoutView",
      "align_content": null,
      "align_items": null,
      "align_self": null,
      "border": null,
      "bottom": null,
      "display": null,
      "flex": null,
      "flex_flow": null,
      "grid_area": null,
      "grid_auto_columns": null,
      "grid_auto_flow": null,
      "grid_auto_rows": null,
      "grid_column": null,
      "grid_gap": null,
      "grid_row": null,
      "grid_template_areas": null,
      "grid_template_columns": null,
      "grid_template_rows": null,
      "height": null,
      "justify_content": null,
      "justify_items": null,
      "left": null,
      "margin": null,
      "max_height": null,
      "max_width": null,
      "min_height": null,
      "min_width": null,
      "object_fit": null,
      "object_position": null,
      "order": null,
      "overflow": null,
      "overflow_x": null,
      "overflow_y": null,
      "padding": null,
      "right": null,
      "top": null,
      "visibility": null,
      "width": null
     }
    },
    "f0e5f3a1fc744538af7ead9172d771e8": {
     "model_module": "@jupyter-widgets/base",
     "model_module_version": "1.2.0",
     "model_name": "LayoutModel",
     "state": {
      "_model_module": "@jupyter-widgets/base",
      "_model_module_version": "1.2.0",
      "_model_name": "LayoutModel",
      "_view_count": null,
      "_view_module": "@jupyter-widgets/base",
      "_view_module_version": "1.2.0",
      "_view_name": "LayoutView",
      "align_content": null,
      "align_items": null,
      "align_self": null,
      "border": null,
      "bottom": null,
      "display": null,
      "flex": null,
      "flex_flow": null,
      "grid_area": null,
      "grid_auto_columns": null,
      "grid_auto_flow": null,
      "grid_auto_rows": null,
      "grid_column": null,
      "grid_gap": null,
      "grid_row": null,
      "grid_template_areas": null,
      "grid_template_columns": null,
      "grid_template_rows": null,
      "height": null,
      "justify_content": null,
      "justify_items": null,
      "left": null,
      "margin": null,
      "max_height": null,
      "max_width": null,
      "min_height": null,
      "min_width": null,
      "object_fit": null,
      "object_position": null,
      "order": null,
      "overflow": null,
      "overflow_x": null,
      "overflow_y": null,
      "padding": null,
      "right": null,
      "top": null,
      "visibility": null,
      "width": null
     }
    },
    "f177dfb8c1bc4783aac6e36f93589e4d": {
     "model_module": "@jupyter-widgets/base",
     "model_module_version": "1.2.0",
     "model_name": "LayoutModel",
     "state": {
      "_model_module": "@jupyter-widgets/base",
      "_model_module_version": "1.2.0",
      "_model_name": "LayoutModel",
      "_view_count": null,
      "_view_module": "@jupyter-widgets/base",
      "_view_module_version": "1.2.0",
      "_view_name": "LayoutView",
      "align_content": null,
      "align_items": null,
      "align_self": null,
      "border": null,
      "bottom": null,
      "display": null,
      "flex": null,
      "flex_flow": null,
      "grid_area": null,
      "grid_auto_columns": null,
      "grid_auto_flow": null,
      "grid_auto_rows": null,
      "grid_column": null,
      "grid_gap": null,
      "grid_row": null,
      "grid_template_areas": null,
      "grid_template_columns": null,
      "grid_template_rows": null,
      "height": null,
      "justify_content": null,
      "justify_items": null,
      "left": null,
      "margin": null,
      "max_height": null,
      "max_width": null,
      "min_height": null,
      "min_width": null,
      "object_fit": null,
      "object_position": null,
      "order": null,
      "overflow": null,
      "overflow_x": null,
      "overflow_y": null,
      "padding": null,
      "right": null,
      "top": null,
      "visibility": null,
      "width": null
     }
    },
    "f359bedcf34f417ab203e5dfecb1a3f9": {
     "model_module": "@jupyter-widgets/base",
     "model_module_version": "1.2.0",
     "model_name": "LayoutModel",
     "state": {
      "_model_module": "@jupyter-widgets/base",
      "_model_module_version": "1.2.0",
      "_model_name": "LayoutModel",
      "_view_count": null,
      "_view_module": "@jupyter-widgets/base",
      "_view_module_version": "1.2.0",
      "_view_name": "LayoutView",
      "align_content": null,
      "align_items": null,
      "align_self": null,
      "border": null,
      "bottom": null,
      "display": null,
      "flex": null,
      "flex_flow": null,
      "grid_area": null,
      "grid_auto_columns": null,
      "grid_auto_flow": null,
      "grid_auto_rows": null,
      "grid_column": null,
      "grid_gap": null,
      "grid_row": null,
      "grid_template_areas": null,
      "grid_template_columns": null,
      "grid_template_rows": null,
      "height": null,
      "justify_content": null,
      "justify_items": null,
      "left": null,
      "margin": null,
      "max_height": null,
      "max_width": null,
      "min_height": null,
      "min_width": null,
      "object_fit": null,
      "object_position": null,
      "order": null,
      "overflow": null,
      "overflow_x": null,
      "overflow_y": null,
      "padding": null,
      "right": null,
      "top": null,
      "visibility": null,
      "width": null
     }
    },
    "f3bdb76ef85e474abef6679bdebdc81b": {
     "model_module": "@jupyter-widgets/base",
     "model_module_version": "1.2.0",
     "model_name": "LayoutModel",
     "state": {
      "_model_module": "@jupyter-widgets/base",
      "_model_module_version": "1.2.0",
      "_model_name": "LayoutModel",
      "_view_count": null,
      "_view_module": "@jupyter-widgets/base",
      "_view_module_version": "1.2.0",
      "_view_name": "LayoutView",
      "align_content": null,
      "align_items": null,
      "align_self": null,
      "border": null,
      "bottom": null,
      "display": null,
      "flex": null,
      "flex_flow": null,
      "grid_area": null,
      "grid_auto_columns": null,
      "grid_auto_flow": null,
      "grid_auto_rows": null,
      "grid_column": null,
      "grid_gap": null,
      "grid_row": null,
      "grid_template_areas": null,
      "grid_template_columns": null,
      "grid_template_rows": null,
      "height": null,
      "justify_content": null,
      "justify_items": null,
      "left": null,
      "margin": null,
      "max_height": null,
      "max_width": null,
      "min_height": null,
      "min_width": null,
      "object_fit": null,
      "object_position": null,
      "order": null,
      "overflow": null,
      "overflow_x": null,
      "overflow_y": null,
      "padding": null,
      "right": null,
      "top": null,
      "visibility": null,
      "width": null
     }
    },
    "f80f13a9faf54ebcb1195edb667884c9": {
     "model_module": "@jupyter-widgets/base",
     "model_module_version": "1.2.0",
     "model_name": "LayoutModel",
     "state": {
      "_model_module": "@jupyter-widgets/base",
      "_model_module_version": "1.2.0",
      "_model_name": "LayoutModel",
      "_view_count": null,
      "_view_module": "@jupyter-widgets/base",
      "_view_module_version": "1.2.0",
      "_view_name": "LayoutView",
      "align_content": null,
      "align_items": null,
      "align_self": null,
      "border": null,
      "bottom": null,
      "display": null,
      "flex": null,
      "flex_flow": null,
      "grid_area": null,
      "grid_auto_columns": null,
      "grid_auto_flow": null,
      "grid_auto_rows": null,
      "grid_column": null,
      "grid_gap": null,
      "grid_row": null,
      "grid_template_areas": null,
      "grid_template_columns": null,
      "grid_template_rows": null,
      "height": null,
      "justify_content": null,
      "justify_items": null,
      "left": null,
      "margin": null,
      "max_height": null,
      "max_width": null,
      "min_height": null,
      "min_width": null,
      "object_fit": null,
      "object_position": null,
      "order": null,
      "overflow": null,
      "overflow_x": null,
      "overflow_y": null,
      "padding": null,
      "right": null,
      "top": null,
      "visibility": null,
      "width": null
     }
    },
    "f88b87c9d5ab43c1a63e7878ac6d4dee": {
     "model_module": "@jupyter-widgets/base",
     "model_module_version": "1.2.0",
     "model_name": "LayoutModel",
     "state": {
      "_model_module": "@jupyter-widgets/base",
      "_model_module_version": "1.2.0",
      "_model_name": "LayoutModel",
      "_view_count": null,
      "_view_module": "@jupyter-widgets/base",
      "_view_module_version": "1.2.0",
      "_view_name": "LayoutView",
      "align_content": null,
      "align_items": null,
      "align_self": null,
      "border": null,
      "bottom": null,
      "display": null,
      "flex": null,
      "flex_flow": null,
      "grid_area": null,
      "grid_auto_columns": null,
      "grid_auto_flow": null,
      "grid_auto_rows": null,
      "grid_column": null,
      "grid_gap": null,
      "grid_row": null,
      "grid_template_areas": null,
      "grid_template_columns": null,
      "grid_template_rows": null,
      "height": null,
      "justify_content": null,
      "justify_items": null,
      "left": null,
      "margin": null,
      "max_height": null,
      "max_width": null,
      "min_height": null,
      "min_width": null,
      "object_fit": null,
      "object_position": null,
      "order": null,
      "overflow": null,
      "overflow_x": null,
      "overflow_y": null,
      "padding": null,
      "right": null,
      "top": null,
      "visibility": null,
      "width": null
     }
    },
    "f8978ddd22524e7d941d93a9a53c919a": {
     "model_module": "@jupyter-widgets/controls",
     "model_module_version": "1.5.0",
     "model_name": "ProgressStyleModel",
     "state": {
      "_model_module": "@jupyter-widgets/controls",
      "_model_module_version": "1.5.0",
      "_model_name": "ProgressStyleModel",
      "_view_count": null,
      "_view_module": "@jupyter-widgets/base",
      "_view_module_version": "1.2.0",
      "_view_name": "StyleView",
      "bar_color": null,
      "description_width": ""
     }
    },
    "f8ae064006734d7eb5170378069c8a57": {
     "model_module": "@jupyter-widgets/controls",
     "model_module_version": "1.5.0",
     "model_name": "HBoxModel",
     "state": {
      "_dom_classes": [],
      "_model_module": "@jupyter-widgets/controls",
      "_model_module_version": "1.5.0",
      "_model_name": "HBoxModel",
      "_view_count": null,
      "_view_module": "@jupyter-widgets/controls",
      "_view_module_version": "1.5.0",
      "_view_name": "HBoxView",
      "box_style": "",
      "children": [
       "IPY_MODEL_35992806be3a497d88c60c906b290a5b",
       "IPY_MODEL_b28479cabcfe498da72fe07c6abc4489",
       "IPY_MODEL_8f7565896df043d7bc75550eda354af3"
      ],
      "layout": "IPY_MODEL_53a28a0a6c88415facd754f90309889a"
     }
    },
    "fa24ded3f0084678ae95803f306eeb3f": {
     "model_module": "@jupyter-widgets/controls",
     "model_module_version": "1.5.0",
     "model_name": "HBoxModel",
     "state": {
      "_dom_classes": [],
      "_model_module": "@jupyter-widgets/controls",
      "_model_module_version": "1.5.0",
      "_model_name": "HBoxModel",
      "_view_count": null,
      "_view_module": "@jupyter-widgets/controls",
      "_view_module_version": "1.5.0",
      "_view_name": "HBoxView",
      "box_style": "",
      "children": [
       "IPY_MODEL_697513b893bb496daecd455e9f17501c",
       "IPY_MODEL_2265e4cae63540868d07e53f2587de4c",
       "IPY_MODEL_ac8a077261084fb0a15432eef08d943b"
      ],
      "layout": "IPY_MODEL_a263638ce6c54e3bbcc428d8aadd59f8"
     }
    },
    "fa8b276cbe644299a94c9e035e3a08b6": {
     "model_module": "@jupyter-widgets/controls",
     "model_module_version": "1.5.0",
     "model_name": "DescriptionStyleModel",
     "state": {
      "_model_module": "@jupyter-widgets/controls",
      "_model_module_version": "1.5.0",
      "_model_name": "DescriptionStyleModel",
      "_view_count": null,
      "_view_module": "@jupyter-widgets/base",
      "_view_module_version": "1.2.0",
      "_view_name": "StyleView",
      "description_width": ""
     }
    },
    "fc150f600e484b1eb413ff02d6268f4d": {
     "model_module": "@jupyter-widgets/base",
     "model_module_version": "1.2.0",
     "model_name": "LayoutModel",
     "state": {
      "_model_module": "@jupyter-widgets/base",
      "_model_module_version": "1.2.0",
      "_model_name": "LayoutModel",
      "_view_count": null,
      "_view_module": "@jupyter-widgets/base",
      "_view_module_version": "1.2.0",
      "_view_name": "LayoutView",
      "align_content": null,
      "align_items": null,
      "align_self": null,
      "border": null,
      "bottom": null,
      "display": null,
      "flex": null,
      "flex_flow": null,
      "grid_area": null,
      "grid_auto_columns": null,
      "grid_auto_flow": null,
      "grid_auto_rows": null,
      "grid_column": null,
      "grid_gap": null,
      "grid_row": null,
      "grid_template_areas": null,
      "grid_template_columns": null,
      "grid_template_rows": null,
      "height": null,
      "justify_content": null,
      "justify_items": null,
      "left": null,
      "margin": null,
      "max_height": null,
      "max_width": null,
      "min_height": null,
      "min_width": null,
      "object_fit": null,
      "object_position": null,
      "order": null,
      "overflow": null,
      "overflow_x": null,
      "overflow_y": null,
      "padding": null,
      "right": null,
      "top": null,
      "visibility": null,
      "width": null
     }
    },
    "fcc57ac26b7644a99805b51ff67e4d4a": {
     "model_module": "@jupyter-widgets/base",
     "model_module_version": "1.2.0",
     "model_name": "LayoutModel",
     "state": {
      "_model_module": "@jupyter-widgets/base",
      "_model_module_version": "1.2.0",
      "_model_name": "LayoutModel",
      "_view_count": null,
      "_view_module": "@jupyter-widgets/base",
      "_view_module_version": "1.2.0",
      "_view_name": "LayoutView",
      "align_content": null,
      "align_items": null,
      "align_self": null,
      "border": null,
      "bottom": null,
      "display": null,
      "flex": null,
      "flex_flow": null,
      "grid_area": null,
      "grid_auto_columns": null,
      "grid_auto_flow": null,
      "grid_auto_rows": null,
      "grid_column": null,
      "grid_gap": null,
      "grid_row": null,
      "grid_template_areas": null,
      "grid_template_columns": null,
      "grid_template_rows": null,
      "height": null,
      "justify_content": null,
      "justify_items": null,
      "left": null,
      "margin": null,
      "max_height": null,
      "max_width": null,
      "min_height": null,
      "min_width": null,
      "object_fit": null,
      "object_position": null,
      "order": null,
      "overflow": null,
      "overflow_x": null,
      "overflow_y": null,
      "padding": null,
      "right": null,
      "top": null,
      "visibility": null,
      "width": null
     }
    },
    "fcf59ba535c847da8c48239a72658e15": {
     "model_module": "@jupyter-widgets/controls",
     "model_module_version": "1.5.0",
     "model_name": "FloatProgressModel",
     "state": {
      "_dom_classes": [],
      "_model_module": "@jupyter-widgets/controls",
      "_model_module_version": "1.5.0",
      "_model_name": "FloatProgressModel",
      "_view_count": null,
      "_view_module": "@jupyter-widgets/controls",
      "_view_module_version": "1.5.0",
      "_view_name": "ProgressView",
      "bar_style": "success",
      "description": "",
      "description_tooltip": null,
      "layout": "IPY_MODEL_9180b8d6e37042ac87253da02998c907",
      "max": 51,
      "min": 0,
      "orientation": "horizontal",
      "style": "IPY_MODEL_4ef91d40d6fa4deda81df29fd32ba1d7",
      "value": 51
     }
    },
    "ff045e99c2cf471b8e5c05f63eda6b44": {
     "model_module": "@jupyter-widgets/controls",
     "model_module_version": "1.5.0",
     "model_name": "FloatProgressModel",
     "state": {
      "_dom_classes": [],
      "_model_module": "@jupyter-widgets/controls",
      "_model_module_version": "1.5.0",
      "_model_name": "FloatProgressModel",
      "_view_count": null,
      "_view_module": "@jupyter-widgets/controls",
      "_view_module_version": "1.5.0",
      "_view_name": "ProgressView",
      "bar_style": "success",
      "description": "",
      "description_tooltip": null,
      "layout": "IPY_MODEL_c6a84e14c4c74a53b856ea07ee04ba32",
      "max": 124,
      "min": 0,
      "orientation": "horizontal",
      "style": "IPY_MODEL_73904eeaa50b41a2a76fcd1788ca802d",
      "value": 124
     }
    }
   }
  }
 },
 "nbformat": 4,
 "nbformat_minor": 0
}
