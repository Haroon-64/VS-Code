{
 "cells": [
  {
   "cell_type": "markdown",
   "metadata": {
    "id": "_Gd6puPEjRzV"
   },
   "source": [
    "# XAI CODE DEMO\n",
    "\n",
    "## Explainable AI Specialization on Coursera"
   ]
  },
  {
   "cell_type": "markdown",
   "metadata": {
    "id": "MmxdYUw1jS1C"
   },
   "source": [
    "# Counterfactual Explanations 👾\n",
    "\n",
    "If you experience high latency while running this notebook, you can open it in Google Colab:\n",
    "\n",
    "[![Open In Collab](https://colab.research.google.com/assets/colab-badge.svg)](https://colab.research.google.com/github/explainable-machine-learning/explainable-ml/blob/main/counterfactul_explanations.ipynb)\n",
    "\n",
    "We can simulate counterfactuals for predictions of ML models by changing the feature values of an instance before making the predictions and analyzing how the prediction changes.\n",
    "\n",
    "A counterfactual explanation of a prediction describes the smallest change to the feature values that changes the prediction to a predefined output\n",
    "\n",
    "We can use an optimization algorithm to minimize loss:\n",
    "* Define a loss function\n",
    "* This loss takes as input the instance of interest, a counterfactual and the desired (counterfactual) outcome\n",
    "* Find the counterfactual explanation that minimizes this loss using an optimization algorithm.\n",
    "* There are MANY methods for this, which differ in their definition of the loss function and optimization method\n",
    "\n",
    "In this tutorial we will show an implementation of counterfactuals from the python library `alibi`.\n",
    "\n",
    "The loss function used by `alibi`:\n",
    "\n",
    "`L(X'|X) = (ft(X')-pt) + λL1(X',X)`\n",
    "\n",
    "The first loss term, guides the search towards instances X' for which the predicted class probability ft(X') is close to a pre-specified target class probability pt. The second loss term ensures that the counterfactuals are close in the feature space to the original test instance.\n",
    "\n",
    "\n",
    "This tutorial was adapted from the [`alibi`](https://docs.seldon.io/projects/alibi/en/stable/examples/cf_mnist.html)library documentation\n",
    "\n",
    "\n",
    "\n",
    "---\n",
    "\n",
    "\n"
   ]
  },
  {
   "cell_type": "code",
   "execution_count": null,
   "metadata": {
    "colab": {
     "base_uri": "https://localhost:8080/"
    },
    "id": "FT34hNSij2yG",
    "outputId": "eba6a7b2-8b9d-4637-e828-c07da27a168a"
   },
   "outputs": [],
   "source": [
    "!pip install numpy==1.25.2 pandas==2.0.3 matplotlib==3.7.1 scikit-learn==1.2.2 tensorflow==2.14.1 alibi[tensorflow]==0.9.6"
   ]
  },
  {
   "cell_type": "markdown",
   "metadata": {},
   "source": [
    "Note: When you run the code block below, you may get a warning \"Cannot find TensorRT\". Don't worry about this, it is only required if you need a GPU, which this lab does not need."
   ]
  },
  {
   "cell_type": "code",
   "execution_count": null,
   "metadata": {
    "id": "TFS5Z6Ayj8ON"
   },
   "outputs": [],
   "source": [
    "# Basic\n",
    "import os\n",
    "import numpy as np\n",
    "import matplotlib.pyplot as plt\n",
    "\n",
    "# Data + Model\n",
    "import tensorflow as tf\n",
    "tf.get_logger().setLevel(40)\n",
    "tf.compat.v1.disable_v2_behavior() # disable TF2 behaviour as alibi code still relies on TF1 constructs\n",
    "from tensorflow.keras.layers import Conv2D, Dense, Dropout, Flatten, MaxPooling2D, Input\n",
    "from tensorflow.keras.models import Model, load_model\n",
    "from tensorflow.keras.utils import to_categorical\n",
    "\n",
    "# XAI\n",
    "from alibi.explainers import Counterfactual"
   ]
  },
  {
   "cell_type": "markdown",
   "metadata": {
    "id": "ssb7BPT4sKpI"
   },
   "source": [
    "## Data and Model"
   ]
  },
  {
   "cell_type": "markdown",
   "metadata": {
    "id": "aDV_pBq-q8hP"
   },
   "source": [
    "### Dataset\n",
    "\n",
    "We are going to use the [MNIST dataset](https://www.tensorflow.org/datasets/catalog/mnist) from the tensorflow library."
   ]
  },
  {
   "cell_type": "code",
   "execution_count": null,
   "metadata": {
    "colab": {
     "base_uri": "https://localhost:8080/",
     "height": 466
    },
    "id": "ZOT5_vxulBhH",
    "outputId": "882e7000-554c-47b6-eb10-af39a6d36035"
   },
   "outputs": [],
   "source": [
    "# Load data\n",
    "(x_train, y_train), (x_test, y_test) = tf.keras.datasets.mnist.load_data()\n",
    "\n",
    "# Show image from test dataset\n",
    "plt.gray()\n",
    "plt.imshow(x_test[1]);"
   ]
  },
  {
   "cell_type": "markdown",
   "metadata": {
    "id": "GM4xO8tBro9f"
   },
   "source": [
    "### Data Preprocessing\n",
    "\n",
    "* Reshape data\n",
    "* Categorize data labels\n",
    "* Scale the data"
   ]
  },
  {
   "cell_type": "code",
   "execution_count": null,
   "metadata": {
    "id": "XJfsxXKFlEul"
   },
   "outputs": [],
   "source": [
    "x_train = x_train.astype('float32') / 255\n",
    "x_test = x_test.astype('float32') / 255\n",
    "\n",
    "# Reshape data\n",
    "x_train = np.reshape(x_train, x_train.shape + (1,))\n",
    "x_test = np.reshape(x_test, x_test.shape + (1,))\n",
    "\n",
    "# Categorize data labels\n",
    "y_train = to_categorical(y_train)\n",
    "y_test = to_categorical(y_test)"
   ]
  },
  {
   "cell_type": "code",
   "execution_count": null,
   "metadata": {
    "id": "PKAi3ZxOlHgu"
   },
   "outputs": [],
   "source": [
    "# Scale data\n",
    "xmin, xmax = -.5, .5\n",
    "x_train = ((x_train - x_train.min()) / (x_train.max() - x_train.min())) * (xmax - xmin) + xmin\n",
    "x_test = ((x_test - x_test.min()) / (x_test.max() - x_test.min())) * (xmax - xmin) + xmin"
   ]
  },
  {
   "cell_type": "markdown",
   "metadata": {
    "id": "xA9SVeCkrrk4"
   },
   "source": [
    "### Simple CNN\n",
    "\n",
    "This is a simple CNN architecture for example purposes. I encourage you to try out different architectures!"
   ]
  },
  {
   "cell_type": "code",
   "execution_count": null,
   "metadata": {
    "id": "HzRPAcXClIdQ"
   },
   "outputs": [],
   "source": [
    "def cnn_model():\n",
    "    x_in = Input(shape=(28, 28, 1))\n",
    "    x = Conv2D(filters=64, kernel_size=2, padding='same', activation='relu')(x_in)\n",
    "    x = MaxPooling2D(pool_size=2)(x)\n",
    "    x = Dropout(0.3)(x)\n",
    "\n",
    "    x = Conv2D(filters=32, kernel_size=2, padding='same', activation='relu')(x)\n",
    "    x = MaxPooling2D(pool_size=2)(x)\n",
    "    x = Dropout(0.3)(x)\n",
    "\n",
    "    x = Flatten()(x)\n",
    "    x = Dense(256, activation='relu')(x)\n",
    "    x = Dropout(0.5)(x)\n",
    "    x_out = Dense(10, activation='softmax')(x)\n",
    "\n",
    "    cnn = Model(inputs=x_in, outputs=x_out)\n",
    "    cnn.compile(loss='categorical_crossentropy', optimizer='adam', metrics=['accuracy'])\n",
    "\n",
    "    return cnn"
   ]
  },
  {
   "cell_type": "markdown",
   "metadata": {
    "id": "XMjgOuuoM9jw"
   },
   "source": [
    "### Train and Save CNN Model\n",
    "\n",
    "Train model. For runtime speed, train for 3 epochs. In practice, apply regularization techniques like early stopping."
   ]
  },
  {
   "cell_type": "code",
   "execution_count": null,
   "metadata": {
    "colab": {
     "base_uri": "https://localhost:8080/"
    },
    "id": "q6GVrvzblLLz",
    "outputId": "6fa3c525-4c79-428e-fbc9-8f80d099d674"
   },
   "outputs": [],
   "source": [
    "# Initialize Model\n",
    "cnn = cnn_model()\n",
    "# Print Model Summary\n",
    "cnn.summary()\n",
    "# Fit Model\n",
    "cnn.fit(x_train, y_train, batch_size=64, epochs=3, verbose=0)\n",
    "# Save Model\n",
    "cnn.save('mnist_cnn.h5')"
   ]
  },
  {
   "cell_type": "markdown",
   "metadata": {
    "id": "HXo3D-Cor5h7"
   },
   "source": [
    "### Evaluate CNN Model on Test Data"
   ]
  },
  {
   "cell_type": "code",
   "execution_count": null,
   "metadata": {
    "colab": {
     "base_uri": "https://localhost:8080/"
    },
    "id": "kYsml1zSlN1w",
    "outputId": "5f842445-9790-4043-aa44-61919b98886b"
   },
   "outputs": [],
   "source": [
    "# Load Model\n",
    "cnn = load_model('mnist_cnn.h5')\n",
    "# Evaluate Model on Test Set and Print Test Accuracy\n",
    "score = cnn.evaluate(x_test, y_test, verbose=0)\n",
    "print('Test accuracy: ', score[1])"
   ]
  },
  {
   "cell_type": "markdown",
   "metadata": {
    "id": "vpN6gFCxsFCs"
   },
   "source": [
    "## Counterfactual Explanation"
   ]
  },
  {
   "cell_type": "markdown",
   "metadata": {
    "id": "f2d4VBaOsQpV"
   },
   "source": [
    "### Define sample of interest"
   ]
  },
  {
   "cell_type": "code",
   "execution_count": null,
   "metadata": {
    "colab": {
     "base_uri": "https://localhost:8080/",
     "height": 430
    },
    "id": "SGqCrTtDlTKg",
    "outputId": "c1a42f54-dc2c-4754-eaac-9dd1166dd688"
   },
   "outputs": [],
   "source": [
    "X = x_test[1].reshape((1,) + x_test[1].shape)\n",
    "plt.imshow(X.reshape(28, 28));"
   ]
  },
  {
   "cell_type": "markdown",
   "metadata": {
    "id": "-qAE6WTssT6-"
   },
   "source": [
    "### Set parameters for counterfactual explainer\n",
    "\n",
    "* `target_proba`: This parameter specifies the desired probability of the target class in the generated counterfactual explanation. In this case, it's set to 1.0, meaning the desired probability of the target class is 100%.\n",
    "* `tol`: Tolerance. Threshold that indicates how close the probability of the target class in the generated counterfactual explanation needs to be to target_proba. Here, it's set to 0.01, meaning the probability of the target class should be within 1% of the desired probability.\n",
    "* `target_class`: Specifies the class for which the counterfactual explanation is generated. In this case, it's set to 'other', indicating that any class other than class 2 will work.\n",
    "* `max_iter`: Maximum number of iterations for the optimization algorithm. If the algorithm doesn't converge within this number of iterations, it stops.\n",
    "* `lam_init`: Initial value for the regularization parameter lambda used in the optimization algorithm. This parameter controls the trade-off between fidelity to the original input and sparsity of the counterfactual explanation.\n",
    "* `max_lam_steps`: Maximum number of steps for adjusting the regularization parameter lambda during optimization. If the optimization doesn't converge within these steps, it stops.\n",
    "* `learning_rate_init`: Initial learning rate for the optimization algorithm. This parameter controls the step size taken in the direction of the gradient during optimization.\n",
    "* `feature_range`: Specifies the range of values for the features of the input data. It's a tuple containing the minimum and maximum values observed in the training data x_train. This range is likely used to ensure that the generated counterfactual explanations are within reasonable bounds of the original data.\n",
    "\n"
   ]
  },
  {
   "cell_type": "code",
   "execution_count": null,
   "metadata": {
    "id": "Db6mZQqwlTrj"
   },
   "outputs": [],
   "source": [
    "shape = (1,) + x_train.shape[1:]\n",
    "target_proba = 1.0\n",
    "tol = 0.01\n",
    "target_class = 'other'\n",
    "max_iter = 1000\n",
    "lam_init = 1e-1\n",
    "max_lam_steps = 10\n",
    "learning_rate_init = 0.1\n",
    "feature_range = (x_train.min(),x_train.max())"
   ]
  },
  {
   "cell_type": "markdown",
   "metadata": {
    "id": "apyRMMrVsYB_"
   },
   "source": [
    "### Initialize the counterfactual explainer"
   ]
  },
  {
   "cell_type": "code",
   "execution_count": null,
   "metadata": {
    "colab": {
     "base_uri": "https://localhost:8080/"
    },
    "id": "_-in-tzElcLj",
    "outputId": "d807ce4a-bea0-4d58-cfb0-29dc4c1a2d96"
   },
   "outputs": [],
   "source": [
    "# initialize explainer\n",
    "cf = Counterfactual(cnn, shape=shape, target_proba=target_proba, tol=tol,\n",
    "                    target_class=target_class, max_iter=max_iter, lam_init=lam_init,\n",
    "                    max_lam_steps=max_lam_steps, learning_rate_init=learning_rate_init,\n",
    "                    feature_range=feature_range)\n",
    "\n",
    "explanation = cf.explain(X)"
   ]
  },
  {
   "cell_type": "markdown",
   "metadata": {
    "id": "4TidcY0ascKQ"
   },
   "source": [
    "### Show counterfactual"
   ]
  },
  {
   "cell_type": "code",
   "execution_count": null,
   "metadata": {
    "colab": {
     "base_uri": "https://localhost:8080/",
     "height": 448
    },
    "id": "9DKHJ9malc6Y",
    "outputId": "4ff7345e-70fa-460b-eed8-ca1dca842fac"
   },
   "outputs": [],
   "source": [
    "# Get the predicted class of the counterfactual example\n",
    "pred_class = explanation.cf['class']\n",
    "\n",
    "# Get the probability of the predicted class from the counterfactual explanation\n",
    "proba = explanation.cf['proba'][0][pred_class]\n",
    "\n",
    "# Print the predicted class and its probability\n",
    "print(f'Counterfactual prediction: {pred_class} with probability {proba}')\n",
    "\n",
    "# Display the counterfactual example image\n",
    "plt.imshow(explanation.cf['X'].reshape(28, 28));\n"
   ]
  },
  {
   "cell_type": "markdown",
   "metadata": {
    "id": "fxbRIEFSskjH"
   },
   "source": [
    "### Illustration of counterfactual evolution\n",
    "\n",
    "The evolution of the counterfactual during the iterations over λ:\n",
    "\n",
    "Typically, the first few iterations find counterfactuals that are out of distribution, while the later iterations make the counterfactual more sparse and interpretable."
   ]
  },
  {
   "cell_type": "code",
   "execution_count": null,
   "metadata": {
    "colab": {
     "base_uri": "https://localhost:8080/",
     "height": 158
    },
    "id": "V6yy91TrufUX",
    "outputId": "a179b993-d892-4b4a-e178-25173026ae48"
   },
   "outputs": [],
   "source": [
    "# Calculate the number of counterfactuals for each iteration in the range of max_lam_steps\n",
    "n_cfs = np.array([len(explanation.all[iter_cf]) for iter_cf in range(max_lam_steps)])\n",
    "\n",
    "# Initialize an empty dictionary to store examples with counterfactuals\n",
    "examples = {}\n",
    "\n",
    "# Loop through each iteration and count the number of counterfactuals\n",
    "for ix, n in enumerate(n_cfs):\n",
    "    if n > 0:  # Check if there are counterfactuals for this iteration\n",
    "        # Store the example details in the dictionary\n",
    "        examples[ix] = {\n",
    "            'ix': ix,  # Index of the iteration\n",
    "            'lambda': explanation.all[ix][0]['lambda'],  # Lambda value for the iteration\n",
    "            'X': explanation.all[ix][0]['X']  # Counterfactual example (image data)\n",
    "        }\n",
    "\n",
    "# Determine the layout for the subplot grid\n",
    "columns = len(examples) + 1  # Number of columns is one more than the number of examples\n",
    "rows = 1  # Only one row is needed\n",
    "\n",
    "# Create a figure with a specified size\n",
    "fig = plt.figure(figsize=(16, 6))\n",
    "\n",
    "# Loop through the examples to create subplots for each\n",
    "for i, key in enumerate(examples.keys()):\n",
    "    # Create a subplot for each example\n",
    "    ax = plt.subplot(rows, columns, i + 1)\n",
    "    # Hide the x and y axis labels\n",
    "    ax.get_xaxis().set_visible(False)\n",
    "    ax.get_yaxis().set_visible(False)\n",
    "    # Display the counterfactual example image\n",
    "    plt.imshow(examples[key]['X'].reshape(28, 28))\n",
    "    # Set the title of the subplot to indicate the iteration number\n",
    "    plt.title(f'Iteration: {key}')"
   ]
  },
  {
   "cell_type": "markdown",
   "metadata": {
    "id": "r1mV2W35s1s7"
   },
   "source": [
    "### Set target class for counterfactual"
   ]
  },
  {
   "cell_type": "code",
   "execution_count": null,
   "metadata": {
    "id": "Vvo8CH3nlmdZ"
   },
   "outputs": [],
   "source": [
    "# Set target class\n",
    "target_class = 6\n",
    "\n",
    "# initialize explainer\n",
    "cf = Counterfactual(cnn, shape=shape, target_proba=target_proba, tol=tol,\n",
    "                    target_class=target_class, max_iter=max_iter, lam_init=lam_init,\n",
    "                    max_lam_steps=max_lam_steps, learning_rate_init=learning_rate_init,\n",
    "                    feature_range=feature_range)\n",
    "\n",
    "explanation = cf.explain(X)"
   ]
  },
  {
   "cell_type": "code",
   "execution_count": null,
   "metadata": {
    "colab": {
     "base_uri": "https://localhost:8080/",
     "height": 448
    },
    "id": "nqPo4iGGvAOy",
    "outputId": "d8f92a81-88eb-40c6-881e-057728f2249f"
   },
   "outputs": [],
   "source": [
    "# Get the predicted class of the counterfactual example\n",
    "pred_class = explanation.cf['class']\n",
    "\n",
    "# Get the probability of the predicted class from the counterfactual explanation\n",
    "proba = explanation.cf['proba'][0][pred_class]\n",
    "\n",
    "# Print the predicted class and its probability\n",
    "print(f'Counterfactual prediction: {pred_class} with probability {proba}')\n",
    "\n",
    "# Display the counterfactual example image\n",
    "plt.imshow(explanation.cf['X'].reshape(28, 28));"
   ]
  },
  {
   "cell_type": "markdown",
   "metadata": {
    "id": "syvmc1gbs92B"
   },
   "source": [
    "### Plot the difference between the counterfactual and the original instance\n",
    "\n",
    "\n",
    "Sometimes it is more informative to look at the difference between our instance and the counterfactual. This often is more intuitive."
   ]
  },
  {
   "cell_type": "code",
   "execution_count": null,
   "metadata": {
    "colab": {
     "base_uri": "https://localhost:8080/",
     "height": 430
    },
    "id": "Bo5DXXK6lqas",
    "outputId": "f0a16090-3eef-4177-9aa8-2967b2df1898"
   },
   "outputs": [],
   "source": [
    "# Plot difference between X' and X\n",
    "plt.imshow((explanation.cf['X'] - X).reshape(28, 28));"
   ]
  },
  {
   "cell_type": "code",
   "execution_count": null,
   "metadata": {},
   "outputs": [],
   "source": []
  }
 ],
 "metadata": {
  "colab": {
   "provenance": [],
   "toc_visible": true
  },
  "kernelspec": {
   "display_name": "Python 3 (ipykernel)",
   "language": "python",
   "name": "python3"
  },
  "language_info": {
   "codemirror_mode": {
    "name": "ipython",
    "version": 3
   },
   "file_extension": ".py",
   "mimetype": "text/x-python",
   "name": "python",
   "nbconvert_exporter": "python",
   "pygments_lexer": "ipython3",
   "version": "3.10.6"
  }
 },
 "nbformat": 4,
 "nbformat_minor": 1
}
