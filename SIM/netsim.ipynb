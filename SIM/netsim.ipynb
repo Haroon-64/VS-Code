{
 "cells": [
  {
   "cell_type": "code",
   "execution_count": 1,
   "metadata": {},
   "outputs": [],
   "source": [
    "from ns import ns"
   ]
  },
  {
   "cell_type": "code",
   "execution_count": 3,
   "metadata": {},
   "outputs": [],
   "source": [
    "ns.core.LogComponentEnable(\"UdpEchoClientApplication\", ns.core.LOG_LEVEL_INFO)\n",
    "ns.core.LogComponentEnable(\"UdpEchoServerApplication\", ns.core.LOG_LEVEL_INFO)\n",
    "\n",
    "nodes = ns.network.NodeContainer()\n",
    "nodes.Create(2)"
   ]
  },
  {
   "cell_type": "code",
   "execution_count": 4,
   "metadata": {},
   "outputs": [],
   "source": [
    "# Create a point-to-point link\n",
    "pointToPoint = ns.point_to_point.PointToPointHelper()\n",
    "pointToPoint.SetDeviceAttribute(\"DataRate\", ns.core.StringValue(\"5Mbps\"))\n",
    "pointToPoint.SetChannelAttribute(\"Delay\", ns.core.StringValue(\"2ms\"))\n",
    "\n",
    "devices = pointToPoint.Install(nodes)\n",
    "\n",
    "stack = ns.internet.InternetStackHelper()\n",
    "stack.Install(nodes)"
   ]
  },
  {
   "cell_type": "code",
   "execution_count": 5,
   "metadata": {},
   "outputs": [],
   "source": [
    "# Assign IP addresses\n",
    "address = ns.internet.Ipv4AddressHelper()\n",
    "address.SetBase(ns.network.Ipv4Address(\"10.1.1.0\"),\n",
    "                ns.network.Ipv4Mask(\"255.255.255.0\"))\n",
    "\n",
    "interfaces = address.Assign(devices)\n",
    "\n",
    "echoServer = ns.applications.UdpEchoServerHelper(9)\n"
   ]
  },
  {
   "cell_type": "code",
   "execution_count": 6,
   "metadata": {},
   "outputs": [],
   "source": [
    "serverApps = echoServer.Install(nodes.Get(1))\n",
    "serverApps.Start(ns.core.Seconds(1.0))\n",
    "serverApps.Stop(ns.core.Seconds(10.0))\n",
    "\n",
    "address = interfaces.GetAddress(1).ConvertTo()\n",
    "echoClient = ns.applications.UdpEchoClientHelper(address, 9)\n",
    "echoClient.SetAttribute(\"MaxPackets\", ns.core.UintegerValue(1))\n",
    "echoClient.SetAttribute(\"Interval\", ns.core.TimeValue(ns.core.Seconds(1.0)))\n",
    "echoClient.SetAttribute(\"PacketSize\", ns.core.UintegerValue(1024))\n",
    "\n",
    "clientApps = echoClient.Install(nodes.Get(0))\n",
    "clientApps.Start(ns.core.Seconds(2.0))\n",
    "clientApps.Stop(ns.core.Seconds(10.0))"
   ]
  },
  {
   "cell_type": "code",
   "execution_count": 7,
   "metadata": {},
   "outputs": [
    {
     "name": "stderr",
     "output_type": "stream",
     "text": [
      "At time +2s client sent 1024 bytes to 10.1.1.2 port 9\n",
      "At time +2.00369s server received 1024 bytes from 10.1.1.1 port 49153\n",
      "At time +2.00369s server sent 1024 bytes to 10.1.1.1 port 49153\n",
      "At time +2.00737s client received 1024 bytes from 10.1.1.2 port 9\n"
     ]
    }
   ],
   "source": [
    "ns.core.Simulator.Run()\n",
    "ns.core.Simulator.Destroy()"
   ]
  },
  {
   "cell_type": "code",
   "execution_count": null,
   "metadata": {},
   "outputs": [],
   "source": [
    "# import ns.applications\n",
    "# import ns.core\n",
    "# import ns.internet\n",
    "# import ns.network\n",
    "\n",
    "# # Create a network simulator\n",
    "# simulator = ns.core.NodeContainer()\n",
    "# simulator.Create(2)\n",
    "\n",
    "# # Create nodes\n",
    "# node1 = simulator.Get(0)\n",
    "# node2 = simulator.Get(1)\n",
    "\n",
    "# # Create a point-to-point link\n",
    "# pointToPoint = ns.point_to_point.PointToPointHelper()\n",
    "# pointToPoint.SetDeviceAttribute(\"DataRate\", ns.core.StringValue(\"1Mbps\"))\n",
    "# pointToPoint.SetChannelAttribute(\"Delay\", ns.core.StringValue(\"10ms\"))\n",
    "\n",
    "# devices = pointToPoint.Install(simulator)\n",
    "\n",
    "# # Install internet stack on nodes\n",
    "# stack = ns.internet.InternetStackHelper()\n",
    "# stack.Install(simulator)\n",
    "\n",
    "# # Assign IP addresses\n",
    "# address = ns.internet.Ipv4AddressHelper()\n",
    "# address.SetBase(ns.network.Ipv4Address(\"10.1.1.0\"), ns.network.Ipv4Mask(\"255.255.255.0\"))\n",
    "\n",
    "# interfaces = address.Assign(devices)\n",
    "\n",
    "# # Create UDP sender and receiver\n",
    "# sender = ns.applications.OnOffHelper(\"ns3::UdpSocketFactory\", ns.network.Address(ns.network.InetSocketAddress(interfaces.GetAddress(1), 9)))\n",
    "# sender.SetAttribute(\"OnTime\", ns.core.StringValue(\"ns3::ConstantRandomVariable[Constant=1]\"))\n",
    "# sender.SetAttribute(\"OffTime\", ns.core.StringValue(\"ns3::ConstantRandomVariable[Constant=0]\"))\n",
    "\n",
    "# receiver = ns.applications.UdpEchoServerHelper(9)\n",
    "\n",
    "# apps = sender.Install(node1)\n",
    "# apps.Start(ns.core.Seconds(1.0))\n",
    "# apps.Stop(ns.core.Seconds(4.0))\n",
    "\n",
    "# apps = receiver.Install(node2)\n",
    "# apps.Start(ns.core.Seconds(0.0))\n",
    "# apps.Stop(ns.core.Seconds(5.0))\n",
    "\n",
    "# # Enable packet capturing\n",
    "# ns.internet.PacketSinkHelper(\"ns3::UdpSocketFactory\", ns.network.Address(ns.network.InetSocketAddress(ns.network.Ipv4Address.GetAny(), 9))).Install(node2)\n",
    "\n",
    "# # Configure tracing\n",
    "# ns.core.Config.SetDefault(\"ns3::Ipv4GlobalRouting::RespondToInterfaceEvents\", ns.core.BooleanValue(True))\n",
    "# ns.core.Config.SetDefault(\"ns3::Ipv4GlobalRouting::RandomEcmpRouting\", ns.core.BooleanValue(True))\n",
    "\n",
    "# # Run simulation\n",
    "# ns.core.Simulator.Stop(ns.core.Seconds(5.0))\n",
    "# ns.core.Simulator.Run()\n",
    "# ns.core.Simulator.Destroy()\n"
   ]
  }
 ],
 "metadata": {
  "kernelspec": {
   "display_name": "Python 3",
   "language": "python",
   "name": "python3"
  },
  "language_info": {
   "codemirror_mode": {
    "name": "ipython",
    "version": 3
   },
   "file_extension": ".py",
   "mimetype": "text/x-python",
   "name": "python",
   "nbconvert_exporter": "python",
   "pygments_lexer": "ipython3",
   "version": "3.10.12"
  }
 },
 "nbformat": 4,
 "nbformat_minor": 2
}
